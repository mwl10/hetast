{
  "nbformat": 4,
  "nbformat_minor": 0,
  "metadata": {
    "colab": {
      "name": "catalina_optuna.ipynb",
      "provenance": [],
      "machine_shape": "hm",
      "authorship_tag": "ABX9TyOyhwPP55DQTn8H7t0+Fvl1",
      "include_colab_link": true
    },
    "kernelspec": {
      "name": "python3",
      "display_name": "Python 3"
    },
    "language_info": {
      "name": "python"
    },
    "accelerator": "GPU",
    "gpuClass": "standard"
  },
  "cells": [
    {
      "cell_type": "markdown",
      "metadata": {
        "id": "view-in-github",
        "colab_type": "text"
      },
      "source": [
        "<a href=\"https://colab.research.google.com/github/mwl10/hetvae/blob/errors/src/catalina_optuna.ipynb\" target=\"_parent\"><img src=\"https://colab.research.google.com/assets/colab-badge.svg\" alt=\"Open In Colab\"/></a>"
      ]
    },
    {
      "cell_type": "code",
      "execution_count": 5,
      "metadata": {
        "id": "CLSc_lZ7IhyW",
        "colab": {
          "base_uri": "https://localhost:8080/"
        },
        "outputId": "f795fdea-ed2b-4080-a101-0b8c9d9b64cf"
      },
      "outputs": [
        {
          "output_type": "stream",
          "name": "stdout",
          "text": [
            "fatal: destination path 'hetvae' already exists and is not an empty directory.\n",
            "Looking in indexes: https://pypi.org/simple, https://us-python.pkg.dev/colab-wheels/public/simple/\n",
            "Requirement already satisfied: alembic==1.7.7 in /usr/local/lib/python3.7/dist-packages (from -r requirements.txt (line 1)) (1.7.7)\n",
            "Requirement already satisfied: attrs==21.4.0 in /usr/local/lib/python3.7/dist-packages (from -r requirements.txt (line 2)) (21.4.0)\n",
            "Requirement already satisfied: autopage==0.5.0 in /usr/local/lib/python3.7/dist-packages (from -r requirements.txt (line 3)) (0.5.0)\n",
            "Requirement already satisfied: backports.functools-lru-cache==1.6.4 in /usr/local/lib/python3.7/dist-packages (from -r requirements.txt (line 4)) (1.6.4)\n",
            "Requirement already satisfied: cliff==3.10.1 in /usr/local/lib/python3.7/dist-packages (from -r requirements.txt (line 5)) (3.10.1)\n",
            "Requirement already satisfied: cmaes==0.8.2 in /usr/local/lib/python3.7/dist-packages (from -r requirements.txt (line 6)) (0.8.2)\n",
            "Requirement already satisfied: cmd2==2.3.3 in /usr/local/lib/python3.7/dist-packages (from -r requirements.txt (line 7)) (2.3.3)\n",
            "Requirement already satisfied: colorama==0.4.4 in /usr/local/lib/python3.7/dist-packages (from -r requirements.txt (line 8)) (0.4.4)\n",
            "Requirement already satisfied: colorlog==6.6.0 in /usr/local/lib/python3.7/dist-packages (from -r requirements.txt (line 9)) (6.6.0)\n",
            "Requirement already satisfied: greenlet==1.1.2 in /usr/local/lib/python3.7/dist-packages (from -r requirements.txt (line 10)) (1.1.2)\n",
            "Requirement already satisfied: importlib-metadata==4.11.4 in /usr/local/lib/python3.7/dist-packages (from -r requirements.txt (line 11)) (4.11.4)\n",
            "Requirement already satisfied: importlib-resources==5.7.1 in /usr/local/lib/python3.7/dist-packages (from -r requirements.txt (line 12)) (5.7.1)\n",
            "Requirement already satisfied: Mako==1.2.0 in /usr/local/lib/python3.7/dist-packages (from -r requirements.txt (line 13)) (1.2.0)\n",
            "Requirement already satisfied: MarkupSafe==2.1.1 in /usr/local/lib/python3.7/dist-packages (from -r requirements.txt (line 14)) (2.1.1)\n",
            "Requirement already satisfied: numpy==1.21.0 in /usr/local/lib/python3.7/dist-packages (from -r requirements.txt (line 15)) (1.21.0)\n",
            "Requirement already satisfied: optuna==2.10.0 in /usr/local/lib/python3.7/dist-packages (from -r requirements.txt (line 16)) (2.10.0)\n",
            "Requirement already satisfied: packaging==21.3 in /usr/local/lib/python3.7/dist-packages (from -r requirements.txt (line 17)) (21.3)\n",
            "Requirement already satisfied: pbr==5.9.0 in /usr/local/lib/python3.7/dist-packages (from -r requirements.txt (line 18)) (5.9.0)\n",
            "Requirement already satisfied: pip==22.1.1 in /usr/local/lib/python3.7/dist-packages (from -r requirements.txt (line 19)) (22.1.1)\n",
            "Requirement already satisfied: prettytable==3.3.0 in /usr/local/lib/python3.7/dist-packages (from -r requirements.txt (line 20)) (3.3.0)\n",
            "Requirement already satisfied: pyparsing==3.0.9 in /usr/local/lib/python3.7/dist-packages (from -r requirements.txt (line 21)) (3.0.9)\n",
            "Requirement already satisfied: pyperclip==1.8.2 in /usr/local/lib/python3.7/dist-packages (from -r requirements.txt (line 22)) (1.8.2)\n",
            "Requirement already satisfied: PyYAML==6.0 in /usr/local/lib/python3.7/dist-packages (from -r requirements.txt (line 23)) (6.0)\n",
            "Requirement already satisfied: scipy==1.7.3 in /usr/local/lib/python3.7/dist-packages (from -r requirements.txt (line 24)) (1.7.3)\n",
            "Requirement already satisfied: setuptools==62.3.2 in /usr/local/lib/python3.7/dist-packages (from -r requirements.txt (line 25)) (62.3.2)\n",
            "Requirement already satisfied: SQLAlchemy==1.4.36 in /usr/local/lib/python3.7/dist-packages (from -r requirements.txt (line 26)) (1.4.36)\n",
            "Requirement already satisfied: stevedore==3.5.0 in /usr/local/lib/python3.7/dist-packages (from -r requirements.txt (line 27)) (3.5.0)\n",
            "Requirement already satisfied: tqdm==4.64.0 in /usr/local/lib/python3.7/dist-packages (from -r requirements.txt (line 28)) (4.64.0)\n",
            "Requirement already satisfied: wcwidth==0.2.5 in /usr/local/lib/python3.7/dist-packages (from -r requirements.txt (line 29)) (0.2.5)\n",
            "Requirement already satisfied: wheel==0.37.1 in /usr/local/lib/python3.7/dist-packages (from -r requirements.txt (line 30)) (0.37.1)\n",
            "Requirement already satisfied: zipp==3.8.0 in /usr/local/lib/python3.7/dist-packages (from -r requirements.txt (line 31)) (3.8.0)\n",
            "Requirement already satisfied: typing-extensions in /usr/local/lib/python3.7/dist-packages (from cmd2==2.3.3->-r requirements.txt (line 7)) (4.1.1)\n",
            "\u001b[33mWARNING: Running pip as the 'root' user can result in broken permissions and conflicting behaviour with the system package manager. It is recommended to use a virtual environment instead: https://pip.pypa.io/warnings/venv\u001b[0m\u001b[33m\n",
            "\u001b[0m"
          ]
        }
      ],
      "source": [
        "import os\n",
        "import shutil\n",
        "os.chdir('/content')\n",
        "! git clone --branch errors https://github.com/mwl10/hetvae\n",
        "os.chdir('/content/hetvae')\n",
        "! pip install -r requirements.txt\n",
        "os.chdir('/content/hetvae/src')\n",
        "import numpy as np\n",
        "import torch\n",
        "import optuna\n",
        "from optuna.trial import TrialState\n",
        "import torch.optim as optim\n",
        "import models\n",
        "from argparse import Namespace\n",
        "import torch.optim as optim\n",
        "import utils\n",
        "import my_utils\n",
        "import pandas as pd\n",
        "from glob import glob\n",
        "import importlib\n",
        "import vae_models\n",
        "import matplotlib.pyplot as plt\n",
        "import sys\n",
        "from dataset import DataSet\n",
        "%matplotlib inline"
      ]
    },
    {
      "cell_type": "code",
      "source": [
        "def define_model_args(trial):\n",
        "\n",
        "    args = Namespace(\n",
        "        batch_size = 8, #trial.suggest_categorical(\"batch_size\", [8,16,32]),\n",
        "        bound_variance = True,\n",
        "        const_var = False,\n",
        "        dataset='toy',\n",
        "        dropout = 0.3,#trial.suggest_float(\"dropout\", 0.0,0.5),\n",
        "        elbo_weight = 1,#trial.suggest_float(\"elbo_weight\", 0.0, 2.0),\n",
        "        embed_time = 32, #trial.suggest_categorical(\"embed_time\", [8,16,32,64]),\n",
        "        enc_num_heads=4,#trial.suggest_categorical(\"enc_num_heads\", [1,2,4,8]),\n",
        "        intensity=True,\n",
        "        k_iwae=1,\n",
        "        kl_annealing=False,#trial.suggest_categorical(\"kl_annealing\",False),\n",
        "        kl_zero=False, \n",
        "        latent_dim=32,#trial.suggest_categorical(\"latent_dim\", [8,16,32,64,128]),\n",
        "        lr=trial.suggest_float(\"lr\", 1e-7, 1e-1, log=True),\n",
        "        mixing=\"concat_and_mix\",#trial.suggest_categorical(\"mixing\", [\"concat\", \"concat_and_mix\"]),#\"separate\", \"interp_only\", \"na\"]),\n",
        "        mse_weight=4,#trial.suggest_float(\"mse_weight\",1,6),\n",
        "        #n=trial.suggest_categorical(\"n\", [8,16,32,64,128]),\n",
        "        net='hetvae', \n",
        "        niters=1000, \n",
        "        norm=True, \n",
        "        normalize_input='znorm', \n",
        "        num_ref_points=trial.suggest_categorical(\"num_ref_points\", [64]),\n",
        "        rec_hidden=32,#trial.suggest_categorical(\"rec_hidden\", [16,32,64]),\n",
        "        recon_loss=False, \n",
        "        sample_tp= 0.5,#trial.suggest_float(\"sample_tp\", 0.1,0.9), # will be ignored\n",
        "        save=False, \n",
        "        seed=0, \n",
        "        shuffle=True, \n",
        "        std=0.1, \n",
        "        var_per_dim=False, \n",
        "        width=128,#trial.suggest_categorical(\"width\", [32,64,128])\n",
        "    )\n",
        "\n",
        "    return args"
      ],
      "metadata": {
        "id": "wjY9HgEIIo0S"
      },
      "execution_count": 34,
      "outputs": []
    },
    {
      "cell_type": "code",
      "source": [
        "EPOCHS = 200\n",
        "FILES = glob('/content/hetvae/data/CAT/*/*')\n",
        "#FILES = glob('/content/hetvae/data/CAT/*/*')[:50]\n",
        "\n",
        "\n",
        "DIM = 1"
      ],
      "metadata": {
        "id": "O_WWnh_TOXrt"
      },
      "execution_count": 42,
      "outputs": []
    },
    {
      "cell_type": "code",
      "source": [
        "#------------------------------\n",
        "# AGN Preprocessing, we have a DF w/ OBJECT , FILTER, MJD, FLUX, ERROR\n",
        "#------------------------------\n",
        "\n",
        "agn_df = pd.read_csv('/content/hetvae/data/AGN_1H2106-099/1H2106-099_latest_lcs_pyroa.csv')\n",
        "# handle formatting for new AGN\n",
        "lcs = []\n",
        "for lc_df in agn_df.groupby('Filter'):\n",
        "    lc = lc_df[1][['MJD', 'Flux', 'Error']].to_numpy()\n",
        "    lcs.append(lc)\n",
        "# lcs[0] = lcs[0][lcs[0][:,0].argsort()]\n",
        "# lcs[0] = np.concatenate((lcs[0][:10], lcs[0][410:]))\n",
        "\n",
        "# lcs = [lcs[0], lcs[0]]\n",
        "AGN_1H2106 = DataSet()\n",
        "AGN_1H2106.dataset = lcs # skip add files part\n",
        "\n",
        "AGN_1H2106 = AGN_1H2106.handle_dups() \\\n",
        "                      .prune_graham() \\\n",
        "                      .normalize(normalize_y='individual', normalize_x='', x_by_range=False, y_by_range=False) \\\n",
        "                      .reorder() \\\n",
        "                      .set_union_x() \\\n",
        "                      .zero_fill() \\\n",
        "                      .error_to_sample_weight() \\\n",
        "                      .set_target_x()\n",
        "\n",
        "union_x = AGN_1H2106.union_x\n",
        "# lcs = [lcs[0], lcs[0]]\n",
        "AGN_1H2106 = DataSet()\n",
        "AGN_1H2106.dataset = lcs # skip add files part\n",
        "\n",
        "AGN_1H2106 = AGN_1H2106.handle_dups() \\\n",
        "                      .prune_graham(plot=True, index=3) \\\n",
        "                      .normalize(normalize_y='individual', normalize_x='', x_by_range=False, y_by_range=False) \\\n",
        "                      .reorder() \\\n",
        "                      .set_union_x() \\\n",
        "                      .zero_fill() \\\n",
        "                      .error_to_sample_weight() \\\n",
        "                      .set_target_x()\n",
        "\n",
        "AGN_1H2106.dataset = AGN_1H2106.dataset[3:4, :, :]\n"
      ],
      "metadata": {
        "id": "BDzmoJsqUP7B",
        "outputId": "bcfe2b06-33a1-454e-daf0-8b339e87279f",
        "colab": {
          "base_uri": "https://localhost:8080/",
          "height": 1000
        }
      },
      "execution_count": 36,
      "outputs": [
        {
          "output_type": "stream",
          "name": "stdout",
          "text": [
            "621\n",
            "0.5096901962886006\n",
            "585\n",
            "0.7238968017976714\n",
            "598\n",
            "0.6490217293408855\n",
            "82\n",
            "0.3811101800439146\n",
            "570\n",
            "0.7443010199958523\n",
            "created union_x attribute of length 2438\n",
            "zero fill all the examples up to the length of longest one given, dataset is also now a numpy array w shape: (5, 619, 3), instead of a list of numpy arrays\n",
            "619\n",
            "1.5159873681382836\n",
            "583\n",
            "1.4847727117884144\n",
            "598\n",
            "1.4190949857376904\n",
            "82\n",
            "1.4474996290568654\n",
            "566\n",
            "1.600833701603984\n",
            "created union_x attribute of length 2406\n",
            "zero fill all the examples up to the length of longest one given, dataset is also now a numpy array w shape: (5, 613, 3), instead of a list of numpy arrays\n"
          ]
        },
        {
          "output_type": "stream",
          "name": "stderr",
          "text": [
            "/usr/local/lib/python3.7/dist-packages/ipykernel_launcher.py:18: RankWarning:\n",
            "\n",
            "Polyfit may be poorly conditioned\n",
            "\n",
            "/usr/local/lib/python3.7/dist-packages/ipykernel_launcher.py:18: RankWarning:\n",
            "\n",
            "Polyfit may be poorly conditioned\n",
            "\n",
            "/usr/local/lib/python3.7/dist-packages/ipykernel_launcher.py:18: RankWarning:\n",
            "\n",
            "Polyfit may be poorly conditioned\n",
            "\n",
            "/usr/local/lib/python3.7/dist-packages/ipykernel_launcher.py:18: RankWarning:\n",
            "\n",
            "Polyfit may be poorly conditioned\n",
            "\n",
            "/usr/local/lib/python3.7/dist-packages/ipykernel_launcher.py:18: RankWarning:\n",
            "\n",
            "Polyfit may be poorly conditioned\n",
            "\n",
            "/content/hetvae/src/dataset.py:328: RuntimeWarning:\n",
            "\n",
            "divide by zero encountered in true_divide\n",
            "\n",
            "/content/hetvae/src/dataset.py:328: RuntimeWarning:\n",
            "\n",
            "divide by zero encountered in true_divide\n",
            "\n"
          ]
        },
        {
          "output_type": "display_data",
          "data": {
            "text/plain": [
              "<Figure size 432x288 with 1 Axes>"
            ],
            "image/png": "[encoded data removed]"
          },
          "metadata": {
            "needs_background": "light"
          }
        }
      ]
    },
    {
      "cell_type": "code",
      "source": [
        "def objective(trial):\n",
        "\n",
        "    args = define_model_args(trial)\n",
        "\n",
        "    seed = args.seed\n",
        "    torch.manual_seed(seed)\n",
        "    np.random.seed(seed)\n",
        "    torch.cuda.manual_seed(seed)\n",
        "    device = torch.device('cuda' if torch.cuda.is_available() else 'cpu')\n",
        "\n",
        "    # dataset hyperparams\n",
        "    num_samples=trial.suggest_int(\"num_samples\", 1,6)\n",
        "    # normalize choices for optuna\n",
        "    #x_by_range = trial.suggest_categorical(\"x_by_range\", [True, False])\n",
        "    #y_by_range = False #trial.suggest_categorical(\"y_by_range\", [True, False])\n",
        "    #normalize_y = trial.suggest_categorical(\"normalize_y\", [\"all\", \"individual\"])\n",
        "\n",
        "    # with suppress_stdout():\n",
        "        # AGN = DataSet().add_files(FILES).files_to_numpy().handle_dups().prune_graham().resample_dataset(num_samples=num_samples) \\\n",
        "        #     .normalize(y_by_range=y_by_range, x_by_range=x_by_range).set_union_x().zero_fill().make_masks(frac=args.sample_tp)\n",
        "        # AGN = DataSet()\n",
        "        # AGN.dataset = lcs\n",
        "        # AGN = AGN.handle_dups().prune_outliers().resample_dataset(num_samples=num_samples) \\\n",
        "        #      .normalize(y_by_range=y_by_range, x_by_range=x_by_range).set_union_x().zero_fill().make_masks(frac=args.sample_tp)\n",
        "\n",
        "\n",
        "\n",
        "    LightCurves = AGN_1H2106.dataset\n",
        "\n",
        "    training, valid = np.split(LightCurves, [int(np.floor(1*len(LightCurves)))])# shuffle?\n",
        "    \n",
        "    \n",
        "    train_loader = torch.utils.data.DataLoader(training, batch_size=args.batch_size)\n",
        "    valid_loader = torch.utils.data.DataLoader(valid, batch_size=args.batch_size)\n",
        "    \n",
        "    \n",
        "    net = models.load_network(args, DIM, torch.Tensor(union_x)) # , device=\"cuda\"\n",
        "    \n",
        "\n",
        "    optimizer_name = trial.suggest_categorical(\"optimizer\", [\"Adam\"])\n",
        "    optimizer = getattr(optim, optimizer_name)(net.parameters(), lr=args.lr)\n",
        "    frac = 0.4#trial.suggest_float(\"sample_tp\", 0.1,0.9)\n",
        "    step_size = trial.suggest_categorical(\"step_size\", [200,300,400,500])\n",
        "    gamma = trial.suggest_float(\"gamma\",0,1)\n",
        "    scheduler = torch.optim.lr_scheduler.StepLR(optimizer, gamma=gamma, step_size=step_size)\n",
        "    for epoch in range(EPOCHS):\n",
        "        nll_loss, mse = my_utils.train(net, optimizer, epoch, train_loader, args, device=device, frac=frac)\n",
        "        #nll_loss = my_utils.evaluate(net, valid_loader, device=device)\n",
        "        trial.report(nll_loss, epoch)\n",
        "        if trial.should_prune():\n",
        "            raise optuna.exceptions.TrialPruned()\n",
        "\n",
        "    return nll_loss"
      ],
      "metadata": {
        "id": "cKFtWI3nO1fY"
      },
      "execution_count": 40,
      "outputs": []
    },
    {
      "cell_type": "code",
      "source": [
        "study = optuna.create_study(direction=\"minimize\")"
      ],
      "metadata": {
        "colab": {
          "base_uri": "https://localhost:8080/"
        },
        "id": "1NVnB2L2PtWo",
        "outputId": "59e6c913-05ab-4ee4-9ac3-095a7ad45deb"
      },
      "execution_count": 41,
      "outputs": [
        {
          "output_type": "stream",
          "name": "stderr",
          "text": [
            "\u001b[32m[I 2022-06-18 17:19:38,226]\u001b[0m A new study created in memory with name: no-name-fb656849-bddb-46f1-8143-30f6d1547266\u001b[0m\n"
          ]
        }
      ]
    },
    {
      "cell_type": "code",
      "source": [
        "study.optimize(objective, n_trials=100, timeout=600)\n",
        "\n",
        "pruned_trials = study.get_trials(deepcopy=False, states=[TrialState.PRUNED])\n",
        "complete_trials = study.get_trials(deepcopy=False, states=[TrialState.COMPLETE])\n",
        "\n",
        "print(\"Study statistics: \")\n",
        "print(\"  Number of finished trials: \", len(study.trials))\n",
        "print(\"  Number of pruned trials: \", len(pruned_trials))\n",
        "print(\"  Number of complete trials: \", len(complete_trials))\n",
        "\n",
        "print(\"Best trial:\")\n",
        "trial = study.best_trial\n",
        "\n",
        "print(\"  Value: \", trial.value)\n",
        "\n",
        "print(\"  Params: \")\n",
        "for key, value in trial.params.items():\n",
        "    print(\"    {}: {}\".format(key, value))"
      ],
      "metadata": {
        "colab": {
          "base_uri": "https://localhost:8080/"
        },
        "id": "EvzSPWzXPuqB",
        "outputId": "98b31b3d-1f9b-40b0-e814-2f9bbcef47d2"
      },
      "execution_count": 43,
      "outputs": [
        {
          "output_type": "stream",
          "name": "stdout",
          "text": [
            "Iter: 0, train loss: 6.2311, avg nll: 1.6448, avg kl: 1.1575, mse: 1.117625, mae: 0.901958\n",
            "Iter: 100, train loss: 7630603096941068812288.0000, avg nll: 28.6859, avg kl: 43455097696509094789120.0000, mse: 821273331822539833344.000000, mae: 20778799104.000000\n"
          ]
        },
        {
          "output_type": "stream",
          "name": "stderr",
          "text": [
            "\u001b[32m[I 2022-06-18 17:19:57,701]\u001b[0m Trial 0 finished with value: 28.290420532226562 and parameters: {'lr': 0.03581213805122108, 'num_ref_points': 64, 'num_samples': 5, 'optimizer': 'Adam', 'step_size': 500, 'gamma': 0.736565043264766}. Best is trial 0 with value: 28.290420532226562.\u001b[0m\n"
          ]
        },
        {
          "output_type": "stream",
          "name": "stdout",
          "text": [
            "Iter: 0, train loss: 6.2311, avg nll: 1.6448, avg kl: 1.1575, mse: 1.117625, mae: 0.901958\n",
            "Iter: 100, train loss: 5.6842, avg nll: 1.4478, avg kl: 0.0326, mse: 1.058294, mae: 0.883380\n"
          ]
        },
        {
          "output_type": "stream",
          "name": "stderr",
          "text": [
            "\u001b[32m[I 2022-06-18 17:20:00,483]\u001b[0m Trial 1 finished with value: 1.3962156772613525 and parameters: {'lr': 0.0001947302144606955, 'num_ref_points': 64, 'num_samples': 2, 'optimizer': 'Adam', 'step_size': 400, 'gamma': 0.6946741755161243}. Best is trial 1 with value: 1.3962156772613525.\u001b[0m\n"
          ]
        },
        {
          "output_type": "stream",
          "name": "stdout",
          "text": [
            "Iter: 0, train loss: 6.2311, avg nll: 1.6448, avg kl: 1.1575, mse: 1.117625, mae: 0.901958\n",
            "Iter: 100, train loss: 5.7222, avg nll: 1.4596, avg kl: 0.2291, mse: 1.059937, mae: 0.884916\n"
          ]
        },
        {
          "output_type": "stream",
          "name": "stderr",
          "text": [
            "\u001b[32m[I 2022-06-18 17:20:03,289]\u001b[0m Trial 2 finished with value: 1.395848274230957 and parameters: {'lr': 8.687490916039268e-05, 'num_ref_points': 64, 'num_samples': 5, 'optimizer': 'Adam', 'step_size': 200, 'gamma': 0.6252380833467578}. Best is trial 2 with value: 1.395848274230957.\u001b[0m\n"
          ]
        },
        {
          "output_type": "stream",
          "name": "stdout",
          "text": [
            "Iter: 0, train loss: 6.2311, avg nll: 1.6448, avg kl: 1.1575, mse: 1.117625, mae: 0.901958\n",
            "Iter: 100, train loss: 5.8097, avg nll: 1.5116, avg kl: 0.5592, mse: 1.060559, mae: 0.885377\n"
          ]
        },
        {
          "output_type": "stream",
          "name": "stderr",
          "text": [
            "\u001b[32m[I 2022-06-18 17:20:06,330]\u001b[0m Trial 3 finished with value: 1.403290033340454 and parameters: {'lr': 3.522493798393125e-05, 'num_ref_points': 64, 'num_samples': 1, 'optimizer': 'Adam', 'step_size': 400, 'gamma': 0.3137070638782514}. Best is trial 2 with value: 1.395848274230957.\u001b[0m\n"
          ]
        },
        {
          "output_type": "stream",
          "name": "stdout",
          "text": [
            "Iter: 0, train loss: 6.2311, avg nll: 1.6448, avg kl: 1.1575, mse: 1.117625, mae: 0.901958\n",
            "Iter: 100, train loss: 5.9475, avg nll: 1.5948, avg kl: 1.1333, mse: 1.059844, mae: 0.884817\n"
          ]
        },
        {
          "output_type": "stream",
          "name": "stderr",
          "text": [
            "\u001b[32m[I 2022-06-18 17:20:09,059]\u001b[0m Trial 4 finished with value: 1.508107304573059 and parameters: {'lr': 2.041597962555303e-07, 'num_ref_points': 64, 'num_samples': 4, 'optimizer': 'Adam', 'step_size': 400, 'gamma': 0.4657942761064101}. Best is trial 2 with value: 1.395848274230957.\u001b[0m\n"
          ]
        },
        {
          "output_type": "stream",
          "name": "stdout",
          "text": [
            "Iter: 0, train loss: 6.2311, avg nll: 1.6448, avg kl: 1.1575, mse: 1.117625, mae: 0.901958\n",
            "Iter: 100, train loss: 2.0120, avg nll: 0.8988, avg kl: 0.1612, mse: 0.274256, mae: 0.437590\n"
          ]
        },
        {
          "output_type": "stream",
          "name": "stderr",
          "text": [
            "\u001b[32m[I 2022-06-18 17:20:11,931]\u001b[0m Trial 5 finished with value: 1.393331527709961 and parameters: {'lr': 0.008644732535820475, 'num_ref_points': 64, 'num_samples': 4, 'optimizer': 'Adam', 'step_size': 400, 'gamma': 0.2485428911027886}. Best is trial 5 with value: 1.393331527709961.\u001b[0m\n"
          ]
        },
        {
          "output_type": "stream",
          "name": "stdout",
          "text": [
            "Iter: 0, train loss: 6.2311, avg nll: 1.6448, avg kl: 1.1575, mse: 1.117625, mae: 0.901958\n"
          ]
        },
        {
          "output_type": "stream",
          "name": "stderr",
          "text": [
            "\u001b[32m[I 2022-06-18 17:20:12,333]\u001b[0m Trial 6 pruned. \u001b[0m\n",
            "\u001b[32m[I 2022-06-18 17:20:12,371]\u001b[0m Trial 7 pruned. \u001b[0m\n",
            "\u001b[32m[I 2022-06-18 17:20:12,407]\u001b[0m Trial 8 pruned. \u001b[0m\n",
            "\u001b[32m[I 2022-06-18 17:20:12,468]\u001b[0m Trial 9 pruned. \u001b[0m\n"
          ]
        },
        {
          "output_type": "stream",
          "name": "stdout",
          "text": [
            "Iter: 0, train loss: 6.2311, avg nll: 1.6448, avg kl: 1.1575, mse: 1.117625, mae: 0.901958\n",
            "Iter: 0, train loss: 6.2311, avg nll: 1.6448, avg kl: 1.1575, mse: 1.117625, mae: 0.901958\n",
            "Iter: 0, train loss: 6.2311, avg nll: 1.6448, avg kl: 1.1575, mse: 1.117625, mae: 0.901958\n",
            "Iter: 0, train loss: 6.2311, avg nll: 1.6448, avg kl: 1.1575, mse: 1.117625, mae: 0.901958\n",
            "Iter: 100, train loss: 5.6817, avg nll: 1.4485, avg kl: 0.0053, mse: 1.058169, mae: 0.882986\n"
          ]
        },
        {
          "output_type": "stream",
          "name": "stderr",
          "text": [
            "\u001b[32m[I 2022-06-18 17:20:14,456]\u001b[0m Trial 10 pruned. \u001b[0m\n",
            "\u001b[32m[I 2022-06-18 17:20:14,504]\u001b[0m Trial 11 pruned. \u001b[0m\n"
          ]
        },
        {
          "output_type": "stream",
          "name": "stdout",
          "text": [
            "Iter: 0, train loss: 6.2311, avg nll: 1.6448, avg kl: 1.1575, mse: 1.117625, mae: 0.901958\n",
            "Iter: 0, train loss: 6.2311, avg nll: 1.6448, avg kl: 1.1575, mse: 1.117625, mae: 0.901958\n",
            "Iter: 100, train loss: 5.6814, avg nll: 1.4474, avg kl: 0.0173, mse: 1.058075, mae: 0.883202\n"
          ]
        },
        {
          "output_type": "stream",
          "name": "stderr",
          "text": [
            "\u001b[32m[I 2022-06-18 17:20:16,492]\u001b[0m Trial 12 pruned. \u001b[0m\n",
            "\u001b[32m[I 2022-06-18 17:20:16,540]\u001b[0m Trial 13 pruned. \u001b[0m\n",
            "\u001b[32m[I 2022-06-18 17:20:16,587]\u001b[0m Trial 14 pruned. \u001b[0m\n"
          ]
        },
        {
          "output_type": "stream",
          "name": "stdout",
          "text": [
            "Iter: 0, train loss: 6.2311, avg nll: 1.6448, avg kl: 1.1575, mse: 1.117625, mae: 0.901958\n",
            "Iter: 0, train loss: 6.2311, avg nll: 1.6448, avg kl: 1.1575, mse: 1.117625, mae: 0.901958\n",
            "Iter: 0, train loss: 6.2311, avg nll: 1.6448, avg kl: 1.1575, mse: 1.117625, mae: 0.901958\n",
            "Iter: 100, train loss: 5.6798, avg nll: 1.4478, avg kl: 0.0057, mse: 1.057850, mae: 0.883206\n"
          ]
        },
        {
          "output_type": "stream",
          "name": "stderr",
          "text": [
            "\u001b[32m[I 2022-06-18 17:20:18,590]\u001b[0m Trial 15 pruned. \u001b[0m\n",
            "\u001b[32m[I 2022-06-18 17:20:18,636]\u001b[0m Trial 16 pruned. \u001b[0m\n"
          ]
        },
        {
          "output_type": "stream",
          "name": "stdout",
          "text": [
            "Iter: 0, train loss: 6.2311, avg nll: 1.6448, avg kl: 1.1575, mse: 1.117625, mae: 0.901958\n",
            "Iter: 0, train loss: 6.2311, avg nll: 1.6448, avg kl: 1.1575, mse: 1.117625, mae: 0.901958\n",
            "Iter: 100, train loss: 5.6775, avg nll: 1.4474, avg kl: 0.0118, mse: 1.057224, mae: 0.880858\n"
          ]
        },
        {
          "output_type": "stream",
          "name": "stderr",
          "text": [
            "\u001b[32m[I 2022-06-18 17:20:20,441]\u001b[0m Trial 17 pruned. \u001b[0m\n",
            "\u001b[32m[I 2022-06-18 17:20:20,487]\u001b[0m Trial 18 pruned. \u001b[0m\n"
          ]
        },
        {
          "output_type": "stream",
          "name": "stdout",
          "text": [
            "Iter: 0, train loss: 6.2311, avg nll: 1.6448, avg kl: 1.1575, mse: 1.117625, mae: 0.901958\n",
            "Iter: 0, train loss: 6.2311, avg nll: 1.6448, avg kl: 1.1575, mse: 1.117625, mae: 0.901958\n",
            "Iter: 100, train loss: 5.7334, avg nll: 1.4655, avg kl: 0.2735, mse: 1.060125, mae: 0.885063\n"
          ]
        },
        {
          "output_type": "stream",
          "name": "stderr",
          "text": [
            "\u001b[32m[I 2022-06-18 17:20:23,320]\u001b[0m Trial 19 finished with value: 1.3954721689224243 and parameters: {'lr': 7.639951337788389e-05, 'num_ref_points': 64, 'num_samples': 4, 'optimizer': 'Adam', 'step_size': 400, 'gamma': 0.17327120762691411}. Best is trial 5 with value: 1.393331527709961.\u001b[0m\n"
          ]
        },
        {
          "output_type": "stream",
          "name": "stdout",
          "text": [
            "Iter: 0, train loss: 6.2311, avg nll: 1.6448, avg kl: 1.1575, mse: 1.117625, mae: 0.901958\n",
            "Iter: 100, train loss: 4.4036, avg nll: 1.3116, avg kl: 0.0889, mse: 0.770780, mae: 0.723641\n"
          ]
        },
        {
          "output_type": "stream",
          "name": "stderr",
          "text": [
            "\u001b[32m[I 2022-06-18 17:20:26,128]\u001b[0m Trial 20 finished with value: 1.1333051919937134 and parameters: {'lr': 0.0068004379751207674, 'num_ref_points': 64, 'num_samples': 2, 'optimizer': 'Adam', 'step_size': 400, 'gamma': 0.19354687990555275}. Best is trial 20 with value: 1.1333051919937134.\u001b[0m\n"
          ]
        },
        {
          "output_type": "stream",
          "name": "stdout",
          "text": [
            "Iter: 0, train loss: 6.2311, avg nll: 1.6448, avg kl: 1.1575, mse: 1.117625, mae: 0.901958\n",
            "Iter: 100, train loss: 5.7005, avg nll: 1.4486, avg kl: 0.0664, mse: 1.061301, mae: 0.880220\n"
          ]
        },
        {
          "output_type": "stream",
          "name": "stderr",
          "text": [
            "\u001b[32m[I 2022-06-18 17:20:28,923]\u001b[0m Trial 21 finished with value: 0.48337844014167786 and parameters: {'lr': 0.0053719722486693005, 'num_ref_points': 64, 'num_samples': 2, 'optimizer': 'Adam', 'step_size': 400, 'gamma': 0.2034662137941385}. Best is trial 21 with value: 0.48337844014167786.\u001b[0m\n"
          ]
        },
        {
          "output_type": "stream",
          "name": "stdout",
          "text": [
            "Iter: 0, train loss: 6.2311, avg nll: 1.6448, avg kl: 1.1575, mse: 1.117625, mae: 0.901958\n",
            "Iter: 100, train loss: 1.4500, avg nll: 0.7244, avg kl: 0.1858, mse: 0.176758, mae: 0.342746\n"
          ]
        },
        {
          "output_type": "stream",
          "name": "stderr",
          "text": [
            "\u001b[32m[I 2022-06-18 17:20:31,816]\u001b[0m Trial 22 finished with value: 0.1923220306634903 and parameters: {'lr': 0.006046054929901669, 'num_ref_points': 64, 'num_samples': 2, 'optimizer': 'Adam', 'step_size': 400, 'gamma': 0.21908408512181488}. Best is trial 22 with value: 0.1923220306634903.\u001b[0m\n"
          ]
        },
        {
          "output_type": "stream",
          "name": "stdout",
          "text": [
            "Iter: 0, train loss: 6.2311, avg nll: 1.6448, avg kl: 1.1575, mse: 1.117625, mae: 0.901958\n"
          ]
        },
        {
          "output_type": "stream",
          "name": "stderr",
          "text": [
            "\u001b[32m[I 2022-06-18 17:20:32,233]\u001b[0m Trial 23 pruned. \u001b[0m\n",
            "\u001b[32m[I 2022-06-18 17:20:32,285]\u001b[0m Trial 24 pruned. \u001b[0m\n"
          ]
        },
        {
          "output_type": "stream",
          "name": "stdout",
          "text": [
            "Iter: 0, train loss: 6.2311, avg nll: 1.6448, avg kl: 1.1575, mse: 1.117625, mae: 0.901958\n",
            "Iter: 0, train loss: 6.2311, avg nll: 1.6448, avg kl: 1.1575, mse: 1.117625, mae: 0.901958\n",
            "Iter: 100, train loss: 5.6857, avg nll: 1.4516, avg kl: 0.0054, mse: 1.058389, mae: 0.883707\n"
          ]
        },
        {
          "output_type": "stream",
          "name": "stderr",
          "text": [
            "\u001b[32m[I 2022-06-18 17:20:34,108]\u001b[0m Trial 25 pruned. \u001b[0m\n"
          ]
        },
        {
          "output_type": "stream",
          "name": "stdout",
          "text": [
            "Iter: 0, train loss: 6.2311, avg nll: 1.6448, avg kl: 1.1575, mse: 1.117625, mae: 0.901958\n",
            "Iter: 100, train loss: 5.6777, avg nll: 1.4470, avg kl: 0.0144, mse: 1.057316, mae: 0.880010\n"
          ]
        },
        {
          "output_type": "stream",
          "name": "stderr",
          "text": [
            "\u001b[32m[I 2022-06-18 17:20:35,941]\u001b[0m Trial 26 pruned. \u001b[0m\n"
          ]
        },
        {
          "output_type": "stream",
          "name": "stdout",
          "text": [
            "Iter: 0, train loss: 6.2311, avg nll: 1.6448, avg kl: 1.1575, mse: 1.117625, mae: 0.901958\n",
            "Iter: 100, train loss: 6.4125, avg nll: 1.7102, avg kl: 0.3490, mse: 1.166832, mae: 0.866850\n"
          ]
        },
        {
          "output_type": "stream",
          "name": "stderr",
          "text": [
            "\u001b[32m[I 2022-06-18 17:20:38,785]\u001b[0m Trial 27 finished with value: 1.4732799530029297 and parameters: {'lr': 0.010132072531292169, 'num_ref_points': 64, 'num_samples': 1, 'optimizer': 'Adam', 'step_size': 400, 'gamma': 0.39575632262567056}. Best is trial 22 with value: 0.1923220306634903.\u001b[0m\n"
          ]
        },
        {
          "output_type": "stream",
          "name": "stdout",
          "text": [
            "Iter: 0, train loss: 6.2311, avg nll: 1.6448, avg kl: 1.1575, mse: 1.117625, mae: 0.901958\n"
          ]
        },
        {
          "output_type": "stream",
          "name": "stderr",
          "text": [
            "\u001b[32m[I 2022-06-18 17:20:39,191]\u001b[0m Trial 28 pruned. \u001b[0m\n",
            "\u001b[32m[I 2022-06-18 17:20:39,241]\u001b[0m Trial 29 pruned. \u001b[0m\n"
          ]
        },
        {
          "output_type": "stream",
          "name": "stdout",
          "text": [
            "Iter: 0, train loss: 6.2311, avg nll: 1.6448, avg kl: 1.1575, mse: 1.117625, mae: 0.901958\n",
            "Iter: 0, train loss: 6.2311, avg nll: 1.6448, avg kl: 1.1575, mse: 1.117625, mae: 0.901958\n",
            "Iter: 100, train loss: 5.6800, avg nll: 1.4472, avg kl: 0.0139, mse: 1.057834, mae: 0.882891\n"
          ]
        },
        {
          "output_type": "stream",
          "name": "stderr",
          "text": [
            "\u001b[32m[I 2022-06-18 17:20:41,240]\u001b[0m Trial 30 pruned. \u001b[0m\n"
          ]
        },
        {
          "output_type": "stream",
          "name": "stdout",
          "text": [
            "Iter: 0, train loss: 6.2311, avg nll: 1.6448, avg kl: 1.1575, mse: 1.117625, mae: 0.901958\n",
            "Iter: 100, train loss: 5.5852, avg nll: 1.4494, avg kl: 0.2269, mse: 1.028257, mae: 0.866008\n"
          ]
        },
        {
          "output_type": "stream",
          "name": "stderr",
          "text": [
            "\u001b[32m[I 2022-06-18 17:20:44,063]\u001b[0m Trial 31 finished with value: 1.3974512815475464 and parameters: {'lr': 0.010277861630357578, 'num_ref_points': 64, 'num_samples': 2, 'optimizer': 'Adam', 'step_size': 400, 'gamma': 0.2259394013268459}. Best is trial 22 with value: 0.1923220306634903.\u001b[0m\n"
          ]
        },
        {
          "output_type": "stream",
          "name": "stdout",
          "text": [
            "Iter: 0, train loss: 6.2311, avg nll: 1.6448, avg kl: 1.1575, mse: 1.117625, mae: 0.901958\n"
          ]
        },
        {
          "output_type": "stream",
          "name": "stderr",
          "text": [
            "\u001b[32m[I 2022-06-18 17:20:44,472]\u001b[0m Trial 32 pruned. \u001b[0m\n",
            "\u001b[32m[I 2022-06-18 17:20:44,521]\u001b[0m Trial 33 pruned. \u001b[0m\n"
          ]
        },
        {
          "output_type": "stream",
          "name": "stdout",
          "text": [
            "Iter: 0, train loss: 6.2311, avg nll: 1.6448, avg kl: 1.1575, mse: 1.117625, mae: 0.901958\n",
            "Iter: 0, train loss: 6.2311, avg nll: 1.6448, avg kl: 1.1575, mse: 1.117625, mae: 0.901958\n",
            "Iter: 100, train loss: 3.6108, avg nll: 1.1704, avg kl: 0.6549, mse: 0.593724, mae: 0.592470\n"
          ]
        },
        {
          "output_type": "stream",
          "name": "stderr",
          "text": [
            "\u001b[32m[I 2022-06-18 17:20:47,335]\u001b[0m Trial 34 finished with value: 0.12629744410514832 and parameters: {'lr': 0.006572758547163779, 'num_ref_points': 64, 'num_samples': 1, 'optimizer': 'Adam', 'step_size': 400, 'gamma': 0.2916186909269053}. Best is trial 34 with value: 0.12629744410514832.\u001b[0m\n",
            "\u001b[32m[I 2022-06-18 17:20:47,385]\u001b[0m Trial 35 pruned. \u001b[0m\n"
          ]
        },
        {
          "output_type": "stream",
          "name": "stdout",
          "text": [
            "Iter: 0, train loss: 6.2311, avg nll: 1.6448, avg kl: 1.1575, mse: 1.117625, mae: 0.901958\n",
            "Iter: 0, train loss: 6.2311, avg nll: 1.6448, avg kl: 1.1575, mse: 1.117625, mae: 0.901958\n"
          ]
        },
        {
          "output_type": "stream",
          "name": "stderr",
          "text": [
            "\u001b[32m[I 2022-06-18 17:20:47,802]\u001b[0m Trial 36 pruned. \u001b[0m\n",
            "\u001b[32m[I 2022-06-18 17:20:47,849]\u001b[0m Trial 37 pruned. \u001b[0m\n",
            "\u001b[32m[I 2022-06-18 17:20:47,898]\u001b[0m Trial 38 pruned. \u001b[0m\n",
            "\u001b[32m[I 2022-06-18 17:20:47,945]\u001b[0m Trial 39 pruned. \u001b[0m\n",
            "\u001b[32m[I 2022-06-18 17:20:47,993]\u001b[0m Trial 40 pruned. \u001b[0m\n"
          ]
        },
        {
          "output_type": "stream",
          "name": "stdout",
          "text": [
            "Iter: 0, train loss: 6.2311, avg nll: 1.6448, avg kl: 1.1575, mse: 1.117625, mae: 0.901958\n",
            "Iter: 0, train loss: 6.2311, avg nll: 1.6448, avg kl: 1.1575, mse: 1.117625, mae: 0.901958\n",
            "Iter: 0, train loss: 6.2311, avg nll: 1.6448, avg kl: 1.1575, mse: 1.117625, mae: 0.901958\n",
            "Iter: 0, train loss: 6.2311, avg nll: 1.6448, avg kl: 1.1575, mse: 1.117625, mae: 0.901958\n",
            "Iter: 0, train loss: 6.2311, avg nll: 1.6448, avg kl: 1.1575, mse: 1.117625, mae: 0.901958\n",
            "Iter: 100, train loss: 4.6979, avg nll: 1.3454, avg kl: 0.1776, mse: 0.833666, mae: 0.784161\n"
          ]
        },
        {
          "output_type": "stream",
          "name": "stderr",
          "text": [
            "\u001b[32m[I 2022-06-18 17:20:50,812]\u001b[0m Trial 41 finished with value: 0.8987886309623718 and parameters: {'lr': 0.007218805713779099, 'num_ref_points': 64, 'num_samples': 4, 'optimizer': 'Adam', 'step_size': 400, 'gamma': 0.28952968977137156}. Best is trial 34 with value: 0.12629744410514832.\u001b[0m\n",
            "\u001b[32m[I 2022-06-18 17:20:50,863]\u001b[0m Trial 42 pruned. \u001b[0m\n"
          ]
        },
        {
          "output_type": "stream",
          "name": "stdout",
          "text": [
            "Iter: 0, train loss: 6.2311, avg nll: 1.6448, avg kl: 1.1575, mse: 1.117625, mae: 0.901958\n",
            "Iter: 0, train loss: 6.2311, avg nll: 1.6448, avg kl: 1.1575, mse: 1.117625, mae: 0.901958\n"
          ]
        },
        {
          "output_type": "stream",
          "name": "stderr",
          "text": [
            "\u001b[32m[I 2022-06-18 17:20:51,269]\u001b[0m Trial 43 pruned. \u001b[0m\n",
            "\u001b[32m[I 2022-06-18 17:20:51,319]\u001b[0m Trial 44 pruned. \u001b[0m\n",
            "\u001b[32m[I 2022-06-18 17:20:51,368]\u001b[0m Trial 45 pruned. \u001b[0m\n",
            "\u001b[32m[I 2022-06-18 17:20:51,418]\u001b[0m Trial 46 pruned. \u001b[0m\n",
            "\u001b[32m[I 2022-06-18 17:20:51,467]\u001b[0m Trial 47 pruned. \u001b[0m\n"
          ]
        },
        {
          "output_type": "stream",
          "name": "stdout",
          "text": [
            "Iter: 0, train loss: 6.2311, avg nll: 1.6448, avg kl: 1.1575, mse: 1.117625, mae: 0.901958\n",
            "Iter: 0, train loss: 6.2311, avg nll: 1.6448, avg kl: 1.1575, mse: 1.117625, mae: 0.901958\n",
            "Iter: 0, train loss: 6.2311, avg nll: 1.6448, avg kl: 1.1575, mse: 1.117625, mae: 0.901958\n",
            "Iter: 0, train loss: 6.2311, avg nll: 1.6448, avg kl: 1.1575, mse: 1.117625, mae: 0.901958\n",
            "Iter: 0, train loss: 6.2311, avg nll: 1.6448, avg kl: 1.1575, mse: 1.117625, mae: 0.901958\n"
          ]
        },
        {
          "output_type": "stream",
          "name": "stderr",
          "text": [
            "\u001b[32m[I 2022-06-18 17:20:51,517]\u001b[0m Trial 48 pruned. \u001b[0m\n",
            "\u001b[32m[I 2022-06-18 17:20:51,567]\u001b[0m Trial 49 pruned. \u001b[0m\n",
            "\u001b[32m[I 2022-06-18 17:20:51,614]\u001b[0m Trial 50 pruned. \u001b[0m\n"
          ]
        },
        {
          "output_type": "stream",
          "name": "stdout",
          "text": [
            "Iter: 0, train loss: 6.2311, avg nll: 1.6448, avg kl: 1.1575, mse: 1.117625, mae: 0.901958\n",
            "Iter: 0, train loss: 6.2311, avg nll: 1.6448, avg kl: 1.1575, mse: 1.117625, mae: 0.901958\n",
            "Iter: 0, train loss: 6.2311, avg nll: 1.6448, avg kl: 1.1575, mse: 1.117625, mae: 0.901958\n",
            "Iter: 100, train loss: 5.5567, avg nll: 1.4165, avg kl: 0.0447, mse: 1.033935, mae: 0.843757\n"
          ]
        },
        {
          "output_type": "stream",
          "name": "stderr",
          "text": [
            "\u001b[32m[I 2022-06-18 17:20:54,441]\u001b[0m Trial 51 finished with value: 1.161017656326294 and parameters: {'lr': 0.007364500063651493, 'num_ref_points': 64, 'num_samples': 5, 'optimizer': 'Adam', 'step_size': 400, 'gamma': 0.25796659695344387}. Best is trial 34 with value: 0.12629744410514832.\u001b[0m\n"
          ]
        },
        {
          "output_type": "stream",
          "name": "stdout",
          "text": [
            "Iter: 0, train loss: 6.2311, avg nll: 1.6448, avg kl: 1.1575, mse: 1.117625, mae: 0.901958\n",
            "Iter: 100, train loss: 5.0213, avg nll: 1.4929, avg kl: 0.1098, mse: 0.879356, mae: 0.767910\n"
          ]
        },
        {
          "output_type": "stream",
          "name": "stderr",
          "text": [
            "\u001b[32m[I 2022-06-18 17:20:57,268]\u001b[0m Trial 52 finished with value: 1.1625545024871826 and parameters: {'lr': 0.00693046555749327, 'num_ref_points': 64, 'num_samples': 5, 'optimizer': 'Adam', 'step_size': 400, 'gamma': 0.06772067624335662}. Best is trial 34 with value: 0.12629744410514832.\u001b[0m\n",
            "\u001b[32m[I 2022-06-18 17:20:57,316]\u001b[0m Trial 53 pruned. \u001b[0m\n",
            "\u001b[32m[I 2022-06-18 17:20:57,365]\u001b[0m Trial 54 pruned. \u001b[0m\n",
            "\u001b[32m[I 2022-06-18 17:20:57,413]\u001b[0m Trial 55 pruned. \u001b[0m\n",
            "\u001b[32m[I 2022-06-18 17:20:57,460]\u001b[0m Trial 56 pruned. \u001b[0m\n"
          ]
        },
        {
          "output_type": "stream",
          "name": "stdout",
          "text": [
            "Iter: 0, train loss: 6.2311, avg nll: 1.6448, avg kl: 1.1575, mse: 1.117625, mae: 0.901958\n",
            "Iter: 0, train loss: 6.2311, avg nll: 1.6448, avg kl: 1.1575, mse: 1.117625, mae: 0.901958\n",
            "Iter: 0, train loss: 6.2311, avg nll: 1.6448, avg kl: 1.1575, mse: 1.117625, mae: 0.901958\n",
            "Iter: 0, train loss: 6.2311, avg nll: 1.6448, avg kl: 1.1575, mse: 1.117625, mae: 0.901958\n",
            "Iter: 0, train loss: 6.2311, avg nll: 1.6448, avg kl: 1.1575, mse: 1.117625, mae: 0.901958\n"
          ]
        },
        {
          "output_type": "stream",
          "name": "stderr",
          "text": [
            "\u001b[32m[I 2022-06-18 17:20:57,510]\u001b[0m Trial 57 pruned. \u001b[0m\n",
            "\u001b[32m[I 2022-06-18 17:20:57,558]\u001b[0m Trial 58 pruned. \u001b[0m\n",
            "\u001b[32m[I 2022-06-18 17:20:57,608]\u001b[0m Trial 59 pruned. \u001b[0m\n",
            "\u001b[32m[I 2022-06-18 17:20:57,655]\u001b[0m Trial 60 pruned. \u001b[0m\n"
          ]
        },
        {
          "output_type": "stream",
          "name": "stdout",
          "text": [
            "Iter: 0, train loss: 6.2311, avg nll: 1.6448, avg kl: 1.1575, mse: 1.117625, mae: 0.901958\n",
            "Iter: 0, train loss: 6.2311, avg nll: 1.6448, avg kl: 1.1575, mse: 1.117625, mae: 0.901958\n",
            "Iter: 0, train loss: 6.2311, avg nll: 1.6448, avg kl: 1.1575, mse: 1.117625, mae: 0.901958\n",
            "Iter: 0, train loss: 6.2311, avg nll: 1.6448, avg kl: 1.1575, mse: 1.117625, mae: 0.901958\n"
          ]
        },
        {
          "output_type": "stream",
          "name": "stderr",
          "text": [
            "\u001b[32m[I 2022-06-18 17:20:58,064]\u001b[0m Trial 61 pruned. \u001b[0m\n"
          ]
        },
        {
          "output_type": "stream",
          "name": "stdout",
          "text": [
            "Iter: 0, train loss: 6.2311, avg nll: 1.6448, avg kl: 1.1575, mse: 1.117625, mae: 0.901958\n",
            "Iter: 100, train loss: 5.6934, avg nll: 1.4515, avg kl: 0.0259, mse: 1.059819, mae: 0.881905\n"
          ]
        },
        {
          "output_type": "stream",
          "name": "stderr",
          "text": [
            "\u001b[32m[I 2022-06-18 17:21:00,994]\u001b[0m Trial 62 finished with value: 1.4051718711853027 and parameters: {'lr': 0.007416694547656505, 'num_ref_points': 64, 'num_samples': 6, 'optimizer': 'Adam', 'step_size': 400, 'gamma': 0.042211023836717876}. Best is trial 34 with value: 0.12629744410514832.\u001b[0m\n",
            "\u001b[32m[I 2022-06-18 17:21:01,047]\u001b[0m Trial 63 pruned. \u001b[0m\n",
            "\u001b[32m[I 2022-06-18 17:21:01,139]\u001b[0m Trial 64 pruned. \u001b[0m\n",
            "\u001b[32m[I 2022-06-18 17:21:01,187]\u001b[0m Trial 65 pruned. \u001b[0m\n"
          ]
        },
        {
          "output_type": "stream",
          "name": "stdout",
          "text": [
            "Iter: 0, train loss: 6.2311, avg nll: 1.6448, avg kl: 1.1575, mse: 1.117625, mae: 0.901958\n",
            "Iter: 0, train loss: 6.2311, avg nll: 1.6448, avg kl: 1.1575, mse: 1.117625, mae: 0.901958\n",
            "Iter: 0, train loss: 6.2311, avg nll: 1.6448, avg kl: 1.1575, mse: 1.117625, mae: 0.901958\n",
            "Iter: 0, train loss: 6.2311, avg nll: 1.6448, avg kl: 1.1575, mse: 1.117625, mae: 0.901958\n"
          ]
        },
        {
          "output_type": "stream",
          "name": "stderr",
          "text": [
            "\u001b[32m[I 2022-06-18 17:21:01,239]\u001b[0m Trial 66 pruned. \u001b[0m\n",
            "\u001b[32m[I 2022-06-18 17:21:01,288]\u001b[0m Trial 67 pruned. \u001b[0m\n",
            "\u001b[32m[I 2022-06-18 17:21:01,339]\u001b[0m Trial 68 pruned. \u001b[0m\n",
            "\u001b[32m[I 2022-06-18 17:21:01,388]\u001b[0m Trial 69 pruned. \u001b[0m\n",
            "\u001b[32m[I 2022-06-18 17:21:01,439]\u001b[0m Trial 70 pruned. \u001b[0m\n"
          ]
        },
        {
          "output_type": "stream",
          "name": "stdout",
          "text": [
            "Iter: 0, train loss: 6.2311, avg nll: 1.6448, avg kl: 1.1575, mse: 1.117625, mae: 0.901958\n",
            "Iter: 0, train loss: 6.2311, avg nll: 1.6448, avg kl: 1.1575, mse: 1.117625, mae: 0.901958\n",
            "Iter: 0, train loss: 6.2311, avg nll: 1.6448, avg kl: 1.1575, mse: 1.117625, mae: 0.901958\n",
            "Iter: 0, train loss: 6.2311, avg nll: 1.6448, avg kl: 1.1575, mse: 1.117625, mae: 0.901958\n",
            "Iter: 0, train loss: 6.2311, avg nll: 1.6448, avg kl: 1.1575, mse: 1.117625, mae: 0.901958\n",
            "Iter: 100, train loss: 5.6916, avg nll: 1.4499, avg kl: 0.0469, mse: 1.059258, mae: 0.885062\n"
          ]
        },
        {
          "output_type": "stream",
          "name": "stderr",
          "text": [
            "\u001b[32m[I 2022-06-18 17:21:03,255]\u001b[0m Trial 71 pruned. \u001b[0m\n",
            "\u001b[32m[I 2022-06-18 17:21:03,306]\u001b[0m Trial 72 pruned. \u001b[0m\n",
            "\u001b[32m[I 2022-06-18 17:21:03,355]\u001b[0m Trial 73 pruned. \u001b[0m\n",
            "\u001b[32m[I 2022-06-18 17:21:03,407]\u001b[0m Trial 74 pruned. \u001b[0m\n",
            "\u001b[32m[I 2022-06-18 17:21:03,455]\u001b[0m Trial 75 pruned. \u001b[0m\n"
          ]
        },
        {
          "output_type": "stream",
          "name": "stdout",
          "text": [
            "Iter: 0, train loss: 6.2311, avg nll: 1.6448, avg kl: 1.1575, mse: 1.117625, mae: 0.901958\n",
            "Iter: 0, train loss: 6.2311, avg nll: 1.6448, avg kl: 1.1575, mse: 1.117625, mae: 0.901958\n",
            "Iter: 0, train loss: 6.2311, avg nll: 1.6448, avg kl: 1.1575, mse: 1.117625, mae: 0.901958\n",
            "Iter: 0, train loss: 6.2311, avg nll: 1.6448, avg kl: 1.1575, mse: 1.117625, mae: 0.901958\n",
            "Iter: 0, train loss: 6.2311, avg nll: 1.6448, avg kl: 1.1575, mse: 1.117625, mae: 0.901958\n"
          ]
        },
        {
          "output_type": "stream",
          "name": "stderr",
          "text": [
            "\u001b[32m[I 2022-06-18 17:21:03,507]\u001b[0m Trial 76 pruned. \u001b[0m\n",
            "\u001b[32m[I 2022-06-18 17:21:03,561]\u001b[0m Trial 77 pruned. \u001b[0m\n"
          ]
        },
        {
          "output_type": "stream",
          "name": "stdout",
          "text": [
            "Iter: 0, train loss: 6.2311, avg nll: 1.6448, avg kl: 1.1575, mse: 1.117625, mae: 0.901958\n",
            "Iter: 0, train loss: 6.2311, avg nll: 1.6448, avg kl: 1.1575, mse: 1.117625, mae: 0.901958\n"
          ]
        },
        {
          "output_type": "stream",
          "name": "stderr",
          "text": [
            "\u001b[32m[I 2022-06-18 17:21:03,998]\u001b[0m Trial 78 pruned. \u001b[0m\n",
            "\u001b[32m[I 2022-06-18 17:21:04,051]\u001b[0m Trial 79 pruned. \u001b[0m\n",
            "\u001b[32m[I 2022-06-18 17:21:04,099]\u001b[0m Trial 80 pruned. \u001b[0m\n",
            "\u001b[32m[I 2022-06-18 17:21:04,152]\u001b[0m Trial 81 pruned. \u001b[0m\n",
            "\u001b[32m[I 2022-06-18 17:21:04,207]\u001b[0m Trial 82 pruned. \u001b[0m\n"
          ]
        },
        {
          "output_type": "stream",
          "name": "stdout",
          "text": [
            "Iter: 0, train loss: 6.2311, avg nll: 1.6448, avg kl: 1.1575, mse: 1.117625, mae: 0.901958\n",
            "Iter: 0, train loss: 6.2311, avg nll: 1.6448, avg kl: 1.1575, mse: 1.117625, mae: 0.901958\n",
            "Iter: 0, train loss: 6.2311, avg nll: 1.6448, avg kl: 1.1575, mse: 1.117625, mae: 0.901958\n",
            "Iter: 0, train loss: 6.2311, avg nll: 1.6448, avg kl: 1.1575, mse: 1.117625, mae: 0.901958\n"
          ]
        },
        {
          "output_type": "stream",
          "name": "stderr",
          "text": [
            "\u001b[32m[I 2022-06-18 17:21:04,264]\u001b[0m Trial 83 pruned. \u001b[0m\n",
            "\u001b[32m[I 2022-06-18 17:21:04,321]\u001b[0m Trial 84 pruned. \u001b[0m\n",
            "\u001b[32m[I 2022-06-18 17:21:04,374]\u001b[0m Trial 85 pruned. \u001b[0m\n",
            "\u001b[32m[I 2022-06-18 17:21:04,430]\u001b[0m Trial 86 pruned. \u001b[0m\n"
          ]
        },
        {
          "output_type": "stream",
          "name": "stdout",
          "text": [
            "Iter: 0, train loss: 6.2311, avg nll: 1.6448, avg kl: 1.1575, mse: 1.117625, mae: 0.901958\n",
            "Iter: 0, train loss: 6.2311, avg nll: 1.6448, avg kl: 1.1575, mse: 1.117625, mae: 0.901958\n",
            "Iter: 0, train loss: 6.2311, avg nll: 1.6448, avg kl: 1.1575, mse: 1.117625, mae: 0.901958\n",
            "Iter: 0, train loss: 6.2311, avg nll: 1.6448, avg kl: 1.1575, mse: 1.117625, mae: 0.901958\n"
          ]
        },
        {
          "output_type": "stream",
          "name": "stderr",
          "text": [
            "\u001b[32m[I 2022-06-18 17:21:04,485]\u001b[0m Trial 87 pruned. \u001b[0m\n",
            "\u001b[32m[I 2022-06-18 17:21:04,541]\u001b[0m Trial 88 pruned. \u001b[0m\n",
            "\u001b[32m[I 2022-06-18 17:21:04,595]\u001b[0m Trial 89 pruned. \u001b[0m\n"
          ]
        },
        {
          "output_type": "stream",
          "name": "stdout",
          "text": [
            "Iter: 0, train loss: 6.2311, avg nll: 1.6448, avg kl: 1.1575, mse: 1.117625, mae: 0.901958\n",
            "Iter: 0, train loss: 6.2311, avg nll: 1.6448, avg kl: 1.1575, mse: 1.117625, mae: 0.901958\n",
            "Iter: 0, train loss: 6.2311, avg nll: 1.6448, avg kl: 1.1575, mse: 1.117625, mae: 0.901958\n",
            "Iter: 0, train loss: 6.2311, avg nll: 1.6448, avg kl: 1.1575, mse: 1.117625, mae: 0.901958\n",
            "Iter: 100, train loss: 5.2605, avg nll: 1.4078, avg kl: 0.0712, mse: 0.961387, mae: 0.840449\n"
          ]
        },
        {
          "output_type": "stream",
          "name": "stderr",
          "text": [
            "\u001b[32m[I 2022-06-18 17:21:07,460]\u001b[0m Trial 90 finished with value: 0.8512188792228699 and parameters: {'lr': 0.0064645840625730255, 'num_ref_points': 64, 'num_samples': 2, 'optimizer': 'Adam', 'step_size': 400, 'gamma': 0.32853259496730935}. Best is trial 34 with value: 0.12629744410514832.\u001b[0m\n",
            "\u001b[32m[I 2022-06-18 17:21:07,553]\u001b[0m Trial 91 pruned. \u001b[0m\n",
            "\u001b[32m[I 2022-06-18 17:21:07,603]\u001b[0m Trial 92 pruned. \u001b[0m\n",
            "\u001b[32m[I 2022-06-18 17:21:07,654]\u001b[0m Trial 93 pruned. \u001b[0m\n"
          ]
        },
        {
          "output_type": "stream",
          "name": "stdout",
          "text": [
            "Iter: 0, train loss: 6.2311, avg nll: 1.6448, avg kl: 1.1575, mse: 1.117625, mae: 0.901958\n",
            "Iter: 0, train loss: 6.2311, avg nll: 1.6448, avg kl: 1.1575, mse: 1.117625, mae: 0.901958\n",
            "Iter: 0, train loss: 6.2311, avg nll: 1.6448, avg kl: 1.1575, mse: 1.117625, mae: 0.901958\n",
            "Iter: 0, train loss: 6.2311, avg nll: 1.6448, avg kl: 1.1575, mse: 1.117625, mae: 0.901958\n"
          ]
        },
        {
          "output_type": "stream",
          "name": "stderr",
          "text": [
            "\u001b[32m[I 2022-06-18 17:21:07,705]\u001b[0m Trial 94 pruned. \u001b[0m\n",
            "\u001b[32m[I 2022-06-18 17:21:07,783]\u001b[0m Trial 95 pruned. \u001b[0m\n",
            "\u001b[32m[I 2022-06-18 17:21:07,832]\u001b[0m Trial 96 pruned. \u001b[0m\n",
            "\u001b[32m[I 2022-06-18 17:21:07,884]\u001b[0m Trial 97 pruned. \u001b[0m\n",
            "\u001b[32m[I 2022-06-18 17:21:07,933]\u001b[0m Trial 98 pruned. \u001b[0m\n"
          ]
        },
        {
          "output_type": "stream",
          "name": "stdout",
          "text": [
            "Iter: 0, train loss: 6.2311, avg nll: 1.6448, avg kl: 1.1575, mse: 1.117625, mae: 0.901958\n",
            "Iter: 0, train loss: 6.2311, avg nll: 1.6448, avg kl: 1.1575, mse: 1.117625, mae: 0.901958\n",
            "Iter: 0, train loss: 6.2311, avg nll: 1.6448, avg kl: 1.1575, mse: 1.117625, mae: 0.901958\n",
            "Iter: 0, train loss: 6.2311, avg nll: 1.6448, avg kl: 1.1575, mse: 1.117625, mae: 0.901958\n"
          ]
        },
        {
          "output_type": "stream",
          "name": "stderr",
          "text": [
            "\u001b[32m[I 2022-06-18 17:21:07,988]\u001b[0m Trial 99 pruned. \u001b[0m\n"
          ]
        },
        {
          "output_type": "stream",
          "name": "stdout",
          "text": [
            "Iter: 0, train loss: 6.2311, avg nll: 1.6448, avg kl: 1.1575, mse: 1.117625, mae: 0.901958\n",
            "Study statistics: \n",
            "  Number of finished trials:  100\n",
            "  Number of pruned trials:  82\n",
            "  Number of complete trials:  18\n",
            "Best trial:\n",
            "  Value:  0.12629744410514832\n",
            "  Params: \n",
            "    lr: 0.006572758547163779\n",
            "    num_ref_points: 64\n",
            "    num_samples: 1\n",
            "    optimizer: Adam\n",
            "    step_size: 400\n",
            "    gamma: 0.2916186909269053\n"
          ]
        }
      ]
    },
    {
      "cell_type": "code",
      "source": [
        ""
      ],
      "metadata": {
        "id": "4mdmVVavw8Uo"
      },
      "execution_count": null,
      "outputs": []
    },
    {
      "cell_type": "code",
      "source": [
        "# [I 2022-06-17 16:55:13,210] Trial 3 finished with value: 0.09719855338335037 and parameters: {'dropout': 0.02418752335062102, 'elbo_weight': 1.1061943368326204, 'embed_time': 16, 'lr': 4.212141191372822e-05, 'mse_weight': 5.108416562407145, 'rec_hidden': 128, 'num_samples': 6, 'x_by_range': True, 'optimizer': 'Adam', 'sample_tp': 0.1979453313080004}. Best is trial 3 with value: 0.09719855338335037.\n",
        "\n",
        "optuna.visualization.plot_param_importances(study)"
      ],
      "metadata": {
        "id": "8rI82ipQP4SK",
        "outputId": "5d814074-bf01-47a6-8b32-2b0e27137695",
        "colab": {
          "base_uri": "https://localhost:8080/",
          "height": 542
        }
      },
      "execution_count": 33,
      "outputs": [
        {
          "output_type": "display_data",
          "data": {
            "text/html": [
              "<html>\n",
              "<head><meta charset=\"utf-8\" /></head>\n",
              "<body>\n",
              "    <div>            <script src=\"https://cdnjs.cloudflare.com/ajax/libs/mathjax/2.7.5/MathJax.js?config=TeX-AMS-MML_SVG\"></script><script type=\"text/javascript\">if (window.MathJax) {MathJax.Hub.Config({SVG: {font: \"STIX-Web\"}});}</script>                <script type=\"text/javascript\">window.PlotlyConfig = {MathJaxConfig: 'local'};</script>\n",
              "        <script src=\"https://cdn.plot.ly/plotly-2.8.3.min.js\"></script>                <div id=\"b2cad949-6bc1-4136-9cd1-533ff518dbe7\" class=\"plotly-graph-div\" style=\"height:525px; width:100%;\"></div>            <script type=\"text/javascript\">                                    window.PLOTLYENV=window.PLOTLYENV || {};                                    if (document.getElementById(\"b2cad949-6bc1-4136-9cd1-533ff518dbe7\")) {                    Plotly.newPlot(                        \"b2cad949-6bc1-4136-9cd1-533ff518dbe7\",                        [{\"cliponaxis\":false,\"hovertemplate\":[\"num_ref_points (CategoricalDistribution): 0.0<extra></extra>\",\"sample_tp (UniformDistribution): 0.001526784675077683<extra></extra>\",\"num_samples (IntUniformDistribution): 0.002948854055088827<extra></extra>\",\"lr (LogUniformDistribution): 0.007986726823241422<extra></extra>\",\"dropout (UniformDistribution): 0.010633777296692471<extra></extra>\",\"elbo_weight (UniformDistribution): 0.011233213788269674<extra></extra>\",\"gamma (UniformDistribution): 0.014748280615862175<extra></extra>\",\"optimizer (CategoricalDistribution): 0.022444712365717146<extra></extra>\",\"mse_weight (UniformDistribution): 0.07941623557037905<extra></extra>\",\"rec_hidden (CategoricalDistribution): 0.0843725892553453<extra></extra>\",\"latent_dim (CategoricalDistribution): 0.11959365773458827<extra></extra>\",\"embed_time (CategoricalDistribution): 0.12251755007682326<extra></extra>\",\"width (CategoricalDistribution): 0.1415095705820383<extra></extra>\",\"step_size (CategoricalDistribution): 0.38106804716087633<extra></extra>\"],\"marker\":{\"color\":\"rgb(66,146,198)\"},\"orientation\":\"h\",\"text\":[\"0.0\",\"0.001526784675077683\",\"0.002948854055088827\",\"0.007986726823241422\",\"0.010633777296692471\",\"0.011233213788269674\",\"0.014748280615862175\",\"0.022444712365717146\",\"0.07941623557037905\",\"0.0843725892553453\",\"0.11959365773458827\",\"0.12251755007682326\",\"0.1415095705820383\",\"0.38106804716087633\"],\"textposition\":\"outside\",\"texttemplate\":\"%{text:.2f}\",\"x\":[0.0,0.001526784675077683,0.002948854055088827,0.007986726823241422,0.010633777296692471,0.011233213788269674,0.014748280615862175,0.022444712365717146,0.07941623557037905,0.0843725892553453,0.11959365773458827,0.12251755007682326,0.1415095705820383,0.38106804716087633],\"y\":[\"num_ref_points\",\"sample_tp\",\"num_samples\",\"lr\",\"dropout\",\"elbo_weight\",\"gamma\",\"optimizer\",\"mse_weight\",\"rec_hidden\",\"latent_dim\",\"embed_time\",\"width\",\"step_size\"],\"type\":\"bar\"}],                        {\"showlegend\":false,\"title\":{\"text\":\"Hyperparameter Importances\"},\"xaxis\":{\"title\":{\"text\":\"Importance for Objective Value\"}},\"yaxis\":{\"title\":{\"text\":\"Hyperparameter\"}},\"template\":{\"data\":{\"bar\":[{\"error_x\":{\"color\":\"#2a3f5f\"},\"error_y\":{\"color\":\"#2a3f5f\"},\"marker\":{\"line\":{\"color\":\"#E5ECF6\",\"width\":0.5},\"pattern\":{\"fillmode\":\"overlay\",\"size\":10,\"solidity\":0.2}},\"type\":\"bar\"}],\"barpolar\":[{\"marker\":{\"line\":{\"color\":\"#E5ECF6\",\"width\":0.5},\"pattern\":{\"fillmode\":\"overlay\",\"size\":10,\"solidity\":0.2}},\"type\":\"barpolar\"}],\"carpet\":[{\"aaxis\":{\"endlinecolor\":\"#2a3f5f\",\"gridcolor\":\"white\",\"linecolor\":\"white\",\"minorgridcolor\":\"white\",\"startlinecolor\":\"#2a3f5f\"},\"baxis\":{\"endlinecolor\":\"#2a3f5f\",\"gridcolor\":\"white\",\"linecolor\":\"white\",\"minorgridcolor\":\"white\",\"startlinecolor\":\"#2a3f5f\"},\"type\":\"carpet\"}],\"choropleth\":[{\"colorbar\":{\"outlinewidth\":0,\"ticks\":\"\"},\"type\":\"choropleth\"}],\"contour\":[{\"colorbar\":{\"outlinewidth\":0,\"ticks\":\"\"},\"colorscale\":[[0.0,\"#0d0887\"],[0.1111111111111111,\"#46039f\"],[0.2222222222222222,\"#7201a8\"],[0.3333333333333333,\"#9c179e\"],[0.4444444444444444,\"#bd3786\"],[0.5555555555555556,\"#d8576b\"],[0.6666666666666666,\"#ed7953\"],[0.7777777777777778,\"#fb9f3a\"],[0.8888888888888888,\"#fdca26\"],[1.0,\"#f0f921\"]],\"type\":\"contour\"}],\"contourcarpet\":[{\"colorbar\":{\"outlinewidth\":0,\"ticks\":\"\"},\"type\":\"contourcarpet\"}],\"heatmap\":[{\"colorbar\":{\"outlinewidth\":0,\"ticks\":\"\"},\"colorscale\":[[0.0,\"#0d0887\"],[0.1111111111111111,\"#46039f\"],[0.2222222222222222,\"#7201a8\"],[0.3333333333333333,\"#9c179e\"],[0.4444444444444444,\"#bd3786\"],[0.5555555555555556,\"#d8576b\"],[0.6666666666666666,\"#ed7953\"],[0.7777777777777778,\"#fb9f3a\"],[0.8888888888888888,\"#fdca26\"],[1.0,\"#f0f921\"]],\"type\":\"heatmap\"}],\"heatmapgl\":[{\"colorbar\":{\"outlinewidth\":0,\"ticks\":\"\"},\"colorscale\":[[0.0,\"#0d0887\"],[0.1111111111111111,\"#46039f\"],[0.2222222222222222,\"#7201a8\"],[0.3333333333333333,\"#9c179e\"],[0.4444444444444444,\"#bd3786\"],[0.5555555555555556,\"#d8576b\"],[0.6666666666666666,\"#ed7953\"],[0.7777777777777778,\"#fb9f3a\"],[0.8888888888888888,\"#fdca26\"],[1.0,\"#f0f921\"]],\"type\":\"heatmapgl\"}],\"histogram\":[{\"marker\":{\"pattern\":{\"fillmode\":\"overlay\",\"size\":10,\"solidity\":0.2}},\"type\":\"histogram\"}],\"histogram2d\":[{\"colorbar\":{\"outlinewidth\":0,\"ticks\":\"\"},\"colorscale\":[[0.0,\"#0d0887\"],[0.1111111111111111,\"#46039f\"],[0.2222222222222222,\"#7201a8\"],[0.3333333333333333,\"#9c179e\"],[0.4444444444444444,\"#bd3786\"],[0.5555555555555556,\"#d8576b\"],[0.6666666666666666,\"#ed7953\"],[0.7777777777777778,\"#fb9f3a\"],[0.8888888888888888,\"#fdca26\"],[1.0,\"#f0f921\"]],\"type\":\"histogram2d\"}],\"histogram2dcontour\":[{\"colorbar\":{\"outlinewidth\":0,\"ticks\":\"\"},\"colorscale\":[[0.0,\"#0d0887\"],[0.1111111111111111,\"#46039f\"],[0.2222222222222222,\"#7201a8\"],[0.3333333333333333,\"#9c179e\"],[0.4444444444444444,\"#bd3786\"],[0.5555555555555556,\"#d8576b\"],[0.6666666666666666,\"#ed7953\"],[0.7777777777777778,\"#fb9f3a\"],[0.8888888888888888,\"#fdca26\"],[1.0,\"#f0f921\"]],\"type\":\"histogram2dcontour\"}],\"mesh3d\":[{\"colorbar\":{\"outlinewidth\":0,\"ticks\":\"\"},\"type\":\"mesh3d\"}],\"parcoords\":[{\"line\":{\"colorbar\":{\"outlinewidth\":0,\"ticks\":\"\"}},\"type\":\"parcoords\"}],\"pie\":[{\"automargin\":true,\"type\":\"pie\"}],\"scatter\":[{\"marker\":{\"colorbar\":{\"outlinewidth\":0,\"ticks\":\"\"}},\"type\":\"scatter\"}],\"scatter3d\":[{\"line\":{\"colorbar\":{\"outlinewidth\":0,\"ticks\":\"\"}},\"marker\":{\"colorbar\":{\"outlinewidth\":0,\"ticks\":\"\"}},\"type\":\"scatter3d\"}],\"scattercarpet\":[{\"marker\":{\"colorbar\":{\"outlinewidth\":0,\"ticks\":\"\"}},\"type\":\"scattercarpet\"}],\"scattergeo\":[{\"marker\":{\"colorbar\":{\"outlinewidth\":0,\"ticks\":\"\"}},\"type\":\"scattergeo\"}],\"scattergl\":[{\"marker\":{\"colorbar\":{\"outlinewidth\":0,\"ticks\":\"\"}},\"type\":\"scattergl\"}],\"scattermapbox\":[{\"marker\":{\"colorbar\":{\"outlinewidth\":0,\"ticks\":\"\"}},\"type\":\"scattermapbox\"}],\"scatterpolar\":[{\"marker\":{\"colorbar\":{\"outlinewidth\":0,\"ticks\":\"\"}},\"type\":\"scatterpolar\"}],\"scatterpolargl\":[{\"marker\":{\"colorbar\":{\"outlinewidth\":0,\"ticks\":\"\"}},\"type\":\"scatterpolargl\"}],\"scatterternary\":[{\"marker\":{\"colorbar\":{\"outlinewidth\":0,\"ticks\":\"\"}},\"type\":\"scatterternary\"}],\"surface\":[{\"colorbar\":{\"outlinewidth\":0,\"ticks\":\"\"},\"colorscale\":[[0.0,\"#0d0887\"],[0.1111111111111111,\"#46039f\"],[0.2222222222222222,\"#7201a8\"],[0.3333333333333333,\"#9c179e\"],[0.4444444444444444,\"#bd3786\"],[0.5555555555555556,\"#d8576b\"],[0.6666666666666666,\"#ed7953\"],[0.7777777777777778,\"#fb9f3a\"],[0.8888888888888888,\"#fdca26\"],[1.0,\"#f0f921\"]],\"type\":\"surface\"}],\"table\":[{\"cells\":{\"fill\":{\"color\":\"#EBF0F8\"},\"line\":{\"color\":\"white\"}},\"header\":{\"fill\":{\"color\":\"#C8D4E3\"},\"line\":{\"color\":\"white\"}},\"type\":\"table\"}]},\"layout\":{\"annotationdefaults\":{\"arrowcolor\":\"#2a3f5f\",\"arrowhead\":0,\"arrowwidth\":1},\"autotypenumbers\":\"strict\",\"coloraxis\":{\"colorbar\":{\"outlinewidth\":0,\"ticks\":\"\"}},\"colorscale\":{\"diverging\":[[0,\"#8e0152\"],[0.1,\"#c51b7d\"],[0.2,\"#de77ae\"],[0.3,\"#f1b6da\"],[0.4,\"#fde0ef\"],[0.5,\"#f7f7f7\"],[0.6,\"#e6f5d0\"],[0.7,\"#b8e186\"],[0.8,\"#7fbc41\"],[0.9,\"#4d9221\"],[1,\"#276419\"]],\"sequential\":[[0.0,\"#0d0887\"],[0.1111111111111111,\"#46039f\"],[0.2222222222222222,\"#7201a8\"],[0.3333333333333333,\"#9c179e\"],[0.4444444444444444,\"#bd3786\"],[0.5555555555555556,\"#d8576b\"],[0.6666666666666666,\"#ed7953\"],[0.7777777777777778,\"#fb9f3a\"],[0.8888888888888888,\"#fdca26\"],[1.0,\"#f0f921\"]],\"sequentialminus\":[[0.0,\"#0d0887\"],[0.1111111111111111,\"#46039f\"],[0.2222222222222222,\"#7201a8\"],[0.3333333333333333,\"#9c179e\"],[0.4444444444444444,\"#bd3786\"],[0.5555555555555556,\"#d8576b\"],[0.6666666666666666,\"#ed7953\"],[0.7777777777777778,\"#fb9f3a\"],[0.8888888888888888,\"#fdca26\"],[1.0,\"#f0f921\"]]},\"colorway\":[\"#636efa\",\"#EF553B\",\"#00cc96\",\"#ab63fa\",\"#FFA15A\",\"#19d3f3\",\"#FF6692\",\"#B6E880\",\"#FF97FF\",\"#FECB52\"],\"font\":{\"color\":\"#2a3f5f\"},\"geo\":{\"bgcolor\":\"white\",\"lakecolor\":\"white\",\"landcolor\":\"#E5ECF6\",\"showlakes\":true,\"showland\":true,\"subunitcolor\":\"white\"},\"hoverlabel\":{\"align\":\"left\"},\"hovermode\":\"closest\",\"mapbox\":{\"style\":\"light\"},\"paper_bgcolor\":\"white\",\"plot_bgcolor\":\"#E5ECF6\",\"polar\":{\"angularaxis\":{\"gridcolor\":\"white\",\"linecolor\":\"white\",\"ticks\":\"\"},\"bgcolor\":\"#E5ECF6\",\"radialaxis\":{\"gridcolor\":\"white\",\"linecolor\":\"white\",\"ticks\":\"\"}},\"scene\":{\"xaxis\":{\"backgroundcolor\":\"#E5ECF6\",\"gridcolor\":\"white\",\"gridwidth\":2,\"linecolor\":\"white\",\"showbackground\":true,\"ticks\":\"\",\"zerolinecolor\":\"white\"},\"yaxis\":{\"backgroundcolor\":\"#E5ECF6\",\"gridcolor\":\"white\",\"gridwidth\":2,\"linecolor\":\"white\",\"showbackground\":true,\"ticks\":\"\",\"zerolinecolor\":\"white\"},\"zaxis\":{\"backgroundcolor\":\"#E5ECF6\",\"gridcolor\":\"white\",\"gridwidth\":2,\"linecolor\":\"white\",\"showbackground\":true,\"ticks\":\"\",\"zerolinecolor\":\"white\"}},\"shapedefaults\":{\"line\":{\"color\":\"#2a3f5f\"}},\"ternary\":{\"aaxis\":{\"gridcolor\":\"white\",\"linecolor\":\"white\",\"ticks\":\"\"},\"baxis\":{\"gridcolor\":\"white\",\"linecolor\":\"white\",\"ticks\":\"\"},\"bgcolor\":\"#E5ECF6\",\"caxis\":{\"gridcolor\":\"white\",\"linecolor\":\"white\",\"ticks\":\"\"}},\"title\":{\"x\":0.05},\"xaxis\":{\"automargin\":true,\"gridcolor\":\"white\",\"linecolor\":\"white\",\"ticks\":\"\",\"title\":{\"standoff\":15},\"zerolinecolor\":\"white\",\"zerolinewidth\":2},\"yaxis\":{\"automargin\":true,\"gridcolor\":\"white\",\"linecolor\":\"white\",\"ticks\":\"\",\"title\":{\"standoff\":15},\"zerolinecolor\":\"white\",\"zerolinewidth\":2}}}},                        {\"responsive\": true}                    ).then(function(){\n",
              "                            \n",
              "var gd = document.getElementById('b2cad949-6bc1-4136-9cd1-533ff518dbe7');\n",
              "var x = new MutationObserver(function (mutations, observer) {{\n",
              "        var display = window.getComputedStyle(gd).display;\n",
              "        if (!display || display === 'none') {{\n",
              "            console.log([gd, 'removed!']);\n",
              "            Plotly.purge(gd);\n",
              "            observer.disconnect();\n",
              "        }}\n",
              "}});\n",
              "\n",
              "// Listen for the removal of the full notebook cells\n",
              "var notebookContainer = gd.closest('#notebook-container');\n",
              "if (notebookContainer) {{\n",
              "    x.observe(notebookContainer, {childList: true});\n",
              "}}\n",
              "\n",
              "// Listen for the clearing of the current output cell\n",
              "var outputEl = gd.closest('.output');\n",
              "if (outputEl) {{\n",
              "    x.observe(outputEl, {childList: true});\n",
              "}}\n",
              "\n",
              "                        })                };                            </script>        </div>\n",
              "</body>\n",
              "</html>"
            ]
          },
          "metadata": {}
        }
      ]
    },
    {
      "cell_type": "code",
      "source": [
        "\n",
        "optuna.visualization.plot_optimization_history(study)"
      ],
      "metadata": {
        "id": "oQb_oEElP40j"
      },
      "execution_count": null,
      "outputs": []
    },
    {
      "cell_type": "code",
      "source": [
        "optuna.visualization.plot_slice(study, params=[\"optimizer\"])"
      ],
      "metadata": {
        "id": "RobOqJGDP7QP"
      },
      "execution_count": null,
      "outputs": []
    }
  ]
}