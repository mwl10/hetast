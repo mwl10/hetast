{
 "cells": [
  {
   "cell_type": "code",
   "execution_count": null,
   "id": "0087d61f",
   "metadata": {},
   "outputs": [],
   "source": [
    "### collab notebook for training \n",
    "\n",
    "! git clone https://github.com/mwl10/hetast\n",
    "! cd src\n",
    "! pip install requirements.txt"
   ]
  },
  {
   "cell_type": "code",
   "execution_count": 3,
   "id": "9e8af7cf",
   "metadata": {},
   "outputs": [
    {
     "name": "stdout",
     "output_type": "stream",
     "text": [
      "usage: train.py [-h] [--batch-size BATCH_SIZE] [--niters NITERS]\n",
      "                [--bound-variance] [--const-var] [--dropout DROPOUT]\n",
      "                [--elbo-weight ELBO_WEIGHT] [--embed-time EMBED_TIME]\n",
      "                [--enc-num-heads ENC_NUM_HEADS] [--intensity]\n",
      "                [--k-iwae K_IWAE] [--kl-annealing] [--kl-zero]\n",
      "                [--latent-dim LATENT_DIM] [--lr LR] [--mixing MIXING]\n",
      "                [--mse-weight MSE_WEIGHT] [--net NET] [--norm]\n",
      "                [--normalize-input NORMALIZE_INPUT]\n",
      "                [--num-ref-points NUM_REF_POINTS] [--rec-hidden REC_HIDDEN]\n",
      "                [--sample-tp SAMPLE_TP] [--save] [--seed SEED] [--shuffle]\n",
      "                [--std STD] [--var-per-dim] [--width WIDTH] [--device DEVICE]\n",
      "                [--data_obj DATA_OBJ] [--checkpoint CHECKPOINT]\n",
      "                [--early-stopping] [--patience PATIENCE] [--save-at SAVE_AT]\n",
      "                [--scheduler] [--warmup WARMUP] --data-folder DATA_FOLDER\n",
      "                [--start-col START_COL]\n",
      "train.py: error: the following arguments are required: --data-folder\n",
      "\u001b[0m"
     ]
    }
   ],
   "source": [
    "! python3 train.py --device cuda --niters 100 --save-at 100"
   ]
  },
  {
   "cell_type": "code",
   "execution_count": null,
   "id": "c8c37ffb",
   "metadata": {},
   "outputs": [],
   "source": []
  }
 ],
 "metadata": {
  "kernelspec": {
   "display_name": "hetvae",
   "language": "python",
   "name": "hetvae"
  },
  "language_info": {
   "codemirror_mode": {
    "name": "ipython",
    "version": 3
   },
   "file_extension": ".py",
   "mimetype": "text/x-python",
   "name": "python",
   "nbconvert_exporter": "python",
   "pygments_lexer": "ipython3",
   "version": "3.10.5"
  }
 },
 "nbformat": 4,
 "nbformat_minor": 5
}
