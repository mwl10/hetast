{
 "cells": [
  {
   "cell_type": "code",
   "execution_count": null,
   "id": "0087d61f",
   "metadata": {},
   "outputs": [],
   "source": [
    "### collab notebook for training \n",
    "\n",
    "! git clone https://github.com/mwl10/hetast\n",
    "! cd src\n",
    "! pip install requirements.txt"
   ]
  },
  {
   "cell_type": "code",
   "execution_count": null,
   "id": "9e8af7cf",
   "metadata": {},
   "outputs": [],
   "source": [
    "! python3 train.py \\\n",
    "    --data-folder ZTF_g \\\n",
    "    --device mps \\\n",
    "    --niters 10 \\\n",
    "    --start-col 1 \\\n",
    "    --save-at 1000 \\\n",
    "    --bound-variance \\\n",
    "    --kl-annealing \\\n",
    "    --lr 0.001 \\\n",
    "    --print-at 10"
   ]
  },
  {
   "cell_type": "code",
   "execution_count": null,
   "id": "c8c37ffb",
   "metadata": {},
   "outputs": [],
   "source": []
  }
 ],
 "metadata": {
  "kernelspec": {
   "display_name": "hetvae",
   "language": "python",
   "name": "hetvae"
  },
  "language_info": {
   "codemirror_mode": {
    "name": "ipython",
    "version": 3
   },
   "file_extension": ".py",
   "mimetype": "text/x-python",
   "name": "python",
   "nbconvert_exporter": "python",
   "pygments_lexer": "ipython3",
   "version": "3.10.5"
  }
 },
 "nbformat": 4,
 "nbformat_minor": 5
}
