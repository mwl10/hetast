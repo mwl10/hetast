{
  "cells": [
    {
      "cell_type": "code",
      "execution_count": 219,
      "id": "5fe134d8",
      "metadata": {
        "colab": {
          "base_uri": "https://localhost:8080/"
        },
        "id": "5fe134d8",
        "outputId": "fa30c0e4-3654-460b-a827-60941a48a430"
      },
      "outputs": [
        {
          "output_type": "stream",
          "name": "stdout",
          "text": [
            "Cloning into 'hetvae'...\n",
            "remote: Enumerating objects: 2024, done.\u001b[K\n",
            "remote: Counting objects:   0% (1/164)\u001b[K\rremote: Counting objects:   1% (2/164)\u001b[K\rremote: Counting objects:   2% (4/164)\u001b[K\rremote: Counting objects:   3% (5/164)\u001b[K\rremote: Counting objects:   4% (7/164)\u001b[K\rremote: Counting objects:   5% (9/164)\u001b[K\rremote: Counting objects:   6% (10/164)\u001b[K\rremote: Counting objects:   7% (12/164)\u001b[K\rremote: Counting objects:   8% (14/164)\u001b[K\rremote: Counting objects:   9% (15/164)\u001b[K\rremote: Counting objects:  10% (17/164)\u001b[K\rremote: Counting objects:  11% (19/164)\u001b[K\rremote: Counting objects:  12% (20/164)\u001b[K\rremote: Counting objects:  13% (22/164)\u001b[K\rremote: Counting objects:  14% (23/164)\u001b[K\rremote: Counting objects:  15% (25/164)\u001b[K\rremote: Counting objects:  16% (27/164)\u001b[K\rremote: Counting objects:  17% (28/164)\u001b[K\rremote: Counting objects:  18% (30/164)\u001b[K\rremote: Counting objects:  19% (32/164)\u001b[K\rremote: Counting objects:  20% (33/164)\u001b[K\rremote: Counting objects:  21% (35/164)\u001b[K\rremote: Counting objects:  22% (37/164)\u001b[K\rremote: Counting objects:  23% (38/164)\u001b[K\rremote: Counting objects:  24% (40/164)\u001b[K\rremote: Counting objects:  25% (41/164)\u001b[K\rremote: Counting objects:  26% (43/164)\u001b[K\rremote: Counting objects:  27% (45/164)\u001b[K\rremote: Counting objects:  28% (46/164)\u001b[K\rremote: Counting objects:  29% (48/164)\u001b[K\rremote: Counting objects:  30% (50/164)\u001b[K\rremote: Counting objects:  31% (51/164)\u001b[K\rremote: Counting objects:  32% (53/164)\u001b[K\rremote: Counting objects:  33% (55/164)\u001b[K\rremote: Counting objects:  34% (56/164)\u001b[K\rremote: Counting objects:  35% (58/164)\u001b[K\rremote: Counting objects:  36% (60/164)\u001b[K\rremote: Counting objects:  37% (61/164)\u001b[K\rremote: Counting objects:  38% (63/164)\u001b[K\rremote: Counting objects:  39% (64/164)\u001b[K\rremote: Counting objects:  40% (66/164)\u001b[K\rremote: Counting objects:  41% (68/164)\u001b[K\rremote: Counting objects:  42% (69/164)\u001b[K\rremote: Counting objects:  43% (71/164)\u001b[K\rremote: Counting objects:  44% (73/164)\u001b[K\rremote: Counting objects:  45% (74/164)\u001b[K\rremote: Counting objects:  46% (76/164)\u001b[K\rremote: Counting objects:  47% (78/164)\u001b[K\rremote: Counting objects:  48% (79/164)\u001b[K\rremote: Counting objects:  49% (81/164)\u001b[K\rremote: Counting objects:  50% (82/164)\u001b[K\rremote: Counting objects:  51% (84/164)\u001b[K\rremote: Counting objects:  52% (86/164)\u001b[K\rremote: Counting objects:  53% (87/164)\u001b[K\rremote: Counting objects:  54% (89/164)\u001b[K\rremote: Counting objects:  55% (91/164)\u001b[K\rremote: Counting objects:  56% (92/164)\u001b[K\rremote: Counting objects:  57% (94/164)\u001b[K\rremote: Counting objects:  58% (96/164)\u001b[K\rremote: Counting objects:  59% (97/164)\u001b[K\rremote: Counting objects:  60% (99/164)\u001b[K\rremote: Counting objects:  61% (101/164)\u001b[K\rremote: Counting objects:  62% (102/164)\u001b[K\rremote: Counting objects:  63% (104/164)\u001b[K\rremote: Counting objects:  64% (105/164)\u001b[K\rremote: Counting objects:  65% (107/164)\u001b[K\rremote: Counting objects:  66% (109/164)\u001b[K\rremote: Counting objects:  67% (110/164)\u001b[K\rremote: Counting objects:  68% (112/164)\u001b[K\rremote: Counting objects:  69% (114/164)\u001b[K\rremote: Counting objects:  70% (115/164)\u001b[K\rremote: Counting objects:  71% (117/164)\u001b[K\rremote: Counting objects:  72% (119/164)\u001b[K\rremote: Counting objects:  73% (120/164)\u001b[K\rremote: Counting objects:  74% (122/164)\u001b[K\rremote: Counting objects:  75% (123/164)\u001b[K\rremote: Counting objects:  76% (125/164)\u001b[K\rremote: Counting objects:  77% (127/164)\u001b[K\rremote: Counting objects:  78% (128/164)\u001b[K\rremote: Counting objects:  79% (130/164)\u001b[K\rremote: Counting objects:  80% (132/164)\u001b[K\rremote: Counting objects:  81% (133/164)\u001b[K\rremote: Counting objects:  82% (135/164)\u001b[K\rremote: Counting objects:  83% (137/164)\u001b[K\rremote: Counting objects:  84% (138/164)\u001b[K\rremote: Counting objects:  85% (140/164)\u001b[K\rremote: Counting objects:  86% (142/164)\u001b[K\rremote: Counting objects:  87% (143/164)\u001b[K\rremote: Counting objects:  88% (145/164)\u001b[K\rremote: Counting objects:  89% (146/164)\u001b[K\rremote: Counting objects:  90% (148/164)\u001b[K\rremote: Counting objects:  91% (150/164)\u001b[K\rremote: Counting objects:  92% (151/164)\u001b[K\rremote: Counting objects:  93% (153/164)\u001b[K\rremote: Counting objects:  94% (155/164)\u001b[K\rremote: Counting objects:  95% (156/164)\u001b[K\rremote: Counting objects:  96% (158/164)\u001b[K\rremote: Counting objects:  97% (160/164)\u001b[K\rremote: Counting objects:  98% (161/164)\u001b[K\rremote: Counting objects:  99% (163/164)\u001b[K\rremote: Counting objects: 100% (164/164)\u001b[K\rremote: Counting objects: 100% (164/164), done.\u001b[K\n",
            "remote: Compressing objects: 100% (113/113), done.\u001b[K\n",
            "remote: Total 2024 (delta 111), reused 90 (delta 51), pack-reused 1860\u001b[K\n",
            "Receiving objects: 100% (2024/2024), 26.35 MiB | 31.93 MiB/s, done.\n",
            "Resolving deltas: 100% (714/714), done.\n",
            "Looking in indexes: https://pypi.org/simple, https://us-python.pkg.dev/colab-wheels/public/simple/\n",
            "Requirement already satisfied: alembic==1.7.7 in /usr/local/lib/python3.7/dist-packages (from -r requirements.txt (line 1)) (1.7.7)\n",
            "Requirement already satisfied: attrs==21.4.0 in /usr/local/lib/python3.7/dist-packages (from -r requirements.txt (line 2)) (21.4.0)\n",
            "Requirement already satisfied: autopage==0.5.0 in /usr/local/lib/python3.7/dist-packages (from -r requirements.txt (line 3)) (0.5.0)\n",
            "Requirement already satisfied: backports.functools-lru-cache==1.6.4 in /usr/local/lib/python3.7/dist-packages (from -r requirements.txt (line 4)) (1.6.4)\n",
            "Requirement already satisfied: cliff==3.10.1 in /usr/local/lib/python3.7/dist-packages (from -r requirements.txt (line 5)) (3.10.1)\n",
            "Requirement already satisfied: cmaes==0.8.2 in /usr/local/lib/python3.7/dist-packages (from -r requirements.txt (line 6)) (0.8.2)\n",
            "Requirement already satisfied: cmd2==2.3.3 in /usr/local/lib/python3.7/dist-packages (from -r requirements.txt (line 7)) (2.3.3)\n",
            "Requirement already satisfied: colorama==0.4.4 in /usr/local/lib/python3.7/dist-packages (from -r requirements.txt (line 8)) (0.4.4)\n",
            "Requirement already satisfied: colorlog==6.6.0 in /usr/local/lib/python3.7/dist-packages (from -r requirements.txt (line 9)) (6.6.0)\n",
            "Requirement already satisfied: greenlet==1.1.2 in /usr/local/lib/python3.7/dist-packages (from -r requirements.txt (line 10)) (1.1.2)\n",
            "Requirement already satisfied: importlib-metadata==4.11.4 in /usr/local/lib/python3.7/dist-packages (from -r requirements.txt (line 11)) (4.11.4)\n",
            "Requirement already satisfied: importlib-resources==5.7.1 in /usr/local/lib/python3.7/dist-packages (from -r requirements.txt (line 12)) (5.7.1)\n",
            "Requirement already satisfied: Mako==1.2.0 in /usr/local/lib/python3.7/dist-packages (from -r requirements.txt (line 13)) (1.2.0)\n",
            "Requirement already satisfied: MarkupSafe==2.1.1 in /usr/local/lib/python3.7/dist-packages (from -r requirements.txt (line 14)) (2.1.1)\n",
            "Requirement already satisfied: numpy==1.21.0 in /usr/local/lib/python3.7/dist-packages (from -r requirements.txt (line 15)) (1.21.0)\n",
            "Requirement already satisfied: optuna==2.10.0 in /usr/local/lib/python3.7/dist-packages (from -r requirements.txt (line 16)) (2.10.0)\n",
            "Requirement already satisfied: packaging==21.3 in /usr/local/lib/python3.7/dist-packages (from -r requirements.txt (line 17)) (21.3)\n",
            "Requirement already satisfied: pbr==5.9.0 in /usr/local/lib/python3.7/dist-packages (from -r requirements.txt (line 18)) (5.9.0)\n",
            "Requirement already satisfied: pip==22.1.1 in /usr/local/lib/python3.7/dist-packages (from -r requirements.txt (line 19)) (22.1.1)\n",
            "Requirement already satisfied: prettytable==3.3.0 in /usr/local/lib/python3.7/dist-packages (from -r requirements.txt (line 20)) (3.3.0)\n",
            "Requirement already satisfied: pyparsing==3.0.9 in /usr/local/lib/python3.7/dist-packages (from -r requirements.txt (line 21)) (3.0.9)\n",
            "Requirement already satisfied: pyperclip==1.8.2 in /usr/local/lib/python3.7/dist-packages (from -r requirements.txt (line 22)) (1.8.2)\n",
            "Requirement already satisfied: PyYAML==6.0 in /usr/local/lib/python3.7/dist-packages (from -r requirements.txt (line 23)) (6.0)\n",
            "Requirement already satisfied: scipy==1.7.3 in /usr/local/lib/python3.7/dist-packages (from -r requirements.txt (line 24)) (1.7.3)\n",
            "Requirement already satisfied: setuptools==62.3.2 in /usr/local/lib/python3.7/dist-packages (from -r requirements.txt (line 25)) (62.3.2)\n",
            "Requirement already satisfied: SQLAlchemy==1.4.36 in /usr/local/lib/python3.7/dist-packages (from -r requirements.txt (line 26)) (1.4.36)\n",
            "Requirement already satisfied: stevedore==3.5.0 in /usr/local/lib/python3.7/dist-packages (from -r requirements.txt (line 27)) (3.5.0)\n",
            "Requirement already satisfied: tqdm==4.64.0 in /usr/local/lib/python3.7/dist-packages (from -r requirements.txt (line 28)) (4.64.0)\n",
            "Requirement already satisfied: wcwidth==0.2.5 in /usr/local/lib/python3.7/dist-packages (from -r requirements.txt (line 29)) (0.2.5)\n",
            "Requirement already satisfied: wheel==0.37.1 in /usr/local/lib/python3.7/dist-packages (from -r requirements.txt (line 30)) (0.37.1)\n",
            "Requirement already satisfied: zipp==3.8.0 in /usr/local/lib/python3.7/dist-packages (from -r requirements.txt (line 31)) (3.8.0)\n",
            "Requirement already satisfied: typing-extensions in /usr/local/lib/python3.7/dist-packages (from cmd2==2.3.3->-r requirements.txt (line 7)) (4.2.0)\n",
            "\u001b[33mWARNING: Running pip as the 'root' user can result in broken permissions and conflicting behaviour with the system package manager. It is recommended to use a virtual environment instead: https://pip.pypa.io/warnings/venv\u001b[0m\u001b[33m\n",
            "\u001b[0m"
          ]
        }
      ],
      "source": [
        "import os\n",
        "import shutil\n",
        "os.chdir('/content')\n",
        "if os.path.isdir('./hetvae'):\n",
        "  shutil.rmtree('./hetvae/')\n",
        "! git clone --branch errors https://github.com/mwl10/hetvae\n",
        "os.chdir('/content/hetvae')\n",
        "! pip install -r requirements.txt\n",
        "os.chdir('/content/hetvae/src')\n",
        "import numpy as np\n",
        "import torch\n",
        "import torch.optim as optim\n",
        "import models\n",
        "from argparse import Namespace\n",
        "import torch.optim as optim\n",
        "import utils\n",
        "import my_utils\n",
        "import pandas as pd\n",
        "import importlib\n",
        "import vae_models\n",
        "importlib.reload(vae_models)\n",
        "importlib.reload(models)\n",
        "importlib.reload(utils)\n",
        "importlib.reload(my_utils)\n",
        "from glob import glob\n",
        "import matplotlib.pyplot as plt\n",
        "import sys\n",
        "del sys.modules['dataset']\n",
        "from dataset import DataSet\n",
        "%matplotlib inline"
      ]
    },
    {
      "cell_type": "code",
      "execution_count": 118,
      "id": "9f4e5bb7",
      "metadata": {
        "id": "9f4e5bb7",
        "outputId": "60c7726b-bb97-4971-9cb4-883c8bd2a067",
        "colab": {
          "base_uri": "https://localhost:8080/",
          "height": 553
        }
      },
      "outputs": [
        {
          "output_type": "stream",
          "name": "stdout",
          "text": [
            "indexes of outliers to be pruned, if any: [600 601]\n",
            "indexes of outliers to be pruned, if any: []\n",
            "indexes of outliers to be pruned, if any: [418 583]\n",
            "indexes of outliers to be pruned, if any: []\n",
            "indexes of outliers to be pruned, if any: [ 98 205 260 261 554 555]\n",
            "generating 1 new sample of each example in the dataset & appending them \n",
            " old dataset length: 5\n",
            "new dataset length: 10\n",
            "created union_x attribute of length 2436\n",
            "zero fill all the examples up to the length of longest one given, dataset is also now a numpy array w shape: (10, 619, 3), instead of a list of numpy arrays\n",
            "created subsampled_mask & recon_mask instance attributes\n",
            "(2436,) (10, 619, 3) (10, 619) (10, 619)\n"
          ]
        },
        {
          "output_type": "stream",
          "name": "stderr",
          "text": [
            "/content/hetvae/src/dataset.py:153: RuntimeWarning: divide by zero encountered in true_divide\n",
            "  self.dataset[:,:,2] = 1. / self.dataset[:,:,2]\n"
          ]
        },
        {
          "output_type": "execute_result",
          "data": {
            "text/plain": [
              "<matplotlib.collections.PathCollection at 0x7f6dfac7f850>"
            ]
          },
          "metadata": {},
          "execution_count": 118
        },
        {
          "output_type": "display_data",
          "data": {
            "text/plain": [
              "<Figure size 432x288 with 1 Axes>"
            ],
            "image/png": "[encoded data removed]"
          },
          "metadata": {
            "needs_background": "light"
          }
        }
      ],
      "source": [
        "#------------------------------\n",
        "# AGN Preprocessing, we have a DF w/ OBJECT , FILTER, MJD, FLUX, ERROR\n",
        "#------------------------------\n",
        "\n",
        "def get_AGN_data(file):\n",
        "    agn_df = pd.read_csv(file)\n",
        "    # handle formatting for new AGN\n",
        "    lcs = []\n",
        "    for lc_df in agn_df.groupby('Filter'):\n",
        "        lc = lc_df[1][['MJD', 'Flux', 'Error']].to_numpy()\n",
        "        lcs.append(lc)\n",
        "\n",
        "    AGN_1H2106 = DataSet()\n",
        "    AGN_1H2106.dataset = lcs # skip add files part\n",
        "    AGN_1H2106 = AGN_1H2106.handle_dups().prune_outliers().resample_dataset(num_samples=1).normalize().reorder() \\\n",
        "        .set_union_x().zero_fill().error_to_sample_weight().make_masks(frac=0.5)\n",
        "\n",
        "    print(\n",
        "        AGN_1H2106.union_x.shape,\n",
        "        AGN_1H2106.dataset.shape,\n",
        "        AGN_1H2106.subsampled_mask.shape,\n",
        "        AGN_1H2106.recon_mask.shape\n",
        "      )\n",
        "\n",
        "    return AGN_1H2106\n",
        "\n",
        "AGN_1H2106 = get_AGN_data('/content/hetvae/data/AGN_1H2106-099/1H2106-099_latest_lcs_pyroa.csv')\n",
        "\n",
        "plt.scatter(AGN_1H2106.dataset[6,:-130,0], AGN_1H2106.dataset[6,:-130,1])"
      ]
    },
    {
      "cell_type": "code",
      "source": [
        "#--------------------------------------------------------------------------------------------------------\n",
        "# PREPROCESSING, from Catalina data\n",
        "#--------------------------------------------------------------------------------------------------------\n",
        "\n",
        "\n",
        "lc_files = glob('/content/hetvae/data/CAT/*/*')[:50]\n",
        "\n",
        "Catalina = DataSet().add_files(lc_files).files_to_numpy().handle_dups().prune_outliers().resample_dataset(num_samples=1).normalize().reorder() \\\n",
        "        .set_union_x().zero_fill().error_to_sample_weight().make_masks(frac=0.5)\n",
        "\n",
        "print(\n",
        "    Catalina.files, '\\n',\n",
        "    Catalina.union_x.shape,\n",
        "    Catalina.dataset.shape,\n",
        "    Catalina.subsampled_mask.shape,\n",
        "    Catalina.recon_mask.shape\n",
        "  )\n"
      ],
      "metadata": {
        "id": "WSd6dRhCvv5M",
        "outputId": "eab9432b-d8ed-4035-d765-4d1e58fc02cc",
        "colab": {
          "base_uri": "https://localhost:8080/"
        }
      },
      "id": "WSd6dRhCvv5M",
      "execution_count": 119,
      "outputs": [
        {
          "output_type": "stream",
          "name": "stdout",
          "text": [
            "dims of /content/hetvae/data/CAT/CSS/CSS170626:144248+502203_20.72.dat:\t(292, 3)\n",
            "dims of /content/hetvae/data/CAT/CSS/CSS171010:235439+005752_17.47.dat:\t(548, 3)\n",
            "dims of /content/hetvae/data/CAT/CSS/CSS170131:135357-074301_19.9.dat:\t(282, 3)\n",
            "dims of /content/hetvae/data/CAT/CSS/CSS170304:122854+241500_19.15.dat:\t(561, 3)\n",
            "dims of /content/hetvae/data/CAT/CSS/CSS170925:034553-154102_19.07.dat:\t(303, 3)\n",
            "dims of /content/hetvae/data/CAT/CSS/CSS170325:143550+500123_20.53.dat:\t(403, 3)\n",
            "dims of /content/hetvae/data/CAT/CSS/CSS170130:102912+510535_20.17.dat:\t(97, 3)\n",
            "dims of /content/hetvae/data/CAT/CSS/CSS170506:124658+622229_18.75.dat:\t(429, 3)\n",
            "dims of /content/hetvae/data/CAT/CSS/CSS170929:015655+045636_19.34.dat:\t(368, 3)\n",
            "dims of /content/hetvae/data/CAT/CSS/CSS170221:155213+152636_19.08.dat:\t(299, 3)\n",
            "dims of /content/hetvae/data/CAT/CSS/CSS170321:125647+452323_19.55.dat:\t(591, 3)\n",
            "dims of /content/hetvae/data/CAT/CSS/CSS171011:024100-024502_19.01.dat:\t(304, 3)\n",
            "dims of /content/hetvae/data/CAT/CSS/CSS170201:114232+200717_20.13.dat:\t(175, 3)\n",
            "dims of /content/hetvae/data/CAT/CSS/CSS170320:100524+275018_19.98.dat:\t(258, 3)\n",
            "dims of /content/hetvae/data/CAT/CSS/CSS170330:105330+511722_19.04.dat:\t(350, 3)\n",
            "dims of /content/hetvae/data/CAT/CSS/CSS170130:124836+461301_18.79.dat:\t(503, 3)\n",
            "dims of /content/hetvae/data/CAT/CSS/CSS170130:113335+500438_20.04.dat:\t(183, 3)\n",
            "dims of /content/hetvae/data/CAT/CSS/CSS170131:020924-031049_19.67.dat:\t(292, 3)\n",
            "dims of /content/hetvae/data/CAT/CSS/CSS170516:123457+424112_19.42.dat:\t(705, 3)\n",
            "dims of /content/hetvae/data/CAT/CSS/CSS170423:130015+152709_20.7.dat:\t(248, 3)\n",
            "dims of /content/hetvae/data/CAT/CSS/CSS170528:130623-023814_19.62.dat:\t(292, 3)\n",
            "dims of /content/hetvae/data/CAT/CSS/CSS171011:023035-041040_18.8.dat:\t(355, 3)\n",
            "dims of /content/hetvae/data/CAT/CSS/CSS170529:141209+490112_19.59.dat:\t(422, 3)\n",
            "dims of /content/hetvae/data/CAT/CSS/CSS170627:130414+461143_20.75.dat:\t(148, 3)\n",
            "dims of /content/hetvae/data/CAT/CSS/CSS170325:125540+395120_18.55.dat:\t(802, 3)\n",
            "dims of /content/hetvae/data/CAT/CSS/CSS170629:231605-195812_19.14.dat:\t(32, 3)\n",
            "dims of /content/hetvae/data/CAT/CSS/CSS170920:004626-021509_17.95.dat:\t(381, 3)\n",
            "dims of /content/hetvae/data/CAT/CSS/CSS170224:105051+102134_19.76.dat:\t(489, 3)\n",
            "dims of /content/hetvae/data/CAT/CSS/CSS170322:125749+470604_20.81.dat:\t(288, 3)\n",
            "dims of /content/hetvae/data/CAT/CSS/CSS170924:002335+131922_18.69.dat:\t(524, 3)\n",
            "dims of /content/hetvae/data/CAT/CSS/CSS170322:092410+584144_19.69.dat:\t(469, 3)\n",
            "dims of /content/hetvae/data/CAT/CSS/CSS171001:030632+143102_18.92.dat:\t(735, 3)\n",
            "dims of /content/hetvae/data/CAT/CSS/CSS170419:125107+030511_18.4.dat:\t(168, 3)\n",
            "dims of /content/hetvae/data/CAT/CSS/CSS170302:114849+005511_20.26.dat:\t(424, 3)\n",
            "dims of /content/hetvae/data/CAT/CSS/CSS170207:150126+012927_19.82.dat:\t(548, 3)\n",
            "dims of /content/hetvae/data/CAT/CSS/CSS170519:154111+482755_19.79.dat:\t(339, 3)\n",
            "dims of /content/hetvae/data/CAT/CSS/CSS170425:144637+345409_19.9.dat:\t(531, 3)\n",
            "dims of /content/hetvae/data/CAT/CSS/CSS170918:162531+270547_17.12.dat:\t(533, 3)\n",
            "dims of /content/hetvae/data/CAT/CSS/CSS170227:151350+150947_19.68.dat:\t(227, 3)\n",
            "dims of /content/hetvae/data/CAT/CSS/CSS170131:102818+070028_20.32.dat:\t(230, 3)\n",
            "dims of /content/hetvae/data/CAT/CSS/CSS170506:144139+531059_17.8.dat:\t(281, 3)\n",
            "dims of /content/hetvae/data/CAT/CSS/CSS170130:072804+511129_18.91.dat:\t(735, 3)\n",
            "dims of /content/hetvae/data/CAT/CSS/CSS171012:172358+530024_18.73.dat:\t(460, 3)\n",
            "dims of /content/hetvae/data/CAT/CSS/CSS170304:122225+271222_19.64.dat:\t(692, 3)\n",
            "dims of /content/hetvae/data/CAT/CSS/CSS170920:222515-080102_17.54.dat:\t(725, 3)\n",
            "dims of /content/hetvae/data/CAT/CSS/CSS170221:100018+192306_19.91.dat:\t(443, 3)\n",
            "dims of /content/hetvae/data/CAT/CSS/CSS170504:170539+273641_18.81.dat:\t(824, 3)\n",
            "dims of /content/hetvae/data/CAT/CSS/CSS170130:101532+383223_19.34.dat:\t(552, 3)\n",
            "dims of /content/hetvae/data/CAT/CSS/CSS170504:144757+132212_18.9.dat:\t(801, 3)\n",
            "dims of /content/hetvae/data/CAT/CSS/CSS170627:140044+460728_19.49.dat:\t(245, 3)\n",
            "indexes of outliers to be pruned, if any: []\n",
            "indexes of outliers to be pruned, if any: []\n",
            "indexes of outliers to be pruned, if any: [ 2  8 15]\n",
            "indexes of outliers to be pruned, if any: [157 344 399]\n",
            "indexes of outliers to be pruned, if any: [104]\n",
            "indexes of outliers to be pruned, if any: [83]\n",
            "indexes of outliers to be pruned, if any: []\n",
            "indexes of outliers to be pruned, if any: []\n",
            "indexes of outliers to be pruned, if any: [ 42  52  91 301]\n",
            "indexes of outliers to be pruned, if any: [183]\n",
            "indexes of outliers to be pruned, if any: [102 186 246]\n",
            "indexes of outliers to be pruned, if any: []\n",
            "indexes of outliers to be pruned, if any: []\n",
            "indexes of outliers to be pruned, if any: []\n",
            "indexes of outliers to be pruned, if any: [28]\n",
            "indexes of outliers to be pruned, if any: [6]\n",
            "indexes of outliers to be pruned, if any: [62]\n",
            "indexes of outliers to be pruned, if any: [197]\n",
            "indexes of outliers to be pruned, if any: [10 17 20]\n",
            "indexes of outliers to be pruned, if any: [116 176]\n",
            "indexes of outliers to be pruned, if any: []\n",
            "indexes of outliers to be pruned, if any: [105]\n",
            "indexes of outliers to be pruned, if any: [215]\n",
            "indexes of outliers to be pruned, if any: [36 39]\n",
            "indexes of outliers to be pruned, if any: [178 381 382]\n",
            "indexes of outliers to be pruned, if any: []\n",
            "indexes of outliers to be pruned, if any: [47 57]\n",
            "indexes of outliers to be pruned, if any: []\n",
            "indexes of outliers to be pruned, if any: [29]\n",
            "indexes of outliers to be pruned, if any: [15 18 19 65 78]\n",
            "indexes of outliers to be pruned, if any: [207 214]\n",
            "indexes of outliers to be pruned, if any: [  2  11  52  81 245 309 421 456 664]\n",
            "indexes of outliers to be pruned, if any: [116]\n",
            "indexes of outliers to be pruned, if any: []\n",
            "indexes of outliers to be pruned, if any: [19 20]\n",
            "indexes of outliers to be pruned, if any: [  0 255 272]\n",
            "indexes of outliers to be pruned, if any: []\n",
            "indexes of outliers to be pruned, if any: [  4  63 106 156 159 201 221 234 236]\n",
            "indexes of outliers to be pruned, if any: [1 2]\n",
            "indexes of outliers to be pruned, if any: [171]\n",
            "indexes of outliers to be pruned, if any: [238]\n",
            "indexes of outliers to be pruned, if any: [  1  15 427 450 465 489 496]\n",
            "indexes of outliers to be pruned, if any: [ 40  41  42 179]\n",
            "indexes of outliers to be pruned, if any: [  9  19 392 422]\n",
            "indexes of outliers to be pruned, if any: [ 41  58  63 133 675]\n",
            "indexes of outliers to be pruned, if any: [25]\n",
            "indexes of outliers to be pruned, if any: [ 22 130 385 487]\n",
            "indexes of outliers to be pruned, if any: [11]\n",
            "indexes of outliers to be pruned, if any: [423 443]\n",
            "indexes of outliers to be pruned, if any: [7]\n",
            "generating 1 new sample of each example in the dataset & appending them \n",
            " old dataset length: 50\n",
            "new dataset length: 100\n",
            "created union_x attribute of length 14002\n",
            "zero fill all the examples up to the length of longest one given, dataset is also now a numpy array w shape: (100, 702, 3), instead of a list of numpy arrays\n",
            "created subsampled_mask & recon_mask instance attributes\n",
            "['/content/hetvae/data/CAT/CSS/CSS170626:144248+502203_20.72.dat', '/content/hetvae/data/CAT/CSS/CSS171010:235439+005752_17.47.dat', '/content/hetvae/data/CAT/CSS/CSS170131:135357-074301_19.9.dat', '/content/hetvae/data/CAT/CSS/CSS170304:122854+241500_19.15.dat', '/content/hetvae/data/CAT/CSS/CSS170925:034553-154102_19.07.dat', '/content/hetvae/data/CAT/CSS/CSS170325:143550+500123_20.53.dat', '/content/hetvae/data/CAT/CSS/CSS170130:102912+510535_20.17.dat', '/content/hetvae/data/CAT/CSS/CSS170506:124658+622229_18.75.dat', '/content/hetvae/data/CAT/CSS/CSS170929:015655+045636_19.34.dat', '/content/hetvae/data/CAT/CSS/CSS170221:155213+152636_19.08.dat', '/content/hetvae/data/CAT/CSS/CSS170321:125647+452323_19.55.dat', '/content/hetvae/data/CAT/CSS/CSS171011:024100-024502_19.01.dat', '/content/hetvae/data/CAT/CSS/CSS170201:114232+200717_20.13.dat', '/content/hetvae/data/CAT/CSS/CSS170320:100524+275018_19.98.dat', '/content/hetvae/data/CAT/CSS/CSS170330:105330+511722_19.04.dat', '/content/hetvae/data/CAT/CSS/CSS170130:124836+461301_18.79.dat', '/content/hetvae/data/CAT/CSS/CSS170130:113335+500438_20.04.dat', '/content/hetvae/data/CAT/CSS/CSS170131:020924-031049_19.67.dat', '/content/hetvae/data/CAT/CSS/CSS170516:123457+424112_19.42.dat', '/content/hetvae/data/CAT/CSS/CSS170423:130015+152709_20.7.dat', '/content/hetvae/data/CAT/CSS/CSS170528:130623-023814_19.62.dat', '/content/hetvae/data/CAT/CSS/CSS171011:023035-041040_18.8.dat', '/content/hetvae/data/CAT/CSS/CSS170529:141209+490112_19.59.dat', '/content/hetvae/data/CAT/CSS/CSS170627:130414+461143_20.75.dat', '/content/hetvae/data/CAT/CSS/CSS170325:125540+395120_18.55.dat', '/content/hetvae/data/CAT/CSS/CSS170629:231605-195812_19.14.dat', '/content/hetvae/data/CAT/CSS/CSS170920:004626-021509_17.95.dat', '/content/hetvae/data/CAT/CSS/CSS170224:105051+102134_19.76.dat', '/content/hetvae/data/CAT/CSS/CSS170322:125749+470604_20.81.dat', '/content/hetvae/data/CAT/CSS/CSS170924:002335+131922_18.69.dat', '/content/hetvae/data/CAT/CSS/CSS170322:092410+584144_19.69.dat', '/content/hetvae/data/CAT/CSS/CSS171001:030632+143102_18.92.dat', '/content/hetvae/data/CAT/CSS/CSS170419:125107+030511_18.4.dat', '/content/hetvae/data/CAT/CSS/CSS170302:114849+005511_20.26.dat', '/content/hetvae/data/CAT/CSS/CSS170207:150126+012927_19.82.dat', '/content/hetvae/data/CAT/CSS/CSS170519:154111+482755_19.79.dat', '/content/hetvae/data/CAT/CSS/CSS170425:144637+345409_19.9.dat', '/content/hetvae/data/CAT/CSS/CSS170918:162531+270547_17.12.dat', '/content/hetvae/data/CAT/CSS/CSS170227:151350+150947_19.68.dat', '/content/hetvae/data/CAT/CSS/CSS170131:102818+070028_20.32.dat', '/content/hetvae/data/CAT/CSS/CSS170506:144139+531059_17.8.dat', '/content/hetvae/data/CAT/CSS/CSS170130:072804+511129_18.91.dat', '/content/hetvae/data/CAT/CSS/CSS171012:172358+530024_18.73.dat', '/content/hetvae/data/CAT/CSS/CSS170304:122225+271222_19.64.dat', '/content/hetvae/data/CAT/CSS/CSS170920:222515-080102_17.54.dat', '/content/hetvae/data/CAT/CSS/CSS170221:100018+192306_19.91.dat', '/content/hetvae/data/CAT/CSS/CSS170504:170539+273641_18.81.dat', '/content/hetvae/data/CAT/CSS/CSS170130:101532+383223_19.34.dat', '/content/hetvae/data/CAT/CSS/CSS170504:144757+132212_18.9.dat', '/content/hetvae/data/CAT/CSS/CSS170627:140044+460728_19.49.dat'] \n",
            " (14002,) (100, 702, 3) (100, 702) (100, 702)\n"
          ]
        },
        {
          "output_type": "stream",
          "name": "stderr",
          "text": [
            "/content/hetvae/src/dataset.py:153: RuntimeWarning: divide by zero encountered in true_divide\n",
            "  self.dataset[:,:,2] = 1. / self.dataset[:,:,2]\n"
          ]
        }
      ]
    },
    {
      "cell_type": "code",
      "execution_count": 220,
      "id": "b3120f1f",
      "metadata": {
        "colab": {
          "base_uri": "https://localhost:8080/",
          "height": 627
        },
        "id": "b3120f1f",
        "outputId": "c670a8ea-3cec-4a3c-cfc8-fb7d6e5c7c8a"
      },
      "outputs": [
        {
          "output_type": "stream",
          "name": "stdout",
          "text": [
            "dims of /content/hetvae/data/EDELSON/NGC5548_SX.dat:\t(267, 3)\n",
            "dims of /content/hetvae/data/EDELSON/NGC5548_W1.dat:\t(260, 3)\n",
            "dims of /content/hetvae/data/EDELSON/NGC4593_W2.dat:\t(147, 3)\n",
            "dims of /content/hetvae/data/EDELSON/NGC5548_M2.dat:\t(248, 3)\n",
            "indexes of outliers to be pruned, if any: [ 87  96 102]\n",
            "indexes of outliers to be pruned, if any: []\n",
            "indexes of outliers to be pruned, if any: []\n",
            "indexes of outliers to be pruned, if any: []\n",
            "generating 9 new sample of each example in the dataset & appending them \n",
            " old dataset length: 4\n",
            "new dataset length: 40\n",
            "created union_x attribute of length 916\n",
            "zero fill all the examples up to the length of longest one given, dataset is also now a numpy array w shape: (40, 264, 3), instead of a list of numpy arrays\n",
            "created subsampled_mask & recon_mask instance attributes\n",
            "['/content/hetvae/data/EDELSON/NGC5548_SX.dat', '/content/hetvae/data/EDELSON/NGC5548_W1.dat', '/content/hetvae/data/EDELSON/NGC4593_W2.dat', '/content/hetvae/data/EDELSON/NGC5548_M2.dat'] \n",
            " (916,) (40, 264, 3) (40, 264) (40, 264)\n"
          ]
        },
        {
          "output_type": "stream",
          "name": "stderr",
          "text": [
            "/content/hetvae/src/dataset.py:153: RuntimeWarning: divide by zero encountered in true_divide\n",
            "  self.dataset[:,:,2] = 1. / self.dataset[:,:,2]\n"
          ]
        },
        {
          "output_type": "execute_result",
          "data": {
            "text/plain": [
              "(916,)"
            ]
          },
          "metadata": {},
          "execution_count": 220
        },
        {
          "output_type": "display_data",
          "data": {
            "text/plain": [
              "<Figure size 432x288 with 1 Axes>"
            ],
            "image/png": "[encoded data removed]"
          },
          "metadata": {
            "needs_background": "light"
          }
        }
      ],
      "source": [
        "#--------------------------------------------------------------------------------------------------------\n",
        "# PREPROCESSING, from Edelson data \n",
        "#--------------------------------------------------------------------------------------------------------\n",
        "lc_files = glob('/content/hetvae/data/EDELSON/*')[:4]\n",
        "\n",
        "# hypers: \n",
        "Edelson = DataSet().add_files(lc_files).files_to_numpy().handle_dups().prune_outliers().resample_dataset(num_samples=9).normalize().reorder() \\\n",
        "        .set_union_x().zero_fill().error_to_sample_weight().make_masks(frac=0.33)\n",
        "\n",
        "print(\n",
        "    Edelson.files, '\\n',\n",
        "    Edelson.union_x.shape,\n",
        "    Edelson.dataset.shape,\n",
        "    Edelson.subsampled_mask.shape,\n",
        "    Edelson.recon_mask.shape\n",
        "  )\n",
        "\n",
        "plt.scatter(Edelson.dataset[3,:-100,0], Edelson.dataset[3,:-100,1])\n",
        "Edelson.union_x.shape"
      ]
    },
    {
      "cell_type": "code",
      "execution_count": 221,
      "id": "b01ad704",
      "metadata": {
        "id": "b01ad704"
      },
      "outputs": [],
      "source": [
        "# num heads?\n",
        "args = Namespace(batch_size=8, bound_variance=True, const_var=False, dataset='toy', dropout=0.3, \n",
        "                 elbo_weight=0.051, embed_time=32, enc_num_heads=4, intensity=True, k_iwae=1, kl_annealing=False, \n",
        "                 kl_zero=False, latent_dim=64, lr=0.001, mixing='concat_and_mix', mse_weight=8.46, n=8, net='hetvae', \n",
        "                 niters=1000, norm=True, normalize_input='znorm', num_ref_points=64, rec_hidden=64, recon_loss=False, \n",
        "                 sample_tp=0.33, save=True, seed=0, shuffle=True, std=0.1, var_per_dim=False, width=64)\n",
        "\n"
      ]
    },
    {
      "cell_type": "code",
      "execution_count": 222,
      "id": "d4088220",
      "metadata": {
        "id": "d4088220"
      },
      "outputs": [],
      "source": [
        "DIM = 1\n",
        "# definitly want a decaying error rate...\n",
        "#scheduler = torch.optim.lr_scheduler.MultiStepLR(optimizer, milestones=[], gamma=0.1)\n",
        "seed = args.seed\n",
        "torch.manual_seed(seed)\n",
        "np.random.seed(seed)\n",
        "torch.cuda.manual_seed(seed)\n",
        "device = torch.device('cuda' if torch.cuda.is_available() else 'cpu')"
      ]
    },
    {
      "cell_type": "code",
      "execution_count": 223,
      "id": "d0aebfb9",
      "metadata": {
        "colab": {
          "base_uri": "https://localhost:8080/"
        },
        "id": "d0aebfb9",
        "outputId": "6cd5db66-d471-4adf-8c87-96df1d63e2b7"
      },
      "outputs": [
        {
          "output_type": "stream",
          "name": "stdout",
          "text": [
            "(40, 264, 5)\n"
          ]
        }
      ],
      "source": [
        "LightCurves = np.concatenate((Edelson.dataset, Edelson.subsampled_mask[:,:,np.newaxis], Edelson.recon_mask[:,:,np.newaxis]), axis=-1) # format the masks for the model \n",
        "print(LightCurves.shape)\n"
      ]
    },
    {
      "cell_type": "code",
      "execution_count": 224,
      "id": "1f4fa40b",
      "metadata": {
        "id": "1f4fa40b"
      },
      "outputs": [],
      "source": [
        "training, valid = np.split(LightCurves, [int(np.floor(1*len(LightCurves)))])# shuffle?\n",
        "train_loader = torch.utils.data.DataLoader(training, batch_size=args.batch_size)\n",
        "valid_loader = torch.utils.data.DataLoader(valid, batch_size=args.batch_size)\n",
        "       "
      ]
    },
    {
      "cell_type": "code",
      "execution_count": 225,
      "id": "b27bb411",
      "metadata": {
        "id": "b27bb411"
      },
      "outputs": [],
      "source": [
        "net = models.load_network(args, DIM, torch.Tensor(Edelson.union_x)) # , device=\"cuda\"\n",
        "params = list(net.parameters())\n",
        "optimizer = optim.Adam(params, lr=0.002057519)"
      ]
    },
    {
      "cell_type": "code",
      "execution_count": 226,
      "id": "552f9dde",
      "metadata": {
        "id": "552f9dde"
      },
      "outputs": [],
      "source": [
        "def train(net, optimizer,epoch, train_loader, args, device=\"cuda\"):\n",
        "      \n",
        "      train_loss = 0.\n",
        "      train_n = 0.\n",
        "      avg_loglik, avg_kl, mse, mae = 0., 0., 0., 0.\n",
        "      for i, train_batch in enumerate(train_loader):\n",
        "          batch_len = train_batch.shape[0] \n",
        "          #train_batch[:,:,2] = torch.ones((train_batch[:,:,3].shape))\n",
        "          train_batch = train_batch.to(device)\n",
        "          x = train_batch[:,:,0]\n",
        "          y = train_batch[:,:,1:2]\n",
        "          \n",
        "          subsampled_mask = train_batch[:,:,3:4]\n",
        "          recon_mask = train_batch[:,:,4:]\n",
        "          sample_weight = train_batch[:,:,2:3]\n",
        "          # weights for loss in analogy to standard weighted least squares error \n",
        "  \n",
        "          seqlen = train_batch.size(1) \n",
        "          # subsampled flux values and their corresponding masks....\n",
        "          context_y = torch.cat((\n",
        "              y * subsampled_mask, subsampled_mask\n",
        "          ), -1) \n",
        "          recon_context_y = torch.cat((            # flux values with only recon_mask values showing\n",
        "                  y * recon_mask, recon_mask\n",
        "              ), -1)\n",
        "          \n",
        "\n",
        "\n",
        "    # #   def compute_unsupervised_loss(self, context_x, context_y, target_x, target_y, num_samples=1, beta=1):\n",
        "          loss_info = net.compute_unsupervised_loss(\n",
        "              x, # context_x, times\n",
        "              context_y,             # context_y\n",
        "              x, # target_x, same times? \n",
        "              recon_context_y,\n",
        "              num_samples=args.k_iwae, # 1? \n",
        "              beta=1,\n",
        "              # optional, will be zero if not set\n",
        "              #sample_weight = 1.sample_weight,\n",
        "\n",
        "          )\n",
        "          optimizer.zero_grad()\n",
        "          loss_info.composite_loss.backward()\n",
        "          optimizer.step()\n",
        "          #scheduler.step()\n",
        "          train_loss += loss_info.composite_loss.item() * batch_len\n",
        "          avg_loglik += loss_info.loglik * batch_len\n",
        "          avg_kl += loss_info.kl * batch_len\n",
        "          mse += loss_info.mse * batch_len\n",
        "          mae += loss_info.mae * batch_len\n",
        "          train_n += batch_len\n",
        "      \n",
        "      \n",
        "      if epoch % 100 == 0:\n",
        "          print(\n",
        "              'Iter: {}, train loss: {:.4f}, avg nll: {:.4f}, avg kl: {:.4f}, '\n",
        "              'mse: {:.6f}, mae: {:.6f}'.format(\n",
        "                  epoch,\n",
        "                  train_loss / train_n,\n",
        "                  -avg_loglik / train_n,\n",
        "                  avg_kl / train_n,\n",
        "                  mse / train_n,\n",
        "                  mae / train_n\n",
        "              )\n",
        "          )\n",
        "      # (128x4 and 2x256)\n",
        "      # (128x4 and 2x64)\n",
        "      # (128x4 and 6x256)"
      ]
    },
    {
      "cell_type": "code",
      "source": [
        "for g in optimizer.param_groups:\n",
        "    print(g['lr'])\n",
        "    g['lr'] = 0.0002057519"
      ],
      "metadata": {
        "colab": {
          "base_uri": "https://localhost:8080/"
        },
        "id": "JQCwNCcF8fcN",
        "outputId": "955167bc-ebcb-48ab-be91-eaedfc64179d"
      },
      "id": "JQCwNCcF8fcN",
      "execution_count": 215,
      "outputs": [
        {
          "output_type": "stream",
          "name": "stdout",
          "text": [
            "0.002057519\n"
          ]
        }
      ]
    },
    {
      "cell_type": "code",
      "execution_count": 227,
      "id": "2a537d69",
      "metadata": {
        "colab": {
          "base_uri": "https://localhost:8080/"
        },
        "id": "2a537d69",
        "outputId": "c4a68f35-f6ef-4549-c6ae-0c054f8a8cf8"
      },
      "outputs": [
        {
          "output_type": "stream",
          "name": "stdout",
          "text": [
            "Iter: 100, train loss: -0.0414, avg nll: -1.4740, avg kl: 0.0322, mse: 0.003799, mae: 0.046781\n",
            "Iter: 200, train loss: -0.0507, avg nll: -1.5474, avg kl: 0.0089, mse: 0.003284, mae: 0.044006\n"
          ]
        }
      ],
      "source": [
        "for epoch in range(1, 201):#args.niters + 1):\n",
        "    train(net, optimizer, epoch, train_loader, args)\n",
        "\n",
        "#2*self.dim, self.latent_dim: 2 X 64"
      ]
    },
    {
      "cell_type": "code",
      "source": [
        "my_utils.evaluate(net, train_loader, device=device)"
      ],
      "metadata": {
        "id": "_FU7cwb7f-Uq",
        "outputId": "2213ce96-2796-498b-8a33-bfa4e00773af",
        "colab": {
          "base_uri": "https://localhost:8080/"
        }
      },
      "id": "_FU7cwb7f-Uq",
      "execution_count": 207,
      "outputs": [
        {
          "output_type": "execute_result",
          "data": {
            "text/plain": [
              "tensor(-1.4900, device='cuda:0')"
            ]
          },
          "metadata": {},
          "execution_count": 207
        }
      ]
    },
    {
      "cell_type": "code",
      "source": [
        "my_utils.viz_per_example(Edelson.dataset[0], net, device=device, k_iwae=30, fracs=[.25,0.5,.75])"
      ],
      "metadata": {
        "colab": {
          "base_uri": "https://localhost:8080/",
          "height": 181
        },
        "id": "R5DMflXJ8Qxb",
        "outputId": "42552fec-6608-4ab6-b2a4-524bc19f89a3"
      },
      "id": "R5DMflXJ8Qxb",
      "execution_count": 228,
      "outputs": [
        {
          "output_type": "stream",
          "name": "stdout",
          "text": [
            "pred_mean: (30, 3, 264, 1) pred_std: (30, 3, 264, 1)= targets: (3, 264, 1) masks: (3, 264, 1) tps: (3, 264) inputs: (3, 264, 1)\n",
            "(450, 3, 264, 1)\n"
          ]
        },
        {
          "output_type": "display_data",
          "data": {
            "text/plain": [
              "<Figure size 900x108 with 3 Axes>"
            ],
            "image/png": "[encoded data removed]"
          },
          "metadata": {
            "needs_background": "light"
          }
        }
      ]
    },
    {
      "cell_type": "code",
      "source": [
        ""
      ],
      "metadata": {
        "id": "zFILEvBWt7Yq"
      },
      "id": "zFILEvBWt7Yq",
      "execution_count": null,
      "outputs": []
    }
  ],
  "metadata": {
    "kernelspec": {
      "display_name": "Python 3 (ipykernel)",
      "language": "python",
      "name": "python3"
    },
    "language_info": {
      "codemirror_mode": {
        "name": "ipython",
        "version": 3
      },
      "file_extension": ".py",
      "mimetype": "text/x-python",
      "name": "python",
      "nbconvert_exporter": "python",
      "pygments_lexer": "ipython3",
      "version": "3.9.2"
    },
    "colab": {
      "name": "light_curve_demo.ipynb",
      "provenance": []
    },
    "accelerator": "GPU"
  },
  "nbformat": 4,
  "nbformat_minor": 5
}