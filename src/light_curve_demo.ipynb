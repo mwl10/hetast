{
  "cells": [
    {
      "cell_type": "code",
      "execution_count": 3,
      "id": "5fe134d8",
      "metadata": {
        "colab": {
          "base_uri": "https://localhost:8080/"
        },
        "id": "5fe134d8",
        "outputId": "8c2e6036-7fd6-45af-d3cb-1a28e5475881"
      },
      "outputs": [
        {
          "output_type": "stream",
          "name": "stdout",
          "text": [
            "Cloning into 'hetvae'...\n",
            "remote: Enumerating objects: 2036, done.\u001b[K\n",
            "remote: Counting objects: 100% (176/176), done.\u001b[K\n",
            "remote: Compressing objects: 100% (123/123), done.\u001b[K\n",
            "remote: Total 2036 (delta 119), reused 93 (delta 53), pack-reused 1860\u001b[K\n",
            "Receiving objects: 100% (2036/2036), 26.43 MiB | 13.69 MiB/s, done.\n",
            "Resolving deltas: 100% (722/722), done.\n",
            "Looking in indexes: https://pypi.org/simple, https://us-python.pkg.dev/colab-wheels/public/simple/\n",
            "Requirement already satisfied: alembic==1.7.7 in /usr/local/lib/python3.7/dist-packages (from -r requirements.txt (line 1)) (1.7.7)\n",
            "Requirement already satisfied: attrs==21.4.0 in /usr/local/lib/python3.7/dist-packages (from -r requirements.txt (line 2)) (21.4.0)\n",
            "Requirement already satisfied: autopage==0.5.0 in /usr/local/lib/python3.7/dist-packages (from -r requirements.txt (line 3)) (0.5.0)\n",
            "Requirement already satisfied: backports.functools-lru-cache==1.6.4 in /usr/local/lib/python3.7/dist-packages (from -r requirements.txt (line 4)) (1.6.4)\n",
            "Requirement already satisfied: cliff==3.10.1 in /usr/local/lib/python3.7/dist-packages (from -r requirements.txt (line 5)) (3.10.1)\n",
            "Requirement already satisfied: cmaes==0.8.2 in /usr/local/lib/python3.7/dist-packages (from -r requirements.txt (line 6)) (0.8.2)\n",
            "Requirement already satisfied: cmd2==2.3.3 in /usr/local/lib/python3.7/dist-packages (from -r requirements.txt (line 7)) (2.3.3)\n",
            "Requirement already satisfied: colorama==0.4.4 in /usr/local/lib/python3.7/dist-packages (from -r requirements.txt (line 8)) (0.4.4)\n",
            "Requirement already satisfied: colorlog==6.6.0 in /usr/local/lib/python3.7/dist-packages (from -r requirements.txt (line 9)) (6.6.0)\n",
            "Requirement already satisfied: greenlet==1.1.2 in /usr/local/lib/python3.7/dist-packages (from -r requirements.txt (line 10)) (1.1.2)\n",
            "Requirement already satisfied: importlib-metadata==4.11.4 in /usr/local/lib/python3.7/dist-packages (from -r requirements.txt (line 11)) (4.11.4)\n",
            "Requirement already satisfied: importlib-resources==5.7.1 in /usr/local/lib/python3.7/dist-packages (from -r requirements.txt (line 12)) (5.7.1)\n",
            "Requirement already satisfied: Mako==1.2.0 in /usr/local/lib/python3.7/dist-packages (from -r requirements.txt (line 13)) (1.2.0)\n",
            "Requirement already satisfied: MarkupSafe==2.1.1 in /usr/local/lib/python3.7/dist-packages (from -r requirements.txt (line 14)) (2.1.1)\n",
            "Requirement already satisfied: numpy==1.21.0 in /usr/local/lib/python3.7/dist-packages (from -r requirements.txt (line 15)) (1.21.0)\n",
            "Requirement already satisfied: optuna==2.10.0 in /usr/local/lib/python3.7/dist-packages (from -r requirements.txt (line 16)) (2.10.0)\n",
            "Requirement already satisfied: packaging==21.3 in /usr/local/lib/python3.7/dist-packages (from -r requirements.txt (line 17)) (21.3)\n",
            "Requirement already satisfied: pbr==5.9.0 in /usr/local/lib/python3.7/dist-packages (from -r requirements.txt (line 18)) (5.9.0)\n",
            "Requirement already satisfied: pip==22.1.1 in /usr/local/lib/python3.7/dist-packages (from -r requirements.txt (line 19)) (22.1.1)\n",
            "Requirement already satisfied: prettytable==3.3.0 in /usr/local/lib/python3.7/dist-packages (from -r requirements.txt (line 20)) (3.3.0)\n",
            "Requirement already satisfied: pyparsing==3.0.9 in /usr/local/lib/python3.7/dist-packages (from -r requirements.txt (line 21)) (3.0.9)\n",
            "Requirement already satisfied: pyperclip==1.8.2 in /usr/local/lib/python3.7/dist-packages (from -r requirements.txt (line 22)) (1.8.2)\n",
            "Requirement already satisfied: PyYAML==6.0 in /usr/local/lib/python3.7/dist-packages (from -r requirements.txt (line 23)) (6.0)\n",
            "Requirement already satisfied: scipy==1.7.3 in /usr/local/lib/python3.7/dist-packages (from -r requirements.txt (line 24)) (1.7.3)\n",
            "Requirement already satisfied: setuptools==62.3.2 in /usr/local/lib/python3.7/dist-packages (from -r requirements.txt (line 25)) (62.3.2)\n",
            "Requirement already satisfied: SQLAlchemy==1.4.36 in /usr/local/lib/python3.7/dist-packages (from -r requirements.txt (line 26)) (1.4.36)\n",
            "Requirement already satisfied: stevedore==3.5.0 in /usr/local/lib/python3.7/dist-packages (from -r requirements.txt (line 27)) (3.5.0)\n",
            "Requirement already satisfied: tqdm==4.64.0 in /usr/local/lib/python3.7/dist-packages (from -r requirements.txt (line 28)) (4.64.0)\n",
            "Requirement already satisfied: wcwidth==0.2.5 in /usr/local/lib/python3.7/dist-packages (from -r requirements.txt (line 29)) (0.2.5)\n",
            "Requirement already satisfied: wheel==0.37.1 in /usr/local/lib/python3.7/dist-packages (from -r requirements.txt (line 30)) (0.37.1)\n",
            "Requirement already satisfied: zipp==3.8.0 in /usr/local/lib/python3.7/dist-packages (from -r requirements.txt (line 31)) (3.8.0)\n",
            "Requirement already satisfied: typing-extensions in /usr/local/lib/python3.7/dist-packages (from cmd2==2.3.3->-r requirements.txt (line 7)) (4.2.0)\n",
            "\u001b[33mWARNING: Running pip as the 'root' user can result in broken permissions and conflicting behaviour with the system package manager. It is recommended to use a virtual environment instead: https://pip.pypa.io/warnings/venv\u001b[0m\u001b[33m\n",
            "\u001b[0m"
          ]
        }
      ],
      "source": [
        "import os\n",
        "import shutil#\n",
        "os.chdir('/content')\n",
        "if os.path.isdir('./hetvae'):\n",
        "  shutil.rmtree('./hetvae/')\n",
        "! git clone --branch errors https://github.com/mwl10/hetvae\n",
        "os.chdir('/content/hetvae')\n",
        "! pip install -r requirements.txt\n",
        "os.chdir('/content/hetvae/src')\n",
        "import numpy as np\n",
        "import torch\n",
        "import torch.optim as optim\n",
        "import models\n",
        "from argparse import Namespace\n",
        "import torch.optim as optim\n",
        "import utils\n",
        "import my_utils\n",
        "import pandas as pd\n",
        "import importlib\n",
        "import vae_models\n",
        "importlib.reload(vae_models)\n",
        "importlib.reload(models)\n",
        "importlib.reload(utils)\n",
        "importlib.reload(my_utils)\n",
        "from glob import glob\n",
        "import matplotlib.pyplot as plt\n",
        "import sys\n",
        "#del sys.modules['dataset']\n",
        "from dataset import DataSet\n",
        "%matplotlib inline"
      ]
    },
    {
      "cell_type": "code",
      "execution_count": 4,
      "id": "9f4e5bb7",
      "metadata": {
        "id": "9f4e5bb7",
        "outputId": "1ce243f0-0791-4ac9-8fc3-218541ac754c",
        "colab": {
          "base_uri": "https://localhost:8080/",
          "height": 541
        }
      },
      "outputs": [
        {
          "output_type": "stream",
          "name": "stdout",
          "text": [
            "indexes of outliers to be pruned, if any: [600 601]\n",
            "indexes of outliers to be pruned, if any: []\n",
            "indexes of outliers to be pruned, if any: [418 583]\n",
            "indexes of outliers to be pruned, if any: []\n",
            "indexes of outliers to be pruned, if any: [ 98 205 260 261 554 555]\n",
            "generating 1 new sample of each example in the dataset & appending them \n",
            " old dataset length: 5\n",
            "new dataset length: 10\n",
            "created union_x attribute of length 2436\n",
            "zero fill all the examples up to the length of longest one given, dataset is also now a numpy array w shape: (10, 619, 3), instead of a list of numpy arrays\n",
            "created subsampled_mask & recon_mask instance attributes\n",
            "(2436,) (10, 619, 3) (10, 619) (10, 619)\n"
          ]
        },
        {
          "output_type": "stream",
          "name": "stderr",
          "text": [
            "/content/hetvae/src/dataset.py:156: RuntimeWarning: divide by zero encountered in true_divide\n",
            "  self.dataset[:,:,2] = 1. / self.dataset[:,:,2]\n"
          ]
        },
        {
          "output_type": "execute_result",
          "data": {
            "text/plain": [
              "<matplotlib.collections.PathCollection at 0x7f2da272a350>"
            ]
          },
          "metadata": {},
          "execution_count": 4
        },
        {
          "output_type": "display_data",
          "data": {
            "text/plain": [
              "<Figure size 432x288 with 1 Axes>"
            ],
            "image/png": "[encoded data removed]"
          },
          "metadata": {
            "needs_background": "light"
          }
        }
      ],
      "source": [
        "#------------------------------\n",
        "# AGN Preprocessing, we have a DF w/ OBJECT , FILTER, MJD, FLUX, ERROR\n",
        "#------------------------------\n",
        "\n",
        "def get_AGN_data(file):\n",
        "    agn_df = pd.read_csv(file)\n",
        "    # handle formatting for new AGN\n",
        "    lcs = []\n",
        "    for lc_df in agn_df.groupby('Filter'):\n",
        "        lc = lc_df[1][['MJD', 'Flux', 'Error']].to_numpy()\n",
        "        lcs.append(lc)\n",
        "\n",
        "    AGN_1H2106 = DataSet()\n",
        "    AGN_1H2106.dataset = lcs # skip add files part\n",
        "    AGN_1H2106 = AGN_1H2106.handle_dups() \\\n",
        "                          .prune_outliers() \\\n",
        "                          .resample_dataset(num_samples=1) \\\n",
        "                          .normalize() \\\n",
        "                          .reorder() \\\n",
        "                          .set_union_x() \\\n",
        "                          .zero_fill() \\\n",
        "                          .error_to_sample_weight() \\\n",
        "                          .make_masks(frac=0.5)\n",
        "\n",
        "    print(\n",
        "        AGN_1H2106.union_x.shape,\n",
        "        AGN_1H2106.dataset.shape,\n",
        "        AGN_1H2106.subsampled_mask.shape,\n",
        "        AGN_1H2106.recon_mask.shape\n",
        "      )\n",
        "\n",
        "    return AGN_1H2106\n",
        "\n",
        "AGN_1H2106 = get_AGN_data('/content/hetvae/data/AGN_1H2106-099/1H2106-099_latest_lcs_pyroa.csv')\n",
        "\n",
        "plt.scatter(AGN_1H2106.dataset[6,:-130,0], AGN_1H2106.dataset[6,:-130,1])"
      ]
    },
    {
      "cell_type": "code",
      "source": [
        "#--------------------------------------------------------------------------------------------------------\n",
        "# PREPROCESSING, from Catalina data\n",
        "#--------------------------------------------------------------------------------------------------------\n",
        "\n",
        "\n",
        "lc_files = glob('/content/hetvae/data/CAT/*/*')[:50]\n",
        "\n",
        "Catalina = DataSet() \\\n",
        "            .add_files(lc_files) \\\n",
        "            .files_to_numpy() \\\n",
        "            .handle_dups() \\\n",
        "            .prune_outliers() \\\n",
        "            .resample_dataset(num_samples=1) \\\n",
        "            .normalize() \\\n",
        "            .reorder() \\\n",
        "            .set_union_x() \\\n",
        "            .zero_fill() \\\n",
        "            .error_to_sample_weight() \\\n",
        "            .make_masks(frac=0.5)\n",
        "\n",
        "print(\n",
        "    Catalina.files, '\\n',\n",
        "    Catalina.union_x.shape,\n",
        "    Catalina.dataset.shape,\n",
        "    Catalina.subsampled_mask.shape,\n",
        "    Catalina.recon_mask.shape\n",
        "  )\n"
      ],
      "metadata": {
        "id": "WSd6dRhCvv5M",
        "outputId": "bdf87121-2918-4afa-9605-0519cf33a35d",
        "colab": {
          "base_uri": "https://localhost:8080/"
        }
      },
      "id": "WSd6dRhCvv5M",
      "execution_count": 5,
      "outputs": [
        {
          "output_type": "stream",
          "name": "stdout",
          "text": [
            "dims of /content/hetvae/data/CAT/CSS/CSS170131:135357-074301_19.9.dat:\t(282, 3)\n",
            "dims of /content/hetvae/data/CAT/CSS/CSS170302:114849+005511_20.26.dat:\t(424, 3)\n",
            "dims of /content/hetvae/data/CAT/CSS/CSS170918:162531+270547_17.12.dat:\t(533, 3)\n",
            "dims of /content/hetvae/data/CAT/CSS/CSS170626:144534+461748_20.55.dat:\t(332, 3)\n",
            "dims of /content/hetvae/data/CAT/CSS/CSS171011:010004-132449_19.01.dat:\t(302, 3)\n",
            "dims of /content/hetvae/data/CAT/CSS/CSS170215:114903+362408_18.25.dat:\t(811, 3)\n",
            "dims of /content/hetvae/data/CAT/CSS/CSS170224:105051+102134_19.76.dat:\t(489, 3)\n",
            "dims of /content/hetvae/data/CAT/CSS/CSS170318:140157+452716_19.29.dat:\t(591, 3)\n",
            "dims of /content/hetvae/data/CAT/CSS/CSS170322:092410+584144_19.69.dat:\t(469, 3)\n",
            "dims of /content/hetvae/data/CAT/CSS/CSS170928:021956+152837_19.91.dat:\t(435, 3)\n",
            "dims of /content/hetvae/data/CAT/CSS/CSS170626:144248+502203_20.72.dat:\t(292, 3)\n",
            "dims of /content/hetvae/data/CAT/CSS/CSS170506:124658+622229_18.75.dat:\t(429, 3)\n",
            "dims of /content/hetvae/data/CAT/CSS/CSS170322:145644+395340_20.7.dat:\t(419, 3)\n",
            "dims of /content/hetvae/data/CAT/CSS/CSS170419:125107+030511_18.4.dat:\t(168, 3)\n",
            "dims of /content/hetvae/data/CAT/CSS/CSS170504:144757+132212_18.9.dat:\t(801, 3)\n",
            "dims of /content/hetvae/data/CAT/CSS/CSS170920:222515-080102_17.54.dat:\t(725, 3)\n",
            "dims of /content/hetvae/data/CAT/CSS/CSS171011:022657-035945_18.76.dat:\t(414, 3)\n",
            "dims of /content/hetvae/data/CAT/CSS/CSS170201:032419+151858_18.88.dat:\t(581, 3)\n",
            "dims of /content/hetvae/data/CAT/CSS/CSS170330:105330+511722_19.04.dat:\t(350, 3)\n",
            "dims of /content/hetvae/data/CAT/CSS/CSS170130:113335+500438_20.04.dat:\t(183, 3)\n",
            "dims of /content/hetvae/data/CAT/CSS/CSS170627:113446+331131_20.32.dat:\t(231, 3)\n",
            "dims of /content/hetvae/data/CAT/CSS/CSS170325:125540+395120_18.55.dat:\t(802, 3)\n",
            "dims of /content/hetvae/data/CAT/CSS/CSS170928:031553+152331_19.85.dat:\t(393, 3)\n",
            "dims of /content/hetvae/data/CAT/CSS/CSS170304:122225+271222_19.64.dat:\t(692, 3)\n",
            "dims of /content/hetvae/data/CAT/CSS/CSS170425:144637+345409_19.9.dat:\t(531, 3)\n",
            "dims of /content/hetvae/data/CAT/CSS/CSS170529:141209+490112_19.59.dat:\t(422, 3)\n",
            "dims of /content/hetvae/data/CAT/CSS/CSS170322:125749+470604_20.81.dat:\t(288, 3)\n",
            "dims of /content/hetvae/data/CAT/CSS/CSS170227:151350+150947_19.68.dat:\t(227, 3)\n",
            "dims of /content/hetvae/data/CAT/CSS/CSS170321:125647+452323_19.55.dat:\t(591, 3)\n",
            "dims of /content/hetvae/data/CAT/CSS/CSS170924:002335+131922_18.69.dat:\t(524, 3)\n",
            "dims of /content/hetvae/data/CAT/CSS/CSS170323:083128+192242_19.0.dat:\t(576, 3)\n",
            "dims of /content/hetvae/data/CAT/CSS/CSS170920:004626-021509_17.95.dat:\t(381, 3)\n",
            "dims of /content/hetvae/data/CAT/CSS/CSS171001:004742+155939_18.04.dat:\t(511, 3)\n",
            "dims of /content/hetvae/data/CAT/CSS/CSS170928:005935+133340_20.04.dat:\t(215, 3)\n",
            "dims of /content/hetvae/data/CAT/CSS/CSS170519:143840+483606_18.94.dat:\t(379, 3)\n",
            "dims of /content/hetvae/data/CAT/CSS/CSS170629:231605-195812_19.14.dat:\t(32, 3)\n",
            "dims of /content/hetvae/data/CAT/CSS/CSS170516:123457+424112_19.42.dat:\t(705, 3)\n",
            "dims of /content/hetvae/data/CAT/CSS/CSS170929:020951+062822_18.99.dat:\t(444, 3)\n",
            "dims of /content/hetvae/data/CAT/CSS/CSS170925:233209-210538_19.1.dat:\t(337, 3)\n",
            "dims of /content/hetvae/data/CAT/CSS/CSS170928:020115+134229_19.8.dat:\t(338, 3)\n",
            "dims of /content/hetvae/data/CAT/CSS/CSS170327:100524+275019_19.39.dat:\t(450, 3)\n",
            "dims of /content/hetvae/data/CAT/CSS/CSS170130:072727+504800_17.44.dat:\t(1052, 3)\n",
            "dims of /content/hetvae/data/CAT/CSS/CSS170924:000329+142215_19.13.dat:\t(141, 3)\n",
            "dims of /content/hetvae/data/CAT/CSS/CSS170325:135129+413007_20.61.dat:\t(246, 3)\n",
            "dims of /content/hetvae/data/CAT/CSS/CSS170221:100018+192306_19.91.dat:\t(443, 3)\n",
            "dims of /content/hetvae/data/CAT/CSS/CSS170304:142241+225141_18.63.dat:\t(602, 3)\n",
            "dims of /content/hetvae/data/CAT/CSS/CSS170504:170539+273641_18.81.dat:\t(824, 3)\n",
            "dims of /content/hetvae/data/CAT/CSS/CSS170528:130623-023814_19.62.dat:\t(292, 3)\n",
            "dims of /content/hetvae/data/CAT/CSS/CSS170506:144139+531059_17.8.dat:\t(281, 3)\n",
            "dims of /content/hetvae/data/CAT/CSS/CSS170221:155213+152636_19.08.dat:\t(299, 3)\n",
            "indexes of outliers to be pruned, if any: [ 2  8 15]\n",
            "indexes of outliers to be pruned, if any: []\n",
            "indexes of outliers to be pruned, if any: [  4  63 106 156 159 201 221 234 236]\n",
            "indexes of outliers to be pruned, if any: [84]\n",
            "indexes of outliers to be pruned, if any: [  5   9  24  32 250]\n",
            "indexes of outliers to be pruned, if any: [  6 442]\n",
            "indexes of outliers to be pruned, if any: []\n",
            "indexes of outliers to be pruned, if any: [250 289 300]\n",
            "indexes of outliers to be pruned, if any: [207 214]\n",
            "indexes of outliers to be pruned, if any: [266 319]\n",
            "indexes of outliers to be pruned, if any: []\n",
            "indexes of outliers to be pruned, if any: []\n",
            "indexes of outliers to be pruned, if any: [135]\n",
            "indexes of outliers to be pruned, if any: [116]\n",
            "indexes of outliers to be pruned, if any: [423 443]\n",
            "indexes of outliers to be pruned, if any: [ 41  58  63 133 675]\n",
            "indexes of outliers to be pruned, if any: [33]\n",
            "indexes of outliers to be pruned, if any: [238]\n",
            "indexes of outliers to be pruned, if any: [28]\n",
            "indexes of outliers to be pruned, if any: [62]\n",
            "indexes of outliers to be pruned, if any: [110]\n",
            "indexes of outliers to be pruned, if any: [178 381 382]\n",
            "indexes of outliers to be pruned, if any: [26 33]\n",
            "indexes of outliers to be pruned, if any: [  9  19 392 422]\n",
            "indexes of outliers to be pruned, if any: []\n",
            "indexes of outliers to be pruned, if any: [215]\n",
            "indexes of outliers to be pruned, if any: [29]\n",
            "indexes of outliers to be pruned, if any: [1 2]\n",
            "indexes of outliers to be pruned, if any: [102 186 246]\n",
            "indexes of outliers to be pruned, if any: [15 18 19 65 78]\n",
            "indexes of outliers to be pruned, if any: [ 27 368]\n",
            "indexes of outliers to be pruned, if any: [47 57]\n",
            "indexes of outliers to be pruned, if any: [  6  30  64 111 209 408]\n",
            "indexes of outliers to be pruned, if any: []\n",
            "indexes of outliers to be pruned, if any: [ 33 219]\n",
            "indexes of outliers to be pruned, if any: []\n",
            "indexes of outliers to be pruned, if any: [10 17 20]\n",
            "indexes of outliers to be pruned, if any: [166 205 374]\n",
            "indexes of outliers to be pruned, if any: [130 289]\n",
            "indexes of outliers to be pruned, if any: [163 266 278]\n",
            "indexes of outliers to be pruned, if any: []\n",
            "indexes of outliers to be pruned, if any: [268 639 657 658 679]\n",
            "indexes of outliers to be pruned, if any: [17]\n",
            "indexes of outliers to be pruned, if any: []\n",
            "indexes of outliers to be pruned, if any: [25]\n",
            "indexes of outliers to be pruned, if any: [344 375]\n",
            "indexes of outliers to be pruned, if any: [ 22 130 385 487]\n",
            "indexes of outliers to be pruned, if any: []\n",
            "indexes of outliers to be pruned, if any: [238]\n",
            "indexes of outliers to be pruned, if any: [183]\n",
            "generating 1 new sample of each example in the dataset & appending them \n",
            " old dataset length: 50\n",
            "new dataset length: 100\n",
            "created union_x attribute of length 15129\n",
            "zero fill all the examples up to the length of longest one given, dataset is also now a numpy array w shape: (100, 744, 3), instead of a list of numpy arrays\n",
            "created subsampled_mask & recon_mask instance attributes\n",
            "['/content/hetvae/data/CAT/CSS/CSS170131:135357-074301_19.9.dat', '/content/hetvae/data/CAT/CSS/CSS170302:114849+005511_20.26.dat', '/content/hetvae/data/CAT/CSS/CSS170918:162531+270547_17.12.dat', '/content/hetvae/data/CAT/CSS/CSS170626:144534+461748_20.55.dat', '/content/hetvae/data/CAT/CSS/CSS171011:010004-132449_19.01.dat', '/content/hetvae/data/CAT/CSS/CSS170215:114903+362408_18.25.dat', '/content/hetvae/data/CAT/CSS/CSS170224:105051+102134_19.76.dat', '/content/hetvae/data/CAT/CSS/CSS170318:140157+452716_19.29.dat', '/content/hetvae/data/CAT/CSS/CSS170322:092410+584144_19.69.dat', '/content/hetvae/data/CAT/CSS/CSS170928:021956+152837_19.91.dat', '/content/hetvae/data/CAT/CSS/CSS170626:144248+502203_20.72.dat', '/content/hetvae/data/CAT/CSS/CSS170506:124658+622229_18.75.dat', '/content/hetvae/data/CAT/CSS/CSS170322:145644+395340_20.7.dat', '/content/hetvae/data/CAT/CSS/CSS170419:125107+030511_18.4.dat', '/content/hetvae/data/CAT/CSS/CSS170504:144757+132212_18.9.dat', '/content/hetvae/data/CAT/CSS/CSS170920:222515-080102_17.54.dat', '/content/hetvae/data/CAT/CSS/CSS171011:022657-035945_18.76.dat', '/content/hetvae/data/CAT/CSS/CSS170201:032419+151858_18.88.dat', '/content/hetvae/data/CAT/CSS/CSS170330:105330+511722_19.04.dat', '/content/hetvae/data/CAT/CSS/CSS170130:113335+500438_20.04.dat', '/content/hetvae/data/CAT/CSS/CSS170627:113446+331131_20.32.dat', '/content/hetvae/data/CAT/CSS/CSS170325:125540+395120_18.55.dat', '/content/hetvae/data/CAT/CSS/CSS170928:031553+152331_19.85.dat', '/content/hetvae/data/CAT/CSS/CSS170304:122225+271222_19.64.dat', '/content/hetvae/data/CAT/CSS/CSS170425:144637+345409_19.9.dat', '/content/hetvae/data/CAT/CSS/CSS170529:141209+490112_19.59.dat', '/content/hetvae/data/CAT/CSS/CSS170322:125749+470604_20.81.dat', '/content/hetvae/data/CAT/CSS/CSS170227:151350+150947_19.68.dat', '/content/hetvae/data/CAT/CSS/CSS170321:125647+452323_19.55.dat', '/content/hetvae/data/CAT/CSS/CSS170924:002335+131922_18.69.dat', '/content/hetvae/data/CAT/CSS/CSS170323:083128+192242_19.0.dat', '/content/hetvae/data/CAT/CSS/CSS170920:004626-021509_17.95.dat', '/content/hetvae/data/CAT/CSS/CSS171001:004742+155939_18.04.dat', '/content/hetvae/data/CAT/CSS/CSS170928:005935+133340_20.04.dat', '/content/hetvae/data/CAT/CSS/CSS170519:143840+483606_18.94.dat', '/content/hetvae/data/CAT/CSS/CSS170629:231605-195812_19.14.dat', '/content/hetvae/data/CAT/CSS/CSS170516:123457+424112_19.42.dat', '/content/hetvae/data/CAT/CSS/CSS170929:020951+062822_18.99.dat', '/content/hetvae/data/CAT/CSS/CSS170925:233209-210538_19.1.dat', '/content/hetvae/data/CAT/CSS/CSS170928:020115+134229_19.8.dat', '/content/hetvae/data/CAT/CSS/CSS170327:100524+275019_19.39.dat', '/content/hetvae/data/CAT/CSS/CSS170130:072727+504800_17.44.dat', '/content/hetvae/data/CAT/CSS/CSS170924:000329+142215_19.13.dat', '/content/hetvae/data/CAT/CSS/CSS170325:135129+413007_20.61.dat', '/content/hetvae/data/CAT/CSS/CSS170221:100018+192306_19.91.dat', '/content/hetvae/data/CAT/CSS/CSS170304:142241+225141_18.63.dat', '/content/hetvae/data/CAT/CSS/CSS170504:170539+273641_18.81.dat', '/content/hetvae/data/CAT/CSS/CSS170528:130623-023814_19.62.dat', '/content/hetvae/data/CAT/CSS/CSS170506:144139+531059_17.8.dat', '/content/hetvae/data/CAT/CSS/CSS170221:155213+152636_19.08.dat'] \n",
            " (15129,) (100, 744, 3) (100, 744) (100, 744)\n"
          ]
        },
        {
          "output_type": "stream",
          "name": "stderr",
          "text": [
            "/content/hetvae/src/dataset.py:156: RuntimeWarning: divide by zero encountered in true_divide\n",
            "  self.dataset[:,:,2] = 1. / self.dataset[:,:,2]\n"
          ]
        }
      ]
    },
    {
      "cell_type": "code",
      "execution_count": 8,
      "id": "b3120f1f",
      "metadata": {
        "colab": {
          "base_uri": "https://localhost:8080/",
          "height": 608
        },
        "id": "b3120f1f",
        "outputId": "1153015e-7309-4b92-cf49-f4178ed4ad98"
      },
      "outputs": [
        {
          "output_type": "stream",
          "name": "stdout",
          "text": [
            "dims of /content/hetvae/data/EDELSON/NGC5548_SX.dat:\t(267, 3)\n",
            "dims of /content/hetvae/data/EDELSON/NGC5548_W1.dat:\t(260, 3)\n",
            "dims of /content/hetvae/data/EDELSON/NGC4593_W2.dat:\t(147, 3)\n",
            "dims of /content/hetvae/data/EDELSON/NGC4593_SX.dat:\t(190, 3)\n",
            "indexes of outliers to be pruned, if any: [ 87  96 102]\n",
            "indexes of outliers to be pruned, if any: []\n",
            "indexes of outliers to be pruned, if any: []\n",
            "indexes of outliers to be pruned, if any: []\n",
            "generating 9 new sample of each example in the dataset & appending them \n",
            " old dataset length: 4\n",
            "new dataset length: 40\n",
            "created union_x attribute of length 858\n",
            "zero fill all the examples up to the length of longest one given, dataset is also now a numpy array w shape: (40, 264, 3), instead of a list of numpy arrays\n",
            "created subsampled_mask & recon_mask instance attributes\n",
            "['/content/hetvae/data/EDELSON/NGC5548_SX.dat', '/content/hetvae/data/EDELSON/NGC5548_W1.dat', '/content/hetvae/data/EDELSON/NGC4593_W2.dat', '/content/hetvae/data/EDELSON/NGC4593_SX.dat'] \n",
            " (858,) (40, 264, 3) (40, 264) (40, 264)\n"
          ]
        },
        {
          "output_type": "stream",
          "name": "stderr",
          "text": [
            "/content/hetvae/src/dataset.py:156: RuntimeWarning: divide by zero encountered in true_divide\n",
            "  self.dataset[:,:,2] = 1. / self.dataset[:,:,2]\n"
          ]
        },
        {
          "output_type": "execute_result",
          "data": {
            "text/plain": [
              "(858,)"
            ]
          },
          "metadata": {},
          "execution_count": 8
        },
        {
          "output_type": "display_data",
          "data": {
            "text/plain": [
              "<Figure size 432x288 with 1 Axes>"
            ],
            "image/png": "[encoded data removed]"
          },
          "metadata": {
            "needs_background": "light"
          }
        }
      ],
      "source": [
        "#--------------------------------------------------------------------------------------------------------\n",
        "# PREPROCESSING, from Edelson data \n",
        "#--------------------------------------------------------------------------------------------------------\n",
        "lc_files = glob('/content/hetvae/data/EDELSON/*')[:4]\n",
        "\n",
        "# hypers: \n",
        "Edelson = DataSet() \\\n",
        "            .add_files(lc_files) \\\n",
        "            .files_to_numpy() \\\n",
        "            .handle_dups() \\\n",
        "            .prune_outliers() \\\n",
        "            .resample_dataset(num_samples=9) \\\n",
        "            .normalize() \\\n",
        "            .reorder() \\\n",
        "            .set_union_x() \\\n",
        "            .zero_fill() \\\n",
        "            .error_to_sample_weight() \\\n",
        "            .make_masks(frac=0.33)\n",
        "\n",
        "print(\n",
        "    Edelson.files, '\\n',\n",
        "    Edelson.union_x.shape,\n",
        "    Edelson.dataset.shape,\n",
        "    Edelson.subsampled_mask.shape,\n",
        "    Edelson.recon_mask.shape\n",
        "  )\n",
        "\n",
        "plt.scatter(Edelson.dataset[1,:-100,0], Edelson.dataset[1,:-100,1])\n",
        "Edelson.union_x.shape"
      ]
    },
    {
      "cell_type": "code",
      "execution_count": null,
      "id": "b01ad704",
      "metadata": {
        "id": "b01ad704"
      },
      "outputs": [],
      "source": [
        "# num heads?\n",
        "args = Namespace(batch_size=8, bound_variance=True, const_var=False, dataset='toy', dropout=0.3, \n",
        "                 elbo_weight=0.051, embed_time=32, enc_num_heads=4, intensity=True, k_iwae=1, kl_annealing=False, \n",
        "                 kl_zero=False, latent_dim=64, lr=0.001, mixing='concat_and_mix', mse_weight=8.46, n=8, net='hetvae', \n",
        "                 niters=1000, norm=True, normalize_input='znorm', num_ref_points=64, rec_hidden=64, recon_loss=False, \n",
        "                 sample_tp=0.33, save=True, seed=0, shuffle=True, std=0.1, var_per_dim=False, width=64)\n",
        "\n"
      ]
    },
    {
      "cell_type": "code",
      "execution_count": null,
      "id": "d4088220",
      "metadata": {
        "id": "d4088220"
      },
      "outputs": [],
      "source": [
        "DIM = 1\n",
        "# definitly want a decaying error rate...\n",
        "#scheduler = torch.optim.lr_scheduler.MultiStepLR(optimizer, milestones=[], gamma=0.1)\n",
        "seed = args.seed\n",
        "torch.manual_seed(seed)\n",
        "np.random.seed(seed)\n",
        "torch.cuda.manual_seed(seed)\n",
        "device = torch.device('cuda' if torch.cuda.is_available() else 'cpu')"
      ]
    },
    {
      "cell_type": "code",
      "execution_count": null,
      "id": "d0aebfb9",
      "metadata": {
        "colab": {
          "base_uri": "https://localhost:8080/"
        },
        "id": "d0aebfb9",
        "outputId": "6cd5db66-d471-4adf-8c87-96df1d63e2b7"
      },
      "outputs": [
        {
          "output_type": "stream",
          "name": "stdout",
          "text": [
            "(40, 264, 5)\n"
          ]
        }
      ],
      "source": [
        "LightCurves = np.concatenate((Edelson.dataset, Edelson.subsampled_mask[:,:,np.newaxis], Edelson.recon_mask[:,:,np.newaxis]), axis=-1) # format the masks for the model \n",
        "print(LightCurves.shape)\n"
      ]
    },
    {
      "cell_type": "code",
      "execution_count": null,
      "id": "1f4fa40b",
      "metadata": {
        "id": "1f4fa40b"
      },
      "outputs": [],
      "source": [
        "training, valid = np.split(LightCurves, [int(np.floor(1*len(LightCurves)))])# shuffle?\n",
        "train_loader = torch.utils.data.DataLoader(training, batch_size=args.batch_size)\n",
        "valid_loader = torch.utils.data.DataLoader(valid, batch_size=args.batch_size)\n",
        "       "
      ]
    },
    {
      "cell_type": "code",
      "execution_count": null,
      "id": "b27bb411",
      "metadata": {
        "id": "b27bb411"
      },
      "outputs": [],
      "source": [
        "net = models.load_network(args, DIM, torch.Tensor(Edelson.union_x)) # , device=\"cuda\"\n",
        "params = list(net.parameters())\n",
        "optimizer = optim.Adam(params, lr=0.002057519)"
      ]
    },
    {
      "cell_type": "code",
      "execution_count": null,
      "id": "552f9dde",
      "metadata": {
        "id": "552f9dde"
      },
      "outputs": [],
      "source": [
        "def train(net, optimizer,epoch, train_loader, args, device=\"cuda\"):\n",
        "      \n",
        "      train_loss = 0.\n",
        "      train_n = 0.\n",
        "      avg_loglik, avg_kl, mse, mae = 0., 0., 0., 0.\n",
        "      for i, train_batch in enumerate(train_loader):\n",
        "          batch_len = train_batch.shape[0] \n",
        "          #train_batch[:,:,2] = torch.ones((train_batch[:,:,3].shape))\n",
        "          train_batch = train_batch.to(device)\n",
        "          x = train_batch[:,:,0]\n",
        "          y = train_batch[:,:,1:2]\n",
        "          \n",
        "          subsampled_mask = train_batch[:,:,3:4]\n",
        "          recon_mask = train_batch[:,:,4:]\n",
        "          sample_weight = train_batch[:,:,2:3]\n",
        "          # weights for loss in analogy to standard weighted least squares error \n",
        "  \n",
        "          seqlen = train_batch.size(1) \n",
        "          # subsampled flux values and their corresponding masks....\n",
        "          context_y = torch.cat((\n",
        "              y * subsampled_mask, subsampled_mask\n",
        "          ), -1) \n",
        "          recon_context_y = torch.cat((            # flux values with only recon_mask values showing\n",
        "                  y * recon_mask, recon_mask\n",
        "              ), -1)\n",
        "          \n",
        "\n",
        "\n",
        "    # #   def compute_unsupervised_loss(self, context_x, context_y, target_x, target_y, num_samples=1, beta=1):\n",
        "          loss_info = net.compute_unsupervised_loss(\n",
        "              x, # context_x, times\n",
        "              context_y,             # context_y\n",
        "              x, # target_x, same times? \n",
        "              recon_context_y,\n",
        "              num_samples=args.k_iwae, # 1? \n",
        "              beta=1,\n",
        "              # optional, will be zero if not set\n",
        "              #sample_weight = 1.sample_weight,\n",
        "\n",
        "          )\n",
        "          optimizer.zero_grad()\n",
        "          loss_info.composite_loss.backward()\n",
        "          optimizer.step()\n",
        "          #scheduler.step()\n",
        "          train_loss += loss_info.composite_loss.item() * batch_len\n",
        "          avg_loglik += loss_info.loglik * batch_len\n",
        "          avg_kl += loss_info.kl * batch_len\n",
        "          mse += loss_info.mse * batch_len\n",
        "          mae += loss_info.mae * batch_len\n",
        "          train_n += batch_len\n",
        "      \n",
        "      \n",
        "      if epoch % 100 == 0:\n",
        "          print(\n",
        "              'Iter: {}, train loss: {:.4f}, avg nll: {:.4f}, avg kl: {:.4f}, '\n",
        "              'mse: {:.6f}, mae: {:.6f}'.format(\n",
        "                  epoch,\n",
        "                  train_loss / train_n,\n",
        "                  -avg_loglik / train_n,\n",
        "                  avg_kl / train_n,\n",
        "                  mse / train_n,\n",
        "                  mae / train_n\n",
        "              )\n",
        "          )\n",
        "      # (128x4 and 2x256)\n",
        "      # (128x4 and 2x64)\n",
        "      # (128x4 and 6x256)"
      ]
    },
    {
      "cell_type": "code",
      "source": [
        "for g in optimizer.param_groups:\n",
        "    print(g['lr'])\n",
        "    g['lr'] = 0.0002057519"
      ],
      "metadata": {
        "colab": {
          "base_uri": "https://localhost:8080/"
        },
        "id": "JQCwNCcF8fcN",
        "outputId": "955167bc-ebcb-48ab-be91-eaedfc64179d"
      },
      "id": "JQCwNCcF8fcN",
      "execution_count": null,
      "outputs": [
        {
          "output_type": "stream",
          "name": "stdout",
          "text": [
            "0.002057519\n"
          ]
        }
      ]
    },
    {
      "cell_type": "code",
      "execution_count": null,
      "id": "2a537d69",
      "metadata": {
        "colab": {
          "base_uri": "https://localhost:8080/"
        },
        "id": "2a537d69",
        "outputId": "c4a68f35-f6ef-4549-c6ae-0c054f8a8cf8"
      },
      "outputs": [
        {
          "output_type": "stream",
          "name": "stdout",
          "text": [
            "Iter: 100, train loss: -0.0414, avg nll: -1.4740, avg kl: 0.0322, mse: 0.003799, mae: 0.046781\n",
            "Iter: 200, train loss: -0.0507, avg nll: -1.5474, avg kl: 0.0089, mse: 0.003284, mae: 0.044006\n"
          ]
        }
      ],
      "source": [
        "for epoch in range(1, 201):#args.niters + 1):\n",
        "    train(net, optimizer, epoch, train_loader, args)\n",
        "\n",
        "#2*self.dim, self.latent_dim: 2 X 64"
      ]
    },
    {
      "cell_type": "code",
      "source": [
        "my_utils.evaluate(net, train_loader, device=device)"
      ],
      "metadata": {
        "id": "_FU7cwb7f-Uq",
        "outputId": "2213ce96-2796-498b-8a33-bfa4e00773af",
        "colab": {
          "base_uri": "https://localhost:8080/"
        }
      },
      "id": "_FU7cwb7f-Uq",
      "execution_count": null,
      "outputs": [
        {
          "output_type": "execute_result",
          "data": {
            "text/plain": [
              "tensor(-1.4900, device='cuda:0')"
            ]
          },
          "metadata": {},
          "execution_count": 207
        }
      ]
    },
    {
      "cell_type": "code",
      "source": [
        "my_utils.viz_per_example(Edelson.dataset[0], net, device=device, k_iwae=30, fracs=[.25,0.5,.75])"
      ],
      "metadata": {
        "colab": {
          "base_uri": "https://localhost:8080/",
          "height": 181
        },
        "id": "R5DMflXJ8Qxb",
        "outputId": "42552fec-6608-4ab6-b2a4-524bc19f89a3"
      },
      "id": "R5DMflXJ8Qxb",
      "execution_count": null,
      "outputs": [
        {
          "output_type": "stream",
          "name": "stdout",
          "text": [
            "pred_mean: (30, 3, 264, 1) pred_std: (30, 3, 264, 1)= targets: (3, 264, 1) masks: (3, 264, 1) tps: (3, 264) inputs: (3, 264, 1)\n",
            "(450, 3, 264, 1)\n"
          ]
        },
        {
          "output_type": "display_data",
          "data": {
            "text/plain": [
              "<Figure size 900x108 with 3 Axes>"
            ],
            "image/png": "[encoded data removed]"
          },
          "metadata": {
            "needs_background": "light"
          }
        }
      ]
    },
    {
      "cell_type": "code",
      "source": [
        ""
      ],
      "metadata": {
        "id": "zFILEvBWt7Yq"
      },
      "id": "zFILEvBWt7Yq",
      "execution_count": null,
      "outputs": []
    }
  ],
  "metadata": {
    "kernelspec": {
      "display_name": "Python 3 (ipykernel)",
      "language": "python",
      "name": "python3"
    },
    "language_info": {
      "codemirror_mode": {
        "name": "ipython",
        "version": 3
      },
      "file_extension": ".py",
      "mimetype": "text/x-python",
      "name": "python",
      "nbconvert_exporter": "python",
      "pygments_lexer": "ipython3",
      "version": "3.9.2"
    },
    "colab": {
      "name": "light_curve_demo.ipynb",
      "provenance": []
    },
    "accelerator": "GPU"
  },
  "nbformat": 4,
  "nbformat_minor": 5
}