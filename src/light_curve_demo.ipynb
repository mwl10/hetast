{
  "cells": [
    {
      "cell_type": "code",
      "execution_count": 252,
      "id": "5fe134d8",
      "metadata": {
        "colab": {
          "base_uri": "https://localhost:8080/"
        },
        "id": "5fe134d8",
        "outputId": "0fb8074f-b075-445c-e88b-81d9b7383d46"
      },
      "outputs": [
        {
          "output_type": "stream",
          "name": "stdout",
          "text": [
            "Cloning into 'hetvae'...\n",
            "remote: Enumerating objects: 1976, done.\u001b[K\n",
            "remote: Counting objects: 100% (116/116), done.\u001b[K\n",
            "remote: Compressing objects: 100% (81/81), done.\u001b[K\n",
            "remote: Total 1976 (delta 77), reused 62 (delta 35), pack-reused 1860\u001b[K\n",
            "Receiving objects: 100% (1976/1976), 26.30 MiB | 27.88 MiB/s, done.\n",
            "Resolving deltas: 100% (680/680), done.\n",
            "Looking in indexes: https://pypi.org/simple, https://us-python.pkg.dev/colab-wheels/public/simple/\n",
            "Requirement already satisfied: alembic==1.7.7 in /usr/local/lib/python3.7/dist-packages (from -r requirements.txt (line 1)) (1.7.7)\n",
            "Requirement already satisfied: attrs==21.4.0 in /usr/local/lib/python3.7/dist-packages (from -r requirements.txt (line 2)) (21.4.0)\n",
            "Requirement already satisfied: autopage==0.5.0 in /usr/local/lib/python3.7/dist-packages (from -r requirements.txt (line 3)) (0.5.0)\n",
            "Requirement already satisfied: backports.functools-lru-cache==1.6.4 in /usr/local/lib/python3.7/dist-packages (from -r requirements.txt (line 4)) (1.6.4)\n",
            "Requirement already satisfied: cliff==3.10.1 in /usr/local/lib/python3.7/dist-packages (from -r requirements.txt (line 5)) (3.10.1)\n",
            "Requirement already satisfied: cmaes==0.8.2 in /usr/local/lib/python3.7/dist-packages (from -r requirements.txt (line 6)) (0.8.2)\n",
            "Requirement already satisfied: cmd2==2.3.3 in /usr/local/lib/python3.7/dist-packages (from -r requirements.txt (line 7)) (2.3.3)\n",
            "Requirement already satisfied: colorama==0.4.4 in /usr/local/lib/python3.7/dist-packages (from -r requirements.txt (line 8)) (0.4.4)\n",
            "Requirement already satisfied: colorlog==6.6.0 in /usr/local/lib/python3.7/dist-packages (from -r requirements.txt (line 9)) (6.6.0)\n",
            "Requirement already satisfied: greenlet==1.1.2 in /usr/local/lib/python3.7/dist-packages (from -r requirements.txt (line 10)) (1.1.2)\n",
            "Requirement already satisfied: importlib-metadata==4.11.4 in /usr/local/lib/python3.7/dist-packages (from -r requirements.txt (line 11)) (4.11.4)\n",
            "Requirement already satisfied: importlib-resources==5.7.1 in /usr/local/lib/python3.7/dist-packages (from -r requirements.txt (line 12)) (5.7.1)\n",
            "Requirement already satisfied: Mako==1.2.0 in /usr/local/lib/python3.7/dist-packages (from -r requirements.txt (line 13)) (1.2.0)\n",
            "Requirement already satisfied: MarkupSafe==2.1.1 in /usr/local/lib/python3.7/dist-packages (from -r requirements.txt (line 14)) (2.1.1)\n",
            "Requirement already satisfied: numpy==1.21.0 in /usr/local/lib/python3.7/dist-packages (from -r requirements.txt (line 15)) (1.21.0)\n",
            "Requirement already satisfied: optuna==2.10.0 in /usr/local/lib/python3.7/dist-packages (from -r requirements.txt (line 16)) (2.10.0)\n",
            "Requirement already satisfied: packaging==21.3 in /usr/local/lib/python3.7/dist-packages (from -r requirements.txt (line 17)) (21.3)\n",
            "Requirement already satisfied: pbr==5.9.0 in /usr/local/lib/python3.7/dist-packages (from -r requirements.txt (line 18)) (5.9.0)\n",
            "Requirement already satisfied: pip==22.1.1 in /usr/local/lib/python3.7/dist-packages (from -r requirements.txt (line 19)) (22.1.1)\n",
            "Requirement already satisfied: prettytable==3.3.0 in /usr/local/lib/python3.7/dist-packages (from -r requirements.txt (line 20)) (3.3.0)\n",
            "Requirement already satisfied: pyparsing==3.0.9 in /usr/local/lib/python3.7/dist-packages (from -r requirements.txt (line 21)) (3.0.9)\n",
            "Requirement already satisfied: pyperclip==1.8.2 in /usr/local/lib/python3.7/dist-packages (from -r requirements.txt (line 22)) (1.8.2)\n",
            "Requirement already satisfied: PyYAML==6.0 in /usr/local/lib/python3.7/dist-packages (from -r requirements.txt (line 23)) (6.0)\n",
            "Requirement already satisfied: scipy==1.7.3 in /usr/local/lib/python3.7/dist-packages (from -r requirements.txt (line 24)) (1.7.3)\n",
            "Requirement already satisfied: setuptools==62.3.2 in /usr/local/lib/python3.7/dist-packages (from -r requirements.txt (line 25)) (62.3.2)\n",
            "Requirement already satisfied: SQLAlchemy==1.4.36 in /usr/local/lib/python3.7/dist-packages (from -r requirements.txt (line 26)) (1.4.36)\n",
            "Requirement already satisfied: stevedore==3.5.0 in /usr/local/lib/python3.7/dist-packages (from -r requirements.txt (line 27)) (3.5.0)\n",
            "Requirement already satisfied: tqdm==4.64.0 in /usr/local/lib/python3.7/dist-packages (from -r requirements.txt (line 28)) (4.64.0)\n",
            "Requirement already satisfied: wcwidth==0.2.5 in /usr/local/lib/python3.7/dist-packages (from -r requirements.txt (line 29)) (0.2.5)\n",
            "Requirement already satisfied: wheel==0.37.1 in /usr/local/lib/python3.7/dist-packages (from -r requirements.txt (line 30)) (0.37.1)\n",
            "Requirement already satisfied: zipp==3.8.0 in /usr/local/lib/python3.7/dist-packages (from -r requirements.txt (line 31)) (3.8.0)\n",
            "Requirement already satisfied: typing-extensions in /usr/local/lib/python3.7/dist-packages (from cmd2==2.3.3->-r requirements.txt (line 7)) (4.2.0)\n",
            "\u001b[33mWARNING: Running pip as the 'root' user can result in broken permissions and conflicting behaviour with the system package manager. It is recommended to use a virtual environment instead: https://pip.pypa.io/warnings/venv\u001b[0m\u001b[33m\n",
            "\u001b[0m"
          ]
        }
      ],
      "source": [
        "import os\n",
        "import shutil\n",
        "os.chdir('/content')\n",
        "if os.path.isdir('./hetvae'):\n",
        "  shutil.rmtree('./hetvae/')\n",
        "! git clone --branch errors https://github.com/mwl10/hetvae\n",
        "os.chdir('/content/hetvae')\n",
        "! pip install -r requirements.txt\n",
        "os.chdir('/content/hetvae/src')\n",
        "import numpy as np\n",
        "import torch\n",
        "import torch.optim as optim\n",
        "import models\n",
        "from argparse import Namespace\n",
        "import torch.optim as optim\n",
        "import utils\n",
        "import my_utils\n",
        "import pandas as pd\n",
        "import importlib\n",
        "import vae_models\n",
        "importlib.reload(vae_models)\n",
        "importlib.reload(models)\n",
        "importlib.reload(utils)\n",
        "importlib.reload(my_utils)\n",
        "from glob import glob\n",
        "import matplotlib.pyplot as plt\n",
        "import sys\n",
        "del sys.modules['dataset']\n",
        "from dataset import DataSet\n",
        "%matplotlib inline"
      ]
    },
    {
      "cell_type": "code",
      "execution_count": 199,
      "id": "9f4e5bb7",
      "metadata": {
        "id": "9f4e5bb7",
        "outputId": "eb006cfd-3fb8-4dee-bc61-2521a88bed59",
        "colab": {
          "base_uri": "https://localhost:8080/",
          "height": 540
        }
      },
      "outputs": [
        {
          "output_type": "stream",
          "name": "stdout",
          "text": [
            "indexes of outliers to be pruned, if any: [600 601]\n",
            "indexes of outliers to be pruned, if any: []\n",
            "indexes of outliers to be pruned, if any: [418 583]\n",
            "indexes of outliers to be pruned, if any: []\n",
            "indexes of outliers to be pruned, if any: [ 98 205 260 261 554 555]\n",
            "generating 1 new sample of each example in the dataset & appending them \n",
            " old dataset length: 5\n",
            "new dataset length: 10\n",
            "created union_x attribute of length 2436\n",
            "zero fill all the examples up to the length of longest one given, dataset is also now a numpy array w shape: (10, 619, 3), instead of a list of numpy arrays\n",
            "created subsampled_mask & recon_mask instance attributes\n",
            "(2436,) (10, 619, 3) (10, 619) (10, 619)\n"
          ]
        },
        {
          "output_type": "stream",
          "name": "stderr",
          "text": [
            "/content/hetvae/src/dataset.py:153: RuntimeWarning: divide by zero encountered in true_divide\n",
            "  self.dataset[:,:,2] = 1. / self.dataset[:,:,2]\n"
          ]
        },
        {
          "output_type": "execute_result",
          "data": {
            "text/plain": [
              "<matplotlib.collections.PathCollection at 0x7f9d71f39850>"
            ]
          },
          "metadata": {},
          "execution_count": 199
        },
        {
          "output_type": "display_data",
          "data": {
            "text/plain": [
              "<Figure size 432x288 with 1 Axes>"
            ],
            "image/png": "[encoded data removed]"
          },
          "metadata": {
            "needs_background": "light"
          }
        }
      ],
      "source": [
        "#------------------------------\n",
        "# AGN Preprocessing, we have a DF w/ OBJECT , FILTER, MJD, FLUX, ERROR\n",
        "#------------------------------\n",
        "\n",
        "def get_AGN_data(file):\n",
        "    agn_df = pd.read_csv(file)\n",
        "    # handle formatting for new AGN\n",
        "    lcs = []\n",
        "    for lc_df in agn_df.groupby('Filter'):\n",
        "        lc = lc_df[1][['MJD', 'Flux', 'Error']].to_numpy()\n",
        "        lcs.append(lc)\n",
        "\n",
        "    AGN_1H2106 = DataSet()\n",
        "    AGN_1H2106.dataset = lcs # skip add files part\n",
        "    AGN_1H2106 = AGN_1H2106.handle_dups().prune_outliers().resample_dataset(num_samples=1).normalize().reorder() \\\n",
        "        .set_union_x().zero_fill().error_to_sample_weight().make_masks(frac=0.5)\n",
        "\n",
        "    print(\n",
        "        AGN_1H2106.union_x.shape,\n",
        "        AGN_1H2106.dataset.shape,\n",
        "        AGN_1H2106.subsampled_mask.shape,\n",
        "        AGN_1H2106.recon_mask.shape\n",
        "      )\n",
        "\n",
        "    return AGN_1H2106\n",
        "\n",
        "AGN_1H2106 = get_AGN_data('/content/hetvae/data/AGN_1H2106-099/1H2106-099_latest_lcs_pyroa.csv')\n",
        "\n",
        "plt.scatter(AGN_1H2106.dataset[6,:-130,0], AGN_1H2106.dataset[6,:-130,1])"
      ]
    },
    {
      "cell_type": "code",
      "source": [
        "#--------------------------------------------------------------------------------------------------------\n",
        "# PREPROCESSING, from Catalina data\n",
        "#--------------------------------------------------------------------------------------------------------\n",
        "\n",
        "\n",
        "lc_files = glob('/content/hetvae/data/CAT/*/*')[:50]\n",
        "\n",
        "Catalina = DataSet().add_files(lc_files).files_to_numpy().handle_dups().prune_outliers().resample_dataset(num_samples=1).normalize().reorder() \\\n",
        "        .set_union_x().zero_fill().error_to_sample_weight().make_masks(frac=0.5)\n",
        "\n",
        "print(\n",
        "    Catalina.files, '\\n',\n",
        "    Catalina.union_x.shape,\n",
        "    Catalina.dataset.shape,\n",
        "    Catalina.subsampled_mask.shape,\n",
        "    Catalina.recon_mask.shape\n",
        "  )\n"
      ],
      "metadata": {
        "id": "WSd6dRhCvv5M",
        "outputId": "ec3bd690-f108-481a-e5ac-bc9e7365b484",
        "colab": {
          "base_uri": "https://localhost:8080/"
        }
      },
      "id": "WSd6dRhCvv5M",
      "execution_count": 188,
      "outputs": [
        {
          "output_type": "stream",
          "name": "stdout",
          "text": [
            "dims of /content/hetvae/data/CAT/MLS/MLS170306:144450+185707_19.69.dat:\t(137, 3)\n",
            "dims of /content/hetvae/data/CAT/MLS/MLS170304:132327+354548_20.7.dat:\t(121, 3)\n",
            "dims of /content/hetvae/data/CAT/MLS/MLS160613:165527+430121_20.43.dat:\t(54, 3)\n",
            "dims of /content/hetvae/data/CAT/MLS/MLS170127:092326+105449_19.15.dat:\t(518, 3)\n",
            "dims of /content/hetvae/data/CAT/MLS/MLS180707:141230+251414_19.66.dat:\t(129, 3)\n",
            "dims of /content/hetvae/data/CAT/MLS/MLS170927:004838+053437_20.85.dat:\t(205, 3)\n",
            "dims of /content/hetvae/data/CAT/MLS/MLS171122:100229+281304_19.43.dat:\t(580, 3)\n",
            "dims of /content/hetvae/data/CAT/MLS/MLS170216:114839+434838_20.21.dat:\t(181, 3)\n",
            "dims of /content/hetvae/data/CAT/MLS/MLS180410:090455+202132_20.25.dat:\t(288, 3)\n",
            "dims of /content/hetvae/data/CAT/MLS/MLS161021:235937+060847_20.82.dat:\t(82, 3)\n",
            "dims of /content/hetvae/data/CAT/MLS/MLS170403:095708+315948_19.18.dat:\t(528, 3)\n",
            "dims of /content/hetvae/data/CAT/MLS/MLS170325:102224+150229_19.91.dat:\t(247, 3)\n",
            "dims of /content/hetvae/data/CAT/MLS/MLS171117:005444+043515_20.45.dat:\t(76, 3)\n",
            "dims of /content/hetvae/data/CAT/MLS/MLS180521:114914+072824_20.37.dat:\t(61, 3)\n",
            "dims of /content/hetvae/data/CAT/MLS/MLS170222:171245+302243_20.28.dat:\t(151, 3)\n",
            "dims of /content/hetvae/data/CAT/MLS/MLS180504:154442+473128_20.14.dat:\t(51, 3)\n",
            "dims of /content/hetvae/data/CAT/MLS/MLS161026:004001+100325_20.04.dat:\t(84, 3)\n",
            "dims of /content/hetvae/data/CAT/MLS/MLS160608:111808+145642_19.71.dat:\t(130, 3)\n",
            "dims of /content/hetvae/data/CAT/MLS/MLS180409:100524+275018_19.29.dat:\t(231, 3)\n",
            "dims of /content/hetvae/data/CAT/MLS/MLS161105:094123+285054_20.0.dat:\t(51, 3)\n",
            "dims of /content/hetvae/data/CAT/MLS/MLS160604:143945+214631_21.2.dat:\t(41, 3)\n",
            "dims of /content/hetvae/data/CAT/MLS/MLS190104:113224+294614_20.17.dat:\t(192, 3)\n",
            "dims of /content/hetvae/data/CAT/MLS/MLS180210:094722+264520_20.71.dat:\t(107, 3)\n",
            "dims of /content/hetvae/data/CAT/MLS/MLS161227:073834+293901_20.01.dat:\t(154, 3)\n",
            "dims of /content/hetvae/data/CAT/MLS/MLS171017:003331-022853_20.87.dat:\t(39, 3)\n",
            "dims of /content/hetvae/data/CAT/MLS/MLS170321:121044+235049_19.65.dat:\t(284, 3)\n",
            "dims of /content/hetvae/data/CAT/MLS/MLS170309:130756+432523_20.18.dat:\t(223, 3)\n",
            "dims of /content/hetvae/data/CAT/MLS/MLS171010:164418+465730_20.65.dat:\t(106, 3)\n",
            "dims of /content/hetvae/data/CAT/MLS/MLS170405:134210+251134_21.44.dat:\t(75, 3)\n",
            "dims of /content/hetvae/data/CAT/MLS/MLS161125:022506+041723_20.58.dat:\t(119, 3)\n",
            "dims of /content/hetvae/data/CAT/MLS/MLS180406:112635+403510_19.99.dat:\t(164, 3)\n",
            "dims of /content/hetvae/data/CAT/MLS/MLS170421:104521+134902_20.42.dat:\t(246, 3)\n",
            "dims of /content/hetvae/data/CAT/MLS/MLS171023:011200+122625_20.72.dat:\t(92, 3)\n",
            "dims of /content/hetvae/data/CAT/MLS/MLS170128:103743+364745_20.61.dat:\t(112, 3)\n",
            "dims of /content/hetvae/data/CAT/MLS/MLS170201:112626+020340_20.03.dat:\t(334, 3)\n",
            "dims of /content/hetvae/data/CAT/MLS/MLS170130:104834+523224_20.61.dat:\t(131, 3)\n",
            "dims of /content/hetvae/data/CAT/MLS/MLS180319:123118+013306_20.29.dat:\t(203, 3)\n",
            "dims of /content/hetvae/data/CAT/MLS/MLS170926:034428+093852_20.31.dat:\t(67, 3)\n",
            "dims of /content/hetvae/data/CAT/MLS/MLS161204:111630+041506_19.69.dat:\t(333, 3)\n",
            "dims of /content/hetvae/data/CAT/MLS/MLS170319:131617+013833_20.2.dat:\t(153, 3)\n",
            "dims of /content/hetvae/data/CAT/MLS/MLS170319:131951+013135_19.18.dat:\t(272, 3)\n",
            "dims of /content/hetvae/data/CAT/MLS/MLS170407:141545+351017_20.46.dat:\t(190, 3)\n",
            "dims of /content/hetvae/data/CAT/MLS/MLS171220:113353+004813_21.02.dat:\t(99, 3)\n",
            "dims of /content/hetvae/data/CAT/MLS/MLS170131:103001+184325_19.53.dat:\t(417, 3)\n",
            "dims of /content/hetvae/data/CAT/MLS/MLS170222:120355+145725_20.1.dat:\t(130, 3)\n",
            "dims of /content/hetvae/data/CAT/MLS/MLS161023:232442+223653_20.03.dat:\t(91, 3)\n",
            "dims of /content/hetvae/data/CAT/MLS/MLS170108:105559+295532_20.06.dat:\t(159, 3)\n",
            "dims of /content/hetvae/data/CAT/MLS/MLS161227:104039+114209_20.8.dat:\t(54, 3)\n",
            "dims of /content/hetvae/data/CAT/MLS/MLS190125:115925+455037_20.16.dat:\t(103, 3)\n",
            "dims of /content/hetvae/data/CAT/MLS/MLS170403:103847+213341_20.26.dat:\t(153, 3)\n",
            "indexes of outliers to be pruned, if any: [1]\n",
            "indexes of outliers to be pruned, if any: []\n",
            "indexes of outliers to be pruned, if any: []\n",
            "indexes of outliers to be pruned, if any: []\n",
            "indexes of outliers to be pruned, if any: [70]\n",
            "indexes of outliers to be pruned, if any: []\n",
            "indexes of outliers to be pruned, if any: [ 40  82 112]\n",
            "indexes of outliers to be pruned, if any: []\n",
            "indexes of outliers to be pruned, if any: [0 1 2]\n",
            "indexes of outliers to be pruned, if any: []\n",
            "indexes of outliers to be pruned, if any: [78 79 80]\n",
            "indexes of outliers to be pruned, if any: [22]\n",
            "indexes of outliers to be pruned, if any: []\n",
            "indexes of outliers to be pruned, if any: []\n",
            "indexes of outliers to be pruned, if any: [ 1 23]\n",
            "indexes of outliers to be pruned, if any: []\n",
            "indexes of outliers to be pruned, if any: [0]\n",
            "indexes of outliers to be pruned, if any: []\n",
            "indexes of outliers to be pruned, if any: []\n",
            "indexes of outliers to be pruned, if any: []\n",
            "indexes of outliers to be pruned, if any: []\n",
            "indexes of outliers to be pruned, if any: [116]\n",
            "indexes of outliers to be pruned, if any: []\n",
            "indexes of outliers to be pruned, if any: [19 33]\n",
            "indexes of outliers to be pruned, if any: []\n",
            "indexes of outliers to be pruned, if any: [167]\n",
            "indexes of outliers to be pruned, if any: [98]\n",
            "indexes of outliers to be pruned, if any: []\n",
            "indexes of outliers to be pruned, if any: [0]\n",
            "indexes of outliers to be pruned, if any: [47]\n",
            "indexes of outliers to be pruned, if any: []\n",
            "indexes of outliers to be pruned, if any: [49 94]\n",
            "indexes of outliers to be pruned, if any: []\n",
            "indexes of outliers to be pruned, if any: []\n",
            "indexes of outliers to be pruned, if any: [ 28 153 163 166]\n",
            "indexes of outliers to be pruned, if any: []\n",
            "indexes of outliers to be pruned, if any: []\n",
            "indexes of outliers to be pruned, if any: []\n",
            "indexes of outliers to be pruned, if any: [8]\n",
            "indexes of outliers to be pruned, if any: [1]\n",
            "indexes of outliers to be pruned, if any: []\n",
            "indexes of outliers to be pruned, if any: [0]\n",
            "indexes of outliers to be pruned, if any: [43]\n",
            "indexes of outliers to be pruned, if any: [112]\n",
            "indexes of outliers to be pruned, if any: []\n",
            "indexes of outliers to be pruned, if any: []\n",
            "indexes of outliers to be pruned, if any: []\n",
            "indexes of outliers to be pruned, if any: []\n",
            "indexes of outliers to be pruned, if any: []\n",
            "indexes of outliers to be pruned, if any: [14]\n",
            "generating 1 new sample of each example in the dataset & appending them \n",
            " old dataset length: 50\n",
            "new dataset length: 100\n",
            "created union_x attribute of length 5596\n",
            "zero fill all the examples up to the length of longest one given, dataset is also now a numpy array w shape: (100, 526, 3), instead of a list of numpy arrays\n",
            "created subsampled_mask & recon_mask instance attributes\n",
            "['/content/hetvae/data/CAT/MLS/MLS170306:144450+185707_19.69.dat', '/content/hetvae/data/CAT/MLS/MLS170304:132327+354548_20.7.dat', '/content/hetvae/data/CAT/MLS/MLS160613:165527+430121_20.43.dat', '/content/hetvae/data/CAT/MLS/MLS170127:092326+105449_19.15.dat', '/content/hetvae/data/CAT/MLS/MLS180707:141230+251414_19.66.dat', '/content/hetvae/data/CAT/MLS/MLS170927:004838+053437_20.85.dat', '/content/hetvae/data/CAT/MLS/MLS171122:100229+281304_19.43.dat', '/content/hetvae/data/CAT/MLS/MLS170216:114839+434838_20.21.dat', '/content/hetvae/data/CAT/MLS/MLS180410:090455+202132_20.25.dat', '/content/hetvae/data/CAT/MLS/MLS161021:235937+060847_20.82.dat', '/content/hetvae/data/CAT/MLS/MLS170403:095708+315948_19.18.dat', '/content/hetvae/data/CAT/MLS/MLS170325:102224+150229_19.91.dat', '/content/hetvae/data/CAT/MLS/MLS171117:005444+043515_20.45.dat', '/content/hetvae/data/CAT/MLS/MLS180521:114914+072824_20.37.dat', '/content/hetvae/data/CAT/MLS/MLS170222:171245+302243_20.28.dat', '/content/hetvae/data/CAT/MLS/MLS180504:154442+473128_20.14.dat', '/content/hetvae/data/CAT/MLS/MLS161026:004001+100325_20.04.dat', '/content/hetvae/data/CAT/MLS/MLS160608:111808+145642_19.71.dat', '/content/hetvae/data/CAT/MLS/MLS180409:100524+275018_19.29.dat', '/content/hetvae/data/CAT/MLS/MLS161105:094123+285054_20.0.dat', '/content/hetvae/data/CAT/MLS/MLS160604:143945+214631_21.2.dat', '/content/hetvae/data/CAT/MLS/MLS190104:113224+294614_20.17.dat', '/content/hetvae/data/CAT/MLS/MLS180210:094722+264520_20.71.dat', '/content/hetvae/data/CAT/MLS/MLS161227:073834+293901_20.01.dat', '/content/hetvae/data/CAT/MLS/MLS171017:003331-022853_20.87.dat', '/content/hetvae/data/CAT/MLS/MLS170321:121044+235049_19.65.dat', '/content/hetvae/data/CAT/MLS/MLS170309:130756+432523_20.18.dat', '/content/hetvae/data/CAT/MLS/MLS171010:164418+465730_20.65.dat', '/content/hetvae/data/CAT/MLS/MLS170405:134210+251134_21.44.dat', '/content/hetvae/data/CAT/MLS/MLS161125:022506+041723_20.58.dat', '/content/hetvae/data/CAT/MLS/MLS180406:112635+403510_19.99.dat', '/content/hetvae/data/CAT/MLS/MLS170421:104521+134902_20.42.dat', '/content/hetvae/data/CAT/MLS/MLS171023:011200+122625_20.72.dat', '/content/hetvae/data/CAT/MLS/MLS170128:103743+364745_20.61.dat', '/content/hetvae/data/CAT/MLS/MLS170201:112626+020340_20.03.dat', '/content/hetvae/data/CAT/MLS/MLS170130:104834+523224_20.61.dat', '/content/hetvae/data/CAT/MLS/MLS180319:123118+013306_20.29.dat', '/content/hetvae/data/CAT/MLS/MLS170926:034428+093852_20.31.dat', '/content/hetvae/data/CAT/MLS/MLS161204:111630+041506_19.69.dat', '/content/hetvae/data/CAT/MLS/MLS170319:131617+013833_20.2.dat', '/content/hetvae/data/CAT/MLS/MLS170319:131951+013135_19.18.dat', '/content/hetvae/data/CAT/MLS/MLS170407:141545+351017_20.46.dat', '/content/hetvae/data/CAT/MLS/MLS171220:113353+004813_21.02.dat', '/content/hetvae/data/CAT/MLS/MLS170131:103001+184325_19.53.dat', '/content/hetvae/data/CAT/MLS/MLS170222:120355+145725_20.1.dat', '/content/hetvae/data/CAT/MLS/MLS161023:232442+223653_20.03.dat', '/content/hetvae/data/CAT/MLS/MLS170108:105559+295532_20.06.dat', '/content/hetvae/data/CAT/MLS/MLS161227:104039+114209_20.8.dat', '/content/hetvae/data/CAT/MLS/MLS190125:115925+455037_20.16.dat', '/content/hetvae/data/CAT/MLS/MLS170403:103847+213341_20.26.dat'] \n",
            " (5596,) (100, 526, 3) (100, 526) (100, 526)\n"
          ]
        },
        {
          "output_type": "stream",
          "name": "stderr",
          "text": [
            "/content/hetvae/src/dataset.py:153: RuntimeWarning: divide by zero encountered in true_divide\n",
            "  self.dataset[:,:,2] = 1. / self.dataset[:,:,2]\n"
          ]
        }
      ]
    },
    {
      "cell_type": "code",
      "execution_count": 253,
      "id": "b3120f1f",
      "metadata": {
        "colab": {
          "base_uri": "https://localhost:8080/",
          "height": 472
        },
        "id": "b3120f1f",
        "outputId": "31870ee6-867e-4f33-d9a3-5970b9128412"
      },
      "outputs": [
        {
          "output_type": "stream",
          "name": "stdout",
          "text": [
            "dims of /content/hetvae/data/EDELSON/NGC5548_W1.dat:\t(260, 3)\n",
            "indexes of outliers to be pruned, if any: []\n",
            "generating 2 new sample of each example in the dataset & appending them \n",
            " old dataset length: 1\n",
            "new dataset length: 3\n",
            "created union_x attribute of length 260\n",
            "zero fill all the examples up to the length of longest one given, dataset is also now a numpy array w shape: (3, 260, 3), instead of a list of numpy arrays\n",
            "created subsampled_mask & recon_mask instance attributes\n",
            "['/content/hetvae/data/EDELSON/NGC5548_W1.dat'] \n",
            " (260,) (3, 260, 3) (3, 260) (3, 260)\n"
          ]
        },
        {
          "output_type": "execute_result",
          "data": {
            "text/plain": [
              "(260,)"
            ]
          },
          "metadata": {},
          "execution_count": 253
        },
        {
          "output_type": "display_data",
          "data": {
            "text/plain": [
              "<Figure size 432x288 with 1 Axes>"
            ],
            "image/png": "[encoded data removed]"
          },
          "metadata": {
            "needs_background": "light"
          }
        }
      ],
      "source": [
        "#--------------------------------------------------------------------------------------------------------\n",
        "# PREPROCESSING, from Edelson data \n",
        "#--------------------------------------------------------------------------------------------------------\n",
        "lc_files = glob('/content/hetvae/data/EDELSON/*')[1:2]\n",
        "\n",
        "# hypers: \n",
        "Edelson = DataSet().add_files(lc_files).files_to_numpy().handle_dups().prune_outliers().resample_dataset(num_samples=2).normalize().reorder() \\\n",
        "        .set_union_x().zero_fill().error_to_sample_weight().make_masks(frac=0.5)\n",
        "\n",
        "print(\n",
        "    Edelson.files, '\\n',\n",
        "    Edelson.union_x.shape,\n",
        "    Edelson.dataset.shape,\n",
        "    Edelson.subsampled_mask.shape,\n",
        "    Edelson.recon_mask.shape\n",
        "  )\n",
        "\n",
        "plt.scatter(Edelson.dataset[2,:,0], Edelson.dataset[2,:,1])\n",
        "Edelson.union_x.shape"
      ]
    },
    {
      "cell_type": "code",
      "execution_count": 291,
      "id": "b01ad704",
      "metadata": {
        "id": "b01ad704"
      },
      "outputs": [],
      "source": [
        "# num heads?\n",
        "args = Namespace(batch_size=8, bound_variance=True, const_var=False, dataset='toy', dropout=0.0, \n",
        "                 elbo_weight=1.0, embed_time=64, enc_num_heads=1, intensity=True, k_iwae=1, kl_annealing=False, \n",
        "                 kl_zero=False, latent_dim=64, lr=0.001, mixing='concat_and_mix', mse_weight=2.0, n=64, net='hetvae', \n",
        "                 niters=1000, norm=True, normalize_input='znorm', num_ref_points=16, rec_hidden=16, recon_loss=False, \n",
        "                 sample_tp=0.5, save=True, seed=0, shuffle=True, std=0.1, var_per_dim=False, width=256)\n",
        "\n"
      ]
    },
    {
      "cell_type": "code",
      "execution_count": 292,
      "id": "d4088220",
      "metadata": {
        "id": "d4088220"
      },
      "outputs": [],
      "source": [
        "DIM = 1\n",
        "# definitly want a decaying error rate...\n",
        "#scheduler = torch.optim.lr_scheduler.MultiStepLR(optimizer, milestones=[], gamma=0.1)\n",
        "seed = args.seed\n",
        "torch.manual_seed(seed)\n",
        "np.random.seed(seed)\n",
        "torch.cuda.manual_seed(seed)\n",
        "device = torch.device('cuda' if torch.cuda.is_available() else 'cpu')"
      ]
    },
    {
      "cell_type": "code",
      "execution_count": 293,
      "id": "d0aebfb9",
      "metadata": {
        "colab": {
          "base_uri": "https://localhost:8080/"
        },
        "id": "d0aebfb9",
        "outputId": "6fd678d3-b18c-40d6-d031-31962d35e2ec"
      },
      "outputs": [
        {
          "output_type": "stream",
          "name": "stdout",
          "text": [
            "(3, 260, 5)\n"
          ]
        }
      ],
      "source": [
        "LightCurves = np.concatenate((Edelson.dataset, Edelson.subsampled_mask[:,:,np.newaxis], Edelson.recon_mask[:,:,np.newaxis]), axis=-1) # format the masks for the model \n",
        "print(LightCurves.shape)\n"
      ]
    },
    {
      "cell_type": "code",
      "execution_count": 294,
      "id": "1f4fa40b",
      "metadata": {
        "id": "1f4fa40b"
      },
      "outputs": [],
      "source": [
        "training, valid = np.split(LightCurves, [int(np.floor(1*len(LightCurves)))])# shuffle?\n",
        "train_loader = torch.utils.data.DataLoader(training, batch_size=args.batch_size)\n",
        "valid_loader = torch.utils.data.DataLoader(valid, batch_size=args.batch_size)\n",
        "       "
      ]
    },
    {
      "cell_type": "code",
      "execution_count": 295,
      "id": "b27bb411",
      "metadata": {
        "id": "b27bb411"
      },
      "outputs": [],
      "source": [
        "net = models.load_network(args, DIM, torch.Tensor(Edelson.union_x)) # , device=\"cuda\"\n",
        "params = list(net.parameters())\n",
        "optimizer = optim.Adam(params, lr=.00001)"
      ]
    },
    {
      "cell_type": "code",
      "execution_count": 296,
      "id": "552f9dde",
      "metadata": {
        "id": "552f9dde"
      },
      "outputs": [],
      "source": [
        "def train(net, optimizer,epoch, train_loader, args, device=\"cuda\"):\n",
        "      \n",
        "      train_loss = 0.\n",
        "      train_n = 0.\n",
        "      avg_loglik, avg_kl, mse, mae = 0., 0., 0., 0.\n",
        "      for i, train_batch in enumerate(train_loader):\n",
        "          batch_len = train_batch.shape[0] \n",
        "          #train_batch[:,:,2] = torch.ones((train_batch[:,:,3].shape))\n",
        "          train_batch = train_batch.to(device)\n",
        "          x = train_batch[:,:,0]\n",
        "          y = train_batch[:,:,1:2]\n",
        "          \n",
        "          subsampled_mask = train_batch[:,:,3:4]\n",
        "          recon_mask = train_batch[:,:,4:]\n",
        "          sample_weight = train_batch[:,:,2:3]\n",
        "          # weights for loss in analogy to standard weighted least squares error \n",
        "  \n",
        "          seqlen = train_batch.size(1) \n",
        "          # subsampled flux values and their corresponding masks....\n",
        "          context_y = torch.cat((\n",
        "              y * subsampled_mask, subsampled_mask\n",
        "          ), -1) \n",
        "          recon_context_y = torch.cat((            # flux values with only recon_mask values showing\n",
        "                  y * recon_mask, recon_mask\n",
        "              ), -1)\n",
        "          \n",
        "\n",
        "\n",
        "    # #   def compute_unsupervised_loss(self, context_x, context_y, target_x, target_y, num_samples=1, beta=1):\n",
        "          loss_info = net.compute_unsupervised_loss(\n",
        "              x, # context_x, times\n",
        "              context_y,             # context_y\n",
        "              x, # target_x, same times? \n",
        "              recon_context_y,\n",
        "              num_samples=args.k_iwae, # 1? \n",
        "              beta=1,\n",
        "              # optional, will be zero if not set\n",
        "              #sample_weight = 1.sample_weight,\n",
        "\n",
        "          )\n",
        "          optimizer.zero_grad()\n",
        "          loss_info.composite_loss.backward()\n",
        "          optimizer.step()\n",
        "          #scheduler.step()\n",
        "          train_loss += loss_info.composite_loss.item() * batch_len\n",
        "          avg_loglik += loss_info.loglik * batch_len\n",
        "          avg_kl += loss_info.kl * batch_len\n",
        "          mse += loss_info.mse * batch_len\n",
        "          mae += loss_info.mae * batch_len\n",
        "          train_n += batch_len\n",
        "      \n",
        "      \n",
        "      if epoch % 100 == 0:\n",
        "          print(\n",
        "              'Iter: {}, train loss: {:.4f}, avg nll: {:.4f}, avg kl: {:.4f}, '\n",
        "              'mse: {:.6f}, mae: {:.6f}'.format(\n",
        "                  epoch,\n",
        "                  train_loss / train_n,\n",
        "                  -avg_loglik / train_n,\n",
        "                  avg_kl / train_n,\n",
        "                  mse / train_n,\n",
        "                  mae / train_n\n",
        "              )\n",
        "          )\n",
        "      # (128x4 and 2x256)\n",
        "      # (128x4 and 2x64)\n",
        "      # (128x4 and 6x256)"
      ]
    },
    {
      "cell_type": "code",
      "source": [
        "for g in optimizer.param_groups:\n",
        "    print(g['lr'])\n",
        "    g['lr'] = 0.00001"
      ],
      "metadata": {
        "colab": {
          "base_uri": "https://localhost:8080/"
        },
        "id": "JQCwNCcF8fcN",
        "outputId": "8362994f-d033-46c4-ea12-2a1e41047021"
      },
      "id": "JQCwNCcF8fcN",
      "execution_count": 300,
      "outputs": [
        {
          "output_type": "stream",
          "name": "stdout",
          "text": [
            "0.001\n"
          ]
        }
      ]
    },
    {
      "cell_type": "code",
      "execution_count": 301,
      "id": "2a537d69",
      "metadata": {
        "colab": {
          "base_uri": "https://localhost:8080/"
        },
        "id": "2a537d69",
        "outputId": "b163f60d-ba02-4868-f027-293a4a46d79c"
      },
      "outputs": [
        {
          "output_type": "stream",
          "name": "stdout",
          "text": [
            "Iter: 100, train loss: 0.4524, avg nll: 0.1781, avg kl: 0.0562, mse: 0.109036, mae: 0.249839\n",
            "Iter: 200, train loss: 0.4278, avg nll: 0.1583, avg kl: 0.0554, mse: 0.107049, mae: 0.250903\n",
            "Iter: 300, train loss: 0.4809, avg nll: 0.1994, avg kl: 0.0549, mse: 0.113276, mae: 0.250334\n",
            "Iter: 400, train loss: 0.4920, avg nll: 0.2056, avg kl: 0.0548, mse: 0.115815, mae: 0.246681\n",
            "Iter: 500, train loss: 0.4691, avg nll: 0.1905, avg kl: 0.0548, mse: 0.111867, mae: 0.256425\n",
            "Iter: 600, train loss: 0.4293, avg nll: 0.1579, avg kl: 0.0546, mse: 0.108366, mae: 0.246539\n",
            "Iter: 700, train loss: 0.4237, avg nll: 0.1519, avg kl: 0.0546, mse: 0.108598, mae: 0.239682\n",
            "Iter: 800, train loss: 0.4818, avg nll: 0.2022, avg kl: 0.0546, mse: 0.112530, mae: 0.249196\n",
            "Iter: 900, train loss: 0.6217, avg nll: 0.3074, avg kl: 0.0544, mse: 0.129928, mae: 0.277277\n",
            "Iter: 1000, train loss: 0.5315, avg nll: 0.2351, avg kl: 0.0544, mse: 0.121017, mae: 0.269730\n"
          ]
        }
      ],
      "source": [
        "for epoch in range(1, 1001):#args.niters + 1):\n",
        "    train(net, optimizer, epoch, train_loader, args)"
      ]
    },
    {
      "cell_type": "code",
      "source": [
        "my_utils.evaluate(net, train_loader, device=device)"
      ],
      "metadata": {
        "id": "_FU7cwb7f-Uq",
        "outputId": "32f38b36-fcf5-4b4d-cde3-e6b30a8b7c8f",
        "colab": {
          "base_uri": "https://localhost:8080/"
        }
      },
      "id": "_FU7cwb7f-Uq",
      "execution_count": 283,
      "outputs": [
        {
          "output_type": "execute_result",
          "data": {
            "text/plain": [
              "tensor(0.2306, device='cuda:0')"
            ]
          },
          "metadata": {},
          "execution_count": 283
        }
      ]
    },
    {
      "cell_type": "code",
      "source": [
        "my_utils.viz_per_example(Edelson.dataset[2], net, device=device, k_iwae=20, fracs=[.5,0.8,.9])"
      ],
      "metadata": {
        "colab": {
          "base_uri": "https://localhost:8080/",
          "height": 163
        },
        "id": "R5DMflXJ8Qxb",
        "outputId": "022b8914-7e56-4eaa-ed99-787315b534e3"
      },
      "id": "R5DMflXJ8Qxb",
      "execution_count": 285,
      "outputs": [
        {
          "output_type": "stream",
          "name": "stdout",
          "text": [
            "pred_mean: (20, 3, 260, 1) pred_std: (20, 3, 260, 1)= targets: (3, 260, 1) masks: (3, 260, 1) tps: (3, 260) inputs: (3, 260, 1)\n",
            "(200, 3, 260, 1)\n"
          ]
        },
        {
          "output_type": "display_data",
          "data": {
            "text/plain": [
              "<Figure size 900x108 with 3 Axes>"
            ],
            "image/png": "[encoded data removed]"
          },
          "metadata": {
            "needs_background": "light"
          }
        }
      ]
    },
    {
      "cell_type": "code",
      "execution_count": null,
      "id": "4871ca3b",
      "metadata": {
        "id": "4871ca3b",
        "outputId": "2ee3163e-6881-4c81-cf82-a73a8ed0c778",
        "colab": {
          "base_uri": "https://localhost:8080/"
        }
      },
      "outputs": [
        {
          "output_type": "stream",
          "name": "stdout",
          "text": [
            "0.01\n"
          ]
        }
      ],
      "source": [
        ""
      ]
    },
    {
      "cell_type": "code",
      "source": [
        ""
      ],
      "metadata": {
        "id": "4xUCUzXdJTQ3"
      },
      "id": "4xUCUzXdJTQ3",
      "execution_count": null,
      "outputs": []
    }
  ],
  "metadata": {
    "kernelspec": {
      "display_name": "Python 3 (ipykernel)",
      "language": "python",
      "name": "python3"
    },
    "language_info": {
      "codemirror_mode": {
        "name": "ipython",
        "version": 3
      },
      "file_extension": ".py",
      "mimetype": "text/x-python",
      "name": "python",
      "nbconvert_exporter": "python",
      "pygments_lexer": "ipython3",
      "version": "3.9.2"
    },
    "colab": {
      "name": "light_curve_demo.ipynb",
      "provenance": []
    },
    "accelerator": "GPU"
  },
  "nbformat": 4,
  "nbformat_minor": 5
}