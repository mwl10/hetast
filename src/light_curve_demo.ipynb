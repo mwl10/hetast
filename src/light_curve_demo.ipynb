{
  "cells": [
    {
      "cell_type": "code",
      "execution_count": 67,
      "id": "5fe134d8",
      "metadata": {
        "colab": {
          "base_uri": "https://localhost:8080/"
        },
        "id": "5fe134d8",
        "outputId": "2248cd74-1721-477e-c55d-e496baec29a5"
      },
      "outputs": [
        {
          "output_type": "stream",
          "name": "stdout",
          "text": [
            "Cloning into 'hetvae'...\n",
            "remote: Enumerating objects: 3727, done.\u001b[K\n",
            "remote: Counting objects: 100% (763/763), done.\u001b[K\n",
            "remote: Compressing objects: 100% (749/749), done.\u001b[K\n",
            "remote: Total 3727 (delta 31), reused 42 (delta 14), pack-reused 2964\u001b[K\n",
            "Receiving objects: 100% (3727/3727), 30.19 MiB | 23.07 MiB/s, done.\n",
            "Resolving deltas: 100% (976/976), done.\n",
            "Looking in indexes: https://pypi.org/simple, https://us-python.pkg.dev/colab-wheels/public/simple/\n",
            "Requirement already satisfied: alembic==1.7.7 in /usr/local/lib/python3.7/dist-packages (from -r requirements.txt (line 1)) (1.7.7)\n",
            "Requirement already satisfied: attrs==21.4.0 in /usr/local/lib/python3.7/dist-packages (from -r requirements.txt (line 2)) (21.4.0)\n",
            "Requirement already satisfied: autopage==0.5.0 in /usr/local/lib/python3.7/dist-packages (from -r requirements.txt (line 3)) (0.5.0)\n",
            "Requirement already satisfied: backports.functools-lru-cache==1.6.4 in /usr/local/lib/python3.7/dist-packages (from -r requirements.txt (line 4)) (1.6.4)\n",
            "Requirement already satisfied: cliff==3.10.1 in /usr/local/lib/python3.7/dist-packages (from -r requirements.txt (line 5)) (3.10.1)\n",
            "Requirement already satisfied: cmaes==0.8.2 in /usr/local/lib/python3.7/dist-packages (from -r requirements.txt (line 6)) (0.8.2)\n",
            "Requirement already satisfied: cmd2==2.3.3 in /usr/local/lib/python3.7/dist-packages (from -r requirements.txt (line 7)) (2.3.3)\n",
            "Requirement already satisfied: colorama==0.4.4 in /usr/local/lib/python3.7/dist-packages (from -r requirements.txt (line 8)) (0.4.4)\n",
            "Requirement already satisfied: colorlog==6.6.0 in /usr/local/lib/python3.7/dist-packages (from -r requirements.txt (line 9)) (6.6.0)\n",
            "Requirement already satisfied: greenlet==1.1.2 in /usr/local/lib/python3.7/dist-packages (from -r requirements.txt (line 10)) (1.1.2)\n",
            "Requirement already satisfied: importlib-metadata==4.11.4 in /usr/local/lib/python3.7/dist-packages (from -r requirements.txt (line 11)) (4.11.4)\n",
            "Requirement already satisfied: importlib-resources==5.7.1 in /usr/local/lib/python3.7/dist-packages (from -r requirements.txt (line 12)) (5.7.1)\n",
            "Requirement already satisfied: Mako==1.2.0 in /usr/local/lib/python3.7/dist-packages (from -r requirements.txt (line 13)) (1.2.0)\n",
            "Requirement already satisfied: MarkupSafe==2.1.1 in /usr/local/lib/python3.7/dist-packages (from -r requirements.txt (line 14)) (2.1.1)\n",
            "Requirement already satisfied: numpy==1.21.0 in /usr/local/lib/python3.7/dist-packages (from -r requirements.txt (line 15)) (1.21.0)\n",
            "Requirement already satisfied: optuna==2.10.0 in /usr/local/lib/python3.7/dist-packages (from -r requirements.txt (line 16)) (2.10.0)\n",
            "Requirement already satisfied: packaging==21.3 in /usr/local/lib/python3.7/dist-packages (from -r requirements.txt (line 17)) (21.3)\n",
            "Requirement already satisfied: pbr==5.9.0 in /usr/local/lib/python3.7/dist-packages (from -r requirements.txt (line 18)) (5.9.0)\n",
            "Requirement already satisfied: pip==22.1.1 in /usr/local/lib/python3.7/dist-packages (from -r requirements.txt (line 19)) (22.1.1)\n",
            "Requirement already satisfied: prettytable==3.3.0 in /usr/local/lib/python3.7/dist-packages (from -r requirements.txt (line 20)) (3.3.0)\n",
            "Requirement already satisfied: pyparsing==3.0.9 in /usr/local/lib/python3.7/dist-packages (from -r requirements.txt (line 21)) (3.0.9)\n",
            "Requirement already satisfied: pyperclip==1.8.2 in /usr/local/lib/python3.7/dist-packages (from -r requirements.txt (line 22)) (1.8.2)\n",
            "Requirement already satisfied: PyYAML==6.0 in /usr/local/lib/python3.7/dist-packages (from -r requirements.txt (line 23)) (6.0)\n",
            "Requirement already satisfied: scipy==1.7.3 in /usr/local/lib/python3.7/dist-packages (from -r requirements.txt (line 24)) (1.7.3)\n",
            "Requirement already satisfied: setuptools==62.3.2 in /usr/local/lib/python3.7/dist-packages (from -r requirements.txt (line 25)) (62.3.2)\n",
            "Requirement already satisfied: SQLAlchemy==1.4.36 in /usr/local/lib/python3.7/dist-packages (from -r requirements.txt (line 26)) (1.4.36)\n",
            "Requirement already satisfied: stevedore==3.5.0 in /usr/local/lib/python3.7/dist-packages (from -r requirements.txt (line 27)) (3.5.0)\n",
            "Requirement already satisfied: tqdm==4.64.0 in /usr/local/lib/python3.7/dist-packages (from -r requirements.txt (line 28)) (4.64.0)\n",
            "Requirement already satisfied: wcwidth==0.2.5 in /usr/local/lib/python3.7/dist-packages (from -r requirements.txt (line 29)) (0.2.5)\n",
            "Requirement already satisfied: wheel==0.37.1 in /usr/local/lib/python3.7/dist-packages (from -r requirements.txt (line 30)) (0.37.1)\n",
            "Requirement already satisfied: zipp==3.8.0 in /usr/local/lib/python3.7/dist-packages (from -r requirements.txt (line 31)) (3.8.0)\n",
            "Requirement already satisfied: typing-extensions in /usr/local/lib/python3.7/dist-packages (from cmd2==2.3.3->-r requirements.txt (line 7)) (4.2.0)\n",
            "\u001b[33mWARNING: Running pip as the 'root' user can result in broken permissions and conflicting behaviour with the system package manager. It is recommended to use a virtual environment instead: https://pip.pypa.io/warnings/venv\u001b[0m\u001b[33m\n",
            "\u001b[0m"
          ]
        }
      ],
      "source": [
        "import os\n",
        "import shutil#\n",
        "os.chdir('/content')\n",
        "if os.path.isdir('./hetvae'):\n",
        "  shutil.rmtree('./hetvae/')\n",
        "! git clone --branch errors https://github.com/mwl10/hetvae\n",
        "os.chdir('/content/hetvae')\n",
        "! pip install -r requirements.txt\n",
        "os.chdir('/content/hetvae/src')\n",
        "import numpy as np\n",
        "import torch\n",
        "import torch.optim as optim\n",
        "import models\n",
        "from argparse import Namespace\n",
        "import torch.optim as optim\n",
        "import utils\n",
        "import my_utils\n",
        "import pandas as pd\n",
        "import importlib\n",
        "import vae_models\n",
        "importlib.reload(vae_models)\n",
        "importlib.reload(models)\n",
        "importlib.reload(utils)\n",
        "importlib.reload(my_utils)\n",
        "from glob import glob\n",
        "import matplotlib.pyplot as plt\n",
        "import sys\n",
        "del sys.modules['dataset']\n",
        "from dataset import DataSet\n",
        "%matplotlib inline"
      ]
    },
    {
      "cell_type": "code",
      "execution_count": 63,
      "id": "b3120f1f",
      "metadata": {
        "colab": {
          "base_uri": "https://localhost:8080/",
          "height": 673
        },
        "id": "b3120f1f",
        "outputId": "33b4da51-96cb-4cde-8752-1a7dd6306845"
      },
      "outputs": [
        {
          "output_type": "stream",
          "name": "stdout",
          "text": [
            "dims of /content/hetvae/data/EDELSON/NGC5548_HX.dat:\t(267, 3)\n",
            "dims of /content/hetvae/data/EDELSON/NGC4593_W1.dat:\t(150, 3)\n",
            "dims of /content/hetvae/data/EDELSON/NGC5548_W2.dat:\t(259, 3)\n",
            "dims of /content/hetvae/data/EDELSON/NGC5548_W1.dat:\t(260, 3)\n",
            "generating 9 new sample of each example in the dataset & appending them \n",
            " old dataset length: 4\n",
            "new dataset length: 40\n",
            "created union_x attribute of length 880\n",
            "zero fill all the examples up to the length of longest one given, dataset is also now a numpy array w shape: (40, 265, 3), instead of a list of numpy arrays\n",
            "created subsampled_mask & recon_mask instance attributes\n",
            "['/content/hetvae/data/EDELSON/NGC5548_HX.dat', '/content/hetvae/data/EDELSON/NGC4593_W1.dat', '/content/hetvae/data/EDELSON/NGC5548_W2.dat', '/content/hetvae/data/EDELSON/NGC5548_W1.dat'] \n",
            " (880,) (40, 265, 3) (40, 265) (40, 265)\n"
          ]
        },
        {
          "output_type": "stream",
          "name": "stderr",
          "text": [
            "/usr/local/lib/python3.7/dist-packages/ipykernel_launcher.py:7: RankWarning: Polyfit may be poorly conditioned\n",
            "  import sys\n",
            "/usr/local/lib/python3.7/dist-packages/ipykernel_launcher.py:7: RankWarning: Polyfit may be poorly conditioned\n",
            "  import sys\n",
            "/usr/local/lib/python3.7/dist-packages/ipykernel_launcher.py:7: RankWarning: Polyfit may be poorly conditioned\n",
            "  import sys\n",
            "/usr/local/lib/python3.7/dist-packages/ipykernel_launcher.py:7: RankWarning: Polyfit may be poorly conditioned\n",
            "  import sys\n",
            "/content/hetvae/src/dataset.py:319: RuntimeWarning: divide by zero encountered in true_divide\n",
            "  self.dataset[:,:,2] = 1. / self.dataset[:,:,2]\n"
          ]
        },
        {
          "output_type": "display_data",
          "data": {
            "text/plain": [
              "<Figure size 432x288 with 1 Axes>"
            ],
            "image/png": "[encoded data removed]"
          },
          "metadata": {
            "needs_background": "light"
          }
        }
      ],
      "source": [
        "#--------------------------------------------------------------------------------------------------------\n",
        "# PREPROCESSING, from Edelson data \n",
        "#--------------------------------------------------------------------------------------------------------\n",
        "lc_files = glob('/content/hetvae/data/EDELSON/*')[:4]\n",
        "\n",
        "# hypers: \n",
        "Edelson = DataSet() \\\n",
        "            .add_files(lc_files) \\\n",
        "            .files_to_numpy() \\\n",
        "            .handle_dups() \\\n",
        "            .prune_graham(plot=True, index=1) \\\n",
        "            .resample_dataset(num_samples=9) \\\n",
        "            .normalize() \\\n",
        "            .reorder() \\\n",
        "            .set_union_x() \\\n",
        "            .zero_fill() \\\n",
        "            .error_to_sample_weight() \\\n",
        "            .make_masks(frac=0.33)\n",
        "\n",
        "print(\n",
        "    Edelson.files, '\\n',\n",
        "    Edelson.union_x.shape,\n",
        "    Edelson.dataset.shape,\n",
        "    Edelson.subsampled_mask.shape,\n",
        "    Edelson.recon_mask.shape\n",
        "  )\n",
        "\n",
        "# plt.scatter(Edelson.dataset[1,:-100,0], Edelson.dataset[1,:-100,1])\n",
        "# Edelson.union_x.shape"
      ]
    },
    {
      "cell_type": "code",
      "source": [
        "#--------------------------------------------------------------------------------------------------------\n",
        "# PREPROCESSING, from Catalina data\n",
        "#--------------------------------------------------------------------------------------------------------\n",
        "lc_files = glob('/content/hetvae/data/CAT/*/*')[:200]\n",
        "print(lc_files)\n",
        "Catalina = DataSet() \\\n",
        "            .add_files(lc_files) \\\n",
        "            .files_to_numpy() \\\n",
        "            .handle_dups() \\\n",
        "            .prune_graham(plot=True, index=150) \\\n",
        "            .resample_dataset(num_samples=1) \\\n",
        "            .normalize(normalize_x='individual', normalize_y='individual') \\\n",
        "            .reorder() \\\n",
        "            .set_union_x() \\\n",
        "            .zero_fill() \\\n",
        "            .error_to_sample_weight() \\\n",
        "            .make_masks(frac=0.5)\n",
        "\n",
        "# print(\n",
        "#     Catalina.files, '\\n',\n",
        "#     Catalina.union_x.shape,\n",
        "#     Catalina.dataset.shape,\n",
        "#     Catalina.subsampled_mask.shape,\n",
        "#     Catalina.recon_mask.shape\n",
        "#   )\n",
        "# fig,ax = plt.subplots(5,1, figsize=(20,20))\n",
        "# for i in range(5):\n",
        "#     ax[i].scatter(Catalina.dataset[i,:-130,0], Catalina.dataset[i,:-130,1])"
      ],
      "metadata": {
        "id": "sEHg-Nz8_TVv",
        "outputId": "ac54de78-77b8-40c3-c7a8-7a51ca2f552f",
        "colab": {
          "base_uri": "https://localhost:8080/",
          "height": 1000
        }
      },
      "id": "sEHg-Nz8_TVv",
      "execution_count": 72,
      "outputs": [
        {
          "output_type": "stream",
          "name": "stdout",
          "text": [
            "['/content/hetvae/data/CAT/CSS/CSS170616:105354+511232_19.13.dat', '/content/hetvae/data/CAT/CSS/CSS170626:144806+372546_20.67.dat', '/content/hetvae/data/CAT/CSS/CSS170327:100524+275019_19.39.dat', '/content/hetvae/data/CAT/CSS/CSS170320:155358+281121_18.12.dat', '/content/hetvae/data/CAT/CSS/CSS170928:000609+183719_19.6.dat', '/content/hetvae/data/CAT/CSS/CSS170221:100018+192306_19.91.dat', '/content/hetvae/data/CAT/CSS/CSS170519:154111+482755_19.79.dat', '/content/hetvae/data/CAT/CSS/CSS170929:015655+045636_19.34.dat', '/content/hetvae/data/CAT/CSS/CSS170929:001323+014545_20.2.dat', '/content/hetvae/data/CAT/CSS/CSS170423:130015+152709_20.7.dat', '/content/hetvae/data/CAT/CSS/CSS171011:022657-035945_18.76.dat', '/content/hetvae/data/CAT/CSS/CSS171012:164452+443946_17.8.dat', '/content/hetvae/data/CAT/CSS/CSS170626:144248+502203_20.72.dat', '/content/hetvae/data/CAT/CSS/CSS170626:144534+461748_20.55.dat', '/content/hetvae/data/CAT/CSS/CSS170504:170539+273641_18.81.dat', '/content/hetvae/data/CAT/CSS/CSS170925:235758-120558_18.32.dat', '/content/hetvae/data/CAT/CSS/CSS170928:031553+152331_19.85.dat', '/content/hetvae/data/CAT/CSS/CSS170321:125647+452323_19.55.dat', '/content/hetvae/data/CAT/CSS/CSS170320:110636+193253_20.34.dat', '/content/hetvae/data/CAT/CSS/CSS171011:233604-121242_17.67.dat', '/content/hetvae/data/CAT/CSS/CSS170201:032419+151858_18.88.dat', '/content/hetvae/data/CAT/CSS/CSS170224:105051+102134_19.76.dat', '/content/hetvae/data/CAT/CSS/CSS170330:115713+462454_20.45.dat', '/content/hetvae/data/CAT/CSS/CSS171012:172358+530024_18.73.dat', '/content/hetvae/data/CAT/CSS/CSS170130:124836+461301_18.79.dat', '/content/hetvae/data/CAT/CSS/CSS170302:114849+005511_20.26.dat', '/content/hetvae/data/CAT/CSS/CSS170920:222515-080102_17.54.dat', '/content/hetvae/data/CAT/CSS/CSS170201:095935+281239_18.34.dat', '/content/hetvae/data/CAT/CSS/CSS170131:020924-031049_19.67.dat', '/content/hetvae/data/CAT/CSS/CSS170930:072702+525141_18.55.dat', '/content/hetvae/data/CAT/CSS/CSS170320:100524+275018_19.98.dat', '/content/hetvae/data/CAT/CSS/CSS170928:014736+155300_19.65.dat', '/content/hetvae/data/CAT/CSS/CSS170928:220238+103029_18.65.dat', '/content/hetvae/data/CAT/CSS/CSS170914:022317+274424_18.86.dat', '/content/hetvae/data/CAT/CSS/CSS170928:020115+134229_19.8.dat', '/content/hetvae/data/CAT/CSS/CSS170528:130623-023814_19.62.dat', '/content/hetvae/data/CAT/CSS/CSS170321:133109+411438_19.05.dat', '/content/hetvae/data/CAT/CSS/CSS170323:083128+192242_19.0.dat', '/content/hetvae/data/CAT/CSS/CSS170419:125107+030511_18.4.dat', '/content/hetvae/data/CAT/CSS/CSS170627:140044+460728_19.49.dat', '/content/hetvae/data/CAT/CSS/CSS171011:010004-132449_19.01.dat', '/content/hetvae/data/CAT/CSS/CSS171011:024100-024502_19.01.dat', '/content/hetvae/data/CAT/CSS/CSS170215:114903+362408_18.25.dat', '/content/hetvae/data/CAT/CSS/CSS170925:042038-084453_18.95.dat', '/content/hetvae/data/CAT/CSS/CSS170516:122751+371654_20.02.dat', '/content/hetvae/data/CAT/CSS/CSS170519:143840+483606_18.94.dat', '/content/hetvae/data/CAT/CSS/CSS170130:100034+455823_19.33.dat', '/content/hetvae/data/CAT/CSS/CSS170529:141209+490112_19.59.dat', '/content/hetvae/data/CAT/CSS/CSS170130:072804+511129_18.91.dat', '/content/hetvae/data/CAT/CSS/CSS170430:121139+401258_20.22.dat', '/content/hetvae/data/CAT/CSS/CSS170130:102912+510535_20.17.dat', '/content/hetvae/data/CAT/CSS/CSS170304:142241+225141_18.63.dat', '/content/hetvae/data/CAT/CSS/CSS170202:013058+311446_18.92.dat', '/content/hetvae/data/CAT/CSS/CSS170318:140157+452716_19.29.dat', '/content/hetvae/data/CAT/CSS/CSS170221:155213+152636_19.08.dat', '/content/hetvae/data/CAT/CSS/CSS170330:105330+511722_19.04.dat', '/content/hetvae/data/CAT/CSS/CSS170130:072727+504800_17.44.dat', '/content/hetvae/data/CAT/CSS/CSS170628:132717+023457_20.81.dat', '/content/hetvae/data/CAT/CSS/CSS171011:023035-041040_18.8.dat', '/content/hetvae/data/CAT/CSS/CSS170130:141645+432425_19.49.dat', '/content/hetvae/data/CAT/CSS/CSS170516:123457+424112_19.42.dat', '/content/hetvae/data/CAT/CSS/CSS170924:001108+195550_18.68.dat', '/content/hetvae/data/CAT/CSS/CSS170504:144757+132212_18.9.dat', '/content/hetvae/data/CAT/CSS/CSS170925:233209-210538_19.1.dat', '/content/hetvae/data/CAT/CSS/CSS170627:113446+331131_20.32.dat', '/content/hetvae/data/CAT/CSS/CSS170918:004713+095639_19.19.dat', '/content/hetvae/data/CAT/CSS/CSS170925:001445-114228_18.82.dat', '/content/hetvae/data/CAT/CSS/CSS170924:000329+142215_19.13.dat', '/content/hetvae/data/CAT/CSS/CSS170928:021956+152837_19.91.dat', '/content/hetvae/data/CAT/CSS/CSS170131:135357-074301_19.9.dat', '/content/hetvae/data/CAT/CSS/CSS170130:101532+383223_19.34.dat', '/content/hetvae/data/CAT/CSS/CSS170227:151350+150947_19.68.dat', '/content/hetvae/data/CAT/CSS/CSS170304:122225+271222_19.64.dat', '/content/hetvae/data/CAT/CSS/CSS170918:162531+270547_17.12.dat', '/content/hetvae/data/CAT/CSS/CSS170928:005935+133340_20.04.dat', '/content/hetvae/data/CAT/CSS/CSS170322:145644+395340_20.7.dat', '/content/hetvae/data/CAT/CSS/CSS170325:125540+395120_18.55.dat', '/content/hetvae/data/CAT/CSS/CSS171001:030632+143102_18.92.dat', '/content/hetvae/data/CAT/CSS/CSS170130:093832+503858_19.45.dat', '/content/hetvae/data/CAT/CSS/CSS170322:125749+470604_20.81.dat', '/content/hetvae/data/CAT/CSS/CSS170201:114232+200717_20.13.dat', '/content/hetvae/data/CAT/CSS/CSS170629:231605-195812_19.14.dat', '/content/hetvae/data/CAT/CSS/CSS170202:100034+455823_19.25.dat', '/content/hetvae/data/CAT/CSS/CSS170627:130414+461143_20.75.dat', '/content/hetvae/data/CAT/CSS/CSS170924:002335+131922_18.69.dat', '/content/hetvae/data/CAT/CSS/CSS170506:124658+622229_18.75.dat', '/content/hetvae/data/CAT/CSS/CSS170325:143550+500123_20.53.dat', '/content/hetvae/data/CAT/CSS/CSS170131:102818+070028_20.32.dat', '/content/hetvae/data/CAT/CSS/CSS170506:144139+531059_17.8.dat', '/content/hetvae/data/CAT/CSS/CSS170925:034553-154102_19.07.dat', '/content/hetvae/data/CAT/CSS/CSS170130:113335+500438_20.04.dat', '/content/hetvae/data/CAT/CSS/CSS170425:144637+345409_19.9.dat', '/content/hetvae/data/CAT/CSS/CSS170201:084317+101227_19.43.dat', '/content/hetvae/data/CAT/CSS/CSS170207:150126+012927_19.82.dat', '/content/hetvae/data/CAT/CSS/CSS170304:122854+241500_19.15.dat', '/content/hetvae/data/CAT/CSS/CSS170325:135129+413007_20.61.dat', '/content/hetvae/data/CAT/CSS/CSS171010:235439+005752_17.47.dat', '/content/hetvae/data/CAT/CSS/CSS170925:041845-054127_18.89.dat', '/content/hetvae/data/CAT/CSS/CSS170322:092410+584144_19.69.dat', '/content/hetvae/data/CAT/CSS/CSS170929:020951+062822_18.99.dat', '/content/hetvae/data/CAT/CSS/CSS171001:004742+155939_18.04.dat', '/content/hetvae/data/CAT/CSS/CSS170130:130357+363042_17.61.dat', '/content/hetvae/data/CAT/CSS/CSS170920:004626-021509_17.95.dat', '/content/hetvae/data/CAT/CSS/CSS170925:002517-212104_18.37.dat', '/content/hetvae/data/CAT/MLS/MLS161026:230940-023503_20.57.dat', '/content/hetvae/data/CAT/MLS/MLS170421:144757+132212_18.86.dat', '/content/hetvae/data/CAT/MLS/MLS170222:120355+145725_20.1.dat', '/content/hetvae/data/CAT/MLS/MLS161107:020045+151846_21.19.dat', '/content/hetvae/data/CAT/MLS/MLS170307:121633+210227_20.85.dat', '/content/hetvae/data/CAT/MLS/MLS160604:143945+214631_21.2.dat', '/content/hetvae/data/CAT/MLS/MLS190124:121416+535511_18.24.dat', '/content/hetvae/data/CAT/MLS/MLS170927:231552+080453_20.89.dat', '/content/hetvae/data/CAT/MLS/MLS180525:104822+354028_20.63.dat', '/content/hetvae/data/CAT/MLS/MLS170429:125522+105347_19.43.dat', '/content/hetvae/data/CAT/MLS/MLS160904:222620+041659_20.41.dat', '/content/hetvae/data/CAT/MLS/MLS170418:162128+302937_20.47.dat', '/content/hetvae/data/CAT/MLS/MLS180209:163644+340742_21.52.dat', '/content/hetvae/data/CAT/MLS/MLS161002:004441+164846_20.13.dat', '/content/hetvae/data/CAT/MLS/MLS171220:111228+020816_20.21.dat', '/content/hetvae/data/CAT/MLS/MLS171023:011200+122625_20.72.dat', '/content/hetvae/data/CAT/MLS/MLS160603:140547+262634_20.43.dat', '/content/hetvae/data/CAT/MLS/MLS171010:164418+465730_20.65.dat', '/content/hetvae/data/CAT/MLS/MLS170107:110715+251339_19.78.dat', '/content/hetvae/data/CAT/MLS/MLS161021:164429+280907_20.52.dat', '/content/hetvae/data/CAT/MLS/MLS171226:120259+184859_19.46.dat', '/content/hetvae/data/CAT/MLS/MLS171017:212716-050216_20.36.dat', '/content/hetvae/data/CAT/MLS/MLS161125:002335+131922_18.71.dat', '/content/hetvae/data/CAT/MLS/MLS170924:215411+183252_20.98.dat', '/content/hetvae/data/CAT/MLS/MLS180504:122328+465235_20.74.dat', '/content/hetvae/data/CAT/MLS/MLS161227:074018+250843_21.57.dat', '/content/hetvae/data/CAT/MLS/MLS170405:134237+285439_19.71.dat', '/content/hetvae/data/CAT/MLS/MLS171124:003657+024947_21.16.dat', '/content/hetvae/data/CAT/MLS/MLS161029:022204-024918_20.34.dat', '/content/hetvae/data/CAT/MLS/MLS170322:114822+314347_20.66.dat', '/content/hetvae/data/CAT/MLS/MLS171029:003953+372214_21.34.dat', '/content/hetvae/data/CAT/MLS/MLS161130:095602+191724_19.47.dat', '/content/hetvae/data/CAT/MLS/MLS161027:010953+111402_20.25.dat', '/content/hetvae/data/CAT/MLS/MLS170520:161800+352540_20.23.dat', '/content/hetvae/data/CAT/MLS/MLS180605:125755+402227_17.92.dat', '/content/hetvae/data/CAT/MLS/MLS170309:122751+371654_20.06.dat', '/content/hetvae/data/CAT/MLS/MLS180105:093456+581812_19.54.dat', '/content/hetvae/data/CAT/MLS/MLS170104:110616+150931_20.51.dat', '/content/hetvae/data/CAT/MLS/MLS170423:123639+541114_20.38.dat', '/content/hetvae/data/CAT/MLS/MLS170308:120417+340156_19.6.dat', '/content/hetvae/data/CAT/MLS/MLS171224:131208+053729_20.59.dat', '/content/hetvae/data/CAT/MLS/MLS181104:024203-080124_19.6.dat', '/content/hetvae/data/CAT/MLS/MLS180520:131834+491853_20.48.dat', '/content/hetvae/data/CAT/MLS/MLS170130:091532+420943_20.04.dat', '/content/hetvae/data/CAT/MLS/MLS170424:152920+522753_20.1.dat', '/content/hetvae/data/CAT/MLS/MLS180319:103032+063218_20.34.dat', '/content/hetvae/data/CAT/MLS/MLS160925:015646+122311_20.45.dat', '/content/hetvae/data/CAT/MLS/MLS170831:234104+175851_20.19.dat', '/content/hetvae/data/CAT/MLS/MLS170408:125702+434920_20.1.dat', '/content/hetvae/data/CAT/MLS/MLS180524:154839+273517_20.74.dat', '/content/hetvae/data/CAT/MLS/MLS180209:161210+375904_21.12.dat', '/content/hetvae/data/CAT/MLS/MLS170310:130357+363042_17.37.dat', '/content/hetvae/data/CAT/MLS/MLS171224:104909+070025_20.15.dat', '/content/hetvae/data/CAT/MLS/MLS180522:124450+162647_20.27.dat', '/content/hetvae/data/CAT/MLS/MLS160711:144215-004127_19.84.dat', '/content/hetvae/data/CAT/MLS/MLS180210:111129+313030_19.43.dat', '/content/hetvae/data/CAT/MLS/MLS170927:014402+082318_20.82.dat', '/content/hetvae/data/CAT/MLS/MLS180314:094635+245100_19.88.dat', '/content/hetvae/data/CAT/MLS/MLS180405:125329+505134_20.25.dat', '/content/hetvae/data/CAT/MLS/MLS160912:015956+084350_20.78.dat', '/content/hetvae/data/CAT/MLS/MLS171127:104238+201045_19.13.dat', '/content/hetvae/data/CAT/MLS/MLS171120:213515-065829_20.95.dat', '/content/hetvae/data/CAT/MLS/MLS170421:104521+134902_20.42.dat', '/content/hetvae/data/CAT/MLS/MLS181006:014216-084701_20.44.dat', '/content/hetvae/data/CAT/MLS/MLS170222:171245+302243_20.28.dat', '/content/hetvae/data/CAT/MLS/MLS180418:090730+402111_20.54.dat', '/content/hetvae/data/CAT/MLS/MLS160604:123136+285304_20.51.dat', '/content/hetvae/data/CAT/MLS/MLS160909:012156+244040_20.62.dat', '/content/hetvae/data/CAT/MLS/MLS170331:124306+301120_20.43.dat', '/content/hetvae/data/CAT/MLS/MLS180112:141927+271334_20.2.dat', '/content/hetvae/data/CAT/MLS/MLS161019:102241+113138_20.35.dat', '/content/hetvae/data/CAT/MLS/MLS170208:110101+411817_19.8.dat', '/content/hetvae/data/CAT/MLS/MLS170424:151411+342848_20.94.dat', '/content/hetvae/data/CAT/MLS/MLS170222:112501+151626_20.16.dat', '/content/hetvae/data/CAT/MLS/MLS160614:220201+043654_20.06.dat', '/content/hetvae/data/CAT/MLS/MLS160604:170050+302132_20.39.dat', '/content/hetvae/data/CAT/MLS/MLS170927:223850+054732_21.46.dat', '/content/hetvae/data/CAT/MLS/MLS190124:144136+511023_18.13.dat', '/content/hetvae/data/CAT/MLS/MLS170322:112653+433641_21.22.dat', '/content/hetvae/data/CAT/MLS/MLS170406:121703+225708_20.17.dat', '/content/hetvae/data/CAT/MLS/MLS160709:132834+295516_20.74.dat', '/content/hetvae/data/CAT/MLS/MLS180115:105823+053313_21.18.dat', '/content/hetvae/data/CAT/MLS/MLS170221:105952+150023_20.34.dat', '/content/hetvae/data/CAT/MLS/MLS170325:102224+150229_19.91.dat', '/content/hetvae/data/CAT/MLS/MLS190125:115925+455037_20.16.dat', '/content/hetvae/data/CAT/MLS/MLS171126:092219+185613_20.27.dat', '/content/hetvae/data/CAT/MLS/MLS170308:132841+451007_20.24.dat', '/content/hetvae/data/CAT/MLS/MLS170125:101221+261140_19.77.dat', '/content/hetvae/data/CAT/MLS/MLS181118:023550+385035_19.66.dat', '/content/hetvae/data/CAT/MLS/MLS180612:112600+100630_21.49.dat', '/content/hetvae/data/CAT/MLS/MLS180225:131438+065800_17.53.dat', '/content/hetvae/data/CAT/MLS/MLS170306:144450+185707_19.69.dat', '/content/hetvae/data/CAT/MLS/MLS171117:002803+055335_20.96.dat', '/content/hetvae/data/CAT/MLS/MLS160902:004717+102830_20.58.dat', '/content/hetvae/data/CAT/MLS/MLS171014:010601+174413_18.96.dat', '/content/hetvae/data/CAT/MLS/MLS170129:114257+083200_20.39.dat']\n",
            "dims of /content/hetvae/data/CAT/CSS/CSS170616:105354+511232_19.13.dat:\t(14, 3)\n",
            "dims of /content/hetvae/data/CAT/CSS/CSS170626:144806+372546_20.67.dat:\t(217, 3)\n",
            "dims of /content/hetvae/data/CAT/CSS/CSS170327:100524+275019_19.39.dat:\t(450, 3)\n",
            "dims of /content/hetvae/data/CAT/CSS/CSS170320:155358+281121_18.12.dat:\t(582, 3)\n",
            "dims of /content/hetvae/data/CAT/CSS/CSS170928:000609+183719_19.6.dat:\t(376, 3)\n",
            "dims of /content/hetvae/data/CAT/CSS/CSS170221:100018+192306_19.91.dat:\t(443, 3)\n",
            "dims of /content/hetvae/data/CAT/CSS/CSS170519:154111+482755_19.79.dat:\t(339, 3)\n",
            "dims of /content/hetvae/data/CAT/CSS/CSS170929:015655+045636_19.34.dat:\t(368, 3)\n",
            "dims of /content/hetvae/data/CAT/CSS/CSS170929:001323+014545_20.2.dat:\t(341, 3)\n",
            "dims of /content/hetvae/data/CAT/CSS/CSS170423:130015+152709_20.7.dat:\t(248, 3)\n",
            "dims of /content/hetvae/data/CAT/CSS/CSS171011:022657-035945_18.76.dat:\t(414, 3)\n",
            "dims of /content/hetvae/data/CAT/CSS/CSS171012:164452+443946_17.8.dat:\t(607, 3)\n",
            "dims of /content/hetvae/data/CAT/CSS/CSS170626:144248+502203_20.72.dat:\t(292, 3)\n",
            "dims of /content/hetvae/data/CAT/CSS/CSS170626:144534+461748_20.55.dat:\t(332, 3)\n",
            "dims of /content/hetvae/data/CAT/CSS/CSS170504:170539+273641_18.81.dat:\t(824, 3)\n",
            "dims of /content/hetvae/data/CAT/CSS/CSS170925:235758-120558_18.32.dat:\t(320, 3)\n",
            "dims of /content/hetvae/data/CAT/CSS/CSS170928:031553+152331_19.85.dat:\t(393, 3)\n",
            "dims of /content/hetvae/data/CAT/CSS/CSS170321:125647+452323_19.55.dat:\t(591, 3)\n",
            "dims of /content/hetvae/data/CAT/CSS/CSS170320:110636+193253_20.34.dat:\t(271, 3)\n",
            "dims of /content/hetvae/data/CAT/CSS/CSS171011:233604-121242_17.67.dat:\t(406, 3)\n",
            "dims of /content/hetvae/data/CAT/CSS/CSS170201:032419+151858_18.88.dat:\t(581, 3)\n",
            "dims of /content/hetvae/data/CAT/CSS/CSS170224:105051+102134_19.76.dat:\t(489, 3)\n",
            "dims of /content/hetvae/data/CAT/CSS/CSS170330:115713+462454_20.45.dat:\t(73, 3)\n",
            "dims of /content/hetvae/data/CAT/CSS/CSS171012:172358+530024_18.73.dat:\t(460, 3)\n",
            "dims of /content/hetvae/data/CAT/CSS/CSS170130:124836+461301_18.79.dat:\t(503, 3)\n",
            "dims of /content/hetvae/data/CAT/CSS/CSS170302:114849+005511_20.26.dat:\t(424, 3)\n",
            "dims of /content/hetvae/data/CAT/CSS/CSS170920:222515-080102_17.54.dat:\t(725, 3)\n",
            "dims of /content/hetvae/data/CAT/CSS/CSS170201:095935+281239_18.34.dat:\t(931, 3)\n",
            "dims of /content/hetvae/data/CAT/CSS/CSS170131:020924-031049_19.67.dat:\t(292, 3)\n",
            "dims of /content/hetvae/data/CAT/CSS/CSS170930:072702+525141_18.55.dat:\t(908, 3)\n",
            "dims of /content/hetvae/data/CAT/CSS/CSS170320:100524+275018_19.98.dat:\t(258, 3)\n",
            "dims of /content/hetvae/data/CAT/CSS/CSS170928:014736+155300_19.65.dat:\t(418, 3)\n",
            "dims of /content/hetvae/data/CAT/CSS/CSS170928:220238+103029_18.65.dat:\t(476, 3)\n",
            "dims of /content/hetvae/data/CAT/CSS/CSS170914:022317+274424_18.86.dat:\t(289, 3)\n",
            "dims of /content/hetvae/data/CAT/CSS/CSS170928:020115+134229_19.8.dat:\t(338, 3)\n",
            "dims of /content/hetvae/data/CAT/CSS/CSS170528:130623-023814_19.62.dat:\t(292, 3)\n",
            "dims of /content/hetvae/data/CAT/CSS/CSS170321:133109+411438_19.05.dat:\t(602, 3)\n",
            "dims of /content/hetvae/data/CAT/CSS/CSS170323:083128+192242_19.0.dat:\t(576, 3)\n",
            "dims of /content/hetvae/data/CAT/CSS/CSS170419:125107+030511_18.4.dat:\t(168, 3)\n",
            "dims of /content/hetvae/data/CAT/CSS/CSS170627:140044+460728_19.49.dat:\t(245, 3)\n",
            "dims of /content/hetvae/data/CAT/CSS/CSS171011:010004-132449_19.01.dat:\t(302, 3)\n",
            "dims of /content/hetvae/data/CAT/CSS/CSS171011:024100-024502_19.01.dat:\t(304, 3)\n",
            "dims of /content/hetvae/data/CAT/CSS/CSS170215:114903+362408_18.25.dat:\t(811, 3)\n",
            "dims of /content/hetvae/data/CAT/CSS/CSS170925:042038-084453_18.95.dat:\t(315, 3)\n",
            "dims of /content/hetvae/data/CAT/CSS/CSS170516:122751+371654_20.02.dat:\t(270, 3)\n",
            "dims of /content/hetvae/data/CAT/CSS/CSS170519:143840+483606_18.94.dat:\t(379, 3)\n",
            "dims of /content/hetvae/data/CAT/CSS/CSS170130:100034+455823_19.33.dat:\t(409, 3)\n",
            "dims of /content/hetvae/data/CAT/CSS/CSS170529:141209+490112_19.59.dat:\t(422, 3)\n",
            "dims of /content/hetvae/data/CAT/CSS/CSS170130:072804+511129_18.91.dat:\t(735, 3)\n",
            "dims of /content/hetvae/data/CAT/CSS/CSS170430:121139+401258_20.22.dat:\t(437, 3)\n",
            "dims of /content/hetvae/data/CAT/CSS/CSS170130:102912+510535_20.17.dat:\t(97, 3)\n",
            "dims of /content/hetvae/data/CAT/CSS/CSS170304:142241+225141_18.63.dat:\t(602, 3)\n",
            "dims of /content/hetvae/data/CAT/CSS/CSS170202:013058+311446_18.92.dat:\t(76, 3)\n",
            "dims of /content/hetvae/data/CAT/CSS/CSS170318:140157+452716_19.29.dat:\t(591, 3)\n",
            "dims of /content/hetvae/data/CAT/CSS/CSS170221:155213+152636_19.08.dat:\t(299, 3)\n",
            "dims of /content/hetvae/data/CAT/CSS/CSS170330:105330+511722_19.04.dat:\t(350, 3)\n",
            "dims of /content/hetvae/data/CAT/CSS/CSS170130:072727+504800_17.44.dat:\t(1052, 3)\n",
            "dims of /content/hetvae/data/CAT/CSS/CSS170628:132717+023457_20.81.dat:\t(222, 3)\n",
            "dims of /content/hetvae/data/CAT/CSS/CSS171011:023035-041040_18.8.dat:\t(355, 3)\n",
            "dims of /content/hetvae/data/CAT/CSS/CSS170130:141645+432425_19.49.dat:\t(438, 3)\n",
            "dims of /content/hetvae/data/CAT/CSS/CSS170516:123457+424112_19.42.dat:\t(705, 3)\n",
            "dims of /content/hetvae/data/CAT/CSS/CSS170924:001108+195550_18.68.dat:\t(358, 3)\n",
            "dims of /content/hetvae/data/CAT/CSS/CSS170504:144757+132212_18.9.dat:\t(801, 3)\n",
            "dims of /content/hetvae/data/CAT/CSS/CSS170925:233209-210538_19.1.dat:\t(337, 3)\n",
            "dims of /content/hetvae/data/CAT/CSS/CSS170627:113446+331131_20.32.dat:\t(231, 3)\n",
            "dims of /content/hetvae/data/CAT/CSS/CSS170918:004713+095639_19.19.dat:\t(344, 3)\n",
            "dims of /content/hetvae/data/CAT/CSS/CSS170925:001445-114228_18.82.dat:\t(217, 3)\n",
            "dims of /content/hetvae/data/CAT/CSS/CSS170924:000329+142215_19.13.dat:\t(141, 3)\n",
            "dims of /content/hetvae/data/CAT/CSS/CSS170928:021956+152837_19.91.dat:\t(435, 3)\n",
            "dims of /content/hetvae/data/CAT/CSS/CSS170131:135357-074301_19.9.dat:\t(282, 3)\n",
            "dims of /content/hetvae/data/CAT/CSS/CSS170130:101532+383223_19.34.dat:\t(552, 3)\n",
            "dims of /content/hetvae/data/CAT/CSS/CSS170227:151350+150947_19.68.dat:\t(227, 3)\n",
            "dims of /content/hetvae/data/CAT/CSS/CSS170304:122225+271222_19.64.dat:\t(692, 3)\n",
            "dims of /content/hetvae/data/CAT/CSS/CSS170918:162531+270547_17.12.dat:\t(533, 3)\n",
            "dims of /content/hetvae/data/CAT/CSS/CSS170928:005935+133340_20.04.dat:\t(215, 3)\n",
            "dims of /content/hetvae/data/CAT/CSS/CSS170322:145644+395340_20.7.dat:\t(419, 3)\n",
            "dims of /content/hetvae/data/CAT/CSS/CSS170325:125540+395120_18.55.dat:\t(802, 3)\n",
            "dims of /content/hetvae/data/CAT/CSS/CSS171001:030632+143102_18.92.dat:\t(735, 3)\n",
            "dims of /content/hetvae/data/CAT/CSS/CSS170130:093832+503858_19.45.dat:\t(596, 3)\n",
            "dims of /content/hetvae/data/CAT/CSS/CSS170322:125749+470604_20.81.dat:\t(288, 3)\n",
            "dims of /content/hetvae/data/CAT/CSS/CSS170201:114232+200717_20.13.dat:\t(175, 3)\n",
            "dims of /content/hetvae/data/CAT/CSS/CSS170629:231605-195812_19.14.dat:\t(32, 3)\n",
            "dims of /content/hetvae/data/CAT/CSS/CSS170202:100034+455823_19.25.dat:\t(253, 3)\n",
            "dims of /content/hetvae/data/CAT/CSS/CSS170627:130414+461143_20.75.dat:\t(148, 3)\n",
            "dims of /content/hetvae/data/CAT/CSS/CSS170924:002335+131922_18.69.dat:\t(524, 3)\n",
            "dims of /content/hetvae/data/CAT/CSS/CSS170506:124658+622229_18.75.dat:\t(429, 3)\n",
            "dims of /content/hetvae/data/CAT/CSS/CSS170325:143550+500123_20.53.dat:\t(403, 3)\n",
            "dims of /content/hetvae/data/CAT/CSS/CSS170131:102818+070028_20.32.dat:\t(230, 3)\n",
            "dims of /content/hetvae/data/CAT/CSS/CSS170506:144139+531059_17.8.dat:\t(281, 3)\n",
            "dims of /content/hetvae/data/CAT/CSS/CSS170925:034553-154102_19.07.dat:\t(303, 3)\n",
            "dims of /content/hetvae/data/CAT/CSS/CSS170130:113335+500438_20.04.dat:\t(183, 3)\n",
            "dims of /content/hetvae/data/CAT/CSS/CSS170425:144637+345409_19.9.dat:\t(531, 3)\n",
            "dims of /content/hetvae/data/CAT/CSS/CSS170201:084317+101227_19.43.dat:\t(275, 3)\n",
            "dims of /content/hetvae/data/CAT/CSS/CSS170207:150126+012927_19.82.dat:\t(548, 3)\n",
            "dims of /content/hetvae/data/CAT/CSS/CSS170304:122854+241500_19.15.dat:\t(561, 3)\n",
            "dims of /content/hetvae/data/CAT/CSS/CSS170325:135129+413007_20.61.dat:\t(246, 3)\n",
            "dims of /content/hetvae/data/CAT/CSS/CSS171010:235439+005752_17.47.dat:\t(548, 3)\n",
            "dims of /content/hetvae/data/CAT/CSS/CSS170925:041845-054127_18.89.dat:\t(429, 3)\n",
            "dims of /content/hetvae/data/CAT/CSS/CSS170322:092410+584144_19.69.dat:\t(469, 3)\n",
            "dims of /content/hetvae/data/CAT/CSS/CSS170929:020951+062822_18.99.dat:\t(444, 3)\n",
            "dims of /content/hetvae/data/CAT/CSS/CSS171001:004742+155939_18.04.dat:\t(511, 3)\n",
            "dims of /content/hetvae/data/CAT/CSS/CSS170130:130357+363042_17.61.dat:\t(467, 3)\n",
            "dims of /content/hetvae/data/CAT/CSS/CSS170920:004626-021509_17.95.dat:\t(381, 3)\n",
            "dims of /content/hetvae/data/CAT/CSS/CSS170925:002517-212104_18.37.dat:\t(273, 3)\n",
            "dims of /content/hetvae/data/CAT/MLS/MLS161026:230940-023503_20.57.dat:\t(111, 3)\n",
            "dims of /content/hetvae/data/CAT/MLS/MLS170421:144757+132212_18.86.dat:\t(501, 3)\n",
            "dims of /content/hetvae/data/CAT/MLS/MLS170222:120355+145725_20.1.dat:\t(130, 3)\n",
            "dims of /content/hetvae/data/CAT/MLS/MLS161107:020045+151846_21.19.dat:\t(127, 3)\n",
            "dims of /content/hetvae/data/CAT/MLS/MLS170307:121633+210227_20.85.dat:\t(135, 3)\n",
            "dims of /content/hetvae/data/CAT/MLS/MLS160604:143945+214631_21.2.dat:\t(41, 3)\n",
            "dims of /content/hetvae/data/CAT/MLS/MLS190124:121416+535511_18.24.dat:\t(264, 3)\n",
            "dims of /content/hetvae/data/CAT/MLS/MLS170927:231552+080453_20.89.dat:\t(11, 3)\n",
            "dims of /content/hetvae/data/CAT/MLS/MLS180525:104822+354028_20.63.dat:\t(117, 3)\n",
            "dims of /content/hetvae/data/CAT/MLS/MLS170429:125522+105347_19.43.dat:\t(194, 3)\n",
            "dims of /content/hetvae/data/CAT/MLS/MLS160904:222620+041659_20.41.dat:\t(43, 3)\n",
            "dims of /content/hetvae/data/CAT/MLS/MLS170418:162128+302937_20.47.dat:\t(61, 3)\n",
            "dims of /content/hetvae/data/CAT/MLS/MLS180209:163644+340742_21.52.dat:\t(66, 3)\n",
            "dims of /content/hetvae/data/CAT/MLS/MLS161002:004441+164846_20.13.dat:\t(49, 3)\n",
            "dims of /content/hetvae/data/CAT/MLS/MLS171220:111228+020816_20.21.dat:\t(217, 3)\n",
            "dims of /content/hetvae/data/CAT/MLS/MLS171023:011200+122625_20.72.dat:\t(92, 3)\n",
            "dims of /content/hetvae/data/CAT/MLS/MLS160603:140547+262634_20.43.dat:\t(44, 3)\n",
            "dims of /content/hetvae/data/CAT/MLS/MLS171010:164418+465730_20.65.dat:\t(106, 3)\n",
            "dims of /content/hetvae/data/CAT/MLS/MLS170107:110715+251339_19.78.dat:\t(216, 3)\n",
            "dims of /content/hetvae/data/CAT/MLS/MLS161021:164429+280907_20.52.dat:\t(61, 3)\n",
            "dims of /content/hetvae/data/CAT/MLS/MLS171226:120259+184859_19.46.dat:\t(70, 3)\n",
            "dims of /content/hetvae/data/CAT/MLS/MLS171017:212716-050216_20.36.dat:\t(44, 3)\n",
            "dims of /content/hetvae/data/CAT/MLS/MLS161125:002335+131922_18.71.dat:\t(452, 3)\n",
            "dims of /content/hetvae/data/CAT/MLS/MLS170924:215411+183252_20.98.dat:\t(34, 3)\n",
            "dims of /content/hetvae/data/CAT/MLS/MLS180504:122328+465235_20.74.dat:\t(43, 3)\n",
            "dims of /content/hetvae/data/CAT/MLS/MLS161227:074018+250843_21.57.dat:\t(142, 3)\n",
            "dims of /content/hetvae/data/CAT/MLS/MLS170405:134237+285439_19.71.dat:\t(266, 3)\n",
            "dims of /content/hetvae/data/CAT/MLS/MLS171124:003657+024947_21.16.dat:\t(128, 3)\n",
            "dims of /content/hetvae/data/CAT/MLS/MLS161029:022204-024918_20.34.dat:\t(43, 3)\n",
            "dims of /content/hetvae/data/CAT/MLS/MLS170322:114822+314347_20.66.dat:\t(84, 3)\n",
            "dims of /content/hetvae/data/CAT/MLS/MLS171029:003953+372214_21.34.dat:\t(35, 3)\n",
            "dims of /content/hetvae/data/CAT/MLS/MLS161130:095602+191724_19.47.dat:\t(583, 3)\n",
            "dims of /content/hetvae/data/CAT/MLS/MLS161027:010953+111402_20.25.dat:\t(218, 3)\n",
            "dims of /content/hetvae/data/CAT/MLS/MLS170520:161800+352540_20.23.dat:\t(146, 3)\n",
            "dims of /content/hetvae/data/CAT/MLS/MLS180605:125755+402227_17.92.dat:\t(502, 3)\n",
            "dims of /content/hetvae/data/CAT/MLS/MLS170309:122751+371654_20.06.dat:\t(159, 3)\n",
            "dims of /content/hetvae/data/CAT/MLS/MLS180105:093456+581812_19.54.dat:\t(186, 3)\n",
            "dims of /content/hetvae/data/CAT/MLS/MLS170104:110616+150931_20.51.dat:\t(117, 3)\n",
            "dims of /content/hetvae/data/CAT/MLS/MLS170423:123639+541114_20.38.dat:\t(105, 3)\n",
            "dims of /content/hetvae/data/CAT/MLS/MLS170308:120417+340156_19.6.dat:\t(337, 3)\n",
            "dims of /content/hetvae/data/CAT/MLS/MLS171224:131208+053729_20.59.dat:\t(75, 3)\n",
            "dims of /content/hetvae/data/CAT/MLS/MLS181104:024203-080124_19.6.dat:\t(150, 3)\n",
            "dims of /content/hetvae/data/CAT/MLS/MLS180520:131834+491853_20.48.dat:\t(132, 3)\n",
            "dims of /content/hetvae/data/CAT/MLS/MLS170130:091532+420943_20.04.dat:\t(193, 3)\n",
            "dims of /content/hetvae/data/CAT/MLS/MLS170424:152920+522753_20.1.dat:\t(158, 3)\n",
            "dims of /content/hetvae/data/CAT/MLS/MLS180319:103032+063218_20.34.dat:\t(251, 3)\n",
            "dims of /content/hetvae/data/CAT/MLS/MLS160925:015646+122311_20.45.dat:\t(170, 3)\n",
            "dims of /content/hetvae/data/CAT/MLS/MLS170831:234104+175851_20.19.dat:\t(133, 3)\n",
            "dims of /content/hetvae/data/CAT/MLS/MLS170408:125702+434920_20.1.dat:\t(139, 3)\n",
            "dims of /content/hetvae/data/CAT/MLS/MLS180524:154839+273517_20.74.dat:\t(131, 3)\n",
            "dims of /content/hetvae/data/CAT/MLS/MLS180209:161210+375904_21.12.dat:\t(59, 3)\n",
            "dims of /content/hetvae/data/CAT/MLS/MLS170310:130357+363042_17.37.dat:\t(497, 3)\n",
            "dims of /content/hetvae/data/CAT/MLS/MLS171224:104909+070025_20.15.dat:\t(477, 3)\n",
            "dims of /content/hetvae/data/CAT/MLS/MLS180522:124450+162647_20.27.dat:\t(73, 3)\n",
            "dims of /content/hetvae/data/CAT/MLS/MLS160711:144215-004127_19.84.dat:\t(134, 3)\n",
            "dims of /content/hetvae/data/CAT/MLS/MLS180210:111129+313030_19.43.dat:\t(312, 3)\n",
            "dims of /content/hetvae/data/CAT/MLS/MLS170927:014402+082318_20.82.dat:\t(166, 3)\n",
            "dims of /content/hetvae/data/CAT/MLS/MLS180314:094635+245100_19.88.dat:\t(202, 3)\n",
            "dims of /content/hetvae/data/CAT/MLS/MLS180405:125329+505134_20.25.dat:\t(154, 3)\n",
            "dims of /content/hetvae/data/CAT/MLS/MLS160912:015956+084350_20.78.dat:\t(104, 3)\n",
            "dims of /content/hetvae/data/CAT/MLS/MLS171127:104238+201045_19.13.dat:\t(824, 3)\n",
            "dims of /content/hetvae/data/CAT/MLS/MLS171120:213515-065829_20.95.dat:\t(13, 3)\n",
            "dims of /content/hetvae/data/CAT/MLS/MLS170421:104521+134902_20.42.dat:\t(246, 3)\n",
            "dims of /content/hetvae/data/CAT/MLS/MLS181006:014216-084701_20.44.dat:\t(63, 3)\n",
            "dims of /content/hetvae/data/CAT/MLS/MLS170222:171245+302243_20.28.dat:\t(151, 3)\n",
            "dims of /content/hetvae/data/CAT/MLS/MLS180418:090730+402111_20.54.dat:\t(100, 3)\n",
            "dims of /content/hetvae/data/CAT/MLS/MLS160604:123136+285304_20.51.dat:\t(68, 3)\n",
            "dims of /content/hetvae/data/CAT/MLS/MLS160909:012156+244040_20.62.dat:\t(42, 3)\n",
            "dims of /content/hetvae/data/CAT/MLS/MLS170331:124306+301120_20.43.dat:\t(173, 3)\n",
            "dims of /content/hetvae/data/CAT/MLS/MLS180112:141927+271334_20.2.dat:\t(89, 3)\n",
            "dims of /content/hetvae/data/CAT/MLS/MLS161019:102241+113138_20.35.dat:\t(261, 3)\n",
            "dims of /content/hetvae/data/CAT/MLS/MLS170208:110101+411817_19.8.dat:\t(270, 3)\n",
            "dims of /content/hetvae/data/CAT/MLS/MLS170424:151411+342848_20.94.dat:\t(130, 3)\n",
            "dims of /content/hetvae/data/CAT/MLS/MLS170222:112501+151626_20.16.dat:\t(174, 3)\n",
            "dims of /content/hetvae/data/CAT/MLS/MLS160614:220201+043654_20.06.dat:\t(35, 3)\n",
            "dims of /content/hetvae/data/CAT/MLS/MLS160604:170050+302132_20.39.dat:\t(48, 3)\n",
            "dims of /content/hetvae/data/CAT/MLS/MLS170927:223850+054732_21.46.dat:\t(32, 3)\n",
            "dims of /content/hetvae/data/CAT/MLS/MLS190124:144136+511023_18.13.dat:\t(348, 3)\n",
            "dims of /content/hetvae/data/CAT/MLS/MLS170322:112653+433641_21.22.dat:\t(78, 3)\n",
            "dims of /content/hetvae/data/CAT/MLS/MLS170406:121703+225708_20.17.dat:\t(123, 3)\n",
            "dims of /content/hetvae/data/CAT/MLS/MLS160709:132834+295516_20.74.dat:\t(73, 3)\n",
            "dims of /content/hetvae/data/CAT/MLS/MLS180115:105823+053313_21.18.dat:\t(348, 3)\n",
            "dims of /content/hetvae/data/CAT/MLS/MLS170221:105952+150023_20.34.dat:\t(121, 3)\n",
            "dims of /content/hetvae/data/CAT/MLS/MLS170325:102224+150229_19.91.dat:\t(247, 3)\n",
            "dims of /content/hetvae/data/CAT/MLS/MLS190125:115925+455037_20.16.dat:\t(103, 3)\n",
            "dims of /content/hetvae/data/CAT/MLS/MLS171126:092219+185613_20.27.dat:\t(152, 3)\n",
            "dims of /content/hetvae/data/CAT/MLS/MLS170308:132841+451007_20.24.dat:\t(154, 3)\n",
            "dims of /content/hetvae/data/CAT/MLS/MLS170125:101221+261140_19.77.dat:\t(347, 3)\n",
            "dims of /content/hetvae/data/CAT/MLS/MLS181118:023550+385035_19.66.dat:\t(171, 3)\n",
            "dims of /content/hetvae/data/CAT/MLS/MLS180612:112600+100630_21.49.dat:\t(101, 3)\n",
            "dims of /content/hetvae/data/CAT/MLS/MLS180225:131438+065800_17.53.dat:\t(551, 3)\n",
            "dims of /content/hetvae/data/CAT/MLS/MLS170306:144450+185707_19.69.dat:\t(137, 3)\n",
            "dims of /content/hetvae/data/CAT/MLS/MLS171117:002803+055335_20.96.dat:\t(126, 3)\n",
            "dims of /content/hetvae/data/CAT/MLS/MLS160902:004717+102830_20.58.dat:\t(77, 3)\n",
            "dims of /content/hetvae/data/CAT/MLS/MLS171014:010601+174413_18.96.dat:\t(350, 3)\n",
            "dims of /content/hetvae/data/CAT/MLS/MLS170129:114257+083200_20.39.dat:\t(261, 3)\n",
            "generating 1 new sample of each example in the dataset & appending them \n",
            " old dataset length: 200\n",
            "new dataset length: 400\n",
            "created union_x attribute of length 37028\n",
            "zero fill all the examples up to the length of longest one given, dataset is also now a numpy array w shape: (400, 745, 3), instead of a list of numpy arrays\n",
            "created subsampled_mask & recon_mask instance attributes\n"
          ]
        },
        {
          "output_type": "stream",
          "name": "stderr",
          "text": [
            "/usr/local/lib/python3.7/dist-packages/ipykernel_launcher.py:6: RankWarning: Polyfit may be poorly conditioned\n",
            "  \n",
            "/content/hetvae/src/dataset.py:319: RuntimeWarning: divide by zero encountered in true_divide\n",
            "  self.dataset[:,:,2] = 1. / self.dataset[:,:,2]\n"
          ]
        },
        {
          "output_type": "display_data",
          "data": {
            "text/plain": [
              "<Figure size 432x288 with 1 Axes>"
            ],
            "image/png": "[encoded data removed]"
          },
          "metadata": {
            "needs_background": "light"
          }
        }
      ]
    },
    {
      "cell_type": "code",
      "source": [
        "#------------------------------\n",
        "# AGN Preprocessing, we have a DF w/ OBJECT , FILTER, MJD, FLUX, ERROR\n",
        "#------------------------------\n",
        "\n",
        "agn_df = pd.read_csv('/content/hetvae/data/AGN_1H2106-099/1H2106-099_latest_lcs_pyroa.csv')\n",
        "# handle formatting for new AGN\n",
        "lcs = []\n",
        "for lc_df in agn_df.groupby('Filter'):\n",
        "    lc = lc_df[1][['MJD', 'Flux', 'Error']].to_numpy()\n",
        "    lcs.append(lc)\n",
        "# lcs[0] = lcs[0][lcs[0][:,0].argsort()]\n",
        "# lcs[0] = np.concatenate((lcs[0][:10], lcs[0][410:]))\n",
        "\n",
        "# lcs = [lcs[0], lcs[0]]\n",
        "AGN_1H2106 = DataSet()\n",
        "AGN_1H2106.dataset = lcs # skip add files part\n",
        "\n",
        "AGN_1H2106 = AGN_1H2106.handle_dups() \\\n",
        "                      .prune_outliers() \\\n",
        "                      .resample_dataset(num_samples=5) \\\n",
        "                      .normalize(normalize_y='individual', normalize_x='individual', x_by_range=True, y_by_range=False) \\\n",
        "                      .reorder() \\\n",
        "                      .set_union_x() \\\n",
        "                      .zero_fill() \\\n",
        "                      .error_to_sample_weight() \\\n",
        "                      .make_masks(frac=0.5) \\\n",
        "                      .set_target_x()\n",
        "\n",
        "\n",
        "print(\n",
        "    AGN_1H2106.union_x.shape,\n",
        "    AGN_1H2106.dataset.shape,\n",
        "    AGN_1H2106.subsampled_mask.shape,\n",
        "    AGN_1H2106.recon_mask.shape\n",
        "  )\n",
        "\n",
        "\n",
        "# fig,ax = plt.subplots(5,1, figsize=(20,20))\n",
        "# for i in range(5):\n",
        "#     ax[i].scatter(AGN_1H2106.dataset[i,:-50,0], AGN_1H2106.dataset[i,:-50,1])"
      ],
      "metadata": {
        "id": "yC6tji2N_MsS",
        "outputId": "d3590a8c-23b6-4a3c-e8ea-6d3b892b9bc4",
        "colab": {
          "base_uri": "https://localhost:8080/"
        }
      },
      "id": "yC6tji2N_MsS",
      "execution_count": 74,
      "outputs": [
        {
          "output_type": "stream",
          "name": "stdout",
          "text": [
            "indexes of outliers to be pruned, if any: [600 601]\n",
            "indexes of outliers to be pruned, if any: []\n",
            "indexes of outliers to be pruned, if any: [418 583]\n",
            "indexes of outliers to be pruned, if any: []\n",
            "indexes of outliers to be pruned, if any: [ 98 205 260 261 554 555]\n",
            "generating 5 new sample of each example in the dataset & appending them \n",
            " old dataset length: 5\n",
            "new dataset length: 30\n",
            "created union_x attribute of length 2438\n",
            "zero fill all the examples up to the length of longest one given, dataset is also now a numpy array w shape: (30, 619, 3), instead of a list of numpy arrays\n",
            "created subsampled_mask & recon_mask instance attributes\n",
            "(2438,) (30, 619, 3) (30, 619) (30, 619)\n"
          ]
        },
        {
          "output_type": "stream",
          "name": "stderr",
          "text": [
            "/content/hetvae/src/dataset.py:319: RuntimeWarning: divide by zero encountered in true_divide\n",
            "  self.dataset[:,:,2] = 1. / self.dataset[:,:,2]\n"
          ]
        }
      ]
    },
    {
      "cell_type": "code",
      "execution_count": null,
      "id": "b01ad704",
      "metadata": {
        "id": "b01ad704"
      },
      "outputs": [],
      "source": [
        "# num heads?\n",
        "args = Namespace(batch_size=8, bound_variance=False, const_var=False,dropout=0.3, \n",
        "                 elbo_weight=1, embed_time=32, enc_num_heads=4, intensity=True, k_iwae=1, kl_annealing=False, \n",
        "                 kl_zero=False, latent_dim=64, lr=0.001, mixing='concat_and_mix', mse_weight=1., net='hetvae', \n",
        "                 niters=1000, norm=True, normalize_input='znorm', num_ref_points=64, rec_hidden=64, recon_loss=False, \n",
        "                 sample_tp=0.33, save=True, seed=0, shuffle=True, std=0.9, var_per_dim=False, width=64)\n",
        "\n"
      ]
    },
    {
      "cell_type": "code",
      "source": [
        ""
      ],
      "metadata": {
        "id": "cHH1_uMHL7XQ"
      },
      "id": "cHH1_uMHL7XQ",
      "execution_count": null,
      "outputs": []
    },
    {
      "cell_type": "code",
      "execution_count": null,
      "id": "d4088220",
      "metadata": {
        "id": "d4088220"
      },
      "outputs": [],
      "source": [
        "DIM = 1\n",
        "# definitly want a decaying error rate...\n",
        "#scheduler = torch.optim.lr_scheduler.MultiStepLR(optimizer, milestones=[], gamma=0.1)\n",
        "seed = args.seed\n",
        "torch.manual_seed(seed)\n",
        "np.random.seed(seed)\n",
        "torch.cuda.manual_seed(seed)\n",
        "device = torch.device('cuda' if torch.cuda.is_available() else 'cpu')"
      ]
    },
    {
      "cell_type": "code",
      "execution_count": null,
      "id": "d0aebfb9",
      "metadata": {
        "colab": {
          "base_uri": "https://localhost:8080/"
        },
        "id": "d0aebfb9",
        "outputId": "aa8807b8-66b3-4a86-d47e-61125048647c"
      },
      "outputs": [
        {
          "output_type": "stream",
          "name": "stdout",
          "text": [
            "(30, 619, 5)\n"
          ]
        }
      ],
      "source": [
        "LightCurves = np.concatenate((AGN_1H2106.dataset, AGN_1H2106.subsampled_mask[:,:,np.newaxis], AGN_1H2106.recon_mask[:,:,np.newaxis]), axis=-1) # format the masks for the model \n",
        "#LightCurves = np.concatenate((Edelson.dataset, Edelson.subsampled_mask[:,:,np.newaxis], Edelson.recon_mask[:,:,np.newaxis]), axis=-1) # format the masks for the model \n",
        "#LightCurves = np.concatenate((Catalina.dataset, Catalina.subsampled_mask[:,:,np.newaxis], Catalina.recon_mask[:,:,np.newaxis]), axis=-1) # format the masks for the model \n",
        "\n",
        "print(LightCurves.shape)\n"
      ]
    },
    {
      "cell_type": "code",
      "execution_count": null,
      "id": "1f4fa40b",
      "metadata": {
        "id": "1f4fa40b"
      },
      "outputs": [],
      "source": [
        "training, valid = np.split(LightCurves, [int(np.floor(0.8*len(LightCurves)))])# shuffle?\n",
        "\n",
        "train_loader = torch.utils.data.DataLoader(training, batch_size=args.batch_size)\n",
        "valid_loader = torch.utils.data.DataLoader(valid, batch_size=args.batch_size)\n",
        "       "
      ]
    },
    {
      "cell_type": "code",
      "execution_count": null,
      "id": "b27bb411",
      "metadata": {
        "id": "b27bb411"
      },
      "outputs": [],
      "source": [
        "net = models.load_network(args, DIM, torch.Tensor(AGN_1H2106.union_x))\n",
        "#net = models.load_network(args, DIM, torch.Tensor(Edelson.union_x))  \n",
        "#net = models.load_network(args, DIM, torch.Tensor(Catalina.union_x)) \n",
        "params = list(net.parameters())\n",
        "optimizer = optim.Adam(params, lr=0.002057519)"
      ]
    },
    {
      "cell_type": "code",
      "source": [
        "net.query"
      ],
      "metadata": {
        "colab": {
          "base_uri": "https://localhost:8080/"
        },
        "id": "EB1NNxR0Ik1x",
        "outputId": "7b254989-e86b-440b-a554-81ab5f79742d"
      },
      "id": "EB1NNxR0Ik1x",
      "execution_count": null,
      "outputs": [
        {
          "output_type": "execute_result",
          "data": {
            "text/plain": [
              "tensor([0.0000, 0.0159, 0.0317, 0.0476, 0.0635, 0.0794, 0.0952, 0.1111, 0.1270,\n",
              "        0.1429, 0.1587, 0.1746, 0.1905, 0.2063, 0.2222, 0.2381, 0.2540, 0.2698,\n",
              "        0.2857, 0.3016, 0.3175, 0.3333, 0.3492, 0.3651, 0.3810, 0.3968, 0.4127,\n",
              "        0.4286, 0.4444, 0.4603, 0.4762, 0.4921, 0.5079, 0.5238, 0.5397, 0.5556,\n",
              "        0.5714, 0.5873, 0.6032, 0.6190, 0.6349, 0.6508, 0.6667, 0.6825, 0.6984,\n",
              "        0.7143, 0.7302, 0.7460, 0.7619, 0.7778, 0.7937, 0.8095, 0.8254, 0.8413,\n",
              "        0.8571, 0.8730, 0.8889, 0.9048, 0.9206, 0.9365, 0.9524, 0.9683, 0.9841,\n",
              "        1.0000])"
            ]
          },
          "metadata": {},
          "execution_count": 86
        }
      ]
    },
    {
      "cell_type": "code",
      "execution_count": null,
      "id": "552f9dde",
      "metadata": {
        "id": "552f9dde"
      },
      "outputs": [],
      "source": [
        "def train(net, optimizer,epoch, train_loader, args, device=\"cuda\"):\n",
        "      \n",
        "      train_loss = 0.\n",
        "      train_n = 0.\n",
        "      avg_loglik, avg_kl, mse, mae = 0., 0., 0., 0.\n",
        "      for i, train_batch in enumerate(train_loader):\n",
        "          batch_len = train_batch.shape[0] \n",
        "          #train_batch[:,:,2] = torch.ones((train_batch[:,:,3].shape))\n",
        "          train_batch = train_batch.to(device)\n",
        "          x = train_batch[:,:,0]\n",
        "          y = train_batch[:,:,1:2]\n",
        "          subsampled_mask = train_batch[:,:,3:4]\n",
        "          recon_mask = train_batch[:,:,4:5]\n",
        "          sample_weight = train_batch[:,:,2:3]\n",
        "          # weights for loss in analogy to standard weighted least squares error \n",
        "  \n",
        "          seqlen = train_batch.size(1) \n",
        "          # subsampled flux values and their corresponding masks....\n",
        "          context_y = torch.cat((\n",
        "              y * subsampled_mask, subsampled_mask\n",
        "          ), -1) \n",
        "          recon_context_y = torch.cat((            # flux values with only recon_mask values showing\n",
        "                  y * recon_mask, recon_mask\n",
        "              ), -1) \n",
        "    # format: compute_unsupervised_loss(self, context_x, context_y, target_x, target_y, num_samples=1, beta=1):\n",
        "          loss_info = net.compute_unsupervised_loss(\n",
        "              x,\n",
        "              context_y,  \n",
        "              x,  # can pick the points we want to project to\n",
        "              recon_context_y,\n",
        "              num_samples=args.k_iwae, # 1? \n",
        "              beta=0.1,\n",
        "              # optional, will be zero if not set\n",
        "              sample_weight = sample_weight,\n",
        "\n",
        "          )\n",
        "          optimizer.zero_grad()\n",
        "          loss_info.composite_loss.backward()\n",
        "          optimizer.step()\n",
        "          #scheduler.step()\n",
        "          train_loss += loss_info.composite_loss.item() * batch_len\n",
        "          avg_loglik += loss_info.loglik * batch_len\n",
        "          avg_kl += loss_info.kl * batch_len\n",
        "          mse += loss_info.mse * batch_len\n",
        "          mae += loss_info.mae * batch_len\n",
        "          train_n += batch_len\n",
        "      \n",
        "      \n",
        "      if epoch % 100 == 0:\n",
        "          print(\n",
        "              'Iter: {}, train loss: {:.4f}, avg nll: {:.4f}, avg kl: {:.4f}, '\n",
        "              'mse: {:.6f}, mae: {:.6f}'.format(\n",
        "                  epoch,\n",
        "                  train_loss / train_n,\n",
        "                  -avg_loglik / train_n,\n",
        "                  avg_kl / train_n,\n",
        "                  mse / train_n,\n",
        "                  mae / train_n\n",
        "              )\n",
        "          )\n"
      ]
    },
    {
      "cell_type": "code",
      "source": [
        "for g in optimizer.param_groups:\n",
        "    print(g['lr'])\n",
        "    g['lr'] = 0.00257519"
      ],
      "metadata": {
        "colab": {
          "base_uri": "https://localhost:8080/"
        },
        "id": "JQCwNCcF8fcN",
        "outputId": "0576bb63-3104-4b33-b53a-b4bc7ba489a6"
      },
      "id": "JQCwNCcF8fcN",
      "execution_count": null,
      "outputs": [
        {
          "output_type": "stream",
          "name": "stdout",
          "text": [
            "0.002057519\n"
          ]
        }
      ]
    },
    {
      "cell_type": "code",
      "execution_count": null,
      "id": "2a537d69",
      "metadata": {
        "colab": {
          "base_uri": "https://localhost:8080/"
        },
        "id": "2a537d69",
        "outputId": "67787c5b-0ddc-44b6-95c5-167e0a0360d9"
      },
      "outputs": [
        {
          "output_type": "stream",
          "name": "stdout",
          "text": [
            "Iter: 100, train loss: 0.9087, avg nll: 0.2275, avg kl: 0.1548, mse: 0.665772, mae: 0.242452\n"
          ]
        }
      ],
      "source": [
        "for epoch in range(1, 101): #args.niters + 1):\n",
        "    train(net, optimizer, epoch, train_loader, args)"
      ]
    },
    {
      "cell_type": "code",
      "source": [
        "reconstruction, qz_mean, qz_std = viz_per_example(AGN_1H2106.dataset[0], AGN_1H2106.target_x[0], net, device=device, k_iwae=50)\n",
        "#px, qz = viz_per_example(AGN_1H2106.dataset[6], AGN_1H2106.dataset[6,:,0], net, device=device, k_iwae=50)"
      ],
      "metadata": {
        "id": "v7t_jodciuC6",
        "outputId": "0ca975cd-d707-4e71-c32a-85425ebf9b79",
        "colab": {
          "base_uri": "https://localhost:8080/",
          "height": 502
        }
      },
      "id": "v7t_jodciuC6",
      "execution_count": null,
      "outputs": [
        {
          "output_type": "display_data",
          "data": {
            "text/plain": [
              "<Figure size 2160x720 with 1 Axes>"
            ],
            "image/png": "[encoded data removed]"
          },
          "metadata": {
            "needs_background": "light"
          }
        },
        {
          "output_type": "stream",
          "name": "stdout",
          "text": [
            "qz shape: (1, 64, 64)\n",
            "reconstructed example: (200, 3)\n"
          ]
        }
      ]
    },
    {
      "cell_type": "code",
      "source": [
        "# visualisation for one light curve w/ increasing number of points\n",
        "def viz_per_example(example, target_x, net, device=\"cuda\", k_iwae=10, frac=0.5): \n",
        "    example = example[np.newaxis, :,:]\n",
        "    target_x = target_x[np.newaxis, :, np.newaxis]\n",
        "    np.random.seed(0)\n",
        "    with torch.no_grad(): \n",
        "        if torch.is_tensor(example):\n",
        "            example = example.cpu().numpy()\n",
        "        # make new masks relative to fraction of points we got to predict w/ \n",
        "        smask, rmask = my_utils.make_masks(example, frac=frac)\n",
        "        example = np.concatenate((example, smask[:,:,np.newaxis], rmask[:,:,np.newaxis], target_x), axis=-1) # format the masks \n",
        "        \n",
        "        example = torch.tensor(example)\n",
        "        example = example.to(device)\n",
        "        \n",
        "        subsampled_mask = example[:,:,3:4]\n",
        "        context_y = torch.cat((example[:,:, 1:2] * subsampled_mask, subsampled_mask), -1)\n",
        "        px, qz = net.get_reconstruction(example[:,:, 0], context_y, example[:,:,5], num_samples=k_iwae)\n",
        "\n",
        "        qz_mean = (qz.mean.cpu().numpy())\n",
        "        qz_std = (torch.exp(0.5 * qz.logvar).cpu().numpy())\n",
        "        px_mean = px.mean.cpu().numpy()\n",
        "        px_std = torch.exp(0.5 * px.logvar).cpu().numpy()\n",
        "        example = example.cpu().numpy()\n",
        "\n",
        "        px_mean = np.mean(px_mean, axis=0)[0,:200,0]\n",
        "        px_std = np.mean(px_std, axis=0)[0,:200,0]\n",
        "        target_x = target_x[0,:200,0]\n",
        "        w=2.0\n",
        "        plt.figure(figsize=(30, 10))\n",
        "        #plt.fill_between(target_x, px_mean - 2*px_std, px_mean+2*px_std, color='gray')\n",
        "\n",
        "        plt.plot(target_x, px_mean, c='b', lw=w, label='Reconstructions', zorder=20)\n",
        "        plt.scatter(example[0,:,0], example[0,:,1])\n",
        "        plt.errorbar(target_x, px_mean ,yerr=px_std,  ecolor='#65c9f7', c='b', lw=w, label='Reconstructions')\n",
        "\n",
        "        plt.show()\n",
        "        reconstruction = np.concatenate((target_x[:,np.newaxis], px_mean[:,np.newaxis], px_std[:,np.newaxis]), axis=1)\n",
        "        print(f'qz shape: {qz_mean.shape}')\n",
        "        print(f'reconstructed example: {reconstruction.shape}')\n",
        "        return reconstruction, qz_mean,qz_std\n",
        "\n"
      ],
      "metadata": {
        "id": "nkw0Le6rshjY"
      },
      "id": "nkw0Le6rshjY",
      "execution_count": null,
      "outputs": []
    },
    {
      "cell_type": "code",
      "source": [
        "reconstruction.shape"
      ],
      "metadata": {
        "id": "KSCj51OAazCD",
        "colab": {
          "base_uri": "https://localhost:8080/"
        },
        "outputId": "c7b91f23-9902-4a9c-f8ea-c5b63b411d9d"
      },
      "id": "KSCj51OAazCD",
      "execution_count": null,
      "outputs": [
        {
          "output_type": "execute_result",
          "data": {
            "text/plain": [
              "(200, 3)"
            ]
          },
          "metadata": {},
          "execution_count": 97
        }
      ]
    },
    {
      "cell_type": "code",
      "source": [
        "x_mean, x_std = AGN_1H2106.x_mean_std[0]\n",
        "y_mean, y_std = AGN_1H2106.y_mean_std[0]\n",
        "\n",
        "\n",
        "x = (reconstruction[:,0] * x_std) + x_mean\n",
        "y = (reconstruction[:,1] * y_std) + y_mean\n",
        "yerr = reconstruction[:,2] * y_std\n",
        "plt.errorbar(x,y,yerr=yerr)\n",
        "\n",
        "\n",
        "\n"
      ],
      "metadata": {
        "id": "zePfbNKyRlQK",
        "outputId": "1b5caedd-2999-43f1-cd51-5c4fbd3d8945",
        "colab": {
          "base_uri": "https://localhost:8080/",
          "height": 284
        }
      },
      "id": "zePfbNKyRlQK",
      "execution_count": null,
      "outputs": [
        {
          "output_type": "execute_result",
          "data": {
            "text/plain": [
              "<ErrorbarContainer object of 3 artists>"
            ]
          },
          "metadata": {},
          "execution_count": 98
        },
        {
          "output_type": "display_data",
          "data": {
            "text/plain": [
              "<Figure size 432x288 with 1 Axes>"
            ],
            "image/png": "[encoded data removed]"
          },
          "metadata": {
            "needs_background": "light"
          }
        }
      ]
    },
    {
      "cell_type": "code",
      "source": [
        "denorm_AGN = AGN_1H2106.error_to_sample_weight().denormalize()\n",
        "x = denorm_AGN[0,:,0]\n",
        "y = denorm_AGN[0,:,1]\n",
        "\n",
        "yerr = denorm_AGN[0,:,2]\n",
        "\n",
        "\n",
        "\n",
        "plt.errorbar(x,y,yerr=yerr, fmt='o')\n",
        "\n"
      ],
      "metadata": {
        "id": "Pb_5adSCTw4a",
        "outputId": "d65f9570-e36b-457f-b59e-e8f406b84116",
        "colab": {
          "base_uri": "https://localhost:8080/",
          "height": 317
        }
      },
      "id": "Pb_5adSCTw4a",
      "execution_count": null,
      "outputs": [
        {
          "output_type": "stream",
          "name": "stderr",
          "text": [
            "/content/hetvae/src/dataset.py:208: RuntimeWarning: divide by zero encountered in true_divide\n",
            "  self.dataset[:,:,2] = 1. / self.dataset[:,:,2]\n"
          ]
        },
        {
          "output_type": "execute_result",
          "data": {
            "text/plain": [
              "<ErrorbarContainer object of 3 artists>"
            ]
          },
          "metadata": {},
          "execution_count": 113
        },
        {
          "output_type": "display_data",
          "data": {
            "text/plain": [
              "<Figure size 432x288 with 1 Axes>"
            ],
            "image/png": "[encoded data removed]"
          },
          "metadata": {
            "needs_background": "light"
          }
        }
      ]
    },
    {
      "cell_type": "code",
      "source": [
        "AGN_1H2106.dataset"
      ],
      "metadata": {
        "id": "wwgJKjrbUWmg",
        "outputId": "a588e772-1e17-414f-b410-276924c24c5a",
        "colab": {
          "base_uri": "https://localhost:8080/"
        }
      },
      "id": "wwgJKjrbUWmg",
      "execution_count": null,
      "outputs": [
        {
          "output_type": "execute_result",
          "data": {
            "text/plain": [
              "array([[[ 0.0000000e+00, -7.9469520e-01,  1.0513152e+01],\n",
              "        [ 1.7049999e-03, -8.1631315e-01,  1.0513152e+01],\n",
              "        [ 3.7090969e+00, -2.7154094e-01,  1.3605254e+01],\n",
              "        ...,\n",
              "        [ 1.4319696e+02,  1.1422726e+00,  7.4609466e+00],\n",
              "        [ 1.4717955e+02,  1.3800700e+00,  7.7096448e+00],\n",
              "        [ 1.4718089e+02,  1.3800700e+00,  7.7096448e+00]],\n",
              "\n",
              "       [[ 0.0000000e+00, -7.4311298e-01,  9.0784645e+00],\n",
              "        [ 1.7039999e-03, -8.2021850e-01,  9.0784645e+00],\n",
              "        [ 3.7090189e+00, -4.3744454e-01,  8.0697460e+00],\n",
              "        ...,\n",
              "        [ 0.0000000e+00,  0.0000000e+00,  0.0000000e+00],\n",
              "        [ 0.0000000e+00,  0.0000000e+00,  0.0000000e+00],\n",
              "        [ 0.0000000e+00,  0.0000000e+00,  0.0000000e+00]],\n",
              "\n",
              "       [[ 0.0000000e+00, -7.6081628e-01,  5.0561476e+00],\n",
              "        [ 1.7040001e-03, -7.7907276e-01,  5.0561476e+00],\n",
              "        [ 3.7090709e+00, -4.9001110e-01,  9.9590778e+00],\n",
              "        ...,\n",
              "        [ 0.0000000e+00,  0.0000000e+00,  0.0000000e+00],\n",
              "        [ 0.0000000e+00,  0.0000000e+00,  0.0000000e+00],\n",
              "        [ 0.0000000e+00,  0.0000000e+00,  0.0000000e+00]],\n",
              "\n",
              "       ...,\n",
              "\n",
              "       [[ 0.0000000e+00, -6.5819585e-01,  5.1217847e+00],\n",
              "        [ 1.7040001e-03, -6.1446208e-01,  5.1217847e+00],\n",
              "        [ 3.7090709e+00, -3.5326591e-01,  1.0088364e+01],\n",
              "        ...,\n",
              "        [ 0.0000000e+00,  0.0000000e+00,  0.0000000e+00],\n",
              "        [ 0.0000000e+00,  0.0000000e+00,  0.0000000e+00],\n",
              "        [ 0.0000000e+00,  0.0000000e+00,  0.0000000e+00]],\n",
              "\n",
              "       [[ 0.0000000e+00, -3.0690694e-01,  1.8692863e+01],\n",
              "        [ 7.2440002e-03, -2.1089672e-01,  1.3194963e+01],\n",
              "        [ 4.3482652e+00, -6.7504251e-01,  1.1806020e+01],\n",
              "        ...,\n",
              "        [ 0.0000000e+00,  0.0000000e+00,  0.0000000e+00],\n",
              "        [ 0.0000000e+00,  0.0000000e+00,  0.0000000e+00],\n",
              "        [ 0.0000000e+00,  0.0000000e+00,  0.0000000e+00]],\n",
              "\n",
              "       [[ 0.0000000e+00, -5.9358263e-01,  3.4673922e+00],\n",
              "        [ 3.0960001e-03, -1.8749960e-01,  3.4673922e+00],\n",
              "        [ 3.7089820e+00,  3.1480771e-01,  3.8484244e+00],\n",
              "        ...,\n",
              "        [ 0.0000000e+00,  0.0000000e+00,  0.0000000e+00],\n",
              "        [ 0.0000000e+00,  0.0000000e+00,  0.0000000e+00],\n",
              "        [ 0.0000000e+00,  0.0000000e+00,  0.0000000e+00]]], dtype=float32)"
            ]
          },
          "metadata": {},
          "execution_count": 110
        }
      ]
    },
    {
      "cell_type": "code",
      "source": [
        ""
      ],
      "metadata": {
        "id": "j2lD1JrOUkaW"
      },
      "id": "j2lD1JrOUkaW",
      "execution_count": null,
      "outputs": []
    }
  ],
  "metadata": {
    "kernelspec": {
      "display_name": "Python 3 (ipykernel)",
      "language": "python",
      "name": "python3"
    },
    "language_info": {
      "codemirror_mode": {
        "name": "ipython",
        "version": 3
      },
      "file_extension": ".py",
      "mimetype": "text/x-python",
      "name": "python",
      "nbconvert_exporter": "python",
      "pygments_lexer": "ipython3",
      "version": "3.9.2"
    },
    "colab": {
      "name": "light_curve_demo.ipynb",
      "provenance": []
    },
    "accelerator": "GPU"
  },
  "nbformat": 4,
  "nbformat_minor": 5
}