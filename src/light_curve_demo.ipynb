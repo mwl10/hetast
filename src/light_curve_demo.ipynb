{
  "cells": [
    {
      "cell_type": "code",
      "execution_count": 2,
      "id": "5fe134d8",
      "metadata": {
        "colab": {
          "base_uri": "https://localhost:8080/"
        },
        "id": "5fe134d8",
        "outputId": "5eed0690-6095-42d3-b3b8-5f3861795b58"
      },
      "outputs": [
        {
          "output_type": "stream",
          "name": "stdout",
          "text": [
            "Cloning into 'hetvae'...\n",
            "remote: Enumerating objects: 1924, done.\u001b[K\n",
            "remote: Counting objects: 100% (64/64), done.\u001b[K\n",
            "remote: Compressing objects: 100% (47/47), done.\u001b[K\n",
            "remote: Total 1924 (delta 40), reused 33 (delta 17), pack-reused 1860\u001b[K\n",
            "Receiving objects: 100% (1924/1924), 26.25 MiB | 14.78 MiB/s, done.\n",
            "Resolving deltas: 100% (643/643), done.\n",
            "Looking in indexes: https://pypi.org/simple, https://us-python.pkg.dev/colab-wheels/public/simple/\n",
            "Requirement already satisfied: alembic==1.7.7 in /usr/local/lib/python3.7/dist-packages (from -r requirements.txt (line 1)) (1.7.7)\n",
            "Requirement already satisfied: attrs==21.4.0 in /usr/local/lib/python3.7/dist-packages (from -r requirements.txt (line 2)) (21.4.0)\n",
            "Requirement already satisfied: autopage==0.5.0 in /usr/local/lib/python3.7/dist-packages (from -r requirements.txt (line 3)) (0.5.0)\n",
            "Requirement already satisfied: backports.functools-lru-cache==1.6.4 in /usr/local/lib/python3.7/dist-packages (from -r requirements.txt (line 4)) (1.6.4)\n",
            "Requirement already satisfied: cliff==3.10.1 in /usr/local/lib/python3.7/dist-packages (from -r requirements.txt (line 5)) (3.10.1)\n",
            "Requirement already satisfied: cmaes==0.8.2 in /usr/local/lib/python3.7/dist-packages (from -r requirements.txt (line 6)) (0.8.2)\n",
            "Requirement already satisfied: cmd2==2.3.3 in /usr/local/lib/python3.7/dist-packages (from -r requirements.txt (line 7)) (2.3.3)\n",
            "Requirement already satisfied: colorama==0.4.4 in /usr/local/lib/python3.7/dist-packages (from -r requirements.txt (line 8)) (0.4.4)\n",
            "Requirement already satisfied: colorlog==6.6.0 in /usr/local/lib/python3.7/dist-packages (from -r requirements.txt (line 9)) (6.6.0)\n",
            "Requirement already satisfied: greenlet==1.1.2 in /usr/local/lib/python3.7/dist-packages (from -r requirements.txt (line 10)) (1.1.2)\n",
            "Requirement already satisfied: importlib-metadata==4.11.4 in /usr/local/lib/python3.7/dist-packages (from -r requirements.txt (line 11)) (4.11.4)\n",
            "Requirement already satisfied: importlib-resources==5.7.1 in /usr/local/lib/python3.7/dist-packages (from -r requirements.txt (line 12)) (5.7.1)\n",
            "Requirement already satisfied: Mako==1.2.0 in /usr/local/lib/python3.7/dist-packages (from -r requirements.txt (line 13)) (1.2.0)\n",
            "Requirement already satisfied: MarkupSafe==2.1.1 in /usr/local/lib/python3.7/dist-packages (from -r requirements.txt (line 14)) (2.1.1)\n",
            "Requirement already satisfied: numpy==1.21.0 in /usr/local/lib/python3.7/dist-packages (from -r requirements.txt (line 15)) (1.21.0)\n",
            "Requirement already satisfied: optuna==2.10.0 in /usr/local/lib/python3.7/dist-packages (from -r requirements.txt (line 16)) (2.10.0)\n",
            "Requirement already satisfied: packaging==21.3 in /usr/local/lib/python3.7/dist-packages (from -r requirements.txt (line 17)) (21.3)\n",
            "Requirement already satisfied: pbr==5.9.0 in /usr/local/lib/python3.7/dist-packages (from -r requirements.txt (line 18)) (5.9.0)\n",
            "Requirement already satisfied: pip==22.1.1 in /usr/local/lib/python3.7/dist-packages (from -r requirements.txt (line 19)) (22.1.1)\n",
            "Requirement already satisfied: prettytable==3.3.0 in /usr/local/lib/python3.7/dist-packages (from -r requirements.txt (line 20)) (3.3.0)\n",
            "Requirement already satisfied: pyparsing==3.0.9 in /usr/local/lib/python3.7/dist-packages (from -r requirements.txt (line 21)) (3.0.9)\n",
            "Requirement already satisfied: pyperclip==1.8.2 in /usr/local/lib/python3.7/dist-packages (from -r requirements.txt (line 22)) (1.8.2)\n",
            "Requirement already satisfied: PyYAML==6.0 in /usr/local/lib/python3.7/dist-packages (from -r requirements.txt (line 23)) (6.0)\n",
            "Requirement already satisfied: scipy==1.7.3 in /usr/local/lib/python3.7/dist-packages (from -r requirements.txt (line 24)) (1.7.3)\n",
            "Requirement already satisfied: setuptools==62.3.2 in /usr/local/lib/python3.7/dist-packages (from -r requirements.txt (line 25)) (62.3.2)\n",
            "Requirement already satisfied: SQLAlchemy==1.4.36 in /usr/local/lib/python3.7/dist-packages (from -r requirements.txt (line 26)) (1.4.36)\n",
            "Requirement already satisfied: stevedore==3.5.0 in /usr/local/lib/python3.7/dist-packages (from -r requirements.txt (line 27)) (3.5.0)\n",
            "Requirement already satisfied: tqdm==4.64.0 in /usr/local/lib/python3.7/dist-packages (from -r requirements.txt (line 28)) (4.64.0)\n",
            "Requirement already satisfied: wcwidth==0.2.5 in /usr/local/lib/python3.7/dist-packages (from -r requirements.txt (line 29)) (0.2.5)\n",
            "Requirement already satisfied: wheel==0.37.1 in /usr/local/lib/python3.7/dist-packages (from -r requirements.txt (line 30)) (0.37.1)\n",
            "Requirement already satisfied: zipp==3.8.0 in /usr/local/lib/python3.7/dist-packages (from -r requirements.txt (line 31)) (3.8.0)\n",
            "Requirement already satisfied: typing-extensions in /usr/local/lib/python3.7/dist-packages (from cmd2==2.3.3->-r requirements.txt (line 7)) (4.2.0)\n",
            "\u001b[33mWARNING: Running pip as the 'root' user can result in broken permissions and conflicting behaviour with the system package manager. It is recommended to use a virtual environment instead: https://pip.pypa.io/warnings/venv\u001b[0m\u001b[33m\n",
            "\u001b[0m"
          ]
        }
      ],
      "source": [
        "import os\n",
        "import shutil\n",
        "os.chdir('/content')\n",
        "if os.path.isdir('./hetvae'):\n",
        "  shutil.rmtree('./hetvae/')\n",
        "! git clone --branch errors https://github.com/mwl10/hetvae\n",
        "os.chdir('/content/hetvae')\n",
        "! pip install -r requirements.txt\n",
        "os.chdir('/content/hetvae/src')\n",
        "import numpy as np\n",
        "import torch\n",
        "import torch.optim as optim\n",
        "import models\n",
        "from argparse import Namespace\n",
        "import torch.optim as optim\n",
        "import utils\n",
        "import my_utils\n",
        "import pandas as pd\n",
        "import importlib\n",
        "import vae_models\n",
        "importlib.reload(vae_models)\n",
        "importlib.reload(models)\n",
        "importlib.reload(utils)\n",
        "importlib.reload(my_utils)\n",
        "from glob import glob\n",
        "import matplotlib.pyplot as plt\n",
        "import sys\n",
        "#del sys.modules['dataset']\n",
        "from dataset import DataSet\n",
        "%matplotlib inline"
      ]
    },
    {
      "cell_type": "code",
      "execution_count": null,
      "id": "9f4e5bb7",
      "metadata": {
        "id": "9f4e5bb7",
        "outputId": "62e2b1a9-eef4-41c9-ae29-be24210a865c",
        "colab": {
          "base_uri": "https://localhost:8080/"
        }
      },
      "outputs": [
        {
          "output_type": "stream",
          "name": "stdout",
          "text": [
            "indexes of outliers to be pruned, if any: [600 601]\n",
            "indexes of outliers to be pruned, if any: []\n",
            "indexes of outliers to be pruned, if any: [418 583]\n",
            "indexes of outliers to be pruned, if any: []\n",
            "indexes of outliers to be pruned, if any: [ 98 205 260 261 554 555]\n",
            "generating 1 new sample of each example in the dataset & appending them \n",
            " old dataset length: 5\n",
            "new dataset length: 10\n",
            "created union_x attribute of length 1445\n",
            "zero fill all the examples up to the length of longest one given, dataset is also now a numpy array w shape: (10, 619, 3), instead of a list of numpy arrays\n",
            "created subsampled_mask & recon_mask instance attributes\n",
            "(1445,) (10, 619, 3) (10, 619) (10, 619)\n"
          ]
        }
      ],
      "source": [
        "#------------------------------\n",
        "# AGN Preprocessing, we have a DF w/ OBJECT , FILTER, MJD, FLUX, ERROR\n",
        "#-------------------------------\n",
        "agn_file = '/content/hetvae/data/AGN_1H2106-099/1H2106-099_latest_lcs_pyroa.csv'\n",
        "agn_df = pd.read_csv(agn_file)\n",
        "# handle formatting for new AGN\n",
        "lcs = []\n",
        "for lc_df in agn_df.groupby('Filter'):\n",
        "    lc = lc_df[1][['MJD', 'Flux', 'Error']].to_numpy()\n",
        "    lcs.append(lc)\n",
        "\n",
        "AGN_1H2106 = DataSet()\n",
        "AGN_1H2106.dataset = lcs # skip add files part\n",
        "AGN_1H2106 = AGN_1H2106.handle_dups().prune_outliers().resample_dataset(num_samples=1).normalize(normalize_y_by='individual') \\\n",
        "  .set_union_x().zero_fill().make_masks(frac=0.5)\n",
        "\n",
        "print(\n",
        "    AGN_1H2106.union_x.shape,\n",
        "    AGN_1H2106.dataset.shape,\n",
        "    AGN_1H2106.subsampled_mask.shape,\n",
        "    AGN_1H2106.recon_mask.shape\n",
        "  )\n"
      ]
    },
    {
      "cell_type": "code",
      "source": [
        "#--------------------------------------------------------------------------------------------------------\n",
        "# PREPROCESSING, from Catalina data\n",
        "#--------------------------------------------------------------------------------------------------------\n",
        "\n",
        "\n",
        "lc_files = glob('/content/hetvae/data/CAT/*/*')[:50]\n",
        "\n",
        "Catalina = DataSet().add_files(lc_files).files_to_numpy().handle_dups().prune_outliers().resample_dataset(num_samples=1).normalize(normalize_y_by='individual') \\\n",
        "        .set_union_x().zero_fill().make_masks(frac=0.5)\n",
        "\n",
        "print(\n",
        "    Catalina.files, '\\n',\n",
        "    Catalina.union_x.shape,\n",
        "    Catalina.dataset.shape,\n",
        "    Catalina.subsampled_mask.shape,\n",
        "    Catalina.recon_mask.shape\n",
        "  )\n"
      ],
      "metadata": {
        "id": "WSd6dRhCvv5M",
        "outputId": "98b39a8e-f4d4-4e0f-c35e-3033450f6464",
        "colab": {
          "base_uri": "https://localhost:8080/"
        }
      },
      "id": "WSd6dRhCvv5M",
      "execution_count": null,
      "outputs": [
        {
          "output_type": "stream",
          "name": "stdout",
          "text": [
            "dims of /content/hetvae/data/CAT/MLS/MLS160904:221110-060547_19.78.dat:\t(72, 3)\n",
            "dims of /content/hetvae/data/CAT/MLS/MLS170222:122411+113751_20.91.dat:\t(87, 3)\n",
            "dims of /content/hetvae/data/CAT/MLS/MLS180319:105723+035711_20.73.dat:\t(142, 3)\n",
            "dims of /content/hetvae/data/CAT/MLS/MLS171024:001549+031138_20.85.dat:\t(152, 3)\n",
            "dims of /content/hetvae/data/CAT/MLS/MLS170105:074944+212124_20.56.dat:\t(426, 3)\n",
            "dims of /content/hetvae/data/CAT/MLS/MLS170521:115341+363537_20.76.dat:\t(99, 3)\n",
            "dims of /content/hetvae/data/CAT/MLS/MLS170310:130357+363042_17.37.dat:\t(497, 3)\n",
            "dims of /content/hetvae/data/CAT/MLS/MLS170107:121527-012403_20.34.dat:\t(402, 3)\n",
            "dims of /content/hetvae/data/CAT/MLS/MLS180516:211854-035803_21.02.dat:\t(43, 3)\n",
            "dims of /content/hetvae/data/CAT/MLS/MLS161019:012917-043310_19.39.dat:\t(203, 3)\n",
            "dims of /content/hetvae/data/CAT/MLS/MLS170323:105609+434657_19.66.dat:\t(420, 3)\n",
            "dims of /content/hetvae/data/CAT/MLS/MLS171023:002448+095950_20.3.dat:\t(93, 3)\n",
            "dims of /content/hetvae/data/CAT/MLS/MLS161005:010635+343936_20.59.dat:\t(46, 3)\n",
            "dims of /content/hetvae/data/CAT/MLS/MLS161119:012457+102448_20.09.dat:\t(281, 3)\n",
            "dims of /content/hetvae/data/CAT/MLS/MLS170504:130558+231524_20.19.dat:\t(184, 3)\n",
            "dims of /content/hetvae/data/CAT/MLS/MLS180408:121411+331653_19.96.dat:\t(131, 3)\n",
            "dims of /content/hetvae/data/CAT/MLS/MLS171224:102512+075149_20.76.dat:\t(231, 3)\n",
            "dims of /content/hetvae/data/CAT/MLS/MLS171226:093252+194427_20.98.dat:\t(88, 3)\n",
            "dims of /content/hetvae/data/CAT/MLS/MLS170321:121226+200441_20.23.dat:\t(109, 3)\n",
            "dims of /content/hetvae/data/CAT/MLS/MLS170330:115039+304441_19.91.dat:\t(220, 3)\n",
            "dims of /content/hetvae/data/CAT/MLS/MLS171015:035044+110649_20.43.dat:\t(82, 3)\n",
            "dims of /content/hetvae/data/CAT/MLS/MLS171017:212718-053646_21.15.dat:\t(34, 3)\n",
            "dims of /content/hetvae/data/CAT/MLS/MLS161204:111630+041506_19.69.dat:\t(333, 3)\n",
            "dims of /content/hetvae/data/CAT/MLS/MLS160910:235803+034234_20.24.dat:\t(195, 3)\n",
            "dims of /content/hetvae/data/CAT/MLS/MLS160708:013026+121836_20.01.dat:\t(275, 3)\n",
            "dims of /content/hetvae/data/CAT/MLS/MLS180516:115459+000924_20.75.dat:\t(129, 3)\n",
            "dims of /content/hetvae/data/CAT/MLS/MLS171028:015127+295220_20.16.dat:\t(33, 3)\n",
            "dims of /content/hetvae/data/CAT/MLS/MLS170306:141850+180622_20.3.dat:\t(132, 3)\n",
            "dims of /content/hetvae/data/CAT/MLS/MLS170304:131810+303013_20.62.dat:\t(77, 3)\n",
            "dims of /content/hetvae/data/CAT/MLS/MLS160605:132712+123251_19.42.dat:\t(103, 3)\n",
            "dims of /content/hetvae/data/CAT/MLS/MLS160708:014215+115422_20.07.dat:\t(71, 3)\n",
            "dims of /content/hetvae/data/CAT/MLS/MLS160702:153017+104945_20.43.dat:\t(81, 3)\n",
            "dims of /content/hetvae/data/CAT/MLS/MLS160606:102501+161046_21.06.dat:\t(45, 3)\n",
            "dims of /content/hetvae/data/CAT/MLS/MLS170216:114950+422348_20.0.dat:\t(137, 3)\n",
            "dims of /content/hetvae/data/CAT/MLS/MLS170505:161947+323430_20.39.dat:\t(93, 3)\n",
            "dims of /content/hetvae/data/CAT/MLS/MLS161021:170104+264931_18.53.dat:\t(605, 3)\n",
            "dims of /content/hetvae/data/CAT/MLS/MLS171119:232033-024141_21.59.dat:\t(119, 3)\n",
            "dims of /content/hetvae/data/CAT/MLS/MLS171117:233026+043852_21.18.dat:\t(5, 3)\n",
            "dims of /content/hetvae/data/CAT/MLS/MLS160705:164027+242937_20.55.dat:\t(112, 3)\n",
            "dims of /content/hetvae/data/CAT/MLS/MLS180409:120252+274135_20.74.dat:\t(13, 3)\n",
            "dims of /content/hetvae/data/CAT/MLS/MLS160925:231242-025850_20.84.dat:\t(114, 3)\n",
            "dims of /content/hetvae/data/CAT/MLS/MLS170322:114822+314347_20.66.dat:\t(84, 3)\n",
            "dims of /content/hetvae/data/CAT/MLS/MLS180114:021716+142025_19.92.dat:\t(385, 3)\n",
            "dims of /content/hetvae/data/CAT/MLS/MLS190124:121416+535511_18.24.dat:\t(264, 3)\n",
            "dims of /content/hetvae/data/CAT/MLS/MLS160607:122532+044420_19.79.dat:\t(55, 3)\n",
            "dims of /content/hetvae/data/CAT/MLS/MLS170304:134104+391811_20.46.dat:\t(109, 3)\n",
            "dims of /content/hetvae/data/CAT/MLS/MLS180607:150931+284929_20.31.dat:\t(117, 3)\n",
            "dims of /content/hetvae/data/CAT/MLS/MLS171026:010024-103655_20.35.dat:\t(35, 3)\n",
            "dims of /content/hetvae/data/CAT/MLS/MLS170224:102734+410207_20.19.dat:\t(91, 3)\n",
            "dims of /content/hetvae/data/CAT/MLS/MLS170628:125059+463723_20.39.dat:\t(124, 3)\n",
            "indexes of outliers to be pruned, if any: [1]\n",
            "indexes of outliers to be pruned, if any: []\n",
            "indexes of outliers to be pruned, if any: [45]\n",
            "indexes of outliers to be pruned, if any: [85]\n",
            "indexes of outliers to be pruned, if any: [25]\n",
            "indexes of outliers to be pruned, if any: []\n",
            "indexes of outliers to be pruned, if any: [88]\n",
            "indexes of outliers to be pruned, if any: [ 35  64 163 183 184 266]\n",
            "indexes of outliers to be pruned, if any: [0]\n",
            "indexes of outliers to be pruned, if any: []\n",
            "indexes of outliers to be pruned, if any: [ 79 155]\n",
            "indexes of outliers to be pruned, if any: []\n",
            "indexes of outliers to be pruned, if any: []\n",
            "indexes of outliers to be pruned, if any: []\n",
            "indexes of outliers to be pruned, if any: []\n",
            "indexes of outliers to be pruned, if any: []\n",
            "indexes of outliers to be pruned, if any: []\n",
            "indexes of outliers to be pruned, if any: []\n",
            "indexes of outliers to be pruned, if any: []\n",
            "indexes of outliers to be pruned, if any: []\n",
            "indexes of outliers to be pruned, if any: [ 0 49]\n",
            "indexes of outliers to be pruned, if any: [1]\n",
            "indexes of outliers to be pruned, if any: [8]\n",
            "indexes of outliers to be pruned, if any: [41]\n",
            "indexes of outliers to be pruned, if any: [107 121 123]\n",
            "indexes of outliers to be pruned, if any: []\n",
            "indexes of outliers to be pruned, if any: []\n",
            "indexes of outliers to be pruned, if any: []\n",
            "indexes of outliers to be pruned, if any: []\n",
            "indexes of outliers to be pruned, if any: [12]\n",
            "indexes of outliers to be pruned, if any: []\n",
            "indexes of outliers to be pruned, if any: []\n",
            "indexes of outliers to be pruned, if any: []\n",
            "indexes of outliers to be pruned, if any: []\n",
            "indexes of outliers to be pruned, if any: []\n",
            "indexes of outliers to be pruned, if any: [321 328 546]\n",
            "indexes of outliers to be pruned, if any: [64]\n",
            "indexes of outliers to be pruned, if any: []\n",
            "indexes of outliers to be pruned, if any: []\n",
            "indexes of outliers to be pruned, if any: []\n",
            "indexes of outliers to be pruned, if any: []\n",
            "indexes of outliers to be pruned, if any: []\n",
            "indexes of outliers to be pruned, if any: [ 50  56 298]\n",
            "indexes of outliers to be pruned, if any: []\n",
            "indexes of outliers to be pruned, if any: []\n",
            "indexes of outliers to be pruned, if any: []\n",
            "indexes of outliers to be pruned, if any: [32]\n",
            "indexes of outliers to be pruned, if any: []\n",
            "indexes of outliers to be pruned, if any: []\n",
            "indexes of outliers to be pruned, if any: []\n",
            "generating 1 new sample of each example in the dataset & appending them \n",
            " old dataset length: 50\n",
            "new dataset length: 100\n",
            "created union_x attribute of length 2382\n",
            "zero fill all the examples up to the length of longest one given, dataset is also now a numpy array w shape: (100, 551, 3), instead of a list of numpy arrays\n",
            "created subsampled_mask & recon_mask instance attributes\n",
            "['/content/hetvae/data/CAT/MLS/MLS160904:221110-060547_19.78.dat', '/content/hetvae/data/CAT/MLS/MLS170222:122411+113751_20.91.dat', '/content/hetvae/data/CAT/MLS/MLS180319:105723+035711_20.73.dat', '/content/hetvae/data/CAT/MLS/MLS171024:001549+031138_20.85.dat', '/content/hetvae/data/CAT/MLS/MLS170105:074944+212124_20.56.dat', '/content/hetvae/data/CAT/MLS/MLS170521:115341+363537_20.76.dat', '/content/hetvae/data/CAT/MLS/MLS170310:130357+363042_17.37.dat', '/content/hetvae/data/CAT/MLS/MLS170107:121527-012403_20.34.dat', '/content/hetvae/data/CAT/MLS/MLS180516:211854-035803_21.02.dat', '/content/hetvae/data/CAT/MLS/MLS161019:012917-043310_19.39.dat', '/content/hetvae/data/CAT/MLS/MLS170323:105609+434657_19.66.dat', '/content/hetvae/data/CAT/MLS/MLS171023:002448+095950_20.3.dat', '/content/hetvae/data/CAT/MLS/MLS161005:010635+343936_20.59.dat', '/content/hetvae/data/CAT/MLS/MLS161119:012457+102448_20.09.dat', '/content/hetvae/data/CAT/MLS/MLS170504:130558+231524_20.19.dat', '/content/hetvae/data/CAT/MLS/MLS180408:121411+331653_19.96.dat', '/content/hetvae/data/CAT/MLS/MLS171224:102512+075149_20.76.dat', '/content/hetvae/data/CAT/MLS/MLS171226:093252+194427_20.98.dat', '/content/hetvae/data/CAT/MLS/MLS170321:121226+200441_20.23.dat', '/content/hetvae/data/CAT/MLS/MLS170330:115039+304441_19.91.dat', '/content/hetvae/data/CAT/MLS/MLS171015:035044+110649_20.43.dat', '/content/hetvae/data/CAT/MLS/MLS171017:212718-053646_21.15.dat', '/content/hetvae/data/CAT/MLS/MLS161204:111630+041506_19.69.dat', '/content/hetvae/data/CAT/MLS/MLS160910:235803+034234_20.24.dat', '/content/hetvae/data/CAT/MLS/MLS160708:013026+121836_20.01.dat', '/content/hetvae/data/CAT/MLS/MLS180516:115459+000924_20.75.dat', '/content/hetvae/data/CAT/MLS/MLS171028:015127+295220_20.16.dat', '/content/hetvae/data/CAT/MLS/MLS170306:141850+180622_20.3.dat', '/content/hetvae/data/CAT/MLS/MLS170304:131810+303013_20.62.dat', '/content/hetvae/data/CAT/MLS/MLS160605:132712+123251_19.42.dat', '/content/hetvae/data/CAT/MLS/MLS160708:014215+115422_20.07.dat', '/content/hetvae/data/CAT/MLS/MLS160702:153017+104945_20.43.dat', '/content/hetvae/data/CAT/MLS/MLS160606:102501+161046_21.06.dat', '/content/hetvae/data/CAT/MLS/MLS170216:114950+422348_20.0.dat', '/content/hetvae/data/CAT/MLS/MLS170505:161947+323430_20.39.dat', '/content/hetvae/data/CAT/MLS/MLS161021:170104+264931_18.53.dat', '/content/hetvae/data/CAT/MLS/MLS171119:232033-024141_21.59.dat', '/content/hetvae/data/CAT/MLS/MLS171117:233026+043852_21.18.dat', '/content/hetvae/data/CAT/MLS/MLS160705:164027+242937_20.55.dat', '/content/hetvae/data/CAT/MLS/MLS180409:120252+274135_20.74.dat', '/content/hetvae/data/CAT/MLS/MLS160925:231242-025850_20.84.dat', '/content/hetvae/data/CAT/MLS/MLS170322:114822+314347_20.66.dat', '/content/hetvae/data/CAT/MLS/MLS180114:021716+142025_19.92.dat', '/content/hetvae/data/CAT/MLS/MLS190124:121416+535511_18.24.dat', '/content/hetvae/data/CAT/MLS/MLS160607:122532+044420_19.79.dat', '/content/hetvae/data/CAT/MLS/MLS170304:134104+391811_20.46.dat', '/content/hetvae/data/CAT/MLS/MLS180607:150931+284929_20.31.dat', '/content/hetvae/data/CAT/MLS/MLS171026:010024-103655_20.35.dat', '/content/hetvae/data/CAT/MLS/MLS170224:102734+410207_20.19.dat', '/content/hetvae/data/CAT/MLS/MLS170628:125059+463723_20.39.dat'] \n",
            " (2382,) (100, 551, 3) (100, 551) (100, 551)\n"
          ]
        }
      ]
    },
    {
      "cell_type": "code",
      "execution_count": 3,
      "id": "b3120f1f",
      "metadata": {
        "colab": {
          "base_uri": "https://localhost:8080/",
          "height": 608
        },
        "id": "b3120f1f",
        "outputId": "4805c3f5-b4ba-4698-c8d5-9aa0556abb5d"
      },
      "outputs": [
        {
          "output_type": "stream",
          "name": "stdout",
          "text": [
            "dims of /content/hetvae/data/EDELSON/NGC4593_W1.dat:\t(150, 3)\n",
            "dims of /content/hetvae/data/EDELSON/NGC5548_W1.dat:\t(260, 3)\n",
            "dims of /content/hetvae/data/EDELSON/NGC5548_HX.dat:\t(267, 3)\n",
            "dims of /content/hetvae/data/EDELSON/NGC5548_SX.dat:\t(267, 3)\n",
            "indexes of outliers to be pruned, if any: []\n",
            "indexes of outliers to be pruned, if any: []\n",
            "indexes of outliers to be pruned, if any: [83 96]\n",
            "indexes of outliers to be pruned, if any: [ 87  96 102]\n",
            "generating 1 new sample of each example in the dataset & appending them \n",
            " old dataset length: 4\n",
            "new dataset length: 8\n",
            "created union_x attribute of length 1878\n",
            "zero fill all the examples up to the length of longest one given, dataset is also now a numpy array w shape: (8, 265, 3), instead of a list of numpy arrays\n",
            "created subsampled_mask & recon_mask instance attributes\n",
            "['/content/hetvae/data/EDELSON/NGC4593_W1.dat', '/content/hetvae/data/EDELSON/NGC5548_W1.dat', '/content/hetvae/data/EDELSON/NGC5548_HX.dat', '/content/hetvae/data/EDELSON/NGC5548_SX.dat'] \n",
            " (1878,) (8, 265, 3) (8, 265) (8, 265)\n"
          ]
        },
        {
          "output_type": "stream",
          "name": "stderr",
          "text": [
            "/content/hetvae/src/dataset.py:154: RuntimeWarning: divide by zero encountered in true_divide\n",
            "  self.dataset[:,:,2] = 1. / self.dataset[:,:,2]\n"
          ]
        },
        {
          "output_type": "execute_result",
          "data": {
            "text/plain": [
              "<matplotlib.collections.PathCollection at 0x7f9d829bcc50>"
            ]
          },
          "metadata": {},
          "execution_count": 3
        },
        {
          "output_type": "display_data",
          "data": {
            "text/plain": [
              "<Figure size 432x288 with 1 Axes>"
            ],
            "image/png": "[encoded data removed]"
          },
          "metadata": {
            "needs_background": "light"
          }
        }
      ],
      "source": [
        "#--------------------------------------------------------------------------------------------------------\n",
        "# PREPROCESSING, from Edelson data \n",
        "#--------------------------------------------------------------------------------------------------------\n",
        "lc_files = glob('/content/hetvae/data/EDELSON/*')[:4]\n",
        "\n",
        "# hypers: \n",
        "Edelson = DataSet().add_files(lc_files).files_to_numpy().handle_dups().prune_outliers().resample_dataset(num_samples=1).normalize().reorder() \\\n",
        "        .set_union_x().zero_fill().error_to_sample_weight().make_masks(frac=0.5)\n",
        "\n",
        "print(\n",
        "    Edelson.files, '\\n',\n",
        "    Edelson.union_x.shape,\n",
        "    Edelson.dataset.shape,\n",
        "    Edelson.subsampled_mask.shape,\n",
        "    Edelson.recon_mask.shape\n",
        "  )\n",
        "\n",
        "plt.scatter(Edelson.dataset[5,:-130,0], Edelson.dataset[5,:-130,1])"
      ]
    },
    {
      "cell_type": "code",
      "execution_count": 4,
      "id": "b01ad704",
      "metadata": {
        "id": "b01ad704"
      },
      "outputs": [],
      "source": [
        "# num heads?\n",
        "args = Namespace(batch_size=8, bound_variance=True, const_var=False, dataset='toy', dropout=0.0, \n",
        "                 elbo_weight=1.0, embed_time=128, enc_num_heads=1, intensity=True, k_iwae=1, kl_annealing=False, \n",
        "                 kl_zero=False, latent_dim=64, lr=0.001, mixing='concat', mse_weight=5.0, n=256, net='hetvae', \n",
        "                 niters=1000, norm=True, normalize_input='znorm', num_ref_points=16, rec_hidden=16, recon_loss=False, \n",
        "                 sample_tp=0.5, save=True, seed=0, shuffle=True, std=0.1, var_per_dim=False, width=512)\n",
        "\n"
      ]
    },
    {
      "cell_type": "code",
      "execution_count": 6,
      "id": "d4088220",
      "metadata": {
        "id": "d4088220"
      },
      "outputs": [],
      "source": [
        "DIM = 1\n",
        "# definitly want a decaying error rate...\n",
        "#scheduler = torch.optim.lr_scheduler.MultiStepLR(optimizer, milestones=[], gamma=0.1)\n",
        "seed = args.seed\n",
        "torch.manual_seed(seed)\n",
        "np.random.seed(seed)\n",
        "torch.cuda.manual_seed(seed)\n",
        "device = torch.device('cuda' if torch.cuda.is_available() else 'cpu')"
      ]
    },
    {
      "cell_type": "code",
      "execution_count": 7,
      "id": "d0aebfb9",
      "metadata": {
        "colab": {
          "base_uri": "https://localhost:8080/"
        },
        "id": "d0aebfb9",
        "outputId": "908530c5-aad5-4fb8-a3e7-1e1f7dec72da"
      },
      "outputs": [
        {
          "output_type": "stream",
          "name": "stdout",
          "text": [
            "(8, 265, 5)\n"
          ]
        }
      ],
      "source": [
        "LightCurves = np.concatenate((Edelson.dataset, Edelson.subsampled_mask[:,:,np.newaxis], Edelson.recon_mask[:,:,np.newaxis]), axis=-1) # format the masks for the model \n",
        "print(LightCurves.shape)\n"
      ]
    },
    {
      "cell_type": "code",
      "execution_count": 8,
      "id": "1f4fa40b",
      "metadata": {
        "id": "1f4fa40b"
      },
      "outputs": [],
      "source": [
        "training, valid = np.split(LightCurves, [int(np.floor(1*len(LightCurves)))])# shuffle?\n",
        "train_loader = torch.utils.data.DataLoader(training, batch_size=args.batch_size)\n",
        "valid_loader = torch.utils.data.DataLoader(valid, batch_size=args.batch_size)\n",
        "       "
      ]
    },
    {
      "cell_type": "code",
      "execution_count": 9,
      "id": "b27bb411",
      "metadata": {
        "id": "b27bb411"
      },
      "outputs": [],
      "source": [
        "net = models.load_network(args, DIM, torch.Tensor(Edelson.union_x)) # , device=\"cuda\"\n",
        "params = list(net.parameters())\n",
        "optimizer = optim.Adam(params, lr=.00001)"
      ]
    },
    {
      "cell_type": "code",
      "execution_count": 10,
      "id": "552f9dde",
      "metadata": {
        "id": "552f9dde"
      },
      "outputs": [],
      "source": [
        "def train(net, optimizer,epoch, train_loader, args, device=\"cuda\"):\n",
        "      \n",
        "      train_loss = 0.\n",
        "      train_n = 0.\n",
        "      avg_loglik, avg_kl, mse, mae = 0., 0., 0., 0.\n",
        "      for i, train_batch in enumerate(train_loader):\n",
        "          batch_len = train_batch.shape[0] \n",
        "          #train_batch[:,:,2] = torch.ones((train_batch[:,:,3].shape))\n",
        "          train_batch = train_batch.to(device)\n",
        "          x = train_batch[:,:,0]\n",
        "          y = train_batch[:,:,1:2]\n",
        "          \n",
        "          subsampled_mask = train_batch[:,:,3:4]\n",
        "          recon_mask = train_batch[:,:,4:]\n",
        "          sample_weight = train_batch[:,:,2:3]\n",
        "          # weights for loss in analogy to standard weighted least squares error \n",
        "  \n",
        "          seqlen = train_batch.size(1) \n",
        "          # subsampled flux values and their corresponding masks....\n",
        "          context_y = torch.cat((\n",
        "              y * subsampled_mask, subsampled_mask\n",
        "          ), -1) \n",
        "          recon_context_y = torch.cat((            # flux values with only recon_mask values showing\n",
        "                  y * recon_mask, recon_mask\n",
        "              ), -1)\n",
        "          \n",
        "\n",
        "\n",
        "    # #   def compute_unsupervised_loss(self, context_x, context_y, target_x, target_y, num_samples=1, beta=1):\n",
        "          loss_info = net.compute_unsupervised_loss(\n",
        "              x, # context_x, times\n",
        "              context_y,             # context_y\n",
        "              x, # target_x, same times? \n",
        "              recon_context_y,\n",
        "              num_samples=args.k_iwae, # 1? \n",
        "              beta=1,\n",
        "              # optional, will be zero if not set\n",
        "              #sample_weight = 1.sample_weight,\n",
        "\n",
        "          )\n",
        "          optimizer.zero_grad()\n",
        "          loss_info.composite_loss.backward()\n",
        "          optimizer.step()\n",
        "          #scheduler.step()\n",
        "          train_loss += loss_info.composite_loss.item() * batch_len\n",
        "          avg_loglik += loss_info.loglik * batch_len\n",
        "          avg_kl += loss_info.kl * batch_len\n",
        "          mse += loss_info.mse * batch_len\n",
        "          mae += loss_info.mae * batch_len\n",
        "          train_n += batch_len\n",
        "      \n",
        "      \n",
        "      if epoch % 100 == 0:\n",
        "          print(\n",
        "              'Iter: {}, train loss: {:.4f}, avg nll: {:.4f}, avg kl: {:.4f}, '\n",
        "              'mse: {:.6f}, mae: {:.6f}'.format(\n",
        "                  epoch,\n",
        "                  train_loss / train_n,\n",
        "                  -avg_loglik / train_n,\n",
        "                  avg_kl / train_n,\n",
        "                  mse / train_n,\n",
        "                  mae / train_n\n",
        "              )\n",
        "          )\n",
        "      "
      ]
    },
    {
      "cell_type": "code",
      "source": [
        "for g in optimizer.param_groups:\n",
        "    print(g['lr'])\n",
        "    g['lr'] = 0.001"
      ],
      "metadata": {
        "id": "JQCwNCcF8fcN"
      },
      "id": "JQCwNCcF8fcN",
      "execution_count": null,
      "outputs": []
    },
    {
      "cell_type": "code",
      "execution_count": 11,
      "id": "2a537d69",
      "metadata": {
        "colab": {
          "base_uri": "https://localhost:8080/"
        },
        "id": "2a537d69",
        "outputId": "852c4abf-f3b6-4e83-a8e6-c64b4ec7eea1"
      },
      "outputs": [
        {
          "output_type": "stream",
          "name": "stdout",
          "text": [
            "Iter: 100, train loss: 6.1211, avg nll: 1.3410, avg kl: 0.3790, mse: 0.880224, mae: 0.802383\n"
          ]
        }
      ],
      "source": [
        "for epoch in range(1, 101):#args.niters + 1):\n",
        "    train(net, optimizer, epoch, train_loader, args)"
      ]
    },
    {
      "cell_type": "code",
      "source": [
        "my_utils.evaluate(net, train_loader, device=device)"
      ],
      "metadata": {
        "id": "_FU7cwb7f-Uq",
        "outputId": "3951d502-7177-4cdd-c8b2-f63de6b6941a",
        "colab": {
          "base_uri": "https://localhost:8080/"
        }
      },
      "id": "_FU7cwb7f-Uq",
      "execution_count": 14,
      "outputs": [
        {
          "output_type": "stream",
          "name": "stdout",
          "text": [
            "nll: 1.3968, mse: 0.8708, mae: 0.7930, mean_mse: 0.8708, mean_mae: 0.7930\n"
          ]
        },
        {
          "output_type": "execute_result",
          "data": {
            "text/plain": [
              "1.3967781066894531"
            ]
          },
          "metadata": {},
          "execution_count": 14
        }
      ]
    },
    {
      "cell_type": "code",
      "source": [
        "my_utils.viz_per_example(Edelson.dataset[5], net, device=device, k_iwae=20, fracs=[.5,0.8,.9])"
      ],
      "metadata": {
        "id": "R5DMflXJ8Qxb",
        "outputId": "b6469bb5-1993-4439-cd9b-fd6a037960b1",
        "colab": {
          "base_uri": "https://localhost:8080/",
          "height": 163
        }
      },
      "id": "R5DMflXJ8Qxb",
      "execution_count": 16,
      "outputs": [
        {
          "output_type": "stream",
          "name": "stdout",
          "text": [
            "pred_mean: (20, 3, 265, 1) pred_std: (20, 3, 265, 1)= targets: (3, 265, 1) masks: (3, 265, 1) tps: (3, 265) inputs: (3, 265, 1)\n",
            "(200, 3, 265, 1)\n"
          ]
        },
        {
          "output_type": "display_data",
          "data": {
            "text/plain": [
              "<Figure size 900x108 with 3 Axes>"
            ],
            "image/png": "[encoded data removed]"
          },
          "metadata": {
            "needs_background": "light"
          }
        }
      ]
    },
    {
      "cell_type": "code",
      "execution_count": null,
      "id": "4871ca3b",
      "metadata": {
        "id": "4871ca3b",
        "outputId": "2ee3163e-6881-4c81-cf82-a73a8ed0c778",
        "colab": {
          "base_uri": "https://localhost:8080/"
        }
      },
      "outputs": [
        {
          "output_type": "stream",
          "name": "stdout",
          "text": [
            "0.01\n"
          ]
        }
      ],
      "source": [
        ""
      ]
    },
    {
      "cell_type": "code",
      "source": [
        ""
      ],
      "metadata": {
        "id": "4xUCUzXdJTQ3"
      },
      "id": "4xUCUzXdJTQ3",
      "execution_count": null,
      "outputs": []
    }
  ],
  "metadata": {
    "kernelspec": {
      "display_name": "Python 3 (ipykernel)",
      "language": "python",
      "name": "python3"
    },
    "language_info": {
      "codemirror_mode": {
        "name": "ipython",
        "version": 3
      },
      "file_extension": ".py",
      "mimetype": "text/x-python",
      "name": "python",
      "nbconvert_exporter": "python",
      "pygments_lexer": "ipython3",
      "version": "3.9.2"
    },
    "colab": {
      "name": "light_curve_demo.ipynb",
      "provenance": []
    },
    "accelerator": "GPU"
  },
  "nbformat": 4,
  "nbformat_minor": 5
}