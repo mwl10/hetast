{
  "cells": [
    {
      "cell_type": "code",
      "execution_count": 60,
      "id": "5fe134d8",
      "metadata": {
        "colab": {
          "base_uri": "https://localhost:8080/"
        },
        "id": "5fe134d8",
        "outputId": "baa55697-faf7-4cfb-dcac-68bfaa380ea8"
      },
      "outputs": [
        {
          "output_type": "stream",
          "name": "stdout",
          "text": [
            "Cloning into 'hetvae'...\n",
            "remote: Enumerating objects: 1699, done.\u001b[K\n",
            "remote: Counting objects: 100% (1038/1038), done.\u001b[K\n",
            "remote: Compressing objects: 100% (1024/1024), done.\u001b[K\n",
            "remote: Total 1699 (delta 38), reused 1000 (delta 14), pack-reused 661\u001b[K\n",
            "Receiving objects: 100% (1699/1699), 26.50 MiB | 15.90 MiB/s, done.\n",
            "Resolving deltas: 100% (477/477), done.\n",
            "Branch 'optuna' set up to track remote branch 'optuna' from 'origin'.\n",
            "Switched to a new branch 'optuna'\n",
            "Looking in indexes: https://pypi.org/simple, https://us-python.pkg.dev/colab-wheels/public/simple/\n",
            "Requirement already satisfied: alembic==1.7.7 in /usr/local/lib/python3.7/dist-packages (from -r requirements.txt (line 1)) (1.7.7)\n",
            "Requirement already satisfied: attrs==21.4.0 in /usr/local/lib/python3.7/dist-packages (from -r requirements.txt (line 2)) (21.4.0)\n",
            "Requirement already satisfied: autopage==0.5.0 in /usr/local/lib/python3.7/dist-packages (from -r requirements.txt (line 3)) (0.5.0)\n",
            "Requirement already satisfied: backports.functools-lru-cache==1.6.4 in /usr/local/lib/python3.7/dist-packages (from -r requirements.txt (line 4)) (1.6.4)\n",
            "Requirement already satisfied: cliff==3.10.1 in /usr/local/lib/python3.7/dist-packages (from -r requirements.txt (line 5)) (3.10.1)\n",
            "Requirement already satisfied: cmaes==0.8.2 in /usr/local/lib/python3.7/dist-packages (from -r requirements.txt (line 6)) (0.8.2)\n",
            "Requirement already satisfied: cmd2==2.3.3 in /usr/local/lib/python3.7/dist-packages (from -r requirements.txt (line 7)) (2.3.3)\n",
            "Requirement already satisfied: colorama==0.4.4 in /usr/local/lib/python3.7/dist-packages (from -r requirements.txt (line 8)) (0.4.4)\n",
            "Requirement already satisfied: colorlog==6.6.0 in /usr/local/lib/python3.7/dist-packages (from -r requirements.txt (line 9)) (6.6.0)\n",
            "Requirement already satisfied: greenlet==1.1.2 in /usr/local/lib/python3.7/dist-packages (from -r requirements.txt (line 10)) (1.1.2)\n",
            "Requirement already satisfied: importlib-metadata==4.11.4 in /usr/local/lib/python3.7/dist-packages (from -r requirements.txt (line 11)) (4.11.4)\n",
            "Requirement already satisfied: importlib-resources==5.7.1 in /usr/local/lib/python3.7/dist-packages (from -r requirements.txt (line 12)) (5.7.1)\n",
            "Requirement already satisfied: Mako==1.2.0 in /usr/local/lib/python3.7/dist-packages (from -r requirements.txt (line 13)) (1.2.0)\n",
            "Requirement already satisfied: MarkupSafe==2.1.1 in /usr/local/lib/python3.7/dist-packages (from -r requirements.txt (line 14)) (2.1.1)\n",
            "Requirement already satisfied: numpy==1.21.0 in /usr/local/lib/python3.7/dist-packages (from -r requirements.txt (line 15)) (1.21.0)\n",
            "Requirement already satisfied: optuna==2.10.0 in /usr/local/lib/python3.7/dist-packages (from -r requirements.txt (line 16)) (2.10.0)\n",
            "Requirement already satisfied: packaging==21.3 in /usr/local/lib/python3.7/dist-packages (from -r requirements.txt (line 17)) (21.3)\n",
            "Requirement already satisfied: pbr==5.9.0 in /usr/local/lib/python3.7/dist-packages (from -r requirements.txt (line 18)) (5.9.0)\n",
            "Requirement already satisfied: pip==22.1.1 in /usr/local/lib/python3.7/dist-packages (from -r requirements.txt (line 19)) (22.1.1)\n",
            "Requirement already satisfied: prettytable==3.3.0 in /usr/local/lib/python3.7/dist-packages (from -r requirements.txt (line 20)) (3.3.0)\n",
            "Requirement already satisfied: pyparsing==3.0.9 in /usr/local/lib/python3.7/dist-packages (from -r requirements.txt (line 21)) (3.0.9)\n",
            "Requirement already satisfied: pyperclip==1.8.2 in /usr/local/lib/python3.7/dist-packages (from -r requirements.txt (line 22)) (1.8.2)\n",
            "Requirement already satisfied: PyYAML==6.0 in /usr/local/lib/python3.7/dist-packages (from -r requirements.txt (line 23)) (6.0)\n",
            "Requirement already satisfied: scipy==1.7.3 in /usr/local/lib/python3.7/dist-packages (from -r requirements.txt (line 24)) (1.7.3)\n",
            "Requirement already satisfied: setuptools==62.3.2 in /usr/local/lib/python3.7/dist-packages (from -r requirements.txt (line 25)) (62.3.2)\n",
            "Requirement already satisfied: SQLAlchemy==1.4.36 in /usr/local/lib/python3.7/dist-packages (from -r requirements.txt (line 26)) (1.4.36)\n",
            "Requirement already satisfied: stevedore==3.5.0 in /usr/local/lib/python3.7/dist-packages (from -r requirements.txt (line 27)) (3.5.0)\n",
            "Requirement already satisfied: tqdm==4.64.0 in /usr/local/lib/python3.7/dist-packages (from -r requirements.txt (line 28)) (4.64.0)\n",
            "Requirement already satisfied: wcwidth==0.2.5 in /usr/local/lib/python3.7/dist-packages (from -r requirements.txt (line 29)) (0.2.5)\n",
            "Requirement already satisfied: wheel==0.37.1 in /usr/local/lib/python3.7/dist-packages (from -r requirements.txt (line 30)) (0.37.1)\n",
            "Requirement already satisfied: zipp==3.8.0 in /usr/local/lib/python3.7/dist-packages (from -r requirements.txt (line 31)) (3.8.0)\n",
            "Requirement already satisfied: typing-extensions in /usr/local/lib/python3.7/dist-packages (from cmd2==2.3.3->-r requirements.txt (line 7)) (4.2.0)\n",
            "\u001b[33mWARNING: Running pip as the 'root' user can result in broken permissions and conflicting behaviour with the system package manager. It is recommended to use a virtual environment instead: https://pip.pypa.io/warnings/venv\u001b[0m\u001b[33m\n",
            "\u001b[0m"
          ]
        }
      ],
      "source": [
        "import os\n",
        "import shutil\n",
        "os.chdir('/content')\n",
        "if os.path.isdir('./hetvae'):\n",
        "  shutil.rmtree('./hetvae/')\n",
        "! git clone https://github.com/mwl10/hetvae\n",
        "os.chdir('/content/hetvae')\n",
        "! git checkout optuna\n",
        "! pip install -r requirements.txt\n",
        "os.chdir('/content/hetvae/src')\n",
        "import numpy as np\n",
        "import torch\n",
        "import optuna\n",
        "from optuna.trial import TrialState\n",
        "import torch.optim as optim\n",
        "import models\n",
        "from argparse import Namespace\n",
        "import torch.optim as optim\n",
        "import utils\n",
        "import my_utils\n",
        "import pandas as pd\n",
        "import importlib\n",
        "import vae_models\n",
        "importlib.reload(vae_models)\n",
        "importlib.reload(models)\n",
        "importlib.reload(utils)\n",
        "importlib.reload(my_utils)\n",
        "from glob import glob\n",
        "import matplotlib.pyplot as plt\n",
        "import sys\n",
        "del sys.modules['dataset']\n",
        "from dataset import DataSet\n",
        "%matplotlib inline"
      ]
    },
    {
      "cell_type": "code",
      "execution_count": 71,
      "id": "9f4e5bb7",
      "metadata": {
        "id": "9f4e5bb7",
        "outputId": "926424b1-3759-4a2c-c908-373608d2c585",
        "colab": {
          "base_uri": "https://localhost:8080/"
        }
      },
      "outputs": [
        {
          "output_type": "stream",
          "name": "stdout",
          "text": [
            "generating 1 new sample of each example in the dataset & appending them \n",
            " old dataset length: 5\n",
            "new dataset length: 10\n",
            "created union_x attribute of length 1445\n",
            "zero fill all the examples up to the length of longest one given, dataset is also now a numpy array w shape: (10, 619, 3), instead of a list of numpy arrays\n",
            "created subsampled_mask & recon_mask instance attributes\n",
            "(1445,) (10, 619, 3) (10, 619) (10, 619)\n"
          ]
        }
      ],
      "source": [
        "#------------------------------\n",
        "# AGN Preprocessing, we have a DF w/ OBJECT , FILTER, MJD, FLUX, ERROR\n",
        "#-------------------------------\n",
        "agn_file = '/content/hetvae/data/AGN_1H2106-099/1H2106-099_latest_lcs_pyroa.csv'\n",
        "agn_df = pd.read_csv(agn_file)\n",
        "# handle formatting for new AGN\n",
        "lcs = []\n",
        "for lc_df in agn_df.groupby('Filter'):\n",
        "    lc = lc_df[1][['MJD', 'Flux', 'Error']].to_numpy()\n",
        "    lcs.append(lc)\n",
        "\n",
        "AGN_1H2106 = DataSet()\n",
        "AGN_1H2106.dataset = lcs # skip add files part\n",
        "AGN_1H2106 = AGN_1H2106.handle_dups().prune_outliers().resample_dataset(num_samples=1).normalize(normalize_y_by='individual') \\\n",
        "  .set_union_x().zero_fill().make_masks(frac=0.5)\n",
        "\n",
        "print(\n",
        "    AGN_1H2106.union_x.shape,\n",
        "    AGN_1H2106.dataset.shape,\n",
        "    AGN_1H2106.subsampled_mask.shape,\n",
        "    AGN_1H2106.recon_mask.shape\n",
        "  )\n"
      ]
    },
    {
      "cell_type": "code",
      "source": [
        "#--------------------------------------------------------------------------------------------------------\n",
        "# PREPROCESSING, from Catalina data\n",
        "#--------------------------------------------------------------------------------------------------------\n",
        "\n",
        "\n",
        "lc_files = glob('/content/hetvae/data/CAT/*/*')[:50]\n",
        "\n",
        "Catalina = DataSet().add_files(lc_files).files_to_numpy().handle_dups().prune_outliers().resample_dataset(num_samples=1).normalize(normalize_y_by='individual') \\\n",
        "        .set_union_x().zero_fill().make_masks(frac=0.5)\n",
        "\n",
        "print(\n",
        "    Catalina.files, '\\n',\n",
        "    Catalina.union_x.shape,\n",
        "    Catalina.dataset.shape,\n",
        "    Catalina.subsampled_mask.shape,\n",
        "    Catalina.recon_mask.shape\n",
        "  )\n"
      ],
      "metadata": {
        "id": "WSd6dRhCvv5M",
        "outputId": "4401c36e-37ab-482b-ecf3-7d6762113373",
        "colab": {
          "base_uri": "https://localhost:8080/"
        }
      },
      "id": "WSd6dRhCvv5M",
      "execution_count": 69,
      "outputs": [
        {
          "output_type": "stream",
          "name": "stdout",
          "text": [
            "dims of /content/hetvae/data/CAT/MLS/MLS170505:161108+093317_20.68.dat:\t(65, 3)\n",
            "dims of /content/hetvae/data/CAT/MLS/MLS181204:000100+153414_21.28.dat:\t(58, 3)\n",
            "dims of /content/hetvae/data/CAT/MLS/MLS170129:014901+113150_19.66.dat:\t(245, 3)\n",
            "dims of /content/hetvae/data/CAT/MLS/MLS180707:141230+251414_19.66.dat:\t(129, 3)\n",
            "dims of /content/hetvae/data/CAT/MLS/MLS161006:232451+121534_20.6.dat:\t(43, 3)\n",
            "dims of /content/hetvae/data/CAT/MLS/MLS170216:094003+423757_19.77.dat:\t(172, 3)\n",
            "dims of /content/hetvae/data/CAT/MLS/MLS170330:112145+460543_20.67.dat:\t(104, 3)\n",
            "dims of /content/hetvae/data/CAT/MLS/MLS170518:152845+302653_21.47.dat:\t(67, 3)\n",
            "dims of /content/hetvae/data/CAT/MLS/MLS160604:123136+285304_20.51.dat:\t(68, 3)\n",
            "dims of /content/hetvae/data/CAT/MLS/MLS160830:224137+114348_20.4.dat:\t(29, 3)\n",
            "dims of /content/hetvae/data/CAT/MLS/MLS180516:105735-002556_20.38.dat:\t(93, 3)\n",
            "dims of /content/hetvae/data/CAT/MLS/MLS161130:095602+191724_19.47.dat:\t(583, 3)\n",
            "dims of /content/hetvae/data/CAT/MLS/MLS171010:163915+482117_20.66.dat:\t(127, 3)\n",
            "dims of /content/hetvae/data/CAT/MLS/MLS161009:004356+114208_20.53.dat:\t(34, 3)\n",
            "dims of /content/hetvae/data/CAT/MLS/MLS160708:014517+123810_20.71.dat:\t(138, 3)\n",
            "dims of /content/hetvae/data/CAT/MLS/MLS161205:110756+181558_19.92.dat:\t(202, 3)\n",
            "dims of /content/hetvae/data/CAT/MLS/MLS170420:123146+245053_20.9.dat:\t(98, 3)\n",
            "dims of /content/hetvae/data/CAT/MLS/MLS190104:122646+343948_20.45.dat:\t(29, 3)\n",
            "dims of /content/hetvae/data/CAT/MLS/MLS170201:112626+020340_20.03.dat:\t(334, 3)\n",
            "dims of /content/hetvae/data/CAT/MLS/MLS170330:103830+413348_20.39.dat:\t(21, 3)\n",
            "dims of /content/hetvae/data/CAT/MLS/MLS180322:102824+091658_20.62.dat:\t(424, 3)\n",
            "dims of /content/hetvae/data/CAT/MLS/MLS190104:071337+341232_20.74.dat:\t(48, 3)\n",
            "dims of /content/hetvae/data/CAT/MLS/MLS180418:134656+420235_20.39.dat:\t(112, 3)\n",
            "dims of /content/hetvae/data/CAT/MLS/MLS170701:111104+352346_19.75.dat:\t(59, 3)\n",
            "dims of /content/hetvae/data/CAT/MLS/MLS180421:143703+014527_19.37.dat:\t(327, 3)\n",
            "dims of /content/hetvae/data/CAT/MLS/MLS171224:102512+075149_20.76.dat:\t(231, 3)\n",
            "dims of /content/hetvae/data/CAT/MLS/MLS171022:233701+183019_20.22.dat:\t(69, 3)\n",
            "dims of /content/hetvae/data/CAT/MLS/MLS160706:151106+310705_20.95.dat:\t(74, 3)\n",
            "dims of /content/hetvae/data/CAT/MLS/MLS161019:012353-045558_18.54.dat:\t(283, 3)\n",
            "dims of /content/hetvae/data/CAT/MLS/MLS180519:114229+534813_20.65.dat:\t(88, 3)\n",
            "dims of /content/hetvae/data/CAT/MLS/MLS180409:120252+274135_20.74.dat:\t(13, 3)\n",
            "dims of /content/hetvae/data/CAT/MLS/MLS161118:112303+163928_19.82.dat:\t(184, 3)\n",
            "dims of /content/hetvae/data/CAT/MLS/MLS171025:233414-054833_20.39.dat:\t(137, 3)\n",
            "dims of /content/hetvae/data/CAT/MLS/MLS170222:122609+113430_20.18.dat:\t(200, 3)\n",
            "dims of /content/hetvae/data/CAT/MLS/MLS160614:215809+041426_19.76.dat:\t(43, 3)\n",
            "dims of /content/hetvae/data/CAT/MLS/MLS170619:144122+464000_20.15.dat:\t(135, 3)\n",
            "dims of /content/hetvae/data/CAT/MLS/MLS170628:125059+463723_20.39.dat:\t(124, 3)\n",
            "dims of /content/hetvae/data/CAT/MLS/MLS171116:021705+114954_19.5.dat:\t(235, 3)\n",
            "dims of /content/hetvae/data/CAT/MLS/MLS170125:102710+135428_19.73.dat:\t(282, 3)\n",
            "dims of /content/hetvae/data/CAT/MLS/MLS160606:102501+161046_21.06.dat:\t(45, 3)\n",
            "dims of /content/hetvae/data/CAT/MLS/MLS171013:025614+230758_20.38.dat:\t(102, 3)\n",
            "dims of /content/hetvae/data/CAT/MLS/MLS170702:130923+324920_19.4.dat:\t(280, 3)\n",
            "dims of /content/hetvae/data/CAT/MLS/MLS171117:024437+020214_19.9.dat:\t(78, 3)\n",
            "dims of /content/hetvae/data/CAT/MLS/MLS170224:102734+410207_20.19.dat:\t(91, 3)\n",
            "dims of /content/hetvae/data/CAT/MLS/MLS170420:123244+235651_20.38.dat:\t(94, 3)\n",
            "dims of /content/hetvae/data/CAT/MLS/MLS171017:231428-061426_20.34.dat:\t(124, 3)\n",
            "dims of /content/hetvae/data/CAT/MLS/MLS161224:120055+035317_20.35.dat:\t(177, 3)\n",
            "dims of /content/hetvae/data/CAT/MLS/MLS170309:122751+371654_20.06.dat:\t(159, 3)\n",
            "dims of /content/hetvae/data/CAT/MLS/MLS171117:002803+055335_20.96.dat:\t(126, 3)\n",
            "dims of /content/hetvae/data/CAT/MLS/MLS170319:124942+053847_20.95.dat:\t(99, 3)\n",
            "generating 1 new sample of each example in the dataset & appending them \n",
            " old dataset length: 50\n",
            "new dataset length: 100\n",
            "created union_x attribute of length 2164\n",
            "zero fill all the examples up to the length of longest one given, dataset is also now a numpy array w shape: (100, 541, 3), instead of a list of numpy arrays\n",
            "created subsampled_mask & recon_mask instance attributes\n",
            "['/content/hetvae/data/CAT/MLS/MLS170505:161108+093317_20.68.dat', '/content/hetvae/data/CAT/MLS/MLS181204:000100+153414_21.28.dat', '/content/hetvae/data/CAT/MLS/MLS170129:014901+113150_19.66.dat', '/content/hetvae/data/CAT/MLS/MLS180707:141230+251414_19.66.dat', '/content/hetvae/data/CAT/MLS/MLS161006:232451+121534_20.6.dat', '/content/hetvae/data/CAT/MLS/MLS170216:094003+423757_19.77.dat', '/content/hetvae/data/CAT/MLS/MLS170330:112145+460543_20.67.dat', '/content/hetvae/data/CAT/MLS/MLS170518:152845+302653_21.47.dat', '/content/hetvae/data/CAT/MLS/MLS160604:123136+285304_20.51.dat', '/content/hetvae/data/CAT/MLS/MLS160830:224137+114348_20.4.dat', '/content/hetvae/data/CAT/MLS/MLS180516:105735-002556_20.38.dat', '/content/hetvae/data/CAT/MLS/MLS161130:095602+191724_19.47.dat', '/content/hetvae/data/CAT/MLS/MLS171010:163915+482117_20.66.dat', '/content/hetvae/data/CAT/MLS/MLS161009:004356+114208_20.53.dat', '/content/hetvae/data/CAT/MLS/MLS160708:014517+123810_20.71.dat', '/content/hetvae/data/CAT/MLS/MLS161205:110756+181558_19.92.dat', '/content/hetvae/data/CAT/MLS/MLS170420:123146+245053_20.9.dat', '/content/hetvae/data/CAT/MLS/MLS190104:122646+343948_20.45.dat', '/content/hetvae/data/CAT/MLS/MLS170201:112626+020340_20.03.dat', '/content/hetvae/data/CAT/MLS/MLS170330:103830+413348_20.39.dat', '/content/hetvae/data/CAT/MLS/MLS180322:102824+091658_20.62.dat', '/content/hetvae/data/CAT/MLS/MLS190104:071337+341232_20.74.dat', '/content/hetvae/data/CAT/MLS/MLS180418:134656+420235_20.39.dat', '/content/hetvae/data/CAT/MLS/MLS170701:111104+352346_19.75.dat', '/content/hetvae/data/CAT/MLS/MLS180421:143703+014527_19.37.dat', '/content/hetvae/data/CAT/MLS/MLS171224:102512+075149_20.76.dat', '/content/hetvae/data/CAT/MLS/MLS171022:233701+183019_20.22.dat', '/content/hetvae/data/CAT/MLS/MLS160706:151106+310705_20.95.dat', '/content/hetvae/data/CAT/MLS/MLS161019:012353-045558_18.54.dat', '/content/hetvae/data/CAT/MLS/MLS180519:114229+534813_20.65.dat', '/content/hetvae/data/CAT/MLS/MLS180409:120252+274135_20.74.dat', '/content/hetvae/data/CAT/MLS/MLS161118:112303+163928_19.82.dat', '/content/hetvae/data/CAT/MLS/MLS171025:233414-054833_20.39.dat', '/content/hetvae/data/CAT/MLS/MLS170222:122609+113430_20.18.dat', '/content/hetvae/data/CAT/MLS/MLS160614:215809+041426_19.76.dat', '/content/hetvae/data/CAT/MLS/MLS170619:144122+464000_20.15.dat', '/content/hetvae/data/CAT/MLS/MLS170628:125059+463723_20.39.dat', '/content/hetvae/data/CAT/MLS/MLS171116:021705+114954_19.5.dat', '/content/hetvae/data/CAT/MLS/MLS170125:102710+135428_19.73.dat', '/content/hetvae/data/CAT/MLS/MLS160606:102501+161046_21.06.dat', '/content/hetvae/data/CAT/MLS/MLS171013:025614+230758_20.38.dat', '/content/hetvae/data/CAT/MLS/MLS170702:130923+324920_19.4.dat', '/content/hetvae/data/CAT/MLS/MLS171117:024437+020214_19.9.dat', '/content/hetvae/data/CAT/MLS/MLS170224:102734+410207_20.19.dat', '/content/hetvae/data/CAT/MLS/MLS170420:123244+235651_20.38.dat', '/content/hetvae/data/CAT/MLS/MLS171017:231428-061426_20.34.dat', '/content/hetvae/data/CAT/MLS/MLS161224:120055+035317_20.35.dat', '/content/hetvae/data/CAT/MLS/MLS170309:122751+371654_20.06.dat', '/content/hetvae/data/CAT/MLS/MLS171117:002803+055335_20.96.dat', '/content/hetvae/data/CAT/MLS/MLS170319:124942+053847_20.95.dat'] \n",
            " (2164,) (100, 541, 3) (100, 541) (100, 541)\n"
          ]
        }
      ]
    },
    {
      "cell_type": "code",
      "execution_count": 68,
      "id": "b3120f1f",
      "metadata": {
        "colab": {
          "base_uri": "https://localhost:8080/"
        },
        "id": "b3120f1f",
        "outputId": "93795bf4-6249-4f15-ec1e-b577cf9fd9da"
      },
      "outputs": [
        {
          "output_type": "stream",
          "name": "stdout",
          "text": [
            "dims of /content/hetvae/data/EDELSON/NGC4593_M2.dat:\t(148, 3)\n",
            "dims of /content/hetvae/data/EDELSON/NGC4593_W2.dat:\t(147, 3)\n",
            "dims of /content/hetvae/data/EDELSON/NGC4593_SX.dat:\t(190, 3)\n",
            "dims of /content/hetvae/data/EDELSON/NGC4593_HX.dat:\t(190, 3)\n",
            "generating 1 new sample of each example in the dataset & appending them \n",
            " old dataset length: 4\n",
            "new dataset length: 8\n",
            "created union_x attribute of length 459\n",
            "zero fill all the examples up to the length of longest one given, dataset is also now a numpy array w shape: (8, 190, 3), instead of a list of numpy arrays\n",
            "created subsampled_mask & recon_mask instance attributes\n",
            "['/content/hetvae/data/EDELSON/NGC4593_M2.dat', '/content/hetvae/data/EDELSON/NGC4593_W2.dat', '/content/hetvae/data/EDELSON/NGC4593_SX.dat', '/content/hetvae/data/EDELSON/NGC4593_HX.dat'] \n",
            " (459,) (8, 190, 3) (8, 190) (8, 190)\n"
          ]
        }
      ],
      "source": [
        "#--------------------------------------------------------------------------------------------------------\n",
        "# PREPROCESSING, from Edelson data \n",
        "#--------------------------------------------------------------------------------------------------------\n",
        "lc_files = glob('/content/hetvae/data/EDELSON/*')[:4]\n",
        "\n",
        "# hypers: \n",
        "Edelson = DataSet().add_files(lc_files).files_to_numpy().handle_dups().prune_outliers().resample_dataset(num_samples=1).normalize(normalize_y_by='individual') \\\n",
        "        .set_union_x().zero_fill().make_masks(frac=0.5)\n",
        "\n",
        "print(\n",
        "    Edelson.files, '\\n',\n",
        "    Edelson.union_x.shape,\n",
        "    Edelson.dataset.shape,\n",
        "    Edelson.subsampled_mask.shape,\n",
        "    Edelson.recon_mask.shape\n",
        "  )"
      ]
    },
    {
      "cell_type": "code",
      "source": [
        ""
      ],
      "metadata": {
        "id": "bnTQceWI5eER"
      },
      "id": "bnTQceWI5eER",
      "execution_count": null,
      "outputs": []
    },
    {
      "cell_type": "code",
      "execution_count": 62,
      "id": "b01ad704",
      "metadata": {
        "id": "b01ad704"
      },
      "outputs": [],
      "source": [
        "# num heads?\n",
        "args = Namespace(batch_size=8, bound_variance=True, const_var=False, dataset='toy', dropout=0.0, \n",
        "                 elbo_weight=1.0, embed_time=128, enc_num_heads=1, intensity=True, k_iwae=1, kl_annealing=False, \n",
        "                 kl_zero=False, latent_dim=64, lr=0.000001, mixing='concat', mse_weight=2.0, n=256, net='hetvae', \n",
        "                 niters=1000, norm=True, normalize_input='znorm', num_ref_points=16, rec_hidden=16, recon_loss=False, \n",
        "                 sample_tp=0.5, save=True, seed=0, shuffle=True, std=0.1, var_per_dim=False, width=512)\n",
        "\n"
      ]
    },
    {
      "cell_type": "code",
      "execution_count": 63,
      "id": "d4088220",
      "metadata": {
        "id": "d4088220"
      },
      "outputs": [],
      "source": [
        "DIM = 1\n",
        "# definitly want a decaying error rate...\n",
        "#scheduler = torch.optim.lr_scheduler.MultiStepLR(optimizer, milestones=[], gamma=0.1)\n",
        "seed = args.seed\n",
        "torch.manual_seed(seed)\n",
        "np.random.seed(seed)\n",
        "torch.cuda.manual_seed(seed)\n",
        "device = torch.device('cuda' if torch.cuda.is_available() else 'cpu')"
      ]
    },
    {
      "cell_type": "code",
      "execution_count": 64,
      "id": "d0aebfb9",
      "metadata": {
        "colab": {
          "base_uri": "https://localhost:8080/"
        },
        "id": "d0aebfb9",
        "outputId": "ce17fd83-5b2e-4aea-c485-a93378a6102e"
      },
      "outputs": [
        {
          "output_type": "stream",
          "name": "stdout",
          "text": [
            "(8, 190, 5)\n"
          ]
        }
      ],
      "source": [
        "LightCurves = np.concatenate((Edelson.dataset, Edelson.subsampled_mask[:,:,np.newaxis], Edelson.recon_mask[:,:,np.newaxis]), axis=-1) # format the masks for the model \n",
        "print(LightCurves.shape)\n"
      ]
    },
    {
      "cell_type": "code",
      "execution_count": 65,
      "id": "1f4fa40b",
      "metadata": {
        "id": "1f4fa40b"
      },
      "outputs": [],
      "source": [
        "training, valid = np.split(LightCurves, [int(np.floor(0.8*len(LightCurves)))])# shuffle?\n",
        "train_loader = torch.utils.data.DataLoader(training, batch_size=args.batch_size)\n",
        "valid_loader = torch.utils.data.DataLoader(valid, batch_size=args.batch_size)\n",
        "       "
      ]
    },
    {
      "cell_type": "code",
      "execution_count": null,
      "id": "b27bb411",
      "metadata": {
        "id": "b27bb411"
      },
      "outputs": [],
      "source": [
        "net = models.load_network(args, DIM, torch.Tensor(Edelson.union_x)) # , device=\"cuda\"\n",
        "params = list(net.parameters())\n",
        "optimizer = optim.Adam(params, lr=.001)"
      ]
    },
    {
      "cell_type": "code",
      "execution_count": null,
      "id": "552f9dde",
      "metadata": {
        "id": "552f9dde"
      },
      "outputs": [],
      "source": [
        "def train(net, optimizer,epoch, train_loader, args, device=\"cuda\"):\n",
        "      \n",
        "      train_loss = 0.\n",
        "      train_n = 0.\n",
        "      avg_loglik, avg_kl, mse, mae = 0., 0., 0., 0.\n",
        "      for i, train_batch in enumerate(train_loader):\n",
        "          batch_len = train_batch.shape[0] \n",
        "          train_batch = train_batch.to(device)\n",
        "          x = train_batch[:,:,0]\n",
        "          y = train_batch[:,:,1:2]\n",
        "          \n",
        "          subsampled_mask = train_batch[:,:,3:4]\n",
        "          recon_mask = train_batch[:,:,4:]\n",
        "          error_bars = train_batch[:,:,2:3]\n",
        "          seqlen = train_batch.size(1) \n",
        "          # subsampled flux values and their corresponding masks....\n",
        "          context_y = torch.cat((\n",
        "              y * subsampled_mask, subsampled_mask\n",
        "          ), -1) \n",
        "          recon_context_y = torch.cat((            # flux values with only recon_mask values showing\n",
        "                  y * recon_mask, recon_mask\n",
        "              ), -1)\n",
        "          \n",
        "          masked_error_bars = error_bars * subsampled_mask \n",
        "\n",
        "\n",
        "    # #   def compute_unsupervised_loss(self, context_x, context_y, target_x, target_y, num_samples=1, beta=1):\n",
        "          loss_info = net.compute_unsupervised_loss(\n",
        "              x, # context_x, times\n",
        "              context_y,             # context_y\n",
        "              x, # target_x, same times? \n",
        "              recon_context_y,\n",
        "              num_samples=args.k_iwae, # 1? \n",
        "              beta=1,\n",
        "              # optional, will be zero if not set\n",
        "              error_bars = 0.   # masked_error_bars\n",
        "\n",
        "          )\n",
        "          optimizer.zero_grad()\n",
        "          loss_info.composite_loss.backward()\n",
        "          optimizer.step()\n",
        "          #scheduler.step()\n",
        "          train_loss += loss_info.composite_loss.item() * batch_len\n",
        "          avg_loglik += loss_info.loglik * batch_len\n",
        "          avg_kl += loss_info.kl * batch_len\n",
        "          mse += loss_info.mse * batch_len\n",
        "          mae += loss_info.mae * batch_len\n",
        "          train_n += batch_len\n",
        "      \n",
        "      \n",
        "      if epoch % 100 == 0:\n",
        "          print(\n",
        "              'Iter: {}, train loss: {:.4f}, avg nll: {:.4f}, avg kl: {:.4f}, '\n",
        "              'mse: {:.6f}, mae: {:.6f}'.format(\n",
        "                  epoch,\n",
        "                  train_loss / train_n,\n",
        "                  -avg_loglik / train_n,\n",
        "                  avg_kl / train_n,\n",
        "                  mse / train_n,\n",
        "                  mae / train_n\n",
        "              )\n",
        "          )\n",
        "      "
      ]
    },
    {
      "cell_type": "code",
      "execution_count": null,
      "id": "2a537d69",
      "metadata": {
        "colab": {
          "base_uri": "https://localhost:8080/"
        },
        "id": "2a537d69",
        "outputId": "6e921f9c-850d-4135-8d4b-05f3db6c6d1b"
      },
      "outputs": [
        {
          "output_type": "stream",
          "name": "stdout",
          "text": [
            "Iter: 100, train loss: 3.6103, avg nll: 1.4553, avg kl: 0.0001, mse: 1.077409, mae: 0.872290\n"
          ]
        }
      ],
      "source": [
        "for epoch in range(1, 101):#args.niters + 1):\n",
        "    train(net, optimizer, epoch, train_loader, args)"
      ]
    },
    {
      "cell_type": "code",
      "source": [
        "evaluate(net, train_loader)"
      ],
      "metadata": {
        "colab": {
          "base_uri": "https://localhost:8080/"
        },
        "id": "_FU7cwb7f-Uq",
        "outputId": "a62e4c0f-a92c-4a55-f00d-749f077dec08"
      },
      "id": "_FU7cwb7f-Uq",
      "execution_count": null,
      "outputs": [
        {
          "output_type": "stream",
          "name": "stdout",
          "text": [
            "nll: 1.4576, mse: 1.0774, mae: 0.8725, mean_mse: 1.0774, mean_mae: 0.8725\n"
          ]
        },
        {
          "output_type": "execute_result",
          "data": {
            "text/plain": [
              "1.4576120376586914"
            ]
          },
          "metadata": {},
          "execution_count": 45
        }
      ]
    },
    {
      "cell_type": "code",
      "execution_count": null,
      "id": "4871ca3b",
      "metadata": {
        "id": "4871ca3b"
      },
      "outputs": [],
      "source": [
        "for g in optimizer.param_groups:\n",
        "    print(g['lr'])\n",
        "    g['lr'] = 0.001"
      ]
    },
    {
      "cell_type": "code",
      "execution_count": null,
      "id": "2efb2725",
      "metadata": {
        "id": "2efb2725"
      },
      "outputs": [],
      "source": [
        "def evaluate(net, train_loader, device=\"cuda\"):\n",
        "    train_loss = 0.\n",
        "    train_n = 0.\n",
        "    avg_loglik, mse, mae = 0,0,0\n",
        "    mean_mae, mean_mse = 0,0\n",
        "    with torch.no_grad():\n",
        "        for i, train_batch in enumerate(train_loader):\n",
        "            batch_len = train_batch.shape[0] \n",
        "            train_batch = train_batch.to(device)\n",
        "            x = train_batch[:,:,0]\n",
        "            y = train_batch[:,:,1:2]\n",
        "            subsampled_mask = train_batch[:,:,3:4]\n",
        "            recon_mask = train_batch[:,:,4:]\n",
        "            error_bars = train_batch[:,:,2:3]\n",
        "            seqlen = train_batch.size(1) \n",
        "            # subsampled flux values and their corresponding masks....\n",
        "            context_y = torch.cat((\n",
        "                y * subsampled_mask, subsampled_mask\n",
        "            ), -1) \n",
        "            recon_context_y = torch.cat((            # flux values with only recon_mask values showing\n",
        "                    y * recon_mask, recon_mask\n",
        "                ), -1)\n",
        "            \n",
        "            masked_error_bars = error_bars * subsampled_mask \n",
        "\n",
        "\n",
        "      # #   def compute_unsupervised_loss(self, context_x, context_y, target_x, target_y, num_samples=1, beta=1):\n",
        "            loss_info = net.compute_unsupervised_loss(\n",
        "                x, # context_x, times\n",
        "                context_y,             # context_y\n",
        "                x, # target_x, same times? \n",
        "                recon_context_y,\n",
        "                num_samples=1, #???\n",
        "                beta=1,\n",
        "                # optional, will be zero if not set\n",
        "                error_bars = 0.   # masked_error_bars\n",
        "\n",
        "            )\n",
        "            num_context_points = recon_mask.sum().item()\n",
        "            mse += loss_info.mse * num_context_points\n",
        "            mae += loss_info.mae * num_context_points\n",
        "            mean_mse += loss_info.mean_mse * num_context_points\n",
        "            mean_mae += loss_info.mean_mae * num_context_points\n",
        "            avg_loglik += loss_info.mogloglik * num_context_points\n",
        "            train_n += num_context_points\n",
        "    print(\n",
        "    'nll: {:.4f}, mse: {:.4f}, mae: {:.4f}, '\n",
        "    'mean_mse: {:.4f}, mean_mae: {:.4f}'.format(\n",
        "        - avg_loglik / train_n,\n",
        "        mse / train_n,\n",
        "        mae / train_n,\n",
        "        mean_mse / train_n,\n",
        "        mean_mae / train_n\n",
        "    ))\n",
        "      \n",
        "    \n",
        "    return float(- avg_loglik / train_n)"
      ]
    },
    {
      "cell_type": "code",
      "execution_count": null,
      "id": "a349ec84",
      "metadata": {
        "colab": {
          "base_uri": "https://localhost:8080/",
          "height": 163
        },
        "id": "a349ec84",
        "outputId": "232b2edf-e25c-45e4-b10e-5cb2be1e0566"
      },
      "outputs": [
        {
          "output_type": "stream",
          "name": "stdout",
          "text": [
            "pred_mean: (10, 3, 190, 1) pred_std: (10, 3, 190, 1)= targets: (3, 190, 1) masks: (3, 190, 1) tps: (3, 190) inputs: (3, 190, 1)\n",
            "(50, 3, 190, 1)\n"
          ]
        },
        {
          "output_type": "display_data",
          "data": {
            "text/plain": [
              "<Figure size 900x108 with 3 Axes>"
            ],
            "image/png": "[encoded data removed]"
          },
          "metadata": {
            "needs_background": "light"
          }
        }
      ],
      "source": [
        "# visualisation for one light curve w/ increasing number of points\n",
        "\n",
        "def viz_per_example(example, net, k_iwae=40, n_max=10, fracs=[0.2,0.2,0.5]): \n",
        "    pred_mean, pred_std = [], []\n",
        "    masks = []\n",
        "    targets = []\n",
        "    tp =[]\n",
        "    example = example[np.newaxis, :,:]\n",
        "\n",
        "    np.random.seed(0)\n",
        "    with torch.no_grad():\n",
        "        for frac in fracs: # \n",
        "            if torch.is_tensor(example):\n",
        "                example = example.cpu().numpy()\n",
        "\n",
        "            # make new masks relative to fraction of points we got to predict w/ \n",
        "            smask, rmask = my_utils.make_masks(example, frac=frac)\n",
        "            example = np.concatenate((example, smask[:,:,np.newaxis], rmask[:,:,np.newaxis]), axis=-1) # format the masks \n",
        "\n",
        "            # CUDA~\n",
        "            example = torch.tensor(example)\n",
        "            example = example.to(device)\n",
        "            \n",
        "            subsampled_mask = example[:,:,3:4]\n",
        "            seqlen = example.size(0)\n",
        "            # \n",
        "            context_y = torch.cat((example[:,:, 1:2] * subsampled_mask, subsampled_mask), -1)\n",
        "            # probabilities per batch?  \n",
        "            px, _ = net.get_reconstruction(example[:,:, 0], context_y, example[:,:, 0], num_samples=k_iwae)\n",
        "            pred_mean.append(px.mean.cpu().numpy())\n",
        "            # changing from logvar to std \n",
        "            pred_std.append(torch.exp(0.5 * px.logvar).cpu().numpy())\n",
        "\n",
        "            targets.append((example[:,:, 1:2]).cpu().numpy())\n",
        "            masks.append(subsampled_mask.cpu().numpy())\n",
        "            tp.append(example[:,:, 0].cpu().numpy())\n",
        "\n",
        "    pred_mean = np.concatenate(pred_mean, axis=1)\n",
        "    pred_std = np.concatenate(pred_std, axis=1)\n",
        "    targets = np.concatenate(targets, axis=0)\n",
        "    masks = np.concatenate(masks, axis=0)\n",
        "    tp = np.concatenate(tp, axis=0)\n",
        "    inputs = np.ma.masked_where(masks < 1., targets)\n",
        "    print(f'pred_mean: {pred_mean.shape}', f'pred_std: {pred_std.shape}=', f'targets: {targets.shape}', f'masks: {masks.shape}', f'tps: {tp.shape}', f'inputs: {inputs.shape}')\n",
        "    # we're are sampling from the intermediate representation w/ k_iwae\n",
        "    # then we sample from the means/stds from the intermediate representation w/ k_iwae\n",
        "    \n",
        "    preds = np.random.randn(k_iwae // 2, k_iwae, pred_mean.shape[1], pred_mean.shape[2], pred_mean.shape[3]) * pred_std + pred_mean\n",
        "    preds = preds.reshape(-1, pred_mean.shape[1], pred_mean.shape[2], pred_mean.shape[3])\n",
        "    print(preds.shape)\n",
        "    median = preds.mean(0)\n",
        "    quantile2 = np.quantile(preds, 0.859, axis=0)\n",
        "    quantile1 = np.quantile(preds, 0.141, axis=0)\n",
        "    \n",
        "    w = 2.0\n",
        "    plt.figure(figsize=(12.5, 1.5))\n",
        "    for j in range(3):\n",
        "        plt.subplot(1, 3, j + 1)\n",
        "        plt.fill_between(tp[j], quantile1[j, :, 0], quantile2[j, :, 0], alpha=0.6, facecolor='#65c9f7', interpolate=True)\n",
        "        plt.plot(tp[j], median[j, :, 0], c='b', lw=w, label='Reconstructions')\n",
        "        #plt.plot(tp[n_max * j + index], gt[index], c='r', lw=w, label='Ground Truth')\n",
        "        plt.scatter(tp[j], inputs[j, :, 0], c='k', lw=w, label='Observed Data')\n",
        "    plt.show()\n",
        "\n",
        "viz_per_example(Edelson.dataset[1], net, k_iwae=10, n_max=10, fracs=[0.05,0.1,0.15])"
      ]
    }
  ],
  "metadata": {
    "kernelspec": {
      "display_name": "Python 3 (ipykernel)",
      "language": "python",
      "name": "python3"
    },
    "language_info": {
      "codemirror_mode": {
        "name": "ipython",
        "version": 3
      },
      "file_extension": ".py",
      "mimetype": "text/x-python",
      "name": "python",
      "nbconvert_exporter": "python",
      "pygments_lexer": "ipython3",
      "version": "3.9.2"
    },
    "colab": {
      "name": "light_curve_demo.ipynb",
      "provenance": []
    },
    "accelerator": "GPU"
  },
  "nbformat": 4,
  "nbformat_minor": 5
}