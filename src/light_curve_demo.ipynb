{
  "cells": [
    {
      "cell_type": "code",
      "execution_count": 36,
      "id": "5fe134d8",
      "metadata": {
        "colab": {
          "base_uri": "https://localhost:8080/"
        },
        "id": "5fe134d8",
        "outputId": "a377a319-1afc-4987-cdea-dba5d8281a73"
      },
      "outputs": [
        {
          "output_type": "stream",
          "name": "stdout",
          "text": [
            "Cloning into 'hetvae'...\n",
            "remote: Enumerating objects: 1683, done.\u001b[K\n",
            "remote: Counting objects: 100% (1022/1022), done.\u001b[K\n",
            "remote: Compressing objects: 100% (1012/1012), done.\u001b[K\n",
            "remote: Total 1683 (delta 29), reused 993 (delta 10), pack-reused 661\u001b[K\n",
            "Receiving objects: 100% (1683/1683), 26.45 MiB | 26.84 MiB/s, done.\n",
            "Resolving deltas: 100% (468/468), done.\n",
            "Branch 'optuna' set up to track remote branch 'optuna' from 'origin'.\n",
            "Switched to a new branch 'optuna'\n",
            "Looking in indexes: https://pypi.org/simple, https://us-python.pkg.dev/colab-wheels/public/simple/\n",
            "Requirement already satisfied: alembic==1.7.7 in /usr/local/lib/python3.7/dist-packages (from -r requirements.txt (line 1)) (1.7.7)\n",
            "Requirement already satisfied: attrs==21.4.0 in /usr/local/lib/python3.7/dist-packages (from -r requirements.txt (line 2)) (21.4.0)\n",
            "Requirement already satisfied: autopage==0.5.0 in /usr/local/lib/python3.7/dist-packages (from -r requirements.txt (line 3)) (0.5.0)\n",
            "Requirement already satisfied: backports.functools-lru-cache==1.6.4 in /usr/local/lib/python3.7/dist-packages (from -r requirements.txt (line 4)) (1.6.4)\n",
            "Requirement already satisfied: cliff==3.10.1 in /usr/local/lib/python3.7/dist-packages (from -r requirements.txt (line 5)) (3.10.1)\n",
            "Requirement already satisfied: cmaes==0.8.2 in /usr/local/lib/python3.7/dist-packages (from -r requirements.txt (line 6)) (0.8.2)\n",
            "Requirement already satisfied: cmd2==2.3.3 in /usr/local/lib/python3.7/dist-packages (from -r requirements.txt (line 7)) (2.3.3)\n",
            "Requirement already satisfied: colorama==0.4.4 in /usr/local/lib/python3.7/dist-packages (from -r requirements.txt (line 8)) (0.4.4)\n",
            "Requirement already satisfied: colorlog==6.6.0 in /usr/local/lib/python3.7/dist-packages (from -r requirements.txt (line 9)) (6.6.0)\n",
            "Requirement already satisfied: greenlet==1.1.2 in /usr/local/lib/python3.7/dist-packages (from -r requirements.txt (line 10)) (1.1.2)\n",
            "Requirement already satisfied: importlib-metadata==4.11.4 in /usr/local/lib/python3.7/dist-packages (from -r requirements.txt (line 11)) (4.11.4)\n",
            "Requirement already satisfied: importlib-resources==5.7.1 in /usr/local/lib/python3.7/dist-packages (from -r requirements.txt (line 12)) (5.7.1)\n",
            "Requirement already satisfied: Mako==1.2.0 in /usr/local/lib/python3.7/dist-packages (from -r requirements.txt (line 13)) (1.2.0)\n",
            "Requirement already satisfied: MarkupSafe==2.1.1 in /usr/local/lib/python3.7/dist-packages (from -r requirements.txt (line 14)) (2.1.1)\n",
            "Requirement already satisfied: numpy==1.21.0 in /usr/local/lib/python3.7/dist-packages (from -r requirements.txt (line 15)) (1.21.0)\n",
            "Requirement already satisfied: optuna==2.10.0 in /usr/local/lib/python3.7/dist-packages (from -r requirements.txt (line 16)) (2.10.0)\n",
            "Requirement already satisfied: packaging==21.3 in /usr/local/lib/python3.7/dist-packages (from -r requirements.txt (line 17)) (21.3)\n",
            "Requirement already satisfied: pbr==5.9.0 in /usr/local/lib/python3.7/dist-packages (from -r requirements.txt (line 18)) (5.9.0)\n",
            "Requirement already satisfied: pip==22.1.1 in /usr/local/lib/python3.7/dist-packages (from -r requirements.txt (line 19)) (22.1.1)\n",
            "Requirement already satisfied: prettytable==3.3.0 in /usr/local/lib/python3.7/dist-packages (from -r requirements.txt (line 20)) (3.3.0)\n",
            "Requirement already satisfied: pyparsing==3.0.9 in /usr/local/lib/python3.7/dist-packages (from -r requirements.txt (line 21)) (3.0.9)\n",
            "Requirement already satisfied: pyperclip==1.8.2 in /usr/local/lib/python3.7/dist-packages (from -r requirements.txt (line 22)) (1.8.2)\n",
            "Requirement already satisfied: PyYAML==6.0 in /usr/local/lib/python3.7/dist-packages (from -r requirements.txt (line 23)) (6.0)\n",
            "Requirement already satisfied: scipy==1.7.3 in /usr/local/lib/python3.7/dist-packages (from -r requirements.txt (line 24)) (1.7.3)\n",
            "Requirement already satisfied: setuptools==62.3.2 in /usr/local/lib/python3.7/dist-packages (from -r requirements.txt (line 25)) (62.3.2)\n",
            "Requirement already satisfied: SQLAlchemy==1.4.36 in /usr/local/lib/python3.7/dist-packages (from -r requirements.txt (line 26)) (1.4.36)\n",
            "Requirement already satisfied: stevedore==3.5.0 in /usr/local/lib/python3.7/dist-packages (from -r requirements.txt (line 27)) (3.5.0)\n",
            "Requirement already satisfied: tqdm==4.64.0 in /usr/local/lib/python3.7/dist-packages (from -r requirements.txt (line 28)) (4.64.0)\n",
            "Requirement already satisfied: wcwidth==0.2.5 in /usr/local/lib/python3.7/dist-packages (from -r requirements.txt (line 29)) (0.2.5)\n",
            "Requirement already satisfied: wheel==0.37.1 in /usr/local/lib/python3.7/dist-packages (from -r requirements.txt (line 30)) (0.37.1)\n",
            "Requirement already satisfied: zipp==3.8.0 in /usr/local/lib/python3.7/dist-packages (from -r requirements.txt (line 31)) (3.8.0)\n",
            "Requirement already satisfied: typing-extensions in /usr/local/lib/python3.7/dist-packages (from cmd2==2.3.3->-r requirements.txt (line 7)) (4.2.0)\n",
            "\u001b[33mWARNING: Running pip as the 'root' user can result in broken permissions and conflicting behaviour with the system package manager. It is recommended to use a virtual environment instead: https://pip.pypa.io/warnings/venv\u001b[0m\u001b[33m\n",
            "\u001b[0m"
          ]
        }
      ],
      "source": [
        "import os\n",
        "import shutil\n",
        "os.chdir('/content')\n",
        "if os.path.isdir('./hetvae'):\n",
        "  shutil.rmtree('./hetvae/')\n",
        "! git clone https://github.com/mwl10/hetvae\n",
        "os.chdir('/content/hetvae')\n",
        "! git checkout optuna\n",
        "! pip install -r requirements.txt\n",
        "os.chdir('/content/hetvae/src')\n",
        "import numpy as np\n",
        "import torch\n",
        "import optuna\n",
        "from optuna.trial import TrialState\n",
        "import torch.optim as optim\n",
        "import models\n",
        "from argparse import Namespace\n",
        "import torch.optim as optim\n",
        "import utils\n",
        "import my_utils\n",
        "import pandas as pd\n",
        "import importlib\n",
        "import vae_models\n",
        "importlib.reload(vae_models)\n",
        "importlib.reload(models)\n",
        "importlib.reload(utils)\n",
        "importlib.reload(my_utils)\n",
        "from glob import glob\n",
        "import matplotlib.pyplot as plt\n",
        "import sys\n",
        "#del sys.modules['dataset']\n",
        "from dataset import DataSet\n",
        "%matplotlib inline"
      ]
    },
    {
      "cell_type": "code",
      "execution_count": null,
      "id": "9f4e5bb7",
      "metadata": {
        "id": "9f4e5bb7"
      },
      "outputs": [],
      "source": [
        "#------------------------------\n",
        "# AGN Preprocessing, we have a DF w/ OBJECT , FILTER, MJD, FLUX, ERROR\n",
        "#-------------------------------\n",
        "agn_file = '/content/hetvae/data/AGN_1H2106-099/1H2106-099_latest_lcs_pyroa.csv'\n",
        "agn_df = pd.read_csv(agn_file)\n",
        "# handle formatting for new AGN\n",
        "lcs = []\n",
        "for lc_df in agn_df.groupby('Filter'):\n",
        "    lc = lc_df[1][['MJD', 'Flux', 'Error']].to_numpy()\n",
        "    lcs.append(lc)\n",
        "\n",
        "AGN_1H2106 = DataSet()\n",
        "AGN_1H2106.dataset = lcs # skip add files part\n",
        "AGN_1H2106 = AGN_1H2106.handle_dups().resample_dataset(num_samples=1).normalize(normalize_y_by='individual') \\\n",
        "  .set_union_x().zero_fill().make_masks(frac=0.5)\n",
        "\n",
        "print(\n",
        "    AGN_1H2106.files, '\\n',\n",
        "    AGN_1H2106.union_x.shape,\n",
        "    AGN_1H2106.dataset.shape,\n",
        "    AGN_1H2106.subsampled_mask.shape,\n",
        "    AGN_1H2106.recon_mask.shape\n",
        "  )\n"
      ]
    },
    {
      "cell_type": "code",
      "execution_count": 37,
      "id": "b3120f1f",
      "metadata": {
        "colab": {
          "base_uri": "https://localhost:8080/"
        },
        "id": "b3120f1f",
        "outputId": "3b7f395b-0667-42cd-9fd9-2749c353b764"
      },
      "outputs": [
        {
          "output_type": "stream",
          "name": "stdout",
          "text": [
            "dims of /content/hetvae/data/EDELSON/NGC4593_M2.dat:\t(148, 3)\n",
            "dims of /content/hetvae/data/EDELSON/NGC4593_W2.dat:\t(147, 3)\n",
            "dims of /content/hetvae/data/EDELSON/NGC4593_SX.dat:\t(190, 3)\n",
            "dims of /content/hetvae/data/EDELSON/NGC4593_HX.dat:\t(190, 3)\n",
            "generating 1 new sample of each example in the dataset & appending them \n",
            " old dataset length: 4\n",
            "new dataset length: 8\n",
            "created union_x attribute of length 459\n",
            "zero fill all the examples up to the length of longest one given, dataset is also now a numpy array w shape: (8, 190, 3), instead of a list of numpy arrays\n",
            "created subsampled_mask & recon_mask instance attributes\n",
            "['/content/hetvae/data/EDELSON/NGC4593_M2.dat', '/content/hetvae/data/EDELSON/NGC4593_W2.dat', '/content/hetvae/data/EDELSON/NGC4593_SX.dat', '/content/hetvae/data/EDELSON/NGC4593_HX.dat'] \n",
            " (459,) (8, 190, 3) (8, 190) (8, 190)\n"
          ]
        }
      ],
      "source": [
        "#--------------------------------------------------------------------------------------------------------\n",
        "# PREPROCESSING, from edelson data \n",
        "#--------------------------------------------------------------------------------------------------------\n",
        "lc_files = glob('/content/hetvae/data/EDELSON/*')[:4]\n",
        "\n",
        "# hypers: \n",
        "Edelson = DataSet().add_files(lc_files).files_to_numpy().handle_dups().resample_dataset(num_samples=1).normalize(normalize_y_by='individual') \\\n",
        "        .set_union_x().zero_fill().make_masks(frac=0.5)\n",
        "\n",
        "print(\n",
        "    Edelson.files, '\\n',\n",
        "    Edelson.union_x.shape,\n",
        "    Edelson.dataset.shape,\n",
        "    Edelson.subsampled_mask.shape,\n",
        "    Edelson.recon_mask.shape\n",
        "  )"
      ]
    },
    {
      "cell_type": "code",
      "execution_count": 38,
      "id": "b01ad704",
      "metadata": {
        "id": "b01ad704"
      },
      "outputs": [],
      "source": [
        "# num heads?\n",
        "args = Namespace(batch_size=8, bound_variance=True, const_var=False, dataset='toy', dropout=0.0, \n",
        "                 elbo_weight=1.0, embed_time=128, enc_num_heads=1, intensity=True, k_iwae=1, kl_annealing=False, \n",
        "                 kl_zero=False, latent_dim=64, lr=0.000001, mixing='concat', mse_weight=2.0, n=256, net='hetvae', \n",
        "                 niters=1000, norm=True, normalize_input='znorm', num_ref_points=16, rec_hidden=16, recon_loss=False, \n",
        "                 sample_tp=0.5, save=True, seed=0, shuffle=True, std=0.1, var_per_dim=False, width=512)\n",
        "\n"
      ]
    },
    {
      "cell_type": "code",
      "execution_count": 39,
      "id": "d4088220",
      "metadata": {
        "id": "d4088220"
      },
      "outputs": [],
      "source": [
        "DIM = 1\n",
        "# definitly want a decaying error rate...\n",
        "#scheduler = torch.optim.lr_scheduler.MultiStepLR(optimizer, milestones=[], gamma=0.1)\n",
        "seed = args.seed\n",
        "torch.manual_seed(seed)\n",
        "np.random.seed(seed)\n",
        "torch.cuda.manual_seed(seed)\n",
        "device = torch.device('cuda' if torch.cuda.is_available() else 'cpu')"
      ]
    },
    {
      "cell_type": "code",
      "execution_count": 40,
      "id": "d0aebfb9",
      "metadata": {
        "colab": {
          "base_uri": "https://localhost:8080/"
        },
        "id": "d0aebfb9",
        "outputId": "c5770965-ed68-416a-872f-dc04f6d607fe"
      },
      "outputs": [
        {
          "output_type": "stream",
          "name": "stdout",
          "text": [
            "(8, 190, 5)\n"
          ]
        }
      ],
      "source": [
        "LightCurves = np.concatenate((Edelson.dataset, Edelson.subsampled_mask[:,:,np.newaxis], Edelson.recon_mask[:,:,np.newaxis]), axis=-1) # format the masks for the model \n",
        "print(LightCurves.shape)\n"
      ]
    },
    {
      "cell_type": "code",
      "execution_count": 41,
      "id": "1f4fa40b",
      "metadata": {
        "id": "1f4fa40b"
      },
      "outputs": [],
      "source": [
        "training, valid = np.split(LightCurves, [int(np.floor(0.8*len(LightCurves)))])# shuffle?\n",
        "train_loader = torch.utils.data.DataLoader(training, batch_size=args.batch_size)\n",
        "valid_loader = torch.utils.data.DataLoader(valid, batch_size=args.batch_size)\n",
        "       "
      ]
    },
    {
      "cell_type": "code",
      "execution_count": 42,
      "id": "b27bb411",
      "metadata": {
        "id": "b27bb411"
      },
      "outputs": [],
      "source": [
        "net = models.load_network(args, DIM, torch.Tensor(Edelson.union_x)) # , device=\"cuda\"\n",
        "params = list(net.parameters())\n",
        "optimizer = optim.Adam(params, lr=.001)"
      ]
    },
    {
      "cell_type": "code",
      "execution_count": 43,
      "id": "552f9dde",
      "metadata": {
        "id": "552f9dde"
      },
      "outputs": [],
      "source": [
        "def train(net, optimizer,epoch, train_loader, args, device=\"cuda\"):\n",
        "      \n",
        "      train_loss = 0.\n",
        "      train_n = 0.\n",
        "      avg_loglik, avg_kl, mse, mae = 0., 0., 0., 0.\n",
        "      for i, train_batch in enumerate(train_loader):\n",
        "          batch_len = train_batch.shape[0] \n",
        "          train_batch = train_batch.to(device)\n",
        "          x = train_batch[:,:,0]\n",
        "          y = train_batch[:,:,1:2]\n",
        "          \n",
        "          subsampled_mask = train_batch[:,:,3:4]\n",
        "          recon_mask = train_batch[:,:,4:]\n",
        "          error_bars = train_batch[:,:,2:3]\n",
        "          seqlen = train_batch.size(1) \n",
        "          # subsampled flux values and their corresponding masks....\n",
        "          context_y = torch.cat((\n",
        "              y * subsampled_mask, subsampled_mask\n",
        "          ), -1) \n",
        "          recon_context_y = torch.cat((            # flux values with only recon_mask values showing\n",
        "                  y * recon_mask, recon_mask\n",
        "              ), -1)\n",
        "          \n",
        "          masked_error_bars = error_bars * subsampled_mask \n",
        "\n",
        "\n",
        "    # #   def compute_unsupervised_loss(self, context_x, context_y, target_x, target_y, num_samples=1, beta=1):\n",
        "          loss_info = net.compute_unsupervised_loss(\n",
        "              x, # context_x, times\n",
        "              context_y,             # context_y\n",
        "              x, # target_x, same times? \n",
        "              recon_context_y,\n",
        "              num_samples=args.k_iwae, # 1? \n",
        "              beta=1,\n",
        "              # optional, will be zero if not set\n",
        "              error_bars = 0.   # masked_error_bars\n",
        "\n",
        "          )\n",
        "          optimizer.zero_grad()\n",
        "          loss_info.composite_loss.backward()\n",
        "          optimizer.step()\n",
        "          #scheduler.step()\n",
        "          train_loss += loss_info.composite_loss.item() * batch_len\n",
        "          avg_loglik += loss_info.loglik * batch_len\n",
        "          avg_kl += loss_info.kl * batch_len\n",
        "          mse += loss_info.mse * batch_len\n",
        "          mae += loss_info.mae * batch_len\n",
        "          train_n += batch_len\n",
        "      \n",
        "      \n",
        "      if epoch % 100 == 0:\n",
        "          print(\n",
        "              'Iter: {}, train loss: {:.4f}, avg nll: {:.4f}, avg kl: {:.4f}, '\n",
        "              'mse: {:.6f}, mae: {:.6f}'.format(\n",
        "                  epoch,\n",
        "                  train_loss / train_n,\n",
        "                  -avg_loglik / train_n,\n",
        "                  avg_kl / train_n,\n",
        "                  mse / train_n,\n",
        "                  mae / train_n\n",
        "              )\n",
        "          )\n",
        "      "
      ]
    },
    {
      "cell_type": "code",
      "execution_count": 44,
      "id": "2a537d69",
      "metadata": {
        "colab": {
          "base_uri": "https://localhost:8080/"
        },
        "id": "2a537d69",
        "outputId": "6e921f9c-850d-4135-8d4b-05f3db6c6d1b"
      },
      "outputs": [
        {
          "output_type": "stream",
          "name": "stdout",
          "text": [
            "Iter: 100, train loss: 3.6103, avg nll: 1.4553, avg kl: 0.0001, mse: 1.077409, mae: 0.872290\n"
          ]
        }
      ],
      "source": [
        "for epoch in range(1, 101):#args.niters + 1):\n",
        "    train(net, optimizer, epoch, train_loader, args)"
      ]
    },
    {
      "cell_type": "code",
      "source": [
        "evaluate(net, train_loader)"
      ],
      "metadata": {
        "id": "_FU7cwb7f-Uq",
        "outputId": "a62e4c0f-a92c-4a55-f00d-749f077dec08",
        "colab": {
          "base_uri": "https://localhost:8080/"
        }
      },
      "id": "_FU7cwb7f-Uq",
      "execution_count": 45,
      "outputs": [
        {
          "output_type": "stream",
          "name": "stdout",
          "text": [
            "nll: 1.4576, mse: 1.0774, mae: 0.8725, mean_mse: 1.0774, mean_mae: 0.8725\n"
          ]
        },
        {
          "output_type": "execute_result",
          "data": {
            "text/plain": [
              "1.4576120376586914"
            ]
          },
          "metadata": {},
          "execution_count": 45
        }
      ]
    },
    {
      "cell_type": "code",
      "execution_count": null,
      "id": "4871ca3b",
      "metadata": {
        "id": "4871ca3b"
      },
      "outputs": [],
      "source": [
        "for g in optimizer.param_groups:\n",
        "    print(g['lr'])\n",
        "    g['lr'] = 0.001"
      ]
    },
    {
      "cell_type": "code",
      "execution_count": 17,
      "id": "2efb2725",
      "metadata": {
        "id": "2efb2725"
      },
      "outputs": [],
      "source": [
        "def evaluate(net, train_loader, device=\"cuda\"):\n",
        "    train_loss = 0.\n",
        "    train_n = 0.\n",
        "    avg_loglik, mse, mae = 0,0,0\n",
        "    mean_mae, mean_mse = 0,0\n",
        "    with torch.no_grad():\n",
        "        for i, train_batch in enumerate(train_loader):\n",
        "            batch_len = train_batch.shape[0] \n",
        "            train_batch = train_batch.to(device)\n",
        "            x = train_batch[:,:,0]\n",
        "            y = train_batch[:,:,1:2]\n",
        "            subsampled_mask = train_batch[:,:,3:4]\n",
        "            recon_mask = train_batch[:,:,4:]\n",
        "            error_bars = train_batch[:,:,2:3]\n",
        "            seqlen = train_batch.size(1) \n",
        "            # subsampled flux values and their corresponding masks....\n",
        "            context_y = torch.cat((\n",
        "                y * subsampled_mask, subsampled_mask\n",
        "            ), -1) \n",
        "            recon_context_y = torch.cat((            # flux values with only recon_mask values showing\n",
        "                    y * recon_mask, recon_mask\n",
        "                ), -1)\n",
        "            \n",
        "            masked_error_bars = error_bars * subsampled_mask \n",
        "\n",
        "\n",
        "      # #   def compute_unsupervised_loss(self, context_x, context_y, target_x, target_y, num_samples=1, beta=1):\n",
        "            loss_info = net.compute_unsupervised_loss(\n",
        "                x, # context_x, times\n",
        "                context_y,             # context_y\n",
        "                x, # target_x, same times? \n",
        "                recon_context_y,\n",
        "                num_samples=1, #???\n",
        "                beta=1,\n",
        "                # optional, will be zero if not set\n",
        "                error_bars = 0.   # masked_error_bars\n",
        "\n",
        "            )\n",
        "            num_context_points = recon_mask.sum().item()\n",
        "            mse += loss_info.mse * num_context_points\n",
        "            mae += loss_info.mae * num_context_points\n",
        "            mean_mse += loss_info.mean_mse * num_context_points\n",
        "            mean_mae += loss_info.mean_mae * num_context_points\n",
        "            avg_loglik += loss_info.mogloglik * num_context_points\n",
        "            train_n += num_context_points\n",
        "    print(\n",
        "    'nll: {:.4f}, mse: {:.4f}, mae: {:.4f}, '\n",
        "    'mean_mse: {:.4f}, mean_mae: {:.4f}'.format(\n",
        "        - avg_loglik / train_n,\n",
        "        mse / train_n,\n",
        "        mae / train_n,\n",
        "        mean_mse / train_n,\n",
        "        mean_mae / train_n\n",
        "    ))\n",
        "      \n",
        "    \n",
        "    return float(- avg_loglik / train_n)"
      ]
    },
    {
      "cell_type": "code",
      "execution_count": 55,
      "id": "a349ec84",
      "metadata": {
        "colab": {
          "base_uri": "https://localhost:8080/",
          "height": 265
        },
        "id": "a349ec84",
        "outputId": "da56872b-547d-47cd-d305-1642c1887cae"
      },
      "outputs": [
        {
          "output_type": "stream",
          "name": "stdout",
          "text": [
            "(1, 190, 5)\n",
            "torch.Size([1, 190]) torch.Size([1, 190, 2]) torch.Size([1, 190])\n",
            "(1, 190, 7)\n",
            "torch.Size([1, 190]) torch.Size([1, 190, 2]) torch.Size([1, 190])\n",
            "(1, 190, 9)\n",
            "torch.Size([1, 190]) torch.Size([1, 190, 2]) torch.Size([1, 190])\n",
            "pred_mean: (10, 3, 190, 1) pred_std: (10, 3, 190, 1)= targets: (3, 190, 1) masks: (3, 190, 1) tps: (3, 190) inputs: (3, 190, 1)\n",
            "(50, 3, 190, 1)\n"
          ]
        },
        {
          "output_type": "display_data",
          "data": {
            "text/plain": [
              "<Figure size 900x108 with 3 Axes>"
            ],
            "image/png": "[encoded data removed]"
          },
          "metadata": {
            "needs_background": "light"
          }
        }
      ],
      "source": [
        "# visualisation for one light curve w/ increasing number of points\n",
        "\n",
        "def viz_per_example(example, net, k_iwae=40, n_max=10, fracs=[0.2,0.2,0.5]): \n",
        "    pred_mean, pred_std = [], []\n",
        "    masks = []\n",
        "    targets = []\n",
        "    tp =[]\n",
        "    example = example[np.newaxis, :,:]\n",
        "\n",
        "    np.random.seed(0)\n",
        "    with torch.no_grad():\n",
        "        for frac in fracs: # \n",
        "            if torch.is_tensor(example):\n",
        "                example = example.cpu().numpy()\n",
        "\n",
        "            # make new masks relative to fraction of points we got to predict w/ \n",
        "            smask, rmask = my_utils.make_masks(example, frac=frac)\n",
        "            example = np.concatenate((example, smask[:,:,np.newaxis], rmask[:,:,np.newaxis]), axis=-1) # format the masks for the model \n",
        "\n",
        "            # CUDA~\n",
        "            example = torch.tensor(example)\n",
        "            example = example.to(device)\n",
        "            \n",
        "            subsampled_mask = example[:,:,3:4]\n",
        "            seqlen = example.size(0)\n",
        "            # \n",
        "            context_y = torch.cat((example[:,:, 1:2] * subsampled_mask, subsampled_mask), -1)\n",
        "            # probabilities per batch?  \n",
        "            px, _ = net.get_reconstruction(example[:,:, 0], context_y, example[:,:, 0], num_samples=k_iwae)\n",
        "            pred_mean.append(px.mean.cpu().numpy()) # (10,batch_size, seq len,1)\n",
        "            # changing from logvar to std \n",
        "            pred_std.append(torch.exp(0.5 * px.logvar).cpu().numpy())\n",
        "\n",
        "            targets.append((example[:,:, 1:2]).cpu().numpy())\n",
        "            masks.append(subsampled_mask.cpu().numpy())\n",
        "            tp.append(example[:,:, 0].cpu().numpy())\n",
        "\n",
        "    pred_mean = np.concatenate(pred_mean, axis=1)\n",
        "    pred_std = np.concatenate(pred_std, axis=1)\n",
        "    targets = np.concatenate(targets, axis=0)\n",
        "    masks = np.concatenate(masks, axis=0)\n",
        "    tp = np.concatenate(tp, axis=0)\n",
        "    inputs = np.ma.masked_where(masks < 1., targets)\n",
        "    print(f'pred_mean: {pred_mean.shape}', f'pred_std: {pred_std.shape}=', f'targets: {targets.shape}', f'masks: {masks.shape}', f'tps: {tp.shape}', f'inputs: {inputs.shape}')\n",
        "    # we're are sampling from the intermediate representation w/ k_iwae\n",
        "    # then we sample from the means/stds from the intermediate representation w/ k_iwae\n",
        "    \n",
        "    preds = np.random.randn(k_iwae // 2, k_iwae, pred_mean.shape[1], pred_mean.shape[2], pred_mean.shape[3]) * pred_std + pred_mean\n",
        "    preds = preds.reshape(-1, pred_mean.shape[1], pred_mean.shape[2], pred_mean.shape[3])\n",
        "    print(preds.shape)\n",
        "    median = preds.mean(0)\n",
        "    quantile2 = np.quantile(preds, 0.859, axis=0)\n",
        "    quantile1 = np.quantile(preds, 0.141, axis=0)\n",
        "    \n",
        "    w = 2.0\n",
        "    plt.figure(figsize=(12.5, 1.5))\n",
        "    for j in range(3):\n",
        "        plt.subplot(1, 3, j + 1)\n",
        "        plt.fill_between(tp[j], quantile1[j, :, 0], quantile2[j, :, 0], alpha=0.6, facecolor='#65c9f7', interpolate=True)\n",
        "        plt.plot(tp[j], median[j, :, 0], c='b', lw=w, label='Reconstructions')\n",
        "        #plt.plot(tp[n_max * j + index], gt[index], c='r', lw=w, label='Ground Truth')\n",
        "        plt.scatter(tp[j], inputs[j, :, 0], c='k', lw=w, label='Observed Data')\n",
        "    plt.show()\n",
        "\n",
        "viz_per_example(Edelson.dataset[1], net, k_iwae=10, n_max=10, fracs=[0.05,0.1,0.15])"
      ]
    },
    {
      "cell_type": "code",
      "source": [
        "Edelson.dataset.shape"
      ],
      "metadata": {
        "id": "NITZ26UZiz-Y",
        "outputId": "1c03f8c9-0d36-4808-f018-dd1d563be758",
        "colab": {
          "base_uri": "https://localhost:8080/"
        }
      },
      "id": "NITZ26UZiz-Y",
      "execution_count": 51,
      "outputs": [
        {
          "output_type": "execute_result",
          "data": {
            "text/plain": [
              "(8, 190, 3)"
            ]
          },
          "metadata": {},
          "execution_count": 51
        }
      ]
    },
    {
      "cell_type": "code",
      "source": [
        ""
      ],
      "metadata": {
        "id": "sreOxKOCmLSW"
      },
      "id": "sreOxKOCmLSW",
      "execution_count": null,
      "outputs": []
    }
  ],
  "metadata": {
    "kernelspec": {
      "display_name": "Python 3 (ipykernel)",
      "language": "python",
      "name": "python3"
    },
    "language_info": {
      "codemirror_mode": {
        "name": "ipython",
        "version": 3
      },
      "file_extension": ".py",
      "mimetype": "text/x-python",
      "name": "python",
      "nbconvert_exporter": "python",
      "pygments_lexer": "ipython3",
      "version": "3.9.2"
    },
    "colab": {
      "name": "light_curve_demo.ipynb",
      "provenance": []
    },
    "accelerator": "GPU"
  },
  "nbformat": 4,
  "nbformat_minor": 5
}