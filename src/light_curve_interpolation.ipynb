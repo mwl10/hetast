{
  "nbformat": 4,
  "nbformat_minor": 0,
  "metadata": {
    "colab": {
      "name": "synthetic_data_interpolation.ipynb",
      "provenance": [],
      "collapsed_sections": [],
      "machine_shape": "hm"
    },
    "kernelspec": {
      "name": "python3",
      "display_name": "Python 3"
    },
    "language_info": {
      "name": "python"
    },
    "accelerator": "GPU"
  },
  "cells": [
    {
      "cell_type": "code",
      "metadata": {
        "id": "xSKtH8WGhoBo",
        "colab": {
          "base_uri": "https://localhost:8080/"
        },
        "outputId": "640a3d93-af37-46e3-ca9d-36cddd74e40a"
      },
      "source": [
        "import os\n",
        "import shutil\n",
        "os.chdir('/content')\n",
        "if os.path.isdir('./hetvae'):\n",
        "  shutil.rmtree('./hetvae/')\n",
        "\n",
        "! git clone https://github.com/mwl10/hetvae\n",
        "os.chdir('/content/hetvae')\n",
        "! pip install -r requirements.txt\n",
        "os.chdir('/content/hetvae/src')\n",
        "import numpy as np\n",
        "import torch\n",
        "import torch.optim as optim\n",
        "import models\n",
        "import utils\n",
        "import my_utils\n",
        "import importlib\n",
        "importlib.reload(my_utils)\n",
        "from glob import glob\n",
        "import matplotlib.pyplot as plt\n",
        "%matplotlib inline\n"
      ],
      "execution_count": 3,
      "outputs": [
        {
          "output_type": "stream",
          "name": "stdout",
          "text": [
            "Cloning into 'hetvae'...\n",
            "remote: Enumerating objects: 176, done.\u001b[K\n",
            "remote: Counting objects: 100% (176/176), done.\u001b[K\n",
            "remote: Compressing objects: 100% (141/141), done.\u001b[K\n",
            "remote: Total 176 (delta 100), reused 86 (delta 34), pack-reused 0\u001b[K\n",
            "Receiving objects: 100% (176/176), 18.38 MiB | 9.18 MiB/s, done.\n",
            "Resolving deltas: 100% (100/100), done.\n",
            "Requirement already satisfied: numpy in /usr/local/lib/python3.7/dist-packages (from -r requirements.txt (line 1)) (1.21.6)\n",
            "Requirement already satisfied: sklearn in /usr/local/lib/python3.7/dist-packages (from -r requirements.txt (line 2)) (0.0)\n",
            "Requirement already satisfied: pandas in /usr/local/lib/python3.7/dist-packages (from -r requirements.txt (line 3)) (1.3.5)\n",
            "Requirement already satisfied: torch==1.4.0 in /usr/local/lib/python3.7/dist-packages (from -r requirements.txt (line 4)) (1.4.0)\n",
            "Requirement already satisfied: torchvision==0.5.0 in /usr/local/lib/python3.7/dist-packages (from -r requirements.txt (line 5)) (0.5.0)\n",
            "Requirement already satisfied: pillow>=4.1.1 in /usr/local/lib/python3.7/dist-packages (from torchvision==0.5.0->-r requirements.txt (line 5)) (7.1.2)\n",
            "Requirement already satisfied: six in /usr/local/lib/python3.7/dist-packages (from torchvision==0.5.0->-r requirements.txt (line 5)) (1.15.0)\n",
            "Requirement already satisfied: scikit-learn in /usr/local/lib/python3.7/dist-packages (from sklearn->-r requirements.txt (line 2)) (1.0.2)\n",
            "Requirement already satisfied: pytz>=2017.3 in /usr/local/lib/python3.7/dist-packages (from pandas->-r requirements.txt (line 3)) (2022.1)\n",
            "Requirement already satisfied: python-dateutil>=2.7.3 in /usr/local/lib/python3.7/dist-packages (from pandas->-r requirements.txt (line 3)) (2.8.2)\n",
            "Requirement already satisfied: threadpoolctl>=2.0.0 in /usr/local/lib/python3.7/dist-packages (from scikit-learn->sklearn->-r requirements.txt (line 2)) (3.1.0)\n",
            "Requirement already satisfied: scipy>=1.1.0 in /usr/local/lib/python3.7/dist-packages (from scikit-learn->sklearn->-r requirements.txt (line 2)) (1.4.1)\n",
            "Requirement already satisfied: joblib>=0.11 in /usr/local/lib/python3.7/dist-packages (from scikit-learn->sklearn->-r requirements.txt (line 2)) (1.1.0)\n",
            "Cloning into 'hetvae'...\n",
            "remote: Enumerating objects: 176, done.\u001b[K\n",
            "remote: Counting objects: 100% (176/176), done.\u001b[K\n",
            "remote: Compressing objects: 100% (141/141), done.\u001b[K\n",
            "remote: Total 176 (delta 100), reused 86 (delta 34), pack-reused 0\u001b[K\n",
            "Receiving objects: 100% (176/176), 18.38 MiB | 12.16 MiB/s, done.\n",
            "Resolving deltas: 100% (100/100), done.\n",
            "Requirement already satisfied: numpy in /usr/local/lib/python3.7/dist-packages (from -r requirements.txt (line 1)) (1.21.6)\n",
            "Requirement already satisfied: sklearn in /usr/local/lib/python3.7/dist-packages (from -r requirements.txt (line 2)) (0.0)\n",
            "Requirement already satisfied: pandas in /usr/local/lib/python3.7/dist-packages (from -r requirements.txt (line 3)) (1.3.5)\n",
            "Requirement already satisfied: torch==1.4.0 in /usr/local/lib/python3.7/dist-packages (from -r requirements.txt (line 4)) (1.4.0)\n",
            "Requirement already satisfied: torchvision==0.5.0 in /usr/local/lib/python3.7/dist-packages (from -r requirements.txt (line 5)) (0.5.0)\n",
            "Requirement already satisfied: pillow>=4.1.1 in /usr/local/lib/python3.7/dist-packages (from torchvision==0.5.0->-r requirements.txt (line 5)) (7.1.2)\n",
            "Requirement already satisfied: six in /usr/local/lib/python3.7/dist-packages (from torchvision==0.5.0->-r requirements.txt (line 5)) (1.15.0)\n",
            "Requirement already satisfied: scikit-learn in /usr/local/lib/python3.7/dist-packages (from sklearn->-r requirements.txt (line 2)) (1.0.2)\n",
            "Requirement already satisfied: pytz>=2017.3 in /usr/local/lib/python3.7/dist-packages (from pandas->-r requirements.txt (line 3)) (2022.1)\n",
            "Requirement already satisfied: python-dateutil>=2.7.3 in /usr/local/lib/python3.7/dist-packages (from pandas->-r requirements.txt (line 3)) (2.8.2)\n",
            "Requirement already satisfied: scipy>=1.1.0 in /usr/local/lib/python3.7/dist-packages (from scikit-learn->sklearn->-r requirements.txt (line 2)) (1.4.1)\n",
            "Requirement already satisfied: threadpoolctl>=2.0.0 in /usr/local/lib/python3.7/dist-packages (from scikit-learn->sklearn->-r requirements.txt (line 2)) (3.1.0)\n",
            "Requirement already satisfied: joblib>=0.11 in /usr/local/lib/python3.7/dist-packages (from scikit-learn->sklearn->-r requirements.txt (line 2)) (1.1.0)\n"
          ]
        }
      ]
    },
    {
      "cell_type": "code",
      "source": [
        "data_objs = utils.get_physionet_data(10)"
      ],
      "metadata": {
        "colab": {
          "base_uri": "https://localhost:8080/"
        },
        "id": "mtZVr3W9nirz",
        "outputId": "9587619c-f66d-4f67-f26e-48989839b440"
      },
      "execution_count": null,
      "outputs": [
        {
          "output_type": "stream",
          "name": "stdout",
          "text": [
            "(6400, 203, 83) (1600, 168, 83)\n"
          ]
        }
      ]
    },
    {
      "cell_type": "code",
      "source": [
        "dim = data_objs['input_dim']"
      ],
      "metadata": {
        "id": "-HeX6cBIpoVX"
      },
      "execution_count": null,
      "outputs": []
    },
    {
      "cell_type": "code",
      "source": [
        "print(dim),# so 41 dims to account for, and 41 masks  and 1 tp vector? "
      ],
      "metadata": {
        "colab": {
          "base_uri": "https://localhost:8080/"
        },
        "id": "xK9BzrLHprcV",
        "outputId": "d4bdb76c-a972-4f0e-e7a6-a2b093555a7f"
      },
      "execution_count": null,
      "outputs": [
        {
          "output_type": "stream",
          "name": "stdout",
          "text": [
            "41\n"
          ]
        }
      ]
    },
    {
      "cell_type": "code",
      "source": [
        "train_loader = data_objs['train_dataloader']"
      ],
      "metadata": {
        "id": "_HDFTwtBni3S"
      },
      "execution_count": null,
      "outputs": []
    },
    {
      "cell_type": "code",
      "source": [
        "pbatch = next(iter(train_loader))"
      ],
      "metadata": {
        "id": "aoRA9twvni_E"
      },
      "execution_count": null,
      "outputs": []
    },
    {
      "cell_type": "code",
      "source": [
        "pbatch.shape"
      ],
      "metadata": {
        "colab": {
          "base_uri": "https://localhost:8080/"
        },
        "id": "kavAJ4PrnjC-",
        "outputId": "af3024f2-d626-4d24-c719-6fb9fee39312"
      },
      "execution_count": null,
      "outputs": [
        {
          "output_type": "execute_result",
          "data": {
            "text/plain": [
              "torch.Size([10, 203, 83])"
            ]
          },
          "metadata": {},
          "execution_count": 372
        }
      ]
    },
    {
      "cell_type": "code",
      "source": [
        "pbatch[0,:,-1] # time values ?\n",
        "\n",
        "# masks are dim: 2* dim\n",
        "# time is -1\n",
        "# values are :dim"
      ],
      "metadata": {
        "colab": {
          "base_uri": "https://localhost:8080/"
        },
        "id": "w--zOARunjF1",
        "outputId": "4a437f3d-a369-429a-c4a5-4afab63ced92"
      },
      "execution_count": null,
      "outputs": [
        {
          "output_type": "execute_result",
          "data": {
            "text/plain": [
              "tensor([0.0000, 0.0010, 0.0063, 0.0270, 0.0373, 0.0480, 0.0687, 0.0897, 0.1047,\n",
              "        0.1103, 0.1313, 0.1520, 0.1730, 0.1937, 0.2147, 0.2353, 0.2563, 0.2770,\n",
              "        0.2980, 0.3187, 0.3203, 0.3397, 0.3603, 0.3813, 0.3917, 0.4020, 0.4230,\n",
              "        0.4437, 0.4647, 0.4853, 0.5063, 0.5270, 0.5480, 0.5687, 0.5897, 0.6103,\n",
              "        0.6313, 0.6520, 0.6730, 0.6937, 0.7147, 0.7353, 0.7563, 0.7770, 0.7980,\n",
              "        0.8187, 0.8397, 0.8403, 0.8813, 0.9020, 0.9073, 0.9230, 0.9333, 0.9437,\n",
              "        0.9647, 0.9853, 0.9957, 0.0000, 0.0000, 0.0000, 0.0000, 0.0000, 0.0000,\n",
              "        0.0000, 0.0000, 0.0000, 0.0000, 0.0000, 0.0000, 0.0000, 0.0000, 0.0000,\n",
              "        0.0000, 0.0000, 0.0000, 0.0000, 0.0000, 0.0000, 0.0000, 0.0000, 0.0000,\n",
              "        0.0000, 0.0000, 0.0000, 0.0000, 0.0000, 0.0000, 0.0000, 0.0000, 0.0000,\n",
              "        0.0000, 0.0000, 0.0000, 0.0000, 0.0000, 0.0000, 0.0000, 0.0000, 0.0000,\n",
              "        0.0000, 0.0000, 0.0000, 0.0000, 0.0000, 0.0000, 0.0000, 0.0000, 0.0000,\n",
              "        0.0000, 0.0000, 0.0000, 0.0000, 0.0000, 0.0000, 0.0000, 0.0000, 0.0000,\n",
              "        0.0000, 0.0000, 0.0000, 0.0000, 0.0000, 0.0000, 0.0000, 0.0000, 0.0000,\n",
              "        0.0000, 0.0000, 0.0000, 0.0000, 0.0000, 0.0000, 0.0000, 0.0000, 0.0000,\n",
              "        0.0000, 0.0000, 0.0000, 0.0000, 0.0000, 0.0000, 0.0000, 0.0000, 0.0000,\n",
              "        0.0000, 0.0000, 0.0000, 0.0000, 0.0000, 0.0000, 0.0000, 0.0000, 0.0000,\n",
              "        0.0000, 0.0000, 0.0000, 0.0000, 0.0000, 0.0000, 0.0000, 0.0000, 0.0000,\n",
              "        0.0000, 0.0000, 0.0000, 0.0000, 0.0000, 0.0000, 0.0000, 0.0000, 0.0000,\n",
              "        0.0000, 0.0000, 0.0000, 0.0000, 0.0000, 0.0000, 0.0000, 0.0000, 0.0000,\n",
              "        0.0000, 0.0000, 0.0000, 0.0000, 0.0000, 0.0000, 0.0000, 0.0000, 0.0000,\n",
              "        0.0000, 0.0000, 0.0000, 0.0000, 0.0000, 0.0000, 0.0000, 0.0000, 0.0000,\n",
              "        0.0000, 0.0000, 0.0000, 0.0000, 0.0000])"
            ]
          },
          "metadata": {},
          "execution_count": 408
        }
      ]
    },
    {
      "cell_type": "code",
      "source": [
        "union_tp = utils.union_time(train_loader)"
      ],
      "metadata": {
        "id": "zRH9ZR6WnjIf"
      },
      "execution_count": null,
      "outputs": []
    },
    {
      "cell_type": "code",
      "source": [
        "union_tp.shape"
      ],
      "metadata": {
        "colab": {
          "base_uri": "https://localhost:8080/"
        },
        "id": "L5jO8ffHnjNZ",
        "outputId": "1f478ff4-f499-4220-b9c6-54d7210973ea"
      },
      "execution_count": null,
      "outputs": [
        {
          "output_type": "execute_result",
          "data": {
            "text/plain": [
              "torch.Size([2881])"
            ]
          },
          "metadata": {},
          "execution_count": 399
        }
      ]
    },
    {
      "cell_type": "code",
      "source": [
        "lcs[0][::2].shape"
      ],
      "metadata": {
        "id": "VjscGIMBnjPg",
        "colab": {
          "base_uri": "https://localhost:8080/"
        },
        "outputId": "14092b05-ca12-4cc9-9d79-f98928d7ba58"
      },
      "execution_count": 146,
      "outputs": [
        {
          "output_type": "execute_result",
          "data": {
            "text/plain": [
              "(134, 3)"
            ]
          },
          "metadata": {},
          "execution_count": 146
        }
      ]
    },
    {
      "cell_type": "code",
      "source": [
        "lc_files = glob('/content/hetvae/data/EDELSON/NGC5548*')"
      ],
      "metadata": {
        "id": "cMCK4vrx3M_0"
      },
      "execution_count": 190,
      "outputs": []
    },
    {
      "cell_type": "code",
      "source": [
        ""
      ],
      "metadata": {
        "id": "9wZE05-mF32m",
        "outputId": "63d5739a-e323-4bb7-9a2b-2407a7ddbf9d",
        "colab": {
          "base_uri": "https://localhost:8080/"
        }
      },
      "execution_count": 154,
      "outputs": [
        {
          "output_type": "execute_result",
          "data": {
            "text/plain": [
              "(74, 3)"
            ]
          },
          "metadata": {},
          "execution_count": 154
        }
      ]
    },
    {
      "cell_type": "code",
      "source": [
        "lcs,max_len = my_utils.file_to_np(*(lc_files*30))\n",
        "\n",
        "lcs = lcs[:128]\n",
        "# set starting time value to zero \n",
        "#lcs = [lc[:,0] - lc[0,0] for lc in lcs]\n",
        "# normalizing function now! \n",
        "for lc in lcs:\n",
        "  lc[:,0] = lc[:,0] - lc[0,0]\n",
        "print('-'*50)\n",
        "lcs = my_utils.handle_dups(lcs)\n",
        "\n",
        "for i, lc in enumerate(lcs):\n",
        "  lc = lc[::4]\n",
        "  lcs[i] = lc\n",
        "max_len = max([lc.shape[0] for lc in lcs])\n",
        "\n",
        "union_tp = my_utils.union_timepoints(lcs)\n",
        "\n",
        "\n",
        "print(len(union_tp))\n",
        "# we want the light curves like\n",
        "# len_longest_lc, 0 will be time, 1 will be dims \n",
        "lcs = my_utils.include_union_tp(lcs, max_len)\n",
        "lcs.shape # fire!"
      ],
      "metadata": {
        "colab": {
          "base_uri": "https://localhost:8080/"
        },
        "id": "2O8IyKUO-fpq",
        "outputId": "15742c3d-c8d6-43db-c473-c524cd397d88"
      },
      "execution_count": 204,
      "outputs": [
        {
          "output_type": "stream",
          "name": "stdout",
          "text": [
            "dims of /content/hetvae/data/EDELSON/NGC5548_W1.dat:\t(260, 3)\n",
            "dims of /content/hetvae/data/EDELSON/NGC5548_W2.dat:\t(259, 3)\n",
            "dims of /content/hetvae/data/EDELSON/NGC5548_HX.dat:\t(267, 3)\n",
            "dims of /content/hetvae/data/EDELSON/NGC5548_SX.dat:\t(267, 3)\n",
            "dims of /content/hetvae/data/EDELSON/NGC5548_M2.dat:\t(248, 3)\n",
            "dims of /content/hetvae/data/EDELSON/NGC5548_W1.dat:\t(260, 3)\n",
            "dims of /content/hetvae/data/EDELSON/NGC5548_W2.dat:\t(259, 3)\n",
            "dims of /content/hetvae/data/EDELSON/NGC5548_HX.dat:\t(267, 3)\n",
            "dims of /content/hetvae/data/EDELSON/NGC5548_SX.dat:\t(267, 3)\n",
            "dims of /content/hetvae/data/EDELSON/NGC5548_M2.dat:\t(248, 3)\n",
            "dims of /content/hetvae/data/EDELSON/NGC5548_W1.dat:\t(260, 3)\n",
            "dims of /content/hetvae/data/EDELSON/NGC5548_W2.dat:\t(259, 3)\n",
            "dims of /content/hetvae/data/EDELSON/NGC5548_HX.dat:\t(267, 3)\n",
            "dims of /content/hetvae/data/EDELSON/NGC5548_SX.dat:\t(267, 3)\n",
            "dims of /content/hetvae/data/EDELSON/NGC5548_M2.dat:\t(248, 3)\n",
            "dims of /content/hetvae/data/EDELSON/NGC5548_W1.dat:\t(260, 3)\n",
            "dims of /content/hetvae/data/EDELSON/NGC5548_W2.dat:\t(259, 3)\n",
            "dims of /content/hetvae/data/EDELSON/NGC5548_HX.dat:\t(267, 3)\n",
            "dims of /content/hetvae/data/EDELSON/NGC5548_SX.dat:\t(267, 3)\n",
            "dims of /content/hetvae/data/EDELSON/NGC5548_M2.dat:\t(248, 3)\n",
            "dims of /content/hetvae/data/EDELSON/NGC5548_W1.dat:\t(260, 3)\n",
            "dims of /content/hetvae/data/EDELSON/NGC5548_W2.dat:\t(259, 3)\n",
            "dims of /content/hetvae/data/EDELSON/NGC5548_HX.dat:\t(267, 3)\n",
            "dims of /content/hetvae/data/EDELSON/NGC5548_SX.dat:\t(267, 3)\n",
            "dims of /content/hetvae/data/EDELSON/NGC5548_M2.dat:\t(248, 3)\n",
            "dims of /content/hetvae/data/EDELSON/NGC5548_W1.dat:\t(260, 3)\n",
            "dims of /content/hetvae/data/EDELSON/NGC5548_W2.dat:\t(259, 3)\n",
            "dims of /content/hetvae/data/EDELSON/NGC5548_HX.dat:\t(267, 3)\n",
            "dims of /content/hetvae/data/EDELSON/NGC5548_SX.dat:\t(267, 3)\n",
            "dims of /content/hetvae/data/EDELSON/NGC5548_M2.dat:\t(248, 3)\n",
            "dims of /content/hetvae/data/EDELSON/NGC5548_W1.dat:\t(260, 3)\n",
            "dims of /content/hetvae/data/EDELSON/NGC5548_W2.dat:\t(259, 3)\n",
            "dims of /content/hetvae/data/EDELSON/NGC5548_HX.dat:\t(267, 3)\n",
            "dims of /content/hetvae/data/EDELSON/NGC5548_SX.dat:\t(267, 3)\n",
            "dims of /content/hetvae/data/EDELSON/NGC5548_M2.dat:\t(248, 3)\n",
            "dims of /content/hetvae/data/EDELSON/NGC5548_W1.dat:\t(260, 3)\n",
            "dims of /content/hetvae/data/EDELSON/NGC5548_W2.dat:\t(259, 3)\n",
            "dims of /content/hetvae/data/EDELSON/NGC5548_HX.dat:\t(267, 3)\n",
            "dims of /content/hetvae/data/EDELSON/NGC5548_SX.dat:\t(267, 3)\n",
            "dims of /content/hetvae/data/EDELSON/NGC5548_M2.dat:\t(248, 3)\n",
            "dims of /content/hetvae/data/EDELSON/NGC5548_W1.dat:\t(260, 3)\n",
            "dims of /content/hetvae/data/EDELSON/NGC5548_W2.dat:\t(259, 3)\n",
            "dims of /content/hetvae/data/EDELSON/NGC5548_HX.dat:\t(267, 3)\n",
            "dims of /content/hetvae/data/EDELSON/NGC5548_SX.dat:\t(267, 3)\n",
            "dims of /content/hetvae/data/EDELSON/NGC5548_M2.dat:\t(248, 3)\n",
            "dims of /content/hetvae/data/EDELSON/NGC5548_W1.dat:\t(260, 3)\n",
            "dims of /content/hetvae/data/EDELSON/NGC5548_W2.dat:\t(259, 3)\n",
            "dims of /content/hetvae/data/EDELSON/NGC5548_HX.dat:\t(267, 3)\n",
            "dims of /content/hetvae/data/EDELSON/NGC5548_SX.dat:\t(267, 3)\n",
            "dims of /content/hetvae/data/EDELSON/NGC5548_M2.dat:\t(248, 3)\n",
            "dims of /content/hetvae/data/EDELSON/NGC5548_W1.dat:\t(260, 3)\n",
            "dims of /content/hetvae/data/EDELSON/NGC5548_W2.dat:\t(259, 3)\n",
            "dims of /content/hetvae/data/EDELSON/NGC5548_HX.dat:\t(267, 3)\n",
            "dims of /content/hetvae/data/EDELSON/NGC5548_SX.dat:\t(267, 3)\n",
            "dims of /content/hetvae/data/EDELSON/NGC5548_M2.dat:\t(248, 3)\n",
            "dims of /content/hetvae/data/EDELSON/NGC5548_W1.dat:\t(260, 3)\n",
            "dims of /content/hetvae/data/EDELSON/NGC5548_W2.dat:\t(259, 3)\n",
            "dims of /content/hetvae/data/EDELSON/NGC5548_HX.dat:\t(267, 3)\n",
            "dims of /content/hetvae/data/EDELSON/NGC5548_SX.dat:\t(267, 3)\n",
            "dims of /content/hetvae/data/EDELSON/NGC5548_M2.dat:\t(248, 3)\n",
            "dims of /content/hetvae/data/EDELSON/NGC5548_W1.dat:\t(260, 3)\n",
            "dims of /content/hetvae/data/EDELSON/NGC5548_W2.dat:\t(259, 3)\n",
            "dims of /content/hetvae/data/EDELSON/NGC5548_HX.dat:\t(267, 3)\n",
            "dims of /content/hetvae/data/EDELSON/NGC5548_SX.dat:\t(267, 3)\n",
            "dims of /content/hetvae/data/EDELSON/NGC5548_M2.dat:\t(248, 3)\n",
            "dims of /content/hetvae/data/EDELSON/NGC5548_W1.dat:\t(260, 3)\n",
            "dims of /content/hetvae/data/EDELSON/NGC5548_W2.dat:\t(259, 3)\n",
            "dims of /content/hetvae/data/EDELSON/NGC5548_HX.dat:\t(267, 3)\n",
            "dims of /content/hetvae/data/EDELSON/NGC5548_SX.dat:\t(267, 3)\n",
            "dims of /content/hetvae/data/EDELSON/NGC5548_M2.dat:\t(248, 3)\n",
            "dims of /content/hetvae/data/EDELSON/NGC5548_W1.dat:\t(260, 3)\n",
            "dims of /content/hetvae/data/EDELSON/NGC5548_W2.dat:\t(259, 3)\n",
            "dims of /content/hetvae/data/EDELSON/NGC5548_HX.dat:\t(267, 3)\n",
            "dims of /content/hetvae/data/EDELSON/NGC5548_SX.dat:\t(267, 3)\n",
            "dims of /content/hetvae/data/EDELSON/NGC5548_M2.dat:\t(248, 3)\n",
            "dims of /content/hetvae/data/EDELSON/NGC5548_W1.dat:\t(260, 3)\n",
            "dims of /content/hetvae/data/EDELSON/NGC5548_W2.dat:\t(259, 3)\n",
            "dims of /content/hetvae/data/EDELSON/NGC5548_HX.dat:\t(267, 3)\n",
            "dims of /content/hetvae/data/EDELSON/NGC5548_SX.dat:\t(267, 3)\n",
            "dims of /content/hetvae/data/EDELSON/NGC5548_M2.dat:\t(248, 3)\n",
            "dims of /content/hetvae/data/EDELSON/NGC5548_W1.dat:\t(260, 3)\n",
            "dims of /content/hetvae/data/EDELSON/NGC5548_W2.dat:\t(259, 3)\n",
            "dims of /content/hetvae/data/EDELSON/NGC5548_HX.dat:\t(267, 3)\n",
            "dims of /content/hetvae/data/EDELSON/NGC5548_SX.dat:\t(267, 3)\n",
            "dims of /content/hetvae/data/EDELSON/NGC5548_M2.dat:\t(248, 3)\n",
            "dims of /content/hetvae/data/EDELSON/NGC5548_W1.dat:\t(260, 3)\n",
            "dims of /content/hetvae/data/EDELSON/NGC5548_W2.dat:\t(259, 3)\n",
            "dims of /content/hetvae/data/EDELSON/NGC5548_HX.dat:\t(267, 3)\n",
            "dims of /content/hetvae/data/EDELSON/NGC5548_SX.dat:\t(267, 3)\n",
            "dims of /content/hetvae/data/EDELSON/NGC5548_M2.dat:\t(248, 3)\n",
            "dims of /content/hetvae/data/EDELSON/NGC5548_W1.dat:\t(260, 3)\n",
            "dims of /content/hetvae/data/EDELSON/NGC5548_W2.dat:\t(259, 3)\n",
            "dims of /content/hetvae/data/EDELSON/NGC5548_HX.dat:\t(267, 3)\n",
            "dims of /content/hetvae/data/EDELSON/NGC5548_SX.dat:\t(267, 3)\n",
            "dims of /content/hetvae/data/EDELSON/NGC5548_M2.dat:\t(248, 3)\n",
            "dims of /content/hetvae/data/EDELSON/NGC5548_W1.dat:\t(260, 3)\n",
            "dims of /content/hetvae/data/EDELSON/NGC5548_W2.dat:\t(259, 3)\n",
            "dims of /content/hetvae/data/EDELSON/NGC5548_HX.dat:\t(267, 3)\n",
            "dims of /content/hetvae/data/EDELSON/NGC5548_SX.dat:\t(267, 3)\n",
            "dims of /content/hetvae/data/EDELSON/NGC5548_M2.dat:\t(248, 3)\n",
            "dims of /content/hetvae/data/EDELSON/NGC5548_W1.dat:\t(260, 3)\n",
            "dims of /content/hetvae/data/EDELSON/NGC5548_W2.dat:\t(259, 3)\n",
            "dims of /content/hetvae/data/EDELSON/NGC5548_HX.dat:\t(267, 3)\n",
            "dims of /content/hetvae/data/EDELSON/NGC5548_SX.dat:\t(267, 3)\n",
            "dims of /content/hetvae/data/EDELSON/NGC5548_M2.dat:\t(248, 3)\n",
            "dims of /content/hetvae/data/EDELSON/NGC5548_W1.dat:\t(260, 3)\n",
            "dims of /content/hetvae/data/EDELSON/NGC5548_W2.dat:\t(259, 3)\n",
            "dims of /content/hetvae/data/EDELSON/NGC5548_HX.dat:\t(267, 3)\n",
            "dims of /content/hetvae/data/EDELSON/NGC5548_SX.dat:\t(267, 3)\n",
            "dims of /content/hetvae/data/EDELSON/NGC5548_M2.dat:\t(248, 3)\n",
            "dims of /content/hetvae/data/EDELSON/NGC5548_W1.dat:\t(260, 3)\n",
            "dims of /content/hetvae/data/EDELSON/NGC5548_W2.dat:\t(259, 3)\n",
            "dims of /content/hetvae/data/EDELSON/NGC5548_HX.dat:\t(267, 3)\n",
            "dims of /content/hetvae/data/EDELSON/NGC5548_SX.dat:\t(267, 3)\n",
            "dims of /content/hetvae/data/EDELSON/NGC5548_M2.dat:\t(248, 3)\n",
            "dims of /content/hetvae/data/EDELSON/NGC5548_W1.dat:\t(260, 3)\n",
            "dims of /content/hetvae/data/EDELSON/NGC5548_W2.dat:\t(259, 3)\n",
            "dims of /content/hetvae/data/EDELSON/NGC5548_HX.dat:\t(267, 3)\n",
            "dims of /content/hetvae/data/EDELSON/NGC5548_SX.dat:\t(267, 3)\n",
            "dims of /content/hetvae/data/EDELSON/NGC5548_M2.dat:\t(248, 3)\n",
            "dims of /content/hetvae/data/EDELSON/NGC5548_W1.dat:\t(260, 3)\n",
            "dims of /content/hetvae/data/EDELSON/NGC5548_W2.dat:\t(259, 3)\n",
            "dims of /content/hetvae/data/EDELSON/NGC5548_HX.dat:\t(267, 3)\n",
            "dims of /content/hetvae/data/EDELSON/NGC5548_SX.dat:\t(267, 3)\n",
            "dims of /content/hetvae/data/EDELSON/NGC5548_M2.dat:\t(248, 3)\n",
            "dims of /content/hetvae/data/EDELSON/NGC5548_W1.dat:\t(260, 3)\n",
            "dims of /content/hetvae/data/EDELSON/NGC5548_W2.dat:\t(259, 3)\n",
            "dims of /content/hetvae/data/EDELSON/NGC5548_HX.dat:\t(267, 3)\n",
            "dims of /content/hetvae/data/EDELSON/NGC5548_SX.dat:\t(267, 3)\n",
            "dims of /content/hetvae/data/EDELSON/NGC5548_M2.dat:\t(248, 3)\n",
            "dims of /content/hetvae/data/EDELSON/NGC5548_W1.dat:\t(260, 3)\n",
            "dims of /content/hetvae/data/EDELSON/NGC5548_W2.dat:\t(259, 3)\n",
            "dims of /content/hetvae/data/EDELSON/NGC5548_HX.dat:\t(267, 3)\n",
            "dims of /content/hetvae/data/EDELSON/NGC5548_SX.dat:\t(267, 3)\n",
            "dims of /content/hetvae/data/EDELSON/NGC5548_M2.dat:\t(248, 3)\n",
            "dims of /content/hetvae/data/EDELSON/NGC5548_W1.dat:\t(260, 3)\n",
            "dims of /content/hetvae/data/EDELSON/NGC5548_W2.dat:\t(259, 3)\n",
            "dims of /content/hetvae/data/EDELSON/NGC5548_HX.dat:\t(267, 3)\n",
            "dims of /content/hetvae/data/EDELSON/NGC5548_SX.dat:\t(267, 3)\n",
            "dims of /content/hetvae/data/EDELSON/NGC5548_M2.dat:\t(248, 3)\n",
            "dims of /content/hetvae/data/EDELSON/NGC5548_W1.dat:\t(260, 3)\n",
            "dims of /content/hetvae/data/EDELSON/NGC5548_W2.dat:\t(259, 3)\n",
            "dims of /content/hetvae/data/EDELSON/NGC5548_HX.dat:\t(267, 3)\n",
            "dims of /content/hetvae/data/EDELSON/NGC5548_SX.dat:\t(267, 3)\n",
            "dims of /content/hetvae/data/EDELSON/NGC5548_M2.dat:\t(248, 3)\n",
            "dims of /content/hetvae/data/EDELSON/NGC5548_W1.dat:\t(260, 3)\n",
            "dims of /content/hetvae/data/EDELSON/NGC5548_W2.dat:\t(259, 3)\n",
            "dims of /content/hetvae/data/EDELSON/NGC5548_HX.dat:\t(267, 3)\n",
            "dims of /content/hetvae/data/EDELSON/NGC5548_SX.dat:\t(267, 3)\n",
            "dims of /content/hetvae/data/EDELSON/NGC5548_M2.dat:\t(248, 3)\n",
            "--------------------------------------------------\n",
            "256\n"
          ]
        },
        {
          "output_type": "execute_result",
          "data": {
            "text/plain": [
              "(128, 67, 3)"
            ]
          },
          "metadata": {},
          "execution_count": 204
        }
      ]
    },
    {
      "cell_type": "code",
      "source": [
        ""
      ],
      "metadata": {
        "id": "J_bj2WiUEno7"
      },
      "execution_count": 137,
      "outputs": []
    },
    {
      "cell_type": "code",
      "source": [
        "# round? \n",
        "std_time = np.std(union_tp)\n",
        "#std_flux = np.std(lcs[:,:,1].flatten())\n",
        "#mean_flux = np.mean(lcs[:,:,1].flatten())\n",
        "union_tp = union_tp / std_time\n",
        "lcs[:,:,0] = lcs[:,:,0] / std_time\n",
        "\n",
        "# normalize flux for light curves individually\n",
        "for lc in lcs:\n",
        "  lc[:,1] = lc[:,1] / np.std(lc[:,1])\n",
        "\n",
        "\n"
      ],
      "metadata": {
        "id": "tks0rbVIz-1A"
      },
      "execution_count": 205,
      "outputs": []
    },
    {
      "cell_type": "code",
      "source": [
        ""
      ],
      "metadata": {
        "id": "92CjTfFWnOTd"
      },
      "execution_count": null,
      "outputs": []
    },
    {
      "cell_type": "code",
      "source": [
        "lcs = lcs.astype(np.float32)\n",
        "union_tp = union_tp.astype(np.float32)\n",
        "union_tp = torch.tensor(union_tp)\n",
        "train_loader = torch.utils.data.DataLoader(lcs, batch_size=8)\n",
        "dim = 1"
      ],
      "metadata": {
        "id": "2YGZeqo2g4e9"
      },
      "execution_count": 206,
      "outputs": []
    },
    {
      "cell_type": "markdown",
      "metadata": {
        "id": "9AMjSKXYobJx"
      },
      "source": [
        "\n",
        "\n",
        "```\n",
        "# This is formatted as code\n",
        "```\n",
        "\n",
        "## Setting up arguments"
      ]
    },
    {
      "cell_type": "code",
      "source": [
        "class Namespace:\n",
        "    def __init__(self, **kwargs):\n",
        "        self.__dict__.update(kwargs)"
      ],
      "metadata": {
        "id": "lrDc-45iHcJm"
      },
      "execution_count": 207,
      "outputs": []
    },
    {
      "cell_type": "code",
      "metadata": {
        "id": "PUdH2aGzifXQ"
      },
      "source": [
        "args = Namespace(batch_size=8, bound_variance=True, const_var=False, dataset='toy', dropout=0.0, \n",
        "                 elbo_weight=1.0, embed_time=128, enc_num_heads=1, intensity=True, k_iwae=1, kl_annealing=False, \n",
        "                 kl_zero=False, latent_dim=64, lr=0.000001, mixing='concat', mse_weight=0.0, n=256, net='hetvae', \n",
        "                 niters=1000, norm=False, normalize_input='znorm', num_ref_points=64, rec_hidden=64, recon_loss=False, \n",
        "                 sample_tp=0.5, save=True, seed=0, shuffle=True, std=0.1, var_per_dim=False, width=512)"
      ],
      "execution_count": 219,
      "outputs": []
    },
    {
      "cell_type": "code",
      "metadata": {
        "id": "duBTaWMokd1T"
      },
      "source": [
        "seed = args.seed\n",
        "torch.manual_seed(seed)\n",
        "np.random.seed(seed)\n",
        "torch.cuda.manual_seed(seed)"
      ],
      "execution_count": 209,
      "outputs": []
    },
    {
      "cell_type": "code",
      "metadata": {
        "colab": {
          "base_uri": "https://localhost:8080/"
        },
        "id": "5b4ufWPlkpmN",
        "outputId": "25ab3fdd-639c-444f-ad6c-e2a11518958b"
      },
      "source": [
        "device = torch.device('cuda' if torch.cuda.is_available() else 'cpu')\n",
        "device"
      ],
      "execution_count": 210,
      "outputs": [
        {
          "output_type": "execute_result",
          "data": {
            "text/plain": [
              "device(type='cuda')"
            ]
          },
          "metadata": {},
          "execution_count": 210
        }
      ]
    },
    {
      "cell_type": "code",
      "source": [
        "lcs.shape"
      ],
      "metadata": {
        "id": "ZZgvB4P55j0_",
        "outputId": "b8df3cc7-c193-48f0-e57e-8f8bc4f39478",
        "colab": {
          "base_uri": "https://localhost:8080/"
        }
      },
      "execution_count": 211,
      "outputs": [
        {
          "output_type": "execute_result",
          "data": {
            "text/plain": [
              "(128, 67, 3)"
            ]
          },
          "metadata": {},
          "execution_count": 211
        }
      ]
    },
    {
      "cell_type": "markdown",
      "metadata": {
        "id": "Fu4NfxiUojxk"
      },
      "source": [
        "## **Generating Synthetic Data**"
      ]
    },
    {
      "cell_type": "code",
      "source": [
        "# why is it subtracting 1 for the recon mask?\n",
        "# dataset class that loads agn by folder you give it? agn object, agn.addLC('').addLC('')\n",
        "# what is happening with the normalizations...\n",
        "# kl negative? negative losses in general???\n",
        "# make this capable of running on GPU\n",
        "# fixing visualization\n",
        "# adding error bars in the loss function?\n",
        "# is my union_tp right? \n",
        "# different sequence sizes, some drastically shorter... how to make this not matter? does it? \n",
        "\n",
        "\n",
        "# do we subsample the light curve like they do...?\n",
        "# i guess we do because you're just randomly selecting points each go round...\n",
        "\n",
        "\n",
        "# make the masks beforehand...\n",
        "def make_masks(lcs, batch_size=8, frac=0.4):\n",
        "  # will depend on dimensions later\n",
        "  subsampled_mask = np.zeros_like(lcs[:,:,1])\n",
        "  recon_mask = np.zeros_like(lcs[:,:,1])\n",
        "  for i,lc in enumerate(lcs):\n",
        "    indexes = lc[:,1].nonzero()[0]\n",
        "    # this should vary relativ\n",
        "    length = int(np.round(len(indexes) * frac))\n",
        "    obs_points = np.sort(np.random.choice(indexes, size=length, replace=False))\n",
        "    subsampled_mask[i, obs_points] = 1\n",
        "    #recon_mask[i] = np.logical_not(subsampled_mask[i])\n",
        "\n",
        "    recon_mask[i] = np.logical_xor(lc[:,1], subsampled_mask[i])\n",
        "\n",
        "  recon_mask = np.split(recon_mask, len(subsampled_mask) / batch_size)\n",
        "  subsampled_mask = np.split(subsampled_mask, len(subsampled_mask) / batch_size)\n",
        "  return subsampled_mask, recon_mask\n",
        "\n",
        "smask, rmask = make_masks(lcs, batch_size=8)\n",
        "print(smask[-1].shape)\n",
        "\n",
        "\n"
      ],
      "metadata": {
        "id": "twW6b7C2q8D6",
        "outputId": "fd7b9d42-18cb-45ea-a70c-84af2ed4d099",
        "colab": {
          "base_uri": "https://localhost:8080/"
        }
      },
      "execution_count": 212,
      "outputs": [
        {
          "output_type": "stream",
          "name": "stdout",
          "text": [
            "(8, 67)\n"
          ]
        }
      ]
    },
    {
      "cell_type": "markdown",
      "metadata": {
        "id": "udt437lzovHw"
      },
      "source": [
        "## **Loading HeTVAE model**"
      ]
    },
    {
      "cell_type": "code",
      "source": [
        "print(smask[0][0].sum(), rmask[0][0].sum())\n",
        "# right now we are turning every point thats not a 1 in the smask subset to rmask"
      ],
      "metadata": {
        "colab": {
          "base_uri": "https://localhost:8080/"
        },
        "id": "szQGXV9FY49t",
        "outputId": "7144b88d-35db-40d3-fd6e-89afb0983713"
      },
      "execution_count": 186,
      "outputs": [
        {
          "output_type": "stream",
          "name": "stdout",
          "text": [
            "26.0 39.0\n"
          ]
        }
      ]
    },
    {
      "cell_type": "code",
      "source": [
        "net = models.load_network(args, dim, union_tp) # dim = 1\n",
        "params = list(net.parameters())\n",
        "optimizer = optim.Adam(params, lr=.0001)\n",
        "# definitly want a decaying error rate...\n",
        "\n",
        "#scheduler = torch.optim.lr_scheduler.MultiStepLR(optimizer, milestones=[600*8,700*8], gamma=0.1)\n"
      ],
      "metadata": {
        "id": "q1voi00cj_5v"
      },
      "execution_count": 221,
      "outputs": []
    },
    {
      "cell_type": "code",
      "source": [
        "train_batch.shape\n",
        "subsampled_mask.shape\n"
      ],
      "metadata": {
        "id": "UkfjF0t9Kap9",
        "outputId": "64df7038-8fdb-413f-96be-16b4d14e694e",
        "colab": {
          "base_uri": "https://localhost:8080/"
        }
      },
      "execution_count": 203,
      "outputs": [
        {
          "output_type": "execute_result",
          "data": {
            "text/plain": [
              "torch.Size([9, 67, 1])"
            ]
          },
          "metadata": {},
          "execution_count": 203
        }
      ]
    },
    {
      "cell_type": "markdown",
      "metadata": {
        "id": "a58EIBLfnj3v"
      },
      "source": [
        "## **Training**"
      ]
    },
    {
      "cell_type": "markdown",
      "source": [
        ""
      ],
      "metadata": {
        "id": "JE78L00Flifr"
      }
    },
    {
      "cell_type": "code",
      "source": [
        "for epoch in range(1, 1000+1):#args.niters + 1):\n",
        "      train_loss = 0\n",
        "      train_n = 0\n",
        "      avg_loglik, avg_kl, mse, mae = 0, 0, 0, 0\n",
        "      for i, train_batch in enumerate(train_loader):\n",
        "          batch_len = train_batch.shape[0] \n",
        "          train_batch = train_batch.to(device)\n",
        "          subsampled_mask = torch.tensor(smask[i][:, :, np.newaxis]).to(device) # should look like our flux values?\n",
        "          recon_mask = torch.tensor(rmask[i][:, :,np.newaxis]).to(device)\n",
        "          seqlen = train_batch.size(1) \n",
        "          # subsampled flux values and their corresponding masks....\n",
        "          context_y = torch.cat((\n",
        "              train_batch[:, :, 1:2] * subsampled_mask, subsampled_mask\n",
        "          ), -1) \n",
        "    # #   def compute_unsupervised_loss(\n",
        "    # #     self, context_x, context_y, target_x, target_y, num_samples=1, beta=1.\n",
        "    # # ):\n",
        "\n",
        "          loss_info = net.compute_unsupervised_loss(\n",
        "              train_batch[:, :, 0], # context_x, times\n",
        "              context_y,             # context_y\n",
        "              train_batch[:, :, 0], # target_x, same times? \n",
        "              torch.cat((            # flux values with only recon_mask values showing\n",
        "                  train_batch[:, :, 1:2] * recon_mask, recon_mask\n",
        "              ), -1),\n",
        "              num_samples=args.k_iwae, # 1? \n",
        "              beta=1,       # ? \n",
        "          )\n",
        "          optimizer.zero_grad()\n",
        "          loss_info.composite_loss.backward()\n",
        "          optimizer.step()\n",
        "          #scheduler.step()\n",
        "          train_loss += loss_info.composite_loss.item() * batch_len\n",
        "          avg_loglik += loss_info.loglik * batch_len\n",
        "          avg_kl += loss_info.kl * batch_len\n",
        "          mse += loss_info.mse * batch_len\n",
        "          mae += loss_info.mae * batch_len\n",
        "          train_n += batch_len\n",
        "\n",
        "      if epoch % 100 == 0:\n",
        "          print(\n",
        "              'Iter: {}, train loss: {:.4f}, avg nll: {:.4f}, avg kl: {:.4f}, '\n",
        "              'mse: {:.6f}, mae: {:.6f}'.format(\n",
        "                  epoch,\n",
        "                  train_loss / train_n,\n",
        "                  -avg_loglik / train_n,\n",
        "                  avg_kl / train_n,\n",
        "                  mse / train_n,\n",
        "                  mae / train_n\n",
        "              )\n",
        "          )\n",
        "    #       for loader, num_samples in [(val_loader, 5), (test_loader, 100)]:\n",
        "    #           utils.evaluate_hetvae(\n",
        "    #               net,\n",
        "    #               dim,\n",
        "    #               loader,\n",
        "    #               0.5,\n",
        "    #               shuffle=False,\n",
        "    #               k_iwae=num_samples,\n",
        "    #               model_name=args.net,\n",
        "    #           )"
      ],
      "metadata": {
        "id": "wdgcWN0blrM3",
        "outputId": "f4a11157-1cf2-4d77-d038-7097099ee8a1",
        "colab": {
          "base_uri": "https://localhost:8080/"
        }
      },
      "execution_count": 222,
      "outputs": [
        {
          "output_type": "stream",
          "name": "stdout",
          "text": [
            "Iter: 100, train loss: 37.3381, avg nll: 37.3002, avg kl: 0.0380, mse: 0.476040, mae: 0.519691\n",
            "Iter: 200, train loss: 35.7717, avg nll: 35.7464, avg kl: 0.0254, mse: 0.450930, mae: 0.503084\n",
            "Iter: 300, train loss: 33.3178, avg nll: 33.2950, avg kl: 0.0228, mse: 0.387989, mae: 0.467161\n",
            "Iter: 400, train loss: 30.6198, avg nll: 30.5862, avg kl: 0.0336, mse: 0.332854, mae: 0.424765\n",
            "Iter: 500, train loss: 29.8270, avg nll: 29.7819, avg kl: 0.0451, mse: 0.319680, mae: 0.413446\n",
            "Iter: 600, train loss: 29.2008, avg nll: 29.1414, avg kl: 0.0593, mse: 0.315011, mae: 0.408983\n",
            "Iter: 700, train loss: 28.5720, avg nll: 28.5097, avg kl: 0.0623, mse: 0.313444, mae: 0.406459\n",
            "Iter: 800, train loss: 28.1885, avg nll: 28.1061, avg kl: 0.0824, mse: 0.311461, mae: 0.402875\n",
            "Iter: 900, train loss: 27.8769, avg nll: 27.7929, avg kl: 0.0839, mse: 0.307654, mae: 0.399242\n",
            "Iter: 1000, train loss: 27.6183, avg nll: 27.5121, avg kl: 0.1062, mse: 0.307438, mae: 0.398138\n"
          ]
        }
      ]
    },
    {
      "cell_type": "markdown",
      "metadata": {
        "id": "DkXkWKY-nQez"
      },
      "source": [
        "## **Vizualization with increasing number of observations**"
      ]
    },
    {
      "cell_type": "code",
      "metadata": {
        "id": "rfrTzOZes5BN"
      },
      "source": [
        "\n",
        "\n",
        "def viz(test_loader, k_iwae=1, n_max=10):\n",
        "    pred_mean, pred_std = [], []\n",
        "    masks = []\n",
        "    targets = []\n",
        "    tp =[]\n",
        "    np.random.seed(0)\n",
        "    # don't keep track of gradients....\n",
        "    with torch.no_grad():\n",
        "        # how many points we show in the light curve? \n",
        "        for low in [10,30,50]:\n",
        "            for i, batch in enumerate(test_loader):\n",
        "                \n",
        "                batch_len = batch.shape[0]\n",
        "                batch = batch.to(device)\n",
        "                #subsampled_mask = torch.zeros_like(batch[:, :, dim:2 * dim]).to(device)\n",
        "                subsampled_mask = torch.tensor(smask[i][:, :, np.newaxis]).to(device)\n",
        "                seqlen = batch.size(1)\n",
        "                # for i in range(batch_len):\n",
        "                  \n",
        "                #     length = low\n",
        "                #     obs_points = np.sort(np.random.choice(np.arange(seqlen), size=length, replace=False))\n",
        "                #     subsampled_mask[i, obs_points, :] = 1\n",
        "                #recon_mask = batch[:, :, dim:2 * dim] - subsampled_mask\n",
        "                context_y = torch.cat((batch[:, :, 1:2] * subsampled_mask, subsampled_mask), -1)\n",
        "                px, _ = net.get_reconstruction(batch[:, :, 0], context_y, batch[:, :, 0], num_samples=k_iwae)\n",
        "                pred_mean.append(px.mean.cpu().numpy())\n",
        "                pred_std.append(torch.exp(0.5 * px.logvar).cpu().numpy())\n",
        "                targets.append((batch[:, :, 1:2]).cpu().numpy())\n",
        "                masks.append(subsampled_mask.cpu().numpy())\n",
        "                tp.append(batch[:, :, 0].cpu().numpy())\n",
        "                if len(tp) % (n_max // 5) == 0:\n",
        "                    break\n",
        "    pred_mean = np.concatenate(pred_mean, axis=1)\n",
        "    pred_std = np.concatenate(pred_std, axis=1)\n",
        "    targets = np.concatenate(targets, axis=0)\n",
        "    masks = np.concatenate(masks, axis=0)\n",
        "    tp = np.concatenate(tp, axis=0)\n",
        "    inputs = np.ma.masked_where(masks < 1., targets)\n",
        "    print(pred_mean.shape, pred_std.shape, targets.shape, masks.shape, tp.shape)\n",
        "    preds = np.random.randn(k_iwae // 2, k_iwae, pred_mean.shape[1], pred_mean.shape[2], pred_mean.shape[3]) * pred_std + pred_mean\n",
        "    preds = preds.reshape(-1, pred_mean.shape[1], pred_mean.shape[2], pred_mean.shape[3])\n",
        "    median = preds.mean(0) #np.quantile(preds, 0.5, axis=0)\n",
        "    quantile2 = np.quantile(preds, 0.850, axis=0)\n",
        "    quantile1 = np.quantile(preds, 0.150, axis=0)\n",
        "    print(preds.shape)\n",
        "    print(preds)\n",
        "    \n",
        "    w = 2.0\n",
        "    for index in range(n_max):\n",
        "        plt.figure(figsize=(12.5, 1.5))\n",
        "        for j in range(3):\n",
        "            plt.subplot(1, 3, j + 1)\n",
        "            plt.fill_between(tp[n_max * j + index], quantile1[n_max * j + index, :, 0], quantile2[n_max * j + index, :, 0], alpha=0.6, facecolor='#65c9f7', interpolate=True)\n",
        "            plt.plot(tp[n_max * j + index], median[n_max * j + index, :, 0], c='b', lw=w, label='Reconstructions')\n",
        "            #plt.plot(tp[n_max * j + index], gt[index], c='r', lw=w, label='Ground Truth')\n",
        "            plt.scatter(tp[n_max * j + index], inputs[n_max * j + index, :, 0], c='k', lw=w, label='Observed Data')\n",
        "            plt.xlim([0, 1])\n",
        "            plt.xticks([])\n",
        "            plt.yticks([])\n",
        "            if j == 1 and index == 0:\n",
        "                plt.legend(loc='upper center', ncol=3, bbox_to_anchor=(0.6,1.5))\n",
        "            \n",
        "        plt.show()\n"
      ],
      "execution_count": 225,
      "outputs": []
    },
    {
      "cell_type": "code",
      "source": [
        "\n",
        "torch.cuda.empty_cache()\n",
        "pred_mean, pred_std = [],[]\n",
        "masks = []\n",
        "targets = []\n",
        "tp = []\n",
        "k_iwae = 10\n",
        "np.random.seed(0)\n",
        "with torch.no_grad():\n",
        "  batch = next(iter(train_loader)).to(device)\n",
        "  print(batch.shape)\n",
        "  batch_len = len(batch)\n",
        "  subsampled_mask = torch.tensor(smask[i][:, :, np.newaxis]).to(device)\n",
        "  seqlen = batch.size(1)\n",
        "  context_y = torch.cat((batch[:,:,1:2] * subsampled_mask, subsampled_mask), -1)\n",
        "  context_y = torch.cat((batch[:, :, :dim] * subsampled_mask, subsampled_mask), -1)\n",
        "  px, _ = net.get_reconstruction(batch[:, :, 0], context_y, batch[:, :, 0], num_samples=k_iwae)\n",
        "  pred = px.mean.cpu().numpy()\n",
        "  pred_std = torch.exp(0.5 * px.logvar).cpu().numpy() # e^(0.5 * logvar)\n",
        "\n",
        "points = batch.cpu().numpy()\n"
      ],
      "metadata": {
        "id": "CNez59ymWYyu",
        "colab": {
          "base_uri": "https://localhost:8080/"
        },
        "outputId": "53c1c4e8-fbdb-426a-c348-91deb6f04e0f"
      },
      "execution_count": 110,
      "outputs": [
        {
          "output_type": "stream",
          "name": "stdout",
          "text": [
            "torch.Size([8, 267, 3])\n"
          ]
        }
      ]
    },
    {
      "cell_type": "code",
      "source": [
        "avg_stds = np.mean(pred_std, axis=0)\n",
        "avg_means = np.mean(pred, axis=0)\n",
        "# sample from those, \n",
        "\n"
      ],
      "metadata": {
        "id": "XXNyfyGi-5zk"
      },
      "execution_count": 125,
      "outputs": []
    },
    {
      "cell_type": "code",
      "source": [
        "test = smask[0][0,:] * points[0,:,1]"
      ],
      "metadata": {
        "id": "_uRiMKLDCEya"
      },
      "execution_count": 135,
      "outputs": []
    },
    {
      "cell_type": "code",
      "source": [
        "plt.scatter(points[0,:,0], test)"
      ],
      "metadata": {
        "id": "SUBr8FjlEB0t",
        "outputId": "a24e132c-208b-4356-c9e3-2f5ec86738db",
        "colab": {
          "base_uri": "https://localhost:8080/",
          "height": 282
        }
      },
      "execution_count": 136,
      "outputs": [
        {
          "output_type": "execute_result",
          "data": {
            "text/plain": [
              "<matplotlib.collections.PathCollection at 0x7f7a6d924ad0>"
            ]
          },
          "metadata": {},
          "execution_count": 136
        },
        {
          "output_type": "display_data",
          "data": {
            "text/plain": [
              "<Figure size 432x288 with 1 Axes>"
            ],
            "image/png": "[encoded data removed]"
          },
          "metadata": {
            "needs_background": "light"
          }
        }
      ]
    },
    {
      "cell_type": "code",
      "source": [
        "plt.scatter(points[0,:,0], points[0,:,1])\n",
        "plt.scatter(points[0,:,0], avg_means[0,:,0])"
      ],
      "metadata": {
        "id": "DKrtYChvB4my",
        "outputId": "e878ca04-6567-45bf-9a68-2cd848e1f566",
        "colab": {
          "base_uri": "https://localhost:8080/",
          "height": 283
        }
      },
      "execution_count": 128,
      "outputs": [
        {
          "output_type": "execute_result",
          "data": {
            "text/plain": [
              "<matplotlib.collections.PathCollection at 0x7f7a6da38e90>"
            ]
          },
          "metadata": {},
          "execution_count": 128
        },
        {
          "output_type": "display_data",
          "data": {
            "text/plain": [
              "<Figure size 432x288 with 1 Axes>"
            ],
            "image/png": "[encoded data removed]"
          },
          "metadata": {
            "needs_background": "light"
          }
        }
      ]
    },
    {
      "cell_type": "code",
      "source": [
        ""
      ],
      "metadata": {
        "id": "7lvlWmFgEBbw"
      },
      "execution_count": null,
      "outputs": []
    },
    {
      "cell_type": "code",
      "source": [
        "zeros = points[0,:,1] == 0\n",
        "points[0,zeros,1] = float('nan')\n",
        "plt.scatter(points[0,:,0], points[0,:,1])\n",
        "\n",
        "points[0,:,1].shape"
      ],
      "metadata": {
        "id": "eyHYAqJrbnhE",
        "outputId": "ef4b548f-21be-48d8-d9e2-99772df67399",
        "colab": {
          "base_uri": "https://localhost:8080/",
          "height": 285
        }
      },
      "execution_count": 90,
      "outputs": [
        {
          "output_type": "execute_result",
          "data": {
            "text/plain": [
              "(267,)"
            ]
          },
          "metadata": {},
          "execution_count": 90
        },
        {
          "output_type": "display_data",
          "data": {
            "text/plain": [
              "<Figure size 432x288 with 1 Axes>"
            ],
            "image/png": "[encoded data removed]"
          },
          "metadata": {
            "needs_background": "light"
          }
        }
      ]
    },
    {
      "cell_type": "code",
      "source": [
        ""
      ],
      "metadata": {
        "id": "dr5ffdDj-5aE"
      },
      "execution_count": null,
      "outputs": []
    },
    {
      "cell_type": "code",
      "source": [
        "plt.scatter(lcs[1][:,0], lcs[1][:,1])"
      ],
      "metadata": {
        "id": "aY1oJFsp2ppY",
        "outputId": "44dc8822-f4a4-4592-eee7-6121c92cf8a8",
        "colab": {
          "base_uri": "https://localhost:8080/",
          "height": 282
        }
      },
      "execution_count": 75,
      "outputs": [
        {
          "output_type": "execute_result",
          "data": {
            "text/plain": [
              "<matplotlib.collections.PathCollection at 0x7f7a6df02b50>"
            ]
          },
          "metadata": {},
          "execution_count": 75
        },
        {
          "output_type": "display_data",
          "data": {
            "text/plain": [
              "<Figure size 432x288 with 1 Axes>"
            ],
            "image/png": "[encoded data removed]"
          },
          "metadata": {
            "needs_background": "light"
          }
        }
      ]
    },
    {
      "cell_type": "code",
      "source": [
        "points.shape"
      ],
      "metadata": {
        "id": "xboQ1Vh-0vRj",
        "outputId": "f3c67b6f-00c3-41ce-c029-141d2e9d818f",
        "colab": {
          "base_uri": "https://localhost:8080/"
        }
      },
      "execution_count": null,
      "outputs": [
        {
          "output_type": "execute_result",
          "data": {
            "text/plain": [
              "(2, 267, 3)"
            ]
          },
          "metadata": {},
          "execution_count": 438
        }
      ]
    },
    {
      "cell_type": "code",
      "source": [
        "\n",
        "std_flux = np.std(points[:, :, 1].flatten())\n",
        "print(std_flux)\n",
        "#points[:,:,1] = points[:,:,1] / std_flux\n",
        "print(std_flux)"
      ],
      "metadata": {
        "id": "5n8OGC4PbXA0",
        "outputId": "6da9fc7a-cbd2-414e-ed2d-f4876f6ad102",
        "colab": {
          "base_uri": "https://localhost:8080/"
        }
      },
      "execution_count": null,
      "outputs": [
        {
          "output_type": "stream",
          "name": "stdout",
          "text": [
            "0.7733767\n",
            "0.7733767\n"
          ]
        }
      ]
    },
    {
      "cell_type": "code",
      "source": [
        "zeros = points[0,:,1] == 0\n",
        "points[0,zeros,1] = float('nan')"
      ],
      "metadata": {
        "id": "FA9SYFg-XQxP"
      },
      "execution_count": 91,
      "outputs": []
    },
    {
      "cell_type": "code",
      "source": [
        "pred.shape"
      ],
      "metadata": {
        "id": "Et3naSeVa5Mp",
        "colab": {
          "base_uri": "https://localhost:8080/"
        },
        "outputId": "abcd949f-8ae4-4bae-94d4-4801d852a055"
      },
      "execution_count": null,
      "outputs": [
        {
          "output_type": "execute_result",
          "data": {
            "text/plain": [
              "(10, 2, 267, 1)"
            ]
          },
          "metadata": {},
          "execution_count": 437
        }
      ]
    },
    {
      "cell_type": "code",
      "source": [
        "pred.shape # k, batch, num points.... so k samples, for each batch, for each time point \n",
        "\n",
        "fig, ax = plt.subplots()\n",
        "# normalizing problem? \n",
        "ax.plot(points[0,:,0], points[0,:,1])\n",
        "ax.plot(points[0,:,0], pred[0,6,:,0])"
      ],
      "metadata": {
        "id": "RGnRo5erUs2L",
        "outputId": "f6b34a07-82ad-4119-ad79-44d5a687d881",
        "colab": {
          "base_uri": "https://localhost:8080/",
          "height": 285
        }
      },
      "execution_count": 103,
      "outputs": [
        {
          "output_type": "execute_result",
          "data": {
            "text/plain": [
              "[<matplotlib.lines.Line2D at 0x7f7a6de56450>]"
            ]
          },
          "metadata": {},
          "execution_count": 103
        },
        {
          "output_type": "display_data",
          "data": {
            "text/plain": [
              "<Figure size 432x288 with 1 Axes>"
            ],
            "image/png": "[encoded data removed]"
          },
          "metadata": {
            "needs_background": "light"
          }
        }
      ]
    },
    {
      "cell_type": "code",
      "source": [
        ""
      ],
      "metadata": {
        "id": "wsxHcLGWZ_2o"
      },
      "execution_count": null,
      "outputs": []
    },
    {
      "cell_type": "code",
      "source": [
        "batch = next(iter(train_loader))[:,:,1]"
      ],
      "metadata": {
        "id": "0tfFTyw0SPi4"
      },
      "execution_count": null,
      "outputs": []
    },
    {
      "cell_type": "code",
      "source": [
        "batch[0,:,1]"
      ],
      "metadata": {
        "id": "FjhmpgXcUsKc",
        "colab": {
          "base_uri": "https://localhost:8080/"
        },
        "outputId": "e1686a17-25d5-4b59-9b16-ae5dc74623b5"
      },
      "execution_count": 65,
      "outputs": [
        {
          "output_type": "execute_result",
          "data": {
            "text/plain": [
              "tensor([0.6520, 0.5760, 0.4920, 0.4910, 0.3720, 0.3990, 0.3650, 0.3560, 0.4190,\n",
              "        0.4850, 0.4030, 0.5120, 0.5580, 0.6040, 0.7380, 0.6310, 0.4950, 0.5490,\n",
              "        0.5690, 0.5190, 0.4890, 0.5300, 0.4090, 0.3710, 0.2750, 0.2170, 0.1810,\n",
              "        0.1750, 0.1750, 0.2460, 0.3790, 0.3530, 0.5000, 0.4400, 0.4930, 0.5880,\n",
              "        0.5690, 0.4900, 0.3960, 0.4040, 0.3800, 0.3710, 0.3730, 0.3110, 0.1840,\n",
              "        0.3190, 0.3250, 0.5290, 0.5920, 0.5700, 0.5490, 0.6120, 0.5740, 0.5740,\n",
              "        0.6650, 0.6340, 0.6190, 0.6060, 0.6700, 0.5420, 0.7860, 0.8120, 0.6890,\n",
              "        0.6870, 0.7500, 0.8450, 0.7250, 0.8120, 0.6790, 0.7890, 0.6710, 0.7570,\n",
              "        0.6540, 0.5120, 0.5090, 0.6240, 0.8100, 0.5050, 0.6670, 0.7380, 0.7130,\n",
              "        0.6400, 0.7380, 0.4830, 0.5480, 0.5950, 0.5320, 0.5730, 0.5910, 0.7220,\n",
              "        0.6680, 0.6550, 0.8380, 0.5710, 0.6030, 0.5570, 0.5270, 0.3850, 0.3690,\n",
              "        0.4430, 0.6540, 0.5170, 0.6270, 0.5750, 0.6180, 0.4630, 0.4000, 0.5020,\n",
              "        0.5460, 0.6550, 0.6880, 0.6990, 0.6360, 0.8210, 0.6510, 0.6640, 0.7970,\n",
              "        0.8700, 0.7800, 0.9040, 0.7770, 0.6640, 0.6900, 0.5730, 0.5730, 0.5490,\n",
              "        0.3210, 0.3440, 0.3840, 0.4580, 0.3970, 0.6460, 0.6640, 0.5270, 0.5510,\n",
              "        0.5870, 0.4400, 0.3420, 0.3820, 0.4650, 0.4500, 0.5040, 0.2200, 0.2910,\n",
              "        0.2810, 0.2820, 0.2930, 0.3680, 0.3970, 0.5080, 0.4840, 0.5790, 0.6430,\n",
              "        0.6670, 0.5710, 0.4050, 0.3510, 0.3000, 0.3850, 0.3030, 0.2410, 0.2690,\n",
              "        0.2770, 0.3400, 0.2640, 0.2510, 0.2810, 0.3840, 0.4180, 0.5460, 0.5610,\n",
              "        0.4700, 0.4530, 0.4330, 0.4320, 0.3230, 0.3880, 0.3720, 0.4070, 0.3530,\n",
              "        0.3180, 0.3270, 0.4340, 0.5020, 0.4510, 0.4900, 0.4200, 0.4610, 0.4080,\n",
              "        0.5200, 0.0000, 0.0000, 0.0000, 0.0000, 0.0000, 0.0000, 0.0000, 0.0000,\n",
              "        0.0000, 0.0000, 0.0000, 0.0000, 0.0000, 0.0000, 0.0000, 0.0000, 0.0000,\n",
              "        0.0000, 0.0000, 0.0000, 0.0000, 0.0000, 0.0000, 0.0000, 0.0000, 0.0000,\n",
              "        0.0000, 0.0000, 0.0000, 0.0000, 0.0000, 0.0000, 0.0000, 0.0000, 0.0000,\n",
              "        0.0000, 0.0000, 0.0000, 0.0000, 0.0000, 0.0000, 0.0000, 0.0000, 0.0000,\n",
              "        0.0000, 0.0000, 0.0000, 0.0000, 0.0000, 0.0000, 0.0000, 0.0000, 0.0000,\n",
              "        0.0000, 0.0000, 0.0000, 0.0000, 0.0000, 0.0000, 0.0000, 0.0000, 0.0000,\n",
              "        0.0000, 0.0000, 0.0000, 0.0000, 0.0000, 0.0000, 0.0000, 0.0000, 0.0000,\n",
              "        0.0000, 0.0000, 0.0000, 0.0000, 0.0000, 0.0000], device='cuda:0')"
            ]
          },
          "metadata": {},
          "execution_count": 65
        }
      ]
    },
    {
      "cell_type": "code",
      "metadata": {
        "colab": {
          "base_uri": "https://localhost:8080/",
          "height": 1000
        },
        "id": "N3keG-7Urr69",
        "outputId": "741fba36-c4ec-4ab4-b80c-466a906848ab"
      },
      "source": [
        "viz(train_loader, k_iwae=15)"
      ],
      "execution_count": 226,
      "outputs": [
        {
          "output_type": "stream",
          "name": "stdout",
          "text": [
            "(15, 48, 67, 1) (15, 48, 67, 1) (48, 67, 1) (48, 67, 1) (48, 67)\n",
            "(105, 48, 67, 1)\n",
            "[[[[4.80731413]\n",
            "   [4.08696571]\n",
            "   [4.36700656]\n",
            "   ...\n",
            "   [5.40127857]\n",
            "   [3.68468903]\n",
            "   [3.04795849]]\n",
            "\n",
            "  [[3.39167723]\n",
            "   [2.64252679]\n",
            "   [3.14830622]\n",
            "   ...\n",
            "   [5.20732832]\n",
            "   [2.77634948]\n",
            "   [3.15847606]]\n",
            "\n",
            "  [[2.40449505]\n",
            "   [3.14653984]\n",
            "   [3.07929833]\n",
            "   ...\n",
            "   [3.95527551]\n",
            "   [3.55378674]\n",
            "   [2.72562882]]\n",
            "\n",
            "  ...\n",
            "\n",
            "  [[1.20324391]\n",
            "   [0.94375982]\n",
            "   [1.12154504]\n",
            "   ...\n",
            "   [1.14324822]\n",
            "   [1.34662578]\n",
            "   [1.37034793]]\n",
            "\n",
            "  [[4.36618134]\n",
            "   [1.88044123]\n",
            "   [2.74792689]\n",
            "   ...\n",
            "   [2.59236319]\n",
            "   [2.39134868]\n",
            "   [2.74768125]]\n",
            "\n",
            "  [[3.21044427]\n",
            "   [3.41673957]\n",
            "   [3.38499965]\n",
            "   ...\n",
            "   [4.78256899]\n",
            "   [3.24268416]\n",
            "   [3.65077028]]]\n",
            "\n",
            "\n",
            " [[[3.81455553]\n",
            "   [2.99668829]\n",
            "   [3.29973354]\n",
            "   ...\n",
            "   [5.30823461]\n",
            "   [3.72458489]\n",
            "   [3.59632152]]\n",
            "\n",
            "  [[4.01832373]\n",
            "   [2.76660378]\n",
            "   [3.90885599]\n",
            "   ...\n",
            "   [4.92904915]\n",
            "   [2.99313397]\n",
            "   [3.72213056]]\n",
            "\n",
            "  [[3.17922109]\n",
            "   [2.93185958]\n",
            "   [3.09054867]\n",
            "   ...\n",
            "   [3.66794672]\n",
            "   [2.68949672]\n",
            "   [3.27932604]]\n",
            "\n",
            "  ...\n",
            "\n",
            "  [[0.83440795]\n",
            "   [1.19264143]\n",
            "   [1.68406647]\n",
            "   ...\n",
            "   [1.65839968]\n",
            "   [2.78765133]\n",
            "   [2.47205748]]\n",
            "\n",
            "  [[3.12082044]\n",
            "   [2.31845605]\n",
            "   [2.88510038]\n",
            "   ...\n",
            "   [1.7042369 ]\n",
            "   [2.57329182]\n",
            "   [3.14829267]]\n",
            "\n",
            "  [[3.4445223 ]\n",
            "   [3.17117553]\n",
            "   [4.37602722]\n",
            "   ...\n",
            "   [4.78804743]\n",
            "   [4.01583632]\n",
            "   [2.8400897 ]]]\n",
            "\n",
            "\n",
            " [[[2.96542806]\n",
            "   [3.9104774 ]\n",
            "   [4.53500732]\n",
            "   ...\n",
            "   [4.92042615]\n",
            "   [4.04628207]\n",
            "   [3.42026714]]\n",
            "\n",
            "  [[2.60255777]\n",
            "   [3.05414785]\n",
            "   [2.87143045]\n",
            "   ...\n",
            "   [4.59551356]\n",
            "   [2.3381352 ]\n",
            "   [3.01267144]]\n",
            "\n",
            "  [[2.8977679 ]\n",
            "   [2.53621879]\n",
            "   [2.78297738]\n",
            "   ...\n",
            "   [3.22488541]\n",
            "   [3.05974729]\n",
            "   [3.38010977]]\n",
            "\n",
            "  ...\n",
            "\n",
            "  [[1.31489964]\n",
            "   [1.2218486 ]\n",
            "   [0.45587966]\n",
            "   ...\n",
            "   [1.59269651]\n",
            "   [2.24911195]\n",
            "   [2.00477221]]\n",
            "\n",
            "  [[2.18615489]\n",
            "   [2.56926928]\n",
            "   [1.80561154]\n",
            "   ...\n",
            "   [2.90835435]\n",
            "   [2.40283415]\n",
            "   [2.71426711]]\n",
            "\n",
            "  [[3.40156646]\n",
            "   [3.40358911]\n",
            "   [3.50852512]\n",
            "   ...\n",
            "   [4.96930812]\n",
            "   [4.1427182 ]\n",
            "   [3.70291254]]]\n",
            "\n",
            "\n",
            " ...\n",
            "\n",
            "\n",
            " [[[4.21278599]\n",
            "   [3.01930788]\n",
            "   [3.09926329]\n",
            "   ...\n",
            "   [5.45475566]\n",
            "   [3.35920691]\n",
            "   [4.59958861]]\n",
            "\n",
            "  [[2.7258121 ]\n",
            "   [3.30737859]\n",
            "   [3.11256442]\n",
            "   ...\n",
            "   [4.28097439]\n",
            "   [2.57083473]\n",
            "   [3.07529307]]\n",
            "\n",
            "  [[2.69761957]\n",
            "   [2.82354148]\n",
            "   [3.05127717]\n",
            "   ...\n",
            "   [2.81341895]\n",
            "   [3.02745863]\n",
            "   [2.99367265]]\n",
            "\n",
            "  ...\n",
            "\n",
            "  [[1.30844727]\n",
            "   [0.61560232]\n",
            "   [0.76673553]\n",
            "   ...\n",
            "   [1.63978655]\n",
            "   [1.47050305]\n",
            "   [1.85379161]]\n",
            "\n",
            "  [[3.20173117]\n",
            "   [1.93282429]\n",
            "   [1.79561787]\n",
            "   ...\n",
            "   [2.19855993]\n",
            "   [2.52626216]\n",
            "   [2.70468105]]\n",
            "\n",
            "  [[4.28194352]\n",
            "   [3.66604201]\n",
            "   [4.91975325]\n",
            "   ...\n",
            "   [4.86877208]\n",
            "   [2.66201873]\n",
            "   [3.3109029 ]]]\n",
            "\n",
            "\n",
            " [[[4.3555561 ]\n",
            "   [4.52878097]\n",
            "   [4.31015774]\n",
            "   ...\n",
            "   [4.99637918]\n",
            "   [3.4262073 ]\n",
            "   [3.95871904]]\n",
            "\n",
            "  [[2.98431483]\n",
            "   [2.77922988]\n",
            "   [2.86926365]\n",
            "   ...\n",
            "   [4.9746189 ]\n",
            "   [3.80925914]\n",
            "   [3.82171819]]\n",
            "\n",
            "  [[2.84718672]\n",
            "   [1.9588751 ]\n",
            "   [2.25567245]\n",
            "   ...\n",
            "   [2.68057054]\n",
            "   [2.75387679]\n",
            "   [2.62076497]]\n",
            "\n",
            "  ...\n",
            "\n",
            "  [[0.80261735]\n",
            "   [0.95346332]\n",
            "   [0.52848853]\n",
            "   ...\n",
            "   [0.96844772]\n",
            "   [1.25809113]\n",
            "   [2.04450495]]\n",
            "\n",
            "  [[3.02445197]\n",
            "   [2.66905625]\n",
            "   [2.92861744]\n",
            "   ...\n",
            "   [2.61613926]\n",
            "   [3.15833679]\n",
            "   [2.65289687]]\n",
            "\n",
            "  [[3.6910201 ]\n",
            "   [3.26385939]\n",
            "   [3.77411498]\n",
            "   ...\n",
            "   [5.07933024]\n",
            "   [3.72996193]\n",
            "   [3.96158333]]]\n",
            "\n",
            "\n",
            " [[[2.53670656]\n",
            "   [3.40825539]\n",
            "   [5.08418623]\n",
            "   ...\n",
            "   [5.19833289]\n",
            "   [3.49021301]\n",
            "   [4.16855596]]\n",
            "\n",
            "  [[1.98995422]\n",
            "   [2.25405403]\n",
            "   [2.97683574]\n",
            "   ...\n",
            "   [4.51969264]\n",
            "   [3.0010282 ]\n",
            "   [3.2385623 ]]\n",
            "\n",
            "  [[3.10264745]\n",
            "   [3.46477166]\n",
            "   [1.69042628]\n",
            "   ...\n",
            "   [3.20600039]\n",
            "   [3.10891922]\n",
            "   [2.95159713]]\n",
            "\n",
            "  ...\n",
            "\n",
            "  [[1.48318824]\n",
            "   [1.39857038]\n",
            "   [0.84457915]\n",
            "   ...\n",
            "   [2.31565664]\n",
            "   [2.01806316]\n",
            "   [1.23838097]]\n",
            "\n",
            "  [[2.8033715 ]\n",
            "   [2.44769346]\n",
            "   [2.16736542]\n",
            "   ...\n",
            "   [3.4051531 ]\n",
            "   [2.73988622]\n",
            "   [2.53687119]]\n",
            "\n",
            "  [[4.81672581]\n",
            "   [3.600315  ]\n",
            "   [2.95215811]\n",
            "   ...\n",
            "   [5.11308778]\n",
            "   [3.31629556]\n",
            "   [3.03075125]]]]\n"
          ]
        },
        {
          "output_type": "display_data",
          "data": {
            "text/plain": [
              "<Figure size 900x108 with 3 Axes>"
            ],
            "image/png": "[encoded data removed]"
          },
          "metadata": {}
        },
        {
          "output_type": "display_data",
          "data": {
            "text/plain": [
              "<Figure size 900x108 with 3 Axes>"
            ],
            "image/png": "[encoded data removed]"
          },
          "metadata": {}
        },
        {
          "output_type": "display_data",
          "data": {
            "text/plain": [
              "<Figure size 900x108 with 3 Axes>"
            ],
            "image/png": "[encoded data removed]"
          },
          "metadata": {}
        },
        {
          "output_type": "display_data",
          "data": {
            "text/plain": [
              "<Figure size 900x108 with 3 Axes>"
            ],
            "image/png": "[encoded data removed]"
          },
          "metadata": {}
        },
        {
          "output_type": "display_data",
          "data": {
            "text/plain": [
              "<Figure size 900x108 with 3 Axes>"
            ],
            "image/png": "[encoded data removed]"
          },
          "metadata": {}
        },
        {
          "output_type": "display_data",
          "data": {
            "text/plain": [
              "<Figure size 900x108 with 3 Axes>"
            ],
            "image/png": "[encoded data removed]"
          },
          "metadata": {}
        },
        {
          "output_type": "display_data",
          "data": {
            "text/plain": [
              "<Figure size 900x108 with 3 Axes>"
            ],
            "image/png": "[encoded data removed]"
          },
          "metadata": {}
        },
        {
          "output_type": "display_data",
          "data": {
            "text/plain": [
              "<Figure size 900x108 with 3 Axes>"
            ],
            "image/png": "[encoded data removed]"
          },
          "metadata": {}
        },
        {
          "output_type": "display_data",
          "data": {
            "text/plain": [
              "<Figure size 900x108 with 3 Axes>"
            ],
            "image/png": "[encoded data removed]"
          },
          "metadata": {}
        },
        {
          "output_type": "display_data",
          "data": {
            "text/plain": [
              "<Figure size 900x108 with 3 Axes>"
            ],
            "image/png": "[encoded data removed]"
          },
          "metadata": {}
        }
      ]
    },
    {
      "cell_type": "code",
      "metadata": {
        "id": "PgXlWxyhruho"
      },
      "source": [
        ""
      ],
      "execution_count": null,
      "outputs": []
    }
  ]
}