{
  "nbformat": 4,
  "nbformat_minor": 0,
  "metadata": {
    "colab": {
      "name": "synthetic_data_interpolation.ipynb",
      "provenance": [],
      "collapsed_sections": [],
      "machine_shape": "hm"
    },
    "kernelspec": {
      "name": "python3",
      "display_name": "Python 3"
    },
    "language_info": {
      "name": "python"
    },
    "accelerator": "GPU"
  },
  "cells": [
    {
      "cell_type": "code",
      "metadata": {
        "id": "xSKtH8WGhoBo",
        "colab": {
          "base_uri": "https://localhost:8080/"
        },
        "outputId": "f5acb781-bcf6-487f-a013-d2bd6c2e9309"
      },
      "source": [
        "import os\n",
        "! git clone https://github.com/mwl10/hetvae\n",
        "os.chdir('/content/hetvae')\n",
        "! pip install -r requirements.txt\n",
        "os.chdir('/content/hetvae/src')\n",
        "import numpy as np\n",
        "import torch\n",
        "import torch.optim as optim\n",
        "import models\n",
        "import utils\n",
        "import my_utils\n",
        "from glob import glob\n",
        "import matplotlib.pyplot as plt\n",
        "%matplotlib inline\n"
      ],
      "execution_count": 367,
      "outputs": [
        {
          "output_type": "stream",
          "name": "stdout",
          "text": [
            "Cloning into 'hetvae'...\n",
            "remote: Enumerating objects: 146, done.\u001b[K\n",
            "remote: Counting objects: 100% (146/146), done.\u001b[K\n",
            "remote: Compressing objects: 100% (117/117), done.\u001b[K\n",
            "remote: Total 146 (delta 78), reused 77 (delta 28), pack-reused 0\u001b[K\n",
            "Receiving objects: 100% (146/146), 18.20 MiB | 12.00 MiB/s, done.\n",
            "Resolving deltas: 100% (78/78), done.\n",
            "Requirement already satisfied: numpy in /usr/local/lib/python3.7/dist-packages (from -r requirements.txt (line 1)) (1.21.5)\n",
            "Requirement already satisfied: sklearn in /usr/local/lib/python3.7/dist-packages (from -r requirements.txt (line 2)) (0.0)\n",
            "Requirement already satisfied: pandas in /usr/local/lib/python3.7/dist-packages (from -r requirements.txt (line 3)) (1.3.5)\n",
            "Requirement already satisfied: torch==1.4.0 in /usr/local/lib/python3.7/dist-packages (from -r requirements.txt (line 4)) (1.4.0)\n",
            "Requirement already satisfied: torchvision==0.5.0 in /usr/local/lib/python3.7/dist-packages (from -r requirements.txt (line 5)) (0.5.0)\n",
            "Requirement already satisfied: pillow>=4.1.1 in /usr/local/lib/python3.7/dist-packages (from torchvision==0.5.0->-r requirements.txt (line 5)) (7.1.2)\n",
            "Requirement already satisfied: six in /usr/local/lib/python3.7/dist-packages (from torchvision==0.5.0->-r requirements.txt (line 5)) (1.15.0)\n",
            "Requirement already satisfied: scikit-learn in /usr/local/lib/python3.7/dist-packages (from sklearn->-r requirements.txt (line 2)) (1.0.2)\n",
            "Requirement already satisfied: python-dateutil>=2.7.3 in /usr/local/lib/python3.7/dist-packages (from pandas->-r requirements.txt (line 3)) (2.8.2)\n",
            "Requirement already satisfied: pytz>=2017.3 in /usr/local/lib/python3.7/dist-packages (from pandas->-r requirements.txt (line 3)) (2018.9)\n",
            "Requirement already satisfied: threadpoolctl>=2.0.0 in /usr/local/lib/python3.7/dist-packages (from scikit-learn->sklearn->-r requirements.txt (line 2)) (3.1.0)\n",
            "Requirement already satisfied: scipy>=1.1.0 in /usr/local/lib/python3.7/dist-packages (from scikit-learn->sklearn->-r requirements.txt (line 2)) (1.4.1)\n",
            "Requirement already satisfied: joblib>=0.11 in /usr/local/lib/python3.7/dist-packages (from scikit-learn->sklearn->-r requirements.txt (line 2)) (1.1.0)\n"
          ]
        }
      ]
    },
    {
      "cell_type": "code",
      "source": [
        "data_objs = utils.get_physionet_data(10)"
      ],
      "metadata": {
        "id": "mtZVr3W9nirz",
        "outputId": "9587619c-f66d-4f67-f26e-48989839b440",
        "colab": {
          "base_uri": "https://localhost:8080/"
        }
      },
      "execution_count": 368,
      "outputs": [
        {
          "output_type": "stream",
          "name": "stdout",
          "text": [
            "(6400, 203, 83) (1600, 168, 83)\n"
          ]
        }
      ]
    },
    {
      "cell_type": "code",
      "source": [
        "dim = data_objs['input_dim']"
      ],
      "metadata": {
        "id": "-HeX6cBIpoVX"
      },
      "execution_count": 395,
      "outputs": []
    },
    {
      "cell_type": "code",
      "source": [
        "print(dim),# so 41 dims to account for, and 41 masks  and 1 tp vector? "
      ],
      "metadata": {
        "id": "xK9BzrLHprcV",
        "outputId": "d4bdb76c-a972-4f0e-e7a6-a2b093555a7f",
        "colab": {
          "base_uri": "https://localhost:8080/"
        }
      },
      "execution_count": 396,
      "outputs": [
        {
          "output_type": "stream",
          "name": "stdout",
          "text": [
            "41\n"
          ]
        }
      ]
    },
    {
      "cell_type": "code",
      "source": [
        "train_loader = data_objs['train_dataloader']"
      ],
      "metadata": {
        "id": "_HDFTwtBni3S"
      },
      "execution_count": 369,
      "outputs": []
    },
    {
      "cell_type": "code",
      "source": [
        "pbatch = next(iter(train_loader))"
      ],
      "metadata": {
        "id": "aoRA9twvni_E"
      },
      "execution_count": 371,
      "outputs": []
    },
    {
      "cell_type": "code",
      "source": [
        "pbatch.shape"
      ],
      "metadata": {
        "id": "kavAJ4PrnjC-",
        "outputId": "af3024f2-d626-4d24-c719-6fb9fee39312",
        "colab": {
          "base_uri": "https://localhost:8080/"
        }
      },
      "execution_count": 372,
      "outputs": [
        {
          "output_type": "execute_result",
          "data": {
            "text/plain": [
              "torch.Size([10, 203, 83])"
            ]
          },
          "metadata": {},
          "execution_count": 372
        }
      ]
    },
    {
      "cell_type": "code",
      "source": [
        "pbatch[0,:,-1] # time values ?\n",
        "\n",
        "# masks are dim: 2* dim\n",
        "# time is -1\n",
        "# values are :dim"
      ],
      "metadata": {
        "id": "w--zOARunjF1",
        "outputId": "4a437f3d-a369-429a-c4a5-4afab63ced92",
        "colab": {
          "base_uri": "https://localhost:8080/"
        }
      },
      "execution_count": 408,
      "outputs": [
        {
          "output_type": "execute_result",
          "data": {
            "text/plain": [
              "tensor([0.0000, 0.0010, 0.0063, 0.0270, 0.0373, 0.0480, 0.0687, 0.0897, 0.1047,\n",
              "        0.1103, 0.1313, 0.1520, 0.1730, 0.1937, 0.2147, 0.2353, 0.2563, 0.2770,\n",
              "        0.2980, 0.3187, 0.3203, 0.3397, 0.3603, 0.3813, 0.3917, 0.4020, 0.4230,\n",
              "        0.4437, 0.4647, 0.4853, 0.5063, 0.5270, 0.5480, 0.5687, 0.5897, 0.6103,\n",
              "        0.6313, 0.6520, 0.6730, 0.6937, 0.7147, 0.7353, 0.7563, 0.7770, 0.7980,\n",
              "        0.8187, 0.8397, 0.8403, 0.8813, 0.9020, 0.9073, 0.9230, 0.9333, 0.9437,\n",
              "        0.9647, 0.9853, 0.9957, 0.0000, 0.0000, 0.0000, 0.0000, 0.0000, 0.0000,\n",
              "        0.0000, 0.0000, 0.0000, 0.0000, 0.0000, 0.0000, 0.0000, 0.0000, 0.0000,\n",
              "        0.0000, 0.0000, 0.0000, 0.0000, 0.0000, 0.0000, 0.0000, 0.0000, 0.0000,\n",
              "        0.0000, 0.0000, 0.0000, 0.0000, 0.0000, 0.0000, 0.0000, 0.0000, 0.0000,\n",
              "        0.0000, 0.0000, 0.0000, 0.0000, 0.0000, 0.0000, 0.0000, 0.0000, 0.0000,\n",
              "        0.0000, 0.0000, 0.0000, 0.0000, 0.0000, 0.0000, 0.0000, 0.0000, 0.0000,\n",
              "        0.0000, 0.0000, 0.0000, 0.0000, 0.0000, 0.0000, 0.0000, 0.0000, 0.0000,\n",
              "        0.0000, 0.0000, 0.0000, 0.0000, 0.0000, 0.0000, 0.0000, 0.0000, 0.0000,\n",
              "        0.0000, 0.0000, 0.0000, 0.0000, 0.0000, 0.0000, 0.0000, 0.0000, 0.0000,\n",
              "        0.0000, 0.0000, 0.0000, 0.0000, 0.0000, 0.0000, 0.0000, 0.0000, 0.0000,\n",
              "        0.0000, 0.0000, 0.0000, 0.0000, 0.0000, 0.0000, 0.0000, 0.0000, 0.0000,\n",
              "        0.0000, 0.0000, 0.0000, 0.0000, 0.0000, 0.0000, 0.0000, 0.0000, 0.0000,\n",
              "        0.0000, 0.0000, 0.0000, 0.0000, 0.0000, 0.0000, 0.0000, 0.0000, 0.0000,\n",
              "        0.0000, 0.0000, 0.0000, 0.0000, 0.0000, 0.0000, 0.0000, 0.0000, 0.0000,\n",
              "        0.0000, 0.0000, 0.0000, 0.0000, 0.0000, 0.0000, 0.0000, 0.0000, 0.0000,\n",
              "        0.0000, 0.0000, 0.0000, 0.0000, 0.0000, 0.0000, 0.0000, 0.0000, 0.0000,\n",
              "        0.0000, 0.0000, 0.0000, 0.0000, 0.0000])"
            ]
          },
          "metadata": {},
          "execution_count": 408
        }
      ]
    },
    {
      "cell_type": "code",
      "source": [
        "union_tp = utils.union_time(train_loader)"
      ],
      "metadata": {
        "id": "zRH9ZR6WnjIf"
      },
      "execution_count": 398,
      "outputs": []
    },
    {
      "cell_type": "code",
      "source": [
        "union_tp.shape"
      ],
      "metadata": {
        "id": "L5jO8ffHnjNZ",
        "outputId": "1f478ff4-f499-4220-b9c6-54d7210973ea",
        "colab": {
          "base_uri": "https://localhost:8080/"
        }
      },
      "execution_count": 399,
      "outputs": [
        {
          "output_type": "execute_result",
          "data": {
            "text/plain": [
              "torch.Size([2881])"
            ]
          },
          "metadata": {},
          "execution_count": 399
        }
      ]
    },
    {
      "cell_type": "code",
      "source": [
        ""
      ],
      "metadata": {
        "id": "VjscGIMBnjPg"
      },
      "execution_count": null,
      "outputs": []
    },
    {
      "cell_type": "code",
      "source": [
        "lc_files = glob('/content/hetvae/data/EDELSON/*')"
      ],
      "metadata": {
        "id": "cMCK4vrx3M_0"
      },
      "execution_count": null,
      "outputs": []
    },
    {
      "cell_type": "code",
      "source": [
        ""
      ],
      "metadata": {
        "id": "S8YJp8Rxnf-6"
      },
      "execution_count": null,
      "outputs": []
    },
    {
      "cell_type": "code",
      "source": [
        "lcs = my_utils.file_to_np(*lc_files)\n",
        "\n",
        "# set starting time value to zero \n",
        "#lcs = [lc[:,0] - lc[0,0] for lc in lcs]\n",
        "# normalizing function now! \n",
        "for lc in lcs:\n",
        "  lc[:,0] = lc[:,0] - lc[0,0]\n",
        "print('-'*50)\n",
        "lcs = my_utils.handle_dups(lcs)\n",
        "union_tp = my_utils.union_timepoints(lcs)\n",
        "\n",
        "print(len(union_tp))\n",
        "\n",
        "# we want the light curves like\n",
        "# len_longest_lc, 0 will be time, 1 will be dims \n",
        "\n",
        "# lcs = my_utils.include_union_tp(lcs, union_tp)\n",
        "# lcs.shape # fire!"
      ],
      "metadata": {
        "colab": {
          "base_uri": "https://localhost:8080/"
        },
        "id": "2O8IyKUO-fpq",
        "outputId": "ccb50fe2-98c1-4274-b8d7-def6593e0ceb"
      },
      "execution_count": 409,
      "outputs": [
        {
          "output_type": "stream",
          "name": "stdout",
          "text": [
            "dims of /content/hetvae/data/EDELSON/NGC5548_W1.dat:\t(260, 3)\n",
            "dims of /content/hetvae/data/EDELSON/NGC4593_SX.dat:\t(190, 3)\n",
            "dims of /content/hetvae/data/EDELSON/NGC4593_W1.dat:\t(150, 3)\n",
            "dims of /content/hetvae/data/EDELSON/NGC4593_HX.dat:\t(190, 3)\n",
            "dims of /content/hetvae/data/EDELSON/NGC5548_HX.dat:\t(267, 3)\n",
            "dims of /content/hetvae/data/EDELSON/NGC4593_M2.dat:\t(148, 3)\n",
            "dims of /content/hetvae/data/EDELSON/NGC5548_SX.dat:\t(267, 3)\n",
            "dims of /content/hetvae/data/EDELSON/NGC5548_M2.dat:\t(248, 3)\n",
            "dims of /content/hetvae/data/EDELSON/NGC4593_W2.dat:\t(147, 3)\n",
            "dims of /content/hetvae/data/EDELSON/NGC5548_W2.dat:\t(259, 3)\n",
            "--------------------------------------------------\n",
            "1644\n"
          ]
        }
      ]
    },
    {
      "cell_type": "code",
      "source": [
        "max_length_lc = 267\n",
        "\n",
        "for i, lc in enumerate(lcs):\n",
        "  length = len(lc)\n",
        "  need_to_append = max_length_lc - length\n",
        "  lc = np.append(lc, np.zeros((need_to_append, 3)), axis = 0)\n",
        "  lcs[i] = lc"
      ],
      "metadata": {
        "id": "B9Xgajw3xTT0"
      },
      "execution_count": 414,
      "outputs": []
    },
    {
      "cell_type": "code",
      "source": [
        "lcs = np.array(lcs)\n",
        "lcs.shape"
      ],
      "metadata": {
        "id": "CWDP6f_oyVq6",
        "outputId": "c95a836b-0e4a-438c-f28f-6ffb9ee1c754",
        "colab": {
          "base_uri": "https://localhost:8080/"
        }
      },
      "execution_count": 418,
      "outputs": [
        {
          "output_type": "execute_result",
          "data": {
            "text/plain": [
              "(10, 267, 3)"
            ]
          },
          "metadata": {},
          "execution_count": 418
        }
      ]
    },
    {
      "cell_type": "code",
      "source": [
        "# round? \n",
        "std_time = np.std(union_tp)\n",
        "#std_flux = np.std(lcs[:,:,1].flatten())\n",
        "#mean_flux = np.mean(lcs[:,:,1].flatten())\n",
        "union_tp = union_tp / std_time\n",
        "lcs[:,:,0] = lcs[:,:,0] / std_time"
      ],
      "metadata": {
        "id": "tks0rbVIz-1A"
      },
      "execution_count": 419,
      "outputs": []
    },
    {
      "cell_type": "code",
      "source": [
        ""
      ],
      "metadata": {
        "id": "dzsJy9m9QKpf"
      },
      "execution_count": null,
      "outputs": []
    },
    {
      "cell_type": "code",
      "source": [
        "lcs = lcs.astype(np.float32)\n",
        "union_tp = union_tp.astype(np.float32)\n",
        "union_tp = torch.tensor(union_tp)\n",
        "train_loader = torch.utils.data.DataLoader(lcs, batch_size=2)\n",
        "\n",
        "dim = 1"
      ],
      "metadata": {
        "id": "2YGZeqo2g4e9"
      },
      "execution_count": 420,
      "outputs": []
    },
    {
      "cell_type": "markdown",
      "metadata": {
        "id": "9AMjSKXYobJx"
      },
      "source": [
        "\n",
        "\n",
        "```\n",
        "# This is formatted as code\n",
        "```\n",
        "\n",
        "## Setting up arguments"
      ]
    },
    {
      "cell_type": "code",
      "source": [
        "class Namespace:\n",
        "    def __init__(self, **kwargs):\n",
        "        self.__dict__.update(kwargs)"
      ],
      "metadata": {
        "id": "lrDc-45iHcJm"
      },
      "execution_count": null,
      "outputs": []
    },
    {
      "cell_type": "code",
      "metadata": {
        "id": "PUdH2aGzifXQ"
      },
      "source": [
        "args = Namespace(batch_size=2, bound_variance=True, const_var=False, dataset='toy', dropout=0.0, \n",
        "                 elbo_weight=1.0, embed_time=128, enc_num_heads=1, intensity=True, k_iwae=1, kl_annealing=False, \n",
        "                 kl_zero=False, latent_dim=64, lr=0.00001, mixing='concat', mse_weight=0.0, n=10, net='hetvae', \n",
        "                 niters=2000, norm=True, normalize_input='znorm', num_ref_points=64, rec_hidden=64, recon_loss=False, \n",
        "                 sample_tp=0.5, save=True, seed=0, shuffle=True, std=0.1, var_per_dim=False, width=512)"
      ],
      "execution_count": 421,
      "outputs": []
    },
    {
      "cell_type": "code",
      "metadata": {
        "id": "duBTaWMokd1T"
      },
      "source": [
        "seed = args.seed\n",
        "torch.manual_seed(seed)\n",
        "np.random.seed(seed)\n",
        "torch.cuda.manual_seed(seed)"
      ],
      "execution_count": 422,
      "outputs": []
    },
    {
      "cell_type": "code",
      "metadata": {
        "colab": {
          "base_uri": "https://localhost:8080/"
        },
        "id": "5b4ufWPlkpmN",
        "outputId": "0ec0344d-26c3-4642-b65b-a548682e3483"
      },
      "source": [
        "device = torch.device('cuda' if torch.cuda.is_available() else 'cpu')\n",
        "device"
      ],
      "execution_count": null,
      "outputs": [
        {
          "output_type": "execute_result",
          "data": {
            "text/plain": [
              "device(type='cuda')"
            ]
          },
          "metadata": {},
          "execution_count": 231
        }
      ]
    },
    {
      "cell_type": "markdown",
      "metadata": {
        "id": "Fu4NfxiUojxk"
      },
      "source": [
        "## **Generating Synthetic Data**"
      ]
    },
    {
      "cell_type": "code",
      "source": [
        "# why is it subtracting 1 for the recon mask?\n",
        "# dataset class that loads agn by folder you give it? agn object, agn.addLC('').addLC('')\n",
        "# what is happening with the normalizations...\n",
        "# kl negative? negative losses in general???\n",
        "# make this capable of running on GPU\n",
        "# fixing visualization\n",
        "# adding error bars in the loss function?\n",
        "# is my union_tp right? \n",
        "# different sequence sizes, some drastically shorter... how to make this not matter? does it? \n",
        "\n",
        "\n",
        "# do we subsample the light curve like they do...?\n",
        "# i guess we do because you're just randomly selecting points each go round...\n",
        "\n",
        "\n",
        "# make the masks beforehand...\n",
        "def make_masks(lcs, batch_size):\n",
        "  # will depend on dimensions later\n",
        "  subsampled_mask = np.zeros_like(lcs[:,:,1])\n",
        "  recon_mask = np.zeros_like(lcs[:,:,1])\n",
        "  for i,lc in enumerate(lcs):\n",
        "    indexes = lc[:,1].nonzero()[0]\n",
        "    # this should vary to some extent\n",
        "    length = int(np.round(len(indexes) * .9))\n",
        "    obs_points = np.sort(np.random.choice(indexes, size=length, replace=False))\n",
        "    subsampled_mask[i, obs_points] = 1\n",
        "    #recon_mask[i] = np.logical_not(subsampled_mask[i])\n",
        "\n",
        "    recon_mask[i] = np.logical_xor(lc[:,1], subsampled_mask[i])\n",
        "\n",
        "  recon_mask = np.split(recon_mask, len(subsampled_mask) / batch_size)\n",
        "  subsampled_mask = np.split(subsampled_mask, len(subsampled_mask) / batch_size)\n",
        "  return subsampled_mask, recon_mask\n",
        "\n",
        "smask, rmask = make_masks(lcs, 2)\n",
        "print(smask[0].shape)\n"
      ],
      "metadata": {
        "id": "twW6b7C2q8D6",
        "outputId": "220dc3e7-7d01-4c63-d300-ab28390ca022",
        "colab": {
          "base_uri": "https://localhost:8080/"
        }
      },
      "execution_count": 423,
      "outputs": [
        {
          "output_type": "stream",
          "name": "stdout",
          "text": [
            "(2, 267)\n"
          ]
        }
      ]
    },
    {
      "cell_type": "code",
      "source": [
        "rmask[0][0]\n"
      ],
      "metadata": {
        "id": "iYb7VkBg3OWv",
        "outputId": "55b8c81b-2452-4284-8ace-4f2721771c28",
        "colab": {
          "base_uri": "https://localhost:8080/"
        }
      },
      "execution_count": 425,
      "outputs": [
        {
          "output_type": "execute_result",
          "data": {
            "text/plain": [
              "array([0., 0., 0., 0., 0., 0., 0., 0., 0., 1., 0., 0., 0., 0., 0., 0., 0.,\n",
              "       0., 0., 0., 0., 1., 0., 0., 0., 0., 0., 0., 0., 0., 0., 0., 0., 0.,\n",
              "       0., 0., 1., 0., 0., 1., 0., 0., 0., 0., 0., 0., 0., 1., 0., 0., 0.,\n",
              "       0., 0., 0., 0., 0., 0., 0., 1., 0., 0., 0., 0., 0., 0., 0., 0., 1.,\n",
              "       0., 0., 1., 0., 0., 0., 0., 0., 0., 0., 0., 0., 0., 1., 0., 0., 0.,\n",
              "       0., 0., 1., 1., 0., 0., 0., 0., 0., 0., 0., 0., 0., 0., 0., 0., 0.,\n",
              "       0., 1., 0., 0., 0., 0., 0., 0., 0., 0., 0., 0., 0., 0., 0., 1., 0.,\n",
              "       0., 0., 0., 0., 0., 0., 0., 0., 0., 0., 0., 0., 0., 0., 0., 0., 0.,\n",
              "       0., 0., 0., 0., 1., 0., 0., 0., 0., 0., 0., 0., 0., 0., 0., 0., 0.,\n",
              "       0., 0., 0., 0., 0., 0., 0., 0., 0., 0., 0., 0., 0., 0., 0., 0., 0.,\n",
              "       0., 0., 1., 0., 1., 0., 0., 0., 0., 0., 0., 0., 0., 0., 0., 0., 0.,\n",
              "       0., 0., 0., 0., 0., 1., 1., 0., 1., 0., 0., 0., 0., 0., 0., 0., 0.,\n",
              "       0., 0., 0., 0., 0., 0., 0., 1., 0., 0., 0., 0., 1., 0., 0., 0., 0.,\n",
              "       0., 0., 0., 0., 0., 0., 0., 0., 0., 1., 0., 0., 0., 0., 0., 0., 0.,\n",
              "       0., 0., 0., 0., 1., 1., 0., 0., 1., 0., 0., 0., 0., 1., 0., 0., 0.,\n",
              "       0., 0., 0., 0., 0., 0., 0., 0., 0., 0., 0., 0.], dtype=float32)"
            ]
          },
          "metadata": {},
          "execution_count": 425
        }
      ]
    },
    {
      "cell_type": "markdown",
      "metadata": {
        "id": "udt437lzovHw"
      },
      "source": [
        "## **Loading HeTVAE model**"
      ]
    },
    {
      "cell_type": "code",
      "source": [
        "print(smask[0][0].sum(), rmask[0][0].sum())\n",
        "# right now we are turning every point thats not a 1 in the smask subset to rmask"
      ],
      "metadata": {
        "colab": {
          "base_uri": "https://localhost:8080/"
        },
        "id": "szQGXV9FY49t",
        "outputId": "8429990b-412f-4926-c9ca-f38962a444d0"
      },
      "execution_count": 427,
      "outputs": [
        {
          "output_type": "stream",
          "name": "stdout",
          "text": [
            "234.0 26.0\n"
          ]
        }
      ]
    },
    {
      "cell_type": "code",
      "metadata": {
        "id": "nZAIfoHtlfVE"
      },
      "source": [
        "net = models.load_network(args, dim, union_tp) # dim = 1\n",
        "params = list(net.parameters())\n",
        "optimizer = optim.Adam(params, lr=args.lr)\n"
      ],
      "execution_count": 426,
      "outputs": []
    },
    {
      "cell_type": "code",
      "source": [
        "batch = next(iter(train_loader)) # 2,1644,3\n",
        "# batch[:,:,0] 2,1644\n"
      ],
      "metadata": {
        "id": "sdrkRvvRl-DW",
        "outputId": "dad824a7-35bf-4d46-e53e-b3c6ea29c6e5",
        "colab": {
          "base_uri": "https://localhost:8080/"
        }
      },
      "execution_count": null,
      "outputs": [
        {
          "output_type": "execute_result",
          "data": {
            "text/plain": [
              "(34,)"
            ]
          },
          "metadata": {},
          "execution_count": 211
        }
      ]
    },
    {
      "cell_type": "markdown",
      "metadata": {
        "id": "a58EIBLfnj3v"
      },
      "source": [
        "## **Training**"
      ]
    },
    {
      "cell_type": "markdown",
      "source": [
        ""
      ],
      "metadata": {
        "id": "JE78L00Flifr"
      }
    },
    {
      "cell_type": "code",
      "source": [
        "for itr in range(1, args.niters + 1):\n",
        "      train_loss = 0\n",
        "      train_n = 0\n",
        "      avg_loglik, avg_kl, mse, mae = 0, 0, 0, 0\n",
        "      for i, train_batch in enumerate(train_loader):\n",
        "          batch_len = train_batch.shape[0] \n",
        "          train_batch = train_batch.to(device)\n",
        "          subsampled_mask = torch.tensor(smask[i][:, :, np.newaxis]).to(device) # should look like our flux values?\n",
        "          recon_mask = torch.tensor(rmask[i][:, :,np.newaxis]).to(device)\n",
        "          seqlen = train_batch.size(1) \n",
        "          context_y = torch.cat((\n",
        "              train_batch[:, :, 1:2] * subsampled_mask, subsampled_mask\n",
        "          ), -1) \n",
        "    # #   def compute_unsupervised_loss(\n",
        "    # #     self, context_x, context_y, target_x, target_y, num_samples=1, beta=1.\n",
        "    # # ):\n",
        "\n",
        "          loss_info = net.compute_unsupervised_loss(\n",
        "              train_batch[:, :, 0], # context_x, times\n",
        "              context_y,             # context_y\n",
        "              train_batch[:, :, 0], # target_x, same times? \n",
        "              torch.cat((            # target_y\n",
        "                  train_batch[:, :, 1:2] * recon_mask, recon_mask\n",
        "              ), -1),\n",
        "              num_samples=args.k_iwae, # 1? \n",
        "              beta=1,       # ? \n",
        "          )\n",
        "          optimizer.zero_grad()\n",
        "          loss_info.composite_loss.backward()\n",
        "          optimizer.step()\n",
        "          train_loss += loss_info.composite_loss.item() * batch_len\n",
        "          avg_loglik += loss_info.loglik * batch_len\n",
        "          avg_kl += loss_info.kl * batch_len\n",
        "          mse += loss_info.mse * batch_len\n",
        "          mae += loss_info.mae * batch_len\n",
        "          train_n += batch_len\n",
        "\n",
        "      if itr % 100 == 0:\n",
        "          print(\n",
        "              'Iter: {}, train loss: {:.4f}, avg nll: {:.4f}, avg kl: {:.4f}, '\n",
        "              'mse: {:.6f}, mae: {:.6f}'.format(\n",
        "                  itr,\n",
        "                  train_loss / train_n,\n",
        "                  -avg_loglik / train_n,\n",
        "                  avg_kl / train_n,\n",
        "                  mse / train_n,\n",
        "                  mae / train_n\n",
        "              )\n",
        "          )\n",
        "    #       for loader, num_samples in [(val_loader, 5), (test_loader, 100)]:\n",
        "    #           utils.evaluate_hetvae(\n",
        "    #               net,\n",
        "    #               dim,\n",
        "    #               loader,\n",
        "    #               0.5,\n",
        "    #               shuffle=False,\n",
        "    #               k_iwae=num_samples,\n",
        "    #               model_name=args.net,\n",
        "    #           )"
      ],
      "metadata": {
        "id": "wdgcWN0blrM3",
        "outputId": "4de9dcb0-a676-4393-f31b-db41dda70cae",
        "colab": {
          "base_uri": "https://localhost:8080/"
        }
      },
      "execution_count": null,
      "outputs": [
        {
          "output_type": "stream",
          "name": "stdout",
          "text": [
            "Iter: 100, train loss: 4.9930, avg nll: 2.2717, avg kl: 2.7212, mse: 2.667976, mae: 1.226658\n",
            "Iter: 200, train loss: 1.8844, avg nll: 1.4072, avg kl: 0.4772, mse: 1.468531, mae: 0.880087\n",
            "Iter: 300, train loss: 1.1935, avg nll: 1.0359, avg kl: 0.1576, mse: 0.612020, mae: 0.564875\n",
            "Iter: 400, train loss: 0.8430, avg nll: 0.7635, avg kl: 0.0796, mse: 0.226888, mae: 0.374129\n",
            "Iter: 500, train loss: 0.6416, avg nll: 0.5918, avg kl: 0.0498, mse: 0.168516, mae: 0.320988\n",
            "Iter: 600, train loss: 0.5243, avg nll: 0.4900, avg kl: 0.0343, mse: 0.137384, mae: 0.271675\n",
            "Iter: 700, train loss: 0.4293, avg nll: 0.4032, avg kl: 0.0261, mse: 0.124615, mae: 0.242546\n",
            "Iter: 800, train loss: 0.3393, avg nll: 0.3165, avg kl: 0.0228, mse: 0.120699, mae: 0.233081\n",
            "Iter: 900, train loss: 0.2435, avg nll: 0.2208, avg kl: 0.0226, mse: 0.122553, mae: 0.234668\n",
            "Iter: 1000, train loss: 0.1288, avg nll: 0.1057, avg kl: 0.0230, mse: 0.121665, mae: 0.229278\n",
            "Iter: 1100, train loss: 0.0413, avg nll: 0.0211, avg kl: 0.0203, mse: 0.122646, mae: 0.229285\n",
            "Iter: 1200, train loss: -0.0056, avg nll: -0.0174, avg kl: 0.0118, mse: 0.121030, mae: 0.232211\n",
            "Iter: 1300, train loss: -0.0338, avg nll: -0.0403, avg kl: 0.0065, mse: 0.120695, mae: 0.231065\n",
            "Iter: 1400, train loss: -0.0328, avg nll: -0.0371, avg kl: 0.0043, mse: 0.122210, mae: 0.230713\n",
            "Iter: 1500, train loss: -0.0404, avg nll: -0.0437, avg kl: 0.0033, mse: 0.122023, mae: 0.231769\n",
            "Iter: 1600, train loss: -0.0539, avg nll: -0.0567, avg kl: 0.0028, mse: 0.121454, mae: 0.231473\n",
            "Iter: 1700, train loss: -0.0346, avg nll: -0.0372, avg kl: 0.0026, mse: 0.121584, mae: 0.230767\n",
            "Iter: 1800, train loss: -0.0454, avg nll: -0.0479, avg kl: 0.0025, mse: 0.120671, mae: 0.228089\n",
            "Iter: 1900, train loss: -0.0540, avg nll: -0.0564, avg kl: 0.0024, mse: 0.122173, mae: 0.229847\n",
            "Iter: 2000, train loss: -0.0519, avg nll: -0.0543, avg kl: 0.0024, mse: 0.121390, mae: 0.229874\n"
          ]
        }
      ]
    },
    {
      "cell_type": "code",
      "source": [
        "n"
      ],
      "metadata": {
        "id": "5Wq13zrFS6hX",
        "outputId": "f889d571-ff14-4dfb-8c42-c02395db0b8d",
        "colab": {
          "base_uri": "https://localhost:8080/"
        }
      },
      "execution_count": null,
      "outputs": [
        {
          "output_type": "execute_result",
          "data": {
            "text/plain": [
              "tensor([[[0.0000e+00, 2.8570e+00, 4.4000e-02],\n",
              "         [1.8431e-03, 0.0000e+00, 0.0000e+00],\n",
              "         [3.5351e-03, 0.0000e+00, 0.0000e+00],\n",
              "         ...,\n",
              "         [3.3227e+00, 0.0000e+00, 0.0000e+00],\n",
              "         [3.3781e+00, 0.0000e+00, 0.0000e+00],\n",
              "         [3.3781e+00, 0.0000e+00, 0.0000e+00]],\n",
              "\n",
              "        [[0.0000e+00, 7.3900e-01, 5.7000e-02],\n",
              "         [1.8431e-03, 7.7100e-01, 5.8000e-02],\n",
              "         [3.5351e-03, 0.0000e+00, 0.0000e+00],\n",
              "         ...,\n",
              "         [3.3227e+00, 0.0000e+00, 0.0000e+00],\n",
              "         [3.3781e+00, 0.0000e+00, 0.0000e+00],\n",
              "         [3.3781e+00, 0.0000e+00, 0.0000e+00]]])"
            ]
          },
          "metadata": {},
          "execution_count": 243
        }
      ]
    },
    {
      "cell_type": "markdown",
      "metadata": {
        "id": "DkXkWKY-nQez"
      },
      "source": [
        "## **Vizualization with increasing number of observations**"
      ]
    },
    {
      "cell_type": "code",
      "metadata": {
        "id": "rfrTzOZes5BN",
        "outputId": "9190d468-ea9c-400c-f601-d3f248f1b2d8",
        "colab": {
          "base_uri": "https://localhost:8080/"
        }
      },
      "source": [
        "pred_mean, pred_std = [],[]\n",
        "masks = []\n",
        "targets = []\n",
        "tp = []\n",
        "k_iwae = 10\n",
        "np.random.seed(0)\n",
        "with torch.no_grad():\n",
        "  batch = next(iter(train_loader)).to(device)\n",
        "  print(batch.shape)\n",
        "  batch_len = len(batch)\n",
        "  subsampled_mask = torch.tensor(smask[i][:, :, np.newaxis]).to(device)\n",
        "  seqlen = batch.size(1)\n",
        "  context_y = torch.cat((batch[:,:,1:2] * subsampled_mask, subsampled_mask), -1)\n",
        "  context_y = torch.cat((batch[:, :, :dim] * subsampled_mask, subsampled_mask), -1)\n",
        "  px, _ = net.get_reconstruction(batch[:, :, 0], context_y, batch[:, :, 0], num_samples=k_iwae)\n",
        "  pred = px.mean.cpu().numpy()\n",
        "\n",
        "# def viz(test_loader, k_iwae=1, n_max=5):\n",
        "#     pred_mean, pred_std = [], []\n",
        "#     masks = []\n",
        "#     targets = []\n",
        "#     tp =[]\n",
        "#     np.random.seed(0)\n",
        "#     # don't keep track of gradients....\n",
        "#     with torch.no_grad():\n",
        "#         # how many points we show in the light curve? \n",
        "#         for low in [30,60,90]:\n",
        "#             for i, batch in enumerate(test_loader):\n",
        "#                 batch_len = batch.shape[0]\n",
        "#                 batch = batch.to(device)\n",
        "#                 #subsampled_mask = torch.zeros_like(batch[:, :, dim:2 * dim]).to(device)\n",
        "#                 subsampled_mask = torch.tensor(smask[i][:, :, np.newaxis]).to(device)\n",
        "#                 seqlen = batch.size(1)\n",
        "#                 # for i in range(batch_len):\n",
        "                  \n",
        "#                 #     length = low\n",
        "#                 #     obs_points = np.sort(np.random.choice(np.arange(seqlen), size=length, replace=False))\n",
        "#                 #     subsampled_mask[i, obs_points, :] = 1\n",
        "#                 #recon_mask = batch[:, :, dim:2 * dim] - subsampled_mask\n",
        "#                 context_y = torch.cat((batch[:, :, 1:2] * subsampled_mask, subsampled_mask), -1)\n",
        "#                 px, _ = net.get_reconstruction(batch[:, :, 0], context_y, batch[:, :, 0], num_samples=k_iwae)\n",
        "#                 pred_mean.append(px.mean.cpu().numpy())\n",
        "#                 pred_std.append(torch.exp(0.5 * px.logvar).cpu().numpy())\n",
        "#                 targets.append((batch[:, :, 1:2]).cpu().numpy())\n",
        "#                 masks.append(subsampled_mask.cpu().numpy())\n",
        "#                 tp.append(batch[:, :, 0].cpu().numpy())\n",
        "#                 if len(tp) % (n_max // 5) == 0:\n",
        "#                     break\n",
        "#     pred_mean = np.concatenate(pred_mean, axis=1)\n",
        "#     pred_std = np.concatenate(pred_std, axis=1)\n",
        "#     targets = np.concatenate(targets, axis=0)\n",
        "#     masks = np.concatenate(masks, axis=0)\n",
        "#     tp = np.concatenate(tp, axis=0)\n",
        "#     inputs = np.ma.masked_where(masks < 1., targets)\n",
        "#     print(pred_mean.shape, pred_std.shape, targets.shape, masks.shape, tp.shape)\n",
        "#     preds = np.random.randn(k_iwae // 2, k_iwae, pred_mean.shape[1], pred_mean.shape[2], pred_mean.shape[3]) * pred_std + pred_mean\n",
        "#     preds = preds.reshape(-1, pred_mean.shape[1], pred_mean.shape[2], pred_mean.shape[3])\n",
        "#     median = preds.mean(0) #np.quantile(preds, 0.5, axis=0)\n",
        "#     quantile2 = np.quantile(preds, 0.850, axis=0)\n",
        "#     quantile1 = np.quantile(preds, 0.150, axis=0)\n",
        "#     print(preds.shape)\n",
        "#     print(preds)\n",
        "    \n",
        "#     w = 2.0\n",
        "#     for index in range(n_max):\n",
        "#         plt.figure(figsize=(12, 1.5))\n",
        "#         for j in range(1):\n",
        "#             plt.subplot(1, 3, j + 1)\n",
        "#             plt.fill_between(tp[n_max * j + index], quantile1[n_max * j + index, :, 0], quantile2[n_max * j + index, :, 0], alpha=0.6, facecolor='#65c9f7', interpolate=True)\n",
        "#             plt.plot(tp[n_max * j + index], median[n_max * j + index, :, 0], c='b', lw=w, label='Reconstructions')\n",
        "#             #plt.plot(tp[n_max * j + index], gt[index], c='r', lw=w, label='Ground Truth')\n",
        "#             plt.scatter(tp[n_max * j + index], inputs[n_max * j + index, :, 0], c='k', lw=w, label='Observed Data')\n",
        "#             plt.xlim([0, 1])\n",
        "#             plt.xticks([])\n",
        "#             plt.yticks([])\n",
        "#             if j == 1 and index == 0:\n",
        "#                 plt.legend(loc='upper center', ncol=3, bbox_to_anchor=(0.6,1.5))\n",
        "            \n",
        "#         plt.show()\n"
      ],
      "execution_count": null,
      "outputs": [
        {
          "output_type": "stream",
          "name": "stdout",
          "text": [
            "torch.Size([2, 1644, 3])\n"
          ]
        }
      ]
    },
    {
      "cell_type": "code",
      "source": [
        "points = batch.cpu().numpy()\n"
      ],
      "metadata": {
        "id": "CNez59ymWYyu"
      },
      "execution_count": null,
      "outputs": []
    },
    {
      "cell_type": "code",
      "source": [
        "points[0,:,1]"
      ],
      "metadata": {
        "id": "eyHYAqJrbnhE",
        "outputId": "4c35dc03-1068-4271-b312-eb88fc074e58",
        "colab": {
          "base_uri": "https://localhost:8080/"
        }
      },
      "execution_count": null,
      "outputs": [
        {
          "output_type": "execute_result",
          "data": {
            "text/plain": [
              "3.68"
            ]
          },
          "metadata": {},
          "execution_count": 285
        }
      ]
    },
    {
      "cell_type": "code",
      "source": [
        "\n",
        "std_flux = np.std(points[:, :, 1].flatten())\n",
        "print(std_flux)\n",
        "#points[:,:,1] = points[:,:,1] / std_flux\n",
        "print(std_flux)"
      ],
      "metadata": {
        "id": "5n8OGC4PbXA0",
        "outputId": "6da9fc7a-cbd2-414e-ed2d-f4876f6ad102",
        "colab": {
          "base_uri": "https://localhost:8080/"
        }
      },
      "execution_count": null,
      "outputs": [
        {
          "output_type": "stream",
          "name": "stdout",
          "text": [
            "0.7733767\n",
            "0.7733767\n"
          ]
        }
      ]
    },
    {
      "cell_type": "code",
      "source": [
        "zeros = points[0,:,1] == 0\n",
        "points[0,zeros,1] = float('nan')"
      ],
      "metadata": {
        "id": "FA9SYFg-XQxP"
      },
      "execution_count": null,
      "outputs": []
    },
    {
      "cell_type": "code",
      "source": [
        ""
      ],
      "metadata": {
        "id": "Et3naSeVa5Mp"
      },
      "execution_count": null,
      "outputs": []
    },
    {
      "cell_type": "code",
      "source": [
        "pred.shape # k, batch, num points.... so k samples, for each batch, for each time point \n",
        "\n",
        "fig, ax = plt.subplots()\n",
        "# normalizing problem? \n",
        "ax.plot(union_tp, pred[0,0,:,:] * std_flux)\n",
        "ax.plot(union_tp, points[0,:,1])"
      ],
      "metadata": {
        "id": "RGnRo5erUs2L",
        "outputId": "e42cdf5f-0c1e-43ba-b485-7973a65e6f84",
        "colab": {
          "base_uri": "https://localhost:8080/",
          "height": 282
        }
      },
      "execution_count": null,
      "outputs": [
        {
          "output_type": "execute_result",
          "data": {
            "text/plain": [
              "[<matplotlib.lines.Line2D at 0x7fc0d0460f90>]"
            ]
          },
          "metadata": {},
          "execution_count": 295
        },
        {
          "output_type": "display_data",
          "data": {
            "text/plain": [
              "<Figure size 432x288 with 1 Axes>"
            ],
            "image/png": "[encoded data removed]"
          },
          "metadata": {
            "needs_background": "light"
          }
        }
      ]
    },
    {
      "cell_type": "code",
      "source": [
        ""
      ],
      "metadata": {
        "id": "wsxHcLGWZ_2o"
      },
      "execution_count": null,
      "outputs": []
    },
    {
      "cell_type": "code",
      "source": [
        "batch = next(iter(train_loader))[:,:,1]"
      ],
      "metadata": {
        "id": "0tfFTyw0SPi4"
      },
      "execution_count": null,
      "outputs": []
    },
    {
      "cell_type": "code",
      "source": [
        ""
      ],
      "metadata": {
        "id": "FjhmpgXcUsKc"
      },
      "execution_count": null,
      "outputs": []
    },
    {
      "cell_type": "code",
      "metadata": {
        "colab": {
          "base_uri": "https://localhost:8080/",
          "height": 1000
        },
        "id": "N3keG-7Urr69",
        "outputId": "09184537-2a57-4fef-9782-8483976cd71d"
      },
      "source": [
        "viz(train_loader, k_iwae=15)"
      ],
      "execution_count": null,
      "outputs": [
        {
          "output_type": "stream",
          "name": "stdout",
          "text": [
            "(15, 6, 1644, 1) (15, 6, 1644, 1) (6, 1644, 1) (6, 1644, 1) (6, 1644)\n",
            "(105, 6, 1644, 1)\n",
            "[[[[3.67263149]\n",
            "   [3.05889997]\n",
            "   [3.31925194]\n",
            "   ...\n",
            "   [3.47564387]\n",
            "   [2.85741758]\n",
            "   [2.60621003]]\n",
            "\n",
            "  [[0.78613567]\n",
            "   [1.0228325 ]\n",
            "   [0.49956444]\n",
            "   ...\n",
            "   [0.96445683]\n",
            "   [0.54870356]\n",
            "   [0.67767477]]\n",
            "\n",
            "  [[2.07462348]\n",
            "   [2.95739387]\n",
            "   [2.28683542]\n",
            "   ...\n",
            "   [3.66625405]\n",
            "   [3.1758751 ]\n",
            "   [2.90788962]]\n",
            "\n",
            "  [[0.7690536 ]\n",
            "   [0.94852061]\n",
            "   [0.52522829]\n",
            "   ...\n",
            "   [0.7201379 ]\n",
            "   [0.6775807 ]\n",
            "   [0.6589916 ]]\n",
            "\n",
            "  [[3.21358133]\n",
            "   [2.88685279]\n",
            "   [3.11738987]\n",
            "   ...\n",
            "   [3.01018516]\n",
            "   [2.52655354]\n",
            "   [2.9114268 ]]\n",
            "\n",
            "  [[0.90512165]\n",
            "   [0.72643338]\n",
            "   [0.80685839]\n",
            "   ...\n",
            "   [0.97580215]\n",
            "   [1.02689453]\n",
            "   [1.0267513 ]]]\n",
            "\n",
            "\n",
            " [[[2.69623071]\n",
            "   [2.2919893 ]\n",
            "   [2.25445002]\n",
            "   ...\n",
            "   [3.04116588]\n",
            "   [3.0354571 ]\n",
            "   [3.46759558]]\n",
            "\n",
            "  [[0.83256214]\n",
            "   [0.52058103]\n",
            "   [0.77394584]\n",
            "   ...\n",
            "   [0.66060138]\n",
            "   [0.67947872]\n",
            "   [0.8116987 ]]\n",
            "\n",
            "  [[3.54698533]\n",
            "   [2.61865387]\n",
            "   [2.15293399]\n",
            "   ...\n",
            "   [3.43482686]\n",
            "   [2.42449093]\n",
            "   [2.36103941]]\n",
            "\n",
            "  [[0.64125301]\n",
            "   [0.58292283]\n",
            "   [0.61746874]\n",
            "   ...\n",
            "   [0.73777294]\n",
            "   [0.69323328]\n",
            "   [0.7452482 ]]\n",
            "\n",
            "  [[2.73323174]\n",
            "   [3.19749969]\n",
            "   [3.25231905]\n",
            "   ...\n",
            "   [2.70516313]\n",
            "   [2.8056444 ]\n",
            "   [2.19751779]]\n",
            "\n",
            "  [[0.82815861]\n",
            "   [0.64937814]\n",
            "   [0.74593613]\n",
            "   ...\n",
            "   [0.6526737 ]\n",
            "   [1.01771004]\n",
            "   [0.59453213]]]\n",
            "\n",
            "\n",
            " [[[4.00693728]\n",
            "   [3.00114059]\n",
            "   [2.80905601]\n",
            "   ...\n",
            "   [2.93839595]\n",
            "   [2.87485193]\n",
            "   [2.99892655]]\n",
            "\n",
            "  [[0.69025875]\n",
            "   [0.62571315]\n",
            "   [0.69338925]\n",
            "   ...\n",
            "   [0.89271127]\n",
            "   [0.72403873]\n",
            "   [0.70393746]]\n",
            "\n",
            "  [[2.93773107]\n",
            "   [2.35352723]\n",
            "   [3.2864454 ]\n",
            "   ...\n",
            "   [3.0475282 ]\n",
            "   [3.01454227]\n",
            "   [3.11597261]]\n",
            "\n",
            "  [[0.81415856]\n",
            "   [0.56421743]\n",
            "   [0.56447226]\n",
            "   ...\n",
            "   [0.68406113]\n",
            "   [0.87837584]\n",
            "   [0.82876066]]\n",
            "\n",
            "  [[2.34042338]\n",
            "   [3.47600531]\n",
            "   [2.5704661 ]\n",
            "   ...\n",
            "   [2.81130368]\n",
            "   [2.64097396]\n",
            "   [2.8902374 ]]\n",
            "\n",
            "  [[0.58746003]\n",
            "   [0.71814074]\n",
            "   [0.7330614 ]\n",
            "   ...\n",
            "   [0.40445861]\n",
            "   [0.78268497]\n",
            "   [0.75070129]]]\n",
            "\n",
            "\n",
            " ...\n",
            "\n",
            "\n",
            " [[[2.44459955]\n",
            "   [2.33863038]\n",
            "   [3.45407891]\n",
            "   ...\n",
            "   [1.78092106]\n",
            "   [2.56015896]\n",
            "   [3.04567394]]\n",
            "\n",
            "  [[0.48597875]\n",
            "   [0.39651485]\n",
            "   [0.75749688]\n",
            "   ...\n",
            "   [0.74431965]\n",
            "   [0.76362836]\n",
            "   [0.39053601]]\n",
            "\n",
            "  [[3.08059506]\n",
            "   [3.23546992]\n",
            "   [3.23454227]\n",
            "   ...\n",
            "   [3.29472228]\n",
            "   [3.26985275]\n",
            "   [2.43276648]]\n",
            "\n",
            "  [[0.55337546]\n",
            "   [0.93526818]\n",
            "   [0.37017959]\n",
            "   ...\n",
            "   [0.99465794]\n",
            "   [0.82064453]\n",
            "   [0.81870154]]\n",
            "\n",
            "  [[3.2043552 ]\n",
            "   [2.93962556]\n",
            "   [2.96450693]\n",
            "   ...\n",
            "   [4.01618858]\n",
            "   [2.12153044]\n",
            "   [2.2443024 ]]\n",
            "\n",
            "  [[0.47385024]\n",
            "   [0.67815179]\n",
            "   [0.84659397]\n",
            "   ...\n",
            "   [0.55598199]\n",
            "   [0.61332384]\n",
            "   [0.7058625 ]]]\n",
            "\n",
            "\n",
            " [[[2.42961212]\n",
            "   [2.81774251]\n",
            "   [2.66511485]\n",
            "   ...\n",
            "   [2.62902989]\n",
            "   [2.51537582]\n",
            "   [2.43732369]]\n",
            "\n",
            "  [[0.5877144 ]\n",
            "   [1.11466582]\n",
            "   [0.83184499]\n",
            "   ...\n",
            "   [0.87341146]\n",
            "   [0.83629418]\n",
            "   [0.88405851]]\n",
            "\n",
            "  [[2.24758518]\n",
            "   [3.18409483]\n",
            "   [3.10860562]\n",
            "   ...\n",
            "   [2.81758804]\n",
            "   [3.65108835]\n",
            "   [3.51073828]]\n",
            "\n",
            "  [[0.75807242]\n",
            "   [0.64354783]\n",
            "   [0.69945558]\n",
            "   ...\n",
            "   [0.6051518 ]\n",
            "   [0.50716596]\n",
            "   [0.68640327]]\n",
            "\n",
            "  [[2.37269447]\n",
            "   [3.68286625]\n",
            "   [1.731216  ]\n",
            "   ...\n",
            "   [2.99102375]\n",
            "   [2.79606456]\n",
            "   [3.39623791]]\n",
            "\n",
            "  [[0.71668778]\n",
            "   [0.85987096]\n",
            "   [0.14791972]\n",
            "   ...\n",
            "   [0.96943543]\n",
            "   [0.72078457]\n",
            "   [0.63615754]]]\n",
            "\n",
            "\n",
            " [[[2.95592224]\n",
            "   [2.45826007]\n",
            "   [1.56069333]\n",
            "   ...\n",
            "   [2.84493554]\n",
            "   [2.55192622]\n",
            "   [3.087915  ]]\n",
            "\n",
            "  [[0.83914214]\n",
            "   [0.54941466]\n",
            "   [0.5823253 ]\n",
            "   ...\n",
            "   [0.62023813]\n",
            "   [0.75421208]\n",
            "   [0.89730762]]\n",
            "\n",
            "  [[3.16015325]\n",
            "   [2.87366042]\n",
            "   [3.50160845]\n",
            "   ...\n",
            "   [2.9797461 ]\n",
            "   [2.92829597]\n",
            "   [2.73778711]]\n",
            "\n",
            "  [[0.3845444 ]\n",
            "   [0.91206258]\n",
            "   [0.76713492]\n",
            "   ...\n",
            "   [0.6681205 ]\n",
            "   [0.75388726]\n",
            "   [0.72921509]]\n",
            "\n",
            "  [[2.90817435]\n",
            "   [3.11229706]\n",
            "   [2.56151164]\n",
            "   ...\n",
            "   [2.69307294]\n",
            "   [3.23829819]\n",
            "   [2.51644712]]\n",
            "\n",
            "  [[0.70025267]\n",
            "   [0.44156393]\n",
            "   [0.38660212]\n",
            "   ...\n",
            "   [0.68901554]\n",
            "   [0.65038846]\n",
            "   [0.88574476]]]]\n"
          ]
        },
        {
          "output_type": "display_data",
          "data": {
            "text/plain": [
              "<Figure size 864x108 with 1 Axes>"
            ],
            "image/png": "[encoded data removed]"
          },
          "metadata": {}
        },
        {
          "output_type": "display_data",
          "data": {
            "text/plain": [
              "<Figure size 864x108 with 1 Axes>"
            ],
            "image/png": "[encoded data removed]"
          },
          "metadata": {}
        },
        {
          "output_type": "display_data",
          "data": {
            "text/plain": [
              "<Figure size 864x108 with 1 Axes>"
            ],
            "image/png": "[encoded data removed]"
          },
          "metadata": {}
        },
        {
          "output_type": "display_data",
          "data": {
            "text/plain": [
              "<Figure size 864x108 with 1 Axes>"
            ],
            "image/png": "[encoded data removed]"
          },
          "metadata": {}
        },
        {
          "output_type": "display_data",
          "data": {
            "text/plain": [
              "<Figure size 864x108 with 1 Axes>"
            ],
            "image/png": "[encoded data removed]"
          },
          "metadata": {}
        }
      ]
    },
    {
      "cell_type": "code",
      "metadata": {
        "id": "PgXlWxyhruho"
      },
      "source": [
        ""
      ],
      "execution_count": null,
      "outputs": []
    }
  ]
}