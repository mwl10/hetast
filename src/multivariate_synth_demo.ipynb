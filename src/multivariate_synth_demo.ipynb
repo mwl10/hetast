{
 "cells": [
  {
   "cell_type": "code",
   "execution_count": 179,
   "id": "a88b14ad",
   "metadata": {},
   "outputs": [
    {
     "name": "stdout",
     "output_type": "stream",
     "text": [
      "The autoreload extension is already loaded. To reload it, use:\n",
      "  %reload_ext autoreload\n"
     ]
    }
   ],
   "source": [
    "import os\n",
    "import numpy as np\n",
    "import torch\n",
    "import torch.optim as optim\n",
    "import models\n",
    "from argparse import Namespace\n",
    "import torch.optim as optim\n",
    "import utils\n",
    "import my_utils\n",
    "import pandas as pd\n",
    "import time\n",
    "import vae_models\n",
    "from glob import glob\n",
    "import matplotlib.pyplot as plt\n",
    "import sys\n",
    "from dataset import DataSet\n",
    "%matplotlib inline\n",
    "from random import SystemRandom\n",
    "\n",
    "%load_ext autoreload"
   ]
  },
  {
   "cell_type": "code",
   "execution_count": null,
   "id": "f7ace2cb",
   "metadata": {},
   "outputs": [],
   "source": [
    "data_loader = my_utils.get_synthetic_data()"
   ]
  },
  {
   "cell_type": "code",
   "execution_count": 188,
   "id": "4d13d2a0",
   "metadata": {},
   "outputs": [],
   "source": [
    "args = Namespace(batch_size=8, bound_variance=False, const_var=False,dropout=0.19462264721791603, \n",
    "                 elbo_weight=4.108914123847402, embed_time=32, enc_num_heads=4, intensity=True, k_iwae=1, kl_annealing=False, \n",
    "                 kl_zero=False, latent_dim=32, lr=0.001, mixing='concat_and_mix', mse_weight=4.060280688730988, net='hetvae', \n",
    "                 niters=1000, norm=True, normalize_input='znorm', num_ref_points=32, rec_hidden=32, recon_loss=False, \n",
    "                 sample_tp=0.4733820088130086, save=True, seed=0, shuffle=True, std=0.1, var_per_dim=False, width=512, device='mps')\n",
    "\n"
   ]
  },
  {
   "cell_type": "code",
   "execution_count": 189,
   "id": "99a9af4c",
   "metadata": {},
   "outputs": [],
   "source": [
    "DIM = 1\n",
    "seed = args.seed\n",
    "torch.manual_seed(seed)\n",
    "np.random.seed(seed)\n",
    "torch.cuda.manual_seed(seed)\n",
    "device = torch.device('mps' if torch.has_mps else 'cpu')"
   ]
  },
  {
   "cell_type": "code",
   "execution_count": 190,
   "id": "09749bb4",
   "metadata": {},
   "outputs": [],
   "source": [
    "samples = samples.astype('float32')\n",
    "training, valid = np.split(samples, [int(np.floor(1*len(samples)))])# shuffle?\n",
    "train_loader = torch.utils.data.DataLoader(training, batch_size=args.batch_size)\n",
    "valid_loader = torch.utils.data.DataLoader(valid, batch_size=args.batch_size)\n",
    "max_union_tps = torch.Tensor(max_union_tps)"
   ]
  },
  {
   "cell_type": "code",
   "execution_count": 191,
   "id": "f9a83ee5",
   "metadata": {},
   "outputs": [],
   "source": [
    "net = models.load_network(args, DIM, max_union_tps)\n",
    "#net = models.load_network(args, DIM, torch.Tensor(Edelson.union_x))  \n",
    "params = list(net.parameters())\n",
    "optimizer = optim.Adam(params, lr=0.003572758547163779)\n",
    "scheduler = torch.optim.lr_scheduler.StepLR(optimizer, gamma=0.5, step_size=150)"
   ]
  },
  {
   "cell_type": "code",
   "execution_count": null,
   "id": "3806bfab",
   "metadata": {},
   "outputs": [],
   "source": []
  },
  {
   "cell_type": "code",
   "execution_count": 159,
   "id": "89f1b406",
   "metadata": {},
   "outputs": [
    {
     "name": "stdout",
     "output_type": "stream",
     "text": [
      "0.003572758547163779\n"
     ]
    }
   ],
   "source": [
    "for g in optimizer.param_groups:\n",
    "    print(g['lr'])\n",
    "    g['lr'] = 0.001463275753032352"
   ]
  },
  {
   "cell_type": "code",
   "execution_count": 160,
   "id": "785f94cc",
   "metadata": {},
   "outputs": [
    {
     "data": {
      "text/plain": [
       "True"
      ]
     },
     "execution_count": 160,
     "metadata": {},
     "output_type": "execute_result"
    }
   ],
   "source": [
    "max_union_tps.shape\n",
    "torch.has_mps"
   ]
  },
  {
   "cell_type": "code",
   "execution_count": 168,
   "id": "a66e2939",
   "metadata": {},
   "outputs": [
    {
     "name": "stdout",
     "output_type": "stream",
     "text": [
      "1\n",
      "2\n",
      "3\n",
      "4\n",
      "5\n",
      "6\n",
      "7\n",
      "8\n",
      "9\n",
      "10\n",
      "Iter: 10, train loss: 9.8999, avg nll: 1.4200, avg kl: 0.0003, mse: 1.000892, mae: 0.795161\n"
     ]
    }
   ],
   "source": [
    "for itr in range(1, 10 + 1):\n",
    "    train_loss = 0\n",
    "    train_n = 0\n",
    "    avg_loglik, avg_kl, mse, mae = 0, 0, 0, 0\n",
    "    experiment_id = int(SystemRandom().random() * 10000000)\n",
    "    for train_batch in train_loader:\n",
    "        batch_len = train_batch.shape[0]\n",
    "        train_batch = train_batch.to(device)\n",
    "\n",
    "        subsampled_mask = train_batch[:,:,:,4]\n",
    "        recon_mask = train_batch[:,:,:,5]\n",
    "\n",
    "        context_y = torch.cat((\n",
    "          train_batch[:,:,:,1] * subsampled_mask, subsampled_mask\n",
    "        ), 1).transpose(2,1) # torch.Size([128, 203, 82]) # batch size, length, dims\n",
    "        # torch.Size([128, 203])\n",
    "        recon_context_y = torch.cat((\n",
    "          train_batch[:,:,:,1] * recon_mask, recon_mask\n",
    "        ), 1).transpose(2,1)\n",
    "\n",
    "        #print(recon_context_y.shape, context_y.shape,train_batch[:, 0, :,0].shape )\n",
    "        loss_info = net.compute_unsupervised_loss(\n",
    "            train_batch[:, 0, :,0],\n",
    "            context_y,\n",
    "            train_batch[:, 0, :,0],\n",
    "            recon_context_y,\n",
    "            num_samples=args.k_iwae,\n",
    "            beta=1,\n",
    "            )\n",
    "        optimizer.zero_grad()\n",
    "        loss_info.composite_loss.backward()\n",
    "        optimizer.step()\n",
    "        train_loss += loss_info.composite_loss.item() * batch_len\n",
    "        avg_loglik += loss_info.loglik * batch_len\n",
    "        avg_kl += loss_info.kl * batch_len\n",
    "        mse += loss_info.mse * batch_len\n",
    "        mae += loss_info.mae * batch_len\n",
    "        train_n += batch_len\n",
    "    print(itr)\n",
    "    if itr % 10 == 0:\n",
    "        print(\n",
    "            'Iter: {}, train loss: {:.4f}, avg nll: {:.4f}, avg kl: {:.4f}, '\n",
    "            'mse: {:.6f}, mae: {:.6f}'.format(\n",
    "              itr,\n",
    "              train_loss / train_n,\n",
    "              -avg_loglik / train_n,\n",
    "              avg_kl / train_n,\n",
    "              mse / train_n,\n",
    "              mae / train_n\n",
    "            )\n",
    "        )\n",
    "\n",
    "    if itr % 10 == 0:\n",
    "        torch.save({\n",
    "            'args': args,\n",
    "            'epoch': itr,\n",
    "            'state_dict': net.state_dict(),\n",
    "            'optimizer_state_dict': optimizer.state_dict(),\n",
    "            'loss': train_loss / train_n,\n",
    "        }, 'synth' + '_' + str(experiment_id) + '.h5')\n",
    "\n",
    "\n",
    "#           for loader, num_samples in [(valid_loader, 5), (test_loader, 100)]:\n",
    "#               utils.evaluate_hetvae(\n",
    "#                   net,\n",
    "#                   dim,\n",
    "#                   loader,\n",
    "#                   0.5,\n",
    "#                   shuffle=False,\n",
    "#                   k_iwae=num_samples,\n",
    "#                   device=device\n",
    "#               )\n",
    "# torch.Size([8, 122, 6]) torch.Size([8, 122, 6]) torch.Size([8, 122]) dim = 3\n",
    "# torch.Size([8, 99, 2]) torch.Size([8, 99, 2]) torch.Size([8, 99]) dim = 1"
   ]
  },
  {
   "cell_type": "code",
   "execution_count": 194,
   "id": "5a002ff7",
   "metadata": {},
   "outputs": [
    {
     "name": "stdout",
     "output_type": "stream",
     "text": [
      "(2, 100, 99, 1) (2, 100, 99, 1) (100, 1, 99) (100, 1, 99) (100, 99)\n",
      "(100, 99, 1) (100, 99, 1) (100, 99, 1) (2, 100, 99, 1)\n",
      "(99, 1)\n"
     ]
    },
    {
     "data": {
      "image/png": "[encoded data removed]",
      "text/plain": [
       "<Figure size 864x108 with 1 Axes>"
      ]
     },
     "metadata": {
      "needs_background": "light"
     },
     "output_type": "display_data"
    },
    {
     "data": {
      "image/png": "[encoded data removed]",
      "text/plain": [
       "<Figure size 864x108 with 1 Axes>"
      ]
     },
     "metadata": {
      "needs_background": "light"
     },
     "output_type": "display_data"
    },
    {
     "data": {
      "image/png": "[encoded data removed]",
      "text/plain": [
       "<Figure size 864x108 with 1 Axes>"
      ]
     },
     "metadata": {
      "needs_background": "light"
     },
     "output_type": "display_data"
    },
    {
     "data": {
      "image/png": "[encoded data removed]",
      "text/plain": [
       "<Figure size 864x108 with 1 Axes>"
      ]
     },
     "metadata": {
      "needs_background": "light"
     },
     "output_type": "display_data"
    },
    {
     "data": {
      "image/png": "[encoded data removed]",
      "text/plain": [
       "<Figure size 864x108 with 1 Axes>"
      ]
     },
     "metadata": {
      "needs_background": "light"
     },
     "output_type": "display_data"
    }
   ],
   "source": [
    "viz(train_loader)"
   ]
  },
  {
   "cell_type": "code",
   "execution_count": 193,
   "id": "bc906725",
   "metadata": {},
   "outputs": [],
   "source": [
    "def viz(dataloader, device='mps', k_iwae=2, n_max=5):\n",
    "    pred_mean, pred_std = [], []\n",
    "    masks = []\n",
    "    targets = []\n",
    "    tp =[]\n",
    "    np.random.seed(0)\n",
    "    with torch.no_grad():\n",
    "        for batch in dataloader:\n",
    "            batch_len = batch.shape[0]\n",
    "            batch = batch.to(device)\n",
    "            subsampled_mask = batch[:,:,:,4]\n",
    "            recon_mask = batch[:,:,:,5]\n",
    "            seqlen = batch.size(1)\n",
    "            context_y = torch.cat((batch[:,:,:,1] * subsampled_mask, subsampled_mask), 1).transpose(2,1)\n",
    "            # context_x = train_batch[:,0,:,0], where we'd set a target x\n",
    "            #print(batch[:, 0, :,0].shape)\n",
    "            px, _ = net.get_reconstruction(batch[:, 0, :,0], context_y, batch[:, 0, :,0], num_samples=k_iwae)\n",
    "            pred_mean.append(px.mean.cpu().numpy())\n",
    "            pred_std.append(torch.exp(0.5 * px.logvar).cpu().numpy())\n",
    "            targets.append((batch[:, :, :,1]).cpu().numpy())\n",
    "            masks.append(subsampled_mask.cpu().numpy())\n",
    "            tp.append(batch[:, 0, :,0].cpu().numpy())\n",
    "       \n",
    "    pred_mean = np.concatenate(pred_mean, axis=1)\n",
    "    pred_std = np.concatenate(pred_std, axis=1)\n",
    "    targets = np.concatenate(targets, axis=0)\n",
    "    masks = np.concatenate(masks, axis=0)\n",
    "    tp = np.concatenate(tp, axis=0)\n",
    "    print(pred_mean.shape, pred_std.shape, targets.shape, masks.shape, tp.shape)\n",
    "    inputs = np.ma.masked_where(masks < 1., targets)\n",
    "    # reparam trick, add  random number to everything\n",
    "    preds = np.random.randn(k_iwae//2, k_iwae, pred_mean.shape[1], pred_mean.shape[2], pred_mean.shape[3]) * pred_std + pred_mean\n",
    "    preds = preds.reshape(-1, pred_mean.shape[1], pred_mean.shape[2], pred_mean.shape[3])\n",
    "    median = preds.mean(0)\n",
    "    pred_std = pred_std.mean(0)\n",
    "#     median = preds.mean(0) #np.quantile(preds, 0.5, axis=0)\n",
    "    quantile2 = np.quantile(preds, 0.841, axis=0)\n",
    "    quantile1 = np.quantile(preds, 0.159, axis=0)\n",
    "    print(quantile2.shape,median.shape,pred_std.shape,preds.shape)\n",
    "    w = 2.0\n",
    "    print((median[0] - pred_std[0]).shape)\n",
    "    for index in range(n_max):\n",
    "        plt.figure(figsize=(12, 1.5))\n",
    "        plt.subplot(1,n_max,index + 1)\n",
    "        upto = np.argwhere(tp[index] == 0)[0,0]\n",
    "        \n",
    "        plt.fill_between(tp[index, :upto], median[index,0,:upto] - pred_std[index,0,:upto], median[index,0,:upto] + pred_std[index,0,:upto], alpha=0.6, facecolor='#65c9f7', interpolate=True)\n",
    "        plt.plot(tp[index, :upto], median[index, :upto])\n",
    "        #plt.scatter(tp[index, :upto], inputs[index, :upto])\n",
    "        \n",
    "        \n",
    "#         for j in range(3):\n",
    "#             plt.subplot(1, 3, j + 1)\n",
    "#             plt.fill_between(tp[n_max * j + index], quantile1[n_max * j + index, :, 0], quantile2[n_max * j + index, :, 0], alpha=0.6, facecolor='#65c9f7', interpolate=True)\n",
    "#             plt.plot(tp[n_max * j + index], median[n_max * j + index, :, 0], c='b', lw=w, label='Reconstructions')\n",
    "#             plt.scatter(tp[n_max * j + index], inputs[n_max * j + index, :, 0], c='k', lw=w, label='Observed Data')\n",
    "#             plt.xlim([0, 1])\n",
    "#             plt.xticks([])\n",
    "#             plt.yticks([])\n",
    "#             if j == 1 and index == 0:\n",
    "#                 plt.legend(loc='upper center', ncol=3, bbox_to_anchor=(0.6,1.5))\n",
    "            \n",
    "        plt.show()"
   ]
  },
  {
   "cell_type": "code",
   "execution_count": null,
   "id": "f0252f86",
   "metadata": {},
   "outputs": [],
   "source": []
  }
 ],
 "metadata": {
  "kernelspec": {
   "display_name": "hetvae",
   "language": "python",
   "name": "hetvae"
  },
  "language_info": {
   "codemirror_mode": {
    "name": "ipython",
    "version": 3
   },
   "file_extension": ".py",
   "mimetype": "text/x-python",
   "name": "python",
   "nbconvert_exporter": "python",
   "pygments_lexer": "ipython3",
   "version": "3.10.5"
  }
 },
 "nbformat": 4,
 "nbformat_minor": 5
}
