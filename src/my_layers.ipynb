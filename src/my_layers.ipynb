{
 "cells": [
  {
   "cell_type": "code",
   "execution_count": 2,
   "id": "812969a5",
   "metadata": {},
   "outputs": [],
   "source": [
    "import torch\n",
    "import torch.nn as nn\n",
    "from rotary_embedding_torch import RotaryEmbedding"
   ]
  },
  {
   "cell_type": "code",
   "execution_count": 5,
   "id": "c7c91f06",
   "metadata": {},
   "outputs": [],
   "source": [
    "\n",
    "class AstromerEmbedding(nn.Module):\n",
    "    def __init__(self, time, embed_mag, embed_type='rotary', arg=None, dim=None, device=\"cuda\"):\n",
    "        super(AstromerEmbedding, self).__init__()\n",
    "        self.embed_mag = embed_mag\n",
    "        self.device = device\n",
    "        self.arg = arg\n",
    "        self.embed_type = embed_type\n",
    "        # -------------\n",
    "        if embed_type == 'sincos':\n",
    "            i = torch.arange(embed_mag)\n",
    "            self.w =  1 / 1000 ** ((2 * i) / embed_mag)\n",
    "            self.w[::2] = torch.sin(self.w[::2]*time)\n",
    "            self.w[1::2] = torch.cos(self.w[1::2]*time)\n",
    "        # -------------\n",
    "        else:\n",
    "            self.rotary_emb = RotaryEmbedding(dim=embed_mag)\n",
    "        self.linears = nn.Sequential(\n",
    "            nn.Linear(1, embed_mag, bias=False),\n",
    "            nn.Linear(embed_mag, embed_mag, bias=False),\n",
    "            nn.Linear(embed_mag, embed_mag, bias=False)\n",
    "        ) \n",
    "        ## sin,cos addition is made relative to mag values\n",
    "        \n",
    "    def forward(self, tt, mags):\n",
    "        ## pass the magnitudes through a few layers to project them\n",
    "        ## add positional encoding/ rotary encoding \n",
    "        mags = self.linears(mags)\n",
    "        if self.embed_type == 'sincos'\n",
    "            mags += self.w\n",
    "        else:\n",
    "            mags = self.rotary_emb.rotate_queries_or_keys() # meant to be input with seq_length, feature dim as the last 2 dims\n",
    "\n",
    "# doing self-attention + a couple of layers\n",
    "class AstromerEncoding(nn.Module)\n",
    "    def __init__(self):\n",
    "        "
   ]
  },
  {
   "cell_type": "code",
   "execution_count": 6,
   "id": "4173e0c1",
   "metadata": {},
   "outputs": [
    {
     "data": {
      "text/plain": [
       "AstromerEmbedding(\n",
       "  (linears): Sequential(\n",
       "    (0): Linear(in_features=1, out_features=8, bias=False)\n",
       "    (1): Linear(in_features=8, out_features=8, bias=False)\n",
       "    (2): Linear(in_features=8, out_features=8, bias=False)\n",
       "  )\n",
       ")"
      ]
     },
     "execution_count": 6,
     "metadata": {},
     "output_type": "execute_result"
    }
   ],
   "source": [
    "AstromerEmbedding(8)"
   ]
  },
  {
   "cell_type": "code",
   "execution_count": null,
   "id": "170c2f59",
   "metadata": {},
   "outputs": [],
   "source": [
    "\n",
    "#### connvvvvv layyyyyyerrrrzzzzzz\n",
    "class ACEmbedding(nn.Module):\n",
    "    def __init__(self, embed_mag, arg=None, dim=None, device=\"cuda\"):\n",
    "        super(ACEmbedding, self).__init__()\n",
    "        self.embed_mag = embed_mag\n",
    "    def forward(self, tt, mags):\n",
    "        "
   ]
  }
 ],
 "metadata": {
  "kernelspec": {
   "display_name": "hetvae",
   "language": "python",
   "name": "hetvae"
  },
  "language_info": {
   "codemirror_mode": {
    "name": "ipython",
    "version": 3
   },
   "file_extension": ".py",
   "mimetype": "text/x-python",
   "name": "python",
   "nbconvert_exporter": "python",
   "pygments_lexer": "ipython3",
   "version": "3.10.5"
  }
 },
 "nbformat": 4,
 "nbformat_minor": 5
}
