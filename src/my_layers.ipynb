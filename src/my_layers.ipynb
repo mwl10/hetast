{
 "cells": [
  {
   "cell_type": "code",
   "execution_count": 7,
   "id": "d62bcf14",
   "metadata": {},
   "outputs": [],
   "source": [
    "import torch\n",
    "import torch.nn as nn\n",
    "from rotary_embedding_torch import RotaryEmbedding"
   ]
  },
  {
   "cell_type": "code",
   "execution_count": 193,
   "id": "afa78a5f",
   "metadata": {},
   "outputs": [],
   "source": [
    "\n",
    "class AstromerEncoder(nn.Module):\n",
    "    def __init__(self, time, embed_mag, ,mask, num_heads=3,embed_type='sincos', arg=None, dim=None, device=\"cuda\"):\n",
    "        super(AstromerEncoder, self).__init__()\n",
    "        self.embed_mag = embed_mag\n",
    "        self.device = device\n",
    "        self.arg = arg\n",
    "        self.embed_type = embed_type\n",
    "        self.num_heads = num_heads\n",
    "        self.mask = mask\n",
    "        # -------------\n",
    "        # need to project by attention heads first thing\n",
    "        if embed_type == 'sincos':\n",
    "            i = torch.arange(embed_mag)[:, None]\n",
    "            self.w =  (1 / 1000 ** ((2 * i) / embed_mag)).repeat(1,100)\n",
    "            self.w[::2] = torch.sin(self.w[::2]*time)\n",
    "            self.w[1::2] = torch.cos(self.w[1::2]*time)\n",
    "        # -------------\n",
    "        else:\n",
    "            self.rotary_emb = RotaryEmbedding(dim=embed_mag)\n",
    "        self.linears = nn.Sequential(\n",
    "            nn.Linear(1, embed_mag, bias=False),\n",
    "            nn.Linear(embed_mag, embed_mag, bias=False),\n",
    "            nn.Linear(embed_mag, embed_mag, bias=False)\n",
    "        ) \n",
    "        \n",
    "        \n",
    "        ## sin,cos addition is made relative to mag values\n",
    "    def attention(self, q,k,v,mask=None):\n",
    "        scores = torch.matmul(q,k.T) / self.embed_mag\n",
    "        # scores = scores.masked_fill(mask.unsqueeze(-3) == 0, -1e9) # before softmax!\n",
    "        \n",
    "        weights = self.softmax(scores)\n",
    "        out = torch.matmul(weights, v)\n",
    "        \n",
    "        return out\n",
    "    \n",
    "    \n",
    "        #scores = torch.softmax\n",
    "    def forward(self, tt, mags):\n",
    "        ## pass the magnitudes through a few layers to project them\n",
    "        ## add positional encoding/ rotary encoding \n",
    "        mags = self.linears(mags)\n",
    "        if self.embed_type == 'sincos':\n",
    "            mags += self.w.T\n",
    "            \n",
    "        else:\n",
    "            mags = self.rotary_emb.rotate_queries_or_keys(mags) # meant to be input with seq_length, feature dim as the last 2 dims\n",
    "        \n",
    "        out = self.attention(mags,mags,mags)\n",
    "        return out\n",
    "\n"
   ]
  },
  {
   "cell_type": "code",
   "execution_count": 194,
   "id": "42d8e636",
   "metadata": {},
   "outputs": [
    {
     "name": "stdout",
     "output_type": "stream",
     "text": [
      "torch.Size([1, 100])\n",
      "tensor([[0.0108, 0.0105, 0.0082,  ..., 0.0095, 0.0091, 0.0127],\n",
      "        [0.0108, 0.0105, 0.0082,  ..., 0.0095, 0.0092, 0.0127],\n",
      "        [0.0107, 0.0105, 0.0089,  ..., 0.0096, 0.0094, 0.0116],\n",
      "        ...,\n",
      "        [0.0074, 0.0073, 0.0058,  ..., 0.0123, 0.0120, 0.0165],\n",
      "        [0.0074, 0.0073, 0.0058,  ..., 0.0124, 0.0120, 0.0163],\n",
      "        [0.0074, 0.0072, 0.0052,  ..., 0.0122, 0.0117, 0.0182]],\n",
      "       grad_fn=<SoftmaxBackward0>)\n"
     ]
    }
   ],
   "source": [
    "import torch\n",
    "time = torch.arange(0,1,0.01)[None, :]\n",
    "print(time.shape)\n",
    "mags = torch.rand(100)[:,None]\n",
    "print(x)\n",
    "l = AstromerEmbedding(time, 8)# embed_type='rotary')\n"
   ]
  },
  {
   "cell_type": "code",
   "execution_count": 196,
   "id": "f6e2606f",
   "metadata": {},
   "outputs": [
    {
     "name": "stdout",
     "output_type": "stream",
     "text": [
      "torch.Size([100, 100])\n"
     ]
    }
   ],
   "source": [
    "out = l.forward(time, mags)"
   ]
  },
  {
   "cell_type": "code",
   "execution_count": 197,
   "id": "710f66ed",
   "metadata": {},
   "outputs": [
    {
     "data": {
      "text/plain": [
       "tensor([0.0104, 0.0107, 0.0083, 0.0085, 0.0098, 0.0094, 0.0089, 0.0082, 0.0090,\n",
       "        0.0111, 0.0087, 0.0100, 0.0081, 0.0110, 0.0087, 0.0096, 0.0083, 0.0091,\n",
       "        0.0085, 0.0104, 0.0113, 0.0098, 0.0107, 0.0083, 0.0091, 0.0092, 0.0099,\n",
       "        0.0105, 0.0092, 0.0104, 0.0089, 0.0086, 0.0113, 0.0099, 0.0101, 0.0100,\n",
       "        0.0095, 0.0115, 0.0111, 0.0090, 0.0117, 0.0106, 0.0106, 0.0116, 0.0110,\n",
       "        0.0084, 0.0113, 0.0104, 0.0089, 0.0089, 0.0117, 0.0097, 0.0092, 0.0108,\n",
       "        0.0087, 0.0105, 0.0095, 0.0097, 0.0088, 0.0105, 0.0108, 0.0094, 0.0102,\n",
       "        0.0089, 0.0090, 0.0107, 0.0115, 0.0116, 0.0086, 0.0095, 0.0107, 0.0116,\n",
       "        0.0095, 0.0104, 0.0116, 0.0099, 0.0101, 0.0086, 0.0099, 0.0101, 0.0117,\n",
       "        0.0117, 0.0098, 0.0105, 0.0085, 0.0110, 0.0100, 0.0117, 0.0085, 0.0120,\n",
       "        0.0117, 0.0110, 0.0089, 0.0116, 0.0098, 0.0105, 0.0092, 0.0097, 0.0114,\n",
       "        0.0109], grad_fn=<SelectBackward0>)"
      ]
     },
     "execution_count": 197,
     "metadata": {},
     "output_type": "execute_result"
    }
   ],
   "source": [
    "x = nn.Softmax(dim=1)(out)\n",
    "x[0]"
   ]
  },
  {
   "cell_type": "code",
   "execution_count": null,
   "id": "59f28e7f",
   "metadata": {},
   "outputs": [],
   "source": [
    "\n",
    "#### connvvvvv layyyyyyerrrrzzzzzz\n",
    "class ACEmbedding(nn.Module):\n",
    "    def __init__(self, embed_mag, arg=None, dim=None, device=\"cuda\"):\n",
    "        super(ACEmbedding, self).__init__()\n",
    "        self.embed_mag = embed_mag\n",
    "    def forward(self, tt, mags):\n",
    "        "
   ]
  }
 ],
 "metadata": {
  "kernelspec": {
   "display_name": "hetvae",
   "language": "python",
   "name": "hetvae"
  },
  "language_info": {
   "codemirror_mode": {
    "name": "ipython",
    "version": 3
   },
   "file_extension": ".py",
   "mimetype": "text/x-python",
   "name": "python",
   "nbconvert_exporter": "python",
   "pygments_lexer": "ipython3",
   "version": "3.10.5"
  }
 },
 "nbformat": 4,
 "nbformat_minor": 5
}
