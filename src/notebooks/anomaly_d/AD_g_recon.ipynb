{
 "cells": [
  {
   "cell_type": "code",
   "execution_count": 14,
   "id": "706df4b4",
   "metadata": {},
   "outputs": [
    {
     "name": "stdout",
     "output_type": "stream",
     "text": [
      "The autoreload extension is already loaded. To reload it, use:\n",
      "  %reload_ext autoreload\n"
     ]
    },
    {
     "data": {
      "text/plain": [
       "<torch._C.Generator at 0x10747b6d0>"
      ]
     },
     "execution_count": 14,
     "metadata": {},
     "output_type": "execute_result"
    }
   ],
   "source": [
    "import sys\n",
    "import os\n",
    "sys.path.insert(0, os.path.abspath('../..'))\n",
    "import torch\n",
    "import numpy as np\n",
    "import utils\n",
    "import matplotlib.pyplot as plt\n",
    "from dataset import DataSet\n",
    "import pandas as pd\n",
    "from sklearn.decomposition import PCA\n",
    "%load_ext autoreload\n",
    "np.random.seed(2) ## keep same shuffled as was trained on \n",
    "torch.manual_seed(2)"
   ]
  },
  {
   "cell_type": "markdown",
   "id": "954401f7",
   "metadata": {},
   "source": [
    "## load a checkpoint & dataset the network trained on"
   ]
  },
  {
   "cell_type": "code",
   "execution_count": 4,
   "id": "4bce372a",
   "metadata": {},
   "outputs": [
    {
     "name": "stdout",
     "output_type": "stream",
     "text": [
      "validated 3408 files out of 3408 for band='g'\n",
      "created union_tp attribute of length 3500\n",
      "dataset created w/ shape (2559, 1, 1974, 3)\n",
      "train size: 2559, valid size: 0, test size: 0\n"
     ]
    }
   ],
   "source": [
    "lcs = utils.get_data('../../datasets/ZTF_g',shuffle=True, split=1.0)\n"
   ]
  },
  {
   "cell_type": "code",
   "execution_count": 6,
   "id": "77737b04",
   "metadata": {},
   "outputs": [
    {
     "name": "stdout",
     "output_type": "stream",
     "text": [
      "=> loading checkpoint '../checkpoints/final/ZTF_g0.668415367603302.h5'\n",
      "Namespace(n_union_tp=3500, data_folder='datasets/ZTF_g', checkpoint='datasets/ZTF_g0.7037358283996582.h5', start_col=1, inc_errors=False, print_at=1, embed_time=128, enc_num_heads=16, latent_dim=64, mixing='concat', num_ref_points=16, rec_hidden=128, width=512, save_at=30, patience=100, early_stopping=False, niters=20000, frac=0.5, batch_size=2, mse_weight=5.0, dropout=0.0, num_resamples=0, lr=1e-06, scheduler=False, warmup=4000, kl_zero=False, kl_annealing=True, net='hetvae', device='mps', const_var=False, var_per_dim=False, std=0.1, seed=2, save=True, k_iwae=1)\n"
     ]
    }
   ],
   "source": [
    "net, optimizer, args, epoch, loss, train_loss, test_loss = utils.load_checkpoint('../checkpoints/final/ZTF_g0.668415367603302.h5', lcs.data_obj)\n"
   ]
  },
  {
   "cell_type": "markdown",
   "id": "4633ebda",
   "metadata": {},
   "source": [
    "## ANOMOLOUS WRT NLL/MSE"
   ]
  },
  {
   "cell_type": "code",
   "execution_count": 27,
   "id": "e7833de1",
   "metadata": {},
   "outputs": [
    {
     "name": "stderr",
     "output_type": "stream",
     "text": [
      "100%|█████████████████████████████████████████████████████████████████████████████████████████████████████████████████████████████████████████████████████████| 1280/1280 [20:30<00:00,  1.04it/s]"
     ]
    },
    {
     "name": "stdout",
     "output_type": "stream",
     "text": [
      "nll: 11.0046, mse: 0.4595, mae: 0.4873, mean_mse: 6.2304, mean_mae: 0.4873\n"
     ]
    },
    {
     "name": "stderr",
     "output_type": "stream",
     "text": [
      "\n"
     ]
    }
   ],
   "source": [
    "avg_nll,avg_mse,nlls=utils.evaluate_hetvae(net,len(lcs.bands),lcs.data_obj['train_loader'],frac=0.5,k_iwae=1, device='mps',forecast=False)"
   ]
  },
  {
   "cell_type": "code",
   "execution_count": 30,
   "id": "18699c27",
   "metadata": {},
   "outputs": [
    {
     "data": {
      "text/plain": [
       "(array([2.497e+03, 3.500e+01, 1.300e+01, 6.000e+00, 5.000e+00, 1.000e+00,\n",
       "        0.000e+00, 0.000e+00, 1.000e+00, 1.000e+00]),\n",
       " array([2.0773064e-01, 1.9315234e+03, 3.8628391e+03, 5.7941548e+03,\n",
       "        7.7254707e+03, 9.6567861e+03, 1.1588103e+04, 1.3519418e+04,\n",
       "        1.5450733e+04, 1.7382049e+04, 1.9313365e+04], dtype=float32),\n",
       " <BarContainer object of 10 artists>)"
      ]
     },
     "execution_count": 30,
     "metadata": {},
     "output_type": "execute_result"
    },
    {
     "data": {
      "image/png": "[encoded data removed]",
      "text/plain": [
       "<Figure size 432x288 with 1 Axes>"
      ]
     },
     "metadata": {
      "needs_background": "light"
     },
     "output_type": "display_data"
    }
   ],
   "source": [
    "plt.hist(-1 *nlls)"
   ]
  },
  {
   "cell_type": "code",
   "execution_count": 35,
   "id": "6fcb9df2",
   "metadata": {},
   "outputs": [],
   "source": [
    "mu = np.mean(nlls)\n",
    "std = np.std(nlls)"
   ]
  },
  {
   "cell_type": "code",
   "execution_count": 50,
   "id": "7d8d6ba0",
   "metadata": {},
   "outputs": [],
   "source": [
    "anoms_i = (nlls > (mu+(2*std))) | (nlls < (mu-(2*std)))"
   ]
  },
  {
   "cell_type": "code",
   "execution_count": 51,
   "id": "2e23fdc0",
   "metadata": {},
   "outputs": [
    {
     "data": {
      "text/plain": [
       "Index(['122606.13+233546.1', '144827.83+084130.5', '013300.65+160516.3',\n",
       "       '164933.00+205839.0', '124152.93+240026.4', '100516.42+364214.7',\n",
       "       '090136.66+474233.0', '143234.58+454441.2', '150232.97+062337.6',\n",
       "       '082436.86+133612.4', '222852.60-075346.6', '081249.41+454629.9',\n",
       "       '140519.92+474553.9', '091101.87+280746.9', '144837.61+112104.1',\n",
       "       '160324.86+231531.5', '114552.32+241732.3', '141548.59+422522.9',\n",
       "       '142535.31+530019.3', '075627.68+272326.3', '021251.11-004337.8',\n",
       "       '080217.01+280609.2', '155149.75+141955.7', '124631.21+530111.0',\n",
       "       '100500.68+315847.8', '095739.64+454557.4', '085027.12+351320.1',\n",
       "       '161924.11+260907.2', '085749.87+415223.8', '142249.29+312711.0',\n",
       "       '104211.35+454746.7', '034430.16+000407.3', '161524.59+190002.5',\n",
       "       '133149.10+150055.5', '232529.43-004735.0', '135407.35+351509.7',\n",
       "       '151720.91+332129.6', '102853.66+174148.5', '151524.56+160912.3',\n",
       "       '151215.76+170638.0', '222808.99+185920.8', '110901.46+474200.1',\n",
       "       '151009.36+323913.8', '145954.07+351733.9', '152530.99+250108.4',\n",
       "       '093137.42+564545.0', '114230.42+312002.4', '162614.31+483912.0',\n",
       "       '080534.87+422907.9', '125812.90+371151.3', '151020.36+185632.2',\n",
       "       '160815.29+043605.9', '164334.44+241132.2', '130255.44+241210.2',\n",
       "       '133351.07+232201.6', '123637.00+332215.7', '100106.38+030309.8',\n",
       "       '161431.70+170311.5', '094838.89+052127.0', '152312.86+154654.6',\n",
       "       '092322.60+043239.0', '085850.41+393219.0'],\n",
       "      dtype='object')"
      ]
     },
     "execution_count": 51,
     "metadata": {},
     "output_type": "execute_result"
    }
   ],
   "source": [
    "lcs.valid_files_df.index[anoms_i]"
   ]
  },
  {
   "cell_type": "code",
   "execution_count": 52,
   "id": "d72c9db5",
   "metadata": {},
   "outputs": [],
   "source": [
    "anoms = '122606.13+233546.1', '144827.83+084130.5', '013300.65+160516.3',\n",
    "       '164933.00+205839.0', '124152.93+240026.4', '100516.42+364214.7',\n",
    "       '090136.66+474233.0', '143234.58+454441.2', '150232.97+062337.6',\n",
    "       '082436.86+133612.4', '222852.60-075346.6', '081249.41+454629.9',\n",
    "       '140519.92+474553.9', '091101.87+280746.9', '144837.61+112104.1',\n",
    "       '160324.86+231531.5', '114552.32+241732.3', '141548.59+422522.9',\n",
    "       '142535.31+530019.3', '075627.68+272326.3', '021251.11-004337.8',\n",
    "       '080217.01+280609.2', '155149.75+141955.7', '124631.21+530111.0',\n",
    "       '100500.68+315847.8', '095739.64+454557.4', '085027.12+351320.1',\n",
    "       '161924.11+260907.2', '085749.87+415223.8', '142249.29+312711.0',\n",
    "       '104211.35+454746.7', '034430.16+000407.3', '161524.59+190002.5',\n",
    "       '133149.10+150055.5', '232529.43-004735.0', '135407.35+351509.7',\n",
    "       '151720.91+332129.6', '102853.66+174148.5', '151524.56+160912.3',\n",
    "       '151215.76+170638.0', '222808.99+185920.8', '110901.46+474200.1',\n",
    "       '151009.36+323913.8', '145954.07+351733.9', '152530.99+250108.4',\n",
    "       '093137.42+564545.0', '114230.42+312002.4', '162614.31+483912.0',\n",
    "       '080534.87+422907.9', '125812.90+371151.3', '151020.36+185632.2',\n",
    "       '160815.29+043605.9', '164334.44+241132.2', '130255.44+241210.2',\n",
    "       '133351.07+232201.6', '123637.00+332215.7', '100106.38+030309.8',\n",
    "       '161431.70+170311.5', '094838.89+052127.0', '152312.86+154654.6',\n",
    "       '092322.60+043239.0', '085850.41+393219.0']"
   ]
  },
  {
   "cell_type": "code",
   "execution_count": 56,
   "id": "d741901c",
   "metadata": {},
   "outputs": [
    {
     "data": {
      "text/plain": [
       "7"
      ]
     },
     "execution_count": 56,
     "metadata": {},
     "output_type": "execute_result"
    }
   ],
   "source": [
    "# number anoms in test set? \n",
    "tr = int(len(lcs.dataset) * 0.9) # train-test split point\n",
    "len(list(set(lcs.valid_files_df.index[tr:]) & set(anoms)))"
   ]
  },
  {
   "cell_type": "code",
   "execution_count": 58,
   "id": "d10e7819",
   "metadata": {},
   "outputs": [],
   "source": [
    "np.savetxt('nlls_g',nlls)"
   ]
  },
  {
   "cell_type": "code",
   "execution_count": null,
   "id": "048af5c5",
   "metadata": {},
   "outputs": [],
   "source": []
  }
 ],
 "metadata": {
  "kernelspec": {
   "display_name": "hetvae",
   "language": "python",
   "name": "hetvae"
  },
  "language_info": {
   "codemirror_mode": {
    "name": "ipython",
    "version": 3
   },
   "file_extension": ".py",
   "mimetype": "text/x-python",
   "name": "python",
   "nbconvert_exporter": "python",
   "pygments_lexer": "ipython3",
   "version": "3.10.5"
  }
 },
 "nbformat": 4,
 "nbformat_minor": 5
}
