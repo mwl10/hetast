{
 "cells": [
  {
   "cell_type": "code",
   "execution_count": 3,
   "id": "85c244c5",
   "metadata": {},
   "outputs": [
    {
     "data": {
      "text/plain": [
       "<torch._C.Generator at 0x108944eb0>"
      ]
     },
     "execution_count": 3,
     "metadata": {},
     "output_type": "execute_result"
    }
   ],
   "source": [
    "import sys\n",
    "import os\n",
    "sys.path.insert(0, os.path.abspath('../..'))\n",
    "import torch\n",
    "import numpy as np\n",
    "import utils\n",
    "import matplotlib.pyplot as plt\n",
    "from dataset import DataSet\n",
    "import pandas as pd\n",
    "from sklearn.decomposition import PCA\n",
    "%load_ext autoreload\n",
    "np.random.seed(2) ## keep same shuffled as was trained on \n",
    "torch.manual_seed(2)"
   ]
  },
  {
   "cell_type": "code",
   "execution_count": 20,
   "id": "6c2770e9",
   "metadata": {},
   "outputs": [],
   "source": [
    "%autoreload"
   ]
  },
  {
   "cell_type": "markdown",
   "id": "81f499e1",
   "metadata": {},
   "source": [
    "## load a checkpoint & dataset the network trained on"
   ]
  },
  {
   "cell_type": "code",
   "execution_count": 21,
   "id": "31db7ff7",
   "metadata": {},
   "outputs": [
    {
     "name": "stdout",
     "output_type": "stream",
     "text": [
      "validated 3407 files out of 3407 for band='r'\n",
      "validated 3407 files out of 3407 for band='i'\n",
      "validated 3408 files out of 3408 for band='g'\n",
      "created union_tp attribute of length 3500\n",
      "dataset created w/ shape (2683, 3, 4431, 3)\n",
      "train size: 26, valid size: 26, test size: 2657\n"
     ]
    }
   ],
   "source": [
    "lcs = utils.get_data('../../datasets/ZTF_gri',shuffle=True, split=0.01,batch_size=1)\n"
   ]
  },
  {
   "cell_type": "code",
   "execution_count": 22,
   "id": "346972b7",
   "metadata": {},
   "outputs": [
    {
     "name": "stdout",
     "output_type": "stream",
     "text": [
      "=> loading checkpoint '../checkpoints/final/ZTF_gri0.7991786003112793.h5'\n",
      "Namespace(n_union_tp=3500, data_folder='datasets/ZTF_all_noz', checkpoint='ZTF_all_noz0.7986480593681335.h5', start_col=1, inc_errors=False, print_at=1, embed_time=128, enc_num_heads=16, latent_dim=64, mixing='concat', num_ref_points=16, rec_hidden=128, width=512, save_at=30, patience=100, early_stopping=False, niters=20000, frac=0.5, batch_size=2, mse_weight=5.0, dropout=0.0, num_resamples=0, lr=1e-08, scheduler=False, warmup=4000, kl_zero=False, kl_annealing=True, net='hetvae', device='mps', const_var=False, var_per_dim=False, std=0.1, seed=2, save=True, k_iwae=1)\n"
     ]
    }
   ],
   "source": [
    "net, optimizer, args, epoch, loss, train_loss, test_loss = utils.load_checkpoint('../checkpoints/final/ZTF_gri0.7991786003112793.h5', lcs.data_obj)\n"
   ]
  },
  {
   "cell_type": "markdown",
   "id": "8281b9ad",
   "metadata": {},
   "source": [
    "## ANOMOLOUS WRT NLL/MSE"
   ]
  },
  {
   "cell_type": "code",
   "execution_count": 24,
   "id": "52aeb90c",
   "metadata": {},
   "outputs": [
    {
     "name": "stderr",
     "output_type": "stream",
     "text": [
      "100%|█████████████████████████████████████████████████████████████████████████████████████████████████████████████████████████████████████████████████████████████| 26/26 [00:27<00:00,  1.06s/it]"
     ]
    },
    {
     "name": "stdout",
     "output_type": "stream",
     "text": [
      "nll: 2466.5759, mse: 1.9205, mae: 1.0427, mean_mse: 29.0976, mean_mae: 1.0427\n"
     ]
    },
    {
     "name": "stderr",
     "output_type": "stream",
     "text": [
      "\n"
     ]
    }
   ],
   "source": [
    "avg_nll,avg_mse,nlls, indy_nlls,mses=utils.evaluate_hetvae(net,len(lcs.bands),lcs.data_obj['train_loader'],frac=0.5,qz_mean=True)\n"
   ]
  },
  {
   "cell_type": "code",
   "execution_count": 25,
   "id": "29010403",
   "metadata": {},
   "outputs": [
    {
     "data": {
      "text/plain": [
       "[tensor(1.3611, device='mps:0'),\n",
       " tensor(2.6925, device='mps:0'),\n",
       " tensor(1.2939, device='mps:0'),\n",
       " tensor(1.3340, device='mps:0'),\n",
       " tensor(2.3948, device='mps:0'),\n",
       " tensor(1.5293, device='mps:0'),\n",
       " tensor(1.6408, device='mps:0'),\n",
       " tensor(1.0202, device='mps:0'),\n",
       " tensor(1.3739, device='mps:0'),\n",
       " tensor(0.8884, device='mps:0'),\n",
       " tensor(0.2944, device='mps:0'),\n",
       " tensor(1.1336, device='mps:0'),\n",
       " tensor(1.4361, device='mps:0'),\n",
       " tensor(1.5437, device='mps:0'),\n",
       " tensor(7.1746, device='mps:0'),\n",
       " tensor(2.0962, device='mps:0'),\n",
       " tensor(1.0135, device='mps:0'),\n",
       " tensor(8.0219, device='mps:0'),\n",
       " tensor(1.4167, device='mps:0'),\n",
       " tensor(1.1083, device='mps:0'),\n",
       " tensor(4.8419, device='mps:0'),\n",
       " tensor(2.4003, device='mps:0'),\n",
       " tensor(1.5163, device='mps:0'),\n",
       " tensor(0.7881, device='mps:0'),\n",
       " tensor(1.6734, device='mps:0'),\n",
       " tensor(1.7079, device='mps:0')]"
      ]
     },
     "execution_count": 25,
     "metadata": {},
     "output_type": "execute_result"
    }
   ],
   "source": []
  },
  {
   "cell_type": "code",
   "execution_count": 18,
   "id": "25577a24",
   "metadata": {},
   "outputs": [
    {
     "data": {
      "text/plain": [
       "array([-8.4770021e+00, -8.4770021e+00, -1.4902449e+01, -1.4902449e+01,\n",
       "       -4.7117759e+03, -4.7117759e+03, -4.0050150e+02, -4.0050150e+02,\n",
       "       -2.0022780e+03, -2.0022780e+03, -7.9702805e+01, -7.9702805e+01,\n",
       "       -1.0232115e+04, -1.0232115e+04, -2.2846143e+02, -2.2846143e+02,\n",
       "       -1.4230367e+04, -1.4230367e+04, -6.4103716e+03, -6.4103716e+03,\n",
       "       -4.7071177e+03, -4.7071177e+03, -1.2983907e+03, -1.2983907e+03,\n",
       "       -3.8463010e+03, -3.8463010e+03, -4.2287316e+00, -4.2287316e+00,\n",
       "       -1.2176327e+04, -1.2176327e+04, -2.1080612e+01, -2.1080612e+01,\n",
       "       -1.6204915e+04, -1.6204915e+04, -9.7841071e+02, -9.7841071e+02,\n",
       "       -2.4209736e+03, -2.4209736e+03, -1.4662582e+01, -1.4662582e+01,\n",
       "       -3.9000179e+01, -3.9000179e+01, -3.0234973e+00, -3.0234973e+00,\n",
       "       -1.8869983e+03, -1.8869983e+03, -1.2643906e+01, -1.2643906e+01,\n",
       "       -1.7006372e+02, -1.7006372e+02, -2.0639929e+03, -2.0639929e+03],\n",
       "      dtype=float32)"
      ]
     },
     "execution_count": 18,
     "metadata": {},
     "output_type": "execute_result"
    }
   ],
   "source": [
    "nlls"
   ]
  },
  {
   "cell_type": "code",
   "execution_count": 11,
   "id": "37e61051",
   "metadata": {},
   "outputs": [
    {
     "data": {
      "text/plain": [
       "(array([2491.,  114.,   26.,   16.,   10.,    8.,    8.,    4.,    3.,\n",
       "           3.]),\n",
       " array([1.3632984e+00, 7.6346943e+03, 1.5268025e+04, 2.2901355e+04,\n",
       "        3.0534688e+04, 3.8168020e+04, 4.5801348e+04, 5.3434680e+04,\n",
       "        6.1068012e+04, 6.8701344e+04, 7.6334672e+04], dtype=float32),\n",
       " <BarContainer object of 10 artists>)"
      ]
     },
     "execution_count": 11,
     "metadata": {},
     "output_type": "execute_result"
    },
    {
     "data": {
      "image/png": "[encoded data removed]",
      "text/plain": [
       "<Figure size 432x288 with 1 Axes>"
      ]
     },
     "metadata": {
      "needs_background": "light"
     },
     "output_type": "display_data"
    }
   ],
   "source": [
    "plt.hist(-1 *nlls)"
   ]
  },
  {
   "cell_type": "code",
   "execution_count": 12,
   "id": "ed21b6b3",
   "metadata": {},
   "outputs": [],
   "source": [
    "mu = np.mean(nlls)\n",
    "std = np.std(nlls)\n",
    "anoms_i = (nlls > (mu+(2*std))) | (nlls < (mu-(2*std)))"
   ]
  },
  {
   "cell_type": "code",
   "execution_count": 18,
   "id": "4c398b7d",
   "metadata": {},
   "outputs": [
    {
     "data": {
      "text/plain": [
       "Index(['080553.49+425548.1', '081925.85+364214.4', '083011.71+540148.4',\n",
       "       '081209.24+560038.1', '084413.21+590109.8', '233209.51+492445.7',\n",
       "       '080621.87+131250.7', '080125.89+222402.8', '084527.73+491943.3',\n",
       "       '101514.83+430636.7', '081514.60+120540.2', '095439.73+420109.5',\n",
       "       '114521.43+040042.2', '104426.81+321502.0', '104655.60-030353.8',\n",
       "       '083206.41+345817.7', '142249.29+312711.0', '094502.34+320646.6',\n",
       "       '231120.71+245134.2', '231506.62+263149.9', '084108.39+540827.6',\n",
       "       '085717.47+182335.2', '153535.79+175544.5', '075532.40+503603.7',\n",
       "       '105320.37+420632.9', '093909.42+014433.5', 'H2106-099',\n",
       "       '083331.04+450419.8', '230029.46+321930.9', '151015.05+220438.0',\n",
       "       '095011.62+372600.1', '090903.94+463730.6', '220715.80+223545.1',\n",
       "       '231331.22+262740.9', '073922.89+412321.2', '140837.42+164025.4',\n",
       "       '095514.77+331558.2', '080042.41+435454.7', '093439.77+013959.1',\n",
       "       '090755.34+445219.4', '075116.33+493143.4', '094944.78+364334.7',\n",
       "       '091244.28-022435.8', '081615.35+550615.5', '082917.77+465814.9',\n",
       "       '230048.77+194316.7', '110007.99+613425.5', '230013.06+195754.6',\n",
       "       '083417.29+554206.9', '081814.51+550341.7', '115213.39+072600.8',\n",
       "       '231334.28+250812.3', '084141.22+540256.9', '082439.54+453855.6',\n",
       "       '083508.42+560953.8', '082013.95+543733.2', '120928.11+003511.6',\n",
       "       '080544.90+460937.5', '122321.06+005745.7', '094402.40+500601.3',\n",
       "       '223552.47+244703.1', '085850.41+393219.0', '074645.63+355902.2',\n",
       "       '104918.70+143645.4', '123249.72+242034.8', '112159.53+143521.9',\n",
       "       '112424.59+065456.0', '212822.69+115947.5', '160405.09+174853.7',\n",
       "       '121907.80-005609.2', '095503.28+524957.6', '220444.32+294255.8',\n",
       "       '083246.15+522526.2', '082104.84-002646.5'],\n",
       "      dtype='object')"
      ]
     },
     "execution_count": 18,
     "metadata": {},
     "output_type": "execute_result"
    }
   ],
   "source": [
    "lcs.valid_files_df.index[anoms_i]"
   ]
  },
  {
   "cell_type": "code",
   "execution_count": 22,
   "id": "029c6369",
   "metadata": {},
   "outputs": [],
   "source": [
    "anoms_gri = ['080553.49+425548.1', '081925.85+364214.4', '083011.71+540148.4',\n",
    "       '081209.24+560038.1', '084413.21+590109.8', '233209.51+492445.7',\n",
    "       '080621.87+131250.7', '080125.89+222402.8', '084527.73+491943.3',\n",
    "       '101514.83+430636.7', '081514.60+120540.2', '095439.73+420109.5',\n",
    "       '114521.43+040042.2', '104426.81+321502.0', '104655.60-030353.8',\n",
    "       '083206.41+345817.7', '142249.29+312711.0', '094502.34+320646.6',\n",
    "       '231120.71+245134.2', '231506.62+263149.9', '084108.39+540827.6',\n",
    "       '085717.47+182335.2', '153535.79+175544.5', '075532.40+503603.7',\n",
    "       '105320.37+420632.9', '093909.42+014433.5', 'H2106-099',\n",
    "       '083331.04+450419.8', '230029.46+321930.9', '151015.05+220438.0',\n",
    "       '095011.62+372600.1', '090903.94+463730.6', '220715.80+223545.1',\n",
    "       '231331.22+262740.9', '073922.89+412321.2', '140837.42+164025.4',\n",
    "       '095514.77+331558.2', '080042.41+435454.7', '093439.77+013959.1',\n",
    "       '090755.34+445219.4', '075116.33+493143.4', '094944.78+364334.7',\n",
    "       '091244.28-022435.8', '081615.35+550615.5', '082917.77+465814.9',\n",
    "       '230048.77+194316.7', '110007.99+613425.5', '230013.06+195754.6',\n",
    "       '083417.29+554206.9', '081814.51+550341.7', '115213.39+072600.8',\n",
    "       '231334.28+250812.3', '084141.22+540256.9', '082439.54+453855.6',\n",
    "       '083508.42+560953.8', '082013.95+543733.2', '120928.11+003511.6',\n",
    "       '080544.90+460937.5', '122321.06+005745.7', '094402.40+500601.3',\n",
    "       '223552.47+244703.1', '085850.41+393219.0', '074645.63+355902.2',\n",
    "       '104918.70+143645.4', '123249.72+242034.8', '112159.53+143521.9',\n",
    "       '112424.59+065456.0', '212822.69+115947.5', '160405.09+174853.7',\n",
    "       '121907.80-005609.2', '095503.28+524957.6', '220444.32+294255.8',\n",
    "       '083246.15+522526.2', '082104.84-002646.5']\n",
    "\n",
    "\n",
    "anoms_g = ['122606.13+233546.1', '144827.83+084130.5', '013300.65+160516.3',\n",
    "       '164933.00+205839.0', '124152.93+240026.4', '100516.42+364214.7',\n",
    "       '090136.66+474233.0', '143234.58+454441.2', '150232.97+062337.6',\n",
    "       '082436.86+133612.4', '222852.60-075346.6', '081249.41+454629.9',\n",
    "       '140519.92+474553.9', '091101.87+280746.9', '144837.61+112104.1',\n",
    "       '160324.86+231531.5', '114552.32+241732.3', '141548.59+422522.9',\n",
    "       '142535.31+530019.3', '075627.68+272326.3', '021251.11-004337.8',\n",
    "       '080217.01+280609.2', '155149.75+141955.7', '124631.21+530111.0',\n",
    "       '100500.68+315847.8', '095739.64+454557.4', '085027.12+351320.1',\n",
    "       '161924.11+260907.2', '085749.87+415223.8', '142249.29+312711.0',\n",
    "       '104211.35+454746.7', '034430.16+000407.3', '161524.59+190002.5',\n",
    "       '133149.10+150055.5', '232529.43-004735.0', '135407.35+351509.7',\n",
    "       '151720.91+332129.6', '102853.66+174148.5', '151524.56+160912.3',\n",
    "       '151215.76+170638.0', '222808.99+185920.8', '110901.46+474200.1',\n",
    "       '151009.36+323913.8', '145954.07+351733.9', '152530.99+250108.4',\n",
    "       '093137.42+564545.0', '114230.42+312002.4', '162614.31+483912.0',\n",
    "       '080534.87+422907.9', '125812.90+371151.3', '151020.36+185632.2',\n",
    "       '160815.29+043605.9', '164334.44+241132.2', '130255.44+241210.2',\n",
    "       '133351.07+232201.6', '123637.00+332215.7', '100106.38+030309.8',\n",
    "       '161431.70+170311.5', '094838.89+052127.0', '152312.86+154654.6',\n",
    "       '092322.60+043239.0', '085850.41+393219.0']"
   ]
  },
  {
   "cell_type": "code",
   "execution_count": null,
   "id": "968d13eb",
   "metadata": {},
   "outputs": [],
   "source": [
    "anoms_gri "
   ]
  },
  {
   "cell_type": "code",
   "execution_count": 21,
   "id": "8620f161",
   "metadata": {},
   "outputs": [
    {
     "data": {
      "text/plain": [
       "74"
      ]
     },
     "execution_count": 21,
     "metadata": {},
     "output_type": "execute_result"
    }
   ],
   "source": [
    "len(anoms)"
   ]
  },
  {
   "cell_type": "code",
   "execution_count": 15,
   "id": "d8e283d8",
   "metadata": {},
   "outputs": [],
   "source": [
    "#np.savetxt('nlls_gri', nlls)"
   ]
  },
  {
   "cell_type": "code",
   "execution_count": 24,
   "id": "392db1d5",
   "metadata": {},
   "outputs": [
    {
     "data": {
      "text/plain": [
       "4"
      ]
     },
     "execution_count": 24,
     "metadata": {},
     "output_type": "execute_result"
    }
   ],
   "source": [
    "tr = int(len(lcs.dataset) * 0.9) # train-test split point\n",
    "len(list(set(lcs.valid_files_df.index[tr:]) & set(anoms_gri)))"
   ]
  },
  {
   "cell_type": "code",
   "execution_count": 26,
   "id": "63c2f3a5",
   "metadata": {},
   "outputs": [
    {
     "data": {
      "text/plain": [
       "2"
      ]
     },
     "execution_count": 26,
     "metadata": {},
     "output_type": "execute_result"
    }
   ],
   "source": [
    "len(list(set(anoms_g) & set(anoms_gri)))"
   ]
  },
  {
   "cell_type": "code",
   "execution_count": null,
   "id": "62b3906f",
   "metadata": {},
   "outputs": [],
   "source": []
  }
 ],
 "metadata": {
  "kernelspec": {
   "display_name": "hetvae",
   "language": "python",
   "name": "hetvae"
  },
  "language_info": {
   "codemirror_mode": {
    "name": "ipython",
    "version": 3
   },
   "file_extension": ".py",
   "mimetype": "text/x-python",
   "name": "python",
   "nbconvert_exporter": "python",
   "pygments_lexer": "ipython3",
   "version": "3.10.5"
  }
 },
 "nbformat": 4,
 "nbformat_minor": 5
}
