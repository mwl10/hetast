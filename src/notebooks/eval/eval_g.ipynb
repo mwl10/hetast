{
 "cells": [
  {
   "cell_type": "code",
   "execution_count": 2,
   "id": "bc2ee6bc",
   "metadata": {},
   "outputs": [
    {
     "name": "stdout",
     "output_type": "stream",
     "text": [
      "The autoreload extension is already loaded. To reload it, use:\n",
      "  %reload_ext autoreload\n"
     ]
    },
    {
     "data": {
      "text/plain": [
       "<torch._C.Generator at 0x107c75d90>"
      ]
     },
     "execution_count": 2,
     "metadata": {},
     "output_type": "execute_result"
    }
   ],
   "source": [
    "import sys\n",
    "import os\n",
    "sys.path.insert(0, os.path.abspath('../..'))\n",
    "import torch\n",
    "import numpy as np\n",
    "import utils\n",
    "import matplotlib.pyplot as plt\n",
    "from scipy.stats import gaussian_kde\n",
    "from dataset import DataSet\n",
    "import pandas as pd\n",
    "from sklearn.decomposition import PCA\n",
    "%load_ext autoreload\n",
    "np.random.seed(2) ## keep same shuffled as was trained on \n",
    "torch.manual_seed(2)"
   ]
  },
  {
   "cell_type": "markdown",
   "id": "d99bb535",
   "metadata": {},
   "source": [
    "## load a checkpoint & dataset the network trained on"
   ]
  },
  {
   "cell_type": "code",
   "execution_count": 8,
   "id": "7d3f7f28",
   "metadata": {},
   "outputs": [
    {
     "name": "stdout",
     "output_type": "stream",
     "text": [
      "validated 3408 files out of 3408 for band='g'\n",
      "created union_tp attribute of length 3500\n",
      "dataset created w/ shape (2559, 1, 1974, 3)\n",
      "train size: 51, valid size: 50, test size: 2508\n"
     ]
    }
   ],
   "source": [
    "lcs = utils.get_data('../../datasets/ZTF_g',split=.02)\n"
   ]
  },
  {
   "cell_type": "code",
   "execution_count": 9,
   "id": "0c8758ca",
   "metadata": {},
   "outputs": [
    {
     "name": "stdout",
     "output_type": "stream",
     "text": [
      "=> loading checkpoint '../checkpoints/final/ZTF_g0.668415367603302.h5'\n",
      "Namespace(n_union_tp=3500, data_folder='datasets/ZTF_g', checkpoint='datasets/ZTF_g0.7037358283996582.h5', start_col=1, inc_errors=False, print_at=1, embed_time=128, enc_num_heads=16, latent_dim=64, mixing='concat', num_ref_points=16, rec_hidden=128, width=512, save_at=30, patience=100, early_stopping=False, niters=20000, frac=0.5, batch_size=2, mse_weight=5.0, dropout=0.0, num_resamples=0, lr=1e-06, scheduler=False, warmup=4000, kl_zero=False, kl_annealing=True, net='hetvae', device='mps', const_var=False, var_per_dim=False, std=0.1, seed=2, save=True, k_iwae=1)\n"
     ]
    }
   ],
   "source": [
    "net, optimizer, args, epoch, loss, train_loss, test_loss = utils.load_checkpoint('../checkpoints/final/ZTF_g0.668415367603302.h5', lcs.data_obj)\n",
    "\n"
   ]
  },
  {
   "cell_type": "code",
   "execution_count": 44,
   "id": "b9ad60bd",
   "metadata": {},
   "outputs": [],
   "source": [
    "from tqdm import tqdm\n",
    "def evaluate_hetvae(\n",
    "    net,\n",
    "    dim,\n",
    "    dataloader,\n",
    "    frac=0.5,\n",
    "    k_iwae=1,\n",
    "    device='mps',\n",
    "    forecast=False,\n",
    "    qz_mean=False\n",
    "):\n",
    "    train_n = 0\n",
    "    train_loss,avg_loglik, mse, mae = 0, 0, 0,0\n",
    "    mean_mae, mean_mse = 0, 0\n",
    "    individual_nlls = []\n",
    "    indy_nlls = []\n",
    "    mses= []\n",
    "    with torch.no_grad():\n",
    "        for batch in tqdm(dataloader):\n",
    "            batch_len = batch.shape[0]\n",
    "            # forecasting if this mask is set to first section of points only, not random selection\n",
    "            subsampled_mask = utils.make_masks(batch, frac=frac, forecast=forecast)\n",
    "            ######################\n",
    "            errorbars = torch.swapaxes(batch[:,:,:,2], 2,1)\n",
    "            weights = errorbars.clone()\n",
    "            weights[weights!=0] = 1 / weights[weights!=0]\n",
    "            errorbars[errorbars!=0] = torch.log(errorbars[errorbars!=0])\n",
    "            logerr = errorbars.to(device)\n",
    "            weights = weights.to(device)\n",
    "            ######################\n",
    "            batch = batch.to(device)\n",
    "            subsampled_mask = subsampled_mask.to(device)\n",
    "            recon_mask = torch.logical_xor(subsampled_mask, batch[:,:,:,1])\n",
    "\n",
    "            context_y = torch.cat((\n",
    "              batch[:,:,:,1] * subsampled_mask, subsampled_mask\n",
    "            ), 1).transpose(2,1)\n",
    "            recon_context_y = torch.cat((\n",
    "              batch[:,:,:,1] * recon_mask, recon_mask\n",
    "            ), 1).transpose(2,1)\n",
    "            \n",
    "            loss_info = net.compute_unsupervised_loss(\n",
    "              batch[:, 0, :,0],\n",
    "              context_y,\n",
    "              batch[:, 0, :,0],\n",
    "              recon_context_y,\n",
    "              logerr,\n",
    "              weights,\n",
    "              num_samples=k_iwae,\n",
    "              qz_mean=qz_mean\n",
    "            )\n",
    "            \n",
    "            individual_nlls.append(loss_info.loglik_per_ex.cpu().numpy())\n",
    "            train_loss += loss_info.composite_loss.item() * batch_len\n",
    "            avg_loglik += loss_info.loglik * batch_len\n",
    "            mse += loss_info.mse * batch_len\n",
    "            train_n += batch_len\n",
    "            \n",
    "\n",
    "    avg_nll =  -avg_loglik / train_n\n",
    "    avg_mse = -avg_loglik / train_n\n",
    "\n",
    "    return avg_nll, avg_mse, -1 * np.concatenate(individual_nlls, axis=1)[0]\n"
   ]
  },
  {
   "cell_type": "code",
   "execution_count": 45,
   "id": "a42fa17c",
   "metadata": {},
   "outputs": [
    {
     "name": "stdout",
     "output_type": "stream",
     "text": [
      "validated 10 files out of 10 for band='g'\n",
      "created union_tp attribute of length 3500\n",
      "dataset created w/ shape (8, 1, 1312, 3)\n",
      "train size: 8, valid size: 0, test size: 0\n"
     ]
    }
   ],
   "source": [
    "lcs_rm = utils.get_data('../../datasets/ZTF_rm_g',split=1.0)"
   ]
  },
  {
   "cell_type": "code",
   "execution_count": 55,
   "id": "fa66c20c",
   "metadata": {},
   "outputs": [
    {
     "name": "stderr",
     "output_type": "stream",
     "text": [
      "100%|███████████████████████████████████████████████████████████████████████████████████████████████████████████████████████████████████████████████████████████████| 4/4 [00:02<00:00,  1.61it/s]\n"
     ]
    }
   ],
   "source": [
    "nll, mse, nlls = evaluate_hetvae(net, 1, lcs_rm.data_obj['train_loader'], frac=0.5, device='mps', qz_mean=True)"
   ]
  },
  {
   "cell_type": "code",
   "execution_count": 57,
   "id": "3fedf174",
   "metadata": {},
   "outputs": [
    {
     "data": {
      "text/plain": [
       "array([1.1668259 , 2.5462494 , 1.9417218 , 0.16350092, 2.396925  ,\n",
       "       1.8516396 , 1.3945901 , 2.5341253 ], dtype=float32)"
      ]
     },
     "execution_count": 57,
     "metadata": {},
     "output_type": "execute_result"
    }
   ],
   "source": [
    "nlls"
   ]
  },
  {
   "cell_type": "code",
   "execution_count": 58,
   "id": "b0b63f90",
   "metadata": {},
   "outputs": [
    {
     "data": {
      "text/html": [
       "<div>\n",
       "<style scoped>\n",
       "    .dataframe tbody tr th:only-of-type {\n",
       "        vertical-align: middle;\n",
       "    }\n",
       "\n",
       "    .dataframe tbody tr th {\n",
       "        vertical-align: top;\n",
       "    }\n",
       "\n",
       "    .dataframe thead th {\n",
       "        text-align: right;\n",
       "    }\n",
       "</style>\n",
       "<table border=\"1\" class=\"dataframe\">\n",
       "  <thead>\n",
       "    <tr style=\"text-align: right;\">\n",
       "      <th></th>\n",
       "      <th>g</th>\n",
       "    </tr>\n",
       "  </thead>\n",
       "  <tbody>\n",
       "    <tr>\n",
       "      <th>NGC5548</th>\n",
       "      <td>../../datasets/ZTF_rm_g/g/NGC5548_DR_gband.csv</td>\n",
       "    </tr>\n",
       "    <tr>\n",
       "      <th>3C120</th>\n",
       "      <td>../../datasets/ZTF_rm_g/g/3C120_DR_gband.csv</td>\n",
       "    </tr>\n",
       "    <tr>\n",
       "      <th>Mrk142</th>\n",
       "      <td>../../datasets/ZTF_rm_g/g/Mrk142_DR_gband.csv</td>\n",
       "    </tr>\n",
       "    <tr>\n",
       "      <th>Mrk876</th>\n",
       "      <td>../../datasets/ZTF_rm_g/g/Mrk876_DR_gband.csv</td>\n",
       "    </tr>\n",
       "    <tr>\n",
       "      <th>NGC2617</th>\n",
       "      <td>../../datasets/ZTF_rm_g/g/NGC2617_DR_gband.csv</td>\n",
       "    </tr>\n",
       "    <tr>\n",
       "      <th>H2106-099</th>\n",
       "      <td>../../datasets/ZTF_rm_g/g/H2106-099_DR_gband.csv</td>\n",
       "    </tr>\n",
       "    <tr>\n",
       "      <th>Mrk817</th>\n",
       "      <td>../../datasets/ZTF_rm_g/g/Mrk817_DR_gband.csv</td>\n",
       "    </tr>\n",
       "    <tr>\n",
       "      <th>MCG+08-11-011</th>\n",
       "      <td>../../datasets/ZTF_rm_g/g/MCG+08-11-011_DR_gba...</td>\n",
       "    </tr>\n",
       "  </tbody>\n",
       "</table>\n",
       "</div>"
      ],
      "text/plain": [
       "                                                               g\n",
       "NGC5548           ../../datasets/ZTF_rm_g/g/NGC5548_DR_gband.csv\n",
       "3C120               ../../datasets/ZTF_rm_g/g/3C120_DR_gband.csv\n",
       "Mrk142             ../../datasets/ZTF_rm_g/g/Mrk142_DR_gband.csv\n",
       "Mrk876             ../../datasets/ZTF_rm_g/g/Mrk876_DR_gband.csv\n",
       "NGC2617           ../../datasets/ZTF_rm_g/g/NGC2617_DR_gband.csv\n",
       "H2106-099       ../../datasets/ZTF_rm_g/g/H2106-099_DR_gband.csv\n",
       "Mrk817             ../../datasets/ZTF_rm_g/g/Mrk817_DR_gband.csv\n",
       "MCG+08-11-011  ../../datasets/ZTF_rm_g/g/MCG+08-11-011_DR_gba..."
      ]
     },
     "execution_count": 58,
     "metadata": {},
     "output_type": "execute_result"
    }
   ],
   "source": [
    "#eval wrt means and 10 different frac things for anomaly scores "
   ]
  },
  {
   "cell_type": "code",
   "execution_count": null,
   "id": "62c48cfa",
   "metadata": {},
   "outputs": [],
   "source": []
  }
 ],
 "metadata": {
  "kernelspec": {
   "display_name": "hetvae",
   "language": "python",
   "name": "hetvae"
  },
  "language_info": {
   "codemirror_mode": {
    "name": "ipython",
    "version": 3
   },
   "file_extension": ".py",
   "mimetype": "text/x-python",
   "name": "python",
   "nbconvert_exporter": "python",
   "pygments_lexer": "ipython3",
   "version": "3.10.5"
  }
 },
 "nbformat": 4,
 "nbformat_minor": 5
}
