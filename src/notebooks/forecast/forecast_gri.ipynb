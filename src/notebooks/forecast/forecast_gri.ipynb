{
 "cells": [
  {
   "cell_type": "code",
   "execution_count": 16,
   "id": "a3ac3f16",
   "metadata": {},
   "outputs": [
    {
     "name": "stdout",
     "output_type": "stream",
     "text": [
      "The autoreload extension is already loaded. To reload it, use:\n",
      "  %reload_ext autoreload\n"
     ]
    },
    {
     "data": {
      "text/plain": [
       "<torch._C.Generator at 0x105e49690>"
      ]
     },
     "execution_count": 16,
     "metadata": {},
     "output_type": "execute_result"
    }
   ],
   "source": [
    "import sys\n",
    "import os\n",
    "sys.path.insert(0, os.path.abspath('../..'))\n",
    "import torch\n",
    "import numpy as np\n",
    "import utils\n",
    "import matplotlib.pyplot as plt\n",
    "from dataset import DataSet\n",
    "import pandas as pd\n",
    "%load_ext autoreload\n",
    "np.random.seed(2) \n",
    "torch.manual_seed(2)"
   ]
  },
  {
   "cell_type": "code",
   "execution_count": 18,
   "id": "7c1d3de9",
   "metadata": {},
   "outputs": [],
   "source": [
    "%autoreload"
   ]
  },
  {
   "cell_type": "code",
   "execution_count": 12,
   "id": "98e5ec84",
   "metadata": {},
   "outputs": [
    {
     "name": "stdout",
     "output_type": "stream",
     "text": [
      "validated 3407 files out of 3407 for band='r'\n",
      "validated 3407 files out of 3407 for band='i'\n",
      "validated 3408 files out of 3408 for band='g'\n",
      "created union_tp attribute of length 3500\n",
      "dataset created w/ shape (2683, 3, 4431, 3)\n",
      "train size: 2683, valid size: 0, test size: 0\n"
     ]
    }
   ],
   "source": [
    "lcs = utils.get_data('../../datasets/ZTF_all', split=1.0)\n"
   ]
  },
  {
   "cell_type": "code",
   "execution_count": 13,
   "id": "c7116d61",
   "metadata": {},
   "outputs": [
    {
     "name": "stdout",
     "output_type": "stream",
     "text": [
      "=> loading checkpoint '../checkpoints/ZTF_all_noz0.7991786003112793.h5'\n",
      "Namespace(n_union_tp=3500, data_folder='datasets/ZTF_all_noz', checkpoint='ZTF_all_noz0.7986480593681335.h5', start_col=1, inc_errors=False, print_at=1, embed_time=128, enc_num_heads=16, latent_dim=64, mixing='concat', num_ref_points=16, rec_hidden=128, width=512, save_at=30, patience=100, early_stopping=False, niters=20000, frac=0.5, batch_size=2, mse_weight=5.0, dropout=0.0, num_resamples=0, lr=1e-08, scheduler=False, warmup=4000, kl_zero=False, kl_annealing=True, net='hetvae', device='mps', const_var=False, var_per_dim=False, std=0.1, seed=2, save=True, k_iwae=1)\n"
     ]
    }
   ],
   "source": [
    "net, optimizer, args, epoch, loss, train_loss, test_loss = utils.load_checkpoint('../checkpoints/ZTF_all_noz0.7991786003112793.h5', lcs.data_obj)\n"
   ]
  },
  {
   "cell_type": "code",
   "execution_count": 19,
   "id": "4d2660ad",
   "metadata": {},
   "outputs": [
    {
     "name": "stderr",
     "output_type": "stream",
     "text": [
      "100%|█████████████████████████████████████████████████████████████████████████████████████████████████████████████████████████████████████████████████████████| 1342/1342 [00:45<00:00, 29.26it/s]\n"
     ]
    }
   ],
   "source": [
    "# make encoding with only first half of recorded points for each light curve\n",
    "\n",
    "qzs,disc_path = utils.encode(lcs.data_obj['train_loader'], net, device='mps',subsample=True,forecast=True) "
   ]
  },
  {
   "cell_type": "code",
   "execution_count": 32,
   "id": "e318bad6",
   "metadata": {},
   "outputs": [],
   "source": [
    "target_x = lcs.dataset[:,:,:,0]"
   ]
  },
  {
   "cell_type": "code",
   "execution_count": 33,
   "id": "2afbd937",
   "metadata": {},
   "outputs": [],
   "source": [
    "## take samples from qz, decode separately, then average the interpolations \n",
    "n_samples = 10\n",
    "zs = (np.random.randn(n_samples, qzs.shape[0], qzs.shape[2],qzs.shape[3]) * qzs[:,1,:,:] + qzs[:,0,:,:])"
   ]
  },
  {
   "cell_type": "code",
   "execution_count": 34,
   "id": "3c0ca06a",
   "metadata": {},
   "outputs": [
    {
     "name": "stderr",
     "output_type": "stream",
     "text": [
      "100%|███████████████████████████████████████████████████████████████████████████████████████████████████████████████████████████████████████████████████████████████| 5/5 [00:12<00:00,  2.41s/it]\n",
      "100%|███████████████████████████████████████████████████████████████████████████████████████████████████████████████████████████████████████████████████████████████| 5/5 [00:10<00:00,  2.13s/it]\n",
      "100%|███████████████████████████████████████████████████████████████████████████████████████████████████████████████████████████████████████████████████████████████| 5/5 [00:10<00:00,  2.11s/it]\n",
      "100%|███████████████████████████████████████████████████████████████████████████████████████████████████████████████████████████████████████████████████████████████| 5/5 [00:11<00:00,  2.21s/it]\n",
      "100%|███████████████████████████████████████████████████████████████████████████████████████████████████████████████████████████████████████████████████████████████| 5/5 [00:11<00:00,  2.37s/it]\n",
      "100%|███████████████████████████████████████████████████████████████████████████████████████████████████████████████████████████████████████████████████████████████| 5/5 [00:10<00:00,  2.18s/it]\n",
      "100%|███████████████████████████████████████████████████████████████████████████████████████████████████████████████████████████████████████████████████████████████| 5/5 [00:11<00:00,  2.21s/it]\n",
      "100%|███████████████████████████████████████████████████████████████████████████████████████████████████████████████████████████████████████████████████████████████| 5/5 [00:10<00:00,  2.19s/it]\n",
      "100%|███████████████████████████████████████████████████████████████████████████████████████████████████████████████████████████████████████████████████████████████| 5/5 [00:10<00:00,  2.15s/it]\n",
      "100%|███████████████████████████████████████████████████████████████████████████████████████████████████████████████████████████████████████████████████████████████| 5/5 [00:10<00:00,  2.11s/it]\n"
     ]
    }
   ],
   "source": [
    "interps = np.array([utils.decode(net,z[:10],disc_path[:10],target_x[:10]) for z in zs])"
   ]
  },
  {
   "cell_type": "code",
   "execution_count": 35,
   "id": "4c8bd090",
   "metadata": {},
   "outputs": [
    {
     "data": {
      "text/plain": [
       "(10, 10, 3, 4431, 3)"
      ]
     },
     "execution_count": 35,
     "metadata": {},
     "output_type": "execute_result"
    }
   ],
   "source": [
    "interps.shape"
   ]
  },
  {
   "cell_type": "code",
   "execution_count": null,
   "id": "42591c26",
   "metadata": {},
   "outputs": [],
   "source": [
    "t = interps[0,:,:,:,0]\n",
    "y_avg = interps[:,:,:,:,1].mean(0)\n",
    "yerr_avg = interps[:,:,:,:,2].mean(0)\n",
    "intps = np.concatenate((t[np.newaxis],y_avg[np.newaxis],yerr_avg[np.newaxis]),axis=0).transpose(1,2,3,0)"
   ]
  },
  {
   "cell_type": "markdown",
   "id": "f9240163",
   "metadata": {},
   "source": [
    "### UNNORMALIZE"
   ]
  },
  {
   "cell_type": "code",
   "execution_count": null,
   "id": "5bdc617b",
   "metadata": {},
   "outputs": [],
   "source": [
    "for i, object_lcs in enumerate(lcs.unnormalized_data[:10]): \n",
    "    min_t = 1000000\n",
    "    for lc in object_lcs:\n",
    "        if lc[:,1].any():\n",
    "            if lc[0,0] < min_t:\n",
    "                min_t = lc[0,0]\n",
    "                \n",
    "    for j, lc in enumerate(object_lcs):\n",
    "        if lc[:,1].any():\n",
    "            mean = np.mean(lc[:,1])\n",
    "            std = np.std(lc[:,1])\n",
    "            intps[i,j,:,0] = intps[i,j,:,0] + min_t\n",
    "            intps[i,j,:,1] = (intps[i,j,:,1] * std) + mean  \n",
    "            intps[i,j,:,2] = (intps[i,j,:,2] * std)\n"
   ]
  },
  {
   "cell_type": "code",
   "execution_count": null,
   "id": "c2cb96ba",
   "metadata": {},
   "outputs": [],
   "source": [
    "n=len(interps)\n",
    "dims = len(lcs.bands)\n",
    "figsize=(30,30)\n",
    "fig,ax = plt.subplots(n,dims,figsize=figsize, squeeze=False)\n",
    "for ex in range(n):\n",
    "    ax[ex,0].set_ylabel(f'bin {ex}')\n",
    "    for band in range(dims):\n",
    "        t=intps[ex,band,:,0]\n",
    "        y=intps[ex,band,:,1]\n",
    "        yerr=intps[ex,band,:,2]\n",
    "        ax[ex,band].fill_between(t,y-yerr,y+yerr, label='error envelope',color='lightcoral')\n",
    "        ax[ex,band].errorbar(t,y,yerr=yerr, c='blue', ecolor='#65c9f7', label='prediction')\n",
    "        #ax[ex,band].scatter(t,y)\n",
    "        if lcs.unnormalized_data[ex][band][:,1].any(): # not missing light curves\n",
    "            ax[ex,band].scatter(lcs.unnormalized_data[ex][band][:,0], lcs.unnormalized_data[ex][band][:,1])\n",
    "            "
   ]
  },
  {
   "cell_type": "code",
   "execution_count": null,
   "id": "66e19997",
   "metadata": {},
   "outputs": [],
   "source": []
  },
  {
   "cell_type": "code",
   "execution_count": null,
   "id": "a91b39b1",
   "metadata": {},
   "outputs": [],
   "source": [
    "# setting make masks to first half of the points, for only test set\n",
    "# take MSE / NLL wrt second half of the points for the test set"
   ]
  }
 ],
 "metadata": {
  "kernelspec": {
   "display_name": "hetvae",
   "language": "python",
   "name": "hetvae"
  },
  "language_info": {
   "codemirror_mode": {
    "name": "ipython",
    "version": 3
   },
   "file_extension": ".py",
   "mimetype": "text/x-python",
   "name": "python",
   "nbconvert_exporter": "python",
   "pygments_lexer": "ipython3",
   "version": "3.10.5"
  }
 },
 "nbformat": 4,
 "nbformat_minor": 5
}
