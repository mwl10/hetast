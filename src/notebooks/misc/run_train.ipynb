{
 "cells": [
  {
   "cell_type": "code",
   "execution_count": 1,
   "id": "ca659c5e",
   "metadata": {},
   "outputs": [],
   "source": [
    "import sys\n",
    "import os\n",
    "sys.path.insert(0, os.path.abspath('..'))"
   ]
  },
  {
   "cell_type": "code",
   "execution_count": 4,
   "id": "9d0d7245",
   "metadata": {},
   "outputs": [
    {
     "name": "stdout",
     "output_type": "stream",
     "text": [
      "Namespace(n_union_tp=2000, data_folder='../../datasets/ZTF_g_test', checkpoint='', start_col=1, inc_errors=False, print_at=1, embed_time=16, enc_num_heads=4, latent_dim=32, mixing='concat', num_ref_points=4, rec_hidden=16, width=512, save_at=100, patience=100, early_stopping=False, niters=5000, frac=0.5, batch_size=1, mse_weight=5.0, dropout=0.0, num_resamples=0, lr=0.0001, scheduler=False, warmup=4000, kl_zero=False, kl_annealing=True, net='hetvae', device='mps', const_var=False, var_per_dim=False, std=0.1, seed=2, save=True, k_iwae=1) 6166901\n",
      "validated 49 files out of 49 for band='g'\n",
      "created union_tp attribute of length 2000\n",
      "dataset created w/ shape (36, 1, 1006, 3)\n",
      "train size: 32, valid size: 4, test size: 4\n",
      "model_size=57314\n",
      "0.0016666666666666668\n",
      "/Users/mattlowery/Desktop/Desko/code/astro/hetast/src/layers.py:84: UserWarning: The operator 'aten::repeat_interleave.self_int' is not currently supported on the MPS backend and will fall back to run on the CPU. This may have performance implications. (Triggered internally at /Users/runner/work/_temp/anaconda/conda-bld/pytorch_1660029059141/work/aten/src/ATen/mps/MPSFallback.mm:11.)\n",
      "  scores = scores.unsqueeze(-1).repeat_interleave(dim, dim=-1)\n",
      "1,\tIter: 1, train loss: 6.3124, avg nll: 1.4442, avg wnll: 165.1261, avg kl: 0.0401, mse: 0.973626, wmse: 18.659939, mae: 0.782140\n",
      "0.0033333333333333335\n",
      "2,\tIter: 2, train loss: 6.5331, avg nll: 1.4498, avg wnll: 173.7688, avg kl: 0.0576, mse: 1.016623, wmse: 19.253180, mae: 0.798862\n",
      "0.005\n",
      "3,\tIter: 3, train loss: 6.4211, avg nll: 1.4373, avg wnll: nan, avg kl: 0.0466, mse: 0.996701, wmse: 19.464819, mae: 0.793483\n",
      "0.006666666666666667\n",
      "4,\tIter: 4, train loss: 6.3211, avg nll: 1.4267, avg wnll: 187.2910, avg kl: 0.0500, mse: 0.978812, wmse: 18.911335, mae: 0.787871\n",
      "0.008333333333333333\n",
      "5,\tIter: 5, train loss: 6.1855, avg nll: 1.4136, avg wnll: 188.4066, avg kl: 0.0533, mse: 0.954283, wmse: 18.146353, mae: 0.775987\n",
      "0.01\n",
      "6,\tIter: 6, train loss: 6.4100, avg nll: 1.4266, avg wnll: nan, avg kl: 0.0606, mse: 0.996564, wmse: 19.043941, mae: 0.798483\n",
      "0.011666666666666667\n",
      "7,\tIter: 7, train loss: 6.6079, avg nll: 1.4402, avg wnll: nan, avg kl: 0.0505, mse: 1.033406, wmse: 19.697027, mae: 0.806643\n",
      "0.013333333333333334\n",
      "8,\tIter: 8, train loss: 6.5924, avg nll: 1.4384, avg wnll: 218.0202, avg kl: 0.0541, mse: 1.030659, wmse: 20.113583, mae: 0.802134\n",
      "0.015000000000000001\n",
      "9,\tIter: 9, train loss: 6.3836, avg nll: 1.4213, avg wnll: 202.8655, avg kl: 0.0519, mse: 0.992310, wmse: 18.600012, mae: 0.793806\n",
      "0.016666666666666666\n",
      "10,\tIter: 10, train loss: 6.3215, avg nll: 1.4158, avg wnll: 202.6447, avg kl: 0.0482, mse: 0.980986, wmse: 18.728849, mae: 0.791461\n",
      "100%|█████████████████████████████████████████████| 4/4 [00:00<00:00, 33.09it/s]\n",
      "1680615857.9831092\n",
      "0.018333333333333333\n",
      "11,\tIter: 11, train loss: 6.5476, avg nll: 1.4334, avg wnll: 217.5046, avg kl: 0.0491, mse: 1.022654, wmse: 19.748175, mae: 0.798733\n",
      "0.02\n",
      "12,\tIter: 12, train loss: 6.4512, avg nll: 1.4247, avg wnll: 221.9575, avg kl: 0.0658, mse: 1.005034, wmse: 19.474543, mae: 0.791811\n",
      "0.021666666666666667\n",
      "13,\tIter: 13, train loss: 6.5477, avg nll: 1.4323, avg wnll: 219.6544, avg kl: 0.0549, mse: 1.022847, wmse: 19.365425, mae: 0.803001\n",
      "0.023333333333333334\n",
      "14,\tIter: 14, train loss: 6.6183, avg nll: 1.4376, avg wnll: 234.4900, avg kl: 0.0535, mse: 1.035882, wmse: 19.883699, mae: 0.810392\n",
      "0.025\n",
      "15,\tIter: 15, train loss: 6.4214, avg nll: 1.4213, avg wnll: 220.9852, avg kl: 0.0672, mse: 0.999677, wmse: 19.126284, mae: 0.785777\n",
      "0.02666666666666667\n",
      "16,\tIter: 16, train loss: 6.5776, avg nll: 1.4337, avg wnll: 235.6137, avg kl: 0.0607, mse: 1.028452, wmse: 19.696184, mae: 0.810657\n",
      "0.028333333333333335\n",
      "^C\n",
      "Traceback (most recent call last):\n",
      "  File \"/Users/mattlowery/Desktop/Desko/code/astro/hetast/src/notebooks/misc/../../train.py\", line 247, in <module>\n",
      "    main()\n",
      "  File \"/Users/mattlowery/Desktop/Desko/code/astro/hetast/src/notebooks/misc/../../train.py\", line 243, in main\n",
      "    train(args)\n",
      "  File \"/Users/mattlowery/Desktop/Desko/code/astro/hetast/src/notebooks/misc/../../train.py\", line 96, in train\n",
      "    loss_info = net.compute_unsupervised_loss(\n",
      "  File \"/Users/mattlowery/Desktop/Desko/code/astro/hetast/src/vae_model.py\", line 247, in compute_unsupervised_loss\n",
      "    px, qz = self.get_reconstruction(\n",
      "  File \"/Users/mattlowery/Desktop/Desko/code/astro/hetast/src/vae_model.py\", line 190, in get_reconstruction\n",
      "    px = self.decode(z, target_x)\n",
      "  File \"/Users/mattlowery/Desktop/Desko/code/astro/hetast/src/vae_model.py\", line 151, in decode\n",
      "    hidden = self.decoder(target_x, self.query, z)\n",
      "  File \"/opt/homebrew/Caskroom/miniforge/base/envs/hetvae/lib/python3.10/site-packages/torch/nn/modules/module.py\", line 1186, in _call_impl\n",
      "    return forward_call(*input, **kwargs)\n",
      "  File \"/Users/mattlowery/Desktop/Desko/code/astro/hetast/src/layers.py\", line 121, in forward\n",
      "    key = self.time_emb(key)\n",
      "  File \"/opt/homebrew/Caskroom/miniforge/base/envs/hetvae/lib/python3.10/site-packages/torch/nn/modules/module.py\", line 1186, in _call_impl\n",
      "    return forward_call(*input, **kwargs)\n",
      "  File \"/Users/mattlowery/Desktop/Desko/code/astro/hetast/src/layers.py\", line 37, in forward\n",
      "    return torch.sin(self.w(tt))\n",
      "  File \"/opt/homebrew/Caskroom/miniforge/base/envs/hetvae/lib/python3.10/site-packages/torch/nn/modules/module.py\", line 1186, in _call_impl\n",
      "    return forward_call(*input, **kwargs)\n",
      "  File \"/opt/homebrew/Caskroom/miniforge/base/envs/hetvae/lib/python3.10/site-packages/torch/nn/modules/linear.py\", line 114, in forward\n",
      "    return F.linear(input, self.weight, self.bias)\n",
      "KeyboardInterrupt\n",
      "\u001b[0m"
     ]
    }
   ],
   "source": [
    "! python3 ../../train.py \\\n",
    "    --data-folder ../../datasets/ZTF_g_test \\\n",
    "    --device mps \\\n",
    "    --niters 5000 \\\n",
    "    --rec-hidden 16 \\\n",
    "    --num-ref-points 4 \\\n",
    "    --batch-size 1 \\\n",
    "    --latent-dim 32 \\\n",
    "    --embed-time 16 \\\n",
    "    --n-union-tp 2000 \\\n",
    "    --start-col 1 \\\n",
    "    --save-at 100 \\\n",
    "    --num-resamples 0 \\\n",
    "    --kl-annealing \\\n",
    "    --lr 0.0001 \\\n",
    "    --print-at 1 \\\n",
    "    --frac 0.5 \\\n",
    "    --seed 2"
   ]
  },
  {
   "cell_type": "code",
   "execution_count": null,
   "id": "25b01101",
   "metadata": {},
   "outputs": [],
   "source": []
  },
  {
   "cell_type": "code",
   "execution_count": null,
   "id": "43934d0d",
   "metadata": {},
   "outputs": [],
   "source": [
    "! python3 ../optuna_train.py 10 10 # num trials, num iters per trial "
   ]
  }
 ],
 "metadata": {
  "kernelspec": {
   "display_name": "hetvae",
   "language": "python",
   "name": "hetvae"
  },
  "language_info": {
   "codemirror_mode": {
    "name": "ipython",
    "version": 3
   },
   "file_extension": ".py",
   "mimetype": "text/x-python",
   "name": "python",
   "nbconvert_exporter": "python",
   "pygments_lexer": "ipython3",
   "version": "3.10.5"
  }
 },
 "nbformat": 4,
 "nbformat_minor": 5
}
