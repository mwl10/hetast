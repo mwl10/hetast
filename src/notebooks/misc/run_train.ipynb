{
 "cells": [
  {
   "cell_type": "code",
   "execution_count": 1,
   "id": "e2b01888",
   "metadata": {},
   "outputs": [],
   "source": [
    "import sys\n",
    "import os\n",
    "sys.path.insert(0, os.path.abspath('../..'))"
   ]
  },
  {
   "cell_type": "code",
   "execution_count": 5,
   "id": "b348ea3a",
   "metadata": {},
   "outputs": [
    {
     "name": "stdout",
     "output_type": "stream",
     "text": [
      "The autoreload extension is already loaded. To reload it, use:\n",
      "  %reload_ext autoreload\n"
     ]
    }
   ],
   "source": [
    "%load_ext autoreload\n",
    "%autoreload"
   ]
  },
  {
   "cell_type": "code",
   "execution_count": 33,
   "id": "abdac452",
   "metadata": {},
   "outputs": [
    {
     "name": "stdout",
     "output_type": "stream",
     "text": [
      "/Users/mattlowery/Desktop/Desko/code/astro/hetast/src/notebooks/misc/../../train.py:214: UserWarning: \n",
      "The version_base parameter is not specified.\n",
      "Please specify a compatability version level, or None.\n",
      "Will assume defaults for version 1.1\n",
      "  @hydra.main(config_name='config', config_path='/Users/mattlowery/Desktop/Desko/code/astro/hetast/src/conf')\n",
      "/opt/homebrew/Caskroom/miniforge/base/envs/hetvae/lib/python3.10/site-packages/hydra/_internal/hydra.py:119: UserWarning: Future Hydra versions will no longer change working directory at job runtime by default.\n",
      "See https://hydra.cc/docs/1.2/upgrades/1.1_to_1.2/changes_to_job_working_dir/ for more information.\n",
      "  ret = run_job(\n",
      "Namespace(data_folder='/Users/mattlowery/Desktop/Desko/code/astro/hetast/src/notebooks/misc/../../datasets/ZTF_g_test', start_col=1, checkpoint=None, seed=2, net='HeTVAE', mixing='concat', n_union_tp=3500, embed_time=128, num_heads=16, latent_dim=128, num_ref_points=16, rec_hidden=128, width=512, niters=6000, patience=1000, batch_size=2, device='mps', k_iwae=1, lr=0.001, beta1=0.9, beta2=0.999, scheduler=True, warmup=10, factor=0.5, lr_patience=30, threshold=0.01, dropout=0.1, inc_errors=False, frac=0.5, mse_weight=5.0, kl_annealing=True, print_at=1, save_at=1000, kl_zero=False, const_var=False, var_per_dim=False, std=0.1, num_resamples=0) 8519\n",
      "found 49 for band='g'\n",
      "max time:  1501.0039\n",
      "created union_tp attribute of length 3500\n",
      "dataset created, lcs.dataset.shape=(41, 1, 1006, 3)\n",
      "train size: 36, valid size: 8, test size: 5\n",
      "model_size=828802\n",
      "1,/Users/mattlowery/Desktop/Desko/code/astro/hetast/src/layers.py:83: UserWarning: MPS: no support for int64 repeats mask, casting it to int32 (Triggered internally at /Users/runner/work/pytorch/pytorch/pytorch/aten/src/ATen/native/mps/operations/Repeat.mm:236.)\n",
      "  scores = scores.unsqueeze(-1).repeat_interleave(dim, dim=-1)\n",
      "scaled wmse: tensor(1.8568, device='mps:0', grad_fn=<DivBackward0>) scaled_wnll: tensor([[-0.0926, -0.1074]], device='mps:0', grad_fn=<DivBackward0>)\n",
      "scaled wmse: tensor(13.6570, device='mps:0', grad_fn=<DivBackward0>) scaled_wnll: tensor([[-1.3319, -4.0880]], device='mps:0', grad_fn=<DivBackward0>)\n",
      "scaled wmse: tensor(4.9147, device='mps:0', grad_fn=<DivBackward0>) scaled_wnll: tensor([[-0.5621, -0.5891]], device='mps:0', grad_fn=<DivBackward0>)\n",
      "scaled wmse: tensor(5.5178, device='mps:0', grad_fn=<DivBackward0>) scaled_wnll: tensor([[-1.5102, -0.0672]], device='mps:0', grad_fn=<DivBackward0>)\n",
      "scaled wmse: tensor(1.7269, device='mps:0', grad_fn=<DivBackward0>) scaled_wnll: tensor([[-0.0536, -0.0963]], device='mps:0', grad_fn=<DivBackward0>)\n"
     ]
    }
   ],
   "source": [
    "! python3 ../../train.py data_folder=../../datasets/ZTF_g_test training.regularization.dropout=0.1 #'training.regularization.dropout=choice(0.1,0.2,0.3,0.4)'\n"
   ]
  },
  {
   "cell_type": "code",
   "execution_count": null,
   "id": "fbb5216a",
   "metadata": {},
   "outputs": [],
   "source": [
    "! python3 ../../train.py dataset=g_test training.loss.inc_errors=True\n"
   ]
  }
 ],
 "metadata": {
  "kernelspec": {
   "display_name": "hetvae",
   "language": "python",
   "name": "hetvae"
  },
  "language_info": {
   "codemirror_mode": {
    "name": "ipython",
    "version": 3
   },
   "file_extension": ".py",
   "mimetype": "text/x-python",
   "name": "python",
   "nbconvert_exporter": "python",
   "pygments_lexer": "ipython3",
   "version": "3.10.5"
  }
 },
 "nbformat": 4,
 "nbformat_minor": 5
}
