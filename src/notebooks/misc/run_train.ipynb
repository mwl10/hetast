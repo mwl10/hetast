{
 "cells": [
  {
   "cell_type": "code",
   "execution_count": 22,
   "id": "4dd3ef8c",
   "metadata": {},
   "outputs": [],
   "source": [
    "import sys\n",
    "import os\n",
    "sys.path.insert(0, os.path.abspath('..'))"
   ]
  },
  {
   "cell_type": "code",
   "execution_count": 24,
   "id": "082b2fee",
   "metadata": {},
   "outputs": [
    {
     "name": "stdout",
     "output_type": "stream",
     "text": [
      "The autoreload extension is already loaded. To reload it, use:\n",
      "  %reload_ext autoreload\n"
     ]
    }
   ],
   "source": [
    "%load_ext autoreload\n",
    "%autoreload"
   ]
  },
  {
   "cell_type": "code",
   "execution_count": null,
   "id": "0d0b1f9e",
   "metadata": {},
   "outputs": [],
   "source": [
    "# directly scaled down model \n",
    "python3 $HOME/astr/hetast/src/train.py \\\n",
    "    --data-folder datasets/ZTF_g \\\n",
    "    --device cuda \\\n",
    "    --batch-size 2 \\\n",
    "    --niters 20000 \\\n",
    "    --start-col 1 \\\n",
    "    --save-at 30 \\\n",
    "    --enc-num-heads 16 \\\n",
    "    --latent-dim 64 \\\n",
    "    --n-union-tp 3500 \\\n",
    "    --lr 0.0001 \\\n",
    "    --kl-annealing \\\n",
    "    --num-ref-points 16 \\\n",
    "    --print-at 1 \\\n",
    "    --frac 0.5 \\\n",
    "    --num-resamples 0"
   ]
  },
  {
   "cell_type": "code",
   "execution_count": null,
   "id": "fa4ae0ff",
   "metadata": {},
   "outputs": [],
   "source": [
    "    parser.add_argument('--embed-time', type=int, default=128)  \n",
    "    parser.add_argument('--enc-num-heads', type=int, default=4) \n",
    "    parser.add_argument('--latent-dim', type=int, default=128)  \n",
    "    parser.add_argument('--mixing', type=str, default='concat') \n",
    "    parser.add_argument('--num-ref-points', type=int, default=16) \n",
    "    parser.add_argument('--rec-hidden', type=int, default=128) \n",
    "    parser.add_argument('--width', type=int, default=512)"
   ]
  },
  {
   "cell_type": "code",
   "execution_count": 28,
   "id": "4c4cb02b",
   "metadata": {},
   "outputs": [
    {
     "name": "stdout",
     "output_type": "stream",
     "text": [
      "False\n",
      "Namespace(n_union_tp=2000, data_folder='../../datasets/ZTF_g_test', checkpoint='', start_col=1, inc_errors=False, print_at=1, embed_time=16, enc_num_heads=4, latent_dim=32, mixing='concat', num_ref_points=4, rec_hidden=16, width=512, save_at=100, patience=1000, early_stopping=False, niters=5000, frac=0.5, batch_size=1, mse_weight=5.0, dropout=0.2, num_resamples=0, lr=0.0001, scheduler=False, warmup=4000, kl_zero=False, kl_annealing=True, net='hetvae', device='mps', const_var=False, var_per_dim=False, std=0.1, seed=2, k_iwae=1, nodet=False) 8601\n",
      "validated 49 files out of 49 for band='g'\n",
      "1501.0039\n",
      "created union_tp attribute of length 2000\n",
      "dataset created w/ shape (36, 1, 1006, 3)\n",
      "train size: 32, valid size: 7, test size: 4\n",
      "model_size=57314\n",
      "1,/Users/mattlowery/Desktop/Desko/code/astro/hetast/src/layers.py:83: UserWarning: The operator 'aten::repeat_interleave.self_int' is not currently supported on the MPS backend and will fall back to run on the CPU. This may have performance implications. (Triggered internally at /Users/runner/work/_temp/anaconda/conda-bld/pytorch_1660029059141/work/aten/src/ATen/mps/MPSFallback.mm:11.)\n",
      "  scores = scores.unsqueeze(-1).repeat_interleave(dim, dim=-1)\n",
      "\tIter: 1, train loss: 6.3024, avg nll: 1.4428, avg wnll: nan, avg kl: 0.0071, mse: 0.971903, wmse: 18.692322, mae: 0.782886, val nll: 1.4487, val mse 1.4487\n",
      "2,^C\n",
      "Traceback (most recent call last):\n",
      "  File \"/Users/mattlowery/Desktop/Desko/code/astro/hetast/src/notebooks/misc/../../train.py\", line 284, in <module>\n",
      "    main()\n",
      "  File \"/Users/mattlowery/Desktop/Desko/code/astro/hetast/src/notebooks/misc/../../train.py\", line 280, in main\n",
      "    train(args)\n",
      "  File \"/Users/mattlowery/Desktop/Desko/code/astro/hetast/src/notebooks/misc/../../train.py\", line 145, in train\n",
      "    val_nll, val_mse, val_indiv_nlls = utils.evaluate_hetvae(\n",
      "  File \"/Users/mattlowery/Desktop/Desko/code/astro/hetast/src/utils.py\", line 190, in evaluate_hetvae\n",
      "    loss_info = net.compute_unsupervised_loss(\n",
      "  File \"/Users/mattlowery/Desktop/Desko/code/astro/hetast/src/vae_model.py\", line 248, in compute_unsupervised_loss\n",
      "    px, qz = self.get_reconstruction(\n",
      "  File \"/Users/mattlowery/Desktop/Desko/code/astro/hetast/src/vae_model.py\", line 174, in get_reconstruction\n",
      "    qz, hidden = self.encode(context_x, context_y)\n",
      "  File \"/Users/mattlowery/Desktop/Desko/code/astro/hetast/src/vae_model.py\", line 140, in encode\n",
      "    hidden = self.encoder(self.query, context_x, value, mask)\n",
      "  File \"/opt/homebrew/Caskroom/miniforge/base/envs/hetvae/lib/python3.10/site-packages/torch/nn/modules/module.py\", line 1186, in _call_impl\n",
      "    return forward_call(*input, **kwargs)\n",
      "  File \"/Users/mattlowery/Desktop/Desko/code/astro/hetast/src/layers.py\", line 130, in forward\n",
      "    x, intensity = self.attention(query, key, value, mask, self.dropout)\n",
      "  File \"/Users/mattlowery/Desktop/Desko/code/astro/hetast/src/layers.py\", line 98, in attention\n",
      "    un_key = self.linears[1](self.time_emb(self.union_tp)).view(\n",
      "  File \"/opt/homebrew/Caskroom/miniforge/base/envs/hetvae/lib/python3.10/site-packages/torch/nn/modules/module.py\", line 1186, in _call_impl\n",
      "    return forward_call(*input, **kwargs)\n",
      "  File \"/Users/mattlowery/Desktop/Desko/code/astro/hetast/src/layers.py\", line 30, in forward\n",
      "    if tt.dim() == 1:\n",
      "KeyboardInterrupt\n",
      "\u001b[0m"
     ]
    }
   ],
   "source": [
    "! python3 ../../train.py \\\n",
    "    --data-folder ../../datasets/ZTF_g_test \\\n",
    "    --device mps \\\n",
    "    --niters 5000 \\\n",
    "    --rec-hidden 16 \\\n",
    "    --num-ref-points 4 \\\n",
    "    --batch-size 1 \\\n",
    "    --latent-dim 32 \\\n",
    "    --embed-time 16 \\\n",
    "    --n-union-tp 2000 \\\n",
    "    --start-col 1 \\\n",
    "    --dropout 0.2 \\\n",
    "    --save-at 100 \\\n",
    "    --num-resamples 0 \\\n",
    "    --kl-annealing \\\n",
    "    --lr 0.0001 \\\n",
    "    --print-at 1 \\\n",
    "    --frac 0.5 \\\n",
    "    --seed 2"
   ]
  },
  {
   "cell_type": "code",
   "execution_count": null,
   "id": "92ba23b8",
   "metadata": {},
   "outputs": [],
   "source": []
  },
  {
   "cell_type": "code",
   "execution_count": 38,
   "id": "288c6892",
   "metadata": {},
   "outputs": [
    {
     "name": "stdout",
     "output_type": "stream",
     "text": [
      "validated 49 files out of 49 for band='g'\n",
      "max time:  1501.0039\n",
      "created union_tp attribute of length 3500\n",
      "dataset created w/ shape (36, 1, 1006, 3)\n",
      "train size: 32, valid size: 7, test size: 4\n",
      "\u001b[32m[I 2023-04-15 10:51:06,327]\u001b[0m A new study created in memory with name: no-name-c2eb749f-8ccf-4012-8101-312d7bb9120f\u001b[0m\n",
      "max time:  1501.0039\n",
      "created union_tp attribute of length 2000\n",
      "model_size=766786\n",
      "1,/Users/mattlowery/Desktop/Desko/code/astro/hetast/src/layers.py:83: UserWarning: The operator 'aten::repeat_interleave.self_int' is not currently supported on the MPS backend and will fall back to run on the CPU. This may have performance implications. (Triggered internally at /Users/runner/work/_temp/anaconda/conda-bld/pytorch_1660029059141/work/aten/src/ATen/mps/MPSFallback.mm:11.)\n",
      "  scores = scores.unsqueeze(-1).repeat_interleave(dim, dim=-1)\n",
      "\tIter: 1, train loss: 6.5177, avg nll: 1.4585, avg wnll: 172.0615, avg kl: 0.4263, mse: 1.011382, wmse: 20.558485, mae: 0.801988, val nll: 1.4528, val mse 1.4528\n",
      "2,"
     ]
    },
    {
     "name": "stderr",
     "output_type": "stream",
     "text": [
      "\n",
      "KeyboardInterrupt\n",
      "\n"
     ]
    }
   ],
   "source": [
    "! python3 ../../optuna_train.py 10 10 # num trials, num iters per trial "
   ]
  },
  {
   "cell_type": "code",
   "execution_count": null,
   "id": "010ae31e",
   "metadata": {},
   "outputs": [],
   "source": []
  }
 ],
 "metadata": {
  "kernelspec": {
   "display_name": "hetvae",
   "language": "python",
   "name": "hetvae"
  },
  "language_info": {
   "codemirror_mode": {
    "name": "ipython",
    "version": 3
   },
   "file_extension": ".py",
   "mimetype": "text/x-python",
   "name": "python",
   "nbconvert_exporter": "python",
   "pygments_lexer": "ipython3",
   "version": "3.10.5"
  }
 },
 "nbformat": 4,
 "nbformat_minor": 5
}
