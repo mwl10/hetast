{
 "cells": [
  {
   "cell_type": "code",
   "execution_count": 2,
   "id": "d72893a4",
   "metadata": {},
   "outputs": [
    {
     "data": {
      "text/plain": [
       "<torch._C.Generator at 0x12a676170>"
      ]
     },
     "execution_count": 2,
     "metadata": {},
     "output_type": "execute_result"
    }
   ],
   "source": [
    "import os\n",
    "import sys\n",
    "sys.path.insert(0, os.path.abspath('../..'))\n",
    "from dataset import DataSet\n",
    "import pandas as pd\n",
    "import utils\n",
    "import numpy as np\n",
    "from matplotlib import pyplot as plt\n",
    "import torch\n",
    "np.random.seed(2) \n",
    "torch.manual_seed(2)"
   ]
  },
  {
   "cell_type": "code",
   "execution_count": 1,
   "id": "e9cae057",
   "metadata": {
    "collapsed": true,
    "jupyter": {
     "outputs_hidden": true
    }
   },
   "outputs": [
    {
     "ename": "NameError",
     "evalue": "name 'DataSet' is not defined",
     "output_type": "error",
     "traceback": [
      "\u001b[0;31m---------------------------------------------------------------------------\u001b[0m",
      "\u001b[0;31mNameError\u001b[0m                                 Traceback (most recent call last)",
      "Input \u001b[0;32mIn [1]\u001b[0m, in \u001b[0;36m<cell line: 5>\u001b[0;34m()\u001b[0m\n\u001b[1;32m      3\u001b[0m sep\u001b[38;5;241m=\u001b[39m\u001b[38;5;124m'\u001b[39m\u001b[38;5;124m,\u001b[39m\u001b[38;5;124m'\u001b[39m\n\u001b[1;32m      4\u001b[0m start_col\u001b[38;5;241m=\u001b[39m\u001b[38;5;241m1\u001b[39m\n\u001b[0;32m----> 5\u001b[0m lcs \u001b[38;5;241m=\u001b[39m \u001b[43mDataSet\u001b[49m(name\u001b[38;5;241m=\u001b[39mfolder, sep\u001b[38;5;241m=\u001b[39msep, start_col\u001b[38;5;241m=\u001b[39mstart_col)\n\u001b[1;32m      6\u001b[0m [lcs\u001b[38;5;241m.\u001b[39madd_band(os\u001b[38;5;241m.\u001b[39mpath\u001b[38;5;241m.\u001b[39mjoin(folder, band_folder)) \u001b[38;5;28;01mfor\u001b[39;00m band_folder \u001b[38;5;129;01min\u001b[39;00m os\u001b[38;5;241m.\u001b[39mlistdir(folder)]\n\u001b[1;32m      7\u001b[0m lcs\u001b[38;5;241m.\u001b[39mfilter(min_length\u001b[38;5;241m=\u001b[39mmin_length)\n",
      "\u001b[0;31mNameError\u001b[0m: name 'DataSet' is not defined"
     ]
    }
   ],
   "source": [
    "def set_segment_counts(lcs, sep_std=2, plot=False, index=1, figsize=(15,15)):\n",
    "        epoch_counts = np.zeros((len(.dataset), len(self.bands)))\n",
    "        if plot==True:\n",
    "            fig, ax = plt.subplots(len(self.bands),1, figsize=figsize, squeeze=False)\n",
    "        for i, object_lcs in enumerate(self.dataset):\n",
    "            for j, lc in enumerate(object_lcs):\n",
    "                if lc[:,1].sum() == 0:\n",
    "                    epochs.append(0)\n",
    "                    continue\n",
    "                dt = lc[1:,0] - lc[:-1,0]\n",
    "                dt_std = np.std(dt)\n",
    "                dt_mean = np.mean(dt)\n",
    "                seps = np.where(dt > (dt_mean + dt_std*sep_std))[0]\n",
    "                if plot == True and i == index:\n",
    "                    ax[j][0].scatter(lc[:,0], lc[:,1], label='observed points')\n",
    "                    for sep in seps:\n",
    "                        ax[j][0].axvline(x=(lc[sep, 0] + lc[sep+1,0])/2, linestyle=':', label='epoch separation')\n",
    "                num_epochs = len(seps) + 1\n",
    "                epoch_counts[i,j] = num_epochs\n",
    "        self.epoch_counts = epoch_counts\n",
    "        if plot == True:\n",
    "            lines_labels = ax[0][0].get_legend_handles_labels()\n",
    "            lines,labels = lines_labels[0], lines_labels[1]\n",
    "            fig.legend(lines[:2], labels[:2], bbox_to_anchor=(0.12, 0.92), loc='upper left')\n"
   ]
  },
  {
   "cell_type": "code",
   "execution_count": 8,
   "id": "21abc96d",
   "metadata": {},
   "outputs": [
    {
     "name": "stdout",
     "output_type": "stream",
     "text": [
      "validated 9 files out of 9 for band='r'\n",
      "validated 10 files out of 10 for band='i'\n",
      "validated 10 files out of 10 for band='g'\n"
     ]
    }
   ],
   "source": [
    "folder = '../../datasets/ZTF_rm'\n",
    "min_length=1\n",
    "sep=','\n",
    "start_col=1\n",
    "lcs = DataSet(name=folder, sep=sep, start_col=start_col)\n",
    "[lcs.add_band(os.path.join(folder, band_folder)) for band_folder in os.listdir(folder)]\n",
    "lcs.filter(min_length=min_length)\n"
   ]
  },
  {
   "cell_type": "code",
   "execution_count": 17,
   "id": "2d585705",
   "metadata": {},
   "outputs": [
    {
     "name": "stderr",
     "output_type": "stream",
     "text": [
      "/opt/homebrew/Caskroom/miniforge/base/envs/hetvae/lib/python3.10/site-packages/numpy/core/_methods.py:264: RuntimeWarning: Degrees of freedom <= 0 for slice\n",
      "  ret = _var(a, axis=axis, dtype=dtype, out=out, ddof=ddof,\n",
      "/opt/homebrew/Caskroom/miniforge/base/envs/hetvae/lib/python3.10/site-packages/numpy/core/fromnumeric.py:3474: RuntimeWarning: Mean of empty slice.\n",
      "  return _methods._mean(a, axis=axis, dtype=dtype,\n"
     ]
    }
   ],
   "source": [
    "\n",
    "for i, object_lcs in enumerate(lcs.dataset):\n",
    "    for j, lc in enumerate(object_lcs):\n",
    "        dt = lc[1:,0] - lc[:-1,0]\n",
    "        dt_std = np.std(dt)\n",
    "        dt_mean = np.mean(dt)\n",
    "        seps = np.where(dt > (dt_mean + dt_std*5))[0] + 1\n",
    "        segs = np.split(lc, seps)\n",
    "        \n",
    "        for k,seg in enumerate(segs):\n",
    "            folder = f'../../datasets/ZTF_rm_segments/{lcs.bands[j]}'\n",
    "            if not os.path.isdir(folder):\n",
    "                os.makedirs(folder)\n",
    "                \n",
    "            fn = f'{lcs.valid_files_df.index[i]}--{k}_.dat'\n",
    "            fp = os.path.join(folder, fn)\n",
    "            np.savetxt(fp, seg)\n",
    "            \n",
    "        \n",
    "    \n",
    "        if i ==0 and j==0:\n",
    "            plt.scatter(lc[:,0], lc[:,1], label='observed points')\n",
    "            for sep in seps:\n",
    "                plt.axvline(x=(lc[sep-1, 0] + lc[sep,0])/2, linestyle=':', label='epoch separation')\n",
    "            seps +=1\n",
    "            segments = np.split(lc, seps)\n",
    "\n",
    "            "
   ]
  },
  {
   "cell_type": "code",
   "execution_count": null,
   "id": "16ff594f",
   "metadata": {},
   "outputs": [],
   "source": [
    "# save them as new files ... !!!"
   ]
  },
  {
   "cell_type": "code",
   "execution_count": 12,
   "id": "8b5522e1",
   "metadata": {},
   "outputs": [
    {
     "name": "stdout",
     "output_type": "stream",
     "text": [
      "/Users/mattlowery/Desktop/Desko/code/astro/hetast/src/notebooks/misc\n"
     ]
    }
   ],
   "source": [
    "lcs_seg = utils.get_data()"
   ]
  },
  {
   "cell_type": "code",
   "execution_count": 18,
   "id": "f56dcdf4",
   "metadata": {
    "collapsed": true,
    "jupyter": {
     "outputs_hidden": true
    }
   },
   "outputs": [
    {
     "name": "stdout",
     "output_type": "stream",
     "text": [
      "validated 44 files out of 44 for band='r'\n",
      "validated 15 files out of 15 for band='i'\n",
      "validated 44 files out of 44 for band='g'\n"
     ]
    },
    {
     "ename": "IndexError",
     "evalue": "too many indices for array: array is 1-dimensional, but 4 were indexed",
     "output_type": "error",
     "traceback": [
      "\u001b[0;31m---------------------------------------------------------------------------\u001b[0m",
      "\u001b[0;31mIndexError\u001b[0m                                Traceback (most recent call last)",
      "Input \u001b[0;32mIn [18]\u001b[0m, in \u001b[0;36m<cell line: 1>\u001b[0;34m()\u001b[0m\n\u001b[0;32m----> 1\u001b[0m \u001b[43mutils\u001b[49m\u001b[38;5;241;43m.\u001b[39;49m\u001b[43mget_data\u001b[49m\u001b[43m(\u001b[49m\u001b[43m \u001b[49m\u001b[38;5;124;43m'\u001b[39;49m\u001b[38;5;124;43m../../datasets/ZTF_rm_segments/\u001b[39;49m\u001b[38;5;124;43m'\u001b[39;49m\u001b[43m,\u001b[49m\u001b[43m \u001b[49m\u001b[43msep\u001b[49m\u001b[38;5;241;43m=\u001b[39;49m\u001b[38;5;124;43m'\u001b[39;49m\u001b[38;5;124;43m \u001b[39;49m\u001b[38;5;124;43m'\u001b[39;49m\u001b[43m,\u001b[49m\u001b[43mstart_col\u001b[49m\u001b[38;5;241;43m=\u001b[39;49m\u001b[38;5;241;43m0\u001b[39;49m\u001b[43m)\u001b[49m\n",
      "File \u001b[0;32m~/Desktop/Desko/code/astro/hetast/src/utils.py:81\u001b[0m, in \u001b[0;36mget_data\u001b[0;34m(folder, sep, start_col, batch_size, min_length, n_union_tp, num_resamples, shuffle, chop, correct_z, split, seed)\u001b[0m\n\u001b[1;32m     79\u001b[0m lcs\u001b[38;5;241m.\u001b[39mnormalize()\n\u001b[1;32m     80\u001b[0m lcs\u001b[38;5;241m.\u001b[39mformat()\n\u001b[0;32m---> 81\u001b[0m \u001b[43mlcs\u001b[49m\u001b[38;5;241;43m.\u001b[39;49m\u001b[43mset_union_tp\u001b[49m\u001b[43m(\u001b[49m\u001b[43muniform\u001b[49m\u001b[38;5;241;43m=\u001b[39;49m\u001b[38;5;28;43;01mTrue\u001b[39;49;00m\u001b[43m,\u001b[49m\u001b[43mn\u001b[49m\u001b[38;5;241;43m=\u001b[39;49m\u001b[43mn_union_tp\u001b[49m\u001b[43m)\u001b[49m\n\u001b[1;32m     82\u001b[0m \u001b[38;5;28mprint\u001b[39m(\u001b[38;5;124mf\u001b[39m\u001b[38;5;124m'\u001b[39m\u001b[38;5;124mdataset created w/ shape \u001b[39m\u001b[38;5;132;01m{\u001b[39;00mlcs\u001b[38;5;241m.\u001b[39mdataset\u001b[38;5;241m.\u001b[39mshape\u001b[38;5;132;01m}\u001b[39;00m\u001b[38;5;124m'\u001b[39m)\n\u001b[1;32m     83\u001b[0m \u001b[38;5;66;03m######## done preprocessing ######################################################################\u001b[39;00m\n",
      "File \u001b[0;32m~/Desktop/Desko/code/astro/hetast/src/dataset.py:359\u001b[0m, in \u001b[0;36mDataSet.set_union_tp\u001b[0;34m(self, uniform, n)\u001b[0m\n\u001b[1;32m    343\u001b[0m \u001b[38;5;28;01mdef\u001b[39;00m \u001b[38;5;21mset_union_tp\u001b[39m(\u001b[38;5;28mself\u001b[39m, uniform\u001b[38;5;241m=\u001b[39m\u001b[38;5;28;01mFalse\u001b[39;00m, n\u001b[38;5;241m=\u001b[39m\u001b[38;5;241m1000\u001b[39m):\n\u001b[1;32m    344\u001b[0m     \u001b[38;5;124;03m\"\"\"\u001b[39;00m\n\u001b[1;32m    345\u001b[0m \u001b[38;5;124;03m    calcluates an array of the union of all the time points across the dataset unless uniform==True,\u001b[39;00m\n\u001b[1;32m    346\u001b[0m \u001b[38;5;124;03m    in that case set union_tp to n uniformly spaced points between the maximum and minimum observed time\u001b[39;00m\n\u001b[0;32m   (...)\u001b[0m\n\u001b[1;32m    355\u001b[0m \u001b[38;5;124;03m        - prints length of union tp\u001b[39;00m\n\u001b[1;32m    356\u001b[0m \u001b[38;5;124;03m    \"\"\"\u001b[39;00m \n\u001b[0;32m--> 359\u001b[0m     \u001b[38;5;28mself\u001b[39m\u001b[38;5;241m.\u001b[39munion_tp \u001b[38;5;241m=\u001b[39m np\u001b[38;5;241m.\u001b[39munique(\u001b[38;5;28;43mself\u001b[39;49m\u001b[38;5;241;43m.\u001b[39;49m\u001b[43mdataset\u001b[49m\u001b[43m[\u001b[49m\u001b[43m:\u001b[49m\u001b[43m,\u001b[49m\u001b[43m:\u001b[49m\u001b[43m,\u001b[49m\u001b[43m:\u001b[49m\u001b[43m,\u001b[49m\u001b[38;5;241;43m0\u001b[39;49m\u001b[43m]\u001b[49m\u001b[38;5;241m.\u001b[39mflatten()) \n\u001b[1;32m    360\u001b[0m     \u001b[38;5;28;01mif\u001b[39;00m uniform: \n\u001b[1;32m    361\u001b[0m         step \u001b[38;5;241m=\u001b[39m np\u001b[38;5;241m.\u001b[39mptp(\u001b[38;5;28mself\u001b[39m\u001b[38;5;241m.\u001b[39munion_tp) \u001b[38;5;241m/\u001b[39m n \n",
      "\u001b[0;31mIndexError\u001b[0m: too many indices for array: array is 1-dimensional, but 4 were indexed"
     ]
    }
   ],
   "source": [
    "utils.get_data( '../../datasets/ZTF_rm_segments/', sep=' ', start_col=0)"
   ]
  },
  {
   "cell_type": "code",
   "execution_count": 59,
   "id": "235b07ce",
   "metadata": {},
   "outputs": [
    {
     "name": "stdout",
     "output_type": "stream",
     "text": [
      "validated 44 files out of 44 for band='r'\n",
      "validated 15 files out of 15 for band='i'\n",
      "validated 44 files out of 44 for band='g'\n"
     ]
    }
   ],
   "source": [
    "folder = '../../datasets/ZTF_rm_segments'\n",
    "min_length=1\n",
    "sep=' '\n",
    "start_col=0\n",
    "lcs = DataSet(name=folder, sep=sep, start_col=start_col)\n",
    "[lcs.add_band(os.path.join(folder, band_folder)) for band_folder in os.listdir(folder)]\n",
    "lcs.filter(min_length=min_length)"
   ]
  },
  {
   "cell_type": "code",
   "execution_count": 61,
   "id": "80024428",
   "metadata": {},
   "outputs": [
    {
     "data": {
      "text/html": [
       "<div>\n",
       "<style scoped>\n",
       "    .dataframe tbody tr th:only-of-type {\n",
       "        vertical-align: middle;\n",
       "    }\n",
       "\n",
       "    .dataframe tbody tr th {\n",
       "        vertical-align: top;\n",
       "    }\n",
       "\n",
       "    .dataframe thead th {\n",
       "        text-align: right;\n",
       "    }\n",
       "</style>\n",
       "<table border=\"1\" class=\"dataframe\">\n",
       "  <thead>\n",
       "    <tr style=\"text-align: right;\">\n",
       "      <th></th>\n",
       "      <th>r</th>\n",
       "      <th>i</th>\n",
       "      <th>g</th>\n",
       "    </tr>\n",
       "  </thead>\n",
       "  <tbody>\n",
       "    <tr>\n",
       "      <th>Mrk817--3</th>\n",
       "      <td>../../datasets/ZTF_rm_segments/r/Mrk817--3_.dat</td>\n",
       "      <td>../../datasets/ZTF_rm_segments/i/Mrk817--3_.dat</td>\n",
       "      <td>../../datasets/ZTF_rm_segments/g/Mrk817--3_.dat</td>\n",
       "    </tr>\n",
       "    <tr>\n",
       "      <th>NGC2617--0</th>\n",
       "      <td>../../datasets/ZTF_rm_segments/r/NGC2617--0_.dat</td>\n",
       "      <td>../../datasets/ZTF_rm_segments/i/NGC2617--0_.dat</td>\n",
       "      <td>../../datasets/ZTF_rm_segments/g/NGC2617--0_.dat</td>\n",
       "    </tr>\n",
       "    <tr>\n",
       "      <th>Mrk817--2</th>\n",
       "      <td>../../datasets/ZTF_rm_segments/r/Mrk817--2_.dat</td>\n",
       "      <td>../../datasets/ZTF_rm_segments/i/Mrk817--2_.dat</td>\n",
       "      <td>../../datasets/ZTF_rm_segments/g/Mrk817--2_.dat</td>\n",
       "    </tr>\n",
       "    <tr>\n",
       "      <th>NGC5548--2</th>\n",
       "      <td>../../datasets/ZTF_rm_segments/r/NGC5548--2_.dat</td>\n",
       "      <td>../../datasets/ZTF_rm_segments/i/NGC5548--2_.dat</td>\n",
       "      <td>../../datasets/ZTF_rm_segments/g/NGC5548--2_.dat</td>\n",
       "    </tr>\n",
       "    <tr>\n",
       "      <th>Mrk142--0</th>\n",
       "      <td>../../datasets/ZTF_rm_segments/r/Mrk142--0_.dat</td>\n",
       "      <td>../../datasets/ZTF_rm_segments/i/Mrk142--0_.dat</td>\n",
       "      <td>../../datasets/ZTF_rm_segments/g/Mrk142--0_.dat</td>\n",
       "    </tr>\n",
       "    <tr>\n",
       "      <th>H2106-099--0</th>\n",
       "      <td>../../datasets/ZTF_rm_segments/r/H2106-099--0_...</td>\n",
       "      <td>../../datasets/ZTF_rm_segments/i/H2106-099--0_...</td>\n",
       "      <td>../../datasets/ZTF_rm_segments/g/H2106-099--0_...</td>\n",
       "    </tr>\n",
       "    <tr>\n",
       "      <th>Mrk876--1</th>\n",
       "      <td>../../datasets/ZTF_rm_segments/r/Mrk876--1_.dat</td>\n",
       "      <td>../../datasets/ZTF_rm_segments/i/Mrk876--1_.dat</td>\n",
       "      <td>../../datasets/ZTF_rm_segments/g/Mrk876--1_.dat</td>\n",
       "    </tr>\n",
       "    <tr>\n",
       "      <th>Mrk876--0</th>\n",
       "      <td>../../datasets/ZTF_rm_segments/r/Mrk876--0_.dat</td>\n",
       "      <td>../../datasets/ZTF_rm_segments/i/Mrk876--0_.dat</td>\n",
       "      <td>../../datasets/ZTF_rm_segments/g/Mrk876--0_.dat</td>\n",
       "    </tr>\n",
       "    <tr>\n",
       "      <th>3C120--0</th>\n",
       "      <td>../../datasets/ZTF_rm_segments/r/3C120--0_.dat</td>\n",
       "      <td>../../datasets/ZTF_rm_segments/i/3C120--0_.dat</td>\n",
       "      <td>../../datasets/ZTF_rm_segments/g/3C120--0_.dat</td>\n",
       "    </tr>\n",
       "    <tr>\n",
       "      <th>NGC5548--1</th>\n",
       "      <td>../../datasets/ZTF_rm_segments/r/NGC5548--1_.dat</td>\n",
       "      <td>../../datasets/ZTF_rm_segments/i/NGC5548--1_.dat</td>\n",
       "      <td>../../datasets/ZTF_rm_segments/g/NGC5548--1_.dat</td>\n",
       "    </tr>\n",
       "    <tr>\n",
       "      <th>MCG+08-11-011--0</th>\n",
       "      <td>../../datasets/ZTF_rm_segments/r/MCG+08-11-011...</td>\n",
       "      <td>../../datasets/ZTF_rm_segments/i/MCG+08-11-011...</td>\n",
       "      <td>../../datasets/ZTF_rm_segments/g/MCG+08-11-011...</td>\n",
       "    </tr>\n",
       "    <tr>\n",
       "      <th>Mrk817--1</th>\n",
       "      <td>../../datasets/ZTF_rm_segments/r/Mrk817--1_.dat</td>\n",
       "      <td>../../datasets/ZTF_rm_segments/i/Mrk817--1_.dat</td>\n",
       "      <td>../../datasets/ZTF_rm_segments/g/Mrk817--1_.dat</td>\n",
       "    </tr>\n",
       "    <tr>\n",
       "      <th>Mrk817--0</th>\n",
       "      <td>../../datasets/ZTF_rm_segments/r/Mrk817--0_.dat</td>\n",
       "      <td>../../datasets/ZTF_rm_segments/i/Mrk817--0_.dat</td>\n",
       "      <td>../../datasets/ZTF_rm_segments/g/Mrk817--0_.dat</td>\n",
       "    </tr>\n",
       "    <tr>\n",
       "      <th>NGC5548--0</th>\n",
       "      <td>../../datasets/ZTF_rm_segments/r/NGC5548--0_.dat</td>\n",
       "      <td>../../datasets/ZTF_rm_segments/i/NGC5548--0_.dat</td>\n",
       "      <td>../../datasets/ZTF_rm_segments/g/NGC5548--0_.dat</td>\n",
       "    </tr>\n",
       "  </tbody>\n",
       "</table>\n",
       "</div>"
      ],
      "text/plain": [
       "                                                                  r  \\\n",
       "Mrk817--3           ../../datasets/ZTF_rm_segments/r/Mrk817--3_.dat   \n",
       "NGC2617--0         ../../datasets/ZTF_rm_segments/r/NGC2617--0_.dat   \n",
       "Mrk817--2           ../../datasets/ZTF_rm_segments/r/Mrk817--2_.dat   \n",
       "NGC5548--2         ../../datasets/ZTF_rm_segments/r/NGC5548--2_.dat   \n",
       "Mrk142--0           ../../datasets/ZTF_rm_segments/r/Mrk142--0_.dat   \n",
       "H2106-099--0      ../../datasets/ZTF_rm_segments/r/H2106-099--0_...   \n",
       "Mrk876--1           ../../datasets/ZTF_rm_segments/r/Mrk876--1_.dat   \n",
       "Mrk876--0           ../../datasets/ZTF_rm_segments/r/Mrk876--0_.dat   \n",
       "3C120--0             ../../datasets/ZTF_rm_segments/r/3C120--0_.dat   \n",
       "NGC5548--1         ../../datasets/ZTF_rm_segments/r/NGC5548--1_.dat   \n",
       "MCG+08-11-011--0  ../../datasets/ZTF_rm_segments/r/MCG+08-11-011...   \n",
       "Mrk817--1           ../../datasets/ZTF_rm_segments/r/Mrk817--1_.dat   \n",
       "Mrk817--0           ../../datasets/ZTF_rm_segments/r/Mrk817--0_.dat   \n",
       "NGC5548--0         ../../datasets/ZTF_rm_segments/r/NGC5548--0_.dat   \n",
       "\n",
       "                                                                  i  \\\n",
       "Mrk817--3           ../../datasets/ZTF_rm_segments/i/Mrk817--3_.dat   \n",
       "NGC2617--0         ../../datasets/ZTF_rm_segments/i/NGC2617--0_.dat   \n",
       "Mrk817--2           ../../datasets/ZTF_rm_segments/i/Mrk817--2_.dat   \n",
       "NGC5548--2         ../../datasets/ZTF_rm_segments/i/NGC5548--2_.dat   \n",
       "Mrk142--0           ../../datasets/ZTF_rm_segments/i/Mrk142--0_.dat   \n",
       "H2106-099--0      ../../datasets/ZTF_rm_segments/i/H2106-099--0_...   \n",
       "Mrk876--1           ../../datasets/ZTF_rm_segments/i/Mrk876--1_.dat   \n",
       "Mrk876--0           ../../datasets/ZTF_rm_segments/i/Mrk876--0_.dat   \n",
       "3C120--0             ../../datasets/ZTF_rm_segments/i/3C120--0_.dat   \n",
       "NGC5548--1         ../../datasets/ZTF_rm_segments/i/NGC5548--1_.dat   \n",
       "MCG+08-11-011--0  ../../datasets/ZTF_rm_segments/i/MCG+08-11-011...   \n",
       "Mrk817--1           ../../datasets/ZTF_rm_segments/i/Mrk817--1_.dat   \n",
       "Mrk817--0           ../../datasets/ZTF_rm_segments/i/Mrk817--0_.dat   \n",
       "NGC5548--0         ../../datasets/ZTF_rm_segments/i/NGC5548--0_.dat   \n",
       "\n",
       "                                                                  g  \n",
       "Mrk817--3           ../../datasets/ZTF_rm_segments/g/Mrk817--3_.dat  \n",
       "NGC2617--0         ../../datasets/ZTF_rm_segments/g/NGC2617--0_.dat  \n",
       "Mrk817--2           ../../datasets/ZTF_rm_segments/g/Mrk817--2_.dat  \n",
       "NGC5548--2         ../../datasets/ZTF_rm_segments/g/NGC5548--2_.dat  \n",
       "Mrk142--0           ../../datasets/ZTF_rm_segments/g/Mrk142--0_.dat  \n",
       "H2106-099--0      ../../datasets/ZTF_rm_segments/g/H2106-099--0_...  \n",
       "Mrk876--1           ../../datasets/ZTF_rm_segments/g/Mrk876--1_.dat  \n",
       "Mrk876--0           ../../datasets/ZTF_rm_segments/g/Mrk876--0_.dat  \n",
       "3C120--0             ../../datasets/ZTF_rm_segments/g/3C120--0_.dat  \n",
       "NGC5548--1         ../../datasets/ZTF_rm_segments/g/NGC5548--1_.dat  \n",
       "MCG+08-11-011--0  ../../datasets/ZTF_rm_segments/g/MCG+08-11-011...  \n",
       "Mrk817--1           ../../datasets/ZTF_rm_segments/g/Mrk817--1_.dat  \n",
       "Mrk817--0           ../../datasets/ZTF_rm_segments/g/Mrk817--0_.dat  \n",
       "NGC5548--0         ../../datasets/ZTF_rm_segments/g/NGC5548--0_.dat  "
      ]
     },
     "execution_count": 61,
     "metadata": {},
     "output_type": "execute_result"
    }
   ],
   "source": [
    "lcs.valid_files_df"
   ]
  },
  {
   "cell_type": "code",
   "execution_count": 58,
   "id": "1cfa6ee2",
   "metadata": {},
   "outputs": [
    {
     "name": "stdout",
     "output_type": "stream",
     "text": [
      "The autoreload extension is already loaded. To reload it, use:\n",
      "  %reload_ext autoreload\n"
     ]
    }
   ],
   "source": [
    "%load_ext autoreload\n",
    "%autoreload"
   ]
  },
  {
   "cell_type": "code",
   "execution_count": null,
   "id": "169c98fc",
   "metadata": {},
   "outputs": [],
   "source": []
  }
 ],
 "metadata": {
  "kernelspec": {
   "display_name": "hetvae",
   "language": "python",
   "name": "hetvae"
  },
  "language_info": {
   "codemirror_mode": {
    "name": "ipython",
    "version": 3
   },
   "file_extension": ".py",
   "mimetype": "text/x-python",
   "name": "python",
   "nbconvert_exporter": "python",
   "pygments_lexer": "ipython3",
   "version": "3.10.5"
  }
 },
 "nbformat": 4,
 "nbformat_minor": 5
}
