{
 "cells": [
  {
   "cell_type": "code",
   "execution_count": 29,
   "id": "e2e26c98",
   "metadata": {},
   "outputs": [],
   "source": [
    "import matplotlib.pyplot as plt\n",
    "%matplotlib inline\n",
    "import numpy as np\n",
    "import sys"
   ]
  },
  {
   "cell_type": "code",
   "execution_count": 30,
   "id": "37fce508",
   "metadata": {},
   "outputs": [],
   "source": [
    "sys.path.insert(0, '/Users/mattlowery/Desktop/code/astro/hetvae/src/')"
   ]
  },
  {
   "cell_type": "code",
   "execution_count": 35,
   "id": "4eb504c1",
   "metadata": {},
   "outputs": [
    {
     "name": "stdout",
     "output_type": "stream",
     "text": [
      "The autoreload extension is already loaded. To reload it, use:\n",
      "  %reload_ext autoreload\n"
     ]
    }
   ],
   "source": [
    "%load_ext autoreload\n",
    "%autoreload"
   ]
  },
  {
   "cell_type": "code",
   "execution_count": 7,
   "id": "e421ff04",
   "metadata": {},
   "outputs": [],
   "source": [
    "## make a folder with random subsample of g band light curves\n",
    "\n",
    "# import os\n",
    "# import random\n",
    "# import shutil\n",
    "\n",
    "# g_files = os.listdir('./ZTF_DR_data/g')\n",
    "# gfp = [os.path.join(os.getcwd(), 'ZTF_DR_data', 'g', g_file) for g_file in g_files]\n",
    "# random.shuffle(gfp)\n",
    "# os.mkdir('ZTF_gband_test')\n",
    "# os.chdir('ZTF_gband_test')\n",
    "# os.mkdir('g')\n",
    "# os.chdir('g')\n",
    "# for file in gfp[:50]:\n",
    "#     shutil.copy(file, os.getcwd())\n",
    "# os.chdir('../../')\n",
    "\n"
   ]
  },
  {
   "cell_type": "code",
   "execution_count": null,
   "id": "22659fb2",
   "metadata": {},
   "outputs": [],
   "source": [
    "# python3 train.py --niters 2000 --lr 0.0001 --batch-size 128 --rec-hidden 128 \n",
    "# --latent-dim 128 --width 512 --embed-time 128 --enc-num-heads 1 \n",
    "# --num-ref-points 16 --dataset mimiciii --seed 1 \n",
    "# --save --norm --intensity --net hetvae --bound-variance \n",
    "# --shuffle  --sample-tp 0.5 --elbo-weight 1.0 --mse-weight 5.0 \n",
    "# --mixing concat --k-iwae 1\n",
    "\n",
    "# python3 train.py --niters 2000 --lr 0.0001 --batch-size 128 --rec-hidden 128\n",
    "# --latent-dim 128 --width 128 --embed-time 128 --enc-num-heads 1 \n",
    "# --num-ref-points 16 --n 8000 --dataset physionet --seed 1 --save \n",
    "# --norm --intensity --net hetvae --bound-variance --shuffle  \n",
    "# --sample-tp 0.5 --elbo-weight 1.0 --mse-weight 5.0 --mixing concat \n",
    "# --k-iwae 1"
   ]
  },
  {
   "cell_type": "code",
   "execution_count": 34,
   "id": "3e58b84b",
   "metadata": {},
   "outputs": [
    {
     "name": "stdout",
     "output_type": "stream",
     "text": [
      "Namespace(device='mps', checkpoint='', early_stopping=False, patience=150, save_at=10000, scheduler=False, warmup=4000, data_folder='./datasets/ZTF_gband_test', start_col=1, inc_errors=False, print_at=10, n_union_tp=1000, embed_time=16, enc_num_heads=1, intensity=False, latent_dim=16, mixing='concat', net='hetvae', num_ref_points=32, rec_hidden=16, width=512, frac=0.8, batch_size=8, niters=10000, bound_variance=True, const_var=False, dropout=0.0, k_iwae=1, kl_annealing=True, kl_zero=False, lr=0.001, mse_weight=5.0, norm=False, normalize_input='znorm', save=True, seed=0, shuffle=True, std=0.1, var_per_dim=False) 5518312\n",
      "validated 51 files out of 51 for band='g'\n",
      "created union_tp attribute of length 1000\n",
      "dataset created w/ shape (38, 1, 1006, 3)\n",
      "train size: 30, valid size: 6, test size: 8\n",
      "model_size=30882\n",
      "/Users/mattlowery/Desktop/code/astro/hetvae/src/layers.py:84: UserWarning: The operator 'aten::repeat_interleave.self_int' is not currently supported on the MPS backend and will fall back to run on the CPU. This may have performance implications. (Triggered internally at /Users/runner/work/_temp/anaconda/conda-bld/pytorch_1660029059141/work/aten/src/ATen/mps/MPSFallback.mm:11.)\n",
      "  scores = scores.unsqueeze(-1).repeat_interleave(dim, dim=-1)\n",
      "^C\n",
      "Traceback (most recent call last):\n",
      "  File \"/Users/mattlowery/Desktop/code/astro/hetvae/src/train.py\", line 232, in <module>\n",
      "    main()\n",
      "  File \"/Users/mattlowery/Desktop/code/astro/hetvae/src/train.py\", line 227, in main\n",
      "    train(args)\n",
      "  File \"/Users/mattlowery/Desktop/code/astro/hetvae/src/train.py\", line 106, in train\n",
      "    loss_info.composite_loss.backward()\n",
      "  File \"/opt/homebrew/Caskroom/miniforge/base/envs/hetvae/lib/python3.10/site-packages/torch/_tensor.py\", line 484, in backward\n",
      "    torch.autograd.backward(\n",
      "  File \"/opt/homebrew/Caskroom/miniforge/base/envs/hetvae/lib/python3.10/site-packages/torch/autograd/__init__.py\", line 191, in backward\n",
      "    Variable._execution_engine.run_backward(  # Calls into the C++ engine to run the backward pass\n",
      "KeyboardInterrupt\n",
      "\u001b[0m"
     ]
    }
   ],
   "source": [
    "! python3 train.py \\\n",
    "    --data-folder ./datasets/ZTF_gband_test \\\n",
    "    --device mps \\\n",
    "    --niters 10000 \\\n",
    "    --rec-hidden 16 \\\n",
    "    --latent-dim 16 \\\n",
    "    --embed-time 16 \\\n",
    "    --n-union-tp 1000 \\\n",
    "    --start-col 1 \\\n",
    "    --save-at 10000 \\\n",
    "    --bound-variance \\\n",
    "    --kl-annealing \\\n",
    "    --lr 0.001 \\\n",
    "    --print-at 10 \\\n",
    "    --frac 0.8\n"
   ]
  },
  {
   "cell_type": "code",
   "execution_count": 14,
   "id": "a92bac05",
   "metadata": {},
   "outputs": [
    {
     "name": "stdout",
     "output_type": "stream",
     "text": [
      "validated 51 files out of 51 for band='g'\n",
      "created union_tp attribute of length 1000\n",
      "dataset created w/ shape (38, 1, 1082, 3)\n",
      "train size: 30, valid size: 6, test size: 8\n",
      "\u001b[32m[I 2023-01-11 11:52:40,547]\u001b[0m A new study created in memory with name: no-name-34cc8e4b-425a-4c71-af83-d8e42f617baf\u001b[0m\n",
      "/Users/mattlowery/Desktop/code/astro/hetvae/src/layers.py:84: UserWarning: The operator 'aten::repeat_interleave.self_int' is not currently supported on the MPS backend and will fall back to run on the CPU. This may have performance implications. (Triggered internally at /Users/runner/work/_temp/anaconda/conda-bld/pytorch_1660029059141/work/aten/src/ATen/mps/MPSFallback.mm:11.)\n",
      "  scores = scores.unsqueeze(-1).repeat_interleave(dim, dim=-1)\n",
      "^C\n"
     ]
    }
   ],
   "source": [
    "! python3 optuna_train.py 10 10"
   ]
  },
  {
   "cell_type": "code",
   "execution_count": null,
   "id": "029f526d",
   "metadata": {},
   "outputs": [],
   "source": []
  }
 ],
 "metadata": {
  "kernelspec": {
   "display_name": "hetvae",
   "language": "python",
   "name": "hetvae"
  },
  "language_info": {
   "codemirror_mode": {
    "name": "ipython",
    "version": 3
   },
   "file_extension": ".py",
   "mimetype": "text/x-python",
   "name": "python",
   "nbconvert_exporter": "python",
   "pygments_lexer": "ipython3",
   "version": "3.10.5"
  }
 },
 "nbformat": 4,
 "nbformat_minor": 5
}
