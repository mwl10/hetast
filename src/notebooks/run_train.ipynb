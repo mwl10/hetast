{
 "cells": [
  {
   "cell_type": "code",
   "execution_count": null,
   "id": "741d1ced",
   "metadata": {},
   "outputs": [],
   "source": [
    "import sys\n",
    "import os\n",
    "sys.path.insert(0, os.path.abspath('..'))"
   ]
  },
  {
   "cell_type": "code",
   "execution_count": null,
   "id": "d51622d9",
   "metadata": {},
   "outputs": [],
   "source": [
    "! python3 ../train.py \\\n",
    "    --data-folder ../datasets/ZTF_g_test \\\n",
    "    --device mps \\\n",
    "    --niters 5000 \\\n",
    "    --rec-hidden 16 \\\n",
    "    --num-ref-points 4 \\\n",
    "    --batch-size 1 \\\n",
    "    --latent-dim 32 \\\n",
    "    --embed-time 16 \\\n",
    "    --n-union-tp 2000 \\\n",
    "    --start-col 1 \\\n",
    "    --save-at 100 \\\n",
    "    --num-resamples 0 \\\n",
    "    --kl-annealing \\\n",
    "    --lr 0.0001 \\\n",
    "    --print-at 1 \\\n",
    "    --frac 0.5 \\\n",
    "    --seed 2"
   ]
  },
  {
   "cell_type": "code",
   "execution_count": null,
   "id": "049554f5",
   "metadata": {},
   "outputs": [],
   "source": []
  },
  {
   "cell_type": "code",
   "execution_count": null,
   "id": "9fc9f3a9",
   "metadata": {},
   "outputs": [],
   "source": [
    "! python3 ../optuna_train.py 10 10 # num trials, num iters per trial "
   ]
  }
 ],
 "metadata": {
  "kernelspec": {
   "display_name": "hetvae",
   "language": "python",
   "name": "hetvae"
  },
  "language_info": {
   "codemirror_mode": {
    "name": "ipython",
    "version": 3
   },
   "file_extension": ".py",
   "mimetype": "text/x-python",
   "name": "python",
   "nbconvert_exporter": "python",
   "pygments_lexer": "ipython3",
   "version": "3.10.5"
  }
 },
 "nbformat": 4,
 "nbformat_minor": 5
}
