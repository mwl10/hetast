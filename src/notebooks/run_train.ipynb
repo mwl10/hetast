{
 "cells": [
  {
   "cell_type": "code",
   "execution_count": 12,
   "id": "a71b6510",
   "metadata": {},
   "outputs": [],
   "source": [
    "import matplotlib.pyplot as plt\n",
    "%matplotlib inline\n",
    "import numpy as np\n",
    "import sys"
   ]
  },
  {
   "cell_type": "code",
   "execution_count": 13,
   "id": "acc81a92",
   "metadata": {},
   "outputs": [],
   "source": [
    "sys.path.insert(0, '/Users/mattlowery/Desktop/code/astro/hetvae/src/')"
   ]
  },
  {
   "cell_type": "code",
   "execution_count": 3,
   "id": "cdd4ae19",
   "metadata": {},
   "outputs": [],
   "source": [
    "%load_ext autoreload\n",
    "%autoreload"
   ]
  },
  {
   "cell_type": "code",
   "execution_count": 7,
   "id": "428a39b6",
   "metadata": {},
   "outputs": [],
   "source": [
    "## make a folder with random subsample of g band light curves\n",
    "\n",
    "# import os\n",
    "# import random\n",
    "# import shutil\n",
    "\n",
    "# g_files = os.listdir('./ZTF_DR_data/g')\n",
    "# gfp = [os.path.join(os.getcwd(), 'ZTF_DR_data', 'g', g_file) for g_file in g_files]\n",
    "# random.shuffle(gfp)\n",
    "# os.mkdir('ZTF_gband_test')\n",
    "# os.chdir('ZTF_gband_test')\n",
    "# os.mkdir('g')\n",
    "# os.chdir('g')\n",
    "# for file in gfp[:50]:\n",
    "#     shutil.copy(file, os.getcwd())\n",
    "# os.chdir('../../')\n",
    "\n"
   ]
  },
  {
   "cell_type": "code",
   "execution_count": null,
   "id": "28b93884",
   "metadata": {},
   "outputs": [],
   "source": [
    "# python3 train.py --niters 2000 --lr 0.0001 --batch-size 128 --rec-hidden 128 \n",
    "# --latent-dim 128 --width 512 --embed-time 128 --enc-num-heads 1 \n",
    "# --num-ref-points 16 --dataset mimiciii --seed 1 \n",
    "# --save --norm --intensity --net hetvae --bound-variance \n",
    "# --shuffle  --sample-tp 0.5 --elbo-weight 1.0 --mse-weight 5.0 \n",
    "# --mixing concat --k-iwae 1\n",
    "\n",
    "# python3 train.py --niters 2000 --lr 0.0001 --batch-size 128 --rec-hidden 128\n",
    "# --latent-dim 128 --width 128 --embed-time 128 --enc-num-heads 1 \n",
    "# --num-ref-points 16 --n 8000 --dataset physionet --seed 1 --save \n",
    "# --norm --intensity --net hetvae --bound-variance --shuffle  \n",
    "# --sample-tp 0.5 --elbo-weight 1.0 --mse-weight 5.0 --mixing concat \n",
    "# --k-iwae 1\n",
    "# 0.5488135039273248\n",
    "# train size: 60, valid size: 12, test size: 16\n"
   ]
  },
  {
   "cell_type": "code",
   "execution_count": 18,
   "id": "0f26c0f5",
   "metadata": {},
   "outputs": [
    {
     "name": "stdout",
     "output_type": "stream",
     "text": [
      "Namespace(n_union_tp=100, data_folder='../datasets/ZTF_gband', checkpoint='', start_col=1, inc_errors=False, print_at=1, embed_time=16, enc_num_heads=4, latent_dim=8, mixing='concat', num_ref_points=16, rec_hidden=16, width=512, save_at=10000, patience=100, early_stopping=False, niters=2, frac=0.8, batch_size=128, mse_weight=5.0, dropout=0.0, num_resamples=0, lr=0.001, scheduler=False, warmup=4000, kl_zero=False, kl_annealing=True, net='hetvae', device='mps', const_var=False, var_per_dim=False, std=0.1, seed=2, save=True, k_iwae=1) 6667239\n",
      "validated 3399 files out of 3399 for band='g'\n",
      "3399 3399\n",
      "created union_tp attribute of length 100\n",
      "dataset created w/ shape (2324, 1, 1974, 3)\n",
      "train size: 1859, valid size: 372, test size: 465\n",
      "model_size=29402\n",
      "/Users/mattlowery/Desktop/Desko/code/astro/hetvae/src/layers.py:84: UserWarning: The operator 'aten::repeat_interleave.self_int' is not currently supported on the MPS backend and will fall back to run on the CPU. This may have performance implications. (Triggered internally at /Users/runner/work/_temp/anaconda/conda-bld/pytorch_1660029059141/work/aten/src/ATen/mps/MPSFallback.mm:11.)\n",
      "  scores = scores.unsqueeze(-1).repeat_interleave(dim, dim=-1)\n",
      "^C\n",
      "Traceback (most recent call last):\n",
      "  File \"/Users/mattlowery/Desktop/Desko/code/astro/hetvae/src/notebooks/../train.py\", line 239, in <module>\n",
      "    main()\n",
      "  File \"/Users/mattlowery/Desktop/Desko/code/astro/hetvae/src/notebooks/../train.py\", line 235, in main\n",
      "    train(args)\n",
      "  File \"/Users/mattlowery/Desktop/Desko/code/astro/hetvae/src/notebooks/../train.py\", line 105, in train\n",
      "    loss_info.composite_loss.backward()\n",
      "  File \"/opt/homebrew/Caskroom/miniforge/base/envs/hetvae/lib/python3.10/site-packages/torch/_tensor.py\", line 484, in backward\n",
      "    torch.autograd.backward(\n",
      "  File \"/opt/homebrew/Caskroom/miniforge/base/envs/hetvae/lib/python3.10/site-packages/torch/autograd/__init__.py\", line 191, in backward\n",
      "    Variable._execution_engine.run_backward(  # Calls into the C++ engine to run the backward pass\n",
      "KeyboardInterrupt\n",
      "\u001b[0m"
     ]
    }
   ],
   "source": [
    "! python3 ../train.py \\\n",
    "    --data-folder ../datasets/ZTF_gband \\\n",
    "    --device mps \\\n",
    "    --niters 2 \\\n",
    "    --rec-hidden 16 \\\n",
    "    --latent-dim 8 \\\n",
    "    --embed-time 16 \\\n",
    "    --n-union-tp 100 \\\n",
    "    --start-col 1 \\\n",
    "    --save-at 10000 \\\n",
    "    --num-resamples 0 \\\n",
    "    --kl-annealing \\\n",
    "    --lr 0.001 \\\n",
    "    --print-at 1 \\\n",
    "    --frac 0.8 \\\n",
    "    --seed 2\n"
   ]
  },
  {
   "cell_type": "code",
   "execution_count": 10,
   "id": "1d4e4884",
   "metadata": {},
   "outputs": [
    {
     "name": "stdout",
     "output_type": "stream",
     "text": [
      "validated 51 files out of 51 for band='g'\n",
      "created union_tp attribute of length 1000\n",
      "dataset created w/ shape (38, 1, 1006, 3)\n",
      "train size: 30, valid size: 6, test size: 8\n",
      "\u001b[32m[I 2023-02-04 12:22:57,988]\u001b[0m A new study created in memory with name: no-name-89e19620-1fc3-4e53-8c64-1c4c810e3bc7\u001b[0m\n",
      "created union_tp attribute of length 3500\n",
      "\u001b[33m[W 2023-02-04 12:22:57,992]\u001b[0m Trial 0 failed because of the following error: AssertionError('Torch not compiled with CUDA enabled')\u001b[0m\n",
      "Traceback (most recent call last):\n",
      "  File \"/opt/homebrew/Caskroom/miniforge/base/envs/hetvae/lib/python3.10/site-packages/optuna/study/_optimize.py\", line 213, in _run_trial\n",
      "    value_or_values = func(trial)\n",
      "  File \"/Users/mattlowery/Desktop/Desko/code/astro/hetvae/src/notebooks/../optuna_train.py\", line 237, in objective\n",
      "    loss = train(trial,args, LCS)\n",
      "  File \"/Users/mattlowery/Desktop/Desko/code/astro/hetvae/src/notebooks/../optuna_train.py\", line 93, in train\n",
      "    net = load_network(args, dim, union_tp)\n",
      "  File \"/Users/mattlowery/Desktop/Desko/code/astro/hetvae/src/model.py\", line 24, in load_network\n",
      "    ).to(args.device)\n",
      "  File \"/opt/homebrew/Caskroom/miniforge/base/envs/hetvae/lib/python3.10/site-packages/torch/nn/modules/module.py\", line 983, in to\n",
      "    return self._apply(convert)\n",
      "  File \"/opt/homebrew/Caskroom/miniforge/base/envs/hetvae/lib/python3.10/site-packages/torch/nn/modules/module.py\", line 634, in _apply\n",
      "    module._apply(fn)\n",
      "  File \"/opt/homebrew/Caskroom/miniforge/base/envs/hetvae/lib/python3.10/site-packages/torch/nn/modules/module.py\", line 634, in _apply\n",
      "    module._apply(fn)\n",
      "  File \"/opt/homebrew/Caskroom/miniforge/base/envs/hetvae/lib/python3.10/site-packages/torch/nn/modules/module.py\", line 657, in _apply\n",
      "    param_applied = fn(param)\n",
      "  File \"/opt/homebrew/Caskroom/miniforge/base/envs/hetvae/lib/python3.10/site-packages/torch/nn/modules/module.py\", line 981, in convert\n",
      "    return t.to(device, dtype if t.is_floating_point() or t.is_complex() else None, non_blocking)\n",
      "  File \"/opt/homebrew/Caskroom/miniforge/base/envs/hetvae/lib/python3.10/site-packages/torch/cuda/__init__.py\", line 215, in _lazy_init\n",
      "    raise AssertionError(\"Torch not compiled with CUDA enabled\")\n",
      "AssertionError: Torch not compiled with CUDA enabled\n",
      "Traceback (most recent call last):\n",
      "  File \"/Users/mattlowery/Desktop/Desko/code/astro/hetvae/src/notebooks/../optuna_train.py\", line 262, in <module>\n",
      "    main()\n",
      "  File \"/Users/mattlowery/Desktop/Desko/code/astro/hetvae/src/notebooks/../optuna_train.py\", line 245, in main\n",
      "    study.optimize(objective, n_trials=int(sys.argv[1]), timeout=600)\n",
      "  File \"/opt/homebrew/Caskroom/miniforge/base/envs/hetvae/lib/python3.10/site-packages/optuna/study/study.py\", line 400, in optimize\n",
      "    _optimize(\n",
      "  File \"/opt/homebrew/Caskroom/miniforge/base/envs/hetvae/lib/python3.10/site-packages/optuna/study/_optimize.py\", line 66, in _optimize\n",
      "    _optimize_sequential(\n",
      "  File \"/opt/homebrew/Caskroom/miniforge/base/envs/hetvae/lib/python3.10/site-packages/optuna/study/_optimize.py\", line 163, in _optimize_sequential\n",
      "    trial = _run_trial(study, func, catch)\n",
      "  File \"/opt/homebrew/Caskroom/miniforge/base/envs/hetvae/lib/python3.10/site-packages/optuna/study/_optimize.py\", line 264, in _run_trial\n",
      "    raise func_err\n",
      "  File \"/opt/homebrew/Caskroom/miniforge/base/envs/hetvae/lib/python3.10/site-packages/optuna/study/_optimize.py\", line 213, in _run_trial\n",
      "    value_or_values = func(trial)\n",
      "  File \"/Users/mattlowery/Desktop/Desko/code/astro/hetvae/src/notebooks/../optuna_train.py\", line 237, in objective\n",
      "    loss = train(trial,args, LCS)\n",
      "  File \"/Users/mattlowery/Desktop/Desko/code/astro/hetvae/src/notebooks/../optuna_train.py\", line 93, in train\n",
      "    net = load_network(args, dim, union_tp)\n",
      "  File \"/Users/mattlowery/Desktop/Desko/code/astro/hetvae/src/model.py\", line 24, in load_network\n",
      "    ).to(args.device)\n",
      "  File \"/opt/homebrew/Caskroom/miniforge/base/envs/hetvae/lib/python3.10/site-packages/torch/nn/modules/module.py\", line 983, in to\n",
      "    return self._apply(convert)\n",
      "  File \"/opt/homebrew/Caskroom/miniforge/base/envs/hetvae/lib/python3.10/site-packages/torch/nn/modules/module.py\", line 634, in _apply\n",
      "    module._apply(fn)\n",
      "  File \"/opt/homebrew/Caskroom/miniforge/base/envs/hetvae/lib/python3.10/site-packages/torch/nn/modules/module.py\", line 634, in _apply\n",
      "    module._apply(fn)\n",
      "  File \"/opt/homebrew/Caskroom/miniforge/base/envs/hetvae/lib/python3.10/site-packages/torch/nn/modules/module.py\", line 657, in _apply\n",
      "    param_applied = fn(param)\n",
      "  File \"/opt/homebrew/Caskroom/miniforge/base/envs/hetvae/lib/python3.10/site-packages/torch/nn/modules/module.py\", line 981, in convert\n",
      "    return t.to(device, dtype if t.is_floating_point() or t.is_complex() else None, non_blocking)\n",
      "  File \"/opt/homebrew/Caskroom/miniforge/base/envs/hetvae/lib/python3.10/site-packages/torch/cuda/__init__.py\", line 215, in _lazy_init\n",
      "    raise AssertionError(\"Torch not compiled with CUDA enabled\")\n",
      "AssertionError: Torch not compiled with CUDA enabled\n",
      "\u001b[0m"
     ]
    }
   ],
   "source": [
    "! python3 ../optuna_train.py 10 10"
   ]
  },
  {
   "cell_type": "code",
   "execution_count": 2,
   "id": "707e5c0c",
   "metadata": {},
   "outputs": [
    {
     "name": "stdout",
     "output_type": "stream",
     "text": [
      "Namespace(n_union_tp=1000, data_folder='../datasets/ZTF_gband_test', checkpoint='./h5/synth_4129322.h5', start_col=1, inc_errors=False, print_at=100, embed_time=128, enc_num_heads=4, latent_dim=128, mixing='concat', num_ref_points=16, rec_hidden=128, width=512, save_at=1000000, patience=100, early_stopping=False, niters=100, frac=0.5, batch_size=128, mse_weight=5.0, dropout=0.0, num_resamples=0, lr=0.0003, scheduler=False, warmup=4000, kl_zero=False, kl_annealing=False, net='hetvae', device='mps', const_var=False, var_per_dim=False, std=0.1, seed=0, save=True, k_iwae=1) 1416137\n",
      "validated 51 files out of 51 for band='g'\n",
      "created union_tp attribute of length 1000\n",
      "dataset created w/ shape (38, 1, 1006, 3)\n",
      "0.5488135039273248\n",
      "train size: 30, valid size: 6, test size: 8\n",
      "=> loading checkpoint './h5/synth_4129322.h5'\n",
      "Namespace(n_union_tp=1000, data_folder='datasets/ZTF_gband', checkpoint='', start_col=1, inc_errors=False, print_at=1, embed_time=128, enc_num_heads=4, latent_dim=128, mixing='concat', num_ref_points=16, rec_hidden=128, width=512, save_at=99, patience=150, early_stopping=False, niters=100, frac=0.7, batch_size=256, mse_weight=5.0, dropout=0.0, lr=0.0003, scheduler=False, warmup=4000, kl_zero=False, kl_annealing=True, net='hetvae', device='mps', bound_variance=True, const_var=False, var_per_dim=False, std=0.1, seed=0, save=True, k_iwae=1)\n",
      "loaded checkpoint with loss: 3.8563295150922094\n",
      "model_size=406402\n",
      "/Users/mattlowery/Desktop/Desko/code/astro/hetvae/src/layers.py:84: UserWarning: The operator 'aten::repeat_interleave.self_int' is not currently supported on the MPS backend and will fall back to run on the CPU. This may have performance implications. (Triggered internally at /Users/runner/work/_temp/anaconda/conda-bld/pytorch_1660029059141/work/aten/src/ATen/mps/MPSFallback.mm:11.)\n",
      "  scores = scores.unsqueeze(-1).repeat_interleave(dim, dim=-1)\n",
      "^C\n"
     ]
    }
   ],
   "source": [
    "! python3 ../train.py \\\n",
    "    --data-folder ../datasets/ZTF_gband_test \\\n",
    "    --device mps \\\n",
    "    --checkpoint ./h5/synth_4129322.h5 \\\n",
    "    --niters 100 \\\n",
    "    --start-col 1"
   ]
  },
  {
   "cell_type": "code",
   "execution_count": null,
   "id": "07a32058",
   "metadata": {},
   "outputs": [],
   "source": []
  }
 ],
 "metadata": {
  "kernelspec": {
   "display_name": "hetvae",
   "language": "python",
   "name": "hetvae"
  },
  "language_info": {
   "codemirror_mode": {
    "name": "ipython",
    "version": 3
   },
   "file_extension": ".py",
   "mimetype": "text/x-python",
   "name": "python",
   "nbconvert_exporter": "python",
   "pygments_lexer": "ipython3",
   "version": "3.10.5"
  }
 },
 "nbformat": 4,
 "nbformat_minor": 5
}
