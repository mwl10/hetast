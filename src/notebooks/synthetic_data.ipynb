{
 "cells": [
  {
   "cell_type": "code",
   "execution_count": 3,
   "id": "5c999158",
   "metadata": {},
   "outputs": [],
   "source": [
    "import utils\n",
    "sys.path.insert(0, '/Users/mattlowery/Desktop/code/astro/hetvae/src/reverberation_mapping')"
   ]
  },
  {
   "cell_type": "code",
   "execution_count": 103,
   "id": "a42c53d2",
   "metadata": {},
   "outputs": [
    {
     "data": {
      "text/plain": [
       "'/Users/mattlowery/Desktop/code/astro/hetvae/src'"
      ]
     },
     "execution_count": 103,
     "metadata": {},
     "output_type": "execute_result"
    }
   ],
   "source": [
    "os.getcwd()"
   ]
  },
  {
   "cell_type": "code",
   "execution_count": 80,
   "id": "d3d2c880",
   "metadata": {},
   "outputs": [
    {
     "name": "stdout",
     "output_type": "stream",
     "text": [
      "The autoreload extension is already loaded. To reload it, use:\n",
      "  %reload_ext autoreload\n"
     ]
    }
   ],
   "source": [
    "%load_ext autoreload"
   ]
  },
  {
   "cell_type": "code",
   "execution_count": 105,
   "id": "9346965e",
   "metadata": {},
   "outputs": [],
   "source": [
    "%autoreload"
   ]
  },
  {
   "cell_type": "markdown",
   "id": "e380e25a",
   "metadata": {},
   "source": [
    "# Making Synthetic Data"
   ]
  },
  {
   "cell_type": "code",
   "execution_count": 107,
   "id": "77848982",
   "metadata": {},
   "outputs": [
    {
     "name": "stdout",
     "output_type": "stream",
     "text": [
      "validated 55 files out of 55 for band='g'\n",
      "0123456789101112131415161718192021222324252627282930313233343536373839"
     ]
    }
   ],
   "source": [
    "base_folder = '/Users/mattlowery/Desktop/code/astro/hetvae/src/test_data'\n",
    "save_folder = 'synth_test_data'\n",
    "data_obj = utils.save_synth_data(base_folder=base_folder, save_folder=save_folder, seed = 0,  kernel='dho', duration=730, n=180)"
   ]
  },
  {
   "cell_type": "code",
   "execution_count": 99,
   "id": "0a20bd3f",
   "metadata": {},
   "outputs": [
    {
     "data": {
      "text/plain": [
       "(180, 3)"
      ]
     },
     "execution_count": 99,
     "metadata": {},
     "output_type": "execute_result"
    }
   ],
   "source": [
    "pd.read_csv('./synth_test_data/simband1/1.csv').to_numpy().shape"
   ]
  },
  {
   "cell_type": "markdown",
   "id": "fca4bfea",
   "metadata": {},
   "source": [
    "# For the Full ZTF dataset "
   ]
  },
  {
   "cell_type": "code",
   "execution_count": null,
   "id": "b30b3d25",
   "metadata": {},
   "outputs": [],
   "source": [
    "base_folder = '/Users/mattlowery/Desktop/code/astro/hetvae/src/ZTF_DR_data'\n",
    "save_folder = 'synth_ZTF_data'\n",
    "data_obj = utils.save_synth_data(base_folder=base_folder, save_folder=save_folder, seed = 0,  kernel='dho', duration=730, n=180)"
   ]
  }
 ],
 "metadata": {
  "kernelspec": {
   "display_name": "hetvae",
   "language": "python",
   "name": "hetvae"
  },
  "language_info": {
   "codemirror_mode": {
    "name": "ipython",
    "version": 3
   },
   "file_extension": ".py",
   "mimetype": "text/x-python",
   "name": "python",
   "nbconvert_exporter": "python",
   "pygments_lexer": "ipython3",
   "version": "3.10.5"
  }
 },
 "nbformat": 4,
 "nbformat_minor": 5
}
