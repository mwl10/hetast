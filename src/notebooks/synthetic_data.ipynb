{
 "cells": [
  {
   "cell_type": "code",
   "execution_count": 3,
   "id": "d4575e09",
   "metadata": {},
   "outputs": [],
   "source": [
    "import utils\n",
    "sys.path.insert(0, '/Users/mattlowery/Desktop/code/astro/hetast/src/reverberation_mapping')"
   ]
  },
  {
   "cell_type": "markdown",
   "id": "38fc122e",
   "metadata": {},
   "source": [
    "# Making Synthetic Data"
   ]
  },
  {
   "cell_type": "code",
   "execution_count": 107,
   "id": "66988363",
   "metadata": {},
   "outputs": [
    {
     "name": "stdout",
     "output_type": "stream",
     "text": [
      "validated 55 files out of 55 for band='g'\n",
      "0123456789101112131415161718192021222324252627282930313233343536373839"
     ]
    }
   ],
   "source": [
    "base_folder = '/Users/mattlowery/Desktop/code/astro/hetast/src/test_data'\n",
    "save_folder = 'synth_test_data'\n",
    "data_obj = utils.save_synth_data(base_folder=base_folder, save_folder=save_folder, seed = 0,  kernel='dho', duration=730, n=180)"
   ]
  },
  {
   "cell_type": "code",
   "execution_count": 99,
   "id": "52717ffe",
   "metadata": {},
   "outputs": [
    {
     "data": {
      "text/plain": [
       "(180, 3)"
      ]
     },
     "execution_count": 99,
     "metadata": {},
     "output_type": "execute_result"
    }
   ],
   "source": [
    "pd.read_csv('./synth_test_data/simband1/1.csv').to_numpy().shape"
   ]
  },
  {
   "cell_type": "markdown",
   "id": "db55789f",
   "metadata": {},
   "source": [
    "# For the Full ZTF dataset "
   ]
  },
  {
   "cell_type": "code",
   "execution_count": null,
   "id": "95d37dc9",
   "metadata": {},
   "outputs": [],
   "source": [
    "base_folder = '/Users/mattlowery/Desktop/code/astro/hetast/src/ZTF_DR_data'\n",
    "save_folder = 'synth_ZTF_data'\n",
    "data_obj = utils.save_synth_data(base_folder=base_folder, save_folder=save_folder, seed = 0,  kernel='dho', duration=730, n=180)"
   ]
  }
 ],
 "metadata": {
  "kernelspec": {
   "display_name": "hetvae",
   "language": "python",
   "name": "hetvae"
  },
  "language_info": {
   "codemirror_mode": {
    "name": "ipython",
    "version": 3
   },
   "file_extension": ".py",
   "mimetype": "text/x-python",
   "name": "python",
   "nbconvert_exporter": "python",
   "pygments_lexer": "ipython3",
   "version": "3.10.5"
  }
 },
 "nbformat": 4,
 "nbformat_minor": 5
}
