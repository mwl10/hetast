{
  "cells": [
    {
      "cell_type": "code",
      "execution_count": 31,
      "metadata": {
        "colab": {
          "base_uri": "https://localhost:8080/"
        },
        "id": "xSKtH8WGhoBo",
        "outputId": "de4ff637-2bfa-468c-c77d-3063868efef2"
      },
      "outputs": [
        {
          "output_type": "stream",
          "name": "stdout",
          "text": [
            "Cloning into 'hetvae'...\n",
            "remote: Enumerating objects: 2028, done.\u001b[K\n",
            "remote: Counting objects: 100% (168/168), done.\u001b[K\n",
            "remote: Compressing objects: 100% (117/117), done.\u001b[K\n",
            "remote: Total 2028 (delta 113), reused 89 (delta 51), pack-reused 1860\u001b[K\n",
            "Receiving objects: 100% (2028/2028), 26.41 MiB | 25.27 MiB/s, done.\n",
            "Resolving deltas: 100% (716/716), done.\n",
            "Looking in indexes: https://pypi.org/simple, https://us-python.pkg.dev/colab-wheels/public/simple/\n",
            "Requirement already satisfied: alembic==1.7.7 in /usr/local/lib/python3.7/dist-packages (from -r requirements.txt (line 1)) (1.7.7)\n",
            "Requirement already satisfied: attrs==21.4.0 in /usr/local/lib/python3.7/dist-packages (from -r requirements.txt (line 2)) (21.4.0)\n",
            "Requirement already satisfied: autopage==0.5.0 in /usr/local/lib/python3.7/dist-packages (from -r requirements.txt (line 3)) (0.5.0)\n",
            "Requirement already satisfied: backports.functools-lru-cache==1.6.4 in /usr/local/lib/python3.7/dist-packages (from -r requirements.txt (line 4)) (1.6.4)\n",
            "Requirement already satisfied: cliff==3.10.1 in /usr/local/lib/python3.7/dist-packages (from -r requirements.txt (line 5)) (3.10.1)\n",
            "Requirement already satisfied: cmaes==0.8.2 in /usr/local/lib/python3.7/dist-packages (from -r requirements.txt (line 6)) (0.8.2)\n",
            "Requirement already satisfied: cmd2==2.3.3 in /usr/local/lib/python3.7/dist-packages (from -r requirements.txt (line 7)) (2.3.3)\n",
            "Requirement already satisfied: colorama==0.4.4 in /usr/local/lib/python3.7/dist-packages (from -r requirements.txt (line 8)) (0.4.4)\n",
            "Requirement already satisfied: colorlog==6.6.0 in /usr/local/lib/python3.7/dist-packages (from -r requirements.txt (line 9)) (6.6.0)\n",
            "Requirement already satisfied: greenlet==1.1.2 in /usr/local/lib/python3.7/dist-packages (from -r requirements.txt (line 10)) (1.1.2)\n",
            "Requirement already satisfied: importlib-metadata==4.11.4 in /usr/local/lib/python3.7/dist-packages (from -r requirements.txt (line 11)) (4.11.4)\n",
            "Requirement already satisfied: importlib-resources==5.7.1 in /usr/local/lib/python3.7/dist-packages (from -r requirements.txt (line 12)) (5.7.1)\n",
            "Requirement already satisfied: Mako==1.2.0 in /usr/local/lib/python3.7/dist-packages (from -r requirements.txt (line 13)) (1.2.0)\n",
            "Requirement already satisfied: MarkupSafe==2.1.1 in /usr/local/lib/python3.7/dist-packages (from -r requirements.txt (line 14)) (2.1.1)\n",
            "Requirement already satisfied: numpy==1.21.0 in /usr/local/lib/python3.7/dist-packages (from -r requirements.txt (line 15)) (1.21.0)\n",
            "Requirement already satisfied: optuna==2.10.0 in /usr/local/lib/python3.7/dist-packages (from -r requirements.txt (line 16)) (2.10.0)\n",
            "Requirement already satisfied: packaging==21.3 in /usr/local/lib/python3.7/dist-packages (from -r requirements.txt (line 17)) (21.3)\n",
            "Requirement already satisfied: pbr==5.9.0 in /usr/local/lib/python3.7/dist-packages (from -r requirements.txt (line 18)) (5.9.0)\n",
            "Requirement already satisfied: pip==22.1.1 in /usr/local/lib/python3.7/dist-packages (from -r requirements.txt (line 19)) (22.1.1)\n",
            "Requirement already satisfied: prettytable==3.3.0 in /usr/local/lib/python3.7/dist-packages (from -r requirements.txt (line 20)) (3.3.0)\n",
            "Requirement already satisfied: pyparsing==3.0.9 in /usr/local/lib/python3.7/dist-packages (from -r requirements.txt (line 21)) (3.0.9)\n",
            "Requirement already satisfied: pyperclip==1.8.2 in /usr/local/lib/python3.7/dist-packages (from -r requirements.txt (line 22)) (1.8.2)\n",
            "Requirement already satisfied: PyYAML==6.0 in /usr/local/lib/python3.7/dist-packages (from -r requirements.txt (line 23)) (6.0)\n",
            "Requirement already satisfied: scipy==1.7.3 in /usr/local/lib/python3.7/dist-packages (from -r requirements.txt (line 24)) (1.7.3)\n",
            "Requirement already satisfied: setuptools==62.3.2 in /usr/local/lib/python3.7/dist-packages (from -r requirements.txt (line 25)) (62.3.2)\n",
            "Requirement already satisfied: SQLAlchemy==1.4.36 in /usr/local/lib/python3.7/dist-packages (from -r requirements.txt (line 26)) (1.4.36)\n",
            "Requirement already satisfied: stevedore==3.5.0 in /usr/local/lib/python3.7/dist-packages (from -r requirements.txt (line 27)) (3.5.0)\n",
            "Requirement already satisfied: tqdm==4.64.0 in /usr/local/lib/python3.7/dist-packages (from -r requirements.txt (line 28)) (4.64.0)\n",
            "Requirement already satisfied: wcwidth==0.2.5 in /usr/local/lib/python3.7/dist-packages (from -r requirements.txt (line 29)) (0.2.5)\n",
            "Requirement already satisfied: wheel==0.37.1 in /usr/local/lib/python3.7/dist-packages (from -r requirements.txt (line 30)) (0.37.1)\n",
            "Requirement already satisfied: zipp==3.8.0 in /usr/local/lib/python3.7/dist-packages (from -r requirements.txt (line 31)) (3.8.0)\n",
            "Requirement already satisfied: typing-extensions in /usr/local/lib/python3.7/dist-packages (from cmd2==2.3.3->-r requirements.txt (line 7)) (4.2.0)\n",
            "\u001b[33mWARNING: Running pip as the 'root' user can result in broken permissions and conflicting behaviour with the system package manager. It is recommended to use a virtual environment instead: https://pip.pypa.io/warnings/venv\u001b[0m\u001b[33m\n",
            "\u001b[0m"
          ]
        }
      ],
      "source": [
        "import os\n",
        "import shutil\n",
        "os.chdir('/content')\n",
        "if os.path.isdir('./hetvae'):\n",
        "  shutil.rmtree('./hetvae/')\n",
        "! git clone --branch errors https://github.com/mwl10/hetvae\n",
        "os.chdir('/content/hetvae')\n",
        "! pip install -r requirements.txt\n",
        "os.chdir('/content/hetvae/src')\n",
        "import numpy as np\n",
        "import torch\n",
        "import optuna\n",
        "from optuna.trial import TrialState\n",
        "import torch.optim as optim\n",
        "import models\n",
        "from argparse import Namespace\n",
        "import torch.optim as optim\n",
        "import utils\n",
        "import my_utils\n",
        "import pandas as pd\n",
        "import importlib\n",
        "import vae_models\n",
        "importlib.reload(vae_models)\n",
        "importlib.reload(models)\n",
        "importlib.reload(utils)\n",
        "importlib.reload(my_utils)\n",
        "from glob import glob\n",
        "import matplotlib.pyplot as plt\n",
        "import sys\n",
        "del sys.modules['dataset']\n",
        "from dataset import DataSet\n",
        "%matplotlib inline"
      ]
    },
    {
      "cell_type": "markdown",
      "metadata": {
        "id": "MNNdXvW2enKy"
      },
      "source": [
        "##Pick your poison:"
      ]
    },
    {
      "cell_type": "code",
      "execution_count": 24,
      "metadata": {
        "id": "4PGcCNnGeRAS",
        "colab": {
          "base_uri": "https://localhost:8080/"
        },
        "outputId": "b19fe13a-673f-413b-89f9-e7a2e61e89be"
      },
      "outputs": [
        {
          "output_type": "stream",
          "name": "stdout",
          "text": [
            "indexes of outliers to be pruned, if any: [600 601]\n",
            "indexes of outliers to be pruned, if any: []\n",
            "indexes of outliers to be pruned, if any: [418 583]\n",
            "indexes of outliers to be pruned, if any: []\n",
            "indexes of outliers to be pruned, if any: [ 98 205 260 261 554 555]\n",
            "generating 1 new sample of each example in the dataset & appending them \n",
            " old dataset length: 5\n",
            "new dataset length: 10\n",
            "created union_x attribute of length 2436\n",
            "zero fill all the examples up to the length of longest one given, dataset is also now a numpy array w shape: (10, 619, 3), instead of a list of numpy arrays\n",
            "created subsampled_mask & recon_mask instance attributes\n",
            "(2436,) (10, 619, 3) (10, 619) (10, 619)\n"
          ]
        },
        {
          "output_type": "stream",
          "name": "stderr",
          "text": [
            "/content/hetvae/src/dataset.py:153: RuntimeWarning:\n",
            "\n",
            "divide by zero encountered in true_divide\n",
            "\n"
          ]
        }
      ],
      "source": [
        "#------------------------------\n",
        "# AGN Preprocessing, we have a DF w/ OBJECT , FILTER, MJD, FLUX, ERROR\n",
        "#------------------------------\n",
        "\n",
        "def get_AGN_data(file):\n",
        "    agn_df = pd.read_csv(file)\n",
        "    # handle formatting for new AGN\n",
        "    lcs = []\n",
        "    for lc_df in agn_df.groupby('Filter'):\n",
        "        lc = lc_df[1][['MJD', 'Flux', 'Error']].to_numpy()\n",
        "        lcs.append(lc)\n",
        "\n",
        "    AGN_1H2106 = DataSet()\n",
        "    AGN_1H2106.dataset = lcs # skip add files part\n",
        "    AGN_1H2106 = AGN_1H2106.handle_dups().prune_outliers().resample_dataset(num_samples=1).normalize().reorder() \\\n",
        "        .set_union_x().zero_fill().error_to_sample_weight().make_masks(frac=0.5)\n",
        "\n",
        "    print(\n",
        "        AGN_1H2106.union_x.shape,\n",
        "        AGN_1H2106.dataset.shape,\n",
        "        AGN_1H2106.subsampled_mask.shape,\n",
        "        AGN_1H2106.recon_mask.shape\n",
        "      )\n",
        "\n",
        "    return AGN_1H2106\n",
        "\n",
        "AGN_1H2106 = get_AGN_data('/content/hetvae/data/AGN_1H2106-099/1H2106-099_latest_lcs_pyroa.csv')"
      ]
    },
    {
      "cell_type": "markdown",
      "metadata": {
        "id": "9AMjSKXYobJx"
      },
      "source": [
        "\n",
        "## Setting up arguments"
      ]
    },
    {
      "cell_type": "code",
      "execution_count": 84,
      "metadata": {
        "id": "5b4ufWPlkpmN"
      },
      "outputs": [],
      "source": [
        "def define_model_args(trial):\n",
        "\n",
        "    args = Namespace(\n",
        "        batch_size = trial.suggest_categorical(\"batch_size\", [8,16,32]),\n",
        "        bound_variance = True,\n",
        "        const_var = False,\n",
        "        dataset='toy',\n",
        "        dropout = trial.suggest_float(\"dropout\", 0.0,0.5),\n",
        "        elbo_weight = trial.suggest_float(\"elbo_weight\", 0.0, 5.0),\n",
        "        embed_time = trial.suggest_categorical(\"embed_time\", [8,16,32,64,128]),\n",
        "        enc_num_heads=4,#trial.suggest_categorical(\"enc_num_heads\", [1,2,4,8,16]),\n",
        "        intensity=True,\n",
        "        k_iwae=1,\n",
        "        kl_annealing=False,#trial.suggest_categorical(\"kl_annealing\",False),\n",
        "        kl_zero=False, \n",
        "        latent_dim=trial.suggest_categorical(\"latent_dim\", [8,16,32,64,128]),\n",
        "        lr=trial.suggest_float(\"lr\", 1e-7, 1e-1, log=True),\n",
        "        mixing=trial.suggest_categorical(\"mixing\", [\"concat\", \"concat_and_mix\"]),#\"separate\", \"interp_only\", \"na\"]),\n",
        "        mse_weight=trial.suggest_float(\"mse_weight\",1,10),\n",
        "        n=trial.suggest_categorical(\"n\", [8,16,32,64,128]),\n",
        "        net='hetvae', \n",
        "        niters=1000, \n",
        "        norm=True, \n",
        "        normalize_input='znorm', \n",
        "        num_ref_points=trial.suggest_categorical(\"num_ref_points\", [8,16,32,64,128]),\n",
        "        rec_hidden=trial.suggest_categorical(\"rec_hidden\", [8,16,32,64,128]),\n",
        "        recon_loss=False, \n",
        "        sample_tp= trial.suggest_float(\"sample_tp\", 0.1,0.9), # will be ignored\n",
        "        save=True, \n",
        "        seed=0, \n",
        "        shuffle=True, \n",
        "        std=0.1, \n",
        "        var_per_dim=False, \n",
        "        width=trial.suggest_categorical(\"width\", [8,16,32,64,128])\n",
        "    )\n",
        "\n",
        "    return args\n",
        "\n"
      ]
    },
    {
      "cell_type": "code",
      "source": [
        "FILES = glob('/content/hetvae/data/EDELSON/*')[:4]\n",
        "Edelson = DataSet().add_files(FILES).files_to_numpy().handle_dups().prune_outliers().resample_dataset(num_samples=1) \\\n",
        "        .normalize().set_union_x().zero_fill().make_masks(frac=0.5)\n",
        "\n",
        "\n",
        "        "
      ],
      "metadata": {
        "id": "zzUOUZlZW24Y",
        "outputId": "6451abab-ad63-470f-db4f-edfb98862cc8",
        "colab": {
          "base_uri": "https://localhost:8080/"
        }
      },
      "execution_count": 85,
      "outputs": [
        {
          "output_type": "stream",
          "name": "stdout",
          "text": [
            "dims of /content/hetvae/data/EDELSON/NGC5548_SX.dat:\t(267, 3)\n",
            "dims of /content/hetvae/data/EDELSON/NGC5548_W1.dat:\t(260, 3)\n",
            "dims of /content/hetvae/data/EDELSON/NGC4593_W2.dat:\t(147, 3)\n",
            "dims of /content/hetvae/data/EDELSON/NGC5548_M2.dat:\t(248, 3)\n",
            "indexes of outliers to be pruned, if any: [ 87  96 102]\n",
            "indexes of outliers to be pruned, if any: []\n",
            "indexes of outliers to be pruned, if any: []\n",
            "indexes of outliers to be pruned, if any: []\n",
            "generating 1 new sample of each example in the dataset & appending them \n",
            " old dataset length: 4\n",
            "new dataset length: 8\n",
            "created union_x attribute of length 916\n",
            "zero fill all the examples up to the length of longest one given, dataset is also now a numpy array w shape: (8, 264, 3), instead of a list of numpy arrays\n",
            "created subsampled_mask & recon_mask instance attributes\n"
          ]
        }
      ]
    },
    {
      "cell_type": "code",
      "source": [
        "plt.scatter(Edelson.dataset[0,:-100,0], Edelson.dataset[0,:-100,1])"
      ],
      "metadata": {
        "id": "xzd6nwhCXQNK",
        "outputId": "d7d87b09-2b19-4f00-a3c5-326add5d4e08",
        "colab": {
          "base_uri": "https://localhost:8080/",
          "height": 283
        }
      },
      "execution_count": 86,
      "outputs": [
        {
          "output_type": "execute_result",
          "data": {
            "text/plain": [
              "<matplotlib.collections.PathCollection at 0x7ff550fc9a90>"
            ]
          },
          "metadata": {},
          "execution_count": 86
        },
        {
          "output_type": "display_data",
          "data": {
            "text/plain": [
              "<Figure size 432x288 with 1 Axes>"
            ],
            "image/png": "[encoded data removed]"
          },
          "metadata": {
            "needs_background": "light"
          }
        }
      ]
    },
    {
      "cell_type": "markdown",
      "metadata": {
        "id": "Fu4NfxiUojxk"
      },
      "source": [
        "## **Generating Synthetic Data**"
      ]
    },
    {
      "cell_type": "markdown",
      "metadata": {
        "id": "udt437lzovHw"
      },
      "source": [
        "## **Loading HeTVAE model**"
      ]
    },
    {
      "cell_type": "code",
      "execution_count": 87,
      "metadata": {
        "id": "q1voi00cj_5v"
      },
      "outputs": [],
      "source": [
        "EPOCHS = 100\n",
        "FILES = glob('/content/hetvae/data/EDELSON/*')[:4]\n",
        "#FILES = glob('/content/hetvae/data/CAT/*/*')[:50]\n",
        "\n",
        "\n",
        "DIM = 1\n",
        "# definitly want a decaying error rate...\n",
        "#scheduler = torch.optim.lr_scheduler.MultiStepLR(optimizer, milestones=[], gamma=0.1)\n"
      ]
    },
    {
      "cell_type": "code",
      "source": [
        "def objective(trial):\n",
        "\n",
        "    args = define_model_args(trial)\n",
        "\n",
        "    seed = args.seed\n",
        "    torch.manual_seed(seed)\n",
        "    np.random.seed(seed)\n",
        "    torch.cuda.manual_seed(seed)\n",
        "    device = torch.device('cuda' if torch.cuda.is_available() else 'cpu')\n",
        "\n",
        "    # dataset hyperparams\n",
        "    num_samples=trial.suggest_int(\"num_samples\", 1,10)\n",
        "\n",
        "    \n",
        "    Edelson = DataSet().add_files(FILES).files_to_numpy().handle_dups().prune_outliers().resample_dataset(num_samples=num_samples) \\\n",
        "        .normalize().set_union_x().zero_fill().make_masks(frac=args.sample_tp)\n",
        "    \n",
        "    LightCurves = np.concatenate((Edelson.dataset, Edelson.subsampled_mask[:,:,np.newaxis], Edelson.recon_mask[:,:,np.newaxis]), axis=-1) # format the masks for the model \n",
        "\n",
        "    training, valid = np.split(LightCurves, [int(np.floor(0.8*len(LightCurves)))])# shuffle?\n",
        "    \n",
        "    \n",
        "\n",
        "    train_loader = torch.utils.data.DataLoader(training, batch_size=args.batch_size)\n",
        "    valid_loader = torch.utils.data.DataLoader(valid, batch_size=args.batch_size)\n",
        "    \n",
        "    \n",
        "    net = models.load_network(args, DIM, torch.Tensor(Edelson.union_x)) # , device=\"cuda\"\n",
        "    \n",
        "\n",
        "    optimizer_name = trial.suggest_categorical(\"optimizer\", [\"Adam\",\"RMSprop\", \"SGD\"])\n",
        "    optimizer = getattr(optim, optimizer_name)(net.parameters(), lr=args.lr)\n",
        "\n",
        "    for epoch in range(EPOCHS):\n",
        "        train(net, optimizer, epoch, train_loader, args, device=device)\n",
        "        nll_loss = my_utils.evaluate(net, valid_loader, device=device)\n",
        "        trial.report(nll_loss, epoch)\n",
        "        if trial.should_prune():\n",
        "            raise optuna.exceptions.TrialPruned()\n",
        "\n",
        "    return nll_loss\n"
      ],
      "metadata": {
        "id": "tr9mw7VxVAa1"
      },
      "execution_count": 88,
      "outputs": []
    },
    {
      "cell_type": "code",
      "source": [
        "study = optuna.create_study(direction=\"minimize\")"
      ],
      "metadata": {
        "id": "WVA1Tl8WX7RY",
        "outputId": "efc96cc0-0b29-48f5-be02-4da7c792ea9b",
        "colab": {
          "base_uri": "https://localhost:8080/"
        }
      },
      "execution_count": 89,
      "outputs": [
        {
          "output_type": "stream",
          "name": "stderr",
          "text": [
            "\u001b[32m[I 2022-06-09 00:18:53,928]\u001b[0m A new study created in memory with name: no-name-d1610025-04a6-4bc3-bbb0-44ae30d36df4\u001b[0m\n"
          ]
        }
      ]
    },
    {
      "cell_type": "code",
      "source": [
        "\n",
        "study.optimize(objective, n_trials=50, timeout=600)\n",
        "\n",
        "pruned_trials = study.get_trials(deepcopy=False, states=[TrialState.PRUNED])\n",
        "complete_trials = study.get_trials(deepcopy=False, states=[TrialState.COMPLETE])\n",
        "\n",
        "print(\"Study statistics: \")\n",
        "print(\"  Number of finished trials: \", len(study.trials))\n",
        "print(\"  Number of pruned trials: \", len(pruned_trials))\n",
        "print(\"  Number of complete trials: \", len(complete_trials))\n",
        "\n",
        "print(\"Best trial:\")\n",
        "trial = study.best_trial\n",
        "\n",
        "print(\"  Value: \", trial.value)\n",
        "\n",
        "print(\"  Params: \")\n",
        "for key, value in trial.params.items():\n",
        "    print(\"    {}: {}\".format(key, value))"
      ],
      "metadata": {
        "id": "q-BG4SImPz2m",
        "outputId": "5f8fbc56-1d53-4140-8351-b08e7402fb14",
        "colab": {
          "base_uri": "https://localhost:8080/"
        }
      },
      "execution_count": 93,
      "outputs": [
        {
          "output_type": "stream",
          "name": "stderr",
          "text": [
            "\u001b[32m[I 2022-06-09 00:21:29,869]\u001b[0m Trial 30 pruned. \u001b[0m\n"
          ]
        },
        {
          "output_type": "stream",
          "name": "stdout",
          "text": [
            "dims of /content/hetvae/data/EDELSON/NGC5548_SX.dat:\t(267, 3)\n",
            "dims of /content/hetvae/data/EDELSON/NGC5548_W1.dat:\t(260, 3)\n",
            "dims of /content/hetvae/data/EDELSON/NGC4593_W2.dat:\t(147, 3)\n",
            "dims of /content/hetvae/data/EDELSON/NGC5548_M2.dat:\t(248, 3)\n",
            "indexes of outliers to be pruned, if any: [ 87  96 102]\n",
            "indexes of outliers to be pruned, if any: []\n",
            "indexes of outliers to be pruned, if any: []\n",
            "indexes of outliers to be pruned, if any: []\n",
            "generating 10 new sample of each example in the dataset & appending them \n",
            " old dataset length: 4\n",
            "new dataset length: 44\n",
            "created union_x attribute of length 916\n",
            "zero fill all the examples up to the length of longest one given, dataset is also now a numpy array w shape: (44, 264, 3), instead of a list of numpy arrays\n",
            "created subsampled_mask & recon_mask instance attributes\n",
            "Iter: 0, train loss: 14.8907, avg nll: 1.3926, avg kl: 0.1540, mse: 0.975249, mae: 0.908459\n",
            "dims of /content/hetvae/data/EDELSON/NGC5548_SX.dat:\t(267, 3)\n",
            "dims of /content/hetvae/data/EDELSON/NGC5548_W1.dat:\t(260, 3)\n",
            "dims of /content/hetvae/data/EDELSON/NGC4593_W2.dat:\t(147, 3)\n",
            "dims of /content/hetvae/data/EDELSON/NGC5548_M2.dat:\t(248, 3)\n",
            "indexes of outliers to be pruned, if any: [ 87  96 102]\n",
            "indexes of outliers to be pruned, if any: []\n",
            "indexes of outliers to be pruned, if any: []\n",
            "indexes of outliers to be pruned, if any: []\n",
            "generating 9 new sample of each example in the dataset & appending them \n",
            " old dataset length: 4\n",
            "new dataset length: 40\n",
            "created union_x attribute of length 916\n",
            "zero fill all the examples up to the length of longest one given, dataset is also now a numpy array w shape: (40, 264, 3), instead of a list of numpy arrays\n",
            "created subsampled_mask & recon_mask instance attributes\n",
            "Iter: 0, train loss: 9.1434, avg nll: 1.4476, avg kl: 0.3389, mse: 0.956636, mae: 0.896351\n"
          ]
        },
        {
          "output_type": "stream",
          "name": "stderr",
          "text": [
            "\u001b[32m[I 2022-06-09 00:21:30,022]\u001b[0m Trial 31 pruned. \u001b[0m\n",
            "\u001b[32m[I 2022-06-09 00:21:30,113]\u001b[0m Trial 32 pruned. \u001b[0m\n",
            "\u001b[32m[I 2022-06-09 00:21:30,195]\u001b[0m Trial 33 pruned. \u001b[0m\n"
          ]
        },
        {
          "output_type": "stream",
          "name": "stdout",
          "text": [
            "dims of /content/hetvae/data/EDELSON/NGC5548_SX.dat:\t(267, 3)\n",
            "dims of /content/hetvae/data/EDELSON/NGC5548_W1.dat:\t(260, 3)\n",
            "dims of /content/hetvae/data/EDELSON/NGC4593_W2.dat:\t(147, 3)\n",
            "dims of /content/hetvae/data/EDELSON/NGC5548_M2.dat:\t(248, 3)\n",
            "indexes of outliers to be pruned, if any: [ 87  96 102]\n",
            "indexes of outliers to be pruned, if any: []\n",
            "indexes of outliers to be pruned, if any: []\n",
            "indexes of outliers to be pruned, if any: []\n",
            "generating 9 new sample of each example in the dataset & appending them \n",
            " old dataset length: 4\n",
            "new dataset length: 40\n",
            "created union_x attribute of length 916\n",
            "zero fill all the examples up to the length of longest one given, dataset is also now a numpy array w shape: (40, 264, 3), instead of a list of numpy arrays\n",
            "created subsampled_mask & recon_mask instance attributes\n",
            "Iter: 0, train loss: 12.2731, avg nll: 1.4366, avg kl: 0.4780, mse: 1.075681, mae: 0.923525\n",
            "dims of /content/hetvae/data/EDELSON/NGC5548_SX.dat:\t(267, 3)\n",
            "dims of /content/hetvae/data/EDELSON/NGC5548_W1.dat:\t(260, 3)\n",
            "dims of /content/hetvae/data/EDELSON/NGC4593_W2.dat:\t(147, 3)\n",
            "dims of /content/hetvae/data/EDELSON/NGC5548_M2.dat:\t(248, 3)\n",
            "indexes of outliers to be pruned, if any: [ 87  96 102]\n",
            "indexes of outliers to be pruned, if any: []\n",
            "indexes of outliers to be pruned, if any: []\n",
            "indexes of outliers to be pruned, if any: []\n",
            "generating 7 new sample of each example in the dataset & appending them \n",
            " old dataset length: 4\n",
            "new dataset length: 32\n",
            "created union_x attribute of length 916\n",
            "zero fill all the examples up to the length of longest one given, dataset is also now a numpy array w shape: (32, 264, 3), instead of a list of numpy arrays\n",
            "created subsampled_mask & recon_mask instance attributes\n",
            "Iter: 0, train loss: 11.3748, avg nll: 1.4985, avg kl: 0.5889, mse: 1.007382, mae: 0.921945\n",
            "dims of /content/hetvae/data/EDELSON/NGC5548_SX.dat:\t(267, 3)\n",
            "dims of /content/hetvae/data/EDELSON/NGC5548_W1.dat:\t(260, 3)\n",
            "dims of /content/hetvae/data/EDELSON/NGC4593_W2.dat:\t(147, 3)\n",
            "dims of /content/hetvae/data/EDELSON/NGC5548_M2.dat:\t(248, 3)\n",
            "indexes of outliers to be pruned, if any: [ 87  96 102]\n",
            "indexes of outliers to be pruned, if any: []\n",
            "indexes of outliers to be pruned, if any: []\n",
            "indexes of outliers to be pruned, if any: []\n",
            "generating 9 new sample of each example in the dataset & appending them \n",
            " old dataset length: 4\n",
            "new dataset length: 40\n",
            "created union_x attribute of length 916\n",
            "zero fill all the examples up to the length of longest one given, dataset is also now a numpy array w shape: (40, 264, 3), instead of a list of numpy arrays\n",
            "created subsampled_mask & recon_mask instance attributes\n"
          ]
        },
        {
          "output_type": "stream",
          "name": "stderr",
          "text": [
            "\u001b[32m[I 2022-06-09 00:21:30,283]\u001b[0m Trial 34 pruned. \u001b[0m\n"
          ]
        },
        {
          "output_type": "stream",
          "name": "stdout",
          "text": [
            "Iter: 0, train loss: 10.1666, avg nll: 1.4328, avg kl: 0.6285, mse: 0.925007, mae: 0.860482\n",
            "dims of /content/hetvae/data/EDELSON/NGC5548_SX.dat:\t(267, 3)\n",
            "dims of /content/hetvae/data/EDELSON/NGC5548_W1.dat:\t(260, 3)\n",
            "dims of /content/hetvae/data/EDELSON/NGC4593_W2.dat:\t(147, 3)\n",
            "dims of /content/hetvae/data/EDELSON/NGC5548_M2.dat:\t(248, 3)\n",
            "indexes of outliers to be pruned, if any: [ 87  96 102]\n",
            "indexes of outliers to be pruned, if any: []\n",
            "indexes of outliers to be pruned, if any: []\n",
            "indexes of outliers to be pruned, if any: []\n",
            "generating 8 new sample of each example in the dataset & appending them \n",
            " old dataset length: 4\n",
            "new dataset length: 36\n",
            "created union_x attribute of length 916\n",
            "zero fill all the examples up to the length of longest one given, dataset is also now a numpy array w shape: (36, 264, 3), instead of a list of numpy arrays\n",
            "created subsampled_mask & recon_mask instance attributes\n",
            "Iter: 0, train loss: 7.7632, avg nll: 1.1303, avg kl: 0.6260, mse: 0.566473, mae: 0.628218\n"
          ]
        },
        {
          "output_type": "stream",
          "name": "stderr",
          "text": [
            "\u001b[32m[I 2022-06-09 00:21:37,030]\u001b[0m Trial 35 finished with value: -0.2572128176689148 and parameters: {'batch_size': 8, 'dropout': 0.4810761392356336, 'elbo_weight': 2.071299946284342, 'embed_time': 128, 'latent_dim': 128, 'lr': 8.709877385989801e-05, 'mixing': 'concat_and_mix', 'mse_weight': 7.282360531230097, 'n': 32, 'num_ref_points': 8, 'rec_hidden': 128, 'sample_tp': 0.6765744000890945, 'width': 32, 'num_samples': 8, 'optimizer': 'RMSprop'}. Best is trial 27 with value: -1.3348125219345093.\u001b[0m\n",
            "\u001b[32m[I 2022-06-09 00:21:37,222]\u001b[0m Trial 36 pruned. \u001b[0m\n"
          ]
        },
        {
          "output_type": "stream",
          "name": "stdout",
          "text": [
            "dims of /content/hetvae/data/EDELSON/NGC5548_SX.dat:\t(267, 3)\n",
            "dims of /content/hetvae/data/EDELSON/NGC5548_W1.dat:\t(260, 3)\n",
            "dims of /content/hetvae/data/EDELSON/NGC4593_W2.dat:\t(147, 3)\n",
            "dims of /content/hetvae/data/EDELSON/NGC5548_M2.dat:\t(248, 3)\n",
            "indexes of outliers to be pruned, if any: [ 87  96 102]\n",
            "indexes of outliers to be pruned, if any: []\n",
            "indexes of outliers to be pruned, if any: []\n",
            "indexes of outliers to be pruned, if any: []\n",
            "generating 8 new sample of each example in the dataset & appending them \n",
            " old dataset length: 4\n",
            "new dataset length: 36\n",
            "created union_x attribute of length 916\n",
            "zero fill all the examples up to the length of longest one given, dataset is also now a numpy array w shape: (36, 264, 3), instead of a list of numpy arrays\n",
            "created subsampled_mask & recon_mask instance attributes\n",
            "Iter: 0, train loss: 13.7481, avg nll: 1.4478, avg kl: 1.8606, mse: 0.992280, mae: 0.912265\n",
            "dims of /content/hetvae/data/EDELSON/NGC5548_SX.dat:\t(267, 3)\n",
            "dims of /content/hetvae/data/EDELSON/NGC5548_W1.dat:\t(260, 3)\n",
            "dims of /content/hetvae/data/EDELSON/NGC4593_W2.dat:\t(147, 3)\n",
            "dims of /content/hetvae/data/EDELSON/NGC5548_M2.dat:\t(248, 3)\n",
            "indexes of outliers to be pruned, if any: [ 87  96 102]\n",
            "indexes of outliers to be pruned, if any: []\n",
            "indexes of outliers to be pruned, if any: []\n",
            "indexes of outliers to be pruned, if any: []\n"
          ]
        },
        {
          "output_type": "stream",
          "name": "stderr",
          "text": [
            "\u001b[32m[I 2022-06-09 00:21:37,342]\u001b[0m Trial 37 pruned. \u001b[0m\n",
            "\u001b[32m[I 2022-06-09 00:21:37,450]\u001b[0m Trial 38 pruned. \u001b[0m\n"
          ]
        },
        {
          "output_type": "stream",
          "name": "stdout",
          "text": [
            "generating 6 new sample of each example in the dataset & appending them \n",
            " old dataset length: 4\n",
            "new dataset length: 28\n",
            "created union_x attribute of length 916\n",
            "zero fill all the examples up to the length of longest one given, dataset is also now a numpy array w shape: (28, 264, 3), instead of a list of numpy arrays\n",
            "created subsampled_mask & recon_mask instance attributes\n",
            "Iter: 0, train loss: 13.8891, avg nll: 1.4187, avg kl: 1.0458, mse: 0.982313, mae: 0.879263\n",
            "dims of /content/hetvae/data/EDELSON/NGC5548_SX.dat:\t(267, 3)\n",
            "dims of /content/hetvae/data/EDELSON/NGC5548_W1.dat:\t(260, 3)\n",
            "dims of /content/hetvae/data/EDELSON/NGC4593_W2.dat:\t(147, 3)\n",
            "dims of /content/hetvae/data/EDELSON/NGC5548_M2.dat:\t(248, 3)\n",
            "indexes of outliers to be pruned, if any: [ 87  96 102]\n",
            "indexes of outliers to be pruned, if any: []\n",
            "indexes of outliers to be pruned, if any: []\n",
            "indexes of outliers to be pruned, if any: []\n",
            "generating 7 new sample of each example in the dataset & appending them \n",
            " old dataset length: 4\n",
            "new dataset length: 32\n",
            "created union_x attribute of length 916\n",
            "zero fill all the examples up to the length of longest one given, dataset is also now a numpy array w shape: (32, 264, 3), instead of a list of numpy arrays\n",
            "created subsampled_mask & recon_mask instance attributes\n",
            "Iter: 0, train loss: 14.9879, avg nll: 1.6665, avg kl: 0.6152, mse: 1.028624, mae: 0.916714\n"
          ]
        },
        {
          "output_type": "stream",
          "name": "stderr",
          "text": [
            "\u001b[32m[I 2022-06-09 00:21:37,562]\u001b[0m Trial 39 pruned. \u001b[0m\n"
          ]
        },
        {
          "output_type": "stream",
          "name": "stdout",
          "text": [
            "dims of /content/hetvae/data/EDELSON/NGC5548_SX.dat:\t(267, 3)\n",
            "dims of /content/hetvae/data/EDELSON/NGC5548_W1.dat:\t(260, 3)\n",
            "dims of /content/hetvae/data/EDELSON/NGC4593_W2.dat:\t(147, 3)\n",
            "dims of /content/hetvae/data/EDELSON/NGC5548_M2.dat:\t(248, 3)\n",
            "indexes of outliers to be pruned, if any: [ 87  96 102]\n",
            "indexes of outliers to be pruned, if any: []\n",
            "indexes of outliers to be pruned, if any: []\n",
            "indexes of outliers to be pruned, if any: []\n",
            "generating 10 new sample of each example in the dataset & appending them \n",
            " old dataset length: 4\n",
            "new dataset length: 44\n",
            "created union_x attribute of length 916\n",
            "zero fill all the examples up to the length of longest one given, dataset is also now a numpy array w shape: (44, 264, 3), instead of a list of numpy arrays\n",
            "created subsampled_mask & recon_mask instance attributes\n",
            "Iter: 0, train loss: 11.7295, avg nll: 1.6966, avg kl: 0.3042, mse: 0.888040, mae: 0.862328\n",
            "dims of /content/hetvae/data/EDELSON/NGC5548_SX.dat:\t(267, 3)\n",
            "dims of /content/hetvae/data/EDELSON/NGC5548_W1.dat:\t(260, 3)\n",
            "dims of /content/hetvae/data/EDELSON/NGC4593_W2.dat:\t(147, 3)\n",
            "dims of /content/hetvae/data/EDELSON/NGC5548_M2.dat:\t(248, 3)\n",
            "indexes of outliers to be pruned, if any: [ 87  96 102]\n",
            "indexes of outliers to be pruned, if any: []\n",
            "indexes of outliers to be pruned, if any: []\n",
            "indexes of outliers to be pruned, if any: []\n",
            "generating 8 new sample of each example in the dataset & appending them \n",
            " old dataset length: 4\n",
            "new dataset length: 36\n",
            "created union_x attribute of length 916\n",
            "zero fill all the examples up to the length of longest one given, dataset is also now a numpy array w shape: (36, 264, 3), instead of a list of numpy arrays\n",
            "created subsampled_mask & recon_mask instance attributes\n",
            "Iter: 0, train loss: 14.0529, avg nll: 1.0128, avg kl: 3.4135, mse: 0.399750, mae: 0.490772\n"
          ]
        },
        {
          "output_type": "stream",
          "name": "stderr",
          "text": [
            "\u001b[32m[I 2022-06-09 00:22:01,857]\u001b[0m Trial 40 finished with value: -0.7755855321884155 and parameters: {'batch_size': 8, 'dropout': 0.4054366035536934, 'elbo_weight': 2.507255513253629, 'embed_time': 64, 'latent_dim': 128, 'lr': 0.00313242421682065, 'mixing': 'concat_and_mix', 'mse_weight': 7.392052838060305, 'n': 32, 'num_ref_points': 64, 'rec_hidden': 128, 'sample_tp': 0.7592930699731995, 'width': 128, 'num_samples': 8, 'optimizer': 'Adam'}. Best is trial 27 with value: -1.3348125219345093.\u001b[0m\n"
          ]
        },
        {
          "output_type": "stream",
          "name": "stdout",
          "text": [
            "dims of /content/hetvae/data/EDELSON/NGC5548_SX.dat:\t(267, 3)\n",
            "dims of /content/hetvae/data/EDELSON/NGC5548_W1.dat:\t(260, 3)\n",
            "dims of /content/hetvae/data/EDELSON/NGC4593_W2.dat:\t(147, 3)\n",
            "dims of /content/hetvae/data/EDELSON/NGC5548_M2.dat:\t(248, 3)\n",
            "indexes of outliers to be pruned, if any: [ 87  96 102]\n",
            "indexes of outliers to be pruned, if any: []\n",
            "indexes of outliers to be pruned, if any: []\n",
            "indexes of outliers to be pruned, if any: []\n",
            "generating 8 new sample of each example in the dataset & appending them \n",
            " old dataset length: 4\n",
            "new dataset length: 36\n",
            "created union_x attribute of length 916\n",
            "zero fill all the examples up to the length of longest one given, dataset is also now a numpy array w shape: (36, 264, 3), instead of a list of numpy arrays\n",
            "created subsampled_mask & recon_mask instance attributes\n",
            "Iter: 0, train loss: 14.1685, avg nll: 0.9988, avg kl: 3.4959, mse: 0.383519, mae: 0.486055\n"
          ]
        },
        {
          "output_type": "stream",
          "name": "stderr",
          "text": [
            "\u001b[32m[I 2022-06-09 00:22:26,155]\u001b[0m Trial 41 finished with value: -0.8782585263252258 and parameters: {'batch_size': 8, 'dropout': 0.47183170841952965, 'elbo_weight': 2.5133413168547403, 'embed_time': 64, 'latent_dim': 128, 'lr': 0.0028855977258093793, 'mixing': 'concat_and_mix', 'mse_weight': 7.4884787182582695, 'n': 32, 'num_ref_points': 64, 'rec_hidden': 128, 'sample_tp': 0.7566491850790921, 'width': 128, 'num_samples': 8, 'optimizer': 'Adam'}. Best is trial 27 with value: -1.3348125219345093.\u001b[0m\n"
          ]
        },
        {
          "output_type": "stream",
          "name": "stdout",
          "text": [
            "dims of /content/hetvae/data/EDELSON/NGC5548_SX.dat:\t(267, 3)\n",
            "dims of /content/hetvae/data/EDELSON/NGC5548_W1.dat:\t(260, 3)\n",
            "dims of /content/hetvae/data/EDELSON/NGC4593_W2.dat:\t(147, 3)\n",
            "dims of /content/hetvae/data/EDELSON/NGC5548_M2.dat:\t(248, 3)\n",
            "indexes of outliers to be pruned, if any: [ 87  96 102]\n",
            "indexes of outliers to be pruned, if any: []\n",
            "indexes of outliers to be pruned, if any: []\n",
            "indexes of outliers to be pruned, if any: []\n",
            "generating 7 new sample of each example in the dataset & appending them \n",
            " old dataset length: 4\n",
            "new dataset length: 32\n",
            "created union_x attribute of length 916\n",
            "zero fill all the examples up to the length of longest one given, dataset is also now a numpy array w shape: (32, 264, 3), instead of a list of numpy arrays\n",
            "created subsampled_mask & recon_mask instance attributes\n"
          ]
        },
        {
          "output_type": "stream",
          "name": "stderr",
          "text": [
            "\u001b[32m[I 2022-06-09 00:22:26,426]\u001b[0m Trial 42 pruned. \u001b[0m\n"
          ]
        },
        {
          "output_type": "stream",
          "name": "stdout",
          "text": [
            "Iter: 0, train loss: 36.9138, avg nll: 2.1384, avg kl: 3.8630, mse: 2.908208, mae: 1.533621\n",
            "dims of /content/hetvae/data/EDELSON/NGC5548_SX.dat:\t(267, 3)\n",
            "dims of /content/hetvae/data/EDELSON/NGC5548_W1.dat:\t(260, 3)\n",
            "dims of /content/hetvae/data/EDELSON/NGC4593_W2.dat:\t(147, 3)\n",
            "dims of /content/hetvae/data/EDELSON/NGC5548_M2.dat:\t(248, 3)\n",
            "indexes of outliers to be pruned, if any: [ 87  96 102]\n",
            "indexes of outliers to be pruned, if any: []\n",
            "indexes of outliers to be pruned, if any: []\n",
            "indexes of outliers to be pruned, if any: []\n",
            "generating 8 new sample of each example in the dataset & appending them \n",
            " old dataset length: 4\n",
            "new dataset length: 36\n",
            "created union_x attribute of length 916\n",
            "zero fill all the examples up to the length of longest one given, dataset is also now a numpy array w shape: (36, 264, 3), instead of a list of numpy arrays\n",
            "created subsampled_mask & recon_mask instance attributes\n",
            "Iter: 0, train loss: 17.6242, avg nll: 0.9980, avg kl: 7.5768, mse: 0.395383, mae: 0.492445\n"
          ]
        },
        {
          "output_type": "stream",
          "name": "stderr",
          "text": [
            "\u001b[32m[I 2022-06-09 00:22:50,722]\u001b[0m Trial 43 finished with value: -0.6959786415100098 and parameters: {'batch_size': 8, 'dropout': 0.4148246860905467, 'elbo_weight': 1.8007186213269828, 'embed_time': 64, 'latent_dim': 128, 'lr': 0.0012628905886337613, 'mixing': 'concat_and_mix', 'mse_weight': 5.522034096716964, 'n': 32, 'num_ref_points': 64, 'rec_hidden': 128, 'sample_tp': 0.8475874005891189, 'width': 128, 'num_samples': 8, 'optimizer': 'Adam'}. Best is trial 27 with value: -1.3348125219345093.\u001b[0m\n"
          ]
        },
        {
          "output_type": "stream",
          "name": "stdout",
          "text": [
            "dims of /content/hetvae/data/EDELSON/NGC5548_SX.dat:\t(267, 3)\n",
            "dims of /content/hetvae/data/EDELSON/NGC5548_W1.dat:\t(260, 3)\n",
            "dims of /content/hetvae/data/EDELSON/NGC4593_W2.dat:\t(147, 3)\n",
            "dims of /content/hetvae/data/EDELSON/NGC5548_M2.dat:\t(248, 3)\n",
            "indexes of outliers to be pruned, if any: [ 87  96 102]\n",
            "indexes of outliers to be pruned, if any: []\n",
            "indexes of outliers to be pruned, if any: []\n",
            "indexes of outliers to be pruned, if any: []\n",
            "generating 9 new sample of each example in the dataset & appending them \n",
            " old dataset length: 4\n",
            "new dataset length: 40\n",
            "created union_x attribute of length 916\n",
            "zero fill all the examples up to the length of longest one given, dataset is also now a numpy array w shape: (40, 264, 3), instead of a list of numpy arrays\n",
            "created subsampled_mask & recon_mask instance attributes\n",
            "Iter: 0, train loss: 20.7652, avg nll: 0.9719, avg kl: 6.9289, mse: 0.362781, mae: 0.467541\n"
          ]
        },
        {
          "output_type": "stream",
          "name": "stderr",
          "text": [
            "\u001b[32m[I 2022-06-09 00:23:17,644]\u001b[0m Trial 44 finished with value: -0.5313577651977539 and parameters: {'batch_size': 8, 'dropout': 0.4251757571442667, 'elbo_weight': 2.3729230090489297, 'embed_time': 64, 'latent_dim': 128, 'lr': 0.001145621166958565, 'mixing': 'concat_and_mix', 'mse_weight': 5.560444818538853, 'n': 32, 'num_ref_points': 64, 'rec_hidden': 128, 'sample_tp': 0.8391023445958533, 'width': 128, 'num_samples': 9, 'optimizer': 'Adam'}. Best is trial 27 with value: -1.3348125219345093.\u001b[0m\n"
          ]
        },
        {
          "output_type": "stream",
          "name": "stdout",
          "text": [
            "dims of /content/hetvae/data/EDELSON/NGC5548_SX.dat:\t(267, 3)\n",
            "dims of /content/hetvae/data/EDELSON/NGC5548_W1.dat:\t(260, 3)\n",
            "dims of /content/hetvae/data/EDELSON/NGC4593_W2.dat:\t(147, 3)\n",
            "dims of /content/hetvae/data/EDELSON/NGC5548_M2.dat:\t(248, 3)\n",
            "indexes of outliers to be pruned, if any: [ 87  96 102]\n",
            "indexes of outliers to be pruned, if any: []\n",
            "indexes of outliers to be pruned, if any: []\n",
            "indexes of outliers to be pruned, if any: []\n",
            "generating 10 new sample of each example in the dataset & appending them \n",
            " old dataset length: 4\n",
            "new dataset length: 44\n",
            "created union_x attribute of length 916\n",
            "zero fill all the examples up to the length of longest one given, dataset is also now a numpy array w shape: (44, 264, 3), instead of a list of numpy arrays\n",
            "created subsampled_mask & recon_mask instance attributes\n",
            "Iter: 0, train loss: 11.4944, avg nll: 0.9438, avg kl: 4.2800, mse: 0.403766, mae: 0.504960\n"
          ]
        },
        {
          "output_type": "stream",
          "name": "stderr",
          "text": [
            "\u001b[32m[I 2022-06-09 00:23:23,449]\u001b[0m Trial 45 pruned. \u001b[0m\n"
          ]
        },
        {
          "output_type": "stream",
          "name": "stdout",
          "text": [
            "dims of /content/hetvae/data/EDELSON/NGC5548_SX.dat:\t(267, 3)\n",
            "dims of /content/hetvae/data/EDELSON/NGC5548_W1.dat:\t(260, 3)\n",
            "dims of /content/hetvae/data/EDELSON/NGC4593_W2.dat:\t(147, 3)\n",
            "dims of /content/hetvae/data/EDELSON/NGC5548_M2.dat:\t(248, 3)\n",
            "indexes of outliers to be pruned, if any: [ 87  96 102]\n",
            "indexes of outliers to be pruned, if any: []\n",
            "indexes of outliers to be pruned, if any: []\n",
            "indexes of outliers to be pruned, if any: []\n",
            "generating 9 new sample of each example in the dataset & appending them \n",
            " old dataset length: 4\n",
            "new dataset length: 40\n",
            "created union_x attribute of length 916\n",
            "zero fill all the examples up to the length of longest one given, dataset is also now a numpy array w shape: (40, 264, 3), instead of a list of numpy arrays\n",
            "created subsampled_mask & recon_mask instance attributes\n",
            "Iter: 0, train loss: 8.2757, avg nll: 0.9843, avg kl: 3.5618, mse: 0.369416, mae: 0.470111\n"
          ]
        },
        {
          "output_type": "stream",
          "name": "stderr",
          "text": [
            "\u001b[32m[I 2022-06-09 00:23:50,384]\u001b[0m Trial 46 finished with value: -0.7177515625953674 and parameters: {'batch_size': 8, 'dropout': 0.4250289661915361, 'elbo_weight': 1.371870387283783, 'embed_time': 64, 'latent_dim': 128, 'lr': 0.002470808266358915, 'mixing': 'concat_and_mix', 'mse_weight': 5.519665781518734, 'n': 32, 'num_ref_points': 64, 'rec_hidden': 128, 'sample_tp': 0.7681901354243718, 'width': 128, 'num_samples': 9, 'optimizer': 'Adam'}. Best is trial 27 with value: -1.3348125219345093.\u001b[0m\n"
          ]
        },
        {
          "output_type": "stream",
          "name": "stdout",
          "text": [
            "dims of /content/hetvae/data/EDELSON/NGC5548_SX.dat:\t(267, 3)\n",
            "dims of /content/hetvae/data/EDELSON/NGC5548_W1.dat:\t(260, 3)\n",
            "dims of /content/hetvae/data/EDELSON/NGC4593_W2.dat:\t(147, 3)\n",
            "dims of /content/hetvae/data/EDELSON/NGC5548_M2.dat:\t(248, 3)\n",
            "indexes of outliers to be pruned, if any: [ 87  96 102]\n",
            "indexes of outliers to be pruned, if any: []\n",
            "indexes of outliers to be pruned, if any: []\n",
            "indexes of outliers to be pruned, if any: []\n",
            "generating 9 new sample of each example in the dataset & appending them \n",
            " old dataset length: 4\n",
            "new dataset length: 40\n",
            "created union_x attribute of length 916\n",
            "zero fill all the examples up to the length of longest one given, dataset is also now a numpy array w shape: (40, 264, 3), instead of a list of numpy arrays\n",
            "created subsampled_mask & recon_mask instance attributes\n"
          ]
        },
        {
          "output_type": "stream",
          "name": "stderr",
          "text": [
            "\u001b[32m[I 2022-06-09 00:23:50,709]\u001b[0m Trial 47 pruned. \u001b[0m\n"
          ]
        },
        {
          "output_type": "stream",
          "name": "stdout",
          "text": [
            "Iter: 0, train loss: 72.3550, avg nll: 7.2557, avg kl: 6.6500, mse: 11.028199, mae: 2.151699\n",
            "dims of /content/hetvae/data/EDELSON/NGC5548_SX.dat:\t(267, 3)\n",
            "dims of /content/hetvae/data/EDELSON/NGC5548_W1.dat:\t(260, 3)\n",
            "dims of /content/hetvae/data/EDELSON/NGC4593_W2.dat:\t(147, 3)\n",
            "dims of /content/hetvae/data/EDELSON/NGC5548_M2.dat:\t(248, 3)\n",
            "indexes of outliers to be pruned, if any: [ 87  96 102]\n",
            "indexes of outliers to be pruned, if any: []\n",
            "indexes of outliers to be pruned, if any: []\n",
            "indexes of outliers to be pruned, if any: []\n",
            "generating 8 new sample of each example in the dataset & appending them \n",
            " old dataset length: 4\n",
            "new dataset length: 36\n",
            "created union_x attribute of length 916\n",
            "zero fill all the examples up to the length of longest one given, dataset is also now a numpy array w shape: (36, 264, 3), instead of a list of numpy arrays\n",
            "created subsampled_mask & recon_mask instance attributes\n",
            "Iter: 0, train loss: 8.0194, avg nll: 1.0293, avg kl: 3.4781, mse: 0.412421, mae: 0.502859\n"
          ]
        },
        {
          "output_type": "stream",
          "name": "stderr",
          "text": [
            "\u001b[32m[I 2022-06-09 00:24:15,036]\u001b[0m Trial 48 finished with value: -0.38215866684913635 and parameters: {'batch_size': 8, 'dropout': 0.4528227066330205, 'elbo_weight': 1.210367314231421, 'embed_time': 64, 'latent_dim': 128, 'lr': 0.0031372951681042705, 'mixing': 'concat_and_mix', 'mse_weight': 6.216738478958387, 'n': 32, 'num_ref_points': 64, 'rec_hidden': 128, 'sample_tp': 0.7623987767457493, 'width': 128, 'num_samples': 8, 'optimizer': 'Adam'}. Best is trial 27 with value: -1.3348125219345093.\u001b[0m\n"
          ]
        },
        {
          "output_type": "stream",
          "name": "stdout",
          "text": [
            "dims of /content/hetvae/data/EDELSON/NGC5548_SX.dat:\t(267, 3)\n",
            "dims of /content/hetvae/data/EDELSON/NGC5548_W1.dat:\t(260, 3)\n",
            "dims of /content/hetvae/data/EDELSON/NGC4593_W2.dat:\t(147, 3)\n",
            "dims of /content/hetvae/data/EDELSON/NGC5548_M2.dat:\t(248, 3)\n",
            "indexes of outliers to be pruned, if any: [ 87  96 102]\n",
            "indexes of outliers to be pruned, if any: []\n",
            "indexes of outliers to be pruned, if any: []\n",
            "indexes of outliers to be pruned, if any: []\n",
            "generating 10 new sample of each example in the dataset & appending them \n",
            " old dataset length: 4\n",
            "new dataset length: 44\n",
            "created union_x attribute of length 916\n",
            "zero fill all the examples up to the length of longest one given, dataset is also now a numpy array w shape: (44, 264, 3), instead of a list of numpy arrays\n",
            "created subsampled_mask & recon_mask instance attributes\n"
          ]
        },
        {
          "output_type": "stream",
          "name": "stderr",
          "text": [
            "/usr/local/lib/python3.7/dist-packages/optuna/pruners/_percentile.py:21: RuntimeWarning:\n",
            "\n",
            "All-NaN slice encountered\n",
            "\n",
            "\u001b[32m[I 2022-06-09 00:24:15,397]\u001b[0m Trial 49 pruned. \u001b[0m\n"
          ]
        },
        {
          "output_type": "stream",
          "name": "stdout",
          "text": [
            "Iter: 0, train loss: nan, avg nll: nan, avg kl: nan, mse: nan, mae: nan\n",
            "dims of /content/hetvae/data/EDELSON/NGC5548_SX.dat:\t(267, 3)\n",
            "dims of /content/hetvae/data/EDELSON/NGC5548_W1.dat:\t(260, 3)\n",
            "dims of /content/hetvae/data/EDELSON/NGC4593_W2.dat:\t(147, 3)\n",
            "dims of /content/hetvae/data/EDELSON/NGC5548_M2.dat:\t(248, 3)\n",
            "indexes of outliers to be pruned, if any: [ 87  96 102]\n",
            "indexes of outliers to be pruned, if any: []\n",
            "indexes of outliers to be pruned, if any: []\n",
            "indexes of outliers to be pruned, if any: []\n",
            "generating 6 new sample of each example in the dataset & appending them \n",
            " old dataset length: 4\n",
            "new dataset length: 28\n",
            "created union_x attribute of length 916\n",
            "zero fill all the examples up to the length of longest one given, dataset is also now a numpy array w shape: (28, 264, 3), instead of a list of numpy arrays\n",
            "created subsampled_mask & recon_mask instance attributes\n"
          ]
        },
        {
          "output_type": "stream",
          "name": "stderr",
          "text": [
            "\u001b[32m[I 2022-06-09 00:24:15,638]\u001b[0m Trial 50 pruned. \u001b[0m\n"
          ]
        },
        {
          "output_type": "stream",
          "name": "stdout",
          "text": [
            "Iter: 0, train loss: 30.5679, avg nll: 1.4787, avg kl: 9.4095, mse: 0.894329, mae: 0.842119\n",
            "dims of /content/hetvae/data/EDELSON/NGC5548_SX.dat:\t(267, 3)\n",
            "dims of /content/hetvae/data/EDELSON/NGC5548_W1.dat:\t(260, 3)\n",
            "dims of /content/hetvae/data/EDELSON/NGC4593_W2.dat:\t(147, 3)\n",
            "dims of /content/hetvae/data/EDELSON/NGC5548_M2.dat:\t(248, 3)\n",
            "indexes of outliers to be pruned, if any: [ 87  96 102]\n",
            "indexes of outliers to be pruned, if any: []\n",
            "indexes of outliers to be pruned, if any: []\n",
            "indexes of outliers to be pruned, if any: []\n",
            "generating 9 new sample of each example in the dataset & appending them \n",
            " old dataset length: 4\n",
            "new dataset length: 40\n",
            "created union_x attribute of length 916\n",
            "zero fill all the examples up to the length of longest one given, dataset is also now a numpy array w shape: (40, 264, 3), instead of a list of numpy arrays\n",
            "created subsampled_mask & recon_mask instance attributes\n",
            "Iter: 0, train loss: 17.4960, avg nll: 0.9578, avg kl: 5.7089, mse: 0.349939, mae: 0.457678\n"
          ]
        },
        {
          "output_type": "stream",
          "name": "stderr",
          "text": [
            "\u001b[32m[I 2022-06-09 00:24:42,557]\u001b[0m Trial 51 finished with value: -0.6741089224815369 and parameters: {'batch_size': 8, 'dropout': 0.42218850724991785, 'elbo_weight': 2.327156732324386, 'embed_time': 64, 'latent_dim': 128, 'lr': 0.0020541986055275293, 'mixing': 'concat_and_mix', 'mse_weight': 5.662393617858744, 'n': 32, 'num_ref_points': 64, 'rec_hidden': 128, 'sample_tp': 0.8456007743854639, 'width': 128, 'num_samples': 9, 'optimizer': 'Adam'}. Best is trial 27 with value: -1.3348125219345093.\u001b[0m\n"
          ]
        },
        {
          "output_type": "stream",
          "name": "stdout",
          "text": [
            "dims of /content/hetvae/data/EDELSON/NGC5548_SX.dat:\t(267, 3)\n",
            "dims of /content/hetvae/data/EDELSON/NGC5548_W1.dat:\t(260, 3)\n",
            "dims of /content/hetvae/data/EDELSON/NGC4593_W2.dat:\t(147, 3)\n",
            "dims of /content/hetvae/data/EDELSON/NGC5548_M2.dat:\t(248, 3)\n",
            "indexes of outliers to be pruned, if any: [ 87  96 102]\n",
            "indexes of outliers to be pruned, if any: []\n",
            "indexes of outliers to be pruned, if any: []\n",
            "indexes of outliers to be pruned, if any: []\n",
            "generating 9 new sample of each example in the dataset & appending them \n",
            " old dataset length: 4\n",
            "new dataset length: 40\n",
            "created union_x attribute of length 916\n",
            "zero fill all the examples up to the length of longest one given, dataset is also now a numpy array w shape: (40, 264, 3), instead of a list of numpy arrays\n",
            "created subsampled_mask & recon_mask instance attributes\n"
          ]
        },
        {
          "output_type": "stream",
          "name": "stderr",
          "text": [
            "\u001b[32m[I 2022-06-09 00:24:42,886]\u001b[0m Trial 52 pruned. \u001b[0m\n"
          ]
        },
        {
          "output_type": "stream",
          "name": "stdout",
          "text": [
            "Iter: 0, train loss: 44.2381, avg nll: 2.2244, avg kl: 5.9680, mse: 4.209464, mae: 1.620304\n",
            "dims of /content/hetvae/data/EDELSON/NGC5548_SX.dat:\t(267, 3)\n",
            "dims of /content/hetvae/data/EDELSON/NGC5548_W1.dat:\t(260, 3)\n",
            "dims of /content/hetvae/data/EDELSON/NGC4593_W2.dat:\t(147, 3)\n",
            "dims of /content/hetvae/data/EDELSON/NGC5548_M2.dat:\t(248, 3)\n",
            "indexes of outliers to be pruned, if any: [ 87  96 102]\n",
            "indexes of outliers to be pruned, if any: []\n",
            "indexes of outliers to be pruned, if any: []\n",
            "indexes of outliers to be pruned, if any: []\n",
            "generating 8 new sample of each example in the dataset & appending them \n",
            " old dataset length: 4\n",
            "new dataset length: 36\n",
            "created union_x attribute of length 916\n",
            "zero fill all the examples up to the length of longest one given, dataset is also now a numpy array w shape: (36, 264, 3), instead of a list of numpy arrays\n",
            "created subsampled_mask & recon_mask instance attributes\n",
            "Iter: 0, train loss: 10.0625, avg nll: 1.0193, avg kl: 5.1685, mse: 0.404518, mae: 0.499993\n"
          ]
        },
        {
          "output_type": "stream",
          "name": "stderr",
          "text": [
            "\u001b[32m[I 2022-06-09 00:25:07,211]\u001b[0m Trial 53 finished with value: -0.09317673742771149 and parameters: {'batch_size': 8, 'dropout': 0.41880248893531125, 'elbo_weight': 1.2491900354301773, 'embed_time': 64, 'latent_dim': 128, 'lr': 0.002283207523068211, 'mixing': 'concat_and_mix', 'mse_weight': 5.766578465419184, 'n': 32, 'num_ref_points': 64, 'rec_hidden': 128, 'sample_tp': 0.8198841391472826, 'width': 128, 'num_samples': 8, 'optimizer': 'Adam'}. Best is trial 27 with value: -1.3348125219345093.\u001b[0m\n"
          ]
        },
        {
          "output_type": "stream",
          "name": "stdout",
          "text": [
            "dims of /content/hetvae/data/EDELSON/NGC5548_SX.dat:\t(267, 3)\n",
            "dims of /content/hetvae/data/EDELSON/NGC5548_W1.dat:\t(260, 3)\n",
            "dims of /content/hetvae/data/EDELSON/NGC4593_W2.dat:\t(147, 3)\n",
            "dims of /content/hetvae/data/EDELSON/NGC5548_M2.dat:\t(248, 3)\n",
            "indexes of outliers to be pruned, if any: [ 87  96 102]\n",
            "indexes of outliers to be pruned, if any: []\n",
            "indexes of outliers to be pruned, if any: []\n",
            "indexes of outliers to be pruned, if any: []\n",
            "generating 10 new sample of each example in the dataset & appending them \n",
            " old dataset length: 4\n",
            "new dataset length: 44\n",
            "created union_x attribute of length 916\n",
            "zero fill all the examples up to the length of longest one given, dataset is also now a numpy array w shape: (44, 264, 3), instead of a list of numpy arrays\n",
            "created subsampled_mask & recon_mask instance attributes\n"
          ]
        },
        {
          "output_type": "stream",
          "name": "stderr",
          "text": [
            "\u001b[32m[I 2022-06-09 00:25:07,569]\u001b[0m Trial 54 pruned. \u001b[0m\n"
          ]
        },
        {
          "output_type": "stream",
          "name": "stdout",
          "text": [
            "Iter: 0, train loss: 11.0283, avg nll: 1.4673, avg kl: 2.4283, mse: 0.703717, mae: 0.674099\n",
            "dims of /content/hetvae/data/EDELSON/NGC5548_SX.dat:\t(267, 3)\n",
            "dims of /content/hetvae/data/EDELSON/NGC5548_W1.dat:\t(260, 3)\n",
            "dims of /content/hetvae/data/EDELSON/NGC4593_W2.dat:\t(147, 3)\n",
            "dims of /content/hetvae/data/EDELSON/NGC5548_M2.dat:\t(248, 3)\n",
            "indexes of outliers to be pruned, if any: [ 87  96 102]\n",
            "indexes of outliers to be pruned, if any: []\n",
            "indexes of outliers to be pruned, if any: []\n",
            "indexes of outliers to be pruned, if any: []\n",
            "generating 9 new sample of each example in the dataset & appending them \n",
            " old dataset length: 4\n",
            "new dataset length: 40\n",
            "created union_x attribute of length 916\n",
            "zero fill all the examples up to the length of longest one given, dataset is also now a numpy array w shape: (40, 264, 3), instead of a list of numpy arrays\n",
            "created subsampled_mask & recon_mask instance attributes\n",
            "Iter: 0, train loss: 6.5167, avg nll: 1.0338, avg kl: 0.1905, mse: 0.470950, mae: 0.558049\n"
          ]
        },
        {
          "output_type": "stream",
          "name": "stderr",
          "text": [
            "\u001b[32m[I 2022-06-09 00:25:13,573]\u001b[0m Trial 55 finished with value: -1.0225275754928589 and parameters: {'batch_size': 8, 'dropout': 0.3628041115152569, 'elbo_weight': 2.689544797292487, 'embed_time': 64, 'latent_dim': 8, 'lr': 0.0040981930895590485, 'mixing': 'concat_and_mix', 'mse_weight': 6.845656443359978, 'n': 64, 'num_ref_points': 64, 'rec_hidden': 128, 'sample_tp': 0.7544617821694009, 'width': 128, 'num_samples': 9, 'optimizer': 'Adam'}. Best is trial 27 with value: -1.3348125219345093.\u001b[0m\n",
            "\u001b[32m[I 2022-06-09 00:25:13,663]\u001b[0m Trial 56 pruned. \u001b[0m\n"
          ]
        },
        {
          "output_type": "stream",
          "name": "stdout",
          "text": [
            "dims of /content/hetvae/data/EDELSON/NGC5548_SX.dat:\t(267, 3)\n",
            "dims of /content/hetvae/data/EDELSON/NGC5548_W1.dat:\t(260, 3)\n",
            "dims of /content/hetvae/data/EDELSON/NGC4593_W2.dat:\t(147, 3)\n",
            "dims of /content/hetvae/data/EDELSON/NGC5548_M2.dat:\t(248, 3)\n",
            "indexes of outliers to be pruned, if any: [ 87  96 102]\n",
            "indexes of outliers to be pruned, if any: []\n",
            "indexes of outliers to be pruned, if any: []\n",
            "indexes of outliers to be pruned, if any: []\n",
            "generating 8 new sample of each example in the dataset & appending them \n",
            " old dataset length: 4\n",
            "new dataset length: 36\n",
            "created union_x attribute of length 916\n",
            "zero fill all the examples up to the length of longest one given, dataset is also now a numpy array w shape: (36, 264, 3), instead of a list of numpy arrays\n",
            "created subsampled_mask & recon_mask instance attributes\n",
            "Iter: 0, train loss: 11.9533, avg nll: 1.4129, avg kl: 0.6983, mse: 0.953896, mae: 0.854193\n",
            "dims of /content/hetvae/data/EDELSON/NGC5548_SX.dat:\t(267, 3)\n",
            "dims of /content/hetvae/data/EDELSON/NGC5548_W1.dat:\t(260, 3)\n",
            "dims of /content/hetvae/data/EDELSON/NGC4593_W2.dat:\t(147, 3)\n",
            "dims of /content/hetvae/data/EDELSON/NGC5548_M2.dat:\t(248, 3)\n",
            "indexes of outliers to be pruned, if any: [ 87  96 102]\n",
            "indexes of outliers to be pruned, if any: []\n",
            "indexes of outliers to be pruned, if any: []\n",
            "indexes of outliers to be pruned, if any: []\n",
            "generating 9 new sample of each example in the dataset & appending them \n",
            " old dataset length: 4\n",
            "new dataset length: 40\n",
            "created union_x attribute of length 916\n",
            "zero fill all the examples up to the length of longest one given, dataset is also now a numpy array w shape: (40, 264, 3), instead of a list of numpy arrays\n",
            "created subsampled_mask & recon_mask instance attributes\n",
            "Iter: 0, train loss: 4.6604, avg nll: 1.0381, avg kl: 0.2328, mse: 0.484424, mae: 0.571099\n"
          ]
        },
        {
          "output_type": "stream",
          "name": "stderr",
          "text": [
            "\u001b[32m[I 2022-06-09 00:25:19,708]\u001b[0m Trial 57 finished with value: -1.3141472339630127 and parameters: {'batch_size': 8, 'dropout': 0.34153324454766504, 'elbo_weight': 1.0213955154796894, 'embed_time': 64, 'latent_dim': 8, 'lr': 0.0037581076281177875, 'mixing': 'concat_and_mix', 'mse_weight': 6.94093447554597, 'n': 64, 'num_ref_points': 64, 'rec_hidden': 128, 'sample_tp': 0.7452956304501247, 'width': 128, 'num_samples': 9, 'optimizer': 'Adam'}. Best is trial 27 with value: -1.3348125219345093.\u001b[0m\n"
          ]
        },
        {
          "output_type": "stream",
          "name": "stdout",
          "text": [
            "dims of /content/hetvae/data/EDELSON/NGC5548_SX.dat:\t(267, 3)\n",
            "dims of /content/hetvae/data/EDELSON/NGC5548_W1.dat:\t(260, 3)\n",
            "dims of /content/hetvae/data/EDELSON/NGC4593_W2.dat:\t(147, 3)\n",
            "dims of /content/hetvae/data/EDELSON/NGC5548_M2.dat:\t(248, 3)\n",
            "indexes of outliers to be pruned, if any: [ 87  96 102]\n",
            "indexes of outliers to be pruned, if any: []\n",
            "indexes of outliers to be pruned, if any: []\n",
            "indexes of outliers to be pruned, if any: []\n",
            "generating 10 new sample of each example in the dataset & appending them \n",
            " old dataset length: 4\n",
            "new dataset length: 44\n",
            "created union_x attribute of length 916\n",
            "zero fill all the examples up to the length of longest one given, dataset is also now a numpy array w shape: (44, 264, 3), instead of a list of numpy arrays\n",
            "created subsampled_mask & recon_mask instance attributes\n",
            "Iter: 0, train loss: 3.7952, avg nll: 1.0202, avg kl: 0.2584, mse: 0.469765, mae: 0.561472\n"
          ]
        },
        {
          "output_type": "stream",
          "name": "stderr",
          "text": [
            "\u001b[32m[I 2022-06-09 00:25:27,244]\u001b[0m Trial 58 finished with value: -0.9930165410041809 and parameters: {'batch_size': 8, 'dropout': 0.29101522853721185, 'elbo_weight': 0.4420480441006349, 'embed_time': 64, 'latent_dim': 8, 'lr': 0.003225184504003554, 'mixing': 'concat_and_mix', 'mse_weight': 6.875830791230692, 'n': 64, 'num_ref_points': 64, 'rec_hidden': 128, 'sample_tp': 0.6109699127129304, 'width': 128, 'num_samples': 10, 'optimizer': 'Adam'}. Best is trial 27 with value: -1.3348125219345093.\u001b[0m\n",
            "\u001b[32m[I 2022-06-09 00:25:27,331]\u001b[0m Trial 59 pruned. \u001b[0m\n"
          ]
        },
        {
          "output_type": "stream",
          "name": "stdout",
          "text": [
            "dims of /content/hetvae/data/EDELSON/NGC5548_SX.dat:\t(267, 3)\n",
            "dims of /content/hetvae/data/EDELSON/NGC5548_W1.dat:\t(260, 3)\n",
            "dims of /content/hetvae/data/EDELSON/NGC4593_W2.dat:\t(147, 3)\n",
            "dims of /content/hetvae/data/EDELSON/NGC5548_M2.dat:\t(248, 3)\n",
            "indexes of outliers to be pruned, if any: [ 87  96 102]\n",
            "indexes of outliers to be pruned, if any: []\n",
            "indexes of outliers to be pruned, if any: []\n",
            "indexes of outliers to be pruned, if any: []\n",
            "generating 10 new sample of each example in the dataset & appending them \n",
            " old dataset length: 4\n",
            "new dataset length: 44\n",
            "created union_x attribute of length 916\n",
            "zero fill all the examples up to the length of longest one given, dataset is also now a numpy array w shape: (44, 264, 3), instead of a list of numpy arrays\n",
            "created subsampled_mask & recon_mask instance attributes\n",
            "Iter: 0, train loss: 7.6879, avg nll: 1.4591, avg kl: 0.0754, mse: 0.991438, mae: 0.913021\n",
            "dims of /content/hetvae/data/EDELSON/NGC5548_SX.dat:\t(267, 3)\n",
            "dims of /content/hetvae/data/EDELSON/NGC5548_W1.dat:\t(260, 3)\n",
            "dims of /content/hetvae/data/EDELSON/NGC4593_W2.dat:\t(147, 3)\n",
            "dims of /content/hetvae/data/EDELSON/NGC5548_M2.dat:\t(248, 3)\n",
            "indexes of outliers to be pruned, if any: [ 87  96 102]\n",
            "indexes of outliers to be pruned, if any: []\n",
            "indexes of outliers to be pruned, if any: []\n",
            "indexes of outliers to be pruned, if any: []\n",
            "generating 10 new sample of each example in the dataset & appending them \n",
            " old dataset length: 4\n",
            "new dataset length: 44\n",
            "created union_x attribute of length 916\n",
            "zero fill all the examples up to the length of longest one given, dataset is also now a numpy array w shape: (44, 264, 3), instead of a list of numpy arrays\n",
            "created subsampled_mask & recon_mask instance attributes\n",
            "Iter: 0, train loss: 4.0905, avg nll: 1.0145, avg kl: 0.2637, mse: 0.468990, mae: 0.552082\n"
          ]
        },
        {
          "output_type": "stream",
          "name": "stderr",
          "text": [
            "\u001b[32m[I 2022-06-09 00:25:27,670]\u001b[0m Trial 60 pruned. \u001b[0m\n"
          ]
        },
        {
          "output_type": "stream",
          "name": "stdout",
          "text": [
            "dims of /content/hetvae/data/EDELSON/NGC5548_SX.dat:\t(267, 3)\n",
            "dims of /content/hetvae/data/EDELSON/NGC5548_W1.dat:\t(260, 3)\n",
            "dims of /content/hetvae/data/EDELSON/NGC4593_W2.dat:\t(147, 3)\n",
            "dims of /content/hetvae/data/EDELSON/NGC5548_M2.dat:\t(248, 3)\n",
            "indexes of outliers to be pruned, if any: [ 87  96 102]\n",
            "indexes of outliers to be pruned, if any: []\n",
            "indexes of outliers to be pruned, if any: []\n",
            "indexes of outliers to be pruned, if any: []\n",
            "generating 9 new sample of each example in the dataset & appending them \n",
            " old dataset length: 4\n",
            "new dataset length: 40\n",
            "created union_x attribute of length 916\n",
            "zero fill all the examples up to the length of longest one given, dataset is also now a numpy array w shape: (40, 264, 3), instead of a list of numpy arrays\n",
            "created subsampled_mask & recon_mask instance attributes\n",
            "Iter: 0, train loss: 3.4085, avg nll: 1.0426, avg kl: 0.4874, mse: 0.502605, mae: 0.581495\n"
          ]
        },
        {
          "output_type": "stream",
          "name": "stderr",
          "text": [
            "\u001b[32m[I 2022-06-09 00:25:33,669]\u001b[0m Trial 61 finished with value: -1.2887210845947266 and parameters: {'batch_size': 8, 'dropout': 0.3559252851202308, 'elbo_weight': 0.03816311883675172, 'embed_time': 64, 'latent_dim': 8, 'lr': 0.003139145380339434, 'mixing': 'concat_and_mix', 'mse_weight': 6.665459940569918, 'n': 64, 'num_ref_points': 64, 'rec_hidden': 128, 'sample_tp': 0.7404504050482054, 'width': 128, 'num_samples': 9, 'optimizer': 'Adam'}. Best is trial 27 with value: -1.3348125219345093.\u001b[0m\n",
            "\u001b[32m[I 2022-06-09 00:25:33,780]\u001b[0m Trial 62 pruned. \u001b[0m\n"
          ]
        },
        {
          "output_type": "stream",
          "name": "stdout",
          "text": [
            "dims of /content/hetvae/data/EDELSON/NGC5548_SX.dat:\t(267, 3)\n",
            "dims of /content/hetvae/data/EDELSON/NGC5548_W1.dat:\t(260, 3)\n",
            "dims of /content/hetvae/data/EDELSON/NGC4593_W2.dat:\t(147, 3)\n",
            "dims of /content/hetvae/data/EDELSON/NGC5548_M2.dat:\t(248, 3)\n",
            "indexes of outliers to be pruned, if any: [ 87  96 102]\n",
            "indexes of outliers to be pruned, if any: []\n",
            "indexes of outliers to be pruned, if any: []\n",
            "indexes of outliers to be pruned, if any: []\n",
            "generating 9 new sample of each example in the dataset & appending them \n",
            " old dataset length: 4\n",
            "new dataset length: 40\n",
            "created union_x attribute of length 916\n",
            "zero fill all the examples up to the length of longest one given, dataset is also now a numpy array w shape: (40, 264, 3), instead of a list of numpy arrays\n",
            "created subsampled_mask & recon_mask instance attributes\n",
            "Iter: 0, train loss: 3.3193, avg nll: 1.0224, avg kl: 0.4890, mse: 0.468718, mae: 0.559207\n",
            "dims of /content/hetvae/data/EDELSON/NGC5548_SX.dat:\t(267, 3)\n",
            "dims of /content/hetvae/data/EDELSON/NGC5548_W1.dat:\t(260, 3)\n",
            "dims of /content/hetvae/data/EDELSON/NGC4593_W2.dat:\t(147, 3)\n",
            "dims of /content/hetvae/data/EDELSON/NGC5548_M2.dat:\t(248, 3)\n",
            "indexes of outliers to be pruned, if any: [ 87  96 102]\n",
            "indexes of outliers to be pruned, if any: []\n",
            "indexes of outliers to be pruned, if any: []\n",
            "indexes of outliers to be pruned, if any: []\n",
            "generating 10 new sample of each example in the dataset & appending them \n",
            " old dataset length: 4\n",
            "new dataset length: 44\n",
            "created union_x attribute of length 916\n",
            "zero fill all the examples up to the length of longest one given, dataset is also now a numpy array w shape: (44, 264, 3), instead of a list of numpy arrays\n",
            "created subsampled_mask & recon_mask instance attributes\n",
            "Iter: 0, train loss: 193.5470, avg nll: 3.1555, avg kl: 12.4864, mse: 25.508839, mae: 3.176526\n"
          ]
        },
        {
          "output_type": "stream",
          "name": "stderr",
          "text": [
            "\u001b[32m[I 2022-06-09 00:25:33,907]\u001b[0m Trial 63 pruned. \u001b[0m\n",
            "\u001b[32m[I 2022-06-09 00:25:34,037]\u001b[0m Trial 64 pruned. \u001b[0m\n",
            "\u001b[32m[I 2022-06-09 00:25:34,136]\u001b[0m Trial 65 pruned. \u001b[0m\n"
          ]
        },
        {
          "output_type": "stream",
          "name": "stdout",
          "text": [
            "dims of /content/hetvae/data/EDELSON/NGC5548_SX.dat:\t(267, 3)\n",
            "dims of /content/hetvae/data/EDELSON/NGC5548_W1.dat:\t(260, 3)\n",
            "dims of /content/hetvae/data/EDELSON/NGC4593_W2.dat:\t(147, 3)\n",
            "dims of /content/hetvae/data/EDELSON/NGC5548_M2.dat:\t(248, 3)\n",
            "indexes of outliers to be pruned, if any: [ 87  96 102]\n",
            "indexes of outliers to be pruned, if any: []\n",
            "indexes of outliers to be pruned, if any: []\n",
            "indexes of outliers to be pruned, if any: []\n",
            "generating 9 new sample of each example in the dataset & appending them \n",
            " old dataset length: 4\n",
            "new dataset length: 40\n",
            "created union_x attribute of length 916\n",
            "zero fill all the examples up to the length of longest one given, dataset is also now a numpy array w shape: (40, 264, 3), instead of a list of numpy arrays\n",
            "created subsampled_mask & recon_mask instance attributes\n",
            "Iter: 0, train loss: 7.4928, avg nll: 1.4427, avg kl: 1.0579, mse: 0.948406, mae: 0.868960\n",
            "dims of /content/hetvae/data/EDELSON/NGC5548_SX.dat:\t(267, 3)\n",
            "dims of /content/hetvae/data/EDELSON/NGC5548_W1.dat:\t(260, 3)\n",
            "dims of /content/hetvae/data/EDELSON/NGC4593_W2.dat:\t(147, 3)\n",
            "dims of /content/hetvae/data/EDELSON/NGC5548_M2.dat:\t(248, 3)\n",
            "indexes of outliers to be pruned, if any: [ 87  96 102]\n",
            "indexes of outliers to be pruned, if any: []\n",
            "indexes of outliers to be pruned, if any: []\n",
            "indexes of outliers to be pruned, if any: []\n",
            "generating 9 new sample of each example in the dataset & appending them \n",
            " old dataset length: 4\n",
            "new dataset length: 40\n",
            "created union_x attribute of length 916\n",
            "zero fill all the examples up to the length of longest one given, dataset is also now a numpy array w shape: (40, 264, 3), instead of a list of numpy arrays\n",
            "created subsampled_mask & recon_mask instance attributes\n",
            "Iter: 0, train loss: 6.1678, avg nll: 1.1927, avg kl: 0.2094, mse: 0.677119, mae: 0.721597\n"
          ]
        },
        {
          "output_type": "stream",
          "name": "stderr",
          "text": [
            "\u001b[32m[I 2022-06-09 00:25:34,264]\u001b[0m Trial 66 pruned. \u001b[0m\n"
          ]
        },
        {
          "output_type": "stream",
          "name": "stdout",
          "text": [
            "dims of /content/hetvae/data/EDELSON/NGC5548_SX.dat:\t(267, 3)\n",
            "dims of /content/hetvae/data/EDELSON/NGC5548_W1.dat:\t(260, 3)\n",
            "dims of /content/hetvae/data/EDELSON/NGC4593_W2.dat:\t(147, 3)\n",
            "dims of /content/hetvae/data/EDELSON/NGC5548_M2.dat:\t(248, 3)\n",
            "indexes of outliers to be pruned, if any: [ 87  96 102]\n",
            "indexes of outliers to be pruned, if any: []\n",
            "indexes of outliers to be pruned, if any: []\n",
            "indexes of outliers to be pruned, if any: []\n",
            "generating 10 new sample of each example in the dataset & appending them \n",
            " old dataset length: 4\n",
            "new dataset length: 44\n",
            "created union_x attribute of length 916\n",
            "zero fill all the examples up to the length of longest one given, dataset is also now a numpy array w shape: (44, 264, 3), instead of a list of numpy arrays\n",
            "created subsampled_mask & recon_mask instance attributes\n",
            "Iter: 0, train loss: 4.5699, avg nll: 1.1947, avg kl: 0.4031, mse: 0.655755, mae: 0.710328\n",
            "dims of /content/hetvae/data/EDELSON/NGC5548_SX.dat:\t(267, 3)\n",
            "dims of /content/hetvae/data/EDELSON/NGC5548_W1.dat:\t(260, 3)\n",
            "dims of /content/hetvae/data/EDELSON/NGC4593_W2.dat:\t(147, 3)\n",
            "dims of /content/hetvae/data/EDELSON/NGC5548_M2.dat:\t(248, 3)\n",
            "indexes of outliers to be pruned, if any: [ 87  96 102]\n",
            "indexes of outliers to be pruned, if any: []\n",
            "indexes of outliers to be pruned, if any: []\n",
            "indexes of outliers to be pruned, if any: []\n",
            "generating 8 new sample of each example in the dataset & appending them \n",
            " old dataset length: 4\n",
            "new dataset length: 36\n",
            "created union_x attribute of length 916\n",
            "zero fill all the examples up to the length of longest one given, dataset is also now a numpy array w shape: (36, 264, 3), instead of a list of numpy arrays\n",
            "created subsampled_mask & recon_mask instance attributes\n",
            "Iter: 0, train loss: 8.6164, avg nll: 1.3765, avg kl: 0.3500, mse: 0.916815, mae: 0.872811\n"
          ]
        },
        {
          "output_type": "stream",
          "name": "stderr",
          "text": [
            "\u001b[32m[I 2022-06-09 00:25:34,375]\u001b[0m Trial 67 pruned. \u001b[0m\n",
            "\u001b[32m[I 2022-06-09 00:25:34,469]\u001b[0m Trial 68 pruned. \u001b[0m\n",
            "\u001b[32m[I 2022-06-09 00:25:34,583]\u001b[0m Trial 69 pruned. \u001b[0m\n"
          ]
        },
        {
          "output_type": "stream",
          "name": "stdout",
          "text": [
            "dims of /content/hetvae/data/EDELSON/NGC5548_SX.dat:\t(267, 3)\n",
            "dims of /content/hetvae/data/EDELSON/NGC5548_W1.dat:\t(260, 3)\n",
            "dims of /content/hetvae/data/EDELSON/NGC4593_W2.dat:\t(147, 3)\n",
            "dims of /content/hetvae/data/EDELSON/NGC5548_M2.dat:\t(248, 3)\n",
            "indexes of outliers to be pruned, if any: [ 87  96 102]\n",
            "indexes of outliers to be pruned, if any: []\n",
            "indexes of outliers to be pruned, if any: []\n",
            "indexes of outliers to be pruned, if any: []\n",
            "generating 9 new sample of each example in the dataset & appending them \n",
            " old dataset length: 4\n",
            "new dataset length: 40\n",
            "created union_x attribute of length 916\n",
            "zero fill all the examples up to the length of longest one given, dataset is also now a numpy array w shape: (40, 264, 3), instead of a list of numpy arrays\n",
            "created subsampled_mask & recon_mask instance attributes\n",
            "Iter: 0, train loss: 13.5034, avg nll: 1.4381, avg kl: 0.5786, mse: 0.935934, mae: 0.887472\n",
            "dims of /content/hetvae/data/EDELSON/NGC5548_SX.dat:\t(267, 3)\n",
            "dims of /content/hetvae/data/EDELSON/NGC5548_W1.dat:\t(260, 3)\n",
            "dims of /content/hetvae/data/EDELSON/NGC4593_W2.dat:\t(147, 3)\n",
            "dims of /content/hetvae/data/EDELSON/NGC5548_M2.dat:\t(248, 3)\n",
            "indexes of outliers to be pruned, if any: [ 87  96 102]\n",
            "indexes of outliers to be pruned, if any: []\n",
            "indexes of outliers to be pruned, if any: []\n",
            "indexes of outliers to be pruned, if any: []\n",
            "generating 10 new sample of each example in the dataset & appending them \n",
            " old dataset length: 4\n",
            "new dataset length: 44\n",
            "created union_x attribute of length 916\n",
            "zero fill all the examples up to the length of longest one given, dataset is also now a numpy array w shape: (44, 264, 3), instead of a list of numpy arrays\n",
            "created subsampled_mask & recon_mask instance attributes\n",
            "Iter: 0, train loss: 24.6352, avg nll: 1.8802, avg kl: 2.5930, mse: 3.182107, mae: 1.418027\n"
          ]
        },
        {
          "output_type": "stream",
          "name": "stderr",
          "text": [
            "\u001b[32m[I 2022-06-09 00:25:34,740]\u001b[0m Trial 70 pruned. \u001b[0m\n"
          ]
        },
        {
          "output_type": "stream",
          "name": "stdout",
          "text": [
            "dims of /content/hetvae/data/EDELSON/NGC5548_SX.dat:\t(267, 3)\n",
            "dims of /content/hetvae/data/EDELSON/NGC5548_W1.dat:\t(260, 3)\n",
            "dims of /content/hetvae/data/EDELSON/NGC4593_W2.dat:\t(147, 3)\n",
            "dims of /content/hetvae/data/EDELSON/NGC5548_M2.dat:\t(248, 3)\n",
            "indexes of outliers to be pruned, if any: [ 87  96 102]\n",
            "indexes of outliers to be pruned, if any: []\n",
            "indexes of outliers to be pruned, if any: []\n",
            "indexes of outliers to be pruned, if any: []\n",
            "generating 8 new sample of each example in the dataset & appending them \n",
            " old dataset length: 4\n",
            "new dataset length: 36\n",
            "created union_x attribute of length 916\n",
            "zero fill all the examples up to the length of longest one given, dataset is also now a numpy array w shape: (36, 264, 3), instead of a list of numpy arrays\n",
            "created subsampled_mask & recon_mask instance attributes\n",
            "Iter: 0, train loss: 9.0898, avg nll: 1.4462, avg kl: 0.8854, mse: 0.979767, mae: 0.881060\n",
            "dims of /content/hetvae/data/EDELSON/NGC5548_SX.dat:\t(267, 3)\n",
            "dims of /content/hetvae/data/EDELSON/NGC5548_W1.dat:\t(260, 3)\n",
            "dims of /content/hetvae/data/EDELSON/NGC4593_W2.dat:\t(147, 3)\n",
            "dims of /content/hetvae/data/EDELSON/NGC5548_M2.dat:\t(248, 3)\n",
            "indexes of outliers to be pruned, if any: [ 87  96 102]\n",
            "indexes of outliers to be pruned, if any: []\n",
            "indexes of outliers to be pruned, if any: []\n",
            "indexes of outliers to be pruned, if any: []\n",
            "generating 9 new sample of each example in the dataset & appending them \n",
            " old dataset length: 4\n",
            "new dataset length: 40\n",
            "created union_x attribute of length 916\n",
            "zero fill all the examples up to the length of longest one given, dataset is also now a numpy array w shape: (40, 264, 3), instead of a list of numpy arrays\n",
            "created subsampled_mask & recon_mask instance attributes\n",
            "Iter: 0, train loss: 6.2409, avg nll: 1.1349, avg kl: 0.2627, mse: 0.617100, mae: 0.684980\n"
          ]
        },
        {
          "output_type": "stream",
          "name": "stderr",
          "text": [
            "\u001b[32m[I 2022-06-09 00:25:40,742]\u001b[0m Trial 71 finished with value: -1.4427396059036255 and parameters: {'batch_size': 8, 'dropout': 0.3193066765937042, 'elbo_weight': 1.0592197576398512, 'embed_time': 64, 'latent_dim': 8, 'lr': 0.002237181871271614, 'mixing': 'concat_and_mix', 'mse_weight': 7.71433749185757, 'n': 64, 'num_ref_points': 64, 'rec_hidden': 128, 'sample_tp': 0.748037013565007, 'width': 128, 'num_samples': 9, 'optimizer': 'Adam'}. Best is trial 71 with value: -1.4427396059036255.\u001b[0m\n",
            "\u001b[32m[I 2022-06-09 00:25:40,860]\u001b[0m Trial 72 pruned. \u001b[0m\n",
            "\u001b[32m[I 2022-06-09 00:25:40,970]\u001b[0m Trial 73 pruned. \u001b[0m\n"
          ]
        },
        {
          "output_type": "stream",
          "name": "stdout",
          "text": [
            "dims of /content/hetvae/data/EDELSON/NGC5548_SX.dat:\t(267, 3)\n",
            "dims of /content/hetvae/data/EDELSON/NGC5548_W1.dat:\t(260, 3)\n",
            "dims of /content/hetvae/data/EDELSON/NGC4593_W2.dat:\t(147, 3)\n",
            "dims of /content/hetvae/data/EDELSON/NGC5548_M2.dat:\t(248, 3)\n",
            "indexes of outliers to be pruned, if any: [ 87  96 102]\n",
            "indexes of outliers to be pruned, if any: []\n",
            "indexes of outliers to be pruned, if any: []\n",
            "indexes of outliers to be pruned, if any: []\n",
            "generating 9 new sample of each example in the dataset & appending them \n",
            " old dataset length: 4\n",
            "new dataset length: 40\n",
            "created union_x attribute of length 916\n",
            "zero fill all the examples up to the length of longest one given, dataset is also now a numpy array w shape: (40, 264, 3), instead of a list of numpy arrays\n",
            "created subsampled_mask & recon_mask instance attributes\n",
            "Iter: 0, train loss: 5.4657, avg nll: 1.1961, avg kl: 0.3208, mse: 0.696702, mae: 0.742053\n",
            "dims of /content/hetvae/data/EDELSON/NGC5548_SX.dat:\t(267, 3)\n",
            "dims of /content/hetvae/data/EDELSON/NGC5548_W1.dat:\t(260, 3)\n",
            "dims of /content/hetvae/data/EDELSON/NGC4593_W2.dat:\t(147, 3)\n",
            "dims of /content/hetvae/data/EDELSON/NGC5548_M2.dat:\t(248, 3)\n",
            "indexes of outliers to be pruned, if any: [ 87  96 102]\n",
            "indexes of outliers to be pruned, if any: []\n",
            "indexes of outliers to be pruned, if any: []\n",
            "indexes of outliers to be pruned, if any: []\n",
            "generating 9 new sample of each example in the dataset & appending them \n",
            " old dataset length: 4\n",
            "new dataset length: 40\n",
            "created union_x attribute of length 916\n",
            "zero fill all the examples up to the length of longest one given, dataset is also now a numpy array w shape: (40, 264, 3), instead of a list of numpy arrays\n",
            "created subsampled_mask & recon_mask instance attributes\n",
            "Iter: 0, train loss: 5.9576, avg nll: 1.2398, avg kl: 0.3478, mse: 0.654687, mae: 0.656115\n",
            "dims of /content/hetvae/data/EDELSON/NGC5548_SX.dat:\t(267, 3)\n",
            "dims of /content/hetvae/data/EDELSON/NGC5548_W1.dat:\t(260, 3)\n",
            "dims of /content/hetvae/data/EDELSON/NGC4593_W2.dat:\t(147, 3)\n",
            "dims of /content/hetvae/data/EDELSON/NGC5548_M2.dat:\t(248, 3)\n",
            "indexes of outliers to be pruned, if any: [ 87  96 102]\n",
            "indexes of outliers to be pruned, if any: []\n",
            "indexes of outliers to be pruned, if any: []\n",
            "indexes of outliers to be pruned, if any: []\n",
            "generating 8 new sample of each example in the dataset & appending them \n",
            " old dataset length: 4\n",
            "new dataset length: 36\n",
            "created union_x attribute of length 916\n",
            "zero fill all the examples up to the length of longest one given, dataset is also now a numpy array w shape: (36, 264, 3), instead of a list of numpy arrays\n",
            "created subsampled_mask & recon_mask instance attributes\n",
            "Iter: 0, train loss: 5.5657, avg nll: 1.0566, avg kl: 0.1399, mse: 0.495540, mae: 0.580895\n"
          ]
        },
        {
          "output_type": "stream",
          "name": "stderr",
          "text": [
            "\u001b[32m[I 2022-06-09 00:25:45,497]\u001b[0m Trial 74 finished with value: -1.1747866868972778 and parameters: {'batch_size': 8, 'dropout': 0.26658515881302086, 'elbo_weight': 1.052594696190622, 'embed_time': 64, 'latent_dim': 8, 'lr': 0.0046185085039948314, 'mixing': 'concat_and_mix', 'mse_weight': 8.689945005013206, 'n': 64, 'num_ref_points': 16, 'rec_hidden': 128, 'sample_tp': 0.8178002069997888, 'width': 128, 'num_samples': 8, 'optimizer': 'Adam'}. Best is trial 71 with value: -1.4427396059036255.\u001b[0m\n",
            "\u001b[32m[I 2022-06-09 00:25:45,560]\u001b[0m Trial 75 pruned. \u001b[0m\n",
            "\u001b[32m[I 2022-06-09 00:25:45,643]\u001b[0m Trial 76 pruned. \u001b[0m\n",
            "\u001b[32m[I 2022-06-09 00:25:45,718]\u001b[0m Trial 77 pruned. \u001b[0m\n"
          ]
        },
        {
          "output_type": "stream",
          "name": "stdout",
          "text": [
            "dims of /content/hetvae/data/EDELSON/NGC5548_SX.dat:\t(267, 3)\n",
            "dims of /content/hetvae/data/EDELSON/NGC5548_W1.dat:\t(260, 3)\n",
            "dims of /content/hetvae/data/EDELSON/NGC4593_W2.dat:\t(147, 3)\n",
            "dims of /content/hetvae/data/EDELSON/NGC5548_M2.dat:\t(248, 3)\n",
            "indexes of outliers to be pruned, if any: [ 87  96 102]\n",
            "indexes of outliers to be pruned, if any: []\n",
            "indexes of outliers to be pruned, if any: []\n",
            "indexes of outliers to be pruned, if any: []\n",
            "generating 1 new sample of each example in the dataset & appending them \n",
            " old dataset length: 4\n",
            "new dataset length: 8\n",
            "created union_x attribute of length 916\n",
            "zero fill all the examples up to the length of longest one given, dataset is also now a numpy array w shape: (8, 264, 3), instead of a list of numpy arrays\n",
            "created subsampled_mask & recon_mask instance attributes\n",
            "Iter: 0, train loss: 12.5650, avg nll: 1.5765, avg kl: 0.3123, mse: 1.152128, mae: 0.952259\n",
            "dims of /content/hetvae/data/EDELSON/NGC5548_SX.dat:\t(267, 3)\n",
            "dims of /content/hetvae/data/EDELSON/NGC5548_W1.dat:\t(260, 3)\n",
            "dims of /content/hetvae/data/EDELSON/NGC4593_W2.dat:\t(147, 3)\n",
            "dims of /content/hetvae/data/EDELSON/NGC5548_M2.dat:\t(248, 3)\n",
            "indexes of outliers to be pruned, if any: [ 87  96 102]\n",
            "indexes of outliers to be pruned, if any: []\n",
            "indexes of outliers to be pruned, if any: []\n",
            "indexes of outliers to be pruned, if any: []\n",
            "generating 5 new sample of each example in the dataset & appending them \n",
            " old dataset length: 4\n",
            "new dataset length: 24\n",
            "created union_x attribute of length 916\n",
            "zero fill all the examples up to the length of longest one given, dataset is also now a numpy array w shape: (24, 264, 3), instead of a list of numpy arrays\n",
            "created subsampled_mask & recon_mask instance attributes\n",
            "Iter: 0, train loss: 9.5292, avg nll: 1.4085, avg kl: 0.1458, mse: 0.977592, mae: 0.904978\n",
            "dims of /content/hetvae/data/EDELSON/NGC5548_SX.dat:\t(267, 3)\n",
            "dims of /content/hetvae/data/EDELSON/NGC5548_W1.dat:\t(260, 3)\n",
            "dims of /content/hetvae/data/EDELSON/NGC4593_W2.dat:\t(147, 3)\n",
            "dims of /content/hetvae/data/EDELSON/NGC5548_M2.dat:\t(248, 3)\n",
            "indexes of outliers to be pruned, if any: [ 87  96 102]\n",
            "indexes of outliers to be pruned, if any: []\n",
            "indexes of outliers to be pruned, if any: []\n",
            "indexes of outliers to be pruned, if any: []\n",
            "generating 3 new sample of each example in the dataset & appending them \n",
            " old dataset length: 4\n",
            "new dataset length: 16\n",
            "created union_x attribute of length 916\n",
            "zero fill all the examples up to the length of longest one given, dataset is also now a numpy array w shape: (16, 264, 3), instead of a list of numpy arrays\n",
            "created subsampled_mask & recon_mask instance attributes\n",
            "Iter: 0, train loss: 9.0758, avg nll: 1.3723, avg kl: 0.0917, mse: 0.908920, mae: 0.871851\n"
          ]
        },
        {
          "output_type": "stream",
          "name": "stderr",
          "text": [
            "\u001b[32m[I 2022-06-09 00:25:45,819]\u001b[0m Trial 78 pruned. \u001b[0m\n",
            "\u001b[32m[I 2022-06-09 00:25:45,901]\u001b[0m Trial 79 pruned. \u001b[0m\n"
          ]
        },
        {
          "output_type": "stream",
          "name": "stdout",
          "text": [
            "dims of /content/hetvae/data/EDELSON/NGC5548_SX.dat:\t(267, 3)\n",
            "dims of /content/hetvae/data/EDELSON/NGC5548_W1.dat:\t(260, 3)\n",
            "dims of /content/hetvae/data/EDELSON/NGC4593_W2.dat:\t(147, 3)\n",
            "dims of /content/hetvae/data/EDELSON/NGC5548_M2.dat:\t(248, 3)\n",
            "indexes of outliers to be pruned, if any: [ 87  96 102]\n",
            "indexes of outliers to be pruned, if any: []\n",
            "indexes of outliers to be pruned, if any: []\n",
            "indexes of outliers to be pruned, if any: []\n",
            "generating 7 new sample of each example in the dataset & appending them \n",
            " old dataset length: 4\n",
            "new dataset length: 32\n",
            "created union_x attribute of length 916\n",
            "zero fill all the examples up to the length of longest one given, dataset is also now a numpy array w shape: (32, 264, 3), instead of a list of numpy arrays\n",
            "created subsampled_mask & recon_mask instance attributes\n",
            "Iter: 0, train loss: 5.7888, avg nll: 1.1544, avg kl: 0.1360, mse: 0.584110, mae: 0.644506\n",
            "dims of /content/hetvae/data/EDELSON/NGC5548_SX.dat:\t(267, 3)\n",
            "dims of /content/hetvae/data/EDELSON/NGC5548_W1.dat:\t(260, 3)\n",
            "dims of /content/hetvae/data/EDELSON/NGC4593_W2.dat:\t(147, 3)\n",
            "dims of /content/hetvae/data/EDELSON/NGC5548_M2.dat:\t(248, 3)\n",
            "indexes of outliers to be pruned, if any: [ 87  96 102]\n",
            "indexes of outliers to be pruned, if any: []\n",
            "indexes of outliers to be pruned, if any: []\n",
            "indexes of outliers to be pruned, if any: []\n",
            "generating 9 new sample of each example in the dataset & appending them \n",
            " old dataset length: 4\n",
            "new dataset length: 40\n",
            "created union_x attribute of length 916\n",
            "zero fill all the examples up to the length of longest one given, dataset is also now a numpy array w shape: (40, 264, 3), instead of a list of numpy arrays\n",
            "created subsampled_mask & recon_mask instance attributes\n",
            "Iter: 0, train loss: 8.8166, avg nll: 1.2185, avg kl: 0.2876, mse: 0.655425, mae: 0.698873\n",
            "Study statistics: \n",
            "  Number of finished trials:  80\n",
            "  Number of pruned trials:  52\n",
            "  Number of complete trials:  28\n",
            "Best trial:\n",
            "  Value:  -1.4427396059036255\n",
            "  Params: \n",
            "    batch_size: 8\n",
            "    dropout: 0.3193066765937042\n",
            "    elbo_weight: 1.0592197576398512\n",
            "    embed_time: 64\n",
            "    latent_dim: 8\n",
            "    lr: 0.002237181871271614\n",
            "    mixing: concat_and_mix\n",
            "    mse_weight: 7.71433749185757\n",
            "    n: 64\n",
            "    num_ref_points: 64\n",
            "    rec_hidden: 128\n",
            "    sample_tp: 0.748037013565007\n",
            "    width: 128\n",
            "    num_samples: 9\n",
            "    optimizer: Adam\n"
          ]
        }
      ]
    },
    {
      "cell_type": "markdown",
      "metadata": {
        "id": "a58EIBLfnj3v"
      },
      "source": [
        "## **Training**"
      ]
    },
    {
      "cell_type": "markdown",
      "metadata": {
        "id": "JE78L00Flifr"
      },
      "source": [
        ""
      ]
    },
    {
      "cell_type": "code",
      "execution_count": 9,
      "metadata": {
        "id": "wdgcWN0blrM3"
      },
      "outputs": [],
      "source": [
        "def train(net, optimizer,epoch, train_loader, args, device=\"cuda\"):\n",
        "      \n",
        "      train_loss = 0.\n",
        "      train_n = 0.\n",
        "      avg_loglik, avg_kl, mse, mae = 0., 0., 0., 0.\n",
        "      for i, train_batch in enumerate(train_loader):\n",
        "          batch_len = train_batch.shape[0] \n",
        "          train_batch = train_batch.to(device)\n",
        "          x = train_batch[:,:,0]\n",
        "          y = train_batch[:,:,1:2]\n",
        "          \n",
        "          subsampled_mask = train_batch[:,:,3:4]\n",
        "          recon_mask = train_batch[:,:,4:]\n",
        "          sample_weight = train_batch[:,:,2:3]\n",
        "          seqlen = train_batch.size(1) \n",
        "          # subsampled flux values and their corresponding masks....\n",
        "          context_y = torch.cat((\n",
        "              y * subsampled_mask, subsampled_mask\n",
        "          ), -1) \n",
        "          recon_context_y = torch.cat((            # flux values with only recon_mask values showing\n",
        "                  y * recon_mask, recon_mask\n",
        "              ), -1)\n",
        "          \n",
        "    # #   def compute_unsupervised_loss(self, context_x, context_y, target_x, target_y, num_samples=1, beta=1):\n",
        "          loss_info = net.compute_unsupervised_loss(\n",
        "              x, # context_x, times\n",
        "              context_y,             # context_y\n",
        "              x, # target_x, same times? \n",
        "              recon_context_y,\n",
        "              num_samples=args.k_iwae, # 1? \n",
        "              beta=1,\n",
        "              # optional, will be zero if not set\n",
        "              #sample_weight = sample_weight   # default is 1. (no errors provided)\n",
        "\n",
        "          )\n",
        "          optimizer.zero_grad()\n",
        "          loss_info.composite_loss.backward()\n",
        "          optimizer.step()\n",
        "          #scheduler.step()\n",
        "          train_loss += loss_info.composite_loss.item() * batch_len\n",
        "          avg_loglik += loss_info.loglik * batch_len\n",
        "          avg_kl += loss_info.kl * batch_len\n",
        "          mse += loss_info.mse * batch_len\n",
        "          mae += loss_info.mae * batch_len\n",
        "          train_n += batch_len\n",
        "      \n",
        "      \n",
        "      if epoch % 100 == 0:\n",
        "          print(\n",
        "              'Iter: {}, train loss: {:.4f}, avg nll: {:.4f}, avg kl: {:.4f}, '\n",
        "              'mse: {:.6f}, mae: {:.6f}'.format(\n",
        "                  epoch,\n",
        "                  train_loss / train_n,\n",
        "                  -avg_loglik / train_n,\n",
        "                  avg_kl / train_n,\n",
        "                  mse / train_n,\n",
        "                  mae / train_n\n",
        "              )\n",
        "          )\n",
        "      \n",
        "        \n"
      ]
    },
    {
      "cell_type": "code",
      "execution_count": null,
      "metadata": {
        "colab": {
          "base_uri": "https://localhost:8080/"
        },
        "id": "45gNY5iglHMr",
        "outputId": "36c9c9b4-229c-4580-ce61-a7ab683874a6"
      },
      "outputs": [
        {
          "name": "stdout",
          "output_type": "stream",
          "text": [
            "0.0009\n"
          ]
        }
      ],
      "source": [
        "for g in optimizer.param_groups:\n",
        "    print(g['lr'])\n",
        "    g['lr'] = 0.001"
      ]
    },
    {
      "cell_type": "code",
      "execution_count": 13,
      "metadata": {
        "id": "N3keG-7Urr69",
        "outputId": "8d52f1b7-785f-4b58-f3db-78f30577c5d9",
        "colab": {
          "base_uri": "https://localhost:8080/",
          "height": 187
        }
      },
      "outputs": [
        {
          "output_type": "error",
          "ename": "NameError",
          "evalue": "ignored",
          "traceback": [
            "\u001b[0;31m---------------------------------------------------------------------------\u001b[0m",
            "\u001b[0;31mNameError\u001b[0m                                 Traceback (most recent call last)",
            "\u001b[0;32m<ipython-input-13-880a29af9b97>\u001b[0m in \u001b[0;36m<module>\u001b[0;34m()\u001b[0m\n\u001b[0;32m----> 1\u001b[0;31m \u001b[0mviz_per_example\u001b[0m\u001b[0;34m(\u001b[0m\u001b[0mlcs\u001b[0m\u001b[0;34m[\u001b[0m\u001b[0;36m1\u001b[0m\u001b[0;34m]\u001b[0m\u001b[0;34m,\u001b[0m \u001b[0mnet\u001b[0m\u001b[0;34m,\u001b[0m \u001b[0mdevice\u001b[0m\u001b[0;34m=\u001b[0m\u001b[0mdevice\u001b[0m\u001b[0;34m,\u001b[0m \u001b[0mk_iwae\u001b[0m\u001b[0;34m=\u001b[0m\u001b[0;36m10\u001b[0m\u001b[0;34m,\u001b[0m \u001b[0mn_max\u001b[0m\u001b[0;34m=\u001b[0m\u001b[0;36m10\u001b[0m\u001b[0;34m,\u001b[0m \u001b[0mfracs\u001b[0m\u001b[0;34m=\u001b[0m\u001b[0;34m[\u001b[0m\u001b[0;36m0.05\u001b[0m\u001b[0;34m,\u001b[0m\u001b[0;36m0.1\u001b[0m\u001b[0;34m,\u001b[0m\u001b[0;36m0.15\u001b[0m\u001b[0;34m]\u001b[0m\u001b[0;34m)\u001b[0m\u001b[0;34m\u001b[0m\u001b[0;34m\u001b[0m\u001b[0m\n\u001b[0m",
            "\u001b[0;31mNameError\u001b[0m: name 'viz_per_example' is not defined"
          ]
        }
      ],
      "source": [
        "my_utils.viz_per_example(Edelson.dataset[1], net, device=device, k_iwae=10, n_max=10, fracs=[0.05,0.1,0.15])"
      ]
    },
    {
      "cell_type": "code",
      "source": [
        "optuna.visualization.plot_param_importances(study)"
      ],
      "metadata": {
        "id": "8dFgm1AE-nbc",
        "outputId": "a822d4bd-83ca-40bb-cba4-3fabf95f8372",
        "colab": {
          "base_uri": "https://localhost:8080/",
          "height": 542
        }
      },
      "execution_count": 14,
      "outputs": [
        {
          "output_type": "display_data",
          "data": {
            "text/html": [
              "<html>\n",
              "<head><meta charset=\"utf-8\" /></head>\n",
              "<body>\n",
              "    <div>            <script src=\"https://cdnjs.cloudflare.com/ajax/libs/mathjax/2.7.5/MathJax.js?config=TeX-AMS-MML_SVG\"></script><script type=\"text/javascript\">if (window.MathJax) {MathJax.Hub.Config({SVG: {font: \"STIX-Web\"}});}</script>                <script type=\"text/javascript\">window.PlotlyConfig = {MathJaxConfig: 'local'};</script>\n",
              "        <script src=\"https://cdn.plot.ly/plotly-2.8.3.min.js\"></script>                <div id=\"5e80a4d3-8cf4-41f3-99e6-20560eac3e26\" class=\"plotly-graph-div\" style=\"height:525px; width:100%;\"></div>            <script type=\"text/javascript\">                                    window.PLOTLYENV=window.PLOTLYENV || {};                                    if (document.getElementById(\"5e80a4d3-8cf4-41f3-99e6-20560eac3e26\")) {                    Plotly.newPlot(                        \"5e80a4d3-8cf4-41f3-99e6-20560eac3e26\",                        [{\"cliponaxis\":false,\"hovertemplate\":[\"lr (LogUniformDistribution): 0.0141111492778582<extra></extra>\",\"embed_time (CategoricalDistribution): 0.01482125573888913<extra></extra>\",\"sample_tp (UniformDistribution): 0.01566583608379751<extra></extra>\",\"mixing (CategoricalDistribution): 0.017317082218732228<extra></extra>\",\"latent_dim (CategoricalDistribution): 0.02182360824136644<extra></extra>\",\"rec_hidden (CategoricalDistribution): 0.02533434040959881<extra></extra>\",\"num_samples (IntUniformDistribution): 0.039347153256787996<extra></extra>\",\"batch_size (CategoricalDistribution): 0.052117260152416287<extra></extra>\",\"elbo_weight (UniformDistribution): 0.05382852280608144<extra></extra>\",\"width (CategoricalDistribution): 0.060942464504508596<extra></extra>\",\"kl_annealing (CategoricalDistribution): 0.07144027902484033<extra></extra>\",\"dropout (UniformDistribution): 0.09240679791448068<extra></extra>\",\"mse_weight (UniformDistribution): 0.1038765999653994<extra></extra>\",\"n (CategoricalDistribution): 0.11867299285157233<extra></extra>\",\"num_ref_points (CategoricalDistribution): 0.14675351993660188<extra></extra>\",\"optimizer (CategoricalDistribution): 0.1515411376170689<extra></extra>\"],\"marker\":{\"color\":\"rgb(66,146,198)\"},\"orientation\":\"h\",\"text\":[\"0.0141111492778582\",\"0.01482125573888913\",\"0.01566583608379751\",\"0.017317082218732228\",\"0.02182360824136644\",\"0.02533434040959881\",\"0.039347153256787996\",\"0.052117260152416287\",\"0.05382852280608144\",\"0.060942464504508596\",\"0.07144027902484033\",\"0.09240679791448068\",\"0.1038765999653994\",\"0.11867299285157233\",\"0.14675351993660188\",\"0.1515411376170689\"],\"textposition\":\"outside\",\"texttemplate\":\"%{text:.2f}\",\"x\":[0.0141111492778582,0.01482125573888913,0.01566583608379751,0.017317082218732228,0.02182360824136644,0.02533434040959881,0.039347153256787996,0.052117260152416287,0.05382852280608144,0.060942464504508596,0.07144027902484033,0.09240679791448068,0.1038765999653994,0.11867299285157233,0.14675351993660188,0.1515411376170689],\"y\":[\"lr\",\"embed_time\",\"sample_tp\",\"mixing\",\"latent_dim\",\"rec_hidden\",\"num_samples\",\"batch_size\",\"elbo_weight\",\"width\",\"kl_annealing\",\"dropout\",\"mse_weight\",\"n\",\"num_ref_points\",\"optimizer\"],\"type\":\"bar\"}],                        {\"showlegend\":false,\"title\":{\"text\":\"Hyperparameter Importances\"},\"xaxis\":{\"title\":{\"text\":\"Importance for Objective Value\"}},\"yaxis\":{\"title\":{\"text\":\"Hyperparameter\"}},\"template\":{\"data\":{\"bar\":[{\"error_x\":{\"color\":\"#2a3f5f\"},\"error_y\":{\"color\":\"#2a3f5f\"},\"marker\":{\"line\":{\"color\":\"#E5ECF6\",\"width\":0.5},\"pattern\":{\"fillmode\":\"overlay\",\"size\":10,\"solidity\":0.2}},\"type\":\"bar\"}],\"barpolar\":[{\"marker\":{\"line\":{\"color\":\"#E5ECF6\",\"width\":0.5},\"pattern\":{\"fillmode\":\"overlay\",\"size\":10,\"solidity\":0.2}},\"type\":\"barpolar\"}],\"carpet\":[{\"aaxis\":{\"endlinecolor\":\"#2a3f5f\",\"gridcolor\":\"white\",\"linecolor\":\"white\",\"minorgridcolor\":\"white\",\"startlinecolor\":\"#2a3f5f\"},\"baxis\":{\"endlinecolor\":\"#2a3f5f\",\"gridcolor\":\"white\",\"linecolor\":\"white\",\"minorgridcolor\":\"white\",\"startlinecolor\":\"#2a3f5f\"},\"type\":\"carpet\"}],\"choropleth\":[{\"colorbar\":{\"outlinewidth\":0,\"ticks\":\"\"},\"type\":\"choropleth\"}],\"contour\":[{\"colorbar\":{\"outlinewidth\":0,\"ticks\":\"\"},\"colorscale\":[[0.0,\"#0d0887\"],[0.1111111111111111,\"#46039f\"],[0.2222222222222222,\"#7201a8\"],[0.3333333333333333,\"#9c179e\"],[0.4444444444444444,\"#bd3786\"],[0.5555555555555556,\"#d8576b\"],[0.6666666666666666,\"#ed7953\"],[0.7777777777777778,\"#fb9f3a\"],[0.8888888888888888,\"#fdca26\"],[1.0,\"#f0f921\"]],\"type\":\"contour\"}],\"contourcarpet\":[{\"colorbar\":{\"outlinewidth\":0,\"ticks\":\"\"},\"type\":\"contourcarpet\"}],\"heatmap\":[{\"colorbar\":{\"outlinewidth\":0,\"ticks\":\"\"},\"colorscale\":[[0.0,\"#0d0887\"],[0.1111111111111111,\"#46039f\"],[0.2222222222222222,\"#7201a8\"],[0.3333333333333333,\"#9c179e\"],[0.4444444444444444,\"#bd3786\"],[0.5555555555555556,\"#d8576b\"],[0.6666666666666666,\"#ed7953\"],[0.7777777777777778,\"#fb9f3a\"],[0.8888888888888888,\"#fdca26\"],[1.0,\"#f0f921\"]],\"type\":\"heatmap\"}],\"heatmapgl\":[{\"colorbar\":{\"outlinewidth\":0,\"ticks\":\"\"},\"colorscale\":[[0.0,\"#0d0887\"],[0.1111111111111111,\"#46039f\"],[0.2222222222222222,\"#7201a8\"],[0.3333333333333333,\"#9c179e\"],[0.4444444444444444,\"#bd3786\"],[0.5555555555555556,\"#d8576b\"],[0.6666666666666666,\"#ed7953\"],[0.7777777777777778,\"#fb9f3a\"],[0.8888888888888888,\"#fdca26\"],[1.0,\"#f0f921\"]],\"type\":\"heatmapgl\"}],\"histogram\":[{\"marker\":{\"pattern\":{\"fillmode\":\"overlay\",\"size\":10,\"solidity\":0.2}},\"type\":\"histogram\"}],\"histogram2d\":[{\"colorbar\":{\"outlinewidth\":0,\"ticks\":\"\"},\"colorscale\":[[0.0,\"#0d0887\"],[0.1111111111111111,\"#46039f\"],[0.2222222222222222,\"#7201a8\"],[0.3333333333333333,\"#9c179e\"],[0.4444444444444444,\"#bd3786\"],[0.5555555555555556,\"#d8576b\"],[0.6666666666666666,\"#ed7953\"],[0.7777777777777778,\"#fb9f3a\"],[0.8888888888888888,\"#fdca26\"],[1.0,\"#f0f921\"]],\"type\":\"histogram2d\"}],\"histogram2dcontour\":[{\"colorbar\":{\"outlinewidth\":0,\"ticks\":\"\"},\"colorscale\":[[0.0,\"#0d0887\"],[0.1111111111111111,\"#46039f\"],[0.2222222222222222,\"#7201a8\"],[0.3333333333333333,\"#9c179e\"],[0.4444444444444444,\"#bd3786\"],[0.5555555555555556,\"#d8576b\"],[0.6666666666666666,\"#ed7953\"],[0.7777777777777778,\"#fb9f3a\"],[0.8888888888888888,\"#fdca26\"],[1.0,\"#f0f921\"]],\"type\":\"histogram2dcontour\"}],\"mesh3d\":[{\"colorbar\":{\"outlinewidth\":0,\"ticks\":\"\"},\"type\":\"mesh3d\"}],\"parcoords\":[{\"line\":{\"colorbar\":{\"outlinewidth\":0,\"ticks\":\"\"}},\"type\":\"parcoords\"}],\"pie\":[{\"automargin\":true,\"type\":\"pie\"}],\"scatter\":[{\"marker\":{\"colorbar\":{\"outlinewidth\":0,\"ticks\":\"\"}},\"type\":\"scatter\"}],\"scatter3d\":[{\"line\":{\"colorbar\":{\"outlinewidth\":0,\"ticks\":\"\"}},\"marker\":{\"colorbar\":{\"outlinewidth\":0,\"ticks\":\"\"}},\"type\":\"scatter3d\"}],\"scattercarpet\":[{\"marker\":{\"colorbar\":{\"outlinewidth\":0,\"ticks\":\"\"}},\"type\":\"scattercarpet\"}],\"scattergeo\":[{\"marker\":{\"colorbar\":{\"outlinewidth\":0,\"ticks\":\"\"}},\"type\":\"scattergeo\"}],\"scattergl\":[{\"marker\":{\"colorbar\":{\"outlinewidth\":0,\"ticks\":\"\"}},\"type\":\"scattergl\"}],\"scattermapbox\":[{\"marker\":{\"colorbar\":{\"outlinewidth\":0,\"ticks\":\"\"}},\"type\":\"scattermapbox\"}],\"scatterpolar\":[{\"marker\":{\"colorbar\":{\"outlinewidth\":0,\"ticks\":\"\"}},\"type\":\"scatterpolar\"}],\"scatterpolargl\":[{\"marker\":{\"colorbar\":{\"outlinewidth\":0,\"ticks\":\"\"}},\"type\":\"scatterpolargl\"}],\"scatterternary\":[{\"marker\":{\"colorbar\":{\"outlinewidth\":0,\"ticks\":\"\"}},\"type\":\"scatterternary\"}],\"surface\":[{\"colorbar\":{\"outlinewidth\":0,\"ticks\":\"\"},\"colorscale\":[[0.0,\"#0d0887\"],[0.1111111111111111,\"#46039f\"],[0.2222222222222222,\"#7201a8\"],[0.3333333333333333,\"#9c179e\"],[0.4444444444444444,\"#bd3786\"],[0.5555555555555556,\"#d8576b\"],[0.6666666666666666,\"#ed7953\"],[0.7777777777777778,\"#fb9f3a\"],[0.8888888888888888,\"#fdca26\"],[1.0,\"#f0f921\"]],\"type\":\"surface\"}],\"table\":[{\"cells\":{\"fill\":{\"color\":\"#EBF0F8\"},\"line\":{\"color\":\"white\"}},\"header\":{\"fill\":{\"color\":\"#C8D4E3\"},\"line\":{\"color\":\"white\"}},\"type\":\"table\"}]},\"layout\":{\"annotationdefaults\":{\"arrowcolor\":\"#2a3f5f\",\"arrowhead\":0,\"arrowwidth\":1},\"autotypenumbers\":\"strict\",\"coloraxis\":{\"colorbar\":{\"outlinewidth\":0,\"ticks\":\"\"}},\"colorscale\":{\"diverging\":[[0,\"#8e0152\"],[0.1,\"#c51b7d\"],[0.2,\"#de77ae\"],[0.3,\"#f1b6da\"],[0.4,\"#fde0ef\"],[0.5,\"#f7f7f7\"],[0.6,\"#e6f5d0\"],[0.7,\"#b8e186\"],[0.8,\"#7fbc41\"],[0.9,\"#4d9221\"],[1,\"#276419\"]],\"sequential\":[[0.0,\"#0d0887\"],[0.1111111111111111,\"#46039f\"],[0.2222222222222222,\"#7201a8\"],[0.3333333333333333,\"#9c179e\"],[0.4444444444444444,\"#bd3786\"],[0.5555555555555556,\"#d8576b\"],[0.6666666666666666,\"#ed7953\"],[0.7777777777777778,\"#fb9f3a\"],[0.8888888888888888,\"#fdca26\"],[1.0,\"#f0f921\"]],\"sequentialminus\":[[0.0,\"#0d0887\"],[0.1111111111111111,\"#46039f\"],[0.2222222222222222,\"#7201a8\"],[0.3333333333333333,\"#9c179e\"],[0.4444444444444444,\"#bd3786\"],[0.5555555555555556,\"#d8576b\"],[0.6666666666666666,\"#ed7953\"],[0.7777777777777778,\"#fb9f3a\"],[0.8888888888888888,\"#fdca26\"],[1.0,\"#f0f921\"]]},\"colorway\":[\"#636efa\",\"#EF553B\",\"#00cc96\",\"#ab63fa\",\"#FFA15A\",\"#19d3f3\",\"#FF6692\",\"#B6E880\",\"#FF97FF\",\"#FECB52\"],\"font\":{\"color\":\"#2a3f5f\"},\"geo\":{\"bgcolor\":\"white\",\"lakecolor\":\"white\",\"landcolor\":\"#E5ECF6\",\"showlakes\":true,\"showland\":true,\"subunitcolor\":\"white\"},\"hoverlabel\":{\"align\":\"left\"},\"hovermode\":\"closest\",\"mapbox\":{\"style\":\"light\"},\"paper_bgcolor\":\"white\",\"plot_bgcolor\":\"#E5ECF6\",\"polar\":{\"angularaxis\":{\"gridcolor\":\"white\",\"linecolor\":\"white\",\"ticks\":\"\"},\"bgcolor\":\"#E5ECF6\",\"radialaxis\":{\"gridcolor\":\"white\",\"linecolor\":\"white\",\"ticks\":\"\"}},\"scene\":{\"xaxis\":{\"backgroundcolor\":\"#E5ECF6\",\"gridcolor\":\"white\",\"gridwidth\":2,\"linecolor\":\"white\",\"showbackground\":true,\"ticks\":\"\",\"zerolinecolor\":\"white\"},\"yaxis\":{\"backgroundcolor\":\"#E5ECF6\",\"gridcolor\":\"white\",\"gridwidth\":2,\"linecolor\":\"white\",\"showbackground\":true,\"ticks\":\"\",\"zerolinecolor\":\"white\"},\"zaxis\":{\"backgroundcolor\":\"#E5ECF6\",\"gridcolor\":\"white\",\"gridwidth\":2,\"linecolor\":\"white\",\"showbackground\":true,\"ticks\":\"\",\"zerolinecolor\":\"white\"}},\"shapedefaults\":{\"line\":{\"color\":\"#2a3f5f\"}},\"ternary\":{\"aaxis\":{\"gridcolor\":\"white\",\"linecolor\":\"white\",\"ticks\":\"\"},\"baxis\":{\"gridcolor\":\"white\",\"linecolor\":\"white\",\"ticks\":\"\"},\"bgcolor\":\"#E5ECF6\",\"caxis\":{\"gridcolor\":\"white\",\"linecolor\":\"white\",\"ticks\":\"\"}},\"title\":{\"x\":0.05},\"xaxis\":{\"automargin\":true,\"gridcolor\":\"white\",\"linecolor\":\"white\",\"ticks\":\"\",\"title\":{\"standoff\":15},\"zerolinecolor\":\"white\",\"zerolinewidth\":2},\"yaxis\":{\"automargin\":true,\"gridcolor\":\"white\",\"linecolor\":\"white\",\"ticks\":\"\",\"title\":{\"standoff\":15},\"zerolinecolor\":\"white\",\"zerolinewidth\":2}}}},                        {\"responsive\": true}                    ).then(function(){\n",
              "                            \n",
              "var gd = document.getElementById('5e80a4d3-8cf4-41f3-99e6-20560eac3e26');\n",
              "var x = new MutationObserver(function (mutations, observer) {{\n",
              "        var display = window.getComputedStyle(gd).display;\n",
              "        if (!display || display === 'none') {{\n",
              "            console.log([gd, 'removed!']);\n",
              "            Plotly.purge(gd);\n",
              "            observer.disconnect();\n",
              "        }}\n",
              "}});\n",
              "\n",
              "// Listen for the removal of the full notebook cells\n",
              "var notebookContainer = gd.closest('#notebook-container');\n",
              "if (notebookContainer) {{\n",
              "    x.observe(notebookContainer, {childList: true});\n",
              "}}\n",
              "\n",
              "// Listen for the clearing of the current output cell\n",
              "var outputEl = gd.closest('.output');\n",
              "if (outputEl) {{\n",
              "    x.observe(outputEl, {childList: true});\n",
              "}}\n",
              "\n",
              "                        })                };                            </script>        </div>\n",
              "</body>\n",
              "</html>"
            ]
          },
          "metadata": {}
        }
      ]
    },
    {
      "cell_type": "code",
      "source": [
        "optuna.visualization.plot_optimization_history(study)"
      ],
      "metadata": {
        "id": "5FrI7AS5-uqN",
        "outputId": "803bf1bf-c7ca-4f20-c375-f3b0fa38f99c",
        "colab": {
          "base_uri": "https://localhost:8080/",
          "height": 542
        }
      },
      "execution_count": 15,
      "outputs": [
        {
          "output_type": "display_data",
          "data": {
            "text/html": [
              "<html>\n",
              "<head><meta charset=\"utf-8\" /></head>\n",
              "<body>\n",
              "    <div>            <script src=\"https://cdnjs.cloudflare.com/ajax/libs/mathjax/2.7.5/MathJax.js?config=TeX-AMS-MML_SVG\"></script><script type=\"text/javascript\">if (window.MathJax) {MathJax.Hub.Config({SVG: {font: \"STIX-Web\"}});}</script>                <script type=\"text/javascript\">window.PlotlyConfig = {MathJaxConfig: 'local'};</script>\n",
              "        <script src=\"https://cdn.plot.ly/plotly-2.8.3.min.js\"></script>                <div id=\"16596e77-500d-4b6e-8b41-4b8dee2e0ac0\" class=\"plotly-graph-div\" style=\"height:525px; width:100%;\"></div>            <script type=\"text/javascript\">                                    window.PLOTLYENV=window.PLOTLYENV || {};                                    if (document.getElementById(\"16596e77-500d-4b6e-8b41-4b8dee2e0ac0\")) {                    Plotly.newPlot(                        \"16596e77-500d-4b6e-8b41-4b8dee2e0ac0\",                        [{\"mode\":\"markers\",\"name\":\"Objective Value\",\"x\":[0,1,2,3,4,13,17,18,19,21,22,23,25,28,32,37,41,43,52,61,64,71,72,73,93],\"y\":[-0.09817567467689514,1.126522421836853,0.5077604055404663,1.4208991527557373,0.3188644051551819,-0.4891915023326874,-0.25608718395233154,-0.8356237411499023,0.046543508768081665,-1.098836898803711,-0.8742569088935852,-0.9368172287940979,-0.4934235215187073,-0.5876665115356445,-0.7169528007507324,-0.5789490342140198,-0.9932878017425537,-0.7497150897979736,-0.8722430467605591,-0.5412473678588867,-0.43591588735580444,-0.8541795015335083,-0.9729646444320679,-0.896338939666748,-0.9738860726356506],\"type\":\"scatter\"},{\"name\":\"Best Value\",\"x\":[0,1,2,3,4,13,17,18,19,21,22,23,25,28,32,37,41,43,52,61,64,71,72,73,93],\"y\":[-0.09817567467689514,-0.09817567467689514,-0.09817567467689514,-0.09817567467689514,-0.09817567467689514,-0.4891915023326874,-0.4891915023326874,-0.8356237411499023,-0.8356237411499023,-1.098836898803711,-1.098836898803711,-1.098836898803711,-1.098836898803711,-1.098836898803711,-1.098836898803711,-1.098836898803711,-1.098836898803711,-1.098836898803711,-1.098836898803711,-1.098836898803711,-1.098836898803711,-1.098836898803711,-1.098836898803711,-1.098836898803711,-1.098836898803711],\"type\":\"scatter\"}],                        {\"title\":{\"text\":\"Optimization History Plot\"},\"xaxis\":{\"title\":{\"text\":\"#Trials\"}},\"yaxis\":{\"title\":{\"text\":\"Objective Value\"}},\"template\":{\"data\":{\"bar\":[{\"error_x\":{\"color\":\"#2a3f5f\"},\"error_y\":{\"color\":\"#2a3f5f\"},\"marker\":{\"line\":{\"color\":\"#E5ECF6\",\"width\":0.5},\"pattern\":{\"fillmode\":\"overlay\",\"size\":10,\"solidity\":0.2}},\"type\":\"bar\"}],\"barpolar\":[{\"marker\":{\"line\":{\"color\":\"#E5ECF6\",\"width\":0.5},\"pattern\":{\"fillmode\":\"overlay\",\"size\":10,\"solidity\":0.2}},\"type\":\"barpolar\"}],\"carpet\":[{\"aaxis\":{\"endlinecolor\":\"#2a3f5f\",\"gridcolor\":\"white\",\"linecolor\":\"white\",\"minorgridcolor\":\"white\",\"startlinecolor\":\"#2a3f5f\"},\"baxis\":{\"endlinecolor\":\"#2a3f5f\",\"gridcolor\":\"white\",\"linecolor\":\"white\",\"minorgridcolor\":\"white\",\"startlinecolor\":\"#2a3f5f\"},\"type\":\"carpet\"}],\"choropleth\":[{\"colorbar\":{\"outlinewidth\":0,\"ticks\":\"\"},\"type\":\"choropleth\"}],\"contour\":[{\"colorbar\":{\"outlinewidth\":0,\"ticks\":\"\"},\"colorscale\":[[0.0,\"#0d0887\"],[0.1111111111111111,\"#46039f\"],[0.2222222222222222,\"#7201a8\"],[0.3333333333333333,\"#9c179e\"],[0.4444444444444444,\"#bd3786\"],[0.5555555555555556,\"#d8576b\"],[0.6666666666666666,\"#ed7953\"],[0.7777777777777778,\"#fb9f3a\"],[0.8888888888888888,\"#fdca26\"],[1.0,\"#f0f921\"]],\"type\":\"contour\"}],\"contourcarpet\":[{\"colorbar\":{\"outlinewidth\":0,\"ticks\":\"\"},\"type\":\"contourcarpet\"}],\"heatmap\":[{\"colorbar\":{\"outlinewidth\":0,\"ticks\":\"\"},\"colorscale\":[[0.0,\"#0d0887\"],[0.1111111111111111,\"#46039f\"],[0.2222222222222222,\"#7201a8\"],[0.3333333333333333,\"#9c179e\"],[0.4444444444444444,\"#bd3786\"],[0.5555555555555556,\"#d8576b\"],[0.6666666666666666,\"#ed7953\"],[0.7777777777777778,\"#fb9f3a\"],[0.8888888888888888,\"#fdca26\"],[1.0,\"#f0f921\"]],\"type\":\"heatmap\"}],\"heatmapgl\":[{\"colorbar\":{\"outlinewidth\":0,\"ticks\":\"\"},\"colorscale\":[[0.0,\"#0d0887\"],[0.1111111111111111,\"#46039f\"],[0.2222222222222222,\"#7201a8\"],[0.3333333333333333,\"#9c179e\"],[0.4444444444444444,\"#bd3786\"],[0.5555555555555556,\"#d8576b\"],[0.6666666666666666,\"#ed7953\"],[0.7777777777777778,\"#fb9f3a\"],[0.8888888888888888,\"#fdca26\"],[1.0,\"#f0f921\"]],\"type\":\"heatmapgl\"}],\"histogram\":[{\"marker\":{\"pattern\":{\"fillmode\":\"overlay\",\"size\":10,\"solidity\":0.2}},\"type\":\"histogram\"}],\"histogram2d\":[{\"colorbar\":{\"outlinewidth\":0,\"ticks\":\"\"},\"colorscale\":[[0.0,\"#0d0887\"],[0.1111111111111111,\"#46039f\"],[0.2222222222222222,\"#7201a8\"],[0.3333333333333333,\"#9c179e\"],[0.4444444444444444,\"#bd3786\"],[0.5555555555555556,\"#d8576b\"],[0.6666666666666666,\"#ed7953\"],[0.7777777777777778,\"#fb9f3a\"],[0.8888888888888888,\"#fdca26\"],[1.0,\"#f0f921\"]],\"type\":\"histogram2d\"}],\"histogram2dcontour\":[{\"colorbar\":{\"outlinewidth\":0,\"ticks\":\"\"},\"colorscale\":[[0.0,\"#0d0887\"],[0.1111111111111111,\"#46039f\"],[0.2222222222222222,\"#7201a8\"],[0.3333333333333333,\"#9c179e\"],[0.4444444444444444,\"#bd3786\"],[0.5555555555555556,\"#d8576b\"],[0.6666666666666666,\"#ed7953\"],[0.7777777777777778,\"#fb9f3a\"],[0.8888888888888888,\"#fdca26\"],[1.0,\"#f0f921\"]],\"type\":\"histogram2dcontour\"}],\"mesh3d\":[{\"colorbar\":{\"outlinewidth\":0,\"ticks\":\"\"},\"type\":\"mesh3d\"}],\"parcoords\":[{\"line\":{\"colorbar\":{\"outlinewidth\":0,\"ticks\":\"\"}},\"type\":\"parcoords\"}],\"pie\":[{\"automargin\":true,\"type\":\"pie\"}],\"scatter\":[{\"marker\":{\"colorbar\":{\"outlinewidth\":0,\"ticks\":\"\"}},\"type\":\"scatter\"}],\"scatter3d\":[{\"line\":{\"colorbar\":{\"outlinewidth\":0,\"ticks\":\"\"}},\"marker\":{\"colorbar\":{\"outlinewidth\":0,\"ticks\":\"\"}},\"type\":\"scatter3d\"}],\"scattercarpet\":[{\"marker\":{\"colorbar\":{\"outlinewidth\":0,\"ticks\":\"\"}},\"type\":\"scattercarpet\"}],\"scattergeo\":[{\"marker\":{\"colorbar\":{\"outlinewidth\":0,\"ticks\":\"\"}},\"type\":\"scattergeo\"}],\"scattergl\":[{\"marker\":{\"colorbar\":{\"outlinewidth\":0,\"ticks\":\"\"}},\"type\":\"scattergl\"}],\"scattermapbox\":[{\"marker\":{\"colorbar\":{\"outlinewidth\":0,\"ticks\":\"\"}},\"type\":\"scattermapbox\"}],\"scatterpolar\":[{\"marker\":{\"colorbar\":{\"outlinewidth\":0,\"ticks\":\"\"}},\"type\":\"scatterpolar\"}],\"scatterpolargl\":[{\"marker\":{\"colorbar\":{\"outlinewidth\":0,\"ticks\":\"\"}},\"type\":\"scatterpolargl\"}],\"scatterternary\":[{\"marker\":{\"colorbar\":{\"outlinewidth\":0,\"ticks\":\"\"}},\"type\":\"scatterternary\"}],\"surface\":[{\"colorbar\":{\"outlinewidth\":0,\"ticks\":\"\"},\"colorscale\":[[0.0,\"#0d0887\"],[0.1111111111111111,\"#46039f\"],[0.2222222222222222,\"#7201a8\"],[0.3333333333333333,\"#9c179e\"],[0.4444444444444444,\"#bd3786\"],[0.5555555555555556,\"#d8576b\"],[0.6666666666666666,\"#ed7953\"],[0.7777777777777778,\"#fb9f3a\"],[0.8888888888888888,\"#fdca26\"],[1.0,\"#f0f921\"]],\"type\":\"surface\"}],\"table\":[{\"cells\":{\"fill\":{\"color\":\"#EBF0F8\"},\"line\":{\"color\":\"white\"}},\"header\":{\"fill\":{\"color\":\"#C8D4E3\"},\"line\":{\"color\":\"white\"}},\"type\":\"table\"}]},\"layout\":{\"annotationdefaults\":{\"arrowcolor\":\"#2a3f5f\",\"arrowhead\":0,\"arrowwidth\":1},\"autotypenumbers\":\"strict\",\"coloraxis\":{\"colorbar\":{\"outlinewidth\":0,\"ticks\":\"\"}},\"colorscale\":{\"diverging\":[[0,\"#8e0152\"],[0.1,\"#c51b7d\"],[0.2,\"#de77ae\"],[0.3,\"#f1b6da\"],[0.4,\"#fde0ef\"],[0.5,\"#f7f7f7\"],[0.6,\"#e6f5d0\"],[0.7,\"#b8e186\"],[0.8,\"#7fbc41\"],[0.9,\"#4d9221\"],[1,\"#276419\"]],\"sequential\":[[0.0,\"#0d0887\"],[0.1111111111111111,\"#46039f\"],[0.2222222222222222,\"#7201a8\"],[0.3333333333333333,\"#9c179e\"],[0.4444444444444444,\"#bd3786\"],[0.5555555555555556,\"#d8576b\"],[0.6666666666666666,\"#ed7953\"],[0.7777777777777778,\"#fb9f3a\"],[0.8888888888888888,\"#fdca26\"],[1.0,\"#f0f921\"]],\"sequentialminus\":[[0.0,\"#0d0887\"],[0.1111111111111111,\"#46039f\"],[0.2222222222222222,\"#7201a8\"],[0.3333333333333333,\"#9c179e\"],[0.4444444444444444,\"#bd3786\"],[0.5555555555555556,\"#d8576b\"],[0.6666666666666666,\"#ed7953\"],[0.7777777777777778,\"#fb9f3a\"],[0.8888888888888888,\"#fdca26\"],[1.0,\"#f0f921\"]]},\"colorway\":[\"#636efa\",\"#EF553B\",\"#00cc96\",\"#ab63fa\",\"#FFA15A\",\"#19d3f3\",\"#FF6692\",\"#B6E880\",\"#FF97FF\",\"#FECB52\"],\"font\":{\"color\":\"#2a3f5f\"},\"geo\":{\"bgcolor\":\"white\",\"lakecolor\":\"white\",\"landcolor\":\"#E5ECF6\",\"showlakes\":true,\"showland\":true,\"subunitcolor\":\"white\"},\"hoverlabel\":{\"align\":\"left\"},\"hovermode\":\"closest\",\"mapbox\":{\"style\":\"light\"},\"paper_bgcolor\":\"white\",\"plot_bgcolor\":\"#E5ECF6\",\"polar\":{\"angularaxis\":{\"gridcolor\":\"white\",\"linecolor\":\"white\",\"ticks\":\"\"},\"bgcolor\":\"#E5ECF6\",\"radialaxis\":{\"gridcolor\":\"white\",\"linecolor\":\"white\",\"ticks\":\"\"}},\"scene\":{\"xaxis\":{\"backgroundcolor\":\"#E5ECF6\",\"gridcolor\":\"white\",\"gridwidth\":2,\"linecolor\":\"white\",\"showbackground\":true,\"ticks\":\"\",\"zerolinecolor\":\"white\"},\"yaxis\":{\"backgroundcolor\":\"#E5ECF6\",\"gridcolor\":\"white\",\"gridwidth\":2,\"linecolor\":\"white\",\"showbackground\":true,\"ticks\":\"\",\"zerolinecolor\":\"white\"},\"zaxis\":{\"backgroundcolor\":\"#E5ECF6\",\"gridcolor\":\"white\",\"gridwidth\":2,\"linecolor\":\"white\",\"showbackground\":true,\"ticks\":\"\",\"zerolinecolor\":\"white\"}},\"shapedefaults\":{\"line\":{\"color\":\"#2a3f5f\"}},\"ternary\":{\"aaxis\":{\"gridcolor\":\"white\",\"linecolor\":\"white\",\"ticks\":\"\"},\"baxis\":{\"gridcolor\":\"white\",\"linecolor\":\"white\",\"ticks\":\"\"},\"bgcolor\":\"#E5ECF6\",\"caxis\":{\"gridcolor\":\"white\",\"linecolor\":\"white\",\"ticks\":\"\"}},\"title\":{\"x\":0.05},\"xaxis\":{\"automargin\":true,\"gridcolor\":\"white\",\"linecolor\":\"white\",\"ticks\":\"\",\"title\":{\"standoff\":15},\"zerolinecolor\":\"white\",\"zerolinewidth\":2},\"yaxis\":{\"automargin\":true,\"gridcolor\":\"white\",\"linecolor\":\"white\",\"ticks\":\"\",\"title\":{\"standoff\":15},\"zerolinecolor\":\"white\",\"zerolinewidth\":2}}}},                        {\"responsive\": true}                    ).then(function(){\n",
              "                            \n",
              "var gd = document.getElementById('16596e77-500d-4b6e-8b41-4b8dee2e0ac0');\n",
              "var x = new MutationObserver(function (mutations, observer) {{\n",
              "        var display = window.getComputedStyle(gd).display;\n",
              "        if (!display || display === 'none') {{\n",
              "            console.log([gd, 'removed!']);\n",
              "            Plotly.purge(gd);\n",
              "            observer.disconnect();\n",
              "        }}\n",
              "}});\n",
              "\n",
              "// Listen for the removal of the full notebook cells\n",
              "var notebookContainer = gd.closest('#notebook-container');\n",
              "if (notebookContainer) {{\n",
              "    x.observe(notebookContainer, {childList: true});\n",
              "}}\n",
              "\n",
              "// Listen for the clearing of the current output cell\n",
              "var outputEl = gd.closest('.output');\n",
              "if (outputEl) {{\n",
              "    x.observe(outputEl, {childList: true});\n",
              "}}\n",
              "\n",
              "                        })                };                            </script>        </div>\n",
              "</body>\n",
              "</html>"
            ]
          },
          "metadata": {}
        }
      ]
    },
    {
      "cell_type": "code",
      "source": [
        "optuna.visualization.plot_slice(study, params=[\"optimizer\"])"
      ],
      "metadata": {
        "id": "Ki4PJevr-0I-",
        "outputId": "fe17a3ef-7960-4b82-93f3-b49a914862c7",
        "colab": {
          "base_uri": "https://localhost:8080/",
          "height": 542
        }
      },
      "execution_count": 17,
      "outputs": [
        {
          "output_type": "display_data",
          "data": {
            "text/html": [
              "<html>\n",
              "<head><meta charset=\"utf-8\" /></head>\n",
              "<body>\n",
              "    <div>            <script src=\"https://cdnjs.cloudflare.com/ajax/libs/mathjax/2.7.5/MathJax.js?config=TeX-AMS-MML_SVG\"></script><script type=\"text/javascript\">if (window.MathJax) {MathJax.Hub.Config({SVG: {font: \"STIX-Web\"}});}</script>                <script type=\"text/javascript\">window.PlotlyConfig = {MathJaxConfig: 'local'};</script>\n",
              "        <script src=\"https://cdn.plot.ly/plotly-2.8.3.min.js\"></script>                <div id=\"b02d4832-ecdf-4f78-b303-3796205d5332\" class=\"plotly-graph-div\" style=\"height:525px; width:100%;\"></div>            <script type=\"text/javascript\">                                    window.PLOTLYENV=window.PLOTLYENV || {};                                    if (document.getElementById(\"b02d4832-ecdf-4f78-b303-3796205d5332\")) {                    Plotly.newPlot(                        \"b02d4832-ecdf-4f78-b303-3796205d5332\",                        [{\"marker\":{\"color\":[0,1,2,3,4,13,17,18,19,21,22,23,25,28,32,37,41,43,52,61,64,71,72,73,93],\"colorbar\":{\"title\":{\"text\":\"#Trials\"},\"x\":1.0,\"xpad\":40},\"colorscale\":[[0.0,\"rgb(247,251,255)\"],[0.125,\"rgb(222,235,247)\"],[0.25,\"rgb(198,219,239)\"],[0.375,\"rgb(158,202,225)\"],[0.5,\"rgb(107,174,214)\"],[0.625,\"rgb(66,146,198)\"],[0.75,\"rgb(33,113,181)\"],[0.875,\"rgb(8,81,156)\"],[1.0,\"rgb(8,48,107)\"]],\"line\":{\"color\":\"Grey\",\"width\":0.5}},\"mode\":\"markers\",\"showlegend\":false,\"x\":[\"Adam\",\"SGD\",\"SGD\",\"RMSprop\",\"SGD\",\"Adam\",\"Adam\",\"Adam\",\"Adam\",\"Adam\",\"Adam\",\"Adam\",\"RMSprop\",\"Adam\",\"Adam\",\"Adam\",\"Adam\",\"Adam\",\"Adam\",\"Adam\",\"Adam\",\"Adam\",\"Adam\",\"Adam\",\"Adam\"],\"y\":[-0.09817567467689514,1.126522421836853,0.5077604055404663,1.4208991527557373,0.3188644051551819,-0.4891915023326874,-0.25608718395233154,-0.8356237411499023,0.046543508768081665,-1.098836898803711,-0.8742569088935852,-0.9368172287940979,-0.4934235215187073,-0.5876665115356445,-0.7169528007507324,-0.5789490342140198,-0.9932878017425537,-0.7497150897979736,-0.8722430467605591,-0.5412473678588867,-0.43591588735580444,-0.8541795015335083,-0.9729646444320679,-0.896338939666748,-0.9738860726356506],\"type\":\"scatter\"}],                        {\"title\":{\"text\":\"Slice Plot\"},\"template\":{\"data\":{\"bar\":[{\"error_x\":{\"color\":\"#2a3f5f\"},\"error_y\":{\"color\":\"#2a3f5f\"},\"marker\":{\"line\":{\"color\":\"#E5ECF6\",\"width\":0.5},\"pattern\":{\"fillmode\":\"overlay\",\"size\":10,\"solidity\":0.2}},\"type\":\"bar\"}],\"barpolar\":[{\"marker\":{\"line\":{\"color\":\"#E5ECF6\",\"width\":0.5},\"pattern\":{\"fillmode\":\"overlay\",\"size\":10,\"solidity\":0.2}},\"type\":\"barpolar\"}],\"carpet\":[{\"aaxis\":{\"endlinecolor\":\"#2a3f5f\",\"gridcolor\":\"white\",\"linecolor\":\"white\",\"minorgridcolor\":\"white\",\"startlinecolor\":\"#2a3f5f\"},\"baxis\":{\"endlinecolor\":\"#2a3f5f\",\"gridcolor\":\"white\",\"linecolor\":\"white\",\"minorgridcolor\":\"white\",\"startlinecolor\":\"#2a3f5f\"},\"type\":\"carpet\"}],\"choropleth\":[{\"colorbar\":{\"outlinewidth\":0,\"ticks\":\"\"},\"type\":\"choropleth\"}],\"contour\":[{\"colorbar\":{\"outlinewidth\":0,\"ticks\":\"\"},\"colorscale\":[[0.0,\"#0d0887\"],[0.1111111111111111,\"#46039f\"],[0.2222222222222222,\"#7201a8\"],[0.3333333333333333,\"#9c179e\"],[0.4444444444444444,\"#bd3786\"],[0.5555555555555556,\"#d8576b\"],[0.6666666666666666,\"#ed7953\"],[0.7777777777777778,\"#fb9f3a\"],[0.8888888888888888,\"#fdca26\"],[1.0,\"#f0f921\"]],\"type\":\"contour\"}],\"contourcarpet\":[{\"colorbar\":{\"outlinewidth\":0,\"ticks\":\"\"},\"type\":\"contourcarpet\"}],\"heatmap\":[{\"colorbar\":{\"outlinewidth\":0,\"ticks\":\"\"},\"colorscale\":[[0.0,\"#0d0887\"],[0.1111111111111111,\"#46039f\"],[0.2222222222222222,\"#7201a8\"],[0.3333333333333333,\"#9c179e\"],[0.4444444444444444,\"#bd3786\"],[0.5555555555555556,\"#d8576b\"],[0.6666666666666666,\"#ed7953\"],[0.7777777777777778,\"#fb9f3a\"],[0.8888888888888888,\"#fdca26\"],[1.0,\"#f0f921\"]],\"type\":\"heatmap\"}],\"heatmapgl\":[{\"colorbar\":{\"outlinewidth\":0,\"ticks\":\"\"},\"colorscale\":[[0.0,\"#0d0887\"],[0.1111111111111111,\"#46039f\"],[0.2222222222222222,\"#7201a8\"],[0.3333333333333333,\"#9c179e\"],[0.4444444444444444,\"#bd3786\"],[0.5555555555555556,\"#d8576b\"],[0.6666666666666666,\"#ed7953\"],[0.7777777777777778,\"#fb9f3a\"],[0.8888888888888888,\"#fdca26\"],[1.0,\"#f0f921\"]],\"type\":\"heatmapgl\"}],\"histogram\":[{\"marker\":{\"pattern\":{\"fillmode\":\"overlay\",\"size\":10,\"solidity\":0.2}},\"type\":\"histogram\"}],\"histogram2d\":[{\"colorbar\":{\"outlinewidth\":0,\"ticks\":\"\"},\"colorscale\":[[0.0,\"#0d0887\"],[0.1111111111111111,\"#46039f\"],[0.2222222222222222,\"#7201a8\"],[0.3333333333333333,\"#9c179e\"],[0.4444444444444444,\"#bd3786\"],[0.5555555555555556,\"#d8576b\"],[0.6666666666666666,\"#ed7953\"],[0.7777777777777778,\"#fb9f3a\"],[0.8888888888888888,\"#fdca26\"],[1.0,\"#f0f921\"]],\"type\":\"histogram2d\"}],\"histogram2dcontour\":[{\"colorbar\":{\"outlinewidth\":0,\"ticks\":\"\"},\"colorscale\":[[0.0,\"#0d0887\"],[0.1111111111111111,\"#46039f\"],[0.2222222222222222,\"#7201a8\"],[0.3333333333333333,\"#9c179e\"],[0.4444444444444444,\"#bd3786\"],[0.5555555555555556,\"#d8576b\"],[0.6666666666666666,\"#ed7953\"],[0.7777777777777778,\"#fb9f3a\"],[0.8888888888888888,\"#fdca26\"],[1.0,\"#f0f921\"]],\"type\":\"histogram2dcontour\"}],\"mesh3d\":[{\"colorbar\":{\"outlinewidth\":0,\"ticks\":\"\"},\"type\":\"mesh3d\"}],\"parcoords\":[{\"line\":{\"colorbar\":{\"outlinewidth\":0,\"ticks\":\"\"}},\"type\":\"parcoords\"}],\"pie\":[{\"automargin\":true,\"type\":\"pie\"}],\"scatter\":[{\"marker\":{\"colorbar\":{\"outlinewidth\":0,\"ticks\":\"\"}},\"type\":\"scatter\"}],\"scatter3d\":[{\"line\":{\"colorbar\":{\"outlinewidth\":0,\"ticks\":\"\"}},\"marker\":{\"colorbar\":{\"outlinewidth\":0,\"ticks\":\"\"}},\"type\":\"scatter3d\"}],\"scattercarpet\":[{\"marker\":{\"colorbar\":{\"outlinewidth\":0,\"ticks\":\"\"}},\"type\":\"scattercarpet\"}],\"scattergeo\":[{\"marker\":{\"colorbar\":{\"outlinewidth\":0,\"ticks\":\"\"}},\"type\":\"scattergeo\"}],\"scattergl\":[{\"marker\":{\"colorbar\":{\"outlinewidth\":0,\"ticks\":\"\"}},\"type\":\"scattergl\"}],\"scattermapbox\":[{\"marker\":{\"colorbar\":{\"outlinewidth\":0,\"ticks\":\"\"}},\"type\":\"scattermapbox\"}],\"scatterpolar\":[{\"marker\":{\"colorbar\":{\"outlinewidth\":0,\"ticks\":\"\"}},\"type\":\"scatterpolar\"}],\"scatterpolargl\":[{\"marker\":{\"colorbar\":{\"outlinewidth\":0,\"ticks\":\"\"}},\"type\":\"scatterpolargl\"}],\"scatterternary\":[{\"marker\":{\"colorbar\":{\"outlinewidth\":0,\"ticks\":\"\"}},\"type\":\"scatterternary\"}],\"surface\":[{\"colorbar\":{\"outlinewidth\":0,\"ticks\":\"\"},\"colorscale\":[[0.0,\"#0d0887\"],[0.1111111111111111,\"#46039f\"],[0.2222222222222222,\"#7201a8\"],[0.3333333333333333,\"#9c179e\"],[0.4444444444444444,\"#bd3786\"],[0.5555555555555556,\"#d8576b\"],[0.6666666666666666,\"#ed7953\"],[0.7777777777777778,\"#fb9f3a\"],[0.8888888888888888,\"#fdca26\"],[1.0,\"#f0f921\"]],\"type\":\"surface\"}],\"table\":[{\"cells\":{\"fill\":{\"color\":\"#EBF0F8\"},\"line\":{\"color\":\"white\"}},\"header\":{\"fill\":{\"color\":\"#C8D4E3\"},\"line\":{\"color\":\"white\"}},\"type\":\"table\"}]},\"layout\":{\"annotationdefaults\":{\"arrowcolor\":\"#2a3f5f\",\"arrowhead\":0,\"arrowwidth\":1},\"autotypenumbers\":\"strict\",\"coloraxis\":{\"colorbar\":{\"outlinewidth\":0,\"ticks\":\"\"}},\"colorscale\":{\"diverging\":[[0,\"#8e0152\"],[0.1,\"#c51b7d\"],[0.2,\"#de77ae\"],[0.3,\"#f1b6da\"],[0.4,\"#fde0ef\"],[0.5,\"#f7f7f7\"],[0.6,\"#e6f5d0\"],[0.7,\"#b8e186\"],[0.8,\"#7fbc41\"],[0.9,\"#4d9221\"],[1,\"#276419\"]],\"sequential\":[[0.0,\"#0d0887\"],[0.1111111111111111,\"#46039f\"],[0.2222222222222222,\"#7201a8\"],[0.3333333333333333,\"#9c179e\"],[0.4444444444444444,\"#bd3786\"],[0.5555555555555556,\"#d8576b\"],[0.6666666666666666,\"#ed7953\"],[0.7777777777777778,\"#fb9f3a\"],[0.8888888888888888,\"#fdca26\"],[1.0,\"#f0f921\"]],\"sequentialminus\":[[0.0,\"#0d0887\"],[0.1111111111111111,\"#46039f\"],[0.2222222222222222,\"#7201a8\"],[0.3333333333333333,\"#9c179e\"],[0.4444444444444444,\"#bd3786\"],[0.5555555555555556,\"#d8576b\"],[0.6666666666666666,\"#ed7953\"],[0.7777777777777778,\"#fb9f3a\"],[0.8888888888888888,\"#fdca26\"],[1.0,\"#f0f921\"]]},\"colorway\":[\"#636efa\",\"#EF553B\",\"#00cc96\",\"#ab63fa\",\"#FFA15A\",\"#19d3f3\",\"#FF6692\",\"#B6E880\",\"#FF97FF\",\"#FECB52\"],\"font\":{\"color\":\"#2a3f5f\"},\"geo\":{\"bgcolor\":\"white\",\"lakecolor\":\"white\",\"landcolor\":\"#E5ECF6\",\"showlakes\":true,\"showland\":true,\"subunitcolor\":\"white\"},\"hoverlabel\":{\"align\":\"left\"},\"hovermode\":\"closest\",\"mapbox\":{\"style\":\"light\"},\"paper_bgcolor\":\"white\",\"plot_bgcolor\":\"#E5ECF6\",\"polar\":{\"angularaxis\":{\"gridcolor\":\"white\",\"linecolor\":\"white\",\"ticks\":\"\"},\"bgcolor\":\"#E5ECF6\",\"radialaxis\":{\"gridcolor\":\"white\",\"linecolor\":\"white\",\"ticks\":\"\"}},\"scene\":{\"xaxis\":{\"backgroundcolor\":\"#E5ECF6\",\"gridcolor\":\"white\",\"gridwidth\":2,\"linecolor\":\"white\",\"showbackground\":true,\"ticks\":\"\",\"zerolinecolor\":\"white\"},\"yaxis\":{\"backgroundcolor\":\"#E5ECF6\",\"gridcolor\":\"white\",\"gridwidth\":2,\"linecolor\":\"white\",\"showbackground\":true,\"ticks\":\"\",\"zerolinecolor\":\"white\"},\"zaxis\":{\"backgroundcolor\":\"#E5ECF6\",\"gridcolor\":\"white\",\"gridwidth\":2,\"linecolor\":\"white\",\"showbackground\":true,\"ticks\":\"\",\"zerolinecolor\":\"white\"}},\"shapedefaults\":{\"line\":{\"color\":\"#2a3f5f\"}},\"ternary\":{\"aaxis\":{\"gridcolor\":\"white\",\"linecolor\":\"white\",\"ticks\":\"\"},\"baxis\":{\"gridcolor\":\"white\",\"linecolor\":\"white\",\"ticks\":\"\"},\"bgcolor\":\"#E5ECF6\",\"caxis\":{\"gridcolor\":\"white\",\"linecolor\":\"white\",\"ticks\":\"\"}},\"title\":{\"x\":0.05},\"xaxis\":{\"automargin\":true,\"gridcolor\":\"white\",\"linecolor\":\"white\",\"ticks\":\"\",\"title\":{\"standoff\":15},\"zerolinecolor\":\"white\",\"zerolinewidth\":2},\"yaxis\":{\"automargin\":true,\"gridcolor\":\"white\",\"linecolor\":\"white\",\"ticks\":\"\",\"title\":{\"standoff\":15},\"zerolinecolor\":\"white\",\"zerolinewidth\":2}}},\"xaxis\":{\"title\":{\"text\":\"optimizer\"}},\"yaxis\":{\"title\":{\"text\":\"Objective Value\"}}},                        {\"responsive\": true}                    ).then(function(){\n",
              "                            \n",
              "var gd = document.getElementById('b02d4832-ecdf-4f78-b303-3796205d5332');\n",
              "var x = new MutationObserver(function (mutations, observer) {{\n",
              "        var display = window.getComputedStyle(gd).display;\n",
              "        if (!display || display === 'none') {{\n",
              "            console.log([gd, 'removed!']);\n",
              "            Plotly.purge(gd);\n",
              "            observer.disconnect();\n",
              "        }}\n",
              "}});\n",
              "\n",
              "// Listen for the removal of the full notebook cells\n",
              "var notebookContainer = gd.closest('#notebook-container');\n",
              "if (notebookContainer) {{\n",
              "    x.observe(notebookContainer, {childList: true});\n",
              "}}\n",
              "\n",
              "// Listen for the clearing of the current output cell\n",
              "var outputEl = gd.closest('.output');\n",
              "if (outputEl) {{\n",
              "    x.observe(outputEl, {childList: true});\n",
              "}}\n",
              "\n",
              "                        })                };                            </script>        </div>\n",
              "</body>\n",
              "</html>"
            ]
          },
          "metadata": {}
        }
      ]
    },
    {
      "cell_type": "code",
      "source": [
        ""
      ],
      "metadata": {
        "id": "AspG0o5Tfuvp"
      },
      "execution_count": null,
      "outputs": []
    }
  ],
  "metadata": {
    "accelerator": "GPU",
    "colab": {
      "collapsed_sections": [],
      "machine_shape": "hm",
      "name": "synthetic_data_interpolation.ipynb",
      "provenance": []
    },
    "kernelspec": {
      "display_name": "Python 3 (ipykernel)",
      "language": "python",
      "name": "python3"
    },
    "language_info": {
      "codemirror_mode": {
        "name": "ipython",
        "version": 3
      },
      "file_extension": ".py",
      "mimetype": "text/x-python",
      "name": "python",
      "nbconvert_exporter": "python",
      "pygments_lexer": "ipython3",
      "version": "3.9.2"
    }
  },
  "nbformat": 4,
  "nbformat_minor": 0
}