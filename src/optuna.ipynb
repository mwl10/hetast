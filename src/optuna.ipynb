{
  "cells": [
    {
      "cell_type": "code",
      "execution_count": null,
      "metadata": {
        "colab": {
          "base_uri": "https://localhost:8080/"
        },
        "id": "xSKtH8WGhoBo",
        "outputId": "f9668e91-571a-477e-fe89-733ad53d9e28"
      },
      "outputs": [
        {
          "output_type": "stream",
          "name": "stdout",
          "text": [
            "Cloning into 'hetvae'...\n",
            "remote: Enumerating objects: 2117, done.\u001b[K\n",
            "remote: Counting objects: 100% (257/257), done.\u001b[K\n",
            "remote: Compressing objects: 100% (101/101), done.\u001b[K\n",
            "remote: Total 2117 (delta 176), reused 226 (delta 156), pack-reused 1860\u001b[K\n",
            "Receiving objects: 100% (2117/2117), 26.67 MiB | 30.62 MiB/s, done.\n",
            "Resolving deltas: 100% (779/779), done.\n",
            "Looking in indexes: https://pypi.org/simple, https://us-python.pkg.dev/colab-wheels/public/simple/\n",
            "Requirement already satisfied: alembic==1.7.7 in /usr/local/lib/python3.7/dist-packages (from -r requirements.txt (line 1)) (1.7.7)\n",
            "Requirement already satisfied: attrs==21.4.0 in /usr/local/lib/python3.7/dist-packages (from -r requirements.txt (line 2)) (21.4.0)\n",
            "Requirement already satisfied: autopage==0.5.0 in /usr/local/lib/python3.7/dist-packages (from -r requirements.txt (line 3)) (0.5.0)\n",
            "Requirement already satisfied: backports.functools-lru-cache==1.6.4 in /usr/local/lib/python3.7/dist-packages (from -r requirements.txt (line 4)) (1.6.4)\n",
            "Requirement already satisfied: cliff==3.10.1 in /usr/local/lib/python3.7/dist-packages (from -r requirements.txt (line 5)) (3.10.1)\n",
            "Requirement already satisfied: cmaes==0.8.2 in /usr/local/lib/python3.7/dist-packages (from -r requirements.txt (line 6)) (0.8.2)\n",
            "Requirement already satisfied: cmd2==2.3.3 in /usr/local/lib/python3.7/dist-packages (from -r requirements.txt (line 7)) (2.3.3)\n",
            "Requirement already satisfied: colorama==0.4.4 in /usr/local/lib/python3.7/dist-packages (from -r requirements.txt (line 8)) (0.4.4)\n",
            "Requirement already satisfied: colorlog==6.6.0 in /usr/local/lib/python3.7/dist-packages (from -r requirements.txt (line 9)) (6.6.0)\n",
            "Requirement already satisfied: greenlet==1.1.2 in /usr/local/lib/python3.7/dist-packages (from -r requirements.txt (line 10)) (1.1.2)\n",
            "Requirement already satisfied: importlib-metadata==4.11.4 in /usr/local/lib/python3.7/dist-packages (from -r requirements.txt (line 11)) (4.11.4)\n",
            "Requirement already satisfied: importlib-resources==5.7.1 in /usr/local/lib/python3.7/dist-packages (from -r requirements.txt (line 12)) (5.7.1)\n",
            "Requirement already satisfied: Mako==1.2.0 in /usr/local/lib/python3.7/dist-packages (from -r requirements.txt (line 13)) (1.2.0)\n",
            "Requirement already satisfied: MarkupSafe==2.1.1 in /usr/local/lib/python3.7/dist-packages (from -r requirements.txt (line 14)) (2.1.1)\n",
            "Requirement already satisfied: numpy==1.21.0 in /usr/local/lib/python3.7/dist-packages (from -r requirements.txt (line 15)) (1.21.0)\n",
            "Requirement already satisfied: optuna==2.10.0 in /usr/local/lib/python3.7/dist-packages (from -r requirements.txt (line 16)) (2.10.0)\n",
            "Requirement already satisfied: packaging==21.3 in /usr/local/lib/python3.7/dist-packages (from -r requirements.txt (line 17)) (21.3)\n",
            "Requirement already satisfied: pbr==5.9.0 in /usr/local/lib/python3.7/dist-packages (from -r requirements.txt (line 18)) (5.9.0)\n",
            "Requirement already satisfied: pip==22.1.1 in /usr/local/lib/python3.7/dist-packages (from -r requirements.txt (line 19)) (22.1.1)\n",
            "Requirement already satisfied: prettytable==3.3.0 in /usr/local/lib/python3.7/dist-packages (from -r requirements.txt (line 20)) (3.3.0)\n",
            "Requirement already satisfied: pyparsing==3.0.9 in /usr/local/lib/python3.7/dist-packages (from -r requirements.txt (line 21)) (3.0.9)\n",
            "Requirement already satisfied: pyperclip==1.8.2 in /usr/local/lib/python3.7/dist-packages (from -r requirements.txt (line 22)) (1.8.2)\n",
            "Requirement already satisfied: PyYAML==6.0 in /usr/local/lib/python3.7/dist-packages (from -r requirements.txt (line 23)) (6.0)\n",
            "Requirement already satisfied: scipy==1.7.3 in /usr/local/lib/python3.7/dist-packages (from -r requirements.txt (line 24)) (1.7.3)\n",
            "Requirement already satisfied: setuptools==62.3.2 in /usr/local/lib/python3.7/dist-packages (from -r requirements.txt (line 25)) (62.3.2)\n",
            "Requirement already satisfied: SQLAlchemy==1.4.36 in /usr/local/lib/python3.7/dist-packages (from -r requirements.txt (line 26)) (1.4.36)\n",
            "Requirement already satisfied: stevedore==3.5.0 in /usr/local/lib/python3.7/dist-packages (from -r requirements.txt (line 27)) (3.5.0)\n",
            "Requirement already satisfied: tqdm==4.64.0 in /usr/local/lib/python3.7/dist-packages (from -r requirements.txt (line 28)) (4.64.0)\n",
            "Requirement already satisfied: wcwidth==0.2.5 in /usr/local/lib/python3.7/dist-packages (from -r requirements.txt (line 29)) (0.2.5)\n",
            "Requirement already satisfied: wheel==0.37.1 in /usr/local/lib/python3.7/dist-packages (from -r requirements.txt (line 30)) (0.37.1)\n",
            "Requirement already satisfied: zipp==3.8.0 in /usr/local/lib/python3.7/dist-packages (from -r requirements.txt (line 31)) (3.8.0)\n",
            "Requirement already satisfied: typing-extensions in /usr/local/lib/python3.7/dist-packages (from cmd2==2.3.3->-r requirements.txt (line 7)) (4.2.0)\n",
            "\u001b[33mWARNING: Running pip as the 'root' user can result in broken permissions and conflicting behaviour with the system package manager. It is recommended to use a virtual environment instead: https://pip.pypa.io/warnings/venv\u001b[0m\u001b[33m\n",
            "\u001b[0m"
          ]
        }
      ],
      "source": [
        "import os\n",
        "import shutil\n",
        "os.chdir('/content')\n",
        "! git clone --branch errors https://github.com/mwl10/hetvae\n",
        "os.chdir('/content/hetvae')\n",
        "! pip install -r requirements.txt\n",
        "os.chdir('/content/hetvae/src')\n",
        "import numpy as np\n",
        "import torch\n",
        "import optuna\n",
        "from optuna.trial import TrialState\n",
        "import torch.optim as optim\n",
        "import models\n",
        "from argparse import Namespace\n",
        "import torch.optim as optim\n",
        "import utils\n",
        "import my_utils\n",
        "import pandas as pd\n",
        "import importlib\n",
        "import vae_models\n",
        "import matplotlib.pyplot as plt\n",
        "import sys\n",
        "from dataset import DataSet\n",
        "%matplotlib inline"
      ]
    },
    {
      "cell_type": "markdown",
      "metadata": {
        "id": "MNNdXvW2enKy"
      },
      "source": [
        "##Pick your poison:"
      ]
    },
    {
      "cell_type": "code",
      "execution_count": null,
      "metadata": {
        "id": "4PGcCNnGeRAS",
        "colab": {
          "base_uri": "https://localhost:8080/"
        },
        "outputId": "b19fe13a-673f-413b-89f9-e7a2e61e89be"
      },
      "outputs": [
        {
          "output_type": "stream",
          "name": "stdout",
          "text": [
            "indexes of outliers to be pruned, if any: [600 601]\n",
            "indexes of outliers to be pruned, if any: []\n",
            "indexes of outliers to be pruned, if any: [418 583]\n",
            "indexes of outliers to be pruned, if any: []\n",
            "indexes of outliers to be pruned, if any: [ 98 205 260 261 554 555]\n",
            "generating 1 new sample of each example in the dataset & appending them \n",
            " old dataset length: 5\n",
            "new dataset length: 10\n",
            "created union_x attribute of length 2436\n",
            "zero fill all the examples up to the length of longest one given, dataset is also now a numpy array w shape: (10, 619, 3), instead of a list of numpy arrays\n",
            "created subsampled_mask & recon_mask instance attributes\n",
            "(2436,) (10, 619, 3) (10, 619) (10, 619)\n"
          ]
        },
        {
          "output_type": "stream",
          "name": "stderr",
          "text": [
            "/content/hetvae/src/dataset.py:153: RuntimeWarning:\n",
            "\n",
            "divide by zero encountered in true_divide\n",
            "\n"
          ]
        }
      ],
      "source": [
        "#------------------------------\n",
        "# AGN Preprocessing, we have a DF w/ OBJECT , FILTER, MJD, FLUX, ERROR\n",
        "#------------------------------\n",
        "\n",
        "def get_AGN_data(file):\n",
        "    agn_df = pd.read_csv(file)\n",
        "    # handle formatting for new AGN\n",
        "    lcs = []\n",
        "    for lc_df in agn_df.groupby('Filter'):\n",
        "        lc = lc_df[1][['MJD', 'Flux', 'Error']].to_numpy()\n",
        "        lcs.append(lc)\n",
        "\n",
        "    AGN_1H2106 = DataSet()\n",
        "    AGN_1H2106.dataset = lcs # skip add files part\n",
        "    AGN_1H2106 = AGN_1H2106.handle_dups().prune_outliers().resample_dataset(num_samples=1).normalize().reorder() \\\n",
        "        .set_union_x().zero_fill().error_to_sample_weight().make_masks(frac=0.5)\n",
        "\n",
        "    print(\n",
        "        AGN_1H2106.union_x.shape,\n",
        "        AGN_1H2106.dataset.shape,\n",
        "        AGN_1H2106.subsampled_mask.shape,\n",
        "        AGN_1H2106.recon_mask.shape\n",
        "      )\n",
        "\n",
        "    return AGN_1H2106\n",
        "\n",
        "AGN_1H2106 = get_AGN_data('/content/hetvae/data/AGN_1H2106-099/1H2106-099_latest_lcs_pyroa.csv')"
      ]
    },
    {
      "cell_type": "markdown",
      "metadata": {
        "id": "9AMjSKXYobJx"
      },
      "source": [
        "\n",
        "## Setting up arguments"
      ]
    },
    {
      "cell_type": "code",
      "execution_count": null,
      "metadata": {
        "id": "5b4ufWPlkpmN"
      },
      "outputs": [],
      "source": [
        "def define_model_args(trial):\n",
        "\n",
        "    args = Namespace(\n",
        "        batch_size = trial.suggest_categorical(\"batch_size\", [8,16,32]),\n",
        "        bound_variance = True,\n",
        "        const_var = False,\n",
        "        dataset='toy',\n",
        "        dropout = trial.suggest_float(\"dropout\", 0.0,0.5),\n",
        "        elbo_weight = trial.suggest_float(\"elbo_weight\", 0.0, 5.0),\n",
        "        embed_time = trial.suggest_categorical(\"embed_time\", [8,16,32,64,128]),\n",
        "        enc_num_heads=4,#trial.suggest_categorical(\"enc_num_heads\", [1,2,4,8,16]),\n",
        "        intensity=True,\n",
        "        k_iwae=1,\n",
        "        kl_annealing=False,#trial.suggest_categorical(\"kl_annealing\",False),\n",
        "        kl_zero=False, \n",
        "        latent_dim=trial.suggest_categorical(\"latent_dim\", [8,16,32,64,128]),\n",
        "        lr=trial.suggest_float(\"lr\", 1e-7, 1e-1, log=True),\n",
        "        mixing=trial.suggest_categorical(\"mixing\", [\"concat\", \"concat_and_mix\"]),#\"separate\", \"interp_only\", \"na\"]),\n",
        "        mse_weight=trial.suggest_float(\"mse_weight\",1,10),\n",
        "        n=trial.suggest_categorical(\"n\", [8,16,32,64,128]),\n",
        "        net='hetvae', \n",
        "        niters=1000, \n",
        "        norm=True, \n",
        "        normalize_input='znorm', \n",
        "        num_ref_points=trial.suggest_categorical(\"num_ref_points\", [8,16,32,64,128]),\n",
        "        rec_hidden=trial.suggest_categorical(\"rec_hidden\", [8,16,32,64,128]),\n",
        "        recon_loss=False, \n",
        "        sample_tp= trial.suggest_float(\"sample_tp\", 0.1,0.9), # will be ignored\n",
        "        save=True, \n",
        "        seed=0, \n",
        "        shuffle=True, \n",
        "        std=0.1, \n",
        "        var_per_dim=False, \n",
        "        width=trial.suggest_categorical(\"width\", [8,16,32,64,128])\n",
        "    )\n",
        "\n",
        "    return args\n",
        "\n"
      ]
    },
    {
      "cell_type": "code",
      "source": [
        "# FILES = glob('/content/hetvae/data/EDELSON/*')[:4]\n",
        "# Edelson = DataSet().add_files(FILES).files_to_numpy().handle_dups().prune_outliers().resample_dataset(num_samples=1) \\\n",
        "#         .normalize().set_union_x().zero_fill().make_masks(frac=0.5)\n",
        "\n",
        "# plt.scatter(Edelson.dataset[0,:-100,0], Edelson.dataset[0,:-100,1])\n",
        "        "
      ],
      "metadata": {
        "id": "zzUOUZlZW24Y",
        "outputId": "6451abab-ad63-470f-db4f-edfb98862cc8",
        "colab": {
          "base_uri": "https://localhost:8080/"
        }
      },
      "execution_count": null,
      "outputs": [
        {
          "output_type": "stream",
          "name": "stdout",
          "text": [
            "dims of /content/hetvae/data/EDELSON/NGC5548_SX.dat:\t(267, 3)\n",
            "dims of /content/hetvae/data/EDELSON/NGC5548_W1.dat:\t(260, 3)\n",
            "dims of /content/hetvae/data/EDELSON/NGC4593_W2.dat:\t(147, 3)\n",
            "dims of /content/hetvae/data/EDELSON/NGC5548_M2.dat:\t(248, 3)\n",
            "indexes of outliers to be pruned, if any: [ 87  96 102]\n",
            "indexes of outliers to be pruned, if any: []\n",
            "indexes of outliers to be pruned, if any: []\n",
            "indexes of outliers to be pruned, if any: []\n",
            "generating 1 new sample of each example in the dataset & appending them \n",
            " old dataset length: 4\n",
            "new dataset length: 8\n",
            "created union_x attribute of length 916\n",
            "zero fill all the examples up to the length of longest one given, dataset is also now a numpy array w shape: (8, 264, 3), instead of a list of numpy arrays\n",
            "created subsampled_mask & recon_mask instance attributes\n"
          ]
        }
      ]
    },
    {
      "cell_type": "markdown",
      "metadata": {
        "id": "Fu4NfxiUojxk"
      },
      "source": [
        "## **Generating Synthetic Data**"
      ]
    },
    {
      "cell_type": "markdown",
      "metadata": {
        "id": "udt437lzovHw"
      },
      "source": [
        "## **Loading HeTVAE model**"
      ]
    },
    {
      "cell_type": "code",
      "execution_count": null,
      "metadata": {
        "id": "q1voi00cj_5v"
      },
      "outputs": [],
      "source": [
        "EPOCHS = 100\n",
        "FILES = glob('/content/hetvae/data/EDELSON/*')[:4]\n",
        "#FILES = glob('/content/hetvae/data/CAT/*/*')[:50]\n",
        "\n",
        "\n",
        "DIM = 1\n",
        "# definitly want a decaying error rate...\n",
        "#scheduler = torch.optim.lr_scheduler.MultiStepLR(optimizer, milestones=[], gamma=0.1)\n"
      ]
    },
    {
      "cell_type": "code",
      "source": [
        "from contextlib import contextmanager\n",
        "import sys, os\n",
        "\n",
        "@contextmanager\n",
        "def suppress_stdout():\n",
        "    with open(os.devnull, \"w\") as devnull:\n",
        "        old_stdout = sys.stdout\n",
        "        sys.stdout = devnull\n",
        "        try:  \n",
        "            yield\n",
        "        finally:\n",
        "            sys.stdout = old_stdout"
      ],
      "metadata": {
        "id": "23nrrgfilIC8"
      },
      "execution_count": null,
      "outputs": []
    },
    {
      "cell_type": "code",
      "source": [
        "def objective(trial):\n",
        "\n",
        "    args = define_model_args(trial)\n",
        "\n",
        "    seed = args.seed\n",
        "    torch.manual_seed(seed)\n",
        "    np.random.seed(seed)\n",
        "    torch.cuda.manual_seed(seed)\n",
        "    device = torch.device('cuda' if torch.cuda.is_available() else 'cpu')\n",
        "\n",
        "    # dataset hyperparams\n",
        "    num_samples=trial.suggest_int(\"num_samples\", 1,10)\n",
        "\n",
        "    with suppress_stdout():\n",
        "        Edelson = DataSet().add_files(FILES).files_to_numpy().handle_dups().prune_outliers().resample_dataset(num_samples=num_samples) \\\n",
        "            .normalize().set_union_x().zero_fill().make_masks(frac=args.sample_tp)\n",
        "    \n",
        "    LightCurves = np.concatenate((Edelson.dataset, Edelson.subsampled_mask[:,:,np.newaxis], Edelson.recon_mask[:,:,np.newaxis]), axis=-1) # format the masks for the model \n",
        "\n",
        "    training, valid = np.split(LightCurves, [int(np.floor(0.8*len(LightCurves)))])# shuffle?\n",
        "    \n",
        "    \n",
        "    train_loader = torch.utils.data.DataLoader(training, batch_size=args.batch_size)\n",
        "    valid_loader = torch.utils.data.DataLoader(valid, batch_size=args.batch_size)\n",
        "    \n",
        "    \n",
        "    net = models.load_network(args, DIM, torch.Tensor(Edelson.union_x)) # , device=\"cuda\"\n",
        "    \n",
        "\n",
        "    optimizer_name = trial.suggest_categorical(\"optimizer\", [\"Adam\",\"RMSprop\", \"SGD\"])\n",
        "    optimizer = getattr(optim, optimizer_name)(net.parameters(), lr=args.lr)\n",
        "\n",
        "    for epoch in range(EPOCHS):\n",
        "        train(net, optimizer, epoch, train_loader, args, device=device)\n",
        "        nll_loss = my_utils.evaluate(net, valid_loader, device=device)\n",
        "        trial.report(nll_loss, epoch)\n",
        "        if trial.should_prune():\n",
        "            raise optuna.exceptions.TrialPruned()\n",
        "\n",
        "    return nll_loss\n"
      ],
      "metadata": {
        "id": "tr9mw7VxVAa1"
      },
      "execution_count": null,
      "outputs": []
    },
    {
      "cell_type": "code",
      "source": [
        "study = optuna.create_study(direction=\"minimize\")"
      ],
      "metadata": {
        "id": "WVA1Tl8WX7RY",
        "outputId": "bf7d5c1d-c0de-4334-ac7d-4e47a4b81b55",
        "colab": {
          "base_uri": "https://localhost:8080/"
        }
      },
      "execution_count": null,
      "outputs": [
        {
          "output_type": "stream",
          "name": "stderr",
          "text": [
            "\u001b[32m[I 2022-06-10 03:08:22,664]\u001b[0m A new study created in memory with name: no-name-7e1bf650-285d-419a-bbb2-fb1270169548\u001b[0m\n"
          ]
        }
      ]
    },
    {
      "cell_type": "code",
      "source": [
        "\n",
        "study.optimize(objective, n_trials=10, timeout=600)\n",
        "\n",
        "pruned_trials = study.get_trials(deepcopy=False, states=[TrialState.PRUNED])\n",
        "complete_trials = study.get_trials(deepcopy=False, states=[TrialState.COMPLETE])\n",
        "\n",
        "print(\"Study statistics: \")\n",
        "print(\"  Number of finished trials: \", len(study.trials))\n",
        "print(\"  Number of pruned trials: \", len(pruned_trials))\n",
        "print(\"  Number of complete trials: \", len(complete_trials))\n",
        "\n",
        "print(\"Best trial:\")\n",
        "trial = study.best_trial\n",
        "\n",
        "print(\"  Value: \", trial.value)\n",
        "\n",
        "print(\"  Params: \")\n",
        "for key, value in trial.params.items():\n",
        "    print(\"    {}: {}\".format(key, value))"
      ],
      "metadata": {
        "id": "q-BG4SImPz2m",
        "outputId": "72e273f0-34bb-49ba-ec25-4dfb8d5ebdd8",
        "colab": {
          "base_uri": "https://localhost:8080/"
        }
      },
      "execution_count": null,
      "outputs": [
        {
          "output_type": "stream",
          "name": "stdout",
          "text": [
            "Iter: 0, train loss: 14.4280, avg nll: 1.5245, avg kl: 3.7352, mse: 1.001322, mae: 0.814122\n"
          ]
        },
        {
          "output_type": "stream",
          "name": "stderr",
          "text": [
            "\u001b[32m[I 2022-06-10 03:09:01,942]\u001b[0m Trial 1 finished with value: 1.5205597877502441 and parameters: {'batch_size': 16, 'dropout': 0.3584898446379959, 'elbo_weight': 1.9500108393082172, 'embed_time': 8, 'latent_dim': 32, 'lr': 3.790321359941624e-05, 'mixing': 'concat_and_mix', 'mse_weight': 4.165954942901848, 'n': 32, 'num_ref_points': 128, 'rec_hidden': 128, 'sample_tp': 0.8718641180657247, 'width': 64, 'num_samples': 5, 'optimizer': 'RMSprop'}. Best is trial 0 with value: 1.0672093629837036.\u001b[0m\n"
          ]
        },
        {
          "output_type": "stream",
          "name": "stdout",
          "text": [
            "Iter: 0, train loss: 14.4490, avg nll: 1.7028, avg kl: 0.6470, mse: 1.040388, mae: 0.834601\n"
          ]
        },
        {
          "output_type": "stream",
          "name": "stderr",
          "text": [
            "\u001b[32m[I 2022-06-10 03:09:08,445]\u001b[0m Trial 2 finished with value: 1.4265978336334229 and parameters: {'batch_size': 8, 'dropout': 0.4870411714356534, 'elbo_weight': 2.3280819962947974, 'embed_time': 64, 'latent_dim': 16, 'lr': 7.051788610000135e-05, 'mixing': 'concat_and_mix', 'mse_weight': 8.629816449479689, 'n': 8, 'num_ref_points': 64, 'rec_hidden': 16, 'sample_tp': 0.6354847642839492, 'width': 8, 'num_samples': 8, 'optimizer': 'Adam'}. Best is trial 0 with value: 1.0672093629837036.\u001b[0m\n"
          ]
        },
        {
          "output_type": "stream",
          "name": "stdout",
          "text": [
            "Iter: 0, train loss: 12.6774, avg nll: 1.6251, avg kl: 0.1879, mse: 1.024311, mae: 0.826675\n"
          ]
        },
        {
          "output_type": "stream",
          "name": "stderr",
          "text": [
            "\u001b[32m[I 2022-06-10 03:09:11,983]\u001b[0m Trial 3 finished with value: 1.4761962890625 and parameters: {'batch_size': 32, 'dropout': 0.3410331378780182, 'elbo_weight': 1.798122796816437, 'embed_time': 8, 'latent_dim': 8, 'lr': 6.211248150857558e-05, 'mixing': 'concat', 'mse_weight': 9.19388396040583, 'n': 32, 'num_ref_points': 64, 'rec_hidden': 16, 'sample_tp': 0.3058674533782484, 'width': 32, 'num_samples': 8, 'optimizer': 'RMSprop'}. Best is trial 0 with value: 1.0672093629837036.\u001b[0m\n"
          ]
        },
        {
          "output_type": "stream",
          "name": "stdout",
          "text": [
            "Iter: 0, train loss: 15.0748, avg nll: 1.5454, avg kl: 0.0248, mse: 1.023456, mae: 0.828825\n"
          ]
        },
        {
          "output_type": "stream",
          "name": "stderr",
          "text": [
            "\u001b[32m[I 2022-06-10 03:09:14,487]\u001b[0m Trial 4 finished with value: 1.538629412651062 and parameters: {'batch_size': 16, 'dropout': 0.257735816043794, 'elbo_weight': 3.740239836252698, 'embed_time': 128, 'latent_dim': 8, 'lr': 1.5085404203925876e-06, 'mixing': 'concat_and_mix', 'mse_weight': 8.99102373112804, 'n': 32, 'num_ref_points': 16, 'rec_hidden': 128, 'sample_tp': 0.2750231019228281, 'width': 128, 'num_samples': 8, 'optimizer': 'Adam'}. Best is trial 0 with value: 1.0672093629837036.\u001b[0m\n"
          ]
        },
        {
          "output_type": "stream",
          "name": "stdout",
          "text": [
            "Iter: 0, train loss: 14.8171, avg nll: 1.5505, avg kl: 0.9868, mse: 1.041914, mae: 0.836992\n"
          ]
        },
        {
          "output_type": "stream",
          "name": "stderr",
          "text": [
            "\u001b[32m[I 2022-06-10 03:09:19,333]\u001b[0m Trial 5 pruned. \u001b[0m\n"
          ]
        },
        {
          "output_type": "stream",
          "name": "stdout",
          "text": [
            "Iter: 0, train loss: 10.9017, avg nll: 1.5528, avg kl: 0.3077, mse: 0.957809, mae: 0.801380\n"
          ]
        },
        {
          "output_type": "stream",
          "name": "stderr",
          "text": [
            "\u001b[32m[I 2022-06-10 03:09:22,617]\u001b[0m Trial 6 pruned. \u001b[0m\n",
            "\u001b[32m[I 2022-06-10 03:09:22,775]\u001b[0m Trial 7 pruned. \u001b[0m\n"
          ]
        },
        {
          "output_type": "stream",
          "name": "stdout",
          "text": [
            "Iter: 0, train loss: 14.1818, avg nll: 1.6084, avg kl: 1.0896, mse: 1.001631, mae: 0.814947\n",
            "Iter: 0, train loss: 10.0699, avg nll: 1.5266, avg kl: 1.0181, mse: 1.015380, mae: 0.826598\n"
          ]
        },
        {
          "output_type": "stream",
          "name": "stderr",
          "text": [
            "\u001b[32m[I 2022-06-10 03:09:33,736]\u001b[0m Trial 8 pruned. \u001b[0m\n",
            "\u001b[32m[I 2022-06-10 03:09:33,770]\u001b[0m Trial 9 pruned. \u001b[0m\n",
            "/usr/local/lib/python3.7/dist-packages/optuna/pruners/_percentile.py:21: RuntimeWarning: All-NaN slice encountered\n",
            "  return np.nanmin(values)\n",
            "\u001b[32m[I 2022-06-10 03:09:33,884]\u001b[0m Trial 10 pruned. \u001b[0m\n"
          ]
        },
        {
          "output_type": "stream",
          "name": "stdout",
          "text": [
            "Iter: 0, train loss: 8.3588, avg nll: 1.7227, avg kl: 0.2539, mse: 1.050212, mae: 0.837834\n",
            "Iter: 0, train loss: nan, avg nll: nan, avg kl: nan, mse: nan, mae: nan\n",
            "Study statistics: \n",
            "  Number of finished trials:  11\n",
            "  Number of pruned trials:  6\n",
            "  Number of complete trials:  5\n",
            "Best trial:\n",
            "  Value:  1.0672093629837036\n",
            "  Params: \n",
            "    batch_size: 16\n",
            "    dropout: 0.13813653865785686\n",
            "    elbo_weight: 0.9760706051679247\n",
            "    embed_time: 32\n",
            "    latent_dim: 128\n",
            "    lr: 0.000627218335170129\n",
            "    mixing: concat_and_mix\n",
            "    mse_weight: 4.005494040668514\n",
            "    n: 128\n",
            "    num_ref_points: 64\n",
            "    rec_hidden: 128\n",
            "    sample_tp: 0.4007998873024089\n",
            "    width: 128\n",
            "    num_samples: 6\n",
            "    optimizer: RMSprop\n"
          ]
        }
      ]
    },
    {
      "cell_type": "markdown",
      "metadata": {
        "id": "a58EIBLfnj3v"
      },
      "source": [
        "## **Training**"
      ]
    },
    {
      "cell_type": "markdown",
      "metadata": {
        "id": "JE78L00Flifr"
      },
      "source": [
        ""
      ]
    },
    {
      "cell_type": "code",
      "execution_count": null,
      "metadata": {
        "id": "wdgcWN0blrM3"
      },
      "outputs": [],
      "source": [
        "def train(net, optimizer,epoch, train_loader, args, device=\"cuda\"):\n",
        "      \n",
        "      train_loss = 0.\n",
        "      train_n = 0.\n",
        "      avg_loglik, avg_kl, mse, mae = 0., 0., 0., 0.\n",
        "      for i, train_batch in enumerate(train_loader):\n",
        "          batch_len = train_batch.shape[0] \n",
        "          train_batch = train_batch.to(device)\n",
        "          x = train_batch[:,:,0]\n",
        "          y = train_batch[:,:,1:2]\n",
        "          \n",
        "          subsampled_mask = train_batch[:,:,3:4]\n",
        "          recon_mask = train_batch[:,:,4:]\n",
        "          sample_weight = train_batch[:,:,2:3]\n",
        "          seqlen = train_batch.size(1) \n",
        "          # subsampled flux values and their corresponding masks....\n",
        "          context_y = torch.cat((\n",
        "              y * subsampled_mask, subsampled_mask\n",
        "          ), -1) \n",
        "          recon_context_y = torch.cat((            # flux values with only recon_mask values showing\n",
        "                  y * recon_mask, recon_mask\n",
        "              ), -1)\n",
        "          \n",
        "    # #   def compute_unsupervised_loss(self, context_x, context_y, target_x, target_y, num_samples=1, beta=1):\n",
        "          loss_info = net.compute_unsupervised_loss(\n",
        "              x, # context_x, times\n",
        "              context_y,           \n",
        "              x, # target_x, same times, can project to arbitrary times \n",
        "              recon_context_y,\n",
        "              num_samples=args.k_iwae,\n",
        "              beta=1,\n",
        "              #sample_weight = sample_weight   # default is 1. (no errors provided)\n",
        "\n",
        "          )\n",
        "          optimizer.zero_grad()\n",
        "          loss_info.composite_loss.backward()\n",
        "          optimizer.step()\n",
        "          #scheduler.step()\n",
        "          train_loss += loss_info.composite_loss.item() * batch_len\n",
        "          avg_loglik += loss_info.loglik * batch_len\n",
        "          avg_kl += loss_info.kl * batch_len\n",
        "          mse += loss_info.mse * batch_len\n",
        "          mae += loss_info.mae * batch_len\n",
        "          train_n += batch_len\n",
        "      \n",
        "      \n",
        "      if epoch % 100 == 0:\n",
        "          print(\n",
        "              'Iter: {}, train loss: {:.4f}, avg nll: {:.4f}, avg kl: {:.4f}, '\n",
        "              'mse: {:.6f}, mae: {:.6f}'.format(\n",
        "                  epoch,\n",
        "                  train_loss / train_n,\n",
        "                  -avg_loglik / train_n,\n",
        "                  avg_kl / train_n,\n",
        "                  mse / train_n,\n",
        "                  mae / train_n\n",
        "              )\n",
        "          )\n",
        "      \n",
        "        \n"
      ]
    },
    {
      "cell_type": "code",
      "execution_count": null,
      "metadata": {
        "id": "N3keG-7Urr69",
        "outputId": "8d52f1b7-785f-4b58-f3db-78f30577c5d9",
        "colab": {
          "base_uri": "https://localhost:8080/",
          "height": 187
        }
      },
      "outputs": [
        {
          "output_type": "error",
          "ename": "NameError",
          "evalue": "ignored",
          "traceback": [
            "\u001b[0;31m---------------------------------------------------------------------------\u001b[0m",
            "\u001b[0;31mNameError\u001b[0m                                 Traceback (most recent call last)",
            "\u001b[0;32m<ipython-input-13-880a29af9b97>\u001b[0m in \u001b[0;36m<module>\u001b[0;34m()\u001b[0m\n\u001b[0;32m----> 1\u001b[0;31m \u001b[0mviz_per_example\u001b[0m\u001b[0;34m(\u001b[0m\u001b[0mlcs\u001b[0m\u001b[0;34m[\u001b[0m\u001b[0;36m1\u001b[0m\u001b[0;34m]\u001b[0m\u001b[0;34m,\u001b[0m \u001b[0mnet\u001b[0m\u001b[0;34m,\u001b[0m \u001b[0mdevice\u001b[0m\u001b[0;34m=\u001b[0m\u001b[0mdevice\u001b[0m\u001b[0;34m,\u001b[0m \u001b[0mk_iwae\u001b[0m\u001b[0;34m=\u001b[0m\u001b[0;36m10\u001b[0m\u001b[0;34m,\u001b[0m \u001b[0mn_max\u001b[0m\u001b[0;34m=\u001b[0m\u001b[0;36m10\u001b[0m\u001b[0;34m,\u001b[0m \u001b[0mfracs\u001b[0m\u001b[0;34m=\u001b[0m\u001b[0;34m[\u001b[0m\u001b[0;36m0.05\u001b[0m\u001b[0;34m,\u001b[0m\u001b[0;36m0.1\u001b[0m\u001b[0;34m,\u001b[0m\u001b[0;36m0.15\u001b[0m\u001b[0;34m]\u001b[0m\u001b[0;34m)\u001b[0m\u001b[0;34m\u001b[0m\u001b[0;34m\u001b[0m\u001b[0m\n\u001b[0m",
            "\u001b[0;31mNameError\u001b[0m: name 'viz_per_example' is not defined"
          ]
        }
      ],
      "source": [
        "my_utils.viz_per_example(Edelson.dataset[1], net, device=device, k_iwae=10, n_max=10, fracs=[0.05,0.1,0.15])"
      ]
    },
    {
      "cell_type": "code",
      "source": [
        "optuna.visualization.plot_param_importances(study)"
      ],
      "metadata": {
        "id": "8dFgm1AE-nbc",
        "outputId": "a822d4bd-83ca-40bb-cba4-3fabf95f8372",
        "colab": {
          "base_uri": "https://localhost:8080/",
          "height": 542
        }
      },
      "execution_count": null,
      "outputs": [
        {
          "output_type": "display_data",
          "data": {
            "text/html": [
              "<html>\n",
              "<head><meta charset=\"utf-8\" /></head>\n",
              "<body>\n",
              "    <div>            <script src=\"https://cdnjs.cloudflare.com/ajax/libs/mathjax/2.7.5/MathJax.js?config=TeX-AMS-MML_SVG\"></script><script type=\"text/javascript\">if (window.MathJax) {MathJax.Hub.Config({SVG: {font: \"STIX-Web\"}});}</script>                <script type=\"text/javascript\">window.PlotlyConfig = {MathJaxConfig: 'local'};</script>\n",
              "        <script src=\"https://cdn.plot.ly/plotly-2.8.3.min.js\"></script>                <div id=\"5e80a4d3-8cf4-41f3-99e6-20560eac3e26\" class=\"plotly-graph-div\" style=\"height:525px; width:100%;\"></div>            <script type=\"text/javascript\">                                    window.PLOTLYENV=window.PLOTLYENV || {};                                    if (document.getElementById(\"5e80a4d3-8cf4-41f3-99e6-20560eac3e26\")) {                    Plotly.newPlot(                        \"5e80a4d3-8cf4-41f3-99e6-20560eac3e26\",                        [{\"cliponaxis\":false,\"hovertemplate\":[\"lr (LogUniformDistribution): 0.0141111492778582<extra></extra>\",\"embed_time (CategoricalDistribution): 0.01482125573888913<extra></extra>\",\"sample_tp (UniformDistribution): 0.01566583608379751<extra></extra>\",\"mixing (CategoricalDistribution): 0.017317082218732228<extra></extra>\",\"latent_dim (CategoricalDistribution): 0.02182360824136644<extra></extra>\",\"rec_hidden (CategoricalDistribution): 0.02533434040959881<extra></extra>\",\"num_samples (IntUniformDistribution): 0.039347153256787996<extra></extra>\",\"batch_size (CategoricalDistribution): 0.052117260152416287<extra></extra>\",\"elbo_weight (UniformDistribution): 0.05382852280608144<extra></extra>\",\"width (CategoricalDistribution): 0.060942464504508596<extra></extra>\",\"kl_annealing (CategoricalDistribution): 0.07144027902484033<extra></extra>\",\"dropout (UniformDistribution): 0.09240679791448068<extra></extra>\",\"mse_weight (UniformDistribution): 0.1038765999653994<extra></extra>\",\"n (CategoricalDistribution): 0.11867299285157233<extra></extra>\",\"num_ref_points (CategoricalDistribution): 0.14675351993660188<extra></extra>\",\"optimizer (CategoricalDistribution): 0.1515411376170689<extra></extra>\"],\"marker\":{\"color\":\"rgb(66,146,198)\"},\"orientation\":\"h\",\"text\":[\"0.0141111492778582\",\"0.01482125573888913\",\"0.01566583608379751\",\"0.017317082218732228\",\"0.02182360824136644\",\"0.02533434040959881\",\"0.039347153256787996\",\"0.052117260152416287\",\"0.05382852280608144\",\"0.060942464504508596\",\"0.07144027902484033\",\"0.09240679791448068\",\"0.1038765999653994\",\"0.11867299285157233\",\"0.14675351993660188\",\"0.1515411376170689\"],\"textposition\":\"outside\",\"texttemplate\":\"%{text:.2f}\",\"x\":[0.0141111492778582,0.01482125573888913,0.01566583608379751,0.017317082218732228,0.02182360824136644,0.02533434040959881,0.039347153256787996,0.052117260152416287,0.05382852280608144,0.060942464504508596,0.07144027902484033,0.09240679791448068,0.1038765999653994,0.11867299285157233,0.14675351993660188,0.1515411376170689],\"y\":[\"lr\",\"embed_time\",\"sample_tp\",\"mixing\",\"latent_dim\",\"rec_hidden\",\"num_samples\",\"batch_size\",\"elbo_weight\",\"width\",\"kl_annealing\",\"dropout\",\"mse_weight\",\"n\",\"num_ref_points\",\"optimizer\"],\"type\":\"bar\"}],                        {\"showlegend\":false,\"title\":{\"text\":\"Hyperparameter Importances\"},\"xaxis\":{\"title\":{\"text\":\"Importance for Objective Value\"}},\"yaxis\":{\"title\":{\"text\":\"Hyperparameter\"}},\"template\":{\"data\":{\"bar\":[{\"error_x\":{\"color\":\"#2a3f5f\"},\"error_y\":{\"color\":\"#2a3f5f\"},\"marker\":{\"line\":{\"color\":\"#E5ECF6\",\"width\":0.5},\"pattern\":{\"fillmode\":\"overlay\",\"size\":10,\"solidity\":0.2}},\"type\":\"bar\"}],\"barpolar\":[{\"marker\":{\"line\":{\"color\":\"#E5ECF6\",\"width\":0.5},\"pattern\":{\"fillmode\":\"overlay\",\"size\":10,\"solidity\":0.2}},\"type\":\"barpolar\"}],\"carpet\":[{\"aaxis\":{\"endlinecolor\":\"#2a3f5f\",\"gridcolor\":\"white\",\"linecolor\":\"white\",\"minorgridcolor\":\"white\",\"startlinecolor\":\"#2a3f5f\"},\"baxis\":{\"endlinecolor\":\"#2a3f5f\",\"gridcolor\":\"white\",\"linecolor\":\"white\",\"minorgridcolor\":\"white\",\"startlinecolor\":\"#2a3f5f\"},\"type\":\"carpet\"}],\"choropleth\":[{\"colorbar\":{\"outlinewidth\":0,\"ticks\":\"\"},\"type\":\"choropleth\"}],\"contour\":[{\"colorbar\":{\"outlinewidth\":0,\"ticks\":\"\"},\"colorscale\":[[0.0,\"#0d0887\"],[0.1111111111111111,\"#46039f\"],[0.2222222222222222,\"#7201a8\"],[0.3333333333333333,\"#9c179e\"],[0.4444444444444444,\"#bd3786\"],[0.5555555555555556,\"#d8576b\"],[0.6666666666666666,\"#ed7953\"],[0.7777777777777778,\"#fb9f3a\"],[0.8888888888888888,\"#fdca26\"],[1.0,\"#f0f921\"]],\"type\":\"contour\"}],\"contourcarpet\":[{\"colorbar\":{\"outlinewidth\":0,\"ticks\":\"\"},\"type\":\"contourcarpet\"}],\"heatmap\":[{\"colorbar\":{\"outlinewidth\":0,\"ticks\":\"\"},\"colorscale\":[[0.0,\"#0d0887\"],[0.1111111111111111,\"#46039f\"],[0.2222222222222222,\"#7201a8\"],[0.3333333333333333,\"#9c179e\"],[0.4444444444444444,\"#bd3786\"],[0.5555555555555556,\"#d8576b\"],[0.6666666666666666,\"#ed7953\"],[0.7777777777777778,\"#fb9f3a\"],[0.8888888888888888,\"#fdca26\"],[1.0,\"#f0f921\"]],\"type\":\"heatmap\"}],\"heatmapgl\":[{\"colorbar\":{\"outlinewidth\":0,\"ticks\":\"\"},\"colorscale\":[[0.0,\"#0d0887\"],[0.1111111111111111,\"#46039f\"],[0.2222222222222222,\"#7201a8\"],[0.3333333333333333,\"#9c179e\"],[0.4444444444444444,\"#bd3786\"],[0.5555555555555556,\"#d8576b\"],[0.6666666666666666,\"#ed7953\"],[0.7777777777777778,\"#fb9f3a\"],[0.8888888888888888,\"#fdca26\"],[1.0,\"#f0f921\"]],\"type\":\"heatmapgl\"}],\"histogram\":[{\"marker\":{\"pattern\":{\"fillmode\":\"overlay\",\"size\":10,\"solidity\":0.2}},\"type\":\"histogram\"}],\"histogram2d\":[{\"colorbar\":{\"outlinewidth\":0,\"ticks\":\"\"},\"colorscale\":[[0.0,\"#0d0887\"],[0.1111111111111111,\"#46039f\"],[0.2222222222222222,\"#7201a8\"],[0.3333333333333333,\"#9c179e\"],[0.4444444444444444,\"#bd3786\"],[0.5555555555555556,\"#d8576b\"],[0.6666666666666666,\"#ed7953\"],[0.7777777777777778,\"#fb9f3a\"],[0.8888888888888888,\"#fdca26\"],[1.0,\"#f0f921\"]],\"type\":\"histogram2d\"}],\"histogram2dcontour\":[{\"colorbar\":{\"outlinewidth\":0,\"ticks\":\"\"},\"colorscale\":[[0.0,\"#0d0887\"],[0.1111111111111111,\"#46039f\"],[0.2222222222222222,\"#7201a8\"],[0.3333333333333333,\"#9c179e\"],[0.4444444444444444,\"#bd3786\"],[0.5555555555555556,\"#d8576b\"],[0.6666666666666666,\"#ed7953\"],[0.7777777777777778,\"#fb9f3a\"],[0.8888888888888888,\"#fdca26\"],[1.0,\"#f0f921\"]],\"type\":\"histogram2dcontour\"}],\"mesh3d\":[{\"colorbar\":{\"outlinewidth\":0,\"ticks\":\"\"},\"type\":\"mesh3d\"}],\"parcoords\":[{\"line\":{\"colorbar\":{\"outlinewidth\":0,\"ticks\":\"\"}},\"type\":\"parcoords\"}],\"pie\":[{\"automargin\":true,\"type\":\"pie\"}],\"scatter\":[{\"marker\":{\"colorbar\":{\"outlinewidth\":0,\"ticks\":\"\"}},\"type\":\"scatter\"}],\"scatter3d\":[{\"line\":{\"colorbar\":{\"outlinewidth\":0,\"ticks\":\"\"}},\"marker\":{\"colorbar\":{\"outlinewidth\":0,\"ticks\":\"\"}},\"type\":\"scatter3d\"}],\"scattercarpet\":[{\"marker\":{\"colorbar\":{\"outlinewidth\":0,\"ticks\":\"\"}},\"type\":\"scattercarpet\"}],\"scattergeo\":[{\"marker\":{\"colorbar\":{\"outlinewidth\":0,\"ticks\":\"\"}},\"type\":\"scattergeo\"}],\"scattergl\":[{\"marker\":{\"colorbar\":{\"outlinewidth\":0,\"ticks\":\"\"}},\"type\":\"scattergl\"}],\"scattermapbox\":[{\"marker\":{\"colorbar\":{\"outlinewidth\":0,\"ticks\":\"\"}},\"type\":\"scattermapbox\"}],\"scatterpolar\":[{\"marker\":{\"colorbar\":{\"outlinewidth\":0,\"ticks\":\"\"}},\"type\":\"scatterpolar\"}],\"scatterpolargl\":[{\"marker\":{\"colorbar\":{\"outlinewidth\":0,\"ticks\":\"\"}},\"type\":\"scatterpolargl\"}],\"scatterternary\":[{\"marker\":{\"colorbar\":{\"outlinewidth\":0,\"ticks\":\"\"}},\"type\":\"scatterternary\"}],\"surface\":[{\"colorbar\":{\"outlinewidth\":0,\"ticks\":\"\"},\"colorscale\":[[0.0,\"#0d0887\"],[0.1111111111111111,\"#46039f\"],[0.2222222222222222,\"#7201a8\"],[0.3333333333333333,\"#9c179e\"],[0.4444444444444444,\"#bd3786\"],[0.5555555555555556,\"#d8576b\"],[0.6666666666666666,\"#ed7953\"],[0.7777777777777778,\"#fb9f3a\"],[0.8888888888888888,\"#fdca26\"],[1.0,\"#f0f921\"]],\"type\":\"surface\"}],\"table\":[{\"cells\":{\"fill\":{\"color\":\"#EBF0F8\"},\"line\":{\"color\":\"white\"}},\"header\":{\"fill\":{\"color\":\"#C8D4E3\"},\"line\":{\"color\":\"white\"}},\"type\":\"table\"}]},\"layout\":{\"annotationdefaults\":{\"arrowcolor\":\"#2a3f5f\",\"arrowhead\":0,\"arrowwidth\":1},\"autotypenumbers\":\"strict\",\"coloraxis\":{\"colorbar\":{\"outlinewidth\":0,\"ticks\":\"\"}},\"colorscale\":{\"diverging\":[[0,\"#8e0152\"],[0.1,\"#c51b7d\"],[0.2,\"#de77ae\"],[0.3,\"#f1b6da\"],[0.4,\"#fde0ef\"],[0.5,\"#f7f7f7\"],[0.6,\"#e6f5d0\"],[0.7,\"#b8e186\"],[0.8,\"#7fbc41\"],[0.9,\"#4d9221\"],[1,\"#276419\"]],\"sequential\":[[0.0,\"#0d0887\"],[0.1111111111111111,\"#46039f\"],[0.2222222222222222,\"#7201a8\"],[0.3333333333333333,\"#9c179e\"],[0.4444444444444444,\"#bd3786\"],[0.5555555555555556,\"#d8576b\"],[0.6666666666666666,\"#ed7953\"],[0.7777777777777778,\"#fb9f3a\"],[0.8888888888888888,\"#fdca26\"],[1.0,\"#f0f921\"]],\"sequentialminus\":[[0.0,\"#0d0887\"],[0.1111111111111111,\"#46039f\"],[0.2222222222222222,\"#7201a8\"],[0.3333333333333333,\"#9c179e\"],[0.4444444444444444,\"#bd3786\"],[0.5555555555555556,\"#d8576b\"],[0.6666666666666666,\"#ed7953\"],[0.7777777777777778,\"#fb9f3a\"],[0.8888888888888888,\"#fdca26\"],[1.0,\"#f0f921\"]]},\"colorway\":[\"#636efa\",\"#EF553B\",\"#00cc96\",\"#ab63fa\",\"#FFA15A\",\"#19d3f3\",\"#FF6692\",\"#B6E880\",\"#FF97FF\",\"#FECB52\"],\"font\":{\"color\":\"#2a3f5f\"},\"geo\":{\"bgcolor\":\"white\",\"lakecolor\":\"white\",\"landcolor\":\"#E5ECF6\",\"showlakes\":true,\"showland\":true,\"subunitcolor\":\"white\"},\"hoverlabel\":{\"align\":\"left\"},\"hovermode\":\"closest\",\"mapbox\":{\"style\":\"light\"},\"paper_bgcolor\":\"white\",\"plot_bgcolor\":\"#E5ECF6\",\"polar\":{\"angularaxis\":{\"gridcolor\":\"white\",\"linecolor\":\"white\",\"ticks\":\"\"},\"bgcolor\":\"#E5ECF6\",\"radialaxis\":{\"gridcolor\":\"white\",\"linecolor\":\"white\",\"ticks\":\"\"}},\"scene\":{\"xaxis\":{\"backgroundcolor\":\"#E5ECF6\",\"gridcolor\":\"white\",\"gridwidth\":2,\"linecolor\":\"white\",\"showbackground\":true,\"ticks\":\"\",\"zerolinecolor\":\"white\"},\"yaxis\":{\"backgroundcolor\":\"#E5ECF6\",\"gridcolor\":\"white\",\"gridwidth\":2,\"linecolor\":\"white\",\"showbackground\":true,\"ticks\":\"\",\"zerolinecolor\":\"white\"},\"zaxis\":{\"backgroundcolor\":\"#E5ECF6\",\"gridcolor\":\"white\",\"gridwidth\":2,\"linecolor\":\"white\",\"showbackground\":true,\"ticks\":\"\",\"zerolinecolor\":\"white\"}},\"shapedefaults\":{\"line\":{\"color\":\"#2a3f5f\"}},\"ternary\":{\"aaxis\":{\"gridcolor\":\"white\",\"linecolor\":\"white\",\"ticks\":\"\"},\"baxis\":{\"gridcolor\":\"white\",\"linecolor\":\"white\",\"ticks\":\"\"},\"bgcolor\":\"#E5ECF6\",\"caxis\":{\"gridcolor\":\"white\",\"linecolor\":\"white\",\"ticks\":\"\"}},\"title\":{\"x\":0.05},\"xaxis\":{\"automargin\":true,\"gridcolor\":\"white\",\"linecolor\":\"white\",\"ticks\":\"\",\"title\":{\"standoff\":15},\"zerolinecolor\":\"white\",\"zerolinewidth\":2},\"yaxis\":{\"automargin\":true,\"gridcolor\":\"white\",\"linecolor\":\"white\",\"ticks\":\"\",\"title\":{\"standoff\":15},\"zerolinecolor\":\"white\",\"zerolinewidth\":2}}}},                        {\"responsive\": true}                    ).then(function(){\n",
              "                            \n",
              "var gd = document.getElementById('5e80a4d3-8cf4-41f3-99e6-20560eac3e26');\n",
              "var x = new MutationObserver(function (mutations, observer) {{\n",
              "        var display = window.getComputedStyle(gd).display;\n",
              "        if (!display || display === 'none') {{\n",
              "            console.log([gd, 'removed!']);\n",
              "            Plotly.purge(gd);\n",
              "            observer.disconnect();\n",
              "        }}\n",
              "}});\n",
              "\n",
              "// Listen for the removal of the full notebook cells\n",
              "var notebookContainer = gd.closest('#notebook-container');\n",
              "if (notebookContainer) {{\n",
              "    x.observe(notebookContainer, {childList: true});\n",
              "}}\n",
              "\n",
              "// Listen for the clearing of the current output cell\n",
              "var outputEl = gd.closest('.output');\n",
              "if (outputEl) {{\n",
              "    x.observe(outputEl, {childList: true});\n",
              "}}\n",
              "\n",
              "                        })                };                            </script>        </div>\n",
              "</body>\n",
              "</html>"
            ]
          },
          "metadata": {}
        }
      ]
    },
    {
      "cell_type": "code",
      "source": [
        "optuna.visualization.plot_optimization_history(study)"
      ],
      "metadata": {
        "id": "5FrI7AS5-uqN",
        "outputId": "803bf1bf-c7ca-4f20-c375-f3b0fa38f99c",
        "colab": {
          "base_uri": "https://localhost:8080/",
          "height": 542
        }
      },
      "execution_count": null,
      "outputs": [
        {
          "output_type": "display_data",
          "data": {
            "text/html": [
              "<html>\n",
              "<head><meta charset=\"utf-8\" /></head>\n",
              "<body>\n",
              "    <div>            <script src=\"https://cdnjs.cloudflare.com/ajax/libs/mathjax/2.7.5/MathJax.js?config=TeX-AMS-MML_SVG\"></script><script type=\"text/javascript\">if (window.MathJax) {MathJax.Hub.Config({SVG: {font: \"STIX-Web\"}});}</script>                <script type=\"text/javascript\">window.PlotlyConfig = {MathJaxConfig: 'local'};</script>\n",
              "        <script src=\"https://cdn.plot.ly/plotly-2.8.3.min.js\"></script>                <div id=\"16596e77-500d-4b6e-8b41-4b8dee2e0ac0\" class=\"plotly-graph-div\" style=\"height:525px; width:100%;\"></div>            <script type=\"text/javascript\">                                    window.PLOTLYENV=window.PLOTLYENV || {};                                    if (document.getElementById(\"16596e77-500d-4b6e-8b41-4b8dee2e0ac0\")) {                    Plotly.newPlot(                        \"16596e77-500d-4b6e-8b41-4b8dee2e0ac0\",                        [{\"mode\":\"markers\",\"name\":\"Objective Value\",\"x\":[0,1,2,3,4,13,17,18,19,21,22,23,25,28,32,37,41,43,52,61,64,71,72,73,93],\"y\":[-0.09817567467689514,1.126522421836853,0.5077604055404663,1.4208991527557373,0.3188644051551819,-0.4891915023326874,-0.25608718395233154,-0.8356237411499023,0.046543508768081665,-1.098836898803711,-0.8742569088935852,-0.9368172287940979,-0.4934235215187073,-0.5876665115356445,-0.7169528007507324,-0.5789490342140198,-0.9932878017425537,-0.7497150897979736,-0.8722430467605591,-0.5412473678588867,-0.43591588735580444,-0.8541795015335083,-0.9729646444320679,-0.896338939666748,-0.9738860726356506],\"type\":\"scatter\"},{\"name\":\"Best Value\",\"x\":[0,1,2,3,4,13,17,18,19,21,22,23,25,28,32,37,41,43,52,61,64,71,72,73,93],\"y\":[-0.09817567467689514,-0.09817567467689514,-0.09817567467689514,-0.09817567467689514,-0.09817567467689514,-0.4891915023326874,-0.4891915023326874,-0.8356237411499023,-0.8356237411499023,-1.098836898803711,-1.098836898803711,-1.098836898803711,-1.098836898803711,-1.098836898803711,-1.098836898803711,-1.098836898803711,-1.098836898803711,-1.098836898803711,-1.098836898803711,-1.098836898803711,-1.098836898803711,-1.098836898803711,-1.098836898803711,-1.098836898803711,-1.098836898803711],\"type\":\"scatter\"}],                        {\"title\":{\"text\":\"Optimization History Plot\"},\"xaxis\":{\"title\":{\"text\":\"#Trials\"}},\"yaxis\":{\"title\":{\"text\":\"Objective Value\"}},\"template\":{\"data\":{\"bar\":[{\"error_x\":{\"color\":\"#2a3f5f\"},\"error_y\":{\"color\":\"#2a3f5f\"},\"marker\":{\"line\":{\"color\":\"#E5ECF6\",\"width\":0.5},\"pattern\":{\"fillmode\":\"overlay\",\"size\":10,\"solidity\":0.2}},\"type\":\"bar\"}],\"barpolar\":[{\"marker\":{\"line\":{\"color\":\"#E5ECF6\",\"width\":0.5},\"pattern\":{\"fillmode\":\"overlay\",\"size\":10,\"solidity\":0.2}},\"type\":\"barpolar\"}],\"carpet\":[{\"aaxis\":{\"endlinecolor\":\"#2a3f5f\",\"gridcolor\":\"white\",\"linecolor\":\"white\",\"minorgridcolor\":\"white\",\"startlinecolor\":\"#2a3f5f\"},\"baxis\":{\"endlinecolor\":\"#2a3f5f\",\"gridcolor\":\"white\",\"linecolor\":\"white\",\"minorgridcolor\":\"white\",\"startlinecolor\":\"#2a3f5f\"},\"type\":\"carpet\"}],\"choropleth\":[{\"colorbar\":{\"outlinewidth\":0,\"ticks\":\"\"},\"type\":\"choropleth\"}],\"contour\":[{\"colorbar\":{\"outlinewidth\":0,\"ticks\":\"\"},\"colorscale\":[[0.0,\"#0d0887\"],[0.1111111111111111,\"#46039f\"],[0.2222222222222222,\"#7201a8\"],[0.3333333333333333,\"#9c179e\"],[0.4444444444444444,\"#bd3786\"],[0.5555555555555556,\"#d8576b\"],[0.6666666666666666,\"#ed7953\"],[0.7777777777777778,\"#fb9f3a\"],[0.8888888888888888,\"#fdca26\"],[1.0,\"#f0f921\"]],\"type\":\"contour\"}],\"contourcarpet\":[{\"colorbar\":{\"outlinewidth\":0,\"ticks\":\"\"},\"type\":\"contourcarpet\"}],\"heatmap\":[{\"colorbar\":{\"outlinewidth\":0,\"ticks\":\"\"},\"colorscale\":[[0.0,\"#0d0887\"],[0.1111111111111111,\"#46039f\"],[0.2222222222222222,\"#7201a8\"],[0.3333333333333333,\"#9c179e\"],[0.4444444444444444,\"#bd3786\"],[0.5555555555555556,\"#d8576b\"],[0.6666666666666666,\"#ed7953\"],[0.7777777777777778,\"#fb9f3a\"],[0.8888888888888888,\"#fdca26\"],[1.0,\"#f0f921\"]],\"type\":\"heatmap\"}],\"heatmapgl\":[{\"colorbar\":{\"outlinewidth\":0,\"ticks\":\"\"},\"colorscale\":[[0.0,\"#0d0887\"],[0.1111111111111111,\"#46039f\"],[0.2222222222222222,\"#7201a8\"],[0.3333333333333333,\"#9c179e\"],[0.4444444444444444,\"#bd3786\"],[0.5555555555555556,\"#d8576b\"],[0.6666666666666666,\"#ed7953\"],[0.7777777777777778,\"#fb9f3a\"],[0.8888888888888888,\"#fdca26\"],[1.0,\"#f0f921\"]],\"type\":\"heatmapgl\"}],\"histogram\":[{\"marker\":{\"pattern\":{\"fillmode\":\"overlay\",\"size\":10,\"solidity\":0.2}},\"type\":\"histogram\"}],\"histogram2d\":[{\"colorbar\":{\"outlinewidth\":0,\"ticks\":\"\"},\"colorscale\":[[0.0,\"#0d0887\"],[0.1111111111111111,\"#46039f\"],[0.2222222222222222,\"#7201a8\"],[0.3333333333333333,\"#9c179e\"],[0.4444444444444444,\"#bd3786\"],[0.5555555555555556,\"#d8576b\"],[0.6666666666666666,\"#ed7953\"],[0.7777777777777778,\"#fb9f3a\"],[0.8888888888888888,\"#fdca26\"],[1.0,\"#f0f921\"]],\"type\":\"histogram2d\"}],\"histogram2dcontour\":[{\"colorbar\":{\"outlinewidth\":0,\"ticks\":\"\"},\"colorscale\":[[0.0,\"#0d0887\"],[0.1111111111111111,\"#46039f\"],[0.2222222222222222,\"#7201a8\"],[0.3333333333333333,\"#9c179e\"],[0.4444444444444444,\"#bd3786\"],[0.5555555555555556,\"#d8576b\"],[0.6666666666666666,\"#ed7953\"],[0.7777777777777778,\"#fb9f3a\"],[0.8888888888888888,\"#fdca26\"],[1.0,\"#f0f921\"]],\"type\":\"histogram2dcontour\"}],\"mesh3d\":[{\"colorbar\":{\"outlinewidth\":0,\"ticks\":\"\"},\"type\":\"mesh3d\"}],\"parcoords\":[{\"line\":{\"colorbar\":{\"outlinewidth\":0,\"ticks\":\"\"}},\"type\":\"parcoords\"}],\"pie\":[{\"automargin\":true,\"type\":\"pie\"}],\"scatter\":[{\"marker\":{\"colorbar\":{\"outlinewidth\":0,\"ticks\":\"\"}},\"type\":\"scatter\"}],\"scatter3d\":[{\"line\":{\"colorbar\":{\"outlinewidth\":0,\"ticks\":\"\"}},\"marker\":{\"colorbar\":{\"outlinewidth\":0,\"ticks\":\"\"}},\"type\":\"scatter3d\"}],\"scattercarpet\":[{\"marker\":{\"colorbar\":{\"outlinewidth\":0,\"ticks\":\"\"}},\"type\":\"scattercarpet\"}],\"scattergeo\":[{\"marker\":{\"colorbar\":{\"outlinewidth\":0,\"ticks\":\"\"}},\"type\":\"scattergeo\"}],\"scattergl\":[{\"marker\":{\"colorbar\":{\"outlinewidth\":0,\"ticks\":\"\"}},\"type\":\"scattergl\"}],\"scattermapbox\":[{\"marker\":{\"colorbar\":{\"outlinewidth\":0,\"ticks\":\"\"}},\"type\":\"scattermapbox\"}],\"scatterpolar\":[{\"marker\":{\"colorbar\":{\"outlinewidth\":0,\"ticks\":\"\"}},\"type\":\"scatterpolar\"}],\"scatterpolargl\":[{\"marker\":{\"colorbar\":{\"outlinewidth\":0,\"ticks\":\"\"}},\"type\":\"scatterpolargl\"}],\"scatterternary\":[{\"marker\":{\"colorbar\":{\"outlinewidth\":0,\"ticks\":\"\"}},\"type\":\"scatterternary\"}],\"surface\":[{\"colorbar\":{\"outlinewidth\":0,\"ticks\":\"\"},\"colorscale\":[[0.0,\"#0d0887\"],[0.1111111111111111,\"#46039f\"],[0.2222222222222222,\"#7201a8\"],[0.3333333333333333,\"#9c179e\"],[0.4444444444444444,\"#bd3786\"],[0.5555555555555556,\"#d8576b\"],[0.6666666666666666,\"#ed7953\"],[0.7777777777777778,\"#fb9f3a\"],[0.8888888888888888,\"#fdca26\"],[1.0,\"#f0f921\"]],\"type\":\"surface\"}],\"table\":[{\"cells\":{\"fill\":{\"color\":\"#EBF0F8\"},\"line\":{\"color\":\"white\"}},\"header\":{\"fill\":{\"color\":\"#C8D4E3\"},\"line\":{\"color\":\"white\"}},\"type\":\"table\"}]},\"layout\":{\"annotationdefaults\":{\"arrowcolor\":\"#2a3f5f\",\"arrowhead\":0,\"arrowwidth\":1},\"autotypenumbers\":\"strict\",\"coloraxis\":{\"colorbar\":{\"outlinewidth\":0,\"ticks\":\"\"}},\"colorscale\":{\"diverging\":[[0,\"#8e0152\"],[0.1,\"#c51b7d\"],[0.2,\"#de77ae\"],[0.3,\"#f1b6da\"],[0.4,\"#fde0ef\"],[0.5,\"#f7f7f7\"],[0.6,\"#e6f5d0\"],[0.7,\"#b8e186\"],[0.8,\"#7fbc41\"],[0.9,\"#4d9221\"],[1,\"#276419\"]],\"sequential\":[[0.0,\"#0d0887\"],[0.1111111111111111,\"#46039f\"],[0.2222222222222222,\"#7201a8\"],[0.3333333333333333,\"#9c179e\"],[0.4444444444444444,\"#bd3786\"],[0.5555555555555556,\"#d8576b\"],[0.6666666666666666,\"#ed7953\"],[0.7777777777777778,\"#fb9f3a\"],[0.8888888888888888,\"#fdca26\"],[1.0,\"#f0f921\"]],\"sequentialminus\":[[0.0,\"#0d0887\"],[0.1111111111111111,\"#46039f\"],[0.2222222222222222,\"#7201a8\"],[0.3333333333333333,\"#9c179e\"],[0.4444444444444444,\"#bd3786\"],[0.5555555555555556,\"#d8576b\"],[0.6666666666666666,\"#ed7953\"],[0.7777777777777778,\"#fb9f3a\"],[0.8888888888888888,\"#fdca26\"],[1.0,\"#f0f921\"]]},\"colorway\":[\"#636efa\",\"#EF553B\",\"#00cc96\",\"#ab63fa\",\"#FFA15A\",\"#19d3f3\",\"#FF6692\",\"#B6E880\",\"#FF97FF\",\"#FECB52\"],\"font\":{\"color\":\"#2a3f5f\"},\"geo\":{\"bgcolor\":\"white\",\"lakecolor\":\"white\",\"landcolor\":\"#E5ECF6\",\"showlakes\":true,\"showland\":true,\"subunitcolor\":\"white\"},\"hoverlabel\":{\"align\":\"left\"},\"hovermode\":\"closest\",\"mapbox\":{\"style\":\"light\"},\"paper_bgcolor\":\"white\",\"plot_bgcolor\":\"#E5ECF6\",\"polar\":{\"angularaxis\":{\"gridcolor\":\"white\",\"linecolor\":\"white\",\"ticks\":\"\"},\"bgcolor\":\"#E5ECF6\",\"radialaxis\":{\"gridcolor\":\"white\",\"linecolor\":\"white\",\"ticks\":\"\"}},\"scene\":{\"xaxis\":{\"backgroundcolor\":\"#E5ECF6\",\"gridcolor\":\"white\",\"gridwidth\":2,\"linecolor\":\"white\",\"showbackground\":true,\"ticks\":\"\",\"zerolinecolor\":\"white\"},\"yaxis\":{\"backgroundcolor\":\"#E5ECF6\",\"gridcolor\":\"white\",\"gridwidth\":2,\"linecolor\":\"white\",\"showbackground\":true,\"ticks\":\"\",\"zerolinecolor\":\"white\"},\"zaxis\":{\"backgroundcolor\":\"#E5ECF6\",\"gridcolor\":\"white\",\"gridwidth\":2,\"linecolor\":\"white\",\"showbackground\":true,\"ticks\":\"\",\"zerolinecolor\":\"white\"}},\"shapedefaults\":{\"line\":{\"color\":\"#2a3f5f\"}},\"ternary\":{\"aaxis\":{\"gridcolor\":\"white\",\"linecolor\":\"white\",\"ticks\":\"\"},\"baxis\":{\"gridcolor\":\"white\",\"linecolor\":\"white\",\"ticks\":\"\"},\"bgcolor\":\"#E5ECF6\",\"caxis\":{\"gridcolor\":\"white\",\"linecolor\":\"white\",\"ticks\":\"\"}},\"title\":{\"x\":0.05},\"xaxis\":{\"automargin\":true,\"gridcolor\":\"white\",\"linecolor\":\"white\",\"ticks\":\"\",\"title\":{\"standoff\":15},\"zerolinecolor\":\"white\",\"zerolinewidth\":2},\"yaxis\":{\"automargin\":true,\"gridcolor\":\"white\",\"linecolor\":\"white\",\"ticks\":\"\",\"title\":{\"standoff\":15},\"zerolinecolor\":\"white\",\"zerolinewidth\":2}}}},                        {\"responsive\": true}                    ).then(function(){\n",
              "                            \n",
              "var gd = document.getElementById('16596e77-500d-4b6e-8b41-4b8dee2e0ac0');\n",
              "var x = new MutationObserver(function (mutations, observer) {{\n",
              "        var display = window.getComputedStyle(gd).display;\n",
              "        if (!display || display === 'none') {{\n",
              "            console.log([gd, 'removed!']);\n",
              "            Plotly.purge(gd);\n",
              "            observer.disconnect();\n",
              "        }}\n",
              "}});\n",
              "\n",
              "// Listen for the removal of the full notebook cells\n",
              "var notebookContainer = gd.closest('#notebook-container');\n",
              "if (notebookContainer) {{\n",
              "    x.observe(notebookContainer, {childList: true});\n",
              "}}\n",
              "\n",
              "// Listen for the clearing of the current output cell\n",
              "var outputEl = gd.closest('.output');\n",
              "if (outputEl) {{\n",
              "    x.observe(outputEl, {childList: true});\n",
              "}}\n",
              "\n",
              "                        })                };                            </script>        </div>\n",
              "</body>\n",
              "</html>"
            ]
          },
          "metadata": {}
        }
      ]
    },
    {
      "cell_type": "code",
      "source": [
        "optuna.visualization.plot_slice(study, params=[\"optimizer\"])"
      ],
      "metadata": {
        "id": "Ki4PJevr-0I-",
        "outputId": "fe17a3ef-7960-4b82-93f3-b49a914862c7",
        "colab": {
          "base_uri": "https://localhost:8080/",
          "height": 542
        }
      },
      "execution_count": null,
      "outputs": [
        {
          "output_type": "display_data",
          "data": {
            "text/html": [
              "<html>\n",
              "<head><meta charset=\"utf-8\" /></head>\n",
              "<body>\n",
              "    <div>            <script src=\"https://cdnjs.cloudflare.com/ajax/libs/mathjax/2.7.5/MathJax.js?config=TeX-AMS-MML_SVG\"></script><script type=\"text/javascript\">if (window.MathJax) {MathJax.Hub.Config({SVG: {font: \"STIX-Web\"}});}</script>                <script type=\"text/javascript\">window.PlotlyConfig = {MathJaxConfig: 'local'};</script>\n",
              "        <script src=\"https://cdn.plot.ly/plotly-2.8.3.min.js\"></script>                <div id=\"b02d4832-ecdf-4f78-b303-3796205d5332\" class=\"plotly-graph-div\" style=\"height:525px; width:100%;\"></div>            <script type=\"text/javascript\">                                    window.PLOTLYENV=window.PLOTLYENV || {};                                    if (document.getElementById(\"b02d4832-ecdf-4f78-b303-3796205d5332\")) {                    Plotly.newPlot(                        \"b02d4832-ecdf-4f78-b303-3796205d5332\",                        [{\"marker\":{\"color\":[0,1,2,3,4,13,17,18,19,21,22,23,25,28,32,37,41,43,52,61,64,71,72,73,93],\"colorbar\":{\"title\":{\"text\":\"#Trials\"},\"x\":1.0,\"xpad\":40},\"colorscale\":[[0.0,\"rgb(247,251,255)\"],[0.125,\"rgb(222,235,247)\"],[0.25,\"rgb(198,219,239)\"],[0.375,\"rgb(158,202,225)\"],[0.5,\"rgb(107,174,214)\"],[0.625,\"rgb(66,146,198)\"],[0.75,\"rgb(33,113,181)\"],[0.875,\"rgb(8,81,156)\"],[1.0,\"rgb(8,48,107)\"]],\"line\":{\"color\":\"Grey\",\"width\":0.5}},\"mode\":\"markers\",\"showlegend\":false,\"x\":[\"Adam\",\"SGD\",\"SGD\",\"RMSprop\",\"SGD\",\"Adam\",\"Adam\",\"Adam\",\"Adam\",\"Adam\",\"Adam\",\"Adam\",\"RMSprop\",\"Adam\",\"Adam\",\"Adam\",\"Adam\",\"Adam\",\"Adam\",\"Adam\",\"Adam\",\"Adam\",\"Adam\",\"Adam\",\"Adam\"],\"y\":[-0.09817567467689514,1.126522421836853,0.5077604055404663,1.4208991527557373,0.3188644051551819,-0.4891915023326874,-0.25608718395233154,-0.8356237411499023,0.046543508768081665,-1.098836898803711,-0.8742569088935852,-0.9368172287940979,-0.4934235215187073,-0.5876665115356445,-0.7169528007507324,-0.5789490342140198,-0.9932878017425537,-0.7497150897979736,-0.8722430467605591,-0.5412473678588867,-0.43591588735580444,-0.8541795015335083,-0.9729646444320679,-0.896338939666748,-0.9738860726356506],\"type\":\"scatter\"}],                        {\"title\":{\"text\":\"Slice Plot\"},\"template\":{\"data\":{\"bar\":[{\"error_x\":{\"color\":\"#2a3f5f\"},\"error_y\":{\"color\":\"#2a3f5f\"},\"marker\":{\"line\":{\"color\":\"#E5ECF6\",\"width\":0.5},\"pattern\":{\"fillmode\":\"overlay\",\"size\":10,\"solidity\":0.2}},\"type\":\"bar\"}],\"barpolar\":[{\"marker\":{\"line\":{\"color\":\"#E5ECF6\",\"width\":0.5},\"pattern\":{\"fillmode\":\"overlay\",\"size\":10,\"solidity\":0.2}},\"type\":\"barpolar\"}],\"carpet\":[{\"aaxis\":{\"endlinecolor\":\"#2a3f5f\",\"gridcolor\":\"white\",\"linecolor\":\"white\",\"minorgridcolor\":\"white\",\"startlinecolor\":\"#2a3f5f\"},\"baxis\":{\"endlinecolor\":\"#2a3f5f\",\"gridcolor\":\"white\",\"linecolor\":\"white\",\"minorgridcolor\":\"white\",\"startlinecolor\":\"#2a3f5f\"},\"type\":\"carpet\"}],\"choropleth\":[{\"colorbar\":{\"outlinewidth\":0,\"ticks\":\"\"},\"type\":\"choropleth\"}],\"contour\":[{\"colorbar\":{\"outlinewidth\":0,\"ticks\":\"\"},\"colorscale\":[[0.0,\"#0d0887\"],[0.1111111111111111,\"#46039f\"],[0.2222222222222222,\"#7201a8\"],[0.3333333333333333,\"#9c179e\"],[0.4444444444444444,\"#bd3786\"],[0.5555555555555556,\"#d8576b\"],[0.6666666666666666,\"#ed7953\"],[0.7777777777777778,\"#fb9f3a\"],[0.8888888888888888,\"#fdca26\"],[1.0,\"#f0f921\"]],\"type\":\"contour\"}],\"contourcarpet\":[{\"colorbar\":{\"outlinewidth\":0,\"ticks\":\"\"},\"type\":\"contourcarpet\"}],\"heatmap\":[{\"colorbar\":{\"outlinewidth\":0,\"ticks\":\"\"},\"colorscale\":[[0.0,\"#0d0887\"],[0.1111111111111111,\"#46039f\"],[0.2222222222222222,\"#7201a8\"],[0.3333333333333333,\"#9c179e\"],[0.4444444444444444,\"#bd3786\"],[0.5555555555555556,\"#d8576b\"],[0.6666666666666666,\"#ed7953\"],[0.7777777777777778,\"#fb9f3a\"],[0.8888888888888888,\"#fdca26\"],[1.0,\"#f0f921\"]],\"type\":\"heatmap\"}],\"heatmapgl\":[{\"colorbar\":{\"outlinewidth\":0,\"ticks\":\"\"},\"colorscale\":[[0.0,\"#0d0887\"],[0.1111111111111111,\"#46039f\"],[0.2222222222222222,\"#7201a8\"],[0.3333333333333333,\"#9c179e\"],[0.4444444444444444,\"#bd3786\"],[0.5555555555555556,\"#d8576b\"],[0.6666666666666666,\"#ed7953\"],[0.7777777777777778,\"#fb9f3a\"],[0.8888888888888888,\"#fdca26\"],[1.0,\"#f0f921\"]],\"type\":\"heatmapgl\"}],\"histogram\":[{\"marker\":{\"pattern\":{\"fillmode\":\"overlay\",\"size\":10,\"solidity\":0.2}},\"type\":\"histogram\"}],\"histogram2d\":[{\"colorbar\":{\"outlinewidth\":0,\"ticks\":\"\"},\"colorscale\":[[0.0,\"#0d0887\"],[0.1111111111111111,\"#46039f\"],[0.2222222222222222,\"#7201a8\"],[0.3333333333333333,\"#9c179e\"],[0.4444444444444444,\"#bd3786\"],[0.5555555555555556,\"#d8576b\"],[0.6666666666666666,\"#ed7953\"],[0.7777777777777778,\"#fb9f3a\"],[0.8888888888888888,\"#fdca26\"],[1.0,\"#f0f921\"]],\"type\":\"histogram2d\"}],\"histogram2dcontour\":[{\"colorbar\":{\"outlinewidth\":0,\"ticks\":\"\"},\"colorscale\":[[0.0,\"#0d0887\"],[0.1111111111111111,\"#46039f\"],[0.2222222222222222,\"#7201a8\"],[0.3333333333333333,\"#9c179e\"],[0.4444444444444444,\"#bd3786\"],[0.5555555555555556,\"#d8576b\"],[0.6666666666666666,\"#ed7953\"],[0.7777777777777778,\"#fb9f3a\"],[0.8888888888888888,\"#fdca26\"],[1.0,\"#f0f921\"]],\"type\":\"histogram2dcontour\"}],\"mesh3d\":[{\"colorbar\":{\"outlinewidth\":0,\"ticks\":\"\"},\"type\":\"mesh3d\"}],\"parcoords\":[{\"line\":{\"colorbar\":{\"outlinewidth\":0,\"ticks\":\"\"}},\"type\":\"parcoords\"}],\"pie\":[{\"automargin\":true,\"type\":\"pie\"}],\"scatter\":[{\"marker\":{\"colorbar\":{\"outlinewidth\":0,\"ticks\":\"\"}},\"type\":\"scatter\"}],\"scatter3d\":[{\"line\":{\"colorbar\":{\"outlinewidth\":0,\"ticks\":\"\"}},\"marker\":{\"colorbar\":{\"outlinewidth\":0,\"ticks\":\"\"}},\"type\":\"scatter3d\"}],\"scattercarpet\":[{\"marker\":{\"colorbar\":{\"outlinewidth\":0,\"ticks\":\"\"}},\"type\":\"scattercarpet\"}],\"scattergeo\":[{\"marker\":{\"colorbar\":{\"outlinewidth\":0,\"ticks\":\"\"}},\"type\":\"scattergeo\"}],\"scattergl\":[{\"marker\":{\"colorbar\":{\"outlinewidth\":0,\"ticks\":\"\"}},\"type\":\"scattergl\"}],\"scattermapbox\":[{\"marker\":{\"colorbar\":{\"outlinewidth\":0,\"ticks\":\"\"}},\"type\":\"scattermapbox\"}],\"scatterpolar\":[{\"marker\":{\"colorbar\":{\"outlinewidth\":0,\"ticks\":\"\"}},\"type\":\"scatterpolar\"}],\"scatterpolargl\":[{\"marker\":{\"colorbar\":{\"outlinewidth\":0,\"ticks\":\"\"}},\"type\":\"scatterpolargl\"}],\"scatterternary\":[{\"marker\":{\"colorbar\":{\"outlinewidth\":0,\"ticks\":\"\"}},\"type\":\"scatterternary\"}],\"surface\":[{\"colorbar\":{\"outlinewidth\":0,\"ticks\":\"\"},\"colorscale\":[[0.0,\"#0d0887\"],[0.1111111111111111,\"#46039f\"],[0.2222222222222222,\"#7201a8\"],[0.3333333333333333,\"#9c179e\"],[0.4444444444444444,\"#bd3786\"],[0.5555555555555556,\"#d8576b\"],[0.6666666666666666,\"#ed7953\"],[0.7777777777777778,\"#fb9f3a\"],[0.8888888888888888,\"#fdca26\"],[1.0,\"#f0f921\"]],\"type\":\"surface\"}],\"table\":[{\"cells\":{\"fill\":{\"color\":\"#EBF0F8\"},\"line\":{\"color\":\"white\"}},\"header\":{\"fill\":{\"color\":\"#C8D4E3\"},\"line\":{\"color\":\"white\"}},\"type\":\"table\"}]},\"layout\":{\"annotationdefaults\":{\"arrowcolor\":\"#2a3f5f\",\"arrowhead\":0,\"arrowwidth\":1},\"autotypenumbers\":\"strict\",\"coloraxis\":{\"colorbar\":{\"outlinewidth\":0,\"ticks\":\"\"}},\"colorscale\":{\"diverging\":[[0,\"#8e0152\"],[0.1,\"#c51b7d\"],[0.2,\"#de77ae\"],[0.3,\"#f1b6da\"],[0.4,\"#fde0ef\"],[0.5,\"#f7f7f7\"],[0.6,\"#e6f5d0\"],[0.7,\"#b8e186\"],[0.8,\"#7fbc41\"],[0.9,\"#4d9221\"],[1,\"#276419\"]],\"sequential\":[[0.0,\"#0d0887\"],[0.1111111111111111,\"#46039f\"],[0.2222222222222222,\"#7201a8\"],[0.3333333333333333,\"#9c179e\"],[0.4444444444444444,\"#bd3786\"],[0.5555555555555556,\"#d8576b\"],[0.6666666666666666,\"#ed7953\"],[0.7777777777777778,\"#fb9f3a\"],[0.8888888888888888,\"#fdca26\"],[1.0,\"#f0f921\"]],\"sequentialminus\":[[0.0,\"#0d0887\"],[0.1111111111111111,\"#46039f\"],[0.2222222222222222,\"#7201a8\"],[0.3333333333333333,\"#9c179e\"],[0.4444444444444444,\"#bd3786\"],[0.5555555555555556,\"#d8576b\"],[0.6666666666666666,\"#ed7953\"],[0.7777777777777778,\"#fb9f3a\"],[0.8888888888888888,\"#fdca26\"],[1.0,\"#f0f921\"]]},\"colorway\":[\"#636efa\",\"#EF553B\",\"#00cc96\",\"#ab63fa\",\"#FFA15A\",\"#19d3f3\",\"#FF6692\",\"#B6E880\",\"#FF97FF\",\"#FECB52\"],\"font\":{\"color\":\"#2a3f5f\"},\"geo\":{\"bgcolor\":\"white\",\"lakecolor\":\"white\",\"landcolor\":\"#E5ECF6\",\"showlakes\":true,\"showland\":true,\"subunitcolor\":\"white\"},\"hoverlabel\":{\"align\":\"left\"},\"hovermode\":\"closest\",\"mapbox\":{\"style\":\"light\"},\"paper_bgcolor\":\"white\",\"plot_bgcolor\":\"#E5ECF6\",\"polar\":{\"angularaxis\":{\"gridcolor\":\"white\",\"linecolor\":\"white\",\"ticks\":\"\"},\"bgcolor\":\"#E5ECF6\",\"radialaxis\":{\"gridcolor\":\"white\",\"linecolor\":\"white\",\"ticks\":\"\"}},\"scene\":{\"xaxis\":{\"backgroundcolor\":\"#E5ECF6\",\"gridcolor\":\"white\",\"gridwidth\":2,\"linecolor\":\"white\",\"showbackground\":true,\"ticks\":\"\",\"zerolinecolor\":\"white\"},\"yaxis\":{\"backgroundcolor\":\"#E5ECF6\",\"gridcolor\":\"white\",\"gridwidth\":2,\"linecolor\":\"white\",\"showbackground\":true,\"ticks\":\"\",\"zerolinecolor\":\"white\"},\"zaxis\":{\"backgroundcolor\":\"#E5ECF6\",\"gridcolor\":\"white\",\"gridwidth\":2,\"linecolor\":\"white\",\"showbackground\":true,\"ticks\":\"\",\"zerolinecolor\":\"white\"}},\"shapedefaults\":{\"line\":{\"color\":\"#2a3f5f\"}},\"ternary\":{\"aaxis\":{\"gridcolor\":\"white\",\"linecolor\":\"white\",\"ticks\":\"\"},\"baxis\":{\"gridcolor\":\"white\",\"linecolor\":\"white\",\"ticks\":\"\"},\"bgcolor\":\"#E5ECF6\",\"caxis\":{\"gridcolor\":\"white\",\"linecolor\":\"white\",\"ticks\":\"\"}},\"title\":{\"x\":0.05},\"xaxis\":{\"automargin\":true,\"gridcolor\":\"white\",\"linecolor\":\"white\",\"ticks\":\"\",\"title\":{\"standoff\":15},\"zerolinecolor\":\"white\",\"zerolinewidth\":2},\"yaxis\":{\"automargin\":true,\"gridcolor\":\"white\",\"linecolor\":\"white\",\"ticks\":\"\",\"title\":{\"standoff\":15},\"zerolinecolor\":\"white\",\"zerolinewidth\":2}}},\"xaxis\":{\"title\":{\"text\":\"optimizer\"}},\"yaxis\":{\"title\":{\"text\":\"Objective Value\"}}},                        {\"responsive\": true}                    ).then(function(){\n",
              "                            \n",
              "var gd = document.getElementById('b02d4832-ecdf-4f78-b303-3796205d5332');\n",
              "var x = new MutationObserver(function (mutations, observer) {{\n",
              "        var display = window.getComputedStyle(gd).display;\n",
              "        if (!display || display === 'none') {{\n",
              "            console.log([gd, 'removed!']);\n",
              "            Plotly.purge(gd);\n",
              "            observer.disconnect();\n",
              "        }}\n",
              "}});\n",
              "\n",
              "// Listen for the removal of the full notebook cells\n",
              "var notebookContainer = gd.closest('#notebook-container');\n",
              "if (notebookContainer) {{\n",
              "    x.observe(notebookContainer, {childList: true});\n",
              "}}\n",
              "\n",
              "// Listen for the clearing of the current output cell\n",
              "var outputEl = gd.closest('.output');\n",
              "if (outputEl) {{\n",
              "    x.observe(outputEl, {childList: true});\n",
              "}}\n",
              "\n",
              "                        })                };                            </script>        </div>\n",
              "</body>\n",
              "</html>"
            ]
          },
          "metadata": {}
        }
      ]
    },
    {
      "cell_type": "code",
      "source": [
        ""
      ],
      "metadata": {
        "id": "AspG0o5Tfuvp"
      },
      "execution_count": null,
      "outputs": []
    }
  ],
  "metadata": {
    "accelerator": "GPU",
    "colab": {
      "collapsed_sections": [],
      "machine_shape": "hm",
      "name": "synthetic_data_interpolation.ipynb",
      "provenance": []
    },
    "kernelspec": {
      "display_name": "Python 3 (ipykernel)",
      "language": "python",
      "name": "python3"
    },
    "language_info": {
      "codemirror_mode": {
        "name": "ipython",
        "version": 3
      },
      "file_extension": ".py",
      "mimetype": "text/x-python",
      "name": "python",
      "nbconvert_exporter": "python",
      "pygments_lexer": "ipython3",
      "version": "3.9.2"
    }
  },
  "nbformat": 4,
  "nbformat_minor": 0
}