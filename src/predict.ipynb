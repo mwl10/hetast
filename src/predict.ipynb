{
 "cells": [
  {
   "cell_type": "code",
   "execution_count": 2,
   "id": "e5621b5e",
   "metadata": {},
   "outputs": [
    {
     "name": "stderr",
     "output_type": "stream",
     "text": [
      "/opt/homebrew/Caskroom/miniforge/base/envs/hetvae/lib/python3.10/site-packages/tqdm/auto.py:22: TqdmWarning: IProgress not found. Please update jupyter and ipywidgets. See https://ipywidgets.readthedocs.io/en/stable/user_install.html\n",
      "  from .autonotebook import tqdm as notebook_tqdm\n"
     ]
    }
   ],
   "source": [
    "import utils "
   ]
  },
  {
   "cell_type": "code",
   "execution_count": 3,
   "id": "66dbf1fc",
   "metadata": {},
   "outputs": [
    {
     "name": "stdout",
     "output_type": "stream",
     "text": [
      "validated 41 files out of 41 for band='simband1'\n",
      "created union_tp attribute of length 5068\n",
      "dataset created w/ shape (40, 1, 180, 3)\n",
      "train size: 32, valid size: 7, test size: 8\n"
     ]
    }
   ],
   "source": [
    "lcs = utils.get_data('synth_test_data', sep=',', min_length=10) \n",
    "net, optimizer, args, epoch, loss = utils.load_checkpoint('synth_2927074.h5', lcs.data_obj)"
   ]
  },
  {
   "cell_type": "code",
   "execution_count": null,
   "id": "e25a31fa",
   "metadata": {},
   "outputs": [],
   "source": [
    "utils.predict()"
   ]
  }
 ],
 "metadata": {
  "kernelspec": {
   "display_name": "hetvae",
   "language": "python",
   "name": "hetvae"
  },
  "language_info": {
   "codemirror_mode": {
    "name": "ipython",
    "version": 3
   },
   "file_extension": ".py",
   "mimetype": "text/x-python",
   "name": "python",
   "nbconvert_exporter": "python",
   "pygments_lexer": "ipython3",
   "version": "3.10.5"
  }
 },
 "nbformat": 4,
 "nbformat_minor": 5
}
