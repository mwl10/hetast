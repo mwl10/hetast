{
  "nbformat": 4,
  "nbformat_minor": 0,
  "metadata": {
    "colab": {
      "name": "preprocess_cat.ipynb",
      "provenance": [],
      "authorship_tag": "ABX9TyOGQMITX9Fo9DHuk66RNCNW",
      "include_colab_link": true
    },
    "kernelspec": {
      "name": "python3",
      "display_name": "Python 3"
    },
    "language_info": {
      "name": "python"
    }
  },
  "cells": [
    {
      "cell_type": "markdown",
      "metadata": {
        "id": "view-in-github",
        "colab_type": "text"
      },
      "source": [
        "<a href=\"https://colab.research.google.com/github/mwl10/hetvae/blob/errors/src/preprocess_cat.ipynb\" target=\"_parent\"><img src=\"https://colab.research.google.com/assets/colab-badge.svg\" alt=\"Open In Colab\"/></a>"
      ]
    },
    {
      "cell_type": "code",
      "execution_count": 8,
      "metadata": {
        "id": "VmknXR65m5tW",
        "outputId": "5e3d4469-34c7-46d6-f4ed-7540d7d9e007",
        "colab": {
          "base_uri": "https://localhost:8080/"
        }
      },
      "outputs": [
        {
          "output_type": "stream",
          "name": "stdout",
          "text": [
            "Cloning into 'hetvae'...\n",
            "remote: Enumerating objects: 2262, done.\u001b[K\n",
            "remote: Counting objects: 100% (402/402), done.\u001b[K\n",
            "remote: Compressing objects: 100% (204/204), done.\u001b[K\n",
            "remote: Total 2262 (delta 276), reused 296 (delta 198), pack-reused 1860\u001b[K\n",
            "Receiving objects: 100% (2262/2262), 27.53 MiB | 13.74 MiB/s, done.\n",
            "Resolving deltas: 100% (879/879), done.\n",
            "Looking in indexes: https://pypi.org/simple, https://us-python.pkg.dev/colab-wheels/public/simple/\n",
            "Requirement already satisfied: alembic==1.7.7 in /usr/local/lib/python3.7/dist-packages (from -r requirements.txt (line 1)) (1.7.7)\n",
            "Requirement already satisfied: attrs==21.4.0 in /usr/local/lib/python3.7/dist-packages (from -r requirements.txt (line 2)) (21.4.0)\n",
            "Requirement already satisfied: autopage==0.5.0 in /usr/local/lib/python3.7/dist-packages (from -r requirements.txt (line 3)) (0.5.0)\n",
            "Requirement already satisfied: backports.functools-lru-cache==1.6.4 in /usr/local/lib/python3.7/dist-packages (from -r requirements.txt (line 4)) (1.6.4)\n",
            "Requirement already satisfied: cliff==3.10.1 in /usr/local/lib/python3.7/dist-packages (from -r requirements.txt (line 5)) (3.10.1)\n",
            "Requirement already satisfied: cmaes==0.8.2 in /usr/local/lib/python3.7/dist-packages (from -r requirements.txt (line 6)) (0.8.2)\n",
            "Requirement already satisfied: cmd2==2.3.3 in /usr/local/lib/python3.7/dist-packages (from -r requirements.txt (line 7)) (2.3.3)\n",
            "Requirement already satisfied: colorama==0.4.4 in /usr/local/lib/python3.7/dist-packages (from -r requirements.txt (line 8)) (0.4.4)\n",
            "Requirement already satisfied: colorlog==6.6.0 in /usr/local/lib/python3.7/dist-packages (from -r requirements.txt (line 9)) (6.6.0)\n",
            "Requirement already satisfied: greenlet==1.1.2 in /usr/local/lib/python3.7/dist-packages (from -r requirements.txt (line 10)) (1.1.2)\n",
            "Requirement already satisfied: importlib-metadata==4.11.4 in /usr/local/lib/python3.7/dist-packages (from -r requirements.txt (line 11)) (4.11.4)\n",
            "Requirement already satisfied: importlib-resources==5.7.1 in /usr/local/lib/python3.7/dist-packages (from -r requirements.txt (line 12)) (5.7.1)\n",
            "Requirement already satisfied: Mako==1.2.0 in /usr/local/lib/python3.7/dist-packages (from -r requirements.txt (line 13)) (1.2.0)\n",
            "Requirement already satisfied: MarkupSafe==2.1.1 in /usr/local/lib/python3.7/dist-packages (from -r requirements.txt (line 14)) (2.1.1)\n",
            "Requirement already satisfied: numpy==1.21.0 in /usr/local/lib/python3.7/dist-packages (from -r requirements.txt (line 15)) (1.21.0)\n",
            "Requirement already satisfied: optuna==2.10.0 in /usr/local/lib/python3.7/dist-packages (from -r requirements.txt (line 16)) (2.10.0)\n",
            "Requirement already satisfied: packaging==21.3 in /usr/local/lib/python3.7/dist-packages (from -r requirements.txt (line 17)) (21.3)\n",
            "Requirement already satisfied: pbr==5.9.0 in /usr/local/lib/python3.7/dist-packages (from -r requirements.txt (line 18)) (5.9.0)\n",
            "Requirement already satisfied: pip==22.1.1 in /usr/local/lib/python3.7/dist-packages (from -r requirements.txt (line 19)) (22.1.1)\n",
            "Requirement already satisfied: prettytable==3.3.0 in /usr/local/lib/python3.7/dist-packages (from -r requirements.txt (line 20)) (3.3.0)\n",
            "Requirement already satisfied: pyparsing==3.0.9 in /usr/local/lib/python3.7/dist-packages (from -r requirements.txt (line 21)) (3.0.9)\n",
            "Requirement already satisfied: pyperclip==1.8.2 in /usr/local/lib/python3.7/dist-packages (from -r requirements.txt (line 22)) (1.8.2)\n",
            "Requirement already satisfied: PyYAML==6.0 in /usr/local/lib/python3.7/dist-packages (from -r requirements.txt (line 23)) (6.0)\n",
            "Requirement already satisfied: scipy==1.7.3 in /usr/local/lib/python3.7/dist-packages (from -r requirements.txt (line 24)) (1.7.3)\n",
            "Requirement already satisfied: setuptools==62.3.2 in /usr/local/lib/python3.7/dist-packages (from -r requirements.txt (line 25)) (62.3.2)\n",
            "Requirement already satisfied: SQLAlchemy==1.4.36 in /usr/local/lib/python3.7/dist-packages (from -r requirements.txt (line 26)) (1.4.36)\n",
            "Requirement already satisfied: stevedore==3.5.0 in /usr/local/lib/python3.7/dist-packages (from -r requirements.txt (line 27)) (3.5.0)\n",
            "Requirement already satisfied: tqdm==4.64.0 in /usr/local/lib/python3.7/dist-packages (from -r requirements.txt (line 28)) (4.64.0)\n",
            "Requirement already satisfied: wcwidth==0.2.5 in /usr/local/lib/python3.7/dist-packages (from -r requirements.txt (line 29)) (0.2.5)\n",
            "Requirement already satisfied: wheel==0.37.1 in /usr/local/lib/python3.7/dist-packages (from -r requirements.txt (line 30)) (0.37.1)\n",
            "Requirement already satisfied: zipp==3.8.0 in /usr/local/lib/python3.7/dist-packages (from -r requirements.txt (line 31)) (3.8.0)\n",
            "Requirement already satisfied: typing-extensions in /usr/local/lib/python3.7/dist-packages (from cmd2==2.3.3->-r requirements.txt (line 7)) (4.2.0)\n",
            "\u001b[33mWARNING: Running pip as the 'root' user can result in broken permissions and conflicting behaviour with the system package manager. It is recommended to use a virtual environment instead: https://pip.pypa.io/warnings/venv\u001b[0m\u001b[33m\n",
            "\u001b[0m"
          ]
        }
      ],
      "source": [
        "import os\n",
        "import shutil#\n",
        "os.chdir('/content')\n",
        "if os.path.isdir('./hetvae'):\n",
        "  shutil.rmtree('./hetvae/')\n",
        "! git clone --branch errors https://github.com/mwl10/hetvae\n",
        "os.chdir('/content/hetvae')\n",
        "! pip install -r requirements.txt\n",
        "os.chdir('/content/hetvae/src')\n",
        "import numpy as np\n",
        "import torch\n",
        "import torch.optim as optim\n",
        "import models\n",
        "from argparse import Namespace\n",
        "import torch.optim as optim\n",
        "import utils\n",
        "import my_utils\n",
        "import pandas as pd\n",
        "import importlib\n",
        "import vae_models\n",
        "importlib.reload(vae_models)\n",
        "importlib.reload(models)\n",
        "importlib.reload(utils)\n",
        "importlib.reload(my_utils)\n",
        "from glob import glob\n",
        "import matplotlib.pyplot as plt\n",
        "import sys\n",
        "from scipy import signal as si\n",
        "\n",
        "#del sys.modules['dataset']\n",
        "from dataset import DataSet\n",
        "%matplotlib inline"
      ]
    },
    {
      "cell_type": "code",
      "source": [
        ""
      ],
      "metadata": {
        "id": "qKA5mr552MkH"
      },
      "execution_count": 3,
      "outputs": []
    },
    {
      "cell_type": "code",
      "source": [
        "#--------------------------------------------------------------------------------------------------------\n",
        "# PREPROCESSING, from Catalina data\n",
        "#--------------------------------------------------------------------------------------------------------\n",
        "lc_files = glob('/content/hetvae/data/CAT/*/*')[:50]\n",
        "\n",
        "Catalina = DataSet() \\\n",
        "            .add_files(lc_files) \\\n",
        "            .files_to_numpy() \\\n",
        "            .handle_dups()\n",
        "\n",
        "            \n",
        "            # .prune_outliers() \\\n",
        "            # .resample_dataset(num_samples=1) \\\n",
        "            # .normalize() \\\n",
        "            # .reorder() \\\n",
        "            # .set_union_x() \\\n",
        "            # .zero_fill() \\\n",
        "            # .error_to_sample_weight() \\\n",
        "            # .make_masks(frac=0.5)\n",
        "\n",
        "# print(\n",
        "#     Catalina.files, '\\n',\n",
        "#     Catalina.union_x.shape,\n",
        "#     Catalina.dataset.shape,\n",
        "#     Catalina.subsampled_mask.shape,\n",
        "#     Catalina.recon_mask.shape\n",
        "#   )\n",
        "# fig,ax = plt.subplots(5,1, figsize=(20,20))\n",
        "# for i in range(5):\n",
        "#     ax[i].scatter(Catalina.dataset[i,:-130,0], Catalina.dataset[i,:-130,1])"
      ],
      "metadata": {
        "id": "yG8aJRMeyoDU",
        "outputId": "6762f1e0-5c69-47fe-fa5c-cb1a1bcae89c",
        "colab": {
          "base_uri": "https://localhost:8080/"
        }
      },
      "execution_count": 31,
      "outputs": [
        {
          "output_type": "stream",
          "name": "stdout",
          "text": [
            "dims of /content/hetvae/data/CAT/CSS/CSS171011:233604-121242_17.67.dat:\t(406, 3)\n",
            "dims of /content/hetvae/data/CAT/CSS/CSS170325:125540+395120_18.55.dat:\t(802, 3)\n",
            "dims of /content/hetvae/data/CAT/CSS/CSS170322:145644+395340_20.7.dat:\t(419, 3)\n",
            "dims of /content/hetvae/data/CAT/CSS/CSS170430:121139+401258_20.22.dat:\t(437, 3)\n",
            "dims of /content/hetvae/data/CAT/CSS/CSS170920:222515-080102_17.54.dat:\t(725, 3)\n",
            "dims of /content/hetvae/data/CAT/CSS/CSS170130:093832+503858_19.45.dat:\t(596, 3)\n",
            "dims of /content/hetvae/data/CAT/CSS/CSS170924:001108+195550_18.68.dat:\t(358, 3)\n",
            "dims of /content/hetvae/data/CAT/CSS/CSS170302:114849+005511_20.26.dat:\t(424, 3)\n",
            "dims of /content/hetvae/data/CAT/CSS/CSS170322:092410+584144_19.69.dat:\t(469, 3)\n",
            "dims of /content/hetvae/data/CAT/CSS/CSS170131:020924-031049_19.67.dat:\t(292, 3)\n",
            "dims of /content/hetvae/data/CAT/CSS/CSS171011:022657-035945_18.76.dat:\t(414, 3)\n",
            "dims of /content/hetvae/data/CAT/CSS/CSS170202:100034+455823_19.25.dat:\t(253, 3)\n",
            "dims of /content/hetvae/data/CAT/CSS/CSS170925:034553-154102_19.07.dat:\t(303, 3)\n",
            "dims of /content/hetvae/data/CAT/CSS/CSS170925:233209-210538_19.1.dat:\t(337, 3)\n",
            "dims of /content/hetvae/data/CAT/CSS/CSS170321:133109+411438_19.05.dat:\t(602, 3)\n",
            "dims of /content/hetvae/data/CAT/CSS/CSS170627:113446+331131_20.32.dat:\t(231, 3)\n",
            "dims of /content/hetvae/data/CAT/CSS/CSS170423:130015+152709_20.7.dat:\t(248, 3)\n",
            "dims of /content/hetvae/data/CAT/CSS/CSS170322:125749+470604_20.81.dat:\t(288, 3)\n",
            "dims of /content/hetvae/data/CAT/CSS/CSS170320:100524+275018_19.98.dat:\t(258, 3)\n",
            "dims of /content/hetvae/data/CAT/CSS/CSS170425:144637+345409_19.9.dat:\t(531, 3)\n",
            "dims of /content/hetvae/data/CAT/CSS/CSS170207:150126+012927_19.82.dat:\t(548, 3)\n",
            "dims of /content/hetvae/data/CAT/CSS/CSS171001:004742+155939_18.04.dat:\t(511, 3)\n",
            "dims of /content/hetvae/data/CAT/CSS/CSS170320:155358+281121_18.12.dat:\t(582, 3)\n",
            "dims of /content/hetvae/data/CAT/CSS/CSS170519:143840+483606_18.94.dat:\t(379, 3)\n",
            "dims of /content/hetvae/data/CAT/CSS/CSS170929:015655+045636_19.34.dat:\t(368, 3)\n",
            "dims of /content/hetvae/data/CAT/CSS/CSS170130:072727+504800_17.44.dat:\t(1052, 3)\n",
            "dims of /content/hetvae/data/CAT/CSS/CSS170201:084317+101227_19.43.dat:\t(275, 3)\n",
            "dims of /content/hetvae/data/CAT/CSS/CSS170918:162531+270547_17.12.dat:\t(533, 3)\n",
            "dims of /content/hetvae/data/CAT/CSS/CSS170626:144534+461748_20.55.dat:\t(332, 3)\n",
            "dims of /content/hetvae/data/CAT/CSS/CSS170929:020951+062822_18.99.dat:\t(444, 3)\n",
            "dims of /content/hetvae/data/CAT/CSS/CSS171011:010004-132449_19.01.dat:\t(302, 3)\n",
            "dims of /content/hetvae/data/CAT/CSS/CSS170327:100524+275019_19.39.dat:\t(450, 3)\n",
            "dims of /content/hetvae/data/CAT/CSS/CSS170930:072702+525141_18.55.dat:\t(908, 3)\n",
            "dims of /content/hetvae/data/CAT/CSS/CSS170529:141209+490112_19.59.dat:\t(422, 3)\n",
            "dims of /content/hetvae/data/CAT/CSS/CSS170928:031553+152331_19.85.dat:\t(393, 3)\n",
            "dims of /content/hetvae/data/CAT/CSS/CSS170925:042038-084453_18.95.dat:\t(315, 3)\n",
            "dims of /content/hetvae/data/CAT/CSS/CSS170516:122751+371654_20.02.dat:\t(270, 3)\n",
            "dims of /content/hetvae/data/CAT/CSS/CSS170528:130623-023814_19.62.dat:\t(292, 3)\n",
            "dims of /content/hetvae/data/CAT/CSS/CSS170201:114232+200717_20.13.dat:\t(175, 3)\n",
            "dims of /content/hetvae/data/CAT/CSS/CSS170330:115713+462454_20.45.dat:\t(73, 3)\n",
            "dims of /content/hetvae/data/CAT/CSS/CSS170928:220238+103029_18.65.dat:\t(476, 3)\n",
            "dims of /content/hetvae/data/CAT/CSS/CSS170928:005935+133340_20.04.dat:\t(215, 3)\n",
            "dims of /content/hetvae/data/CAT/CSS/CSS170616:105354+511232_19.13.dat:\t(14, 3)\n",
            "dims of /content/hetvae/data/CAT/CSS/CSS170925:001445-114228_18.82.dat:\t(217, 3)\n",
            "dims of /content/hetvae/data/CAT/CSS/CSS170130:130357+363042_17.61.dat:\t(467, 3)\n",
            "dims of /content/hetvae/data/CAT/CSS/CSS170304:122225+271222_19.64.dat:\t(692, 3)\n",
            "dims of /content/hetvae/data/CAT/CSS/CSS170928:020115+134229_19.8.dat:\t(338, 3)\n",
            "dims of /content/hetvae/data/CAT/CSS/CSS170201:095935+281239_18.34.dat:\t(931, 3)\n",
            "dims of /content/hetvae/data/CAT/CSS/CSS170323:083128+192242_19.0.dat:\t(576, 3)\n",
            "dims of /content/hetvae/data/CAT/CSS/CSS170321:125647+452323_19.55.dat:\t(591, 3)\n"
          ]
        }
      ]
    },
    {
      "cell_type": "code",
      "source": [
        "# three point median filter\n",
        "\n",
        "# clipping of all points that deviated significantly from a quintic polynomial fit to the data \n",
        "\n",
        "# clipping threshold was initially set to 0.25 mag and then iteratively increased (if necessary) until no more \n",
        "# than 10 percent of the points were rejected\n",
        "\n",
        "\n"
      ],
      "metadata": {
        "id": "9G16-BFj0YjS"
      },
      "execution_count": null,
      "outputs": []
    },
    {
      "cell_type": "code",
      "source": [
        "for lc in Catalina.dataset[1:]: \n",
        "  lc[:,1] = si.medfilt(lc[:,1], kernel_size=3)\n",
        "  plt.scatter(lc[:,0], lc[:,1])\n",
        "  print(lc.shape)\n",
        "  quintic_fit = np.polyfit(lc[:,0], lc[:,1], deg=5)\n",
        "  quintic_y = np.array([lc[:,0]**5, lc[:,0] ** 4, lc[:,0] ** 3, lc[:,0] ** 2 , lc[:,0], np.ones(len(lc))])\n",
        "  quintic_y = np.matmul(quintic_y.T, quintic_fit)\n",
        "  plt.plot(lc[:,0], quintic_y)\n",
        "  dev = np.abs(lc[:,1] - quintic_y)\n",
        "  # check ten percent? \n",
        "  outliers = np.where(dev >= 0.25)\n",
        "\n",
        "  percentage = len(outliers)/ len(lc)\n",
        "  print(percentage)\n",
        "  lc = np.delete(lc, outliers, axis=0)\n",
        "  plt.scatter(lc[:,0], lc[:,1])\n",
        "  print(lc.shape)\n",
        "  \n",
        "  break"
      ],
      "metadata": {
        "id": "XD_H7ZDb2p-G",
        "outputId": "7c7a1d5c-5028-4f44-ac9b-6c13b6c0db38",
        "colab": {
          "base_uri": "https://localhost:8080/",
          "height": 335
        }
      },
      "execution_count": 48,
      "outputs": [
        {
          "output_type": "stream",
          "name": "stdout",
          "text": [
            "(196, 3)\n",
            "0.00510204081632653\n",
            "(170, 3)\n"
          ]
        },
        {
          "output_type": "display_data",
          "data": {
            "text/plain": [
              "<Figure size 432x288 with 1 Axes>"
            ],
            "image/png": "[encoded data removed]"
          },
          "metadata": {
            "needs_background": "light"
          }
        }
      ]
    },
    {
      "cell_type": "code",
      "source": [
        "quintic_fit"
      ],
      "metadata": {
        "id": "MY_HmdgD4mjc",
        "outputId": "00c03870-1d5d-4ac8-a5cd-2b28c2bffb80",
        "colab": {
          "base_uri": "https://localhost:8080/"
        }
      },
      "execution_count": 22,
      "outputs": [
        {
          "output_type": "execute_result",
          "data": {
            "text/plain": [
              "array([ 7.56118672e-16, -4.93099268e-12,  1.16559163e-08, -1.18342745e-05,\n",
              "        4.13440408e-03,  1.20625652e-01])"
            ]
          },
          "metadata": {},
          "execution_count": 22
        }
      ]
    },
    {
      "cell_type": "code",
      "source": [
        ""
      ],
      "metadata": {
        "id": "iLkARWjD5kMr"
      },
      "execution_count": null,
      "outputs": []
    }
  ]
}