{
  "nbformat": 4,
  "nbformat_minor": 0,
  "metadata": {
    "colab": {
      "name": "preprocess_cat.ipynb",
      "provenance": [],
      "authorship_tag": "ABX9TyN3rR3OHQaUytEk/pU8CrTy",
      "include_colab_link": true
    },
    "kernelspec": {
      "name": "python3",
      "display_name": "Python 3"
    },
    "language_info": {
      "name": "python"
    }
  },
  "cells": [
    {
      "cell_type": "markdown",
      "metadata": {
        "id": "view-in-github",
        "colab_type": "text"
      },
      "source": [
        "<a href=\"https://colab.research.google.com/github/mwl10/hetvae/blob/errors/src/preprocess_cat.ipynb\" target=\"_parent\"><img src=\"https://colab.research.google.com/assets/colab-badge.svg\" alt=\"Open In Colab\"/></a>"
      ]
    },
    {
      "cell_type": "code",
      "execution_count": null,
      "metadata": {
        "id": "VmknXR65m5tW"
      },
      "outputs": [],
      "source": [
        "import os\n",
        "import shutil#\n",
        "os.chdir('/content')\n",
        "if os.path.isdir('./hetvae'):\n",
        "  shutil.rmtree('./hetvae/')\n",
        "! git clone --branch errors https://github.com/mwl10/hetvae\n",
        "os.chdir('/content/hetvae')\n",
        "! pip install -r requirements.txt\n",
        "os.chdir('/content/hetvae/src')\n",
        "import numpy as np\n",
        "from scipy import signal\n",
        "from glob import glob\n",
        "import matplotlib.pyplot as plt\n",
        "from dataset import DataSet"
      ]
    },
    {
      "cell_type": "code",
      "source": [
        "#--------------------------------------------------------------------------------------------------------\n",
        "# PREPROCESSING, from Catalina data\n",
        "#--------------------------------------------------------------------------------------------------------\n",
        "\n",
        "# three point median filter\n",
        "\n",
        "# clipping of all points that deviated significantly from a quintic polynomial fit to the data \n",
        "\n",
        "# clipping threshold was initially set to 0.25 mag and then iteratively increased (if necessary) until no more \n",
        "# than 10 percent of the points were rejected\n",
        "\n",
        "# dataset, glob, np, scipy, matplotlib\n",
        "\n",
        "lc_files = glob('/content/hetvae/data/CAT/*/*')\n",
        "\n",
        "\n",
        "Catalina = DataSet() \\\n",
        "            .add_files(lc_files) \\\n",
        "            .files_to_numpy() \\\n",
        "            .handle_dups()\n",
        "\n",
        "print(len(Catalina.files))\n",
        "\n",
        "for i, lc in enumerate(Catalina.dataset): \n",
        "    if len(lc) < 50:\n",
        "        del Catalina.files[i]\n",
        "        del Catalina.dataset[i]\n",
        "        pass\n",
        "    lc[:,1] = signal.medfilt(lc[:,1], kernel_size=3)\n",
        "    quintic_fit = np.polyfit(lc[:,0], lc[:,1], deg=5)\n",
        "    quintic_y = np.array([lc[:,0]**5, lc[:,0] ** 4, lc[:,0] ** 3, lc[:,0] ** 2 , lc[:,0], np.ones(len(lc))])\n",
        "    quintic_y = np.matmul(quintic_y.T, quintic_fit)\n",
        "\n",
        "    print(np.std(quintic_y))\n",
        "    plt.plot(lc[:,0], quintic_y)\n",
        "    dev = np.abs(lc[:,1] - quintic_y)\n",
        "\n",
        "\n",
        "    # increase if more than 10 percent are removed\n",
        "    percentage = 1.\n",
        "    mag_threshold = 0.25\n",
        "    while(percentage >= .1):\n",
        "        outliers = np.where(dev >= mag_threshold)[0]\n",
        "        #\n",
        "\n",
        "        percentage = len(outliers)/ len(lc) # none past 10 percent \n",
        "        print(percentage)\n",
        "        if percentage >= .1:\n",
        "            print('need to increase outlier mag threshold')\n",
        "            mag_threshold += 0.05\n",
        "\n",
        "\n",
        "\n",
        "    plt.scatter(lc[outliers,0], lc[outliers,1], c='r', marker='x')\n",
        "    lc = np.delete(lc, outliers, axis=0)\n",
        "    plt.scatter(lc[:,0], lc[:,1], c='b')\n",
        "    plt.xlabel('MJD')\n",
        "    plt.ylabel('mag')\n",
        "    break"
      ],
      "metadata": {
        "colab": {
          "base_uri": "https://localhost:8080/",
          "height": 547
        },
        "id": "yG8aJRMeyoDU",
        "outputId": "e1bff77c-d49b-46ad-e14c-92a07d6935fc"
      },
      "execution_count": 9,
      "outputs": [
        {
          "output_type": "stream",
          "name": "stdout",
          "text": [
            "974\n",
            "0.1262596507877878\n",
            "0.375\n",
            "need to increase outlier mag threshold\n",
            "0.295\n",
            "need to increase outlier mag threshold\n",
            "0.245\n",
            "need to increase outlier mag threshold\n",
            "0.155\n",
            "need to increase outlier mag threshold\n",
            "0.12\n",
            "need to increase outlier mag threshold\n",
            "0.1\n",
            "need to increase outlier mag threshold\n",
            "0.065\n"
          ]
        },
        {
          "output_type": "display_data",
          "data": {
            "text/plain": [
              "<Figure size 432x288 with 1 Axes>"
            ],
            "image/png": "[encoded data removed]"
          },
          "metadata": {
            "needs_background": "light"
          }
        }
      ]
    },
    {
      "cell_type": "code",
      "source": [
        ""
      ],
      "metadata": {
        "id": "iLkARWjD5kMr"
      },
      "execution_count": null,
      "outputs": []
    }
  ]
}