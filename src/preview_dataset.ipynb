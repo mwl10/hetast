{
 "cells": [
  {
   "cell_type": "code",
   "execution_count": null,
   "id": "4c4f07f7",
   "metadata": {},
   "outputs": [],
   "source": [
    "import numpy as np\n",
    "import torch\n",
    "import torch.optim as optim\n",
    "import models\n",
    "import utils\n",
    "import matplotlib.pyplot as plt\n",
    "import sklearn\n",
    "from sklearn.manifold import TSNE\n",
    "import os\n",
    "from dataset import DataSet\n",
    "import warnings"
   ]
  },
  {
   "cell_type": "code",
   "execution_count": null,
   "id": "0c30f04b",
   "metadata": {},
   "outputs": [],
   "source": [
    "%load_ext autoreload\n",
    "%autoreload"
   ]
  },
  {
   "cell_type": "code",
   "execution_count": null,
   "id": "b9265d79",
   "metadata": {},
   "outputs": [],
   "source": [
    "lcs = utils.get_data('./test_d2',start_col=1)"
   ]
  },
  {
   "cell_type": "code",
   "execution_count": null,
   "id": "38989f7a",
   "metadata": {},
   "outputs": [],
   "source": [
    "utils.preview_lcs(lcs.data_obj['train_loader'], lcs.bands, N=10, figsize=(25,25))"
   ]
  },
  {
   "cell_type": "code",
   "execution_count": null,
   "id": "0800bf43",
   "metadata": {},
   "outputs": [],
   "source": [
    "utils.preview_mask(lcs.data_obj['train_loader'], lcs.bands, N=10, figsize=(25,15))"
   ]
  },
  {
   "cell_type": "code",
   "execution_count": null,
   "id": "c5a21aa5",
   "metadata": {},
   "outputs": [],
   "source": [
    "ds = DataSet(start_col=1)\n",
    "ds.add_band('i', './ZTF_DR_data/i')\n",
    "ds.to_numpy()\n",
    "ds.set_intrinsic_vars()\n",
    "ds.set_mean_mags()\n",
    "ds.normalize()\n",
    "# ds.set_epoch_counts(sep_std=3, plot=True, figsize=(10,5), index=15)\n",
    "# ds.formatting()\n",
    "# ds.set_union_tp()\n",
    "# ds.set_data_obj(batch_size=8)\n",
    "\n"
   ]
  },
  {
   "cell_type": "code",
   "execution_count": null,
   "id": "2a7244a0",
   "metadata": {},
   "outputs": [],
   "source": [
    "plt.hist(ds.mean_mags)"
   ]
  },
  {
   "cell_type": "code",
   "execution_count": null,
   "id": "ebc68ca0",
   "metadata": {},
   "outputs": [],
   "source": [
    "plt.hist(ds.intrinsic_vars)"
   ]
  },
  {
   "cell_type": "code",
   "execution_count": null,
   "id": "c38c6509",
   "metadata": {},
   "outputs": [],
   "source": [
    "def chop_lcs(self, std_threshold=1):\n",
    "    ranges = [np.ptp(lc[:,0]) for object_lcs in self.dataset for lc in object_lcs]\n",
    "    std_ranges = np.std(ranges)\n",
    "    for i, object_lcs in enumerate(self.dataset):\n",
    "        for j, lc in enumerate(object_lcs):\n",
    "            num_splits = int(ranges[i*j] / (std_threshold * std_ranges))\n",
    "            if num_splits <= 1:\n",
    "                continue\n",
    "            else:\n",
    "                split_pt = np.where(lc[:,0] > (std_threshold * std_ranges))[0][0]\n",
    "                self.dataset[i][j] = lc[:split_pt]\n",
    "            \n",
    "            \n",
    "def set_optical_lum(self):\n",
    "        optical_lum = np.zeros((len(self.dataset),len(self.bands)))\n",
    "        for i, object_lcs in enumerate(self.dataset):\n",
    "            for j, lc in enumerate(object_lcs):\n",
    "                dev_from_mean = (lc[:,1] - np.mean(lc[:,1]))\n",
    "                avg_sq_dev_from_mean = np.matmul(dev_from_mean, dev_from_mean) * (1 / (len(lc) - 1))\n",
    "                avg_sq_err = np.matmul(lc[:,2], lc[:,2]) / len(lc)\n",
    "                intrinsic_var = avg_sq_dev_from_mean - avg_sq_err\n",
    "                intrinsic_vars[i,j] = intrinsic_var\n",
    "        self.intrinsic_vars = intrinsic_vars"
   ]
  },
  {
   "cell_type": "code",
   "execution_count": null,
   "id": "548faba6",
   "metadata": {},
   "outputs": [],
   "source": [
    "ZTF = utils.get_data(start_col=1, folder='./test_d1')\n",
    "ZTF.set_target_x(num_points=400)\n",
    "utils.preview_lcs(ZTF.data_obj['train_loader'], ZTF.bands, N=10, figsize=(25,25))"
   ]
  },
  {
   "cell_type": "code",
   "execution_count": null,
   "id": "79bb1f4a",
   "metadata": {},
   "outputs": [],
   "source": [
    "# need to install astropy\n",
    "from astropy.constants import G, c, h, k_B, M_sun, sigma_sb\n",
    "from math import pi, exp\n",
    "from scipy.integrate import dblquad\n",
    "from scipy import signal\n",
    "from scipy import signal \n",
    "from astropy import units as u\n",
    "\n",
    "M_acc = M_sun / u.year\n",
    "M_smbh = 2*(10**8)*M_sun\n",
    "L_ratio = 0.1  # L / L_edd\n",
    "eta = 0.1    # accretion efficiency\n",
    "q = lambda lambd: (h * c) / (lambd * k_B)\n",
    "x = lambda R, R_lambd: R / R_lambd\n",
    "dirac_loc = lambda R, i, theta: (R/c) * (1 + np.sin(i) * np.cos(theta))\n",
    "i = 0 # degrees\n",
    "\n",
    "def radius(lambd): # wavelength should be in meters\n",
    "    term1 = q(lambd) ** -(4/3)\n",
    "    term2 = (((3 * G * M_acc*M_smbh) / (8 * pi * eta * c**2 * sigma_sb)) * L_ratio) ** 1/3\n",
    "    R_lambd = term1 * term2\n",
    "    return R_lambd\n",
    "    \n",
    "def dB_dT(lambd, R):\n",
    "    R_lambd = radius(lambd)\n",
    "    term1 = q(lambd) *  (x(R,R_lambd) ** -(1/4)) * exp(q(lambd) * (x(R,R_lambd) ** (3/4)))\n",
    "    term2 = 4 * (exp(q(lambd) * x(R,R_lambd) **(3/4)) - 1) ** 2\n",
    "    dB_dT = one / two\n",
    "    return dB_dT\n",
    "\n",
    "def dirac_fn(val, x):\n",
    "    return 1 if val == x else 0\n",
    "\n",
    "def transfer_fn(tau, lambd, R_in, R_out, D):\n",
    "    res = dblquad(lambda R, theta:    \\\n",
    "                dB_dT(lambd, R) *    \\\n",
    "                ((np.cos(i) * R) / (D ** 2)) * \\\n",
    "                dirac_fn(tau, dirac_loc(R, i, theta)), \\\n",
    "                R_in, R_out, 0, 2*pi)\n",
    "    return res\n",
    "    \n",
    "    \n",
    "# questions?\n",
    "# why does dB_dT return nans? is it the range?\n",
    "# what's the units for wavelength?\n",
    "# what are some reasonable input values for these equations\n",
    "\n"
   ]
  },
  {
   "cell_type": "code",
   "execution_count": null,
   "id": "0ae39e3b",
   "metadata": {},
   "outputs": [],
   "source": [
    "##λ eff , u = 3671 Å, λ eff , g = 4827 Å, λ eff , r = 6223 Å, λ eff , i = 7546 Å, λ eff , z = 8691 Å, and λ eff , y = 9712 Å.\n",
    "u = 3.671e-7 \n",
    "g = 4.827e-7\n",
    "r = 6.223e-7\n",
    "i = 7.7546e-7\n",
    "z = 8.8691e-7\n",
    "y = 9.712e-7\n",
    "\n",
    "    # u = 320.5 - 393.5, g = 401.5 - 551.9, r = 552.0 - 691.0, i = 691.0 - 818.0,\n",
    "    # z = 818.0 - 923.5, y = 923.8 - 1084.5\n",
    "\n",
    "\n"
   ]
  }
 ],
 "metadata": {
  "kernelspec": {
   "display_name": "hetvae",
   "language": "python",
   "name": "hetvae"
  },
  "language_info": {
   "codemirror_mode": {
    "name": "ipython",
    "version": 3
   },
   "file_extension": ".py",
   "mimetype": "text/x-python",
   "name": "python",
   "nbconvert_exporter": "python",
   "pygments_lexer": "ipython3",
   "version": "3.10.5"
  }
 },
 "nbformat": 4,
 "nbformat_minor": 5
}
