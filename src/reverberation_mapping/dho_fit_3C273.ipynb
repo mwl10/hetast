{
 "cells": [
  {
   "cell_type": "code",
   "execution_count": 209,
   "id": "11f8d79a",
   "metadata": {},
   "outputs": [],
   "source": [
    "from eztao.carma import DRW_term, DHO_term\n",
    "from eztao.ts import gpSimRand, gpSimFull, drw_fit, dho_fit\n",
    "import pandas as pd\n",
    "import os\n",
    "import numpy as np\n",
    "import matplotlib.pyplot as plt\n",
    "import photRM"
   ]
  },
  {
   "cell_type": "code",
   "execution_count": null,
   "id": "4f2ae71b",
   "metadata": {},
   "outputs": [],
   "source": []
  },
  {
   "cell_type": "code",
   "execution_count": null,
   "id": "c345a813",
   "metadata": {},
   "outputs": [],
   "source": [
    "###### how does the convolution work? \n",
    "\n",
    "np.random.seed(0)\n",
    "\n",
    "# generate a continuum light curve (x-band)\n",
    "tc, fxc, errxc, rblr = photRM.LC_conti(6000)\n",
    "\n",
    "# if you want to specify a time-lag (size of the BLR):\n",
    "#tc, fxc, errxc, rblr = photRM.LC_conti(6000, rblr_flag=True, lag=42)\n",
    "\n",
    "# use obtained continuum light curve to generate a continuum+line light curve (y-band)\n",
    "x_band, y_band, line_response = photRM.LC_two_bands(tc, fxc, errxc, rblr)"
   ]
  },
  {
   "cell_type": "code",
   "execution_count": null,
   "id": "49bedb5d",
   "metadata": {},
   "outputs": [],
   "source": []
  },
  {
   "cell_type": "code",
   "execution_count": null,
   "id": "28ae72e8",
   "metadata": {},
   "outputs": [],
   "source": []
  },
  {
   "cell_type": "code",
   "execution_count": 210,
   "id": "16da51c6",
   "metadata": {},
   "outputs": [],
   "source": [
    "os.chdir('/Users/mattlowery/Desktop/code/astro/hetvae/src/reverberation_mapping/fortran_dir/3C_273_data')\n",
    "\n",
    "B = '3C273_B'\n",
    "G = '3C273_G'\n",
    "V = '3C273_V'\n",
    "R = '3C273_R'\n",
    "I = '3C273_I'\n",
    "Z = '3C273_Z'"
   ]
  },
  {
   "cell_type": "code",
   "execution_count": 211,
   "id": "0e4b4f29",
   "metadata": {},
   "outputs": [],
   "source": [
    "B_df = pd.read_csv(B, sep=' ', header=None).sort_values(0)"
   ]
  },
  {
   "cell_type": "code",
   "execution_count": 212,
   "id": "9fc885a5",
   "metadata": {},
   "outputs": [],
   "source": [
    "B_df.columns = {'t':0,'mag':1,'magerr':2}"
   ]
  },
  {
   "cell_type": "code",
   "execution_count": 213,
   "id": "2232064a",
   "metadata": {},
   "outputs": [
    {
     "data": {
      "text/html": [
       "<div>\n",
       "<style scoped>\n",
       "    .dataframe tbody tr th:only-of-type {\n",
       "        vertical-align: middle;\n",
       "    }\n",
       "\n",
       "    .dataframe tbody tr th {\n",
       "        vertical-align: top;\n",
       "    }\n",
       "\n",
       "    .dataframe thead th {\n",
       "        text-align: right;\n",
       "    }\n",
       "</style>\n",
       "<table border=\"1\" class=\"dataframe\">\n",
       "  <thead>\n",
       "    <tr style=\"text-align: right;\">\n",
       "      <th></th>\n",
       "      <th>t</th>\n",
       "      <th>mag</th>\n",
       "      <th>magerr</th>\n",
       "    </tr>\n",
       "  </thead>\n",
       "  <tbody>\n",
       "    <tr>\n",
       "      <th>210</th>\n",
       "      <td>59434.990279</td>\n",
       "      <td>18.640255</td>\n",
       "      <td>0.227</td>\n",
       "    </tr>\n",
       "    <tr>\n",
       "      <th>211</th>\n",
       "      <td>59435.729725</td>\n",
       "      <td>18.348327</td>\n",
       "      <td>0.248</td>\n",
       "    </tr>\n",
       "    <tr>\n",
       "      <th>212</th>\n",
       "      <td>59435.730422</td>\n",
       "      <td>18.134334</td>\n",
       "      <td>0.248</td>\n",
       "    </tr>\n",
       "    <tr>\n",
       "      <th>213</th>\n",
       "      <td>59436.723439</td>\n",
       "      <td>18.179174</td>\n",
       "      <td>0.356</td>\n",
       "    </tr>\n",
       "    <tr>\n",
       "      <th>214</th>\n",
       "      <td>59436.724089</td>\n",
       "      <td>18.284681</td>\n",
       "      <td>0.356</td>\n",
       "    </tr>\n",
       "  </tbody>\n",
       "</table>\n",
       "</div>"
      ],
      "text/plain": [
       "                t        mag  magerr\n",
       "210  59434.990279  18.640255   0.227\n",
       "211  59435.729725  18.348327   0.248\n",
       "212  59435.730422  18.134334   0.248\n",
       "213  59436.723439  18.179174   0.356\n",
       "214  59436.724089  18.284681   0.356"
      ]
     },
     "execution_count": 213,
     "metadata": {},
     "output_type": "execute_result"
    }
   ],
   "source": [
    "B_df.tail()"
   ]
  },
  {
   "cell_type": "code",
   "execution_count": 218,
   "id": "c9fa8b58",
   "metadata": {},
   "outputs": [],
   "source": [
    "t = B_df['t'].to_numpy()\n",
    "y = B_df['mag'].to_numpy() # .mean()\n",
    "yerr = B_df['magerr'].to_numpy()"
   ]
  },
  {
   "cell_type": "code",
   "execution_count": 219,
   "id": "37d3b3b2",
   "metadata": {},
   "outputs": [],
   "source": [
    "# SNR is ratio between CARMA RMS amplitude and\n",
    "# the median of the measurement errors (simulated using log normal).\n",
    "RMS = np.sqrt(np.mean(np.square(B_df['mag'])))\n",
    "SNR = RMS / np.median(B_df['magerr'])"
   ]
  },
  {
   "cell_type": "code",
   "execution_count": 220,
   "id": "650c75c1",
   "metadata": {},
   "outputs": [
    {
     "name": "stdout",
     "output_type": "stream",
     "text": [
      "Best-fit DRW parameters: [3.24494835 0.4129514  0.45521499 0.49891822]\n"
     ]
    }
   ],
   "source": [
    "best_fit = dho_fit(t, y, yerr)\n",
    "print(f'Best-fit DRW parameters: {best_fit}')\n",
    "log_bf =  np.log(best_fit)"
   ]
  },
  {
   "cell_type": "code",
   "execution_count": 221,
   "id": "57c90eb9",
   "metadata": {},
   "outputs": [],
   "source": [
    "B_df['t'] = B_df['t'] - B_df['t'][0]"
   ]
  },
  {
   "cell_type": "code",
   "execution_count": 238,
   "id": "07e8c9d7",
   "metadata": {},
   "outputs": [
    {
     "data": {
      "text/plain": [
       "(2, 1, 1, 2)"
      ]
     },
     "execution_count": 238,
     "metadata": {},
     "output_type": "execute_result"
    }
   ],
   "source": [
    "x = [np.array([[10,1]])[np.newaxis,np.newaxis], np.array([[10,1]])[np.newaxis,np.newaxis]]\n",
    "np.concatenate(x, axis=0).shape"
   ]
  },
  {
   "cell_type": "code",
   "execution_count": 205,
   "id": "8fb20a96",
   "metadata": {},
   "outputs": [],
   "source": [
    "DHO_kernel =  DHO_term(*log_bf)\n",
    "# SNR, duration, N\n",
    "t, y, yerr = gpSimFull(DHO_kernel,SNR, 260, 260) # this is just not the right scale wtf \n",
    "sim_df = pd.DataFrame([t,y,yerr]).T\n",
    "sim_df.columns = {'t':0, 'mag':1, 'magerr':2}"
   ]
  },
  {
   "cell_type": "code",
   "execution_count": 173,
   "id": "610d6420",
   "metadata": {},
   "outputs": [],
   "source": [
    "from scipy import interpolate\n",
    "\n",
    "def interp(a,b):\n",
    "    new_b = pd.DataFrame(columns=['t', 'mag', 'magerr'])\n",
    "    # nearest, extrapolate \n",
    "    f0 = interpolate.interp1d(b['t'], b['mag'], kind='quadratic',fill_value=\"extrapolate\")\n",
    "    f1 = interpolate.interp1d(b['t'], b['magerr'], kind='quadratic',fill_value=\"extrapolate\")\n",
    "    new_b['mag'] = f0(a['t'])\n",
    "    new_b['magerr'] = f1(a['t'])\n",
    "    new_b['t'] = a['t']\n",
    "    return new_b\n"
   ]
  },
  {
   "cell_type": "code",
   "execution_count": 197,
   "id": "dfc70896",
   "metadata": {},
   "outputs": [],
   "source": [
    "f = interpolate.interp1d(sim_df['t'], sim_df['mag'],fill_value=\"extrapolate\")"
   ]
  },
  {
   "cell_type": "code",
   "execution_count": 201,
   "id": "b09a0e5d",
   "metadata": {},
   "outputs": [
    {
     "data": {
      "text/plain": [
       "[<matplotlib.lines.Line2D at 0x15c9b0b20>,\n",
       " <matplotlib.lines.Line2D at 0x15c9b0ca0>]"
      ]
     },
     "execution_count": 201,
     "metadata": {},
     "output_type": "execute_result"
    },
    {
     "data": {
      "image/png": "[encoded data removed]",
      "text/plain": [
       "<Figure size 432x288 with 1 Axes>"
      ]
     },
     "metadata": {
      "needs_background": "light"
     },
     "output_type": "display_data"
    }
   ],
   "source": [
    "plt.plot(B_df['t'], f(B_df['t']), '-', np.log(B_df['mag']))"
   ]
  },
  {
   "cell_type": "code",
   "execution_count": null,
   "id": "13a237fd",
   "metadata": {},
   "outputs": [],
   "source": []
  },
  {
   "cell_type": "code",
   "execution_count": 192,
   "id": "29adc100",
   "metadata": {},
   "outputs": [
    {
     "data": {
      "text/plain": [
       "[<matplotlib.lines.Line2D at 0x15c827b50>]"
      ]
     },
     "execution_count": 192,
     "metadata": {},
     "output_type": "execute_result"
    },
    {
     "data": {
      "image/png": "[encoded data removed]",
      "text/plain": [
       "<Figure size 432x288 with 1 Axes>"
      ]
     },
     "metadata": {
      "needs_background": "light"
     },
     "output_type": "display_data"
    }
   ],
   "source": [
    "plt.plot(sim_df['t'], sim_df['mag'])"
   ]
  },
  {
   "cell_type": "code",
   "execution_count": 174,
   "id": "f86ad24c",
   "metadata": {},
   "outputs": [],
   "source": [
    "new_sim = interp(B_df, sim_df)"
   ]
  },
  {
   "cell_type": "code",
   "execution_count": 175,
   "id": "f98c3563",
   "metadata": {},
   "outputs": [
    {
     "data": {
      "text/plain": [
       "[<matplotlib.lines.Line2D at 0x15c6364a0>]"
      ]
     },
     "execution_count": 175,
     "metadata": {},
     "output_type": "execute_result"
    },
    {
     "data": {
      "image/png": "[encoded data removed]",
      "text/plain": [
       "<Figure size 432x288 with 1 Axes>"
      ]
     },
     "metadata": {
      "needs_background": "light"
     },
     "output_type": "display_data"
    }
   ],
   "source": [
    "plt.plot(B_df['t'], B_df['mag'])"
   ]
  },
  {
   "cell_type": "code",
   "execution_count": 176,
   "id": "19a38012",
   "metadata": {},
   "outputs": [
    {
     "data": {
      "text/html": [
       "<div>\n",
       "<style scoped>\n",
       "    .dataframe tbody tr th:only-of-type {\n",
       "        vertical-align: middle;\n",
       "    }\n",
       "\n",
       "    .dataframe tbody tr th {\n",
       "        vertical-align: top;\n",
       "    }\n",
       "\n",
       "    .dataframe thead th {\n",
       "        text-align: right;\n",
       "    }\n",
       "</style>\n",
       "<table border=\"1\" class=\"dataframe\">\n",
       "  <thead>\n",
       "    <tr style=\"text-align: right;\">\n",
       "      <th></th>\n",
       "      <th>t</th>\n",
       "      <th>mag</th>\n",
       "      <th>magerr</th>\n",
       "    </tr>\n",
       "  </thead>\n",
       "  <tbody>\n",
       "    <tr>\n",
       "      <th>0</th>\n",
       "      <td>0.000000</td>\n",
       "      <td>1.134982e+02</td>\n",
       "      <td>0.004545</td>\n",
       "    </tr>\n",
       "    <tr>\n",
       "      <th>1</th>\n",
       "      <td>0.001009</td>\n",
       "      <td>8.838020e+01</td>\n",
       "      <td>0.004541</td>\n",
       "    </tr>\n",
       "    <tr>\n",
       "      <th>2</th>\n",
       "      <td>20.952008</td>\n",
       "      <td>2.686514e+07</td>\n",
       "      <td>-180.620260</td>\n",
       "    </tr>\n",
       "    <tr>\n",
       "      <th>3</th>\n",
       "      <td>20.953005</td>\n",
       "      <td>2.686782e+07</td>\n",
       "      <td>-180.638275</td>\n",
       "    </tr>\n",
       "    <tr>\n",
       "      <th>4</th>\n",
       "      <td>25.012346</td>\n",
       "      <td>3.888390e+07</td>\n",
       "      <td>-261.432604</td>\n",
       "    </tr>\n",
       "  </tbody>\n",
       "</table>\n",
       "</div>"
      ],
      "text/plain": [
       "           t           mag      magerr\n",
       "0   0.000000  1.134982e+02    0.004545\n",
       "1   0.001009  8.838020e+01    0.004541\n",
       "2  20.952008  2.686514e+07 -180.620260\n",
       "3  20.953005  2.686782e+07 -180.638275\n",
       "4  25.012346  3.888390e+07 -261.432604"
      ]
     },
     "execution_count": 176,
     "metadata": {},
     "output_type": "execute_result"
    }
   ],
   "source": [
    "new_sim.head()"
   ]
  },
  {
   "cell_type": "code",
   "execution_count": 177,
   "id": "3b02cd1f",
   "metadata": {},
   "outputs": [
    {
     "data": {
      "text/plain": [
       "[<matplotlib.lines.Line2D at 0x15c696770>]"
      ]
     },
     "execution_count": 177,
     "metadata": {},
     "output_type": "execute_result"
    },
    {
     "data": {
      "image/png": "[encoded data removed]",
      "text/plain": [
       "<Figure size 432x288 with 1 Axes>"
      ]
     },
     "metadata": {
      "needs_background": "light"
     },
     "output_type": "display_data"
    }
   ],
   "source": [
    "plt.plot(new_sim['t'], new_sim['mag'])"
   ]
  },
  {
   "cell_type": "code",
   "execution_count": null,
   "id": "54ef8a9d",
   "metadata": {},
   "outputs": [],
   "source": []
  }
 ],
 "metadata": {
  "kernelspec": {
   "display_name": "hetvae",
   "language": "python",
   "name": "hetvae"
  },
  "language_info": {
   "codemirror_mode": {
    "name": "ipython",
    "version": 3
   },
   "file_extension": ".py",
   "mimetype": "text/x-python",
   "name": "python",
   "nbconvert_exporter": "python",
   "pygments_lexer": "ipython3",
   "version": "3.10.5"
  }
 },
 "nbformat": 4,
 "nbformat_minor": 5
}
