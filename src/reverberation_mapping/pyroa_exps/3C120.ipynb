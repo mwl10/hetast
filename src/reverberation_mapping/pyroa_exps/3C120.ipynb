{
 "cells": [
  {
   "cell_type": "code",
   "execution_count": null,
   "id": "52653b79",
   "metadata": {},
   "outputs": [],
   "source": []
  },
  {
   "cell_type": "code",
   "execution_count": 1,
   "id": "b7388e59",
   "metadata": {},
   "outputs": [],
   "source": [
    "import PyROA\n",
    "import os\n",
    "import glob\n",
    "import numpy as np\n",
    "import pandas as pd\n",
    "from matplotlib import pyplot as plt\n",
    "import torch\n",
    "import os\n",
    "import glob\n",
    "import scienceplots\n",
    "import sys\n",
    "sys.path.insert(0, os.path.abspath('../..'))\n",
    "import utils\n",
    "np.random.seed(2) \n",
    "torch.manual_seed(2)\n",
    "%load_ext autoreload"
   ]
  },
  {
   "cell_type": "code",
   "execution_count": 5,
   "id": "de6d450a",
   "metadata": {},
   "outputs": [
    {
     "name": "stdout",
     "output_type": "stream",
     "text": [
      "['../../datasets/ZTF_rm_segments/3C120/epoch0/', '../../datasets/ZTF_rm_segments/3C120/epoch1/'] 2\n"
     ]
    }
   ],
   "source": [
    "epoch_dirs = glob.glob('../../datasets/ZTF_rm_segments/3C120/*/')\n",
    "epoch_dirs.sort()\n",
    "print(epoch_dirs, len(epoch_dirs))\n",
    "\n",
    "filters = [\"g\",\"r\"] \n",
    "objName = \"3C120\"\n",
    "psi_types = [\"LogGaussian\", \"LogGaussian\"]\n",
    "\n",
    "\n",
    "default = [[0.0, 20.0],[0.0, 100.0], [-50.0, 50.0], [0.01, 10.0], [0.0, 10.0]]\n",
    "            # rms      # mean       # lag        # width of window  # extra error \n",
    "priors = [[0.0, 20.0], [0.0, 100.0], [-50.0, 50.0], [0.01, 10.0], [0.0, 10.0]]\n",
    "\n",
    "inc_window = [[0.0, 20.0], [0.0, 100.0], [-50.0, 50.0], [5,15], [0.0, 10.0]]\n",
    "init_delta = 10\n"
   ]
  },
  {
   "cell_type": "code",
   "execution_count": null,
   "id": "64242c10",
   "metadata": {},
   "outputs": [],
   "source": [
    "0,1 for g/r, poorly sampled (1 sorta has shape)"
   ]
  },
  {
   "cell_type": "markdown",
   "id": "cc59d045",
   "metadata": {},
   "source": [
    "# Segment 1"
   ]
  },
  {
   "cell_type": "code",
   "execution_count": null,
   "id": "b18b7afe",
   "metadata": {},
   "outputs": [],
   "source": [
    "fit = PyROA.Fit(epoch_dirs[0], objName, filters, priors, delay_dist=True, add_var=True, psi_types=psi_types)\n",
    "PyROA.Plot(fit)"
   ]
  },
  {
   "cell_type": "code",
   "execution_count": null,
   "id": "b7e26498",
   "metadata": {},
   "outputs": [],
   "source": []
  },
  {
   "cell_type": "code",
   "execution_count": null,
   "id": "b762bbc8",
   "metadata": {},
   "outputs": [],
   "source": []
  },
  {
   "cell_type": "code",
   "execution_count": null,
   "id": "992417fb",
   "metadata": {},
   "outputs": [],
   "source": []
  },
  {
   "cell_type": "code",
   "execution_count": null,
   "id": "b452759a",
   "metadata": {},
   "outputs": [],
   "source": []
  },
  {
   "cell_type": "markdown",
   "id": "85633874",
   "metadata": {},
   "source": [
    "# Segment 2"
   ]
  },
  {
   "cell_type": "code",
   "execution_count": null,
   "id": "92abd5b7",
   "metadata": {},
   "outputs": [],
   "source": [
    "fit = PyROA.Fit(epoch_dirs[1], objName, filters, priors, delay_dist=True, add_var=True, psi_types=psi_types)\n",
    "PyROA.Plot(fit)"
   ]
  }
 ],
 "metadata": {
  "kernelspec": {
   "display_name": "hetvae",
   "language": "python",
   "name": "hetvae"
  },
  "language_info": {
   "codemirror_mode": {
    "name": "ipython",
    "version": 3
   },
   "file_extension": ".py",
   "mimetype": "text/x-python",
   "name": "python",
   "nbconvert_exporter": "python",
   "pygments_lexer": "ipython3",
   "version": "3.10.5"
  }
 },
 "nbformat": 4,
 "nbformat_minor": 5
}
