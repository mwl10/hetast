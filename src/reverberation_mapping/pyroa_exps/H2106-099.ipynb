{
 "cells": [
  {
   "cell_type": "code",
   "execution_count": null,
   "id": "402271a5",
   "metadata": {},
   "outputs": [],
   "source": []
  },
  {
   "cell_type": "code",
   "execution_count": 1,
   "id": "9a9eaaf2",
   "metadata": {},
   "outputs": [],
   "source": [
    "import PyROA\n",
    "import os\n",
    "import glob\n",
    "import numpy as np\n",
    "import pandas as pd\n",
    "from matplotlib import pyplot as plt\n",
    "import torch\n",
    "import os\n",
    "import glob\n",
    "import scienceplots\n",
    "import sys\n",
    "sys.path.insert(0, os.path.abspath('../..'))\n",
    "import utils\n",
    "np.random.seed(2) \n",
    "torch.manual_seed(2)\n",
    "%load_ext autoreload"
   ]
  },
  {
   "cell_type": "code",
   "execution_count": 4,
   "id": "f80d7458",
   "metadata": {},
   "outputs": [],
   "source": [
    "%autoreload"
   ]
  },
  {
   "cell_type": "code",
   "execution_count": 2,
   "id": "93255146",
   "metadata": {},
   "outputs": [
    {
     "name": "stdout",
     "output_type": "stream",
     "text": [
      "found 1 for band='epoch5'\n",
      "found 2 for band='epoch2'\n",
      "found 2 for band='epoch3'\n",
      "found 2 for band='epoch4'\n",
      "found 2 for band='epoch1'\n",
      "found 1 for band='epoch6'\n",
      "found 3 for band='epoch0'\n",
      "max time:  59353.164\n",
      "created union_tp attribute of length 3500\n",
      "dataset created, lcs.dataset.shape=(1, 7, 238, 3)\n",
      "train size: 0, valid size: 0, test size: 1\n"
     ]
    }
   ],
   "source": [
    "lcs = utils.get_data('../../datasets/ZTF_rm_segments/H2106-099', start_col=0,sep=' ', norm=False, shuffle=False, keep_missing=True)"
   ]
  },
  {
   "cell_type": "code",
   "execution_count": 3,
   "id": "05427ba8",
   "metadata": {},
   "outputs": [
    {
     "data": {
      "text/html": [
       "<div>\n",
       "<style scoped>\n",
       "    .dataframe tbody tr th:only-of-type {\n",
       "        vertical-align: middle;\n",
       "    }\n",
       "\n",
       "    .dataframe tbody tr th {\n",
       "        vertical-align: top;\n",
       "    }\n",
       "\n",
       "    .dataframe thead th {\n",
       "        text-align: right;\n",
       "    }\n",
       "</style>\n",
       "<table border=\"1\" class=\"dataframe\">\n",
       "  <thead>\n",
       "    <tr style=\"text-align: right;\">\n",
       "      <th></th>\n",
       "      <th>epoch5</th>\n",
       "      <th>epoch2</th>\n",
       "      <th>epoch3</th>\n",
       "      <th>epoch4</th>\n",
       "      <th>epoch1</th>\n",
       "      <th>epoch6</th>\n",
       "      <th>epoch0</th>\n",
       "    </tr>\n",
       "  </thead>\n",
       "  <tbody>\n",
       "    <tr>\n",
       "      <th>MCG+08-11-011</th>\n",
       "      <td>../../datasets/ZTF_rm_segments/MCG+08-11-011/e...</td>\n",
       "      <td>../../datasets/ZTF_rm_segments/MCG+08-11-011/e...</td>\n",
       "      <td>../../datasets/ZTF_rm_segments/MCG+08-11-011/e...</td>\n",
       "      <td>../../datasets/ZTF_rm_segments/MCG+08-11-011/e...</td>\n",
       "      <td>../../datasets/ZTF_rm_segments/MCG+08-11-011/e...</td>\n",
       "      <td>../../datasets/ZTF_rm_segments/MCG+08-11-011/e...</td>\n",
       "      <td>../../datasets/ZTF_rm_segments/MCG+08-11-011/e...</td>\n",
       "    </tr>\n",
       "  </tbody>\n",
       "</table>\n",
       "</div>"
      ],
      "text/plain": [
       "                                                          epoch5  \\\n",
       "MCG+08-11-011  ../../datasets/ZTF_rm_segments/MCG+08-11-011/e...   \n",
       "\n",
       "                                                          epoch2  \\\n",
       "MCG+08-11-011  ../../datasets/ZTF_rm_segments/MCG+08-11-011/e...   \n",
       "\n",
       "                                                          epoch3  \\\n",
       "MCG+08-11-011  ../../datasets/ZTF_rm_segments/MCG+08-11-011/e...   \n",
       "\n",
       "                                                          epoch4  \\\n",
       "MCG+08-11-011  ../../datasets/ZTF_rm_segments/MCG+08-11-011/e...   \n",
       "\n",
       "                                                          epoch1  \\\n",
       "MCG+08-11-011  ../../datasets/ZTF_rm_segments/MCG+08-11-011/e...   \n",
       "\n",
       "                                                          epoch6  \\\n",
       "MCG+08-11-011  ../../datasets/ZTF_rm_segments/MCG+08-11-011/e...   \n",
       "\n",
       "                                                          epoch0  \n",
       "MCG+08-11-011  ../../datasets/ZTF_rm_segments/MCG+08-11-011/e...  "
      ]
     },
     "execution_count": 3,
     "metadata": {},
     "output_type": "execute_result"
    }
   ],
   "source": [
    "lcs.valid_files_df"
   ]
  },
  {
   "cell_type": "code",
   "execution_count": 2,
   "id": "6c4c258b",
   "metadata": {},
   "outputs": [
    {
     "name": "stdout",
     "output_type": "stream",
     "text": [
      "['../../datasets/ZTF_rm_segments/H2106-099/epoch0/', '../../datasets/ZTF_rm_segments/H2106-099/epoch1/', '../../datasets/ZTF_rm_segments/H2106-099/epoch2/', '../../datasets/ZTF_rm_segments/H2106-099/epoch3/', '../../datasets/ZTF_rm_segments/H2106-099/epoch4/'] 5\n"
     ]
    }
   ],
   "source": [
    "epoch_dirs = glob.glob('../../datasets/ZTF_rm_segments/H2106-099/*/')\n",
    "epoch_dirs.sort()\n",
    "print(epoch_dirs, len(epoch_dirs))\n",
    "\n",
    "filters = [\"g\",\"r\"] \n",
    "objName = \"H2106-099\"\n",
    "psi_types = [\"LogGaussian\", \"LogGaussian\"]\n",
    "\n",
    "\n",
    "default = [[0.0, 20.0],[0.0, 100.0], [-50.0, 50.0], [0.01, 10.0], [0.0, 10.0]]\n",
    "            # rms      # mean       # lag        # width of window  # extra error \n",
    "priors = [[0.0, 20.0], [0.0, 100.0], [-50.0, 50.0], [0.01, 10.0], [0.0, 10.0]]\n",
    "\n",
    "inc_window = [[0.0, 20.0], [0.0, 100.0], [-50.0, 50.0], [5,15], [0.0, 10.0]]\n",
    "init_delta = 10\n"
   ]
  },
  {
   "cell_type": "code",
   "execution_count": null,
   "id": "542ccaa6",
   "metadata": {},
   "outputs": [],
   "source": [
    "0-4 work for g and r"
   ]
  },
  {
   "cell_type": "code",
   "execution_count": null,
   "id": "39763da9",
   "metadata": {},
   "outputs": [],
   "source": []
  },
  {
   "cell_type": "markdown",
   "id": "f062d95f",
   "metadata": {},
   "source": [
    "# Segement 0"
   ]
  },
  {
   "cell_type": "code",
   "execution_count": null,
   "id": "79968f36",
   "metadata": {},
   "outputs": [],
   "source": [
    "fit = PyROA.Fit(epoch_dirs[0], objName, filters, priors, delay_dist=True, add_var=True, psi_types=psi_types)\n",
    "PyROA.Plot(fit)"
   ]
  },
  {
   "cell_type": "code",
   "execution_count": null,
   "id": "28d57f64",
   "metadata": {},
   "outputs": [],
   "source": []
  },
  {
   "cell_type": "code",
   "execution_count": null,
   "id": "bf5384f2",
   "metadata": {},
   "outputs": [],
   "source": []
  },
  {
   "cell_type": "markdown",
   "id": "2ddbd5b3",
   "metadata": {},
   "source": [
    "# Segment 1"
   ]
  },
  {
   "cell_type": "code",
   "execution_count": null,
   "id": "afa65f13",
   "metadata": {},
   "outputs": [],
   "source": [
    "fit = PyROA.Fit(epoch_dirs[1], objName, filters, priors, delay_dist=True, add_var=True, psi_types=psi_types)\n",
    "PyROA.Plot(fit)"
   ]
  },
  {
   "cell_type": "code",
   "execution_count": null,
   "id": "1d9f91e9",
   "metadata": {},
   "outputs": [],
   "source": []
  },
  {
   "cell_type": "code",
   "execution_count": null,
   "id": "52cb2f2c",
   "metadata": {},
   "outputs": [],
   "source": []
  },
  {
   "cell_type": "code",
   "execution_count": null,
   "id": "1e39f01e",
   "metadata": {},
   "outputs": [],
   "source": []
  },
  {
   "cell_type": "markdown",
   "id": "56c68363",
   "metadata": {},
   "source": [
    "# Segment 2"
   ]
  },
  {
   "cell_type": "code",
   "execution_count": null,
   "id": "9374cb55",
   "metadata": {},
   "outputs": [],
   "source": [
    "fit = PyROA.Fit(epoch_dirs[2], objName, filters, priors, delay_dist=True, add_var=True, psi_types=psi_types)\n",
    "PyROA.Plot(fit)"
   ]
  },
  {
   "cell_type": "code",
   "execution_count": null,
   "id": "cbc414cb",
   "metadata": {},
   "outputs": [],
   "source": []
  },
  {
   "cell_type": "code",
   "execution_count": null,
   "id": "c89b01cc",
   "metadata": {},
   "outputs": [],
   "source": []
  },
  {
   "cell_type": "markdown",
   "id": "2b02ea9a",
   "metadata": {},
   "source": [
    "# Segment 3"
   ]
  },
  {
   "cell_type": "code",
   "execution_count": null,
   "id": "a83f8255",
   "metadata": {},
   "outputs": [],
   "source": [
    "fit = PyROA.Fit(epoch_dirs[3], objName, filters, priors, delay_dist=True, add_var=True, psi_types=psi_types)\n",
    "PyROA.Plot(fit)"
   ]
  },
  {
   "cell_type": "code",
   "execution_count": null,
   "id": "c5862d68",
   "metadata": {},
   "outputs": [],
   "source": []
  },
  {
   "cell_type": "markdown",
   "id": "16db09b2",
   "metadata": {},
   "source": [
    "# Segment 4"
   ]
  },
  {
   "cell_type": "code",
   "execution_count": null,
   "id": "c48c564c",
   "metadata": {},
   "outputs": [],
   "source": [
    "fit = PyROA.Fit(epoch_dirs[4], objName, filters, priors, delay_dist=True, add_var=True, psi_types=psi_types)\n",
    "PyROA.Plot(fit)"
   ]
  }
 ],
 "metadata": {
  "kernelspec": {
   "display_name": "hetvae",
   "language": "python",
   "name": "hetvae"
  },
  "language_info": {
   "codemirror_mode": {
    "name": "ipython",
    "version": 3
   },
   "file_extension": ".py",
   "mimetype": "text/x-python",
   "name": "python",
   "nbconvert_exporter": "python",
   "pygments_lexer": "ipython3",
   "version": "3.10.5"
  }
 },
 "nbformat": 4,
 "nbformat_minor": 5
}
