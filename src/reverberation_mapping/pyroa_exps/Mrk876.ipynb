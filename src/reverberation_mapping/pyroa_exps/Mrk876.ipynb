{
 "cells": [
  {
   "cell_type": "code",
   "execution_count": null,
   "id": "df3b6435",
   "metadata": {},
   "outputs": [],
   "source": []
  },
  {
   "cell_type": "code",
   "execution_count": 1,
   "id": "4b2a98b6",
   "metadata": {},
   "outputs": [],
   "source": [
    "import PyROA\n",
    "import os\n",
    "import glob\n",
    "import numpy as np\n",
    "import pandas as pd\n",
    "from matplotlib import pyplot as plt\n",
    "import torch\n",
    "import os\n",
    "import glob\n",
    "import scienceplots\n",
    "import sys\n",
    "sys.path.insert(0, os.path.abspath('../..'))\n",
    "import utils\n",
    "np.random.seed(2) \n",
    "torch.manual_seed(2)\n",
    "%load_ext autoreload"
   ]
  },
  {
   "cell_type": "code",
   "execution_count": 2,
   "id": "2cc0f05c",
   "metadata": {},
   "outputs": [],
   "source": [
    "%autoreload"
   ]
  },
  {
   "cell_type": "code",
   "execution_count": 3,
   "id": "d7b52277",
   "metadata": {},
   "outputs": [
    {
     "ename": "Exception",
     "evalue": "../../datasets/ZTF_rm_segments/Mrk876 is not a directory",
     "output_type": "error",
     "traceback": [
      "\u001b[0;31m---------------------------------------------------------------------------\u001b[0m",
      "\u001b[0;31mException\u001b[0m                                 Traceback (most recent call last)",
      "Input \u001b[0;32mIn [3]\u001b[0m, in \u001b[0;36m<cell line: 1>\u001b[0;34m()\u001b[0m\n\u001b[0;32m----> 1\u001b[0m lcs \u001b[38;5;241m=\u001b[39m \u001b[43mutils\u001b[49m\u001b[38;5;241;43m.\u001b[39;49m\u001b[43mget_data\u001b[49m\u001b[43m(\u001b[49m\u001b[38;5;124;43m'\u001b[39;49m\u001b[38;5;124;43m../../datasets/ZTF_rm_segments/Mrk876\u001b[39;49m\u001b[38;5;124;43m'\u001b[39;49m\u001b[43m,\u001b[49m\u001b[43m \u001b[49m\u001b[43mstart_col\u001b[49m\u001b[38;5;241;43m=\u001b[39;49m\u001b[38;5;241;43m0\u001b[39;49m\u001b[43m,\u001b[49m\u001b[43msep\u001b[49m\u001b[38;5;241;43m=\u001b[39;49m\u001b[38;5;124;43m'\u001b[39;49m\u001b[38;5;124;43m \u001b[39;49m\u001b[38;5;124;43m'\u001b[39;49m\u001b[43m,\u001b[49m\u001b[43m \u001b[49m\u001b[43mnorm\u001b[49m\u001b[38;5;241;43m=\u001b[39;49m\u001b[38;5;28;43;01mFalse\u001b[39;49;00m\u001b[43m,\u001b[49m\u001b[43m \u001b[49m\u001b[43mshuffle\u001b[49m\u001b[38;5;241;43m=\u001b[39;49m\u001b[38;5;28;43;01mFalse\u001b[39;49;00m\u001b[43m,\u001b[49m\u001b[43m \u001b[49m\u001b[43mkeep_missing\u001b[49m\u001b[38;5;241;43m=\u001b[39;49m\u001b[38;5;28;43;01mTrue\u001b[39;49;00m\u001b[43m)\u001b[49m\n",
      "File \u001b[0;32m~/Desktop/Desko/code/astro/hetast/src/utils.py:91\u001b[0m, in \u001b[0;36mget_data\u001b[0;34m(folder, sep, start_col, batch_size, min_length, n_union_tp, num_resamples, shuffle, chop, test_split, seed, keep_missing, norm)\u001b[0m\n\u001b[1;32m     89\u001b[0m np\u001b[38;5;241m.\u001b[39mrandom\u001b[38;5;241m.\u001b[39mseed(seed\u001b[38;5;241m=\u001b[39mseed) \n\u001b[1;32m     90\u001b[0m torch\u001b[38;5;241m.\u001b[39mmanual_seed(seed\u001b[38;5;241m=\u001b[39mseed)\n\u001b[0;32m---> 91\u001b[0m \u001b[38;5;28;01mif\u001b[39;00m folder\u001b[38;5;241m.\u001b[39mlower()\u001b[38;5;241m.\u001b[39mfind(\u001b[38;5;124m'\u001b[39m\u001b[38;5;124mztf\u001b[39m\u001b[38;5;124m'\u001b[39m) \u001b[38;5;241m>\u001b[39m \u001b[38;5;241m0\u001b[39m: lcs \u001b[38;5;241m=\u001b[39m \u001b[43mZtfDataSet\u001b[49m\u001b[43m(\u001b[49m\u001b[43mfolder\u001b[49m\u001b[43m)\u001b[49m\n\u001b[1;32m     92\u001b[0m \u001b[38;5;28;01melse\u001b[39;00m: lcs \u001b[38;5;241m=\u001b[39m DataSet(folder)\n\u001b[1;32m     93\u001b[0m lcs\u001b[38;5;241m.\u001b[39mfiles_to_df()\n",
      "File \u001b[0;32m~/Desktop/Desko/code/astro/hetast/src/dataset.py:313\u001b[0m, in \u001b[0;36mZtfDataSet.__init__\u001b[0;34m(self, folder)\u001b[0m\n\u001b[1;32m    312\u001b[0m \u001b[38;5;28;01mdef\u001b[39;00m \u001b[38;5;21m__init__\u001b[39m(\u001b[38;5;28mself\u001b[39m, folder):\n\u001b[0;32m--> 313\u001b[0m     \u001b[38;5;28;43msuper\u001b[39;49m\u001b[43m(\u001b[49m\u001b[43m)\u001b[49m\u001b[38;5;241;43m.\u001b[39;49m\u001b[38;5;21;43m__init__\u001b[39;49m\u001b[43m(\u001b[49m\u001b[43mfolder\u001b[49m\u001b[43m)\u001b[49m\n",
      "File \u001b[0;32m~/Desktop/Desko/code/astro/hetast/src/dataset.py:14\u001b[0m, in \u001b[0;36mDataSet.__init__\u001b[0;34m(self, folder)\u001b[0m\n\u001b[1;32m     12\u001b[0m     \u001b[38;5;28mself\u001b[39m\u001b[38;5;241m.\u001b[39mfolder \u001b[38;5;241m=\u001b[39m folder\n\u001b[1;32m     13\u001b[0m \u001b[38;5;28;01melse\u001b[39;00m:\n\u001b[0;32m---> 14\u001b[0m     \u001b[38;5;28;01mraise\u001b[39;00m \u001b[38;5;167;01mException\u001b[39;00m(\u001b[38;5;124mf\u001b[39m\u001b[38;5;124m\"\u001b[39m\u001b[38;5;132;01m{\u001b[39;00mfolder\u001b[38;5;132;01m}\u001b[39;00m\u001b[38;5;124m is not a directory\u001b[39m\u001b[38;5;124m\"\u001b[39m) \n\u001b[1;32m     15\u001b[0m \u001b[38;5;28mself\u001b[39m\u001b[38;5;241m.\u001b[39mvalid_files_df \u001b[38;5;241m=\u001b[39m pd\u001b[38;5;241m.\u001b[39mDataFrame() \u001b[38;5;66;03m# keep track of the files across dimensions\u001b[39;00m\n\u001b[1;32m     16\u001b[0m \u001b[38;5;28mself\u001b[39m\u001b[38;5;241m.\u001b[39mbands \u001b[38;5;241m=\u001b[39m []                      \u001b[38;5;66;03m# array of band names\u001b[39;00m\n",
      "\u001b[0;31mException\u001b[0m: ../../datasets/ZTF_rm_segments/Mrk876 is not a directory"
     ]
    }
   ],
   "source": [
    "lcs = utils.get_data('../../datasets/ZTF_rm_segments/Mrk876', start_col=0,sep=' ', norm=False, shuffle=False, keep_missing=True)"
   ]
  },
  {
   "cell_type": "code",
   "execution_count": null,
   "id": "89eaf1f1",
   "metadata": {},
   "outputs": [],
   "source": [
    "lcs.valid_files_df"
   ]
  },
  {
   "cell_type": "code",
   "execution_count": null,
   "id": "148838db",
   "metadata": {},
   "outputs": [],
   "source": [
    "epoch_dirs = glob.glob('../../datasets/ZTF_rm_segments/Mrk876/*/')\n",
    "epoch_dirs.sort()\n",
    "print(epoch_dirs, len(epoch_dirs))\n",
    "\n",
    "filters = [\"g\",\"r\"] \n",
    "objName = \"MCG+08-11-011\"\n",
    "psi_types = [\"LogGaussian\"]\n",
    "\n",
    "\n",
    "default = [[0.0, 20.0],[0.0, 100.0], [-50.0, 50.0], [0.01, 10.0], [0.0, 10.0]]\n",
    "            # rms      # mean       # lag        # width of window  # extra error \n",
    "priors = [[0.0, 20.0], [0.0, 100.0], [-50.0, 50.0], [0.01, 10.0], [0.0, 10.0]]\n",
    "\n",
    "inc_window = [[0.0, 20.0], [0.0, 100.0], [-50.0, 50.0], [10,30], [0.0, 10.0]]\n",
    " \n"
   ]
  },
  {
   "cell_type": "code",
   "execution_count": null,
   "id": "5f24cb4a",
   "metadata": {},
   "outputs": [],
   "source": []
  }
 ],
 "metadata": {
  "kernelspec": {
   "display_name": "hetvae",
   "language": "python",
   "name": "hetvae"
  },
  "language_info": {
   "codemirror_mode": {
    "name": "ipython",
    "version": 3
   },
   "file_extension": ".py",
   "mimetype": "text/x-python",
   "name": "python",
   "nbconvert_exporter": "python",
   "pygments_lexer": "ipython3",
   "version": "3.10.5"
  }
 },
 "nbformat": 4,
 "nbformat_minor": 5
}
