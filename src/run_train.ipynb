{
 "cells": [
  {
   "cell_type": "code",
   "execution_count": 50,
   "id": "c6e856a7",
   "metadata": {},
   "outputs": [],
   "source": [
    "import matplotlib.pyplot as plt\n",
    "%matplotlib inline\n",
    "import numpy as np"
   ]
  },
  {
   "cell_type": "code",
   "execution_count": 35,
   "id": "1f0800ad",
   "metadata": {},
   "outputs": [
    {
     "name": "stdout",
     "output_type": "stream",
     "text": [
      "The autoreload extension is already loaded. To reload it, use:\n",
      "  %reload_ext autoreload\n"
     ]
    }
   ],
   "source": [
    "%load_ext autoreload\n",
    "%autoreload"
   ]
  },
  {
   "cell_type": "code",
   "execution_count": 57,
   "id": "4331d521",
   "metadata": {},
   "outputs": [
    {
     "name": "stdout",
     "output_type": "stream",
     "text": [
      "Namespace(device='mps', checkpoint='', early_stopping=False, patience=50, save_at=10, scheduler=False, warmup=4000, data_folder='synth_test_data', start_col=0, inc_errors=False, print_at=10, embed_time=32, enc_num_heads=1, intensity=False, latent_dim=32, mixing='concat', net='hetvae', num_ref_points=32, rec_hidden=32, width=512, frac=0.9, batch_size=8, niters=10000, bound_variance=True, const_var=False, dropout=0.0, elbo_weight=1.0, k_iwae=1, kl_annealing=True, kl_zero=False, lr=0.001, mse_weight=5.0, norm=False, normalize_input='znorm', sample_tp=0.5, save=True, seed=0, shuffle=True, std=0.1, var_per_dim=False) 2927074\n",
      "validated 41 files out of 41 for band='simband1'\n",
      "created union_tp attribute of length 5068\n",
      "dataset created w/ shape (40, 1, 180, 3)\n",
      "train size: 32, valid size: 7, test size: 8\n",
      "model_size=60226\n",
      "/Users/mattlowery/Desktop/code/astro/hetvae/src/layers.py:85: UserWarning: The operator 'aten::repeat_interleave.self_int' is not currently supported on the MPS backend and will fall back to run on the CPU. This may have performance implications. (Triggered internally at /Users/runner/work/_temp/anaconda/conda-bld/pytorch_1660029059141/work/aten/src/ATen/mps/MPSFallback.mm:11.)\n",
      "  scores = scores.unsqueeze(-1).repeat_interleave(dim, dim=-1)\n",
      "1,2,3,4,5,6,7,8,9,10,\tIter: 10, train loss: 6.5572, avg nll: 1.4322, avg wnll: 1127.0468, avg kl: 8.6099, mse: 1.025004, wmse: 2546.533936, mae: 0.846421\n",
      "saving.................\n",
      "done\n",
      "11,12,13,14,15,16,17,18,19,20,\tIter: 20, train loss: 6.1625, avg nll: 1.3959, avg wnll: 1128.8818, avg kl: 9.2351, mse: 0.953328, wmse: 2199.381836, mae: 0.795721\n",
      "saving.................\n",
      "done\n",
      "21,22,23,24,25,26,27,^C\n",
      "Traceback (most recent call last):\n",
      "  File \"/Users/mattlowery/Desktop/code/astro/hetvae/src/train.py\", line 235, in <module>\n",
      "    main()\n",
      "  File \"/Users/mattlowery/Desktop/code/astro/hetvae/src/train.py\", line 230, in main\n",
      "    train(args)\n",
      "  File \"/Users/mattlowery/Desktop/code/astro/hetvae/src/train.py\", line 91, in train\n",
      "    loss_info = net.compute_unsupervised_loss(\n",
      "  File \"/Users/mattlowery/Desktop/code/astro/hetvae/src/vae_model.py\", line 261, in compute_unsupervised_loss\n",
      "    loss_info.mogloglik = self.compute_mog_loglik(target_y, px)\n",
      "  File \"/Users/mattlowery/Desktop/code/astro/hetvae/src/vae_model.py\", line 212, in compute_mog_loglik\n",
      "    loglik = utils.mog_log_pdf(target, px.mean, px.logvar, mask)\n",
      "  File \"/Users/mattlowery/Desktop/code/astro/hetvae/src/utils.py\", line 428, in mog_log_pdf\n",
      "    const2 = torch.from_numpy(np.array([mean.size(0)])).float().to(x.device)\n",
      "KeyboardInterrupt\n",
      "\u001b[0m"
     ]
    }
   ],
   "source": [
    "! python3 train.py \\\n",
    "    --data-folder synth_test_data \\\n",
    "    --device mps \\\n",
    "    --niters 10000 \\\n",
    "    --start-col 0 \\\n",
    "    --save-at 10 \\\n",
    "    --bound-variance \\\n",
    "    --kl-annealing \\\n",
    "    --lr 0.001 \\\n",
    "    --print-at 10 \\\n",
    "    --frac 0.9"
   ]
  },
  {
   "cell_type": "code",
   "execution_count": 55,
   "id": "2be9f974",
   "metadata": {},
   "outputs": [
    {
     "name": "stdout",
     "output_type": "stream",
     "text": [
      "validated 41 files out of 41 for band='simband1'\n",
      "created union_tp attribute of length 5068\n",
      "dataset created w/ shape (40, 1, 180, 3)\n",
      "train size: 32, valid size: 7, test size: 8\n",
      "\u001b[32m[I 2022-12-30 16:17:40,296]\u001b[0m A new study created in memory with name: no-name-0e1a829d-81f4-4404-b48a-23e5175b3d20\u001b[0m\n",
      "/Users/mattlowery/Desktop/code/astro/hetvae/src/layers.py:85: UserWarning: The operator 'aten::repeat_interleave.self_int' is not currently supported on the MPS backend and will fall back to run on the CPU. This may have performance implications. (Triggered internally at /Users/runner/work/_temp/anaconda/conda-bld/pytorch_1660029059141/work/aten/src/ATen/mps/MPSFallback.mm:11.)\n",
      "  scores = scores.unsqueeze(-1).repeat_interleave(dim, dim=-1)\n",
      "1,2,3,4,5,6,7,8,9,10,\tIter: 10, train loss: 2.7614, avg nll: 1.4219, avg wnll: 1089.8135, avg kl: 1.1042, mse: 1.006820, wmse: 2283.653076, mae: 0.827209\n",
      "\u001b[32m[I 2022-12-30 16:17:45,162]\u001b[0m Trial 0 finished with value: 1.4276740550994873 and parameters: {'enc_num_heads': 2, 'mse_weight': 1.3304870905528836}. Best is trial 0 with value: 1.4276740550994873.\u001b[0m\n",
      "1,2,3,4,5,6,7,8,9,10,\tIter: 10, train loss: 6.5409, avg nll: 1.4129, avg wnll: 1091.6573, avg kl: 0.5846, mse: 0.991871, wmse: 2263.258301, mae: 0.818012\n",
      "\u001b[32m[I 2022-12-30 16:18:09,604]\u001b[0m Trial 1 finished with value: 1.4308563470840454 and parameters: {'enc_num_heads': 16, 'mse_weight': 5.170033317762526}. Best is trial 0 with value: 1.4276740550994873.\u001b[0m\n",
      "1,2,3,4,5,6,7,8,9,10,\tIter: 10, train loss: 6.8410, avg nll: 1.4220, avg wnll: 1106.9640, avg kl: 1.1688, mse: 1.005394, wmse: 2282.668945, mae: 0.826250\n",
      "\u001b[32m[I 2022-12-30 16:18:13,913]\u001b[0m Trial 2 finished with value: 1.4278943538665771 and parameters: {'enc_num_heads': 2, 'mse_weight': 5.389958824740462}. Best is trial 0 with value: 1.4276740550994873.\u001b[0m\n",
      "1,2,3,4,5,6,7,8,9,10,\tIter: 10, train loss: 7.1012, avg nll: 1.4129, avg wnll: 1081.7368, avg kl: 0.5793, mse: 0.991758, wmse: 2262.354492, mae: 0.817972\n",
      "\u001b[32m[I 2022-12-30 16:18:38,027]\u001b[0m Trial 3 finished with value: 1.4313613176345825 and parameters: {'enc_num_heads': 16, 'mse_weight': 5.73555895058918}. Best is trial 0 with value: 1.4276740550994873.\u001b[0m\n",
      "1,2,3,4,5,6,7,8,9,10,\tIter: 10, train loss: 6.0829, avg nll: 1.4272, avg wnll: 943.0409, avg kl: 1.1440, mse: 1.000718, wmse: 2261.701904, mae: 0.821630\n",
      "\u001b[32m[I 2022-12-30 16:18:45,450]\u001b[0m Trial 4 finished with value: 1.4321744441986084 and parameters: {'enc_num_heads': 4, 'mse_weight': 4.652298666139272}. Best is trial 0 with value: 1.4276740550994873.\u001b[0m\n",
      "1,\u001b[32m[I 2022-12-30 16:18:47,163]\u001b[0m Trial 5 pruned. \u001b[0m\n",
      "1,\u001b[32m[I 2022-12-30 16:18:47,885]\u001b[0m Trial 6 pruned. \u001b[0m\n",
      "1,\u001b[32m[I 2022-12-30 16:18:48,584]\u001b[0m Trial 7 pruned. \u001b[0m\n",
      "1,2,3,4,\u001b[32m[I 2022-12-30 16:18:59,063]\u001b[0m Trial 8 pruned. \u001b[0m\n",
      "1,\u001b[32m[I 2022-12-30 16:18:59,836]\u001b[0m Trial 9 pruned. \u001b[0m\n",
      "Study statistics: \n",
      "  Number of finished trials:  10\n",
      "  Number of pruned trials:  5\n",
      "  Number of complete trials:  5\n",
      "Best trial:\n",
      "  Value:  1.4276740550994873\n",
      "  Params: \n",
      "    enc_num_heads: 2\n",
      "    mse_weight: 1.3304870905528836\n",
      "\u001b[0m"
     ]
    }
   ],
   "source": [
    "! python3 optuna_train.py 10 10"
   ]
  },
  {
   "cell_type": "code",
   "execution_count": null,
   "id": "39fc16ab",
   "metadata": {},
   "outputs": [],
   "source": []
  }
 ],
 "metadata": {
  "kernelspec": {
   "display_name": "hetvae",
   "language": "python",
   "name": "hetvae"
  },
  "language_info": {
   "codemirror_mode": {
    "name": "ipython",
    "version": 3
   },
   "file_extension": ".py",
   "mimetype": "text/x-python",
   "name": "python",
   "nbconvert_exporter": "python",
   "pygments_lexer": "ipython3",
   "version": "3.10.5"
  }
 },
 "nbformat": 4,
 "nbformat_minor": 5
}
