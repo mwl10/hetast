{
 "cells": [
  {
   "cell_type": "code",
   "execution_count": 50,
   "id": "0ac8c594",
   "metadata": {},
   "outputs": [],
   "source": [
    "import matplotlib.pyplot as plt\n",
    "%matplotlib inline"
   ]
  },
  {
   "cell_type": "code",
   "execution_count": 51,
   "id": "df1cc376",
   "metadata": {},
   "outputs": [],
   "source": [
    "import warnings\n",
    "import numpy as np\n",
    "warnings.simplefilter('ignore', np.RankWarning)\n",
    "\n",
    "# latexify "
   ]
  },
  {
   "cell_type": "code",
   "execution_count": 35,
   "id": "16942601",
   "metadata": {},
   "outputs": [
    {
     "name": "stdout",
     "output_type": "stream",
     "text": [
      "The autoreload extension is already loaded. To reload it, use:\n",
      "  %reload_ext autoreload\n"
     ]
    }
   ],
   "source": [
    "%load_ext autoreload\n",
    "%autoreload"
   ]
  },
  {
   "cell_type": "code",
   "execution_count": 36,
   "id": "21fd9975",
   "metadata": {
    "collapsed": true,
    "jupyter": {
     "outputs_hidden": true
    }
   },
   "outputs": [
    {
     "name": "stdout",
     "output_type": "stream",
     "text": [
      "^C\n",
      "Traceback (most recent call last):\n",
      "  File \"/Users/mattlowery/Desktop/code/astro/hetvae/src/optuna_train.py\", line 17, in <module>\n",
      "    LCS = my_utils.get_data('./ZTF_g', seed = 0, start_col=1)\n",
      "  File \"/Users/mattlowery/Desktop/code/astro/hetvae/src/my_utils.py\", line 54, in get_data\n",
      "    lcs.add_band(band, os.path.join(folder, band_folder))\n",
      "  File \"/Users/mattlowery/Desktop/code/astro/hetvae/src/dataset.py\", line 259, in add_band\n",
      "    lc = pd.read_csv(file, sep=sep)\n",
      "  File \"/opt/homebrew/Caskroom/miniforge/base/envs/hetvae/lib/python3.10/site-packages/pandas/util/_decorators.py\", line 311, in wrapper\n",
      "    return func(*args, **kwargs)\n",
      "  File \"/opt/homebrew/Caskroom/miniforge/base/envs/hetvae/lib/python3.10/site-packages/pandas/io/parsers/readers.py\", line 680, in read_csv\n",
      "    return _read(filepath_or_buffer, kwds)\n",
      "  File \"/opt/homebrew/Caskroom/miniforge/base/envs/hetvae/lib/python3.10/site-packages/pandas/io/parsers/readers.py\", line 581, in _read\n",
      "    return parser.read(nrows)\n",
      "  File \"/opt/homebrew/Caskroom/miniforge/base/envs/hetvae/lib/python3.10/site-packages/pandas/io/parsers/readers.py\", line 1255, in read\n",
      "    index, columns, col_dict = self._engine.read(nrows)\n",
      "  File \"/opt/homebrew/Caskroom/miniforge/base/envs/hetvae/lib/python3.10/site-packages/pandas/io/parsers/c_parser_wrapper.py\", line 227, in read\n",
      "    data = _concatenate_chunks(chunks)\n",
      "  File \"/opt/homebrew/Caskroom/miniforge/base/envs/hetvae/lib/python3.10/site-packages/pandas/io/parsers/c_parser_wrapper.py\", line 394, in _concatenate_chunks\n",
      "    result[name] = np.concatenate(arrs)  # type: ignore[arg-type]\n",
      "  File \"<__array_function__ internals>\", line 179, in concatenate\n",
      "  File \"/opt/homebrew/Caskroom/miniforge/base/envs/hetvae/lib/python3.10/site-packages/numpy/core/multiarray.py\", line 242, in concatenate\n",
      "    if out is not None:\n",
      "KeyboardInterrupt\n",
      "\u001b[0m"
     ]
    }
   ],
   "source": [
    "! python3 optuna_train.py 1 1"
   ]
  },
  {
   "cell_type": "code",
   "execution_count": 37,
   "id": "4fa68846",
   "metadata": {},
   "outputs": [
    {
     "name": "stdout",
     "output_type": "stream",
     "text": [
      "Namespace(device='mps', checkpoint='', early_stopping=False, patience=50, save_at=1000, scheduler=False, warmup=4000, data_folder='ZTF_g', start_col=1, inc_errors=False, print_at=1, embed_time=32, enc_num_heads=1, intensity=False, latent_dim=32, mixing='concat', net='hetvae', num_ref_points=32, rec_hidden=32, width=512, batch_size=8, niters=10, bound_variance=True, const_var=False, dropout=0.0, elbo_weight=1.0, k_iwae=1, kl_annealing=True, kl_zero=False, lr=0.001, mse_weight=5.0, norm=False, normalize_input='znorm', sample_tp=0.5, save=True, seed=0, shuffle=True, std=0.1, var_per_dim=False) 1457609\n",
      "validated 3009 files out of 3398 for band='g'\n",
      "created union_tp attribute of length 77070\n",
      "dataset created w/ shape (3009, 1, 2102, 3)\n",
      "train size: 2407, valid size: 482, test size: 602\n",
      "(3009, 1, 2102, 3)\n",
      "model_size=60226\n",
      "/Users/mattlowery/Desktop/code/astro/hetvae/src/layers.py:85: UserWarning: The operator 'aten::repeat_interleave.self_int' is not currently supported on the MPS backend and will fall back to run on the CPU. This may have performance implications. (Triggered internally at /Users/runner/work/_temp/anaconda/conda-bld/pytorch_1660029059141/work/aten/src/ATen/mps/MPSFallback.mm:11.)\n",
      "  scores = scores.unsqueeze(-1).repeat_interleave(dim, dim=-1)\n",
      "1,\tIter: 1, train loss: 6.4874, avg nll: 1.4263, avg wnll: 6.2659, avg kl: 4.3630, mse: 1.012222, wmse: 14.727682, mae: 0.814108\n",
      "2,\tIter: 2, train loss: 6.4709, avg nll: 1.4238, avg wnll: 6.1995, avg kl: 12.2081, mse: 1.009425, wmse: 14.689707, mae: 0.811494\n",
      "3,\tIter: 3, train loss: 6.3994, avg nll: 1.4197, avg wnll: 6.1806, avg kl: 16.0992, mse: 0.995928, wmse: 14.452428, mae: 0.805556\n",
      "^C\n",
      "[E thread_pool.cpp:113] Exception in thread pool task: mutex lock failed: Invalid argument\n",
      "[E thread_pool.cpp:113] Exception in thread pool task: mutex lock failed: Invalid argument\n",
      "[E thread_pool.cpp:113] Exception in thread pool task: mutex lock failed: Invalid argument\n",
      "Traceback (most recent call last):\n",
      "  File \"/Users/mattlowery/Desktop/code/astro/hetvae/src/train.py\", line 237, in <module>\n",
      "    main()\n",
      "  File \"/Users/mattlowery/Desktop/code/astro/hetvae/src/train.py\", line 232, in main\n",
      "    train(args)\n",
      "  File \"/Users/mattlowery/Desktop/code/astro/hetvae/src/train.py\", line 95, in train\n",
      "    loss_info = net.compute_unsupervised_loss(\n",
      "  File \"/Users/mattlowery/Desktop/code/astro/hetvae/src/vae_model.py\", line 236, in compute_unsupervised_loss\n",
      "    px, qz = self.get_reconstruction(\n",
      "  File \"/Users/mattlowery/Desktop/code/astro/hetvae/src/vae_model.py\", line 181, in get_reconstruction\n",
      "    px = self.decode(z, target_x)\n",
      "  File \"/Users/mattlowery/Desktop/code/astro/hetvae/src/vae_model.py\", line 148, in decode\n",
      "    hidden = self.decoder(target_x, self.query, z)\n",
      "  File \"/opt/homebrew/Caskroom/miniforge/base/envs/hetvae/lib/python3.10/site-packages/torch/nn/modules/module.py\", line 1186, in _call_impl\n",
      "    return forward_call(*input, **kwargs)\n",
      "  File \"/Users/mattlowery/Desktop/code/astro/hetvae/src/layers.py\", line 124, in forward\n",
      "    x, intensity = self.attention(query, key, value, mask, self.dropout)\n",
      "  File \"/Users/mattlowery/Desktop/code/astro/hetvae/src/layers.py\", line 85, in attention\n",
      "    scores = scores.unsqueeze(-1).repeat_interleave(dim, dim=-1)\n",
      "KeyboardInterrupt\n",
      "\u001b[0m"
     ]
    }
   ],
   "source": [
    "! python3 train.py \\\n",
    "    --data-folder ZTF_g \\\n",
    "    --device mps \\\n",
    "    --niters 10 \\\n",
    "    --start-col 1 \\\n",
    "    --save-at 1000 \\\n",
    "    --bound-variance \\\n",
    "    --kl-annealing \\\n",
    "    --lr 0.001 \\\n",
    "    --print-at 1"
   ]
  },
  {
   "cell_type": "code",
   "execution_count": null,
   "id": "0c180ceb",
   "metadata": {},
   "outputs": [],
   "source": [
    "# how do we handle not having info in a particular band / not having enough "
   ]
  }
 ],
 "metadata": {
  "kernelspec": {
   "display_name": "hetvae",
   "language": "python",
   "name": "hetvae"
  },
  "language_info": {
   "codemirror_mode": {
    "name": "ipython",
    "version": 3
   },
   "file_extension": ".py",
   "mimetype": "text/x-python",
   "name": "python",
   "nbconvert_exporter": "python",
   "pygments_lexer": "ipython3",
   "version": "3.10.5"
  }
 },
 "nbformat": 4,
 "nbformat_minor": 5
}
